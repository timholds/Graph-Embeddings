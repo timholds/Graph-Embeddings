{
 "cells": [
  {
   "cell_type": "code",
   "execution_count": null,
   "metadata": {},
   "outputs": [],
   "source": [
    "import json\n",
    "from py2neo import Graph, Node, Relationship\n",
    "#from py2neo.Graph import database \n",
    "\n",
    "# Need to get authentication working, currently NEO4J_AUTH=none\n",
    "graph = Graph(\"bolt://neo4j:7687\")\n",
    "# graph = Graph('bolt://localhost:7687', bolt=True)\n",
    "\n",
    "#graph.delete_all()\n",
    "\n",
    "n_nodes = graph.database.primitive_counts['NumberOfNodeIdsInUse']\n",
    "n_relationships = graph.database.primitive_counts['NumberOfRelationshipIdsInUse']\n",
    "print(\"Connected to graph database with {:,} nodes and {:,} relationships!\".format\n",
    "     (n_nodes, n_relationships))"
   ]
  },
  {
   "cell_type": "code",
   "execution_count": null,
   "metadata": {},
   "outputs": [],
   "source": [
    "import time\n",
    "import pandas as pd"
   ]
  },
  {
   "cell_type": "code",
   "execution_count": null,
   "metadata": {},
   "outputs": [],
   "source": [
    "venue = \"\" # \"\"\"(q.venue=\"CA: A Cancer Journal for Clinicians\" OR q.venue=\"The New England Journal of Medicine\" OR q.venue=\"The Lancet\" OR q.venue=\"Chemical Reviews\" OR q.venue=\"Nature Reviews Drug Discovery\" OR q.venue=\"JAMA\" OR q.venue=\"Nature Reviews Cancer\" OR q.venue=\"Nature Reviews Immunology\" OR q.venue=\"Nature\" OR q.venue=\"Nature Reviews Genetics\" OR q.venue=\"Science\" OR q.venue=\"Chemical Society Reviews\" OR q.venue=\"Nature Materials\" OR q.venue=\"Nature Nanotechnology\" OR q.venue=\"Lancet Oncology\" OR q.venue=\"Reviews of Modern Physics\" OR q.venue=\"Nature Biotechnology\" OR q.venue=\"Nature Reviews Molecular Cell Biology\" OR q.venue=\"Nature Reviews Neuroscience\" OR q.venue=\"Nature Medicine\" OR q.venue=\"Nature Photonics\" OR q.venue=\"Nature Reviews Microbiology\" OR q.venue=\"Cell\" OR q.venue=\"Advances in Physics\" OR q.venue=\"Energy and Environmental Science\" OR q.venue=\"World Psychiatry\") AND \"\"\"\n",
    "min_total_citations = 100\n",
    "starting_year = 2012\n",
    "n_years = 5\n",
    "cite_multiple = 1.5\n",
    "min_multiple_count = 2\n",
    "cite_count_string = \"\\t\"+\",\\n\\t\".join([\"SIZE((q)<-[:CITES]-(:Quanta {{year: q.year+{}}})) as c{}\".format(i,i) for i in range(1,n_years+1)])\n",
    "cite_multiple_string = \"\\t\"+\",\\n\\t\".join([\"CASE WHEN (c{} > {}*c{}) THEN 1 ELSE 0 END as b{}\".format(i+1,cite_multiple,i,i) for i in range(1,n_years)])\n",
    "c_string = \", \".join([\"c{}\".format(i) for i in range(1,n_years+1)])\n",
    "b_string = \"+\".join([\"b{}\".format(i) for i in range(1,n_years)])\n",
    "\n",
    "query = \"\"\"\n",
    "MATCH (q:Quanta) \n",
    "WHERE EXISTS(q.fos) AND (q.n_citation>{}) AND (q.year>={}) {}\n",
    "WITH q.title as title, q.venue as venue, q.year as year, q.n_citation as n_citation, q.pageRank_2018 as pagerank,\n",
    "    {}\n",
    "WITH *,\n",
    "    {}\n",
    "WHERE ({})>={}\n",
    "RETURN title, venue, year, n_citation, {}, pagerank, {} as sum_bool\n",
    "\"\"\".format(min_total_citations, starting_year, venue, cite_count_string, cite_multiple_string, b_string, min_multiple_count, c_string, b_string)\n",
    "\n",
    "print(query)\n",
    "query_start_time = time.time()\n",
    "# df = graph.run(query).to_data_frame()\n",
    "query_end_time = time.time()\n",
    "print(\"Done in ({:.2f} minutes).\".format((query_end_time-query_start_time)/60))"
   ]
  },
  {
   "cell_type": "code",
   "execution_count": null,
   "metadata": {},
   "outputs": [],
   "source": [
    "# Get citation counts for papers of interest\n",
    "n_years = 6\n",
    "cite_count_string = \"\\t\"+\",\\n\\t\".join([\"SIZE((q)<-[:CITES]-(:Quanta {{year: q.year+{}}})) as c{}\".format(i,i) for i in range(1,n_years+1)])\n",
    "c_string = \", \".join([\"c{}\".format(i) for i in range(1,n_years+1)])\n",
    "\n",
    "title = \"Fog computing and its role in the internet of things\"\n",
    "query = \"\"\"\n",
    "MATCH (q:Quanta {{title: \"{}\"}}) \n",
    "WITH q.title as title, q.venue as venue, q.year as year, q.n_citation as n_citation, q.pageRank_2018 as pagerank,\n",
    "{}  \n",
    "RETURN title, n_citation, {}, pagerank\n",
    "\"\"\".format(title, cite_count_string, c_string)\n",
    "# print(query)\n",
    "df = graph.run(query).to_data_frame()\n",
    "df.head()"
   ]
  },
  {
   "cell_type": "code",
   "execution_count": null,
   "metadata": {},
   "outputs": [],
   "source": [
    "# Get average number of citaitons for Nature and Science\n",
    "n_years = 11\n",
    "cite_count_string = \"\\t\"+\",\\n\\t\".join([\"SIZE((q)<-[:CITES]-(:Quanta {{year: q.year+{}}})) as c{}\".format(i,i) for i in range(1,n_years+1)])\n",
    "c_string = \", \".join([\"c{}\".format(i) for i in range(1,n_years+1)])\n",
    "avg_c_string = \", \".join([\"avg(c{})\".format(i) for i in range(1,n_years+1)])\n",
    "\n",
    "query = \"\"\"\n",
    "MATCH (q:Quanta) \n",
    "WHERE (q.venue=\"Nature\" OR q.venue=\"Science\") AND (q.year <= 2005 AND q.year >=1950)\n",
    "WITH q.year as year, q.n_citation as n_citation, q.pageRank_2018 as pagerank,\n",
    "{}\n",
    "RETURN avg(year), avg(n_citation), avg(pagerank), {}\n",
    "\"\"\".format(cite_count_string, avg_c_string)\n",
    "# print(query)\n",
    "df = graph.run(query).to_data_frame()\n",
    "df.head()"
   ]
  },
  {
   "cell_type": "code",
   "execution_count": null,
   "metadata": {},
   "outputs": [],
   "source": [
    "df"
   ]
  }
 ],
 "metadata": {
  "kernelspec": {
   "display_name": "Python 3",
   "language": "python",
   "name": "python3"
  },
  "language_info": {
   "codemirror_mode": {
    "name": "ipython",
    "version": 3
   },
   "file_extension": ".py",
   "mimetype": "text/x-python",
   "name": "python",
   "nbconvert_exporter": "python",
   "pygments_lexer": "ipython3",
   "version": "3.6.5"
  }
 },
 "nbformat": 4,
 "nbformat_minor": 2
}
