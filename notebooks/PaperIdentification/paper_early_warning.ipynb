{
 "cells": [
  {
   "cell_type": "code",
   "execution_count": null,
   "metadata": {},
   "outputs": [],
   "source": [
    "import json\n",
    "from py2neo import Graph, Node, Relationship\n",
    "#from py2neo.Graph import database \n",
    "\n",
    "# Need to get authentication working, currently NEO4J_AUTH=none\n",
    "graph = Graph(\"bolt://neo4j:7687\")\n",
    "# graph = Graph('bolt://localhost:7687', bolt=True)\n",
    "\n",
    "#graph.delete_all()\n",
    "\n",
    "n_nodes = graph.database.primitive_counts['NumberOfNodeIdsInUse']\n",
    "n_relationships = graph.database.primitive_counts['NumberOfRelationshipIdsInUse']\n",
    "print(\"Connected to graph database with {:,} nodes and {:,} relationships!\".format\n",
    "     (n_nodes, n_relationships))"
   ]
  },
  {
   "cell_type": "code",
   "execution_count": null,
   "metadata": {},
   "outputs": [],
   "source": [
    "MATCH (q:Quanta) \n",
    "WHERE EXISTS(q.fos)  AND (q.n_citation>100) AND (q.venue=\"Nature\" OR q.venue=\"Science\") AND (q.year>=2010)\n",
    "WITH q.title as title, q.venue as venue, q.year as year, q.n_citation as n_citation, q.pageRank_2018 as pagerank,\n",
    "\tSIZE((q)<-[:CITES]-(:Quanta {year: q.year+1})) as c1,\n",
    "    SIZE((q)<-[:CITES]-(:Quanta {year: q.year+2})) as c2,\n",
    "    SIZE((q)<-[:CITES]-(:Quanta {year: q.year+3})) as c3,\n",
    "    SIZE((q)<-[:CITES]-(:Quanta {year: q.year+4})) as c4,\n",
    "\tSIZE((q)<-[:CITES]-(:Quanta {year: q.year+5})) as c5,\n",
    "\tSIZE((q)<-[:CITES]-(:Quanta {year: q.year+6})) as c6\n",
    "WITH *,\n",
    "\tCASE WHEN (c2 > 1.25*c1) THEN 1 ELSE 0 END as b1,\n",
    "\tCASE WHEN (c3 > 1.25*c2) THEN 1 ELSE 0 END as b2,\t\n",
    " \tCASE WHEN (c4 > 1.25*c3) THEN 1 ELSE 0 END as b3,\n",
    "    CASE WHEN (c5 > 1.25*c4) THEN 1 ELSE 0 END as b4,\n",
    "    CASE WHEN (c6 > 1.25*c5) THEN 1 ELSE 0 END as b5\n",
    "WHERE \n",
    "\t(b1+b2+b3+b4+b5)>=3\n",
    "RETURN title, venue, year, n_citation, c1, c2, c3, c4, c5, c6, pagerank, (b1+b2+b3+b4+b5) as sum_bool"
   ]
  }
 ],
 "metadata": {
  "kernelspec": {
   "display_name": "Python 3",
   "language": "python",
   "name": "python3"
  },
  "language_info": {
   "codemirror_mode": {
    "name": "ipython",
    "version": 3
   },
   "file_extension": ".py",
   "mimetype": "text/x-python",
   "name": "python",
   "nbconvert_exporter": "python",
   "pygments_lexer": "ipython3",
   "version": "3.6.5"
  }
 },
 "nbformat": 4,
 "nbformat_minor": 2
}
