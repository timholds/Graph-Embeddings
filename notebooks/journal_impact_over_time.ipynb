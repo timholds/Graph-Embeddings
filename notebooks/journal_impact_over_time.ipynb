{
 "cells": [
  {
   "cell_type": "code",
   "execution_count": null,
   "metadata": {},
   "outputs": [],
   "source": [
    "import json\n",
    "from py2neo import Graph, Node, Relationship\n",
    "\n",
    "# Need to get authentication working, currently NEO4J_AUTH=none\n",
    "graph = Graph(\"bolt://neo4j:7687\")\n",
    "# graph = Graph('bolt://localhost:7687', bolt=True)\n",
    "\n",
    "n_nodes = graph.database.primitive_counts['NumberOfNodeIdsInUse']\n",
    "n_relationships = graph.database.primitive_counts['NumberOfRelationshipIdsInUse']\n",
    "print(\"Connected to graph database with {:,} nodes and {:,} relationships!\".format(n_nodes, n_relationships))"
   ]
  },
  {
   "cell_type": "code",
   "execution_count": null,
   "metadata": {},
   "outputs": [],
   "source": [
    "import time\n",
    "\n",
    "query = \"\"\"\n",
    "MATCH (q:Quanta)\n",
    "WHERE \n",
    "    q.year >= 1960 AND\n",
    "    (q.venue= \"The American Economic Review\" OR \n",
    "    q.venue= \"Econometrica\" OR\n",
    "    q.venue = \"Journal of Political Economy\" OR\n",
    "    q.venue = \"Quarterly Journal of Economics\" OR\n",
    "    q.venue = \"The Review of Economic Studies\")\n",
    "RETURN \n",
    "    q.venue as journal, \n",
    "    avg(q.pageRank_2018) as impact\n",
    "\"\"\"\n",
    "\n",
    "query_start_time = time.time()\n",
    "df = graph.run(query).to_data_frame()\n",
    "print(\"Finished ({:.2f} minutes).\".format((time.time()-query_start_time)/60))    \n",
    "end_time = time.time()\n",
    "df.head()"
   ]
  },
  {
   "cell_type": "code",
   "execution_count": null,
   "metadata": {},
   "outputs": [],
   "source": [
    "import seaborn as sns\n",
    "import matplotlib.pyplot as plt\n",
    "\n",
    "df = df.sort_values(ascending=False,by=\"impact\")\n",
    "\n",
    "sns.set(style=\"ticks\", palette=\"muted\")\n",
    "ax = sns.barplot(y=\"journal\", x=\"impact\", data=df);\n",
    "\n",
    "impact_factors = [3.379, 4.73,5.247,5.920,4.038]\n",
    "bar_labels = [\"IF: {:.2f}\".format(i) for i in impact_factors]\n",
    "pos = range(5)\n",
    "for tick,label in zip(pos,ax.get_xticklabels()):\n",
    "    ax.text(1, range(5)[tick]+.1, bar_labels[tick], \n",
    "            horizontalalignment='center', size='x-small', color='w', weight='semibold')\n",
    "\n",
    "ax.set(xlabel='Average Article PageRank from 1950-2017 Citation Network', ylabel='Journal')\n",
    "plt.show()"
   ]
  },
  {
   "cell_type": "code",
   "execution_count": null,
   "metadata": {},
   "outputs": [],
   "source": []
  }
 ],
 "metadata": {
  "kernelspec": {
   "display_name": "Python 3",
   "language": "python",
   "name": "python3"
  },
  "language_info": {
   "codemirror_mode": {
    "name": "ipython",
    "version": 3
   },
   "file_extension": ".py",
   "mimetype": "text/x-python",
   "name": "python",
   "nbconvert_exporter": "python",
   "pygments_lexer": "ipython3",
   "version": "3.6.5"
  }
 },
 "nbformat": 4,
 "nbformat_minor": 2
}
