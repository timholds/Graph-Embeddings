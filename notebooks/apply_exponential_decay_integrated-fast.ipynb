{
 "cells": [
  {
   "cell_type": "code",
   "execution_count": null,
   "metadata": {},
   "outputs": [],
   "source": [
    "import pandas as pd\n",
    "import numpy as np"
   ]
  },
  {
   "cell_type": "code",
   "execution_count": null,
   "metadata": {},
   "outputs": [],
   "source": [
    "file_name = 'Score_TitleField_166M_1900-2020-5.csv'\n",
    "root = '/Users/timholdsworth/code/scaling-science'\n",
    "\n",
    "def get_data(file_name):\n",
    "    path_in = root + '/Data/'+ file_name\n",
    "    df = pd.read_csv(path_in, encoding='latin1')\n",
    "    return df"
   ]
  },
  {
   "cell_type": "code",
   "execution_count": null,
   "metadata": {},
   "outputs": [],
   "source": [
    "# Add a column thats sums up all the values in a row, which are all the paper's pagerank scores in given years\n",
    "def add_score_sum(df):\n",
    "    df['score_sum'] = df.sum(axis=1, skipna=True)\n",
    "    return df"
   ]
  },
  {
   "cell_type": "code",
   "execution_count": null,
   "metadata": {},
   "outputs": [],
   "source": [
    "# Add a column with the number of years since the paper was published\n",
    "def add_total_years_pub(df):\n",
    "    df['total_years_pub'] = len(df.columns) - 2 - df.isnull().sum(axis=1, skipna=True) \n",
    "    return df"
   ]
  },
  {
   "cell_type": "code",
   "execution_count": null,
   "metadata": {},
   "outputs": [],
   "source": [
    "# Add a column with the average score for a paper\n",
    "def add_time_weighted_score(df):\n",
    "    df['time_weighted_score'] = df['score_sum'] / df['total_years_pub']\n",
    "    return df"
   ]
  },
  {
   "cell_type": "code",
   "execution_count": null,
   "metadata": {},
   "outputs": [],
   "source": [
    "# Sort by the most popular papers according to time weighted score\n",
    "def sort(df):\n",
    "    df = df.sort_values(by=['time_weighted_score'], ascending=False).reset_index(drop=True)\n",
    "    return df"
   ]
  },
  {
   "cell_type": "code",
   "execution_count": null,
   "metadata": {},
   "outputs": [],
   "source": [
    "def clean_for_viz(df, num_results=None):\n",
    "    if num_results == None:\n",
    "        num_results = 100\n",
    "    df = df.head(num_results)\n",
    "    df = df.round(3)\n",
    "    df = df.rename(columns={\"a.title\": \"title\"})\n",
    "    return df"
   ]
  },
  {
   "cell_type": "code",
   "execution_count": null,
   "metadata": {},
   "outputs": [],
   "source": [
    "# Returns a series of len(df) where each value is the column the data starts in for each row\n",
    "def get_total_years_pub(df):\n",
    "    \n",
    "    total_years_pub = df.loc[:, 'total_years_pub']\n",
    "    # Because there are 3 extra column at the end\n",
    "    start_col_pos = total_years_pub + 3\n",
    "    # Because we want the last certain number of columns\n",
    "    start_cols = -start_col_pos\n",
    "    \n",
    "    return start_cols"
   ]
  },
  {
   "cell_type": "code",
   "execution_count": null,
   "metadata": {},
   "outputs": [],
   "source": [
    "# Method to calculate decay_scores for a given paper, returning the scores as a series\n",
    "def calc_decay_scores(df, start_col, index, decay_rate):\n",
    "         \n",
    "    # Get the nondecayed scores \n",
    "    start = start_col[index]\n",
    "    impact_scores_unlogged = df.iloc[index, start:-3].reset_index(drop=True)\n",
    "    impact_scores = impact_scores_unlogged.astype(float).apply(np.log)\n",
    "    # Generate a series of decay coefficients\n",
    "    time = np.arange(len(impact_scores))\n",
    "    decay_list = [np.exp(-t / decay_rate) for t in time]\n",
    "    decay_series = pd.Series(decay_list)\n",
    "\n",
    "    # Multiply the decay coefficeints by the nondecayed scores\n",
    "    decay_score = decay_series.multiply(impact_scores)\n",
    "    \n",
    "    return decay_score"
   ]
  },
  {
   "cell_type": "code",
   "execution_count": null,
   "metadata": {},
   "outputs": [],
   "source": [
    "# Method to update the dataframe with the impact scores\n",
    "def update_df_with_decay_scores(df, start_cols, decay_rate, year_step):\n",
    "    \n",
    "    # Get the index at which data starts for a given column\n",
    "    total_years_pub = df.loc[: , 'total_years_pub']\n",
    "    start_index = total_years_pub + 3\n",
    "\n",
    "    # Set the index to paper title and transpose main df \n",
    "    df = df.set_index('title')\n",
    "\n",
    "    count = 0\n",
    "    #print(df)\n",
    "    \n",
    "    # For all papers, where each column represents a paper, update the score with the decayed_score\n",
    "    for index, row in df.iterrows():\n",
    "        # Calculate the decay scores for each row\n",
    "        decay_score = calc_decay_scores(df, start_cols, df.index.get_loc(index), decay_rate)\n",
    "        \n",
    "        # Turn the decayed_score into a df with column names matching and back to year-indexed series\n",
    "        decay_frame = decay_score.to_frame()\n",
    "        #print(decay_frame)\n",
    "        \n",
    "        # Get the value of the column title from the orig dataframe itself - which is the column title\n",
    "        decay_frame.columns = [list(df.index.values)[df.index.get_loc(index)]]\n",
    "        #print(\"The index values are \" + str([list(df.index.values)[df.index.get_loc(index)]]))\n",
    "        #print(\"The columns are \" + str(decay_frame.columns))\n",
    "        \n",
    "        # Build an index of years for the decay_frame\n",
    "        time = np.arange(len(decay_score))\n",
    "        year_index = start_index[count]\n",
    "        years = df.columns.values.tolist()\n",
    "        year = years[-year_index]\n",
    "        year_list = ['' + str((int(year)) + year_step*t) + '' for t in time]\n",
    "        year_series = pd.Series(year_list)\n",
    "        decay_frame['years'] = year_series\n",
    "        decay_frame = decay_frame.set_index('years').round(2)\n",
    "        decay_frame = decay_frame.T\n",
    "        \n",
    "        # Update the dataframe with the new values\n",
    "        df.update(decay_frame)\n",
    "    \n",
    "        count = count + 1\n",
    "    \n",
    "    df = df.round(3)\n",
    "    return df"
   ]
  },
  {
   "cell_type": "code",
   "execution_count": null,
   "metadata": {},
   "outputs": [],
   "source": [
    "def write_to_csv(df, num_results=None, decay_rate=None):\n",
    "    if num_results == None:\n",
    "        num_results = 100\n",
    "    if decay_rate == None:\n",
    "        decay_rate = 25\n",
    "    path_out = '/Users/timholdsworth/code/scaling-science/Data/' + file_name[:-4] + '_' + str(num_results) + '_results_decayed_at_' + str(decay_rate) + '.csv'\n",
    "    df1 = df.round(3)\n",
    "    df1.to_csv(path_out, index_label='title')"
   ]
  },
  {
   "cell_type": "code",
   "execution_count": null,
   "metadata": {},
   "outputs": [],
   "source": [
    "# Takes in data, finds most impactful papers, applies decay scores, writes these to csv\n",
    "def data_prep(file_name, num_results):\n",
    "    df = get_data(file_name)\n",
    "    df1 = add_score_sum(df)\n",
    "    df2 = add_total_years_pub(df1)\n",
    "    df3 = add_time_weighted_score(df2)\n",
    "    df4 = sort(df3)\n",
    "    df5 = clean_for_viz(df4, num_results)\n",
    "    return df5"
   ]
  },
  {
   "cell_type": "code",
   "execution_count": null,
   "metadata": {},
   "outputs": [],
   "source": [
    "def update(df, num_results, decay_rate, year_step):\n",
    "    start_cols = get_total_years_pub(df)\n",
    "    df1 = update_df_with_decay_scores(df, start_cols, decay_rate, year_step) \n",
    "    write_to_csv(df1, num_results, decay_rate)"
   ]
  },
  {
   "cell_type": "code",
   "execution_count": null,
   "metadata": {},
   "outputs": [],
   "source": [
    "def main(file_name, num_results, year_step, decay_rate):\n",
    "    \n",
    "    \"\"\"\n",
    "    Take a CSV file worth of data, get the top results, apply exponential decay,\n",
    "    and write the decayed scores back to CSV\n",
    "\n",
    "    The file should:\n",
    "        Be a CSV\n",
    "        Have a 1st column named 'title'\n",
    "        Have subsequent columns as single year values - i.e. 1900\n",
    "        \n",
    "    Run this 'main' script from the root scaling-science folder\n",
    "        \n",
    "\n",
    "    Parameters\n",
    "    ----------\n",
    "    file_name: string\n",
    "        The name of the CSV file\n",
    "    \n",
    "    num_results: int\n",
    "        The number of top results you would like to return\n",
    "   \n",
    "    decay_rate: int\n",
    "        The rate at which you would like scores to decay. \n",
    "        **Note - smaller decay_rate values make scores decay *quicker*\n",
    "    \n",
    "    year_step: int\n",
    "        The number of years between each column\n",
    "        For example, if columns go 1900, 1905, 1910, year_step should be 5\n",
    "\n",
    "    Returns\n",
    "    -------\n",
    "    CSV of floats with same column structure as that which was put in\n",
    "        Where each float represents the decayed impact value for that paper in that year\n",
    "\n",
    "    \"\"\"\n",
    "\n",
    "    df = data_prep(file_name, num_results)\n",
    "    update(df, num_results, decay_rate, year_step)\n",
    "    print('Finished writing results')"
   ]
  },
  {
   "cell_type": "code",
   "execution_count": null,
   "metadata": {},
   "outputs": [],
   "source": [
    "main(file_name, 10, 5, 30)"
   ]
  },
  {
   "cell_type": "code",
   "execution_count": null,
   "metadata": {},
   "outputs": [],
   "source": [
    "#def iterate_through_decay_vals():\n",
    "    #for decay_rate in range(0, 100, 5):\n",
    "        #main(file_name, 100, 5, decay_rate)"
   ]
  },
  {
   "cell_type": "code",
   "execution_count": null,
   "metadata": {},
   "outputs": [],
   "source": [
    "%history 1-15 "
   ]
  },
  {
   "cell_type": "code",
   "execution_count": null,
   "metadata": {},
   "outputs": [],
   "source": []
  },
  {
   "cell_type": "code",
   "execution_count": null,
   "metadata": {},
   "outputs": [],
   "source": []
  },
  {
   "cell_type": "code",
   "execution_count": null,
   "metadata": {},
   "outputs": [],
   "source": []
  },
  {
   "cell_type": "code",
   "execution_count": null,
   "metadata": {},
   "outputs": [],
   "source": []
  }
 ],
 "metadata": {
  "anaconda-cloud": {},
  "kernelspec": {
   "display_name": "Python [conda root]",
   "language": "python",
   "name": "conda-root-py"
  },
  "language_info": {
   "codemirror_mode": {
    "name": "ipython",
    "version": 3
   },
   "file_extension": ".py",
   "mimetype": "text/x-python",
   "name": "python",
   "nbconvert_exporter": "python",
   "pygments_lexer": "ipython3",
   "version": "3.5.2"
  }
 },
 "nbformat": 4,
 "nbformat_minor": 2
}
