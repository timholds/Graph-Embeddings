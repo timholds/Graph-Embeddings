{
 "cells": [
  {
   "cell_type": "code",
   "execution_count": 34,
   "metadata": {
    "collapsed": false
   },
   "outputs": [],
   "source": [
    "import pandas as pd\n",
    "import numpy as np"
   ]
  },
  {
   "cell_type": "code",
   "execution_count": 49,
   "metadata": {
    "collapsed": false
   },
   "outputs": [],
   "source": [
    "df = pd.read_csv(\"/Users/timholdsworth/code/scaling-science/Data/impact_1900-1950.csv\")"
   ]
  },
  {
   "cell_type": "code",
   "execution_count": 50,
   "metadata": {
    "collapsed": false
   },
   "outputs": [],
   "source": [
    "df = df.head(5)"
   ]
  },
  {
   "cell_type": "code",
   "execution_count": 51,
   "metadata": {
    "collapsed": false
   },
   "outputs": [],
   "source": [
    "# Takes in a series of values and weighs them\n",
    "def time_weighted_score(df):\n",
    "    # Add up all the values in a row, which are all the paper's pagerank scores in given years\n",
    "    df['score_sum'] = df.sum(axis=1, skipna=True)\n",
    "    # Define time_since_pub as the number of years in the graph - the number of values that are not NaN\n",
    "    df['time_since_pub'] = len(df.columns) - 4 - df.isnull().sum(axis=1, skipna=True) \n",
    "    df['weighted_score'] = df['score_sum'] / df['time_since_pub']\n",
    "    df = df.rename(columns={\"a.title\": \"title\"})\n",
    "    return df"
   ]
  },
  {
   "cell_type": "code",
   "execution_count": 52,
   "metadata": {
    "collapsed": false,
    "scrolled": true
   },
   "outputs": [
    {
     "data": {
      "text/html": [
       "<div>\n",
       "<style scoped>\n",
       "    .dataframe tbody tr th:only-of-type {\n",
       "        vertical-align: middle;\n",
       "    }\n",
       "\n",
       "    .dataframe tbody tr th {\n",
       "        vertical-align: top;\n",
       "    }\n",
       "\n",
       "    .dataframe thead th {\n",
       "        text-align: right;\n",
       "    }\n",
       "</style>\n",
       "<table border=\"1\" class=\"dataframe\">\n",
       "  <thead>\n",
       "    <tr style=\"text-align: right;\">\n",
       "      <th></th>\n",
       "      <th>title</th>\n",
       "      <th>1900</th>\n",
       "      <th>1901</th>\n",
       "      <th>1902</th>\n",
       "      <th>1903</th>\n",
       "      <th>1904</th>\n",
       "      <th>1905</th>\n",
       "      <th>1906</th>\n",
       "      <th>1907</th>\n",
       "      <th>1908</th>\n",
       "      <th>...</th>\n",
       "      <th>1944</th>\n",
       "      <th>1945</th>\n",
       "      <th>1946</th>\n",
       "      <th>1947</th>\n",
       "      <th>1948</th>\n",
       "      <th>1949</th>\n",
       "      <th>1950</th>\n",
       "      <th>score_sum</th>\n",
       "      <th>time_since_pub</th>\n",
       "      <th>weighted_score</th>\n",
       "    </tr>\n",
       "  </thead>\n",
       "  <tbody>\n",
       "    <tr>\n",
       "      <th>0</th>\n",
       "      <td>\"A\" Stage Hangar Line Inspection</td>\n",
       "      <td>NaN</td>\n",
       "      <td>NaN</td>\n",
       "      <td>NaN</td>\n",
       "      <td>NaN</td>\n",
       "      <td>NaN</td>\n",
       "      <td>NaN</td>\n",
       "      <td>NaN</td>\n",
       "      <td>NaN</td>\n",
       "      <td>NaN</td>\n",
       "      <td>...</td>\n",
       "      <td>0.15</td>\n",
       "      <td>0.15</td>\n",
       "      <td>0.15</td>\n",
       "      <td>0.15</td>\n",
       "      <td>0.15</td>\n",
       "      <td>0.15</td>\n",
       "      <td>0.15</td>\n",
       "      <td>2.70</td>\n",
       "      <td>16</td>\n",
       "      <td>0.168750</td>\n",
       "    </tr>\n",
       "    <tr>\n",
       "      <th>1</th>\n",
       "      <td>\" Cod Liver Oil.\" Source-Manufacture-Substitut...</td>\n",
       "      <td>NaN</td>\n",
       "      <td>NaN</td>\n",
       "      <td>NaN</td>\n",
       "      <td>NaN</td>\n",
       "      <td>NaN</td>\n",
       "      <td>NaN</td>\n",
       "      <td>NaN</td>\n",
       "      <td>NaN</td>\n",
       "      <td>NaN</td>\n",
       "      <td>...</td>\n",
       "      <td>0.15</td>\n",
       "      <td>0.15</td>\n",
       "      <td>0.15</td>\n",
       "      <td>0.15</td>\n",
       "      <td>0.15</td>\n",
       "      <td>0.15</td>\n",
       "      <td>0.15</td>\n",
       "      <td>3.45</td>\n",
       "      <td>21</td>\n",
       "      <td>0.164286</td>\n",
       "    </tr>\n",
       "    <tr>\n",
       "      <th>2</th>\n",
       "      <td>\" Rickettsia \"-Bodies as a Result of Cell-Dige...</td>\n",
       "      <td>NaN</td>\n",
       "      <td>NaN</td>\n",
       "      <td>NaN</td>\n",
       "      <td>NaN</td>\n",
       "      <td>NaN</td>\n",
       "      <td>NaN</td>\n",
       "      <td>NaN</td>\n",
       "      <td>NaN</td>\n",
       "      <td>NaN</td>\n",
       "      <td>...</td>\n",
       "      <td>0.15</td>\n",
       "      <td>0.15</td>\n",
       "      <td>0.15</td>\n",
       "      <td>0.15</td>\n",
       "      <td>0.15</td>\n",
       "      <td>0.15</td>\n",
       "      <td>0.15</td>\n",
       "      <td>4.20</td>\n",
       "      <td>26</td>\n",
       "      <td>0.161538</td>\n",
       "    </tr>\n",
       "    <tr>\n",
       "      <th>3</th>\n",
       "      <td>\" Codigo civil portuguez annotado etc. \". - T....</td>\n",
       "      <td>0.15</td>\n",
       "      <td>0.15</td>\n",
       "      <td>0.15</td>\n",
       "      <td>0.15</td>\n",
       "      <td>0.15</td>\n",
       "      <td>0.15</td>\n",
       "      <td>0.15</td>\n",
       "      <td>0.15</td>\n",
       "      <td>0.15</td>\n",
       "      <td>...</td>\n",
       "      <td>0.15</td>\n",
       "      <td>0.15</td>\n",
       "      <td>0.15</td>\n",
       "      <td>0.15</td>\n",
       "      <td>0.15</td>\n",
       "      <td>0.15</td>\n",
       "      <td>0.15</td>\n",
       "      <td>7.65</td>\n",
       "      <td>49</td>\n",
       "      <td>0.156122</td>\n",
       "    </tr>\n",
       "    <tr>\n",
       "      <th>4</th>\n",
       "      <td>\" THE PREVENTION OF SMALL-POX.\"</td>\n",
       "      <td>0.15</td>\n",
       "      <td>0.15</td>\n",
       "      <td>0.15</td>\n",
       "      <td>0.15</td>\n",
       "      <td>0.15</td>\n",
       "      <td>0.15</td>\n",
       "      <td>0.15</td>\n",
       "      <td>0.15</td>\n",
       "      <td>0.15</td>\n",
       "      <td>...</td>\n",
       "      <td>0.15</td>\n",
       "      <td>0.15</td>\n",
       "      <td>0.15</td>\n",
       "      <td>0.15</td>\n",
       "      <td>0.15</td>\n",
       "      <td>0.15</td>\n",
       "      <td>0.15</td>\n",
       "      <td>7.65</td>\n",
       "      <td>49</td>\n",
       "      <td>0.156122</td>\n",
       "    </tr>\n",
       "  </tbody>\n",
       "</table>\n",
       "<p>5 rows × 55 columns</p>\n",
       "</div>"
      ],
      "text/plain": [
       "                                               title  1900  1901  1902  1903  \\\n",
       "0                   \"A\" Stage Hangar Line Inspection   NaN   NaN   NaN   NaN   \n",
       "1  \" Cod Liver Oil.\" Source-Manufacture-Substitut...   NaN   NaN   NaN   NaN   \n",
       "2  \" Rickettsia \"-Bodies as a Result of Cell-Dige...   NaN   NaN   NaN   NaN   \n",
       "3  \" Codigo civil portuguez annotado etc. \". - T....  0.15  0.15  0.15  0.15   \n",
       "4                    \" THE PREVENTION OF SMALL-POX.\"  0.15  0.15  0.15  0.15   \n",
       "\n",
       "   1904  1905  1906  1907  1908       ...        1944  1945  1946  1947  1948  \\\n",
       "0   NaN   NaN   NaN   NaN   NaN       ...        0.15  0.15  0.15  0.15  0.15   \n",
       "1   NaN   NaN   NaN   NaN   NaN       ...        0.15  0.15  0.15  0.15  0.15   \n",
       "2   NaN   NaN   NaN   NaN   NaN       ...        0.15  0.15  0.15  0.15  0.15   \n",
       "3  0.15  0.15  0.15  0.15  0.15       ...        0.15  0.15  0.15  0.15  0.15   \n",
       "4  0.15  0.15  0.15  0.15  0.15       ...        0.15  0.15  0.15  0.15  0.15   \n",
       "\n",
       "   1949  1950  score_sum  time_since_pub  weighted_score  \n",
       "0  0.15  0.15       2.70              16        0.168750  \n",
       "1  0.15  0.15       3.45              21        0.164286  \n",
       "2  0.15  0.15       4.20              26        0.161538  \n",
       "3  0.15  0.15       7.65              49        0.156122  \n",
       "4  0.15  0.15       7.65              49        0.156122  \n",
       "\n",
       "[5 rows x 55 columns]"
      ]
     },
     "execution_count": 52,
     "metadata": {},
     "output_type": "execute_result"
    }
   ],
   "source": [
    "df = time_weighted_score(df).sort_values(by=['weighted_score'], ascending=False).reset_index(drop=True)\n",
    "df = df.head(1000)\n",
    "df"
   ]
  },
  {
   "cell_type": "code",
   "execution_count": 53,
   "metadata": {
    "collapsed": true
   },
   "outputs": [],
   "source": [
    "# Get the number of years since publication as a series for all rows in database\n",
    "time_since_pub = df.loc[:, 'time_since_pub']\n",
    "# Becauset there are 3 extra column at the end\n",
    "start_col_pos = time_since_pub + 3\n",
    "# Because we want the last certain number of columns\n",
    "start_col = -start_col_pos"
   ]
  },
  {
   "cell_type": "code",
   "execution_count": 61,
   "metadata": {
    "collapsed": false
   },
   "outputs": [],
   "source": [
    "# TODO figure out why multiplying these two gives a series double the length of each of the series being multiplied\n",
    "def exp_decay(df, start_col):\n",
    "    for index, row in df.iterrows():\n",
    "\n",
    "        # Get the column which the data starts for this row \n",
    "        start = start_col[index]\n",
    "        # Create a series of the impact scores for this row\n",
    "        impact_scores = df.iloc[index, start:-3].reset_index(drop=True)\n",
    "       \n",
    "        #print('Printing Impact score')\n",
    "        #print(impact_scores)\n",
    "        #print('Impact score is length ' + str(len(impact_scores)))\n",
    "        #print()\n",
    "        \n",
    "        # Create an Series with decay coefficients that is the same length as the impact_scores series\n",
    "        time = np.arange(len(impact_scores))\n",
    "        decay_list = [np.exp(-t / 25) for t in time]\n",
    "        decay_series = pd.Series(decay_list)\n",
    "        \n",
    "        #print('Printing decay series')\n",
    "        #print(decay_series)\n",
    "        #print('Decay series is length ' + str(len(decay_series)))\n",
    "        #print()\n",
    "        \n",
    "        decayed_score = decay_series.multiply(impact_scores)\n",
    "        \n",
    "        #print('Printing decayed score')\n",
    "        #print(decayed_score)\n",
    "        #print('Decayed score is length ' + str(len(decayed_score)))\n",
    "        #print()\n",
    "        \n",
    "        # Write the results back to the appropriate columns in dataframe\n",
    "        # Figure out how to update the dataframe\n",
    "        df.iloc[index, start:-3].update(decayed_score)\n",
    "\n",
    "    return df\n",
    "    \n",
    "df1 = exp_decay(df, start_col)"
   ]
  },
  {
   "cell_type": "code",
   "execution_count": 60,
   "metadata": {
    "collapsed": false
   },
   "outputs": [],
   "source": [
    "df1.to_csv('/Users/timholdsworth/code/scaling-science/Data/1000_most_impactful_papers_decayed.csv')"
   ]
  },
  {
   "cell_type": "code",
   "execution_count": 33,
   "metadata": {
    "collapsed": true
   },
   "outputs": [],
   "source": []
  },
  {
   "cell_type": "code",
   "execution_count": null,
   "metadata": {
    "collapsed": false
   },
   "outputs": [],
   "source": []
  },
  {
   "cell_type": "code",
   "execution_count": 373,
   "metadata": {
    "collapsed": false
   },
   "outputs": [
    {
     "data": {
      "text/plain": [
       "0    10.000000\n",
       "1     9.355070\n",
       "2     8.751733\n",
       "3     8.187308\n",
       "dtype: float64"
      ]
     },
     "execution_count": 373,
     "metadata": {},
     "output_type": "execute_result"
    }
   ],
   "source": [
    "# Extra code I used to test out multiplying a series\n",
    "# An array of values from 0 to (100 - the number of years a paper has been published)\n",
    "s = pd.Series([10, 10, 10, 10])\n",
    "time = np.arange(len(s))\n",
    "# Array of coefficients that get smaller as time goes on\n",
    "decay_coeff = [np.exp(-t / 15) for t in time] \n",
    "#print(decay_coeff)\n",
    "\n",
    "# Multiple a given series by its corresponding decay coefficients\n",
    "s.multiply(decay_coeff)"
   ]
  },
  {
   "cell_type": "code",
   "execution_count": null,
   "metadata": {
    "collapsed": true
   },
   "outputs": [],
   "source": []
  },
  {
   "cell_type": "code",
   "execution_count": null,
   "metadata": {
    "collapsed": false
   },
   "outputs": [],
   "source": [
    "\n",
    "    "
   ]
  },
  {
   "cell_type": "code",
   "execution_count": null,
   "metadata": {
    "collapsed": true
   },
   "outputs": [],
   "source": []
  },
  {
   "cell_type": "code",
   "execution_count": null,
   "metadata": {
    "collapsed": false
   },
   "outputs": [],
   "source": []
  },
  {
   "cell_type": "code",
   "execution_count": null,
   "metadata": {
    "collapsed": false
   },
   "outputs": [],
   "source": []
  },
  {
   "cell_type": "code",
   "execution_count": null,
   "metadata": {
    "collapsed": false
   },
   "outputs": [],
   "source": []
  },
  {
   "cell_type": "code",
   "execution_count": null,
   "metadata": {
    "collapsed": false
   },
   "outputs": [],
   "source": []
  },
  {
   "cell_type": "code",
   "execution_count": null,
   "metadata": {
    "collapsed": true
   },
   "outputs": [],
   "source": []
  }
 ],
 "metadata": {
  "anaconda-cloud": {},
  "kernelspec": {
   "display_name": "Python [default]",
   "language": "python",
   "name": "python3"
  },
  "language_info": {
   "codemirror_mode": {
    "name": "ipython",
    "version": 3
   },
   "file_extension": ".py",
   "mimetype": "text/x-python",
   "name": "python",
   "nbconvert_exporter": "python",
   "pygments_lexer": "ipython3",
   "version": "3.5.2"
  }
 },
 "nbformat": 4,
 "nbformat_minor": 2
}
