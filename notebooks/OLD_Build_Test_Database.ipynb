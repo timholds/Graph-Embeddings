{
 "cells": [
  {
   "cell_type": "code",
   "execution_count": null,
   "metadata": {},
   "outputs": [],
   "source": [
    "import json\n",
    "from py2neo import Graph\n",
    "from py2neo.data import Node, Relationship\n",
    "\n",
    "graph = Graph(\"bolt://neo4j:7687\")\n",
    "graph.delete_all()"
   ]
  },
  {
   "cell_type": "code",
   "execution_count": null,
   "metadata": {},
   "outputs": [],
   "source": [
    "query = \"\"\"\n",
    "CALL apoc.load.json(\"file:///import/test/mag_10entries.txt\") \n",
    "YIELD value AS q\n",
    "UNWIND q.id AS id\n",
    "MERGE (i:Quanta {id:q.id})\n",
    "ON CREATE SET i.abstract=q.abstract, i.refs=q.references, i.title=q.title, i.fos=q.fos, i.url=q.url, i.lang=q.lang\n",
    "\"\"\"\n",
    "graph.run(query).evaluate()"
   ]
  },
  {
   "cell_type": "code",
   "execution_count": null,
   "metadata": {},
   "outputs": [],
   "source": [
    "CREATE CONSTRAINT ON (n:Quanta) ASSERT n.id IS UNIQUE;"
   ]
  },
  {
   "cell_type": "code",
   "execution_count": null,
   "metadata": {},
   "outputs": [],
   "source": [
    "MATCH (a:Quanta), (b:Quanta)\n",
    "WHERE a.id IN b.refs\n",
    "MERGE (b)-[:CITES]->(a)"
   ]
  },
  {
   "cell_type": "code",
   "execution_count": null,
   "metadata": {},
   "outputs": [],
   "source": [
    "MATCH (a:Quanta), (b:Quanta)\n",
    "WHERE a.id IN b.refs\n",
    "MERGE (b)-[:CITES]->(a)"
   ]
  }
 ],
 "metadata": {
  "kernelspec": {
   "display_name": "Python 3",
   "language": "python",
   "name": "python3"
  },
  "language_info": {
   "codemirror_mode": {
    "name": "ipython",
    "version": 3
   },
   "file_extension": ".py",
   "mimetype": "text/x-python",
   "name": "python",
   "nbconvert_exporter": "python",
   "pygments_lexer": "ipython3",
   "version": "3.6.5"
  }
 },
 "nbformat": 4,
 "nbformat_minor": 2
}
