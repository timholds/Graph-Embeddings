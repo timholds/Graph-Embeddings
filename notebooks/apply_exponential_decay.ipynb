{
 "cells": [
  {
   "cell_type": "code",
   "execution_count": 385,
   "metadata": {
    "collapsed": true
   },
   "outputs": [],
   "source": [
    "import pandas as pd\n",
    "import numpy as np"
   ]
  },
  {
   "cell_type": "code",
   "execution_count": 386,
   "metadata": {
    "collapsed": true
   },
   "outputs": [],
   "source": [
    "path_in = \"/Users/timholdsworth/code/scaling-science/Data/100_most_impactful_papers.csv\"\n",
    "def get_data(path_in):\n",
    "    df = pd.read_csv(path_in)\n",
    "    return df"
   ]
  },
  {
   "cell_type": "code",
   "execution_count": 387,
   "metadata": {
    "collapsed": false
   },
   "outputs": [],
   "source": [
    "# Returns a series of len(df) where each value is the column the data starts in for each row\n",
    "def get_start_columns(df):\n",
    "    \n",
    "    total_years_pub = df.loc[:, 'total_years_pub']\n",
    "    # Because there are 3 extra column at the end\n",
    "    start_col_pos = total_years_pub + 3\n",
    "    # Because we want the last certain number of columns\n",
    "    start_cols = -start_col_pos\n",
    "    \n",
    "    return start_cols"
   ]
  },
  {
   "cell_type": "code",
   "execution_count": 388,
   "metadata": {
    "collapsed": false
   },
   "outputs": [],
   "source": [
    "# Method to calculate decay_scores for a given paper, returning the scores as a series\n",
    "def calc_decay_scores(df, start_col, index):\n",
    "         \n",
    "    # Get the nondecayed scores \n",
    "    start = start_col[index]\n",
    "    impact_scores = df.iloc[start:-3, index].reset_index(drop=True)\n",
    "    \n",
    "    # Generate a series of decay coefficients\n",
    "    time = np.arange(len(impact_scores))\n",
    "    decay_list = [np.exp(-t / 35) for t in time]\n",
    "    decay_series = pd.Series(decay_list)\n",
    "\n",
    "    # Multiply the decay coefficeints by the nondecayed scores\n",
    "    decay_score = decay_series.multiply(impact_scores)\n",
    "    \n",
    "    return decay_score\n",
    "    "
   ]
  },
  {
   "cell_type": "code",
   "execution_count": 400,
   "metadata": {
    "collapsed": false,
    "scrolled": false
   },
   "outputs": [],
   "source": [
    "# Method to update the dataframe with the impact scores\n",
    "def update_df_with_decay_scores(df, start_cols):\n",
    "    \n",
    "    # Get the index at which data starts for a given column\n",
    "    total_years_pub = df.loc[: , 'total_years_pub']\n",
    "    start_index = total_years_pub + 3\n",
    "\n",
    "    # Set the index to paper title and transpose main df \n",
    "    df = df.set_index('title')\n",
    "    df = df.transpose()\n",
    "\n",
    "    count = 0\n",
    "    \n",
    "    # For all papers, where each column represents a paper, update the score with the decayed_score\n",
    "    for column in df:\n",
    "        \n",
    "        # Calculate the decay scores for each row\n",
    "        decay_score = calc_decay_scores(df, start_cols, df.columns.get_loc(column))\n",
    "        \n",
    "        # Turn the decayed_score into a df with column names matching and back to year-indexed series\n",
    "        decay_frame = decay_score.to_frame()\n",
    "        \n",
    "        # Get the value of the column title from the dataframe itself - which is the column title\n",
    "        decay_frame.columns = [list(df.columns.values)[df.columns.get_loc(column)]]\n",
    "        \n",
    "        # Build an index of years for the decay_frame\n",
    "        time = np.arange(len(decay_score))\n",
    "        year_index = start_index[count]\n",
    "        years = df.index.values.tolist()\n",
    "        year = years[-year_index]\n",
    "        year_list = ['' + str((int(year)) + t) + '' for t in time]\n",
    "        year_series = pd.Series(year_list)\n",
    "        decay_frame['years'] = year_series\n",
    "        decay_frame = decay_frame.set_index('years') \n",
    "        \n",
    "        # Update the dataframe with the new values\n",
    "        df.update(decay_frame)\n",
    "    \n",
    "        count = count + 1\n",
    "    \n",
    "    df = df.round(3)\n",
    "    return df.T\n",
    "    "
   ]
  },
  {
   "cell_type": "code",
   "execution_count": 406,
   "metadata": {
    "collapsed": false
   },
   "outputs": [],
   "source": [
    "def main():\n",
    "    \n",
    "    df = get_data(path_in)\n",
    "    start_cols = get_start_columns(df)\n",
    "    df1 = update_df_with_decay_scores(df, start_cols)  \n",
    "    return df1\n",
    "\n",
    "df_decay = main()\n",
    "#df_decay"
   ]
  },
  {
   "cell_type": "code",
   "execution_count": 407,
   "metadata": {
    "collapsed": true
   },
   "outputs": [],
   "source": [
    "path_out = '/Users/timholdsworth/code/scaling-science/Data/100_most_impactful_papers_decayed1.csv'\n",
    "def write_to_csv(df):\n",
    "    df.to_csv(path_out, index_label='title')"
   ]
  },
  {
   "cell_type": "code",
   "execution_count": 408,
   "metadata": {
    "collapsed": false
   },
   "outputs": [],
   "source": [
    "write_to_csv(df_decay)"
   ]
  }
 ],
 "metadata": {
  "anaconda-cloud": {},
  "kernelspec": {
   "display_name": "Python [conda root]",
   "language": "python",
   "name": "conda-root-py"
  }
 },
 "nbformat": 4,
 "nbformat_minor": 2
}
