{
 "cells": [
  {
   "cell_type": "code",
   "execution_count": 3,
   "metadata": {
    "collapsed": true
   },
   "outputs": [],
   "source": [
    "import pandas as pd\n",
    "# Take in a csv with a bunch of data that has year scores and apply exponential decay"
   ]
  },
  {
   "cell_type": "code",
   "execution_count": 10,
   "metadata": {
    "collapsed": true
   },
   "outputs": [],
   "source": [
    "path_in = \"/Users/timholdsworth/code/scaling-science/Data/100_most_impactful_papers.csv\"\n",
    "def get_data(path_in):\n",
    "    df = pd.read_csv(path_in)\n",
    "    return df"
   ]
  },
  {
   "cell_type": "code",
   "execution_count": 12,
   "metadata": {
    "collapsed": false
   },
   "outputs": [],
   "source": [
    "#get_data(path_in)"
   ]
  },
  {
   "cell_type": "code",
   "execution_count": 7,
   "metadata": {
    "collapsed": true
   },
   "outputs": [],
   "source": [
    "df = df.head(5)"
   ]
  },
  {
   "cell_type": "code",
   "execution_count": 9,
   "metadata": {
    "collapsed": false
   },
   "outputs": [],
   "source": [
    "# Get the number of years since publication as a series for all rows in database\n",
    "time_since_pub = df.loc[:, 'time_since_pub']\n",
    "# Becauset there are 3 extra column at the end\n",
    "start_col_pos = time_since_pub + 3\n",
    "# Because we want the last certain number of columns\n",
    "start_col = -start_col_pos"
   ]
  },
  {
   "cell_type": "code",
   "execution_count": null,
   "metadata": {
    "collapsed": true
   },
   "outputs": [],
   "source": [
    "# TODO figure out why multiplying these two gives a series double the length of each of the series being multiplied\n",
    "def exp_decay(df, start_col):\n",
    "    for index, row in df.iterrows():\n",
    "\n",
    "        # Get the column which the data starts for this row \n",
    "        start = start_col[index]\n",
    "        # Create a series of the impact scores for this row\n",
    "        impact_scores = df.iloc[index, start:-3].reset_index(drop=True)\n",
    "       \n",
    "        #print('Printing Impact score')\n",
    "        #print(impact_scores)\n",
    "        #print('Impact score is length ' + str(len(impact_scores)))\n",
    "        #print()\n",
    "        \n",
    "        # Create an Series with decay coefficients that is the same length as the impact_scores series\n",
    "        time = np.arange(len(impact_scores))\n",
    "        decay_list = [np.exp(-t / 25) for t in time]\n",
    "        decay_series = pd.Series(decay_list)\n",
    "        \n",
    "        #print('Printing decay series')\n",
    "        #print(decay_series)\n",
    "        #print('Decay series is length ' + str(len(decay_series)))\n",
    "        #print()\n",
    "        \n",
    "        decayed_score = decay_series.multiply(impact_scores)\n",
    "        \n",
    "        #print('Printing decayed score')\n",
    "        #print(decayed_score)\n",
    "        #print('Decayed score is length ' + str(len(decayed_score)))\n",
    "        #print()\n",
    "        \n",
    "        # Write the results back to the appropriate columns in dataframe\n",
    "        # Figure out how to update the dataframe\n",
    "        df.iloc[index, start:-3].update(decayed_score)\n",
    "\n",
    "    return df\n",
    "    \n",
    "df1 = exp_decay(df, start_col)"
   ]
  }
 ],
 "metadata": {
  "anaconda-cloud": {},
  "kernelspec": {
   "display_name": "Python [conda root]",
   "language": "python",
   "name": "conda-root-py"
  },
  "language_info": {
   "codemirror_mode": {
    "name": "ipython",
    "version": 3
   },
   "file_extension": ".py",
   "mimetype": "text/x-python",
   "name": "python",
   "nbconvert_exporter": "python",
   "pygments_lexer": "ipython3",
   "version": "3.5.2"
  }
 },
 "nbformat": 4,
 "nbformat_minor": 2
}
