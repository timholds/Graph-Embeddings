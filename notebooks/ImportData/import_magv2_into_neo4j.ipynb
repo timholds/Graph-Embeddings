{
 "cells": [
  {
   "cell_type": "code",
   "execution_count": null,
   "metadata": {},
   "outputs": [],
   "source": [
    "from py2neo import Graph, Node, Relationship\n",
    "\n",
    "graph = Graph(\"bolt://localhost:7687\", auth=('neo4j','password'))\n",
    "\n",
    "n_nodes = graph.database.primitive_counts['NumberOfNodeIdsInUse']\n",
    "n_relationships = graph.database.primitive_counts['NumberOfRelationshipIdsInUse']\n",
    "print(\"Connected to graph database with {:,} nodes and {:,} relationships!\".format\n",
    "     (n_nodes, n_relationships))"
   ]
  },
  {
   "cell_type": "code",
   "execution_count": null,
   "metadata": {},
   "outputs": [],
   "source": [
    "# Constrain one id per Quanta\n",
    "print(\"Creating uniqueness constraint (and also index) on Quanta id's...\", end=\" \", flush=True)\n",
    "query = \"\"\"CREATE CONSTRAINT ON (n:Quanta) ASSERT n.id IS UNIQUE;\"\"\"\n",
    "graph.run(query).evaluate()\n",
    "print(\"Done.\")\n",
    "\n",
    "# Constrain one name per author\n",
    "print(\"Creating uniqueness constraint (and also index) on Author names...\", end=\" \", flush=True)\n",
    "query = \"\"\"CREATE CONSTRAINT ON (a:Author) ASSERT a.name IS UNIQUE;\"\"\"\n",
    "graph.run(query).evaluate()\n",
    "print(\"Done.\")\n",
    "\n",
    "# Constrain one name per organization\n",
    "print(\"Creating uniqueness constraint (and also index) on Organization names...\", end=\" \", flush=True)\n",
    "query = \"\"\"CREATE CONSTRAINT ON (o:Organization) ASSERT o.name IS UNIQUE;\"\"\"\n",
    "graph.run(query).evaluate()\n",
    "print(\"Done.\")\n",
    "\n",
    "# Add index for year of publication\n",
    "print(\"Creating index for publication year...\", end=\" \", flush=True)\n",
    "query = \"\"\"CREATE INDEX ON :Quanta(year);\"\"\"\n",
    "graph.run(query).evaluate()\n",
    "print(\"Done.\")\n",
    "\n",
    "# Add index for language\n",
    "print(\"Creating index for langauge...\", end=\" \", flush=True)\n",
    "query = \"\"\"CREATE INDEX ON :Quanta(lang);\"\"\"\n",
    "graph.run(query).evaluate()\n",
    "print(\"Done.\")\n",
    "\n",
    "# Add index for field of study\n",
    "print(\"Creating index for fos...\", end=\" \", flush=True)\n",
    "query = \"\"\"CREATE INDEX ON :Quanta(fos);\"\"\"\n",
    "graph.run(query).evaluate()\n",
    "print(\"Done.\")\n",
    "\n",
    "# Add index for keywords\n",
    "print(\"Creating index for fos...\", end=\" \", flush=True)\n",
    "query = \"\"\"CREATE INDEX ON :Quanta(keywords);\"\"\"\n",
    "graph.run(query).evaluate()\n",
    "print(\"Done.\")\n",
    "\n",
    "# Add index for title \n",
    "print(\"Creating index for title...\", end=\" \", flush=True)\n",
    "query = \"\"\"CREATE INDEX ON :Quanta(title);\"\"\"\n",
    "graph.run(query).evaluate()\n",
    "print(\"Done.\")\n",
    "\n",
    "# Add index for venue\n",
    "print(\"Creating index for fos...\", end=\" \", flush=True)\n",
    "query = \"\"\"CREATE INDEX ON :Quanta(venue);\"\"\"\n",
    "graph.run(query).evaluate()\n",
    "print(\"Done.\")\n",
    "\n",
    "# Add index for document type\n",
    "print(\"Creating index for doctype...\", end=\" \", flush=True)\n",
    "query = \"\"\"CREATE INDEX ON :Quanta(doctype);\"\"\"\n",
    "graph.run(query).evaluate()\n",
    "print(\"Done.\")"
   ]
  },
  {
   "cell_type": "code",
   "execution_count": null,
   "metadata": {},
   "outputs": [],
   "source": [
    "# Import venue nodes\n",
    "file_dir = 'file:/Users/timholdsworth/code/scaling-science/notebooks/data/mag_venues.txt.first100.txt'\n",
    "print(\"Importing {}...\".format(file_dir), end=\" \", flush=True)\n",
    "query = \"\"\"\n",
    "CALL apoc.periodic.iterate(\n",
    "\"CALL apoc.load.json('file:/Users/timholdsworth/code/scaling-science/notebooks/data/mag_venues.txt.first100.txt') YIELD value AS q RETURN q\",\n",
    "\"UNWIND q.JournalId AS venue_id \n",
    "MERGE (v:Venue {id:venue_id, name:q.DisplayName})\", \n",
    "{batchSize:10000, iterateList:true, parallel:false})\n",
    "\"\"\"\n",
    "query_start_time = time.time()\n",
    "graph.run(query).evaluate()\n",
    "print(\"Done in ({:.2f} minutes)...\".format((time.time()-query_start_time)/60))\n",
    "\n"
   ]
  },
  {
   "cell_type": "code",
   "execution_count": null,
   "metadata": {},
   "outputs": [],
   "source": [
    "# Import author nodes\n",
    "file_dir = 'file:/Users/timholdsworth/code/scaling-science/notebooks/data/mag_venues.txt.first100.txt'\n",
    "print(\"Importing {}...\".format(file_dir), end=\" \", flush=True)\n",
    "query = \"\"\"\n",
    "CALL apoc.periodic.iterate(\n",
    "\"CALL apoc.load.json('file:/Users/timholdsworth/code/scaling-science/notebooks/data/mag_authors_5.txt.first100.txt') YIELD value AS q RETURN q\",\n",
    "\"UNWIND q.id AS author_id \n",
    "MERGE (a:Author {id:author_id, name:q.name})\", \n",
    "{batchSize:10000, iterateList:true, parallel:false})\n",
    "\"\"\"#.format(file_dir)\n",
    "\n",
    "query_start_time = time.time()\n",
    "graph.run(query).evaluate()\n",
    "print(\"Done in ({:.2f} minutes)...\".format((time.time()-query_start_time)/60))"
   ]
  },
  {
   "cell_type": "code",
   "execution_count": null,
   "metadata": {},
   "outputs": [],
   "source": [
    "# query1 adds Quanta, Authors, and Organizations to graph with relationships between\n",
    "# Authors and Quanta, and Authors and Orgs\n",
    "# query2 adds is_first_author and is_last_author property to AUTHORED relationships between\n",
    "# Authors and Quanta\n",
    "\n",
    "#local_data_dir = '/tmp/data/mag/'\n",
    "local_data_dir = '/Users/timholdsworth/code/scaling-science/notebooks/data'\n",
    "neo4j_data_dir = '/import/mag/'\n",
    "\n",
    "import glob, os, time\n",
    "\n",
    "start_time = time.time()\n",
    "\n",
    "for _,_ , files in os.walk(local_data_dir):\n",
    "    for file in sorted(files):\n",
    "        if file.endswith('100.txt'):\n",
    "           \n",
    "           # Iterative query (more efficient)\n",
    "            print(\"Importing {}...\".format(file), end=\" \", flush=True)\n",
    "            query = \"\"\"\n",
    "            CALL apoc.periodic.iterate(\n",
    "            \"CALL apoc.load.json('file://{}{}') YIELD value AS q RETURN q\"\n",
    "            ,\n",
    "            \"UNWIND q.id AS id \n",
    "            UNWIND q.authors as author\n",
    "            MERGE (a:Author {{name:author.name}})\n",
    "            MERGE (i:Quanta {{id:q.id}}) ON CREATE SET \n",
    "                i.refs=q.references, \n",
    "                i.year=q.year, \n",
    "                i.title=q.title, \n",
    "                i.fos=q.fos, \n",
    "                i.url=q.url, \n",
    "                i.lang=q.lang, \n",
    "                i.keywords=q.keywords, \n",
    "                i.n_citation=q.n_citation, \n",
    "                i.pdf=q.pdf, \n",
    "                i.publisher=q.publisher,\n",
    "                i.venue=q.venue\n",
    "            WITH \n",
    "                i,\n",
    "                a,\n",
    "                author,\n",
    "                head(q.authors)=author AS first_author, \n",
    "                last(q.authors)=author AS last_author\n",
    "            MERGE (a)-[:AUTHORED {{is_first_author: first_author, is_last_author: last_author}}]->(i)\n",
    "            WITH a, author\n",
    "            WHERE author.org is not null\n",
    "            MERGE (o:Organization {{name:author.org}}) \n",
    "            MERGE (a)-[:AFFILIATED_WITH]->(o)\"\n",
    "            , \n",
    "            {{batchSize:10000, iterateList:true, parallel:false}});\n",
    "            \"\"\".format(neo4j_data_dir, file)\n",
    "        \n",
    "#             print(query)\n",
    "            query_start_time = time.time()\n",
    "            graph.run(query).evaluate()\n",
    "            print(\"Done in ({:.2f} minutes)...\".format((time.time()-query_start_time)/60))\n",
    "\n",
    "print(\"Finished all imports in {:.2f} hours.\".format((time.time()-start_time)/60/60))"
   ]
  },
  {
   "cell_type": "code",
   "execution_count": null,
   "metadata": {},
   "outputs": [],
   "source": [
    "# Import venue nodes\n",
    "\n",
    "print(\"Importing {}...\".format(file), end=\" \", flush=True)\n",
    "query = \"\"\"\n",
    "CALL apoc.periodic.iterate(\n",
    "\"CALL apoc.load.json('file://{}{}') YIELD value AS q RETURN q\",\n",
    "\"UNWIND q.id AS id \n",
    "UNWIND q.authors as author\n",
    "MERGE (a:Author {{name:author.name}})\"\n",
    "\n",
    ", \n",
    "{{batchSize:10000, iterateList:true, parallel:false}});\n",
    "\"\"\".format(neo4j_data_dir, file)\n",
    "\n",
    "#             print(query)\n",
    "query_start_time = time.time()\n",
    "graph.run(query).evaluate()\n",
    "print(\"Done in ({:.2f} minutes)...\".format((time.time()-query_start_time)/60))"
   ]
  },
  {
   "cell_type": "code",
   "execution_count": null,
   "metadata": {},
   "outputs": [],
   "source": [
    "# Import paper nodes"
   ]
  },
  {
   "cell_type": "code",
   "execution_count": null,
   "metadata": {},
   "outputs": [],
   "source": [
    "# Import author nodes"
   ]
  },
  {
   "cell_type": "code",
   "execution_count": null,
   "metadata": {},
   "outputs": [],
   "source": [
    "# Import paper nodes"
   ]
  },
  {
   "cell_type": "code",
   "execution_count": null,
   "metadata": {},
   "outputs": [],
   "source": [
    "# Import venue edges"
   ]
  },
  {
   "cell_type": "code",
   "execution_count": null,
   "metadata": {},
   "outputs": [],
   "source": [
    "# Import paper edges"
   ]
  },
  {
   "cell_type": "code",
   "execution_count": null,
   "metadata": {},
   "outputs": [],
   "source": [
    "# Add coauthor relationships "
   ]
  }
 ],
 "metadata": {
  "anaconda-cloud": {},
  "kernelspec": {
   "display_name": "ss-env",
   "language": "python",
   "name": "ss-env"
  },
  "language_info": {
   "codemirror_mode": {
    "name": "ipython",
    "version": 3
   },
   "file_extension": ".py",
   "mimetype": "text/x-python",
   "name": "python",
   "nbconvert_exporter": "python",
   "pygments_lexer": "ipython3",
   "version": "3.5.2"
  }
 },
 "nbformat": 4,
 "nbformat_minor": 2
}
