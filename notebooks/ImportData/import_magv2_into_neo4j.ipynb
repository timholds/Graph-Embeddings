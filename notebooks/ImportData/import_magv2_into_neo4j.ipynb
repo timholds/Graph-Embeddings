{
 "cells": [
  {
   "cell_type": "markdown",
   "metadata": {},
   "source": [
    "# Setup"
   ]
  },
  {
   "cell_type": "markdown",
   "metadata": {},
   "source": [
    "## Connect to graph"
   ]
  },
  {
   "cell_type": "code",
   "execution_count": null,
   "metadata": {},
   "outputs": [],
   "source": [
    "from py2neo import Graph, Node, Relationship\n",
    "import glob, os, time\n",
    " \n",
    "graph = Graph('bolt://neo4j-magtwo:7687', auth=('neo4j','myneo'))\n",
    "#graph = Graph('bolt://localhost:7687', auth=('neo4j', 'password'))\n",
    "\n",
    "n_nodes = graph.database.primitive_counts['NumberOfNodeIdsInUse']\n",
    "n_relationships = graph.database.primitive_counts['NumberOfRelationshipIdsInUse']\n",
    "print(\"Connected to graph database with {:,} nodes and {:,} relationships!\".format\n",
    "     (n_nodes, n_relationships))"
   ]
  },
  {
   "cell_type": "markdown",
   "metadata": {},
   "source": [
    "## Setup workspace"
   ]
  },
  {
   "cell_type": "code",
   "execution_count": null,
   "metadata": {},
   "outputs": [],
   "source": [
    "# In Neo4j 3.5+, the directory is automatically set to /import\n",
    "data_dir = '' \n",
    "scipy_data_dir = '/tmp/data/'\n",
    "\n",
    "print(\"Neo4j data directory set to `{}`.\".format(data_dir))\n",
    "print(\"SciPy data directory set to `{}`.\".format(scipy_data_dir))\n",
    "\n",
    "# MAG files\n",
    "mag_venues_file = data_dir + 'magtwo/mag_venues.txt'\n",
    "\n",
    "n_mag_papers_files = len(glob.glob(scipy_data_dir + 'magtwo/mag_papers_*.txt'))\n",
    "mag_papers_files = [data_dir + 'magtwo/mag_papers_{}.txt'.format(i) for i in range(n_mag_papers_files)]\n",
    "\n",
    "n_mag_authors_files = len(glob.glob(scipy_data_dir + 'magtwo/mag_authors_*.txt'))\n",
    "mag_authors_files = [data_dir + 'magtwo/mag_authors_{}.txt'.format(i) for i in range(n_mag_authors_files)]\n",
    "\n",
    "n_magv1_papers_files = len(glob.glob(scipy_data_dir + 'magone/mag_papers_*.txt'))\n",
    "mag_v1_papers_files = [data_dir + 'magone/mag_papers_{}.txt'.format(i) for i in range(n_magv1_papers_files)]\n",
    "\n",
    "print(\"\\nMAG files:\")\n",
    "print(\"\\tVenue files: {}\".format(1))\n",
    "print(\"\\tPapers files: {}\".format(n_mag_papers_files))\n",
    "print(\"\\tAuthors files: {}\".format(n_mag_authors_files))\n",
    "print(\"\\tMAGv1 papers files: {}\".format(n_magv1_papers_files))\n",
    "\n",
    "# AMner files\n",
    "aminer_venues_file = data_dir + 'aminertwo/aminer_venues.txt'\n",
    "\n",
    "n_aminer_papers_files = len(glob.glob(scipy_data_dir + 'aminertwo/aminer_papers_*.txt'))\n",
    "aminer_papers_files = [data_dir + 'aminertwo/aminer_papers_{}.txt'.format(i) for i in range(n_aminer_papers_files)]\n",
    "\n",
    "n_aminer_authors_files = len(glob.glob(scipy_data_dir + 'aminertwo/aminer_authors_*.txt'))\n",
    "aminer_authors_files = [data_dir + 'aminertwo/aminer_authors_{}.txt'.format(i) for i in range(n_aminer_authors_files)]\n",
    "\n",
    "n_aminer_v1_papers_files = len(glob.glob(scipy_data_dir + 'aminerone/aminer_papers_*.txt'))\n",
    "aminer_v1_papers_files = [data_dir + 'aminerone/aminer_papers_{}.txt'.format(i) for i in range(n_aminer_v1_papers_files)]\n",
    "      \n",
    "print(\"\\nAMiner files:\")\n",
    "print(\"\\tVenue files: {}\".format(1))\n",
    "print(\"\\tPapers files: {}\".format(n_aminer_papers_files))\n",
    "print(\"\\tAuthors files: {}\".format(n_aminer_authors_files))\n",
    "print(\"\\tAMinerv1 papers files: {}\".format(n_aminer_v1_papers_files))\n",
    "\n",
    "# Linking pairs\n",
    "venue_links = 'venue_links'\n",
    "paper_linkes = ''\n",
    "author_links = ''\n",
    "\n",
    "def run_query(query, graph, print_query=False, run_query=True, print_only=False):\n",
    "    if print_only: \n",
    "        print_query = True\n",
    "        run_query = False\n",
    "    start_time = time.time()\n",
    "    if print_query:\n",
    "        print(query)\n",
    "    if run_query:\n",
    "        graph.run(query)\n",
    "    end_time = time.time()\n",
    "    seconds_elapsed = end_time-start_time\n",
    "    minutes_elapsed = (end_time-start_time)/60\n",
    "    print(\"Query completed in {:.2f} seconds.\".format(seconds_elapsed))"
   ]
  },
  {
   "cell_type": "markdown",
   "metadata": {},
   "source": [
    "# Define import functions"
   ]
  },
  {
   "cell_type": "markdown",
   "metadata": {},
   "source": [
    "## Constraints and indices"
   ]
  },
  {
   "cell_type": "code",
   "execution_count": null,
   "metadata": {},
   "outputs": [],
   "source": [
    "def add_constraints():\n",
    "    contraint_pairs = [('n:Quanta', 'n.id'), \n",
    "                       ('t:Tag', 't.name'),\n",
    "                       ('a:Author', 'a.id'), \n",
    "                       ('o:Organization', 'o.name'),\n",
    "                       ('v:Venue', 'v.id'), \n",
    "                       ('v:Venue', 'v.name')]\n",
    "    \n",
    "    for n, p in contraint_pairs:\n",
    "        query = \"CREATE CONSTRAINT ON ({}) ASSERT {} IS UNIQUE;\".format(n,p)\n",
    "        run_query(query, graph, print_query=True)\n",
    "        \n",
    "def add_indices():\n",
    "    indices = [':Quanta(year)', \n",
    "               ':Quanta(lang)', \n",
    "               ':Quanta(keywords)', \n",
    "               ':Quanta(title)', \n",
    "               ':Quanta(venue)', \n",
    "               ':Quanta(doctype)',\n",
    "               ':Quanta(idv1)',\n",
    "               ':Venue(normalizedName)', \n",
    "               ':Year(value)',\n",
    "               ':Author(name)', \n",
    "               ':Author(normalizedName)']\n",
    "    \n",
    "    for index in indices:\n",
    "        query = \"CREATE INDEX ON {};\".format(index)\n",
    "        run_query(query, graph, print_query=True)"
   ]
  },
  {
   "cell_type": "markdown",
   "metadata": {},
   "source": [
    "## (:Year)"
   ]
  },
  {
   "cell_type": "code",
   "execution_count": null,
   "metadata": {},
   "outputs": [],
   "source": [
    "def add_years(min_year, max_year):\n",
    "    query = \"\"\"\n",
    "    UNWIND range({}, {}) as yr\n",
    "    MERGE (y:Year {{value: yr}})\n",
    "    \"\"\".format(min_year, max_year)\n",
    "    run_query(query, graph)"
   ]
  },
  {
   "cell_type": "markdown",
   "metadata": {},
   "source": [
    "## (:Venue)"
   ]
  },
  {
   "cell_type": "code",
   "execution_count": null,
   "metadata": {},
   "outputs": [],
   "source": [
    "def add_venues(venues_file):\n",
    "    query = \"\"\" \n",
    "    CALL apoc.periodic.iterate(\n",
    "    \"CALL apoc.load.json('{}') YIELD value AS q RETURN q\",\n",
    "    \"MERGE (v:Venue {{id:q.id}})\n",
    "    SET v.journalId:q.JournalId, v.conferenceId:q.ConferenceId,\n",
    "        v.name:q.DisplayName, v.normalizedName:q.NormalizedName}})\", \n",
    "    {{batchSize:10000, iterateList:true, parallel:true}});\n",
    "    \"\"\".format(venues_file)\n",
    "    run_query(query, graph, print_query=True)"
   ]
  },
  {
   "cell_type": "markdown",
   "metadata": {},
   "source": [
    "## (:Quanta)"
   ]
  },
  {
   "cell_type": "code",
   "execution_count": null,
   "metadata": {},
   "outputs": [],
   "source": [
    "def add_quanta(papers_files):\n",
    "    for file_name in papers_files:\n",
    "        print('Importing {}'.format(file_name))\n",
    "        query = \"\"\"\n",
    "        CALL apoc.periodic.iterate(\n",
    "        \"CALL apoc.load.json('{}') YIELD value AS q\",\n",
    "        \"CREATE (p:Quanta {{id:q.id, title:q.title, year:q.year, keywords:q.keywords,\n",
    "            numCitations:q.n_citation, docType:q.doc_type, language:q.lang, \n",
    "            publisher:q.publisher, doi:q.doi, pdf:q.pdf, abstract:q.abstract}})\",\n",
    "        {{batchSize:10000, iterateList:true, parallel:true}})\n",
    "        \"\"\".format(file_name)\n",
    "        run_query(query, graph)"
   ]
  },
  {
   "cell_type": "markdown",
   "metadata": {},
   "source": [
    "## (:Quanta)-[:PUBLISHED_IN_YEAR]->(:Year)"
   ]
  },
  {
   "cell_type": "code",
   "execution_count": null,
   "metadata": {},
   "outputs": [],
   "source": [
    "def add_quanta_year_edges(papers_files):\n",
    "    for file_name in papers_files:\n",
    "        query = \"\"\"\n",
    "        CALL apoc.periodic.iterate(\n",
    "        \"CALL apoc.load.json('{}') YIELD value AS q RETURN q\",\n",
    "        \"MATCH (p:Quanta {{id:q.id}})\n",
    "        WITH p\n",
    "        MATCH (y:Year {{value: p.year}})\n",
    "        CREATE (p)-[:PUBLISHED_IN_YEAR]->(y)\",\n",
    "        {{batchSize:10000, iterateList:true, parallel:true}})\n",
    "        \"\"\".format(file_name)\n",
    "        run_query(query, graph)"
   ]
  },
  {
   "cell_type": "markdown",
   "metadata": {},
   "source": [
    "## (:Quanta)-[:PUBLISHED_IN_VENUE]->(:Venue)"
   ]
  },
  {
   "cell_type": "code",
   "execution_count": null,
   "metadata": {},
   "outputs": [],
   "source": [
    "def add_quanta_venue_edges(papers_files):\n",
    "    for file_name in papers_files:\n",
    "        print('Importing {}'.format(file_name))\n",
    "        query = \"\"\"\n",
    "        CALL apoc.periodic.iterate(\n",
    "        \"CALL apoc.load.json('{}') YIELD value AS q RETURN q\",\n",
    "        \"MATCH (p:Quanta {{id:q.id}})\n",
    "        WITH q, p\n",
    "        UNWIND q.venue as venue\n",
    "        WITH distinct q, p, venue\n",
    "        MERGE (v:Venue {{name: venue.raw}})\n",
    "        WITH p, v\n",
    "        CREATE (p)-[:PUBLISHED_IN_VENUE]->(v)\",\n",
    "        {{batchSize:10000, iterateList:true, parallel:true}})\n",
    "        \"\"\".format(file_name)\n",
    "        run_query(query, graph, print_only=False)"
   ]
  },
  {
   "cell_type": "markdown",
   "metadata": {},
   "source": [
    "## (:Author)"
   ]
  },
  {
   "cell_type": "code",
   "execution_count": null,
   "metadata": {},
   "outputs": [],
   "source": [
    "def add_authors(authors_files):\n",
    "    for file_name in authors_files: \n",
    "        print('Importing {}'.format(file_name))\n",
    "        query = \"\"\"\n",
    "        CALL apoc.periodic.iterate(\n",
    "        \"CALL apoc.load.json('{}') YIELD value AS q RETURN q\",\n",
    "        \"MERGE (a:Author {{id:q.id, name:q.name}})\n",
    "        SET a.normalizedName=q.normalized_name, a.position=q.position, a.lastAffiliation=q.org,\n",
    "                a.numCitations=q.n_citation, a.numPublications=q.n_pubs, a.hIndex=q.h_index\",\n",
    "        {{batchSize:10000, iterateList:true, parallel:true}});\n",
    "        \"\"\".format(file_name)\n",
    "        run_query(query, graph)"
   ]
  },
  {
   "cell_type": "markdown",
   "metadata": {},
   "source": [
    "## (:Author)-[:AUTHORED]->(:Quanta)"
   ]
  },
  {
   "cell_type": "code",
   "execution_count": null,
   "metadata": {},
   "outputs": [],
   "source": [
    "def add_author_quanta_edges(authors_files):\n",
    "    for file_name in authors_files: \n",
    "        print('Creating authored relationships for {}'.format(file_name))\n",
    "#         query = \"\"\"\n",
    "#         CALL apoc.periodic.iterate(\n",
    "#         \"CALL apoc.load.json('{}') YIELD value AS q RETURN q\",\n",
    "#         \"MATCH (a:Author {{id:q.id}})\n",
    "#         WITH q, a\n",
    "#         UNWIND q.pubs as pubs\n",
    "#         WITH a, pubs\n",
    "#         MATCH (p:Quanta {{id:pubs.i}})\n",
    "#         WITH a, p, pubs\n",
    "#         MERGE (a)-[r:AUTHORED {{order: pubs.r}}]->(p)\",\n",
    "#         {{batchSize:10000, iterateList:true, parallel:false}})\n",
    "#         \"\"\".format(file_name)\n",
    "            \n",
    "#         query = \"\"\"\n",
    "#         CALL apoc.periodic.iterate(\n",
    "#         \"CALL apoc.load.json('{}') YIELD value AS q RETURN q\",\n",
    "#         \"MATCH (p:Quanta {{id:q.id}})\n",
    "#         WITH p, q, range(0, size(q.authors)) as is\n",
    "#         UNWIND is as i\n",
    "#         MATCH (a:Author)\n",
    "#         WHERE \n",
    "#             CASE WHEN ((a.id IS NULL) OR (q.authors[i].id IS NULL))\n",
    "#             THEN (a.name=q.authors[i].name)\n",
    "#             ELSE (a.id=q.authors[i].id)\n",
    "#             END\n",
    "#         WITH p, a, i\n",
    "#         MERGE (p)-[r:AUTHORED]->(a)\n",
    "#         SET r.order = i\",\n",
    "#         {{batchSize:10000, iterateList:true, parallel:true}})\n",
    "#         \"\"\".format(file_name)\n",
    "#         run_query(query, graph)\n",
    "    \n",
    "        query = \"\"\"\n",
    "        CALL apoc.periodic.iterate(\n",
    "        \"CALL apoc.load.json('{}') YIELD value AS q RETURN q\",\n",
    "        \"MATCH (a:Author {{id:q.id}})\n",
    "        WITH q, a\n",
    "        UNWIND q.pubs as pubs\n",
    "        MATCH (p:Quanta {{id:pubs.i}})\n",
    "        MERGE (a)-[r:AUTHORED]->(p)\n",
    "        ON CREATE SET r.order = CASE WHEN pubs.r IS NULL THEN NULL ELSE pubs.r END\",\n",
    "        {{batchSize:10000, iterateList:true, parallel:false}});\n",
    "        \"\"\".format(file_name)\n",
    "        run_query(query, graph)        "
   ]
  },
  {
   "cell_type": "markdown",
   "metadata": {},
   "source": [
    "## (:Organization)"
   ]
  },
  {
   "cell_type": "code",
   "execution_count": null,
   "metadata": {},
   "outputs": [],
   "source": [
    "def add_organizations(authors_files):\n",
    "    for file_name in authors_files: \n",
    "        query = \"\"\"\n",
    "        CALL apoc.periodic.iterate(\n",
    "            \"CALL apoc.load.json('{}') YIELD value AS q RETURN q\",\n",
    "            \"WHERE q.org is not null\n",
    "            MERGE (o:Organization {{name: q.org}})\",\n",
    "            {{batchSize:10000, iterateList:true, parallel:false}});\n",
    "        \"\"\".format(data_dir + file_name)\n",
    "        run_query(query, graph)"
   ]
  },
  {
   "cell_type": "markdown",
   "metadata": {},
   "source": [
    "## (:Author)-[:AFFILIATED_WITH]->(:Organization)"
   ]
  },
  {
   "cell_type": "code",
   "execution_count": null,
   "metadata": {},
   "outputs": [],
   "source": [
    "def add_author_organization_edges(authors_files):\n",
    "    for file_name in authors_files: \n",
    "        query = \"\"\"\n",
    "        CALL apoc.periodic.iterate(\n",
    "            \"CALL apoc.load.json('{}') YIELD value AS q RETURN q\",\n",
    "            \"MATCH (a:Author {{id: q.id}})\n",
    "            MATCH (o:Organization {{name: q.org}})\n",
    "            WITH q, a, o\n",
    "            WHERE q.org is not null\n",
    "            MATCH (o:Organization {{name: q.org}})\n",
    "            MERGE (a)-[:AFFILIATED_WITH]->(o)\",\n",
    "            {{batchSize:10000, iterateList:true, parallel:false}});\n",
    "        \"\"\".format(data_dir + file_name)\n",
    "        run_query(query, graph)"
   ]
  },
  {
   "cell_type": "markdown",
   "metadata": {},
   "source": [
    "## (:Tag)"
   ]
  },
  {
   "cell_type": "code",
   "execution_count": null,
   "metadata": {},
   "outputs": [],
   "source": [
    "def add_tags(authors_files):\n",
    "    for file_name in authors_files: \n",
    "        query = \"\"\"\n",
    "        CALL apoc.periodic.iterate(\n",
    "            \"CALL apoc.load.json('{}') YIELD value AS q RETURN q\",\n",
    "            \"UNWIND q.tags as tag\n",
    "            MERGE (t:Tag {{name: tag.t}})\",\n",
    "            {{batchSize:10000, iterateList:true, parallel:true}})\n",
    "        \"\"\".format(data_dir + file_name)\n",
    "        run_query(query, graph)"
   ]
  },
  {
   "cell_type": "markdown",
   "metadata": {},
   "source": [
    "## (:Author)-[:HAS_TAG]->(:Tag)"
   ]
  },
  {
   "cell_type": "code",
   "execution_count": null,
   "metadata": {},
   "outputs": [],
   "source": [
    "def add_author_tag_edges(authors_files):\n",
    "    for file_name in authors_files: \n",
    "        print(\"Processing {}...\".format(file_name))    \n",
    "        query = \"\"\"\n",
    "        CALL apoc.periodic.iterate(\n",
    "        \"CALL apoc.load.json('{}') YIELD value AS q RETURN q\",\n",
    "        \"MATCH (a:Author {id:q.id})\n",
    "         UNWIND COALESCE(q.tags, [null]) as tag\n",
    "         MATCH (t:Tag {name:tag.t})\n",
    "         MERGE (a)-[r:HAS_TAG]->(t)\",\n",
    "        {{batchSize:10000, iterateList:true, parallel:false}});\n",
    "        \"\"\".format(file_name)\n",
    "        run_query(query, graph)"
   ]
  },
  {
   "cell_type": "markdown",
   "metadata": {},
   "source": [
    "## (:Quanta {idv1})"
   ]
  },
  {
   "cell_type": "code",
   "execution_count": null,
   "metadata": {},
   "outputs": [],
   "source": [
    "def add_v1_ids(v1_papers_files):\n",
    "    for file_name in v1_papers_files:\n",
    "        query = \"\"\"\n",
    "        CALL apoc.periodic.iterate(\n",
    "            \"CALL apoc.load.json('{}') YIELD value AS q RETURN q\",\n",
    "            \"MATCH (p:Quanta {{title: q.title}})\n",
    "             SET p.idv1 = q.id\",\n",
    "            {{batchSize:10000, iterateList:true, parallel:false}});\n",
    "        \"\"\".format(data_dir + file_name)\n",
    "        run_query(query, graph)"
   ]
  },
  {
   "cell_type": "markdown",
   "metadata": {},
   "source": [
    "## (:Quanta)-[:CITES]->(:Quanta)"
   ]
  },
  {
   "cell_type": "code",
   "execution_count": null,
   "metadata": {},
   "outputs": [],
   "source": [
    "def add_quanta_quanta_edges(v1_papers_files):\n",
    "    for file_name in v1_papers_files:\n",
    "        print(\"Processing {}...\".format(file_name))\n",
    "        query = \"\"\"\n",
    "        CALL apoc.periodic.iterate(\n",
    "            \"CALL apoc.load.json('{}') YIELD value AS q RETURN q\",\n",
    "            \"MATCH (p:Quanta {{idv1: q.id}})\n",
    "            UNWIND q.references as ref\n",
    "            WITH p, ref\n",
    "            MATCH (b:Quanta {{idv1: ref}})\n",
    "            CREATE (p)-[:CITES]->(b)\",\n",
    "            {{batchSize:10000, iterateList:true, parallel:false}});\n",
    "        \"\"\".format(data_dir + file_name)\n",
    "        run_query(query, graph)"
   ]
  },
  {
   "cell_type": "code",
   "execution_count": null,
   "metadata": {},
   "outputs": [],
   "source": [
    "def add_author_author_edges():\n",
    "    query = \"\"\"\n",
    "    CALL apoc.periodic.iterate(\n",
    "        \"MATCH (q:Quanta) WHERE size((q)<-[:AUTHORED]-()) > 1 RETURN q\",\n",
    "        \"WITH [(q)<-[:AUTHORED]-(a) | a] as coAuthors\n",
    "        UNWIND coAuthors as first\n",
    "        UNWIND coAuthors as second\n",
    "        WITH first, second\n",
    "        WHERE id(first) < id(second)\n",
    "        MERGE (first)-[r:COAUTHOR]-(second)\n",
    "        SET r.strength = CASE WHEN r.strength IS NULL THEN 1 ELSE r.strength + 1 END\",\n",
    "    {batchSize:10000, iterateList:true, parallel:false});\n",
    "    \"\"\"\n",
    "    run_query(query, graph, print_only=False)"
   ]
  },
  {
   "cell_type": "markdown",
   "metadata": {},
   "source": [
    "# Run Import"
   ]
  },
  {
   "cell_type": "markdown",
   "metadata": {},
   "source": [
    "## Setup database"
   ]
  },
  {
   "cell_type": "code",
   "execution_count": null,
   "metadata": {},
   "outputs": [],
   "source": [
    "add_constraints()"
   ]
  },
  {
   "cell_type": "code",
   "execution_count": null,
   "metadata": {},
   "outputs": [],
   "source": [
    "add_indices()"
   ]
  },
  {
   "cell_type": "code",
   "execution_count": null,
   "metadata": {},
   "outputs": [],
   "source": [
    "add_years(1700, 2020)"
   ]
  },
  {
   "cell_type": "markdown",
   "metadata": {},
   "source": [
    "## Import MAG"
   ]
  },
  {
   "cell_type": "code",
   "execution_count": null,
   "metadata": {},
   "outputs": [],
   "source": [
    "add_venues(mag_venues_file)"
   ]
  },
  {
   "cell_type": "code",
   "execution_count": null,
   "metadata": {},
   "outputs": [],
   "source": [
    "add_quanta(mag_papers_files)"
   ]
  },
  {
   "cell_type": "code",
   "execution_count": null,
   "metadata": {},
   "outputs": [],
   "source": [
    "add_quanta_year_edges(mag_papers_files)"
   ]
  },
  {
   "cell_type": "code",
   "execution_count": null,
   "metadata": {},
   "outputs": [],
   "source": [
    "add_quanta_venue_edges(mag_papers_files)"
   ]
  },
  {
   "cell_type": "code",
   "execution_count": null,
   "metadata": {},
   "outputs": [],
   "source": [
    "add_authors(mag_authors_files)"
   ]
  },
  {
   "cell_type": "code",
   "execution_count": null,
   "metadata": {},
   "outputs": [],
   "source": [
    "add_author_quanta_edges(mag_authors_files)"
   ]
  },
  {
   "cell_type": "code",
   "execution_count": null,
   "metadata": {},
   "outputs": [],
   "source": [
    "add_organizations(mag_authors_files)"
   ]
  },
  {
   "cell_type": "code",
   "execution_count": null,
   "metadata": {},
   "outputs": [],
   "source": [
    "add_author_organization_edges(mag_authors_files)"
   ]
  },
  {
   "cell_type": "code",
   "execution_count": null,
   "metadata": {},
   "outputs": [],
   "source": [
    "add_tags(mag_authors_files)"
   ]
  },
  {
   "cell_type": "code",
   "execution_count": null,
   "metadata": {},
   "outputs": [],
   "source": [
    "add_author_tag_edges(mag_authors_files)"
   ]
  },
  {
   "cell_type": "code",
   "execution_count": null,
   "metadata": {},
   "outputs": [],
   "source": [
    "add_v1_ids(mag_v1_papers_files)"
   ]
  },
  {
   "cell_type": "code",
   "execution_count": null,
   "metadata": {},
   "outputs": [],
   "source": [
    "add_quanta_quanta_edges(mag_v1_papers_files)"
   ]
  },
  {
   "cell_type": "markdown",
   "metadata": {},
   "source": [
    "## Import AMiner"
   ]
  },
  {
   "cell_type": "code",
   "execution_count": null,
   "metadata": {},
   "outputs": [],
   "source": [
    "add_venues(aminer_venues_file)"
   ]
  },
  {
   "cell_type": "code",
   "execution_count": null,
   "metadata": {},
   "outputs": [],
   "source": [
    "add_quanta(aminer_papers_files)"
   ]
  },
  {
   "cell_type": "code",
   "execution_count": null,
   "metadata": {},
   "outputs": [],
   "source": [
    "add_quanta_year_edges(aminer_papers_files)\n",
    "#added"
   ]
  },
  {
   "cell_type": "code",
   "execution_count": null,
   "metadata": {},
   "outputs": [],
   "source": [
    "add_quanta_venue_edges(aminer_papers_files)\n",
    "#added"
   ]
  },
  {
   "cell_type": "code",
   "execution_count": null,
   "metadata": {},
   "outputs": [],
   "source": [
    "add_authors(aminer_authors_files)\n",
    "#added"
   ]
  },
  {
   "cell_type": "code",
   "execution_count": null,
   "metadata": {},
   "outputs": [],
   "source": [
    "add_author_quanta_edges(aminer_authors_files)\n",
    "#added"
   ]
  },
  {
   "cell_type": "code",
   "execution_count": null,
   "metadata": {},
   "outputs": [],
   "source": [
    "add_organizations(aminer_authors_files)\n",
    "#added"
   ]
  },
  {
   "cell_type": "code",
   "execution_count": null,
   "metadata": {},
   "outputs": [],
   "source": [
    "add_author_organization_edges(aminer_authors_files)\n",
    "#added"
   ]
  },
  {
   "cell_type": "code",
   "execution_count": null,
   "metadata": {},
   "outputs": [],
   "source": [
    "add_tags(aminer_authors_files)\n",
    "#added"
   ]
  },
  {
   "cell_type": "code",
   "execution_count": null,
   "metadata": {},
   "outputs": [],
   "source": [
    "add_author_tag_edges(aminer_authors_files)\n",
    "#not added!"
   ]
  },
  {
   "cell_type": "code",
   "execution_count": null,
   "metadata": {},
   "outputs": [],
   "source": [
    "add_v1_ids(aminer_v1_papers_files)\n",
    "#added"
   ]
  },
  {
   "cell_type": "code",
   "execution_count": null,
   "metadata": {},
   "outputs": [],
   "source": [
    "add_quanta_quanta_edges(aminer_v1_papers_files)"
   ]
  },
  {
   "cell_type": "markdown",
   "metadata": {},
   "source": [
    "## Further additions"
   ]
  },
  {
   "cell_type": "code",
   "execution_count": null,
   "metadata": {},
   "outputs": [],
   "source": [
    "add_author_author_edges()"
   ]
  }
 ],
 "metadata": {
  "kernelspec": {
   "display_name": "Python 3",
   "language": "python",
   "name": "python3"
  },
  "language_info": {
   "codemirror_mode": {
    "name": "ipython",
    "version": 3
   },
   "file_extension": ".py",
   "mimetype": "text/x-python",
   "name": "python",
   "nbconvert_exporter": "python",
   "pygments_lexer": "ipython3",
   "version": "3.6.7"
  }
 },
 "nbformat": 4,
 "nbformat_minor": 2
}
