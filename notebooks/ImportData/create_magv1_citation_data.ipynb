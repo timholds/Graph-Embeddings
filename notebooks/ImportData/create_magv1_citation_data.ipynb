{
 "cells": [
  {
   "cell_type": "code",
   "execution_count": null,
   "metadata": {},
   "outputs": [],
   "source": [
    "import jsonpath_ng\n",
    "import json\n",
    "import pandas as pd\n",
    "import math"
   ]
  },
  {
   "cell_type": "code",
   "execution_count": null,
   "metadata": {},
   "outputs": [],
   "source": [
    "# For importing everything into one big dataframe\n",
    "files = ['/Users/timholdsworth/code/scaling-science/notebooks/data/v1/mag_1e3.txt']\n",
    "big_frame = pd.DataFrame()\n",
    "for file in files:\n",
    "    df = pd.read_json(file, lines=True)\n",
    "    big_frame = big_frame.append(df, ignore_index=True)\n",
    "    \n",
    "\n",
    "df = pd.read_json(file, lines=True).head(15)"
   ]
  },
  {
   "cell_type": "code",
   "execution_count": null,
   "metadata": {},
   "outputs": [],
   "source": [
    "%%timeit\n",
    "file_out = \"/Users/timholdsworth/code/scaling-science/notebooks/data/v1/mag_papers_clean_0.txt\"\n",
    "with open(file_out, \"w+\") as f:\n",
    "    for row in df.iterrows(): \n",
    "        paper_id = row[1][5]\n",
    "        title = row[1][14] \n",
    "        refs_list = row[1][13] \n",
    "                \n",
    "        if type(refs_list) is float: # there are no citations\n",
    "            #print('no citations')\n",
    "            f.write(str({\"id\": paper_id, \"title\": title}))\n",
    "        \n",
    "        else: # there are citations\n",
    "            #print('existing citations, matching id to title')\n",
    "            refs_titled = []\n",
    "            for ref in refs_list:\n",
    "\n",
    "                # Once/if all the ids are in the database we can take this if else out\n",
    "                if df[df['id'] == ref].empty: # the id doesn't match for paper in the df\n",
    "                    pass\n",
    "                else:\n",
    "                    ref_titled = df[df['id'] == ref].title.values[0]\n",
    "                    refs_titled.append(ref_titled)\n",
    "            \n",
    "            # Once/if all the ids are in the database we can take this if else out\n",
    "            if not refs_titled: # none of the cited paper ids were in the df\n",
    "                f.write(str({\"id\": paper_id, \"title\": title}))\n",
    "            else: \n",
    "                f.write(str({\"id\": paper_id, \"title\": title, \"refs\": refs_titled}))\n"
   ]
  }
 ],
 "metadata": {
  "kernelspec": {
   "display_name": "Python 3",
   "language": "python",
   "name": "python3"
  },
  "language_info": {
   "codemirror_mode": {
    "name": "ipython",
    "version": 3
   },
   "file_extension": ".py",
   "mimetype": "text/x-python",
   "name": "python",
   "nbconvert_exporter": "python",
   "pygments_lexer": "ipython3",
   "version": "3.6.5"
  }
 },
 "nbformat": 4,
 "nbformat_minor": 2
}
