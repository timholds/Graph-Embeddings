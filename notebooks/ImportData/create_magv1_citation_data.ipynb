{
 "cells": [
  {
   "cell_type": "markdown",
   "metadata": {},
   "source": [
    "### Create a dict from magv1 papers with ids as keys, titles as values "
   ]
  },
  {
   "cell_type": "code",
   "execution_count": null,
   "metadata": {},
   "outputs": [],
   "source": [
    "files = ['/Users/timholdsworth/code/scaling-science/notebooks/data/v1/mag_papers_8/mag_papers_{}.txt'.format(i) for i in range(160, 166)] "
   ]
  },
  {
   "cell_type": "code",
   "execution_count": null,
   "metadata": {},
   "outputs": [],
   "source": [
    "# Make ID-title dict from magv1 papers\n",
    "def json_to_dict(files):\n",
    "    id_dict = dict()\n",
    "    for file in files:\n",
    "        print(file)\n",
    "        start_time = time.time()\n",
    "\n",
    "        with open(file) as f:\n",
    "            data = f.readlines()\n",
    "            for line in data:\n",
    "                jsondata = json.loads(line)\n",
    "                paper_id = jsondata['id']\n",
    "                title = jsondata['title']\n",
    "                id_dict.update({paper_id : title})\n",
    "                end_time = time.time()\n",
    "\n",
    "        seconds_elapsed = (end_time-start_time)\n",
    "        print(\"Added papers from file to dict in {:.2f} seconds.\".format(seconds_elapsed))\n",
    "        print(\"Total of \" + str(len(id_dict)) + \" lines in the dictionary after running\")\n",
    "    \n",
    "    return id_dict\n",
    "\n",
    "id_dict = json_to_dict(files)"
   ]
  },
  {
   "cell_type": "code",
   "execution_count": null,
   "metadata": {},
   "outputs": [],
   "source": [
    "def get_title_for_id(paper_id):\n",
    "    title = id_dict[paper_id]\n",
    "    return title"
   ]
  },
  {
   "cell_type": "code",
   "execution_count": null,
   "metadata": {},
   "outputs": [],
   "source": [
    "# Replace the ids with the titles and write the file back\n",
    "with open (file_in) as f:\n",
    "    data = f.readlines()\n",
    "    for line in data:\n",
    "        jsondata = json.loads(line)\n",
    "        print(type(jsondata))\n",
    "        if 'references' in jsondata.keys():\n",
    "            ref_ids = jsondata['references']\n",
    "            print(type(ref_ids))\n",
    "            for ref_id in ref_ids:\n",
    "                line.replace(ref_id, get_title_for_id(ref_id))\n",
    "                \n",
    "        else:\n",
    "            pass\n",
    "            #title = jsondata['title']\n",
    "            # TODO figure out how to actually get the elements of this with replace method \n",
    "\n",
    "# How to write back to file?\n"
   ]
  },
  {
   "cell_type": "markdown",
   "metadata": {},
   "source": [
    "### SQL"
   ]
  },
  {
   "cell_type": "code",
   "execution_count": null,
   "metadata": {},
   "outputs": [],
   "source": [
    "import sqlite3\n",
    "\n",
    "db_filename = ':memory:'\n",
    "#db_filename = 'example.db'\n",
    "\n",
    "conn = sqlite3.connect(db_filename)\n",
    "c = conn.cursor()"
   ]
  },
  {
   "cell_type": "code",
   "execution_count": null,
   "metadata": {},
   "outputs": [],
   "source": [
    "c.execute('''DROP TABLE mag''')"
   ]
  },
  {
   "cell_type": "code",
   "execution_count": null,
   "metadata": {},
   "outputs": [],
   "source": [
    "# Create table\n",
    "c.execute('''CREATE TABLE mag\n",
    "         (id varchar(15), title text, refs text)''')"
   ]
  },
  {
   "cell_type": "code",
   "execution_count": null,
   "metadata": {},
   "outputs": [],
   "source": [
    "# For importing everything a df and read the lines\n",
    "# TODO Update this to an optimized df\n",
    "files = ['/Users/timholdsworth/code/scaling-science/notebooks/data/v1/mag_1e3.txt']\n",
    "big_frame = pd.DataFrame()\n",
    "for file in files:\n",
    "    df = dd.read_json(file, lines=True)\n",
    "    #big_frame = big_frame.append(df, ignore_index=True)\n",
    "    df_big = dd.concat([df], axis=1)\n",
    "    \n",
    "\n",
    "df = pd.read_json(file, lines=True)\n",
    "\n",
    "\n",
    "for row in df.iterrows():\n",
    "    print(row[1]['references'])\n",
    "    #c.execute(\"insert into mag values (?, ?)\", [str(row[1]['id']), row[1]['title']])\n",
    "    try:\n",
    "        c.execute(\"insert into mag values (?, ?, ?)\", [row[1]['id'], row[1]['title'], row[1]['references']])\n",
    "    except:\n",
    "        print(\"Interface error, probably NaN value\")\n",
    "        \n",
    "\n",
    "conn.commit()\n",
    "\n",
    "# Close db connection\n",
    "# 36 characters long for id field\n"
   ]
  },
  {
   "cell_type": "code",
   "execution_count": null,
   "metadata": {},
   "outputs": [],
   "source": [
    "c.execute('SELECT * FROM mag')\n",
    "all_rows = c.fetchall()\n",
    "all_rows"
   ]
  },
  {
   "cell_type": "code",
   "execution_count": null,
   "metadata": {},
   "outputs": [],
   "source": []
  },
  {
   "cell_type": "code",
   "execution_count": null,
   "metadata": {},
   "outputs": [],
   "source": []
  },
  {
   "cell_type": "code",
   "execution_count": null,
   "metadata": {},
   "outputs": [],
   "source": [
    "file_out = \"/Users/timholdsworth/code/scaling-science/notebooks/data/v1/mag_papers_clean_0.txt\"\n",
    "start_time = time.time()\n",
    "with open(file_out, \"w+\") as f:"
   ]
  },
  {
   "cell_type": "markdown",
   "metadata": {},
   "source": [
    "### Creating the MAGv1 with titles in references using Pandas"
   ]
  },
  {
   "cell_type": "code",
   "execution_count": null,
   "metadata": {},
   "outputs": [],
   "source": [
    "import json\n",
    "import pandas as pd\n",
    "import math\n",
    "import time\n",
    "import dask.dataframe as dd\n",
    "import numpy as np\n",
    "from numpy import nan\n"
   ]
  },
  {
   "cell_type": "code",
   "execution_count": null,
   "metadata": {},
   "outputs": [],
   "source": [
    "# For importing everything into one big dataframe\n",
    "start_time = time.time()\n",
    "paper_files = ['/Users/timholdsworth/code/scaling-science/notebooks/data/v1/mag_papers_8/mag_papers_100k_165.txt']\n",
    "big_frame = pd.DataFrame()\n",
    "for file in files:\n",
    "    df = dd.read_json(file, lines=True)\n",
    "    #big_frame = big_frame.append(df, ignore_index=True)\n",
    "    df_big = dd.concat([df], axis=1)\n",
    "    \n",
    "\n",
    "df = pd.read_json(file, lines=True)\n",
    "\n",
    "end_time = time.time()\n",
    "seconds_elapsed = end_time-start_time\n",
    "print(\"Query completed in {:.2f} seconds.\".format(seconds_elapsed))"
   ]
  },
  {
   "cell_type": "code",
   "execution_count": null,
   "metadata": {},
   "outputs": [],
   "source": [
    "df = df.set_index('id')\n",
    "df.head()"
   ]
  },
  {
   "cell_type": "code",
   "execution_count": null,
   "metadata": {},
   "outputs": [],
   "source": [
    "id_dict = dict()\n",
    "print(len(id_dict))\n"
   ]
  },
  {
   "cell_type": "code",
   "execution_count": null,
   "metadata": {},
   "outputs": [],
   "source": [
    "# Make ID-title dict from magv1 papers\n",
    "files = ['/Users/timholdsworth/code/scaling-science/notebooks/data/v1/mag_papers_8/mag_papers_{}.txt'.format(i) for i in range(160, 166)] \n",
    "\n",
    "for file in files:\n",
    "    print(file)\n",
    "    print(\"Total of \" + str(len(id_dict)) + \" lines in the dictionary before running\")\n",
    "    start_time = time.time()\n",
    "    \n",
    "    with open(file) as f:\n",
    "        data = f.readlines()\n",
    "        for line in data:\n",
    "            jsondata = json.loads(line)\n",
    "            paper_id = jsondata['id']\n",
    "            title = jsondata['title']\n",
    "            id_dict.update({paper_id : title})\n",
    "            end_time = time.time()\n",
    "            \n",
    "    seconds_elapsed = (end_time-start_time)\n",
    "    print(\"Query completed in {:.2f} seconds.\".format(seconds_elapsed))\n",
    "    print(\"Total of \" + str(len(id_dict)) + \" lines in the dictionary after running\")\n",
    "\n",
    "    \n",
    "print(len(id_dict))\n",
    "\n",
    "\n",
    "\n"
   ]
  },
  {
   "cell_type": "code",
   "execution_count": null,
   "metadata": {},
   "outputs": [],
   "source": [
    "def get_title_for_id(paper_id):\n",
    "    title = id_dict[paper_id]\n",
    "    return title"
   ]
  },
  {
   "cell_type": "code",
   "execution_count": null,
   "metadata": {},
   "outputs": [],
   "source": [
    "# Replace the ids with the titles and write the file back\n",
    "with open (file_in) as f:\n",
    "    data = f.readlines()\n",
    "    for line in data:\n",
    "        jsondata = json.loads(line)\n",
    "        print(type(jsondata))\n",
    "        if 'references' in jsondata.keys():\n",
    "            ref_ids = jsondata['references']\n",
    "            print(type(ref_ids))\n",
    "            for ref_id in ref_ids:\n",
    "                line.replace(ref_id, get_title_for_id(ref_id))\n",
    "                \n",
    "        else:\n",
    "            pass\n",
    "            #title = jsondata['title']\n",
    "            # TODO figure out how to actually get the elements of this with replace method \n",
    "\n",
    "# How to write back to file?\n"
   ]
  },
  {
   "cell_type": "code",
   "execution_count": null,
   "metadata": {},
   "outputs": [],
   "source": [
    "# Add a column with the references as titles\n",
    "start_time = time.time()\n",
    "\n",
    "def df_to_txt(refs):\n",
    "    \n",
    "    # if refs isna:\n",
    "    if type(refs) is float:\n",
    "        pass\n",
    "        print('!!!!!!!!!!!!!!!!!!!!!!!!!!!!!')  \n",
    "    else:\n",
    "        print([df[df.index == ref].title for ref in refs])\n",
    "        #pass\n",
    "        return [df[df.index == ref].title for ref in refs]\n",
    "        #df[row]['refs_t'] = []\n",
    "        print('!!!')\n",
    "    \n",
    "        \n",
    "df['refs_t'] = df['references'].apply(df_to_txt)\n",
    "\n",
    "end_time = time.time()\n",
    "seconds_elapsed = end_time-start_time\n",
    "print(\"Query completed in {:.2f} seconds.\".format(seconds_elapsed))\n"
   ]
  },
  {
   "cell_type": "code",
   "execution_count": null,
   "metadata": {},
   "outputs": [],
   "source": []
  },
  {
   "cell_type": "code",
   "execution_count": null,
   "metadata": {},
   "outputs": [],
   "source": [
    "file_out = \"/Users/timholdsworth/code/scaling-science/notebooks/data/v1/mag_papers_clean_0.txt\"\n",
    "start_time = time.time()\n",
    "with open(file_out, \"w+\") as f:\n",
    "    df.apply(print_to_text)\n",
    "    \n",
    "def print_to_txt():\n",
    "    if type(df['refs_t']) is (not empty):\n",
    "        f.write(str({\"id\": df['id'], \"title\": df['title'], \"refs\": df['refs_t']}))\n",
    "\n",
    "    else:\n",
    "        f.write(str({\"id\": df['id'], \"title\": df['title']}))\n",
    "        \n",
    "\n",
    "\n",
    "file_out = \"/Users/timholdsworth/code/scaling-science/notebooks/data/v1/mag_papers_clean_0.txt\"\n",
    "start_time = time.time()\n",
    "with open(file_out, \"w+\") as f:\n",
    "    for row in df.iterrows(): \n",
    "        paper_id = row[1][5]\n",
    "        title = row[1][14] \n",
    "        refs_list = row[1][13] \n",
    "                \n",
    "        if type(refs_list) is float: # there are no citations\n",
    "            #print('no citations')\n",
    "            f.write(str({\"id\": paper_id, \"title\": title}))\n",
    "        \n",
    "        else: # there are citations\n",
    "            #print('existing citations, matching id to title')\n",
    "            refs_titled = []\n",
    "            for ref in refs_list:\n",
    "\n",
    "                # Once/if all the ids are in the database we can take this if else out\n",
    "                if df[df['id'] == ref].empty: # the id doesn't match for paper in the df\n",
    "                    pass\n",
    "                else:\n",
    "                    ref_titled = df[df['id'] == ref].title.values[0]\n",
    "                    refs_titled.append(ref_titled)\n",
    "            \n",
    "            # Once/if all the ids are in the database we can take this if else out\n",
    "            if not refs_titled: # none of the cited paper ids were in the df\n",
    "                f.write(str({\"id\": paper_id, \"title\": title}))\n",
    "            else: \n",
    "                f.write(str({\"id\": paper_id, \"title\": title, \"refs\": refs_titled}))\n",
    "\n",
    "end_time = time.time()\n",
    "seconds_elapsed = end_time-start_time\n",
    "minutes_elapsed = (end_time-start_time)/60\n",
    "print(\"Query completed in {:.2f} seconds.\".format(seconds_elapsed))"
   ]
  },
  {
   "cell_type": "code",
   "execution_count": null,
   "metadata": {},
   "outputs": [],
   "source": [
    "file_out = \"/Users/timholdsworth/code/scaling-science/notebooks/data/v1/mag_papers_clean_0.txt\"\n",
    "start_time = time.time()\n",
    "with open(file_out, \"w+\") as f:\n",
    "    for row in df.iterrows(): \n",
    "        paper_id = row[1][5]\n",
    "        title = row[1][14] \n",
    "        refs_list = row[1][13] \n",
    "                \n",
    "        if type(refs_list) is float: # there are no citations\n",
    "            #print('no citations')\n",
    "            f.write(str({\"id\": paper_id, \"title\": title}))\n",
    "        \n",
    "        else: # there are citations\n",
    "            #print('existing citations, matching id to title')\n",
    "            refs_titled = []\n",
    "            for ref in refs_list:\n",
    "\n",
    "                # Once/if all the ids are in the database we can take this if else out\n",
    "                if df[df['id'] == ref].empty: # the id doesn't match for paper in the df\n",
    "                    pass\n",
    "                else:\n",
    "                    ref_titled = df[df['id'] == ref].title.values[0]\n",
    "                    refs_titled.append(ref_titled)\n",
    "            \n",
    "            # Once/if all the ids are in the database we can take this if else out\n",
    "            if not refs_titled: # none of the cited paper ids were in the df\n",
    "                f.write(str({\"id\": paper_id, \"title\": title}))\n",
    "            else: \n",
    "                f.write(str({\"id\": paper_id, \"title\": title, \"refs\": refs_titled}))\n",
    "\n",
    "end_time = time.time()\n",
    "seconds_elapsed = end_time-start_time\n",
    "minutes_elapsed = (end_time-start_time)/60\n",
    "print(\"Query completed in {:.2f} seconds.\".format(seconds_elapsed))"
   ]
  },
  {
   "cell_type": "markdown",
   "metadata": {},
   "source": [
    "### SQLLITE"
   ]
  },
  {
   "cell_type": "code",
   "execution_count": null,
   "metadata": {},
   "outputs": [],
   "source": []
  },
  {
   "cell_type": "code",
   "execution_count": null,
   "metadata": {},
   "outputs": [],
   "source": [
    "# Import the data from the json\n",
    "with open('/Users/timholdsworth/code/scaling-science/notebooks/data/v1/mag_1e3.txt') as f:\n",
    "    data = f.readline()\n",
    "    jsondata = json.loads(data)\n",
    "    print(jsondata)\n",
    "    #c.execute()"
   ]
  },
  {
   "cell_type": "code",
   "execution_count": null,
   "metadata": {},
   "outputs": [],
   "source": [
    "# Put the data into the SQL lite Db\n",
    "#c.execute()\n",
    "c.execute('''CREATE TABLE papers(id INTEGER PRIMARY KEY, \n",
    "                title TEXT, author TEXT, references TEXT, year TEXT)"
   ]
  },
  {
   "cell_type": "code",
   "execution_count": null,
   "metadata": {},
   "outputs": [],
   "source": []
  },
  {
   "cell_type": "markdown",
   "metadata": {},
   "source": [
    "### Trying to speed things up with DAsk - Task Scheduler"
   ]
  },
  {
   "cell_type": "code",
   "execution_count": null,
   "metadata": {},
   "outputs": [],
   "source": [
    "import dask.dataframe as dd\n",
    "df = dd.read_json(file, lines=True)\n",
    "df.head()"
   ]
  },
  {
   "cell_type": "markdown",
   "metadata": {},
   "source": [
    "### Spark Stuff"
   ]
  },
  {
   "cell_type": "code",
   "execution_count": null,
   "metadata": {},
   "outputs": [],
   "source": [
    "from pyspark import SparkContext\n",
    "from pyspark.sql import SQLContext\n",
    "sc = SparkContext(appName = \"test\")"
   ]
  },
  {
   "cell_type": "code",
   "execution_count": null,
   "metadata": {},
   "outputs": [],
   "source": [
    "sqlContext = SQLContext(sc)\n",
    "sdf = SQLContext.createDataFrame(df)\n",
    "sdf"
   ]
  },
  {
   "cell_type": "code",
   "execution_count": null,
   "metadata": {},
   "outputs": [],
   "source": [
    "# Takes in a given row (paper), returns the data to be written to the file\n",
    "\n",
    "def make_paper():\n",
    "    data = {\"id\": row[1][5],\n",
    "        \"title\": row[1][14],\n",
    "        \"refs\": row[1][13]}\n",
    "    \n",
    "    print(data)\n",
    "    return data \n",
    "\n",
    "res = df.apply(make_paper(), axis=1)\n",
    "res\n"
   ]
  }
 ],
 "metadata": {
  "kernelspec": {
   "display_name": "Python 3",
   "language": "python",
   "name": "python3"
  }
 },
 "nbformat": 4,
 "nbformat_minor": 2
}
