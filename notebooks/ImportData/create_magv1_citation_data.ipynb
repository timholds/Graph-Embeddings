{
 "cells": [
  {
   "cell_type": "code",
   "execution_count": null,
   "metadata": {},
   "outputs": [],
   "source": [
    "import jsonpath_ng\n",
    "import json\n",
    "import pandas as pd\n",
    "import math"
   ]
  },
  {
   "cell_type": "code",
   "execution_count": null,
   "metadata": {},
   "outputs": [],
   "source": [
    "file = '/Users/timholdsworth/code/scaling-science/notebooks/data/v1/mag_1e3.txt'\n",
    "df = pd.read_json(file, lines=True).head(15)"
   ]
  },
  {
   "cell_type": "code",
   "execution_count": null,
   "metadata": {},
   "outputs": [],
   "source": []
  },
  {
   "cell_type": "code",
   "execution_count": null,
   "metadata": {},
   "outputs": [],
   "source": [
    "file_out = \"/Users/timholdsworth/code/scaling-science/notebooks/data/v1/mag_papers_clean_0.txt\"\n",
    "with open(file_out, \"w+\") as f:\n",
    "    for row in df.iterrows(): \n",
    "        paper_id = row[1][5]\n",
    "        title = row[1][14] \n",
    "        refs_list = row[1][13] \n",
    "                \n",
    "        if type(refs_list) is float: # there are no citations\n",
    "            print('no citations')\n",
    "            f.write(str({\"id\": paper_id, \"title\": title}))\n",
    "        \n",
    "        else: # there are citations\n",
    "            print('existing citations, matching id to title')\n",
    "            refs_titled = []\n",
    "            for ref in refs_list:\n",
    "\n",
    "                # Once/if all the ids are in the database we can take this if else out\n",
    "                if df[df['id'] == ref].empty: # the id doesn't match for paper in the df\n",
    "                    pass\n",
    "                else:\n",
    "                    ref_titled = df[df['id'] == ref].title.values[0]\n",
    "                    refs_titled.append(ref_titled)\n",
    "            \n",
    "            # Once/if all the ids are in the database we can take this if else out\n",
    "            if not refs_titled: # none of the cited paper ids were in the df\n",
    "                f.write(str({\"id\": paper_id, \"title\": title}))\n",
    "            else: \n",
    "                f.write(str({\"id\": paper_id, \"title\": title, \"refs\": refs_titled}))\n"
   ]
  },
  {
   "cell_type": "code",
   "execution_count": null,
   "metadata": {},
   "outputs": [],
   "source": [
    "if type(refs_list) is float:\n",
    "            print('floater!')\n",
    "            f.write(str({\"id\": paper_id, \"title\": title}))\n",
    "  \n",
    "        else: # there are citations\n",
    "            print(refs_list)\n",
    "            \n",
    "            # for each citaiton in the list, get the title\n",
    "            for ref in row[1][13]:\n",
    "                print(ref)\n",
    "                print(df[df['id'] == ref].title.values[0])\n",
    "                print(df[df['id'] == \"\\'\" + ref + \"\\'\"].title.values[0])\n",
    "                ref_titled = df[df['id'] == \"\\'\" + ref + \"\\'\"].title.values[0]\n",
    "                refs_titled.append(ref_titled)\n",
    "                \n",
    "            f.write(str({\"id\": paper_id, \"title\": title, \"refs\": refs_titled}))\n"
   ]
  },
  {
   "cell_type": "code",
   "execution_count": null,
   "metadata": {},
   "outputs": [],
   "source": [
    "\n",
    "# For every single reference, find the corresponding title by looking up the id\n",
    "refs_ids = df['references']\n",
    "#print(type(refs_ids[0][0]))\n",
    "\n",
    "refs = []\n",
    "ref_titles = []\n",
    "\n",
    "for item in refs_ids.iteritems():\n",
    "    print(item[1])\n",
    "    if (pd.isnull(any(item[1]))):\n",
    "        print('Null appetite')\n",
    "        \n",
    "    else:\n",
    "        print('Found ID')\n",
    "        for elem in item[1]:\n",
    "            print(elem)\n",
    "    \n",
    "    \n"
   ]
  },
  {
   "cell_type": "code",
   "execution_count": null,
   "metadata": {},
   "outputs": [],
   "source": [
    "# For importing everything into one big dataframe\n",
    "for file in os.listdir():\n",
    "    if file.endswith('.txt'):\n",
    "        df = pd.read_json(file, lines=True)\n",
    "        big_frame = big_frame.append(df, ignore_index=True)"
   ]
  },
  {
   "cell_type": "code",
   "execution_count": null,
   "metadata": {},
   "outputs": [],
   "source": [
    "# Test dict\n",
    "d.clear()"
   ]
  },
  {
   "cell_type": "code",
   "execution_count": null,
   "metadata": {},
   "outputs": [],
   "source": [
    "d = {\n",
    "    \"papers\": []\n",
    "}"
   ]
  },
  {
   "cell_type": "code",
   "execution_count": null,
   "metadata": {},
   "outputs": [],
   "source": [
    "#JSON selector baby\n",
    "id_ref = \n",
    "title_ref = $.papers[?(@.id == \"53e9ab9eb7602d970354a97e\")].title"
   ]
  },
  {
   "cell_type": "code",
   "execution_count": null,
   "metadata": {},
   "outputs": [],
   "source": [
    "id_ref = '123'\n",
    "title_ref = 'Title'\n",
    "\n",
    "\n",
    "d['papers'].append({'id': ref})\n",
    "                    \n",
    "#d['papers'].append({'id': '123', 'title': 'Systems and Such', 'refs': ['By Title!', 'Cite This']})"
   ]
  },
  {
   "cell_type": "code",
   "execution_count": null,
   "metadata": {},
   "outputs": [],
   "source": [
    "d"
   ]
  },
  {
   "cell_type": "code",
   "execution_count": null,
   "metadata": {},
   "outputs": [],
   "source": [
    "d"
   ]
  },
  {
   "cell_type": "markdown",
   "metadata": {},
   "source": [
    "### OLD"
   ]
  },
  {
   "cell_type": "code",
   "execution_count": null,
   "metadata": {},
   "outputs": [],
   "source": [
    "# Put all id's into a dictionary - why is this only returning the last thing on the list?\n",
    "values = dfs['id']\n",
    "#print(values)\n",
    "keys_list = [i for i in range (len(values))]\n",
    "keys = pd.Series(keys_list)\n",
    "#print(keys)\n",
    "\n",
    "nd = dict(zip(keys, values))\n",
    "#nd"
   ]
  },
  {
   "cell_type": "code",
   "execution_count": null,
   "metadata": {},
   "outputs": [],
   "source": [
    "print(item[1])\n",
    "    if (math.isna(item[1])):\n",
    "        pass\n",
    "    else:\n",
    "    for ref in item[1]:\n",
    "        print(ref)\n",
    "        \n",
    "        \n",
    "        #print(ref)\n",
    "        #print(df.loc[df['id'] == ref])\n",
    "        #cor_title = df.loc[df['id'] == ref].title\n",
    "    #refs.append(ref_titles)\n",
    "#pd.Series(refs_titles)"
   ]
  },
  {
   "cell_type": "code",
   "execution_count": null,
   "metadata": {},
   "outputs": [],
   "source": [
    "df[df['id'] == '00000061-0bab-468b-9481-de0c899783f3'].title.values[0]\n",
    "\n",
    "for row in df.iterrows():\n",
    "    refs_list = row[1][13]\n",
    "    print(type(refs_list))\n",
    "    if (type(refs_list)\n",
    "ids = df['id']\n",
    "titles = df['title']"
   ]
  }
 ],
 "metadata": {
  "kernelspec": {
   "display_name": "Python 3",
   "language": "python",
   "name": "python3"
  },
  "language_info": {
   "codemirror_mode": {
    "name": "ipython",
    "version": 3
   },
   "file_extension": ".py",
   "mimetype": "text/x-python",
   "name": "python",
   "nbconvert_exporter": "python",
   "pygments_lexer": "ipython3",
   "version": "3.6.5"
  }
 },
 "nbformat": 4,
 "nbformat_minor": 2
}
