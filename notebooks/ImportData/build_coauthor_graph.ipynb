{
 "cells": [
  {
   "cell_type": "code",
   "execution_count": null,
   "metadata": {},
   "outputs": [],
   "source": [
    "import time\n",
    "import json\n",
    "from py2neo import Graph, Node, Relationship\n",
    "\n",
    "graph = Graph(\"bolt://neo4j-coauthor:7687\", auth=('neo4j','myneo'))\n",
    " \n",
    "print(\"Connected to graph database with {:,} nodes and {:,} relationships!\".format(\n",
    "    graph.database.primitive_counts['NumberOfNodeIdsInUse'], \n",
    "    graph.database.primitive_counts['NumberOfRelationshipIdsInUse']))"
   ]
  },
  {
   "cell_type": "code",
   "execution_count": null,
   "metadata": {},
   "outputs": [],
   "source": [
    "# Constrain one name per author\n",
    "print(\"Creating uniqueness constraint (and also index) on Author names...\", end=\" \", flush=True)\n",
    "query = \"\"\"CREATE CONSTRAINT ON (a:Author) ASSERT a.name IS UNIQUE;\"\"\"\n",
    "graph.run(query).evaluate()\n",
    "print(\"Done.\")"
   ]
  },
  {
   "cell_type": "code",
   "execution_count": null,
   "metadata": {},
   "outputs": [],
   "source": [
    "# Import authors as nodes\n",
    "local_data_dir = '/tmp/data/mag/'\n",
    "neo4j_data_dir = '/import/mag/'\n",
    "\n",
    "import glob, os, time\n",
    "\n",
    "start_time = time.time()\n",
    "\n",
    "for _,_ , files in os.walk(local_data_dir):\n",
    "    for file in sorted(files):\n",
    "        if file.endswith('.txt'):\n",
    "           \n",
    "            print(\"Importing {}...\".format(file), end=\" \", flush=True)\n",
    "            query = \"\"\"\n",
    "            CALL apoc.periodic.iterate(\n",
    "            \"CALL apoc.load.json('file://{}{}') YIELD value AS q RETURN q\"\n",
    "            ,\n",
    "            \"UNWIND q.id AS id \n",
    "            FOREACH (author_one IN q.authors |\n",
    "                MERGE (a:Author {{name:author_one.name}}));\"\n",
    "            , {{batchSize:10000, iterateList:true, parallel:false}});\n",
    "            \"\"\".format(neo4j_data_dir, file)\n",
    "        \n",
    "#             print(query)\n",
    "            query_start_time = time.time()\n",
    "            graph.run(query).evaluate()\n",
    "            print(\"Done in ({:.2f} minutes)...\".format((time.time()-query_start_time)/60))\n",
    "\n",
    "print(\"Finished all imports in {:.2f} hours.\".format((time.time()-start_time)/60/60))"
   ]
  },
  {
   "cell_type": "code",
   "execution_count": null,
   "metadata": {},
   "outputs": [],
   "source": [
    "\n",
    "# *****************************************************\n",
    "# ********* TODO: THIS NEEDS TO BE CHANGED !! *********\n",
    "# *****************************************************\n",
    "\n",
    "local_data_dir = '/tmp/data/mag/'\n",
    "neo4j_data_dir = '/import/mag/'\n",
    "\n",
    "import glob, os, time\n",
    "\n",
    "start_time = time.time()\n",
    "\n",
    "for _,_ , files in os.walk(local_data_dir):\n",
    "    for file in sorted(files):\n",
    "        if file.endswith('.txt'):\n",
    "           \n",
    "            print(\"Importing {}...\".format(file), end=\" \", flush=True)\n",
    "            query = \"\"\"\n",
    "            CALL apoc.periodic.iterate(\n",
    "            \"CALL apoc.load.json('file://{}{}') YIELD value AS q RETURN q\"\n",
    "            ,\n",
    "            \"UNWIND q.id AS id \n",
    "            FOREACH (author_one IN q.authors |\n",
    "                MERGE (a:Author {{name:author_one.name}})\n",
    "                FOREACH (author_two IN q.authors |\n",
    "                    MERGE (b:Author {{name:author_two.name}})\n",
    "                    CASE WHEN author_one <> author_two\n",
    "                    THEN MERGE (a)-[COAUTHOR {{count:1}}]-(b)\n",
    "                    END\n",
    "                ));\"\n",
    "            , {{batchSize:10000, iterateList:true, parallel:false}});\n",
    "            \"\"\".format(neo4j_data_dir, file)\n",
    "        \n",
    "#             print(query)\n",
    "            query_start_time = time.time()\n",
    "            graph.run(query).evaluate()\n",
    "            print(\"Done in ({:.2f} minutes)...\".format((time.time()-query_start_time)/60))\n",
    "\n",
    "print(\"Finished all imports in {:.2f} hours.\".format((time.time()-start_time)/60/60))\n",
    "\n",
    "\n",
    "\n",
    "\n",
    "\n"
   ]
  },
  {
   "cell_type": "code",
   "execution_count": null,
   "metadata": {},
   "outputs": [],
   "source": []
  }
 ],
 "metadata": {
  "kernelspec": {
   "display_name": "Python 3",
   "language": "python",
   "name": "python3"
  },
  "language_info": {
   "codemirror_mode": {
    "name": "ipython",
    "version": 3
   },
   "file_extension": ".py",
   "mimetype": "text/x-python",
   "name": "python",
   "nbconvert_exporter": "python",
   "pygments_lexer": "ipython3",
   "version": "3.6.6"
  }
 },
 "nbformat": 4,
 "nbformat_minor": 2
}
