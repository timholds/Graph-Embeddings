{
 "cells": [
  {
   "cell_type": "code",
   "execution_count": null,
   "metadata": {},
   "outputs": [],
   "source": [
    "import time\n",
    "import json\n",
    "from py2neo import Graph, Node, Relationship\n",
    "\n",
    "graph = Graph(\"bolt://neo4j-coauthor:7687\", auth=('neo4j','myneo'))\n",
    " \n",
    "print(\"Connected to graph database with {:,} nodes and {:,} relationships!\".format(\n",
    "    graph.database.primitive_counts['NumberOfNodeIdsInUse'], \n",
    "    graph.database.primitive_counts['NumberOfRelationshipIdsInUse']))"
   ]
  },
  {
   "cell_type": "code",
   "execution_count": null,
   "metadata": {},
   "outputs": [],
   "source": [
    "# Constrain one name per author\n",
    "print(\"Creating uniqueness constraint (and also index) on Author names...\", end=\" \", flush=True)\n",
    "query = \"\"\"CREATE CONSTRAINT ON (a:Author) ASSERT a.name IS UNIQUE;\"\"\"\n",
    "graph.run(query).evaluate()\n",
    "print(\"Done.\")"
   ]
  },
  {
   "cell_type": "code",
   "execution_count": null,
   "metadata": {},
   "outputs": [],
   "source": [
    "\n",
    "# *****************************************************\n",
    "# ********* TODO: THIS NEEDS TO BE CHANGED !! *********\n",
    "# *****************************************************\n",
    "\n",
    "local_data_dir = '/tmp/data/mag/'\n",
    "neo4j_data_dir = '/import/mag/'\n",
    "\n",
    "import glob, os, time\n",
    "\n",
    "start_time = time.time()\n",
    "\n",
    "for _,_ , files in os.walk(local_data_dir):\n",
    "    for file in sorted(files):\n",
    "        if file.endswith('.txt'):\n",
    "           \n",
    "           # Iterative query (more efficient)\n",
    "            print(\"Importing {}...\".format(file), end=\" \", flush=True)\n",
    "            query = \"\"\"\n",
    "            CALL apoc.periodic.iterate(\n",
    "            \"CALL apoc.load.json('file://{}{}') YIELD value AS q RETURN q\"\n",
    "            ,\n",
    "            \"UNWIND q.id AS id \n",
    "            UNWIND q.authors as author\n",
    "            MERGE (a:Author {{name:author.name}})\n",
    "            MERGE (i:Quanta {{id:q.id}}) ON CREATE SET \n",
    "                i.refs=q.references, \n",
    "                i.year=q.year, \n",
    "                i.title=q.title, \n",
    "                i.fos=q.fos, \n",
    "                i.url=q.url, \n",
    "                i.lang=q.lang, \n",
    "                i.keywords=q.keywords, \n",
    "                i.n_citation=q.n_citation, \n",
    "                i.pdf=q.pdf, \n",
    "                i.publisher=q.publisher,\n",
    "                i.venue=q.venue\n",
    "            WITH \n",
    "                i,\n",
    "                a,\n",
    "                author,\n",
    "                head(q.authors)=author AS first_author, \n",
    "                last(q.authors)=author AS last_author\n",
    "            MERGE (a)-[:AUTHORED {{is_first_author: first_author, is_last_author: last_author}}]->(i)\n",
    "            WITH a, author\n",
    "            WHERE author.org is not null\n",
    "            MERGE (o:Organization {{name:author.org}}) \n",
    "            MERGE (a)-[:AFFILIATED_WITH]->(o)\"\n",
    "            , \n",
    "            {{batchSize:10000, iterateList:true, parallel:false}});\n",
    "            \"\"\".format(neo4j_data_dir, file)\n",
    "        \n",
    "#             print(query)\n",
    "            query_start_time = time.time()\n",
    "            graph.run(query).evaluate()\n",
    "            print(\"Done in ({:.2f} minutes)...\".format((time.time()-query_start_time)/60))\n",
    "\n",
    "print(\"Finished all imports in {:.2f} hours.\".format((time.time()-start_time)/60/60))"
   ]
  }
 ],
 "metadata": {
  "kernelspec": {
   "display_name": "Python 3",
   "language": "python",
   "name": "python3"
  },
  "language_info": {
   "codemirror_mode": {
    "name": "ipython",
    "version": 3
   },
   "file_extension": ".py",
   "mimetype": "text/x-python",
   "name": "python",
   "nbconvert_exporter": "python",
   "pygments_lexer": "ipython3",
   "version": "3.6.6"
  }
 },
 "nbformat": 4,
 "nbformat_minor": 2
}
