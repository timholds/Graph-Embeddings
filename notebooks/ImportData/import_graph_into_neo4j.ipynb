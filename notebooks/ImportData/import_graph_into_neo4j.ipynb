{
 "cells": [
  {
   "cell_type": "markdown",
   "metadata": {},
   "source": [
    "# Setup"
   ]
  },
  {
   "cell_type": "markdown",
   "metadata": {},
   "source": [
    "## Connect to graph"
   ]
  },
  {
   "cell_type": "code",
   "execution_count": 2,
   "metadata": {},
   "outputs": [
    {
     "ename": "ServiceUnavailable",
     "evalue": "Failed to establish connection to ('172.22.0.2', 7687) (reason 111)",
     "output_type": "error",
     "traceback": [
      "\u001b[0;31m---------------------------------------------------------------------------\u001b[0m",
      "\u001b[0;31mKeyError\u001b[0m                                  Traceback (most recent call last)",
      "\u001b[0;32m/opt/conda/lib/python3.6/site-packages/py2neo/database.py\u001b[0m in \u001b[0;36m__new__\u001b[0;34m(cls, uri, **settings)\u001b[0m\n\u001b[1;32m     87\u001b[0m         \u001b[0;32mtry\u001b[0m\u001b[0;34m:\u001b[0m\u001b[0;34m\u001b[0m\u001b[0;34m\u001b[0m\u001b[0m\n\u001b[0;32m---> 88\u001b[0;31m             \u001b[0minst\u001b[0m \u001b[0;34m=\u001b[0m \u001b[0mcls\u001b[0m\u001b[0;34m.\u001b[0m\u001b[0m_instances\u001b[0m\u001b[0;34m[\u001b[0m\u001b[0mkey\u001b[0m\u001b[0;34m]\u001b[0m\u001b[0;34m\u001b[0m\u001b[0;34m\u001b[0m\u001b[0m\n\u001b[0m\u001b[1;32m     89\u001b[0m         \u001b[0;32mexcept\u001b[0m \u001b[0mKeyError\u001b[0m\u001b[0;34m:\u001b[0m\u001b[0;34m\u001b[0m\u001b[0;34m\u001b[0m\u001b[0m\n",
      "\u001b[0;31mKeyError\u001b[0m: '80707bccce8cb7a3ba5e7e620358fb0a'",
      "\nDuring handling of the above exception, another exception occurred:\n",
      "\u001b[0;31mServiceUnavailable\u001b[0m                        Traceback (most recent call last)",
      "\u001b[0;32m<ipython-input-2-37d11518b3f9>\u001b[0m in \u001b[0;36m<module>\u001b[0;34m()\u001b[0m\n\u001b[1;32m      2\u001b[0m \u001b[0;32mimport\u001b[0m \u001b[0mglob\u001b[0m\u001b[0;34m,\u001b[0m \u001b[0mos\u001b[0m\u001b[0;34m,\u001b[0m \u001b[0mtime\u001b[0m\u001b[0;34m\u001b[0m\u001b[0;34m\u001b[0m\u001b[0m\n\u001b[1;32m      3\u001b[0m \u001b[0;34m\u001b[0m\u001b[0m\n\u001b[0;32m----> 4\u001b[0;31m \u001b[0mgraph\u001b[0m \u001b[0;34m=\u001b[0m \u001b[0mGraph\u001b[0m\u001b[0;34m(\u001b[0m\u001b[0;34m'bolt://dev_neo4j:7687'\u001b[0m\u001b[0;34m,\u001b[0m \u001b[0mauth\u001b[0m\u001b[0;34m=\u001b[0m\u001b[0;34m(\u001b[0m\u001b[0;34m'neo4j'\u001b[0m\u001b[0;34m,\u001b[0m\u001b[0;34m'myneo'\u001b[0m\u001b[0;34m)\u001b[0m\u001b[0;34m)\u001b[0m\u001b[0;34m\u001b[0m\u001b[0;34m\u001b[0m\u001b[0m\n\u001b[0m\u001b[1;32m      5\u001b[0m \u001b[0;34m\u001b[0m\u001b[0m\n\u001b[1;32m      6\u001b[0m \u001b[0mn_nodes\u001b[0m \u001b[0;34m=\u001b[0m \u001b[0mgraph\u001b[0m\u001b[0;34m.\u001b[0m\u001b[0mdatabase\u001b[0m\u001b[0;34m.\u001b[0m\u001b[0mprimitive_counts\u001b[0m\u001b[0;34m[\u001b[0m\u001b[0;34m'NumberOfNodeIdsInUse'\u001b[0m\u001b[0;34m]\u001b[0m\u001b[0;34m\u001b[0m\u001b[0;34m\u001b[0m\u001b[0m\n",
      "\u001b[0;32m/opt/conda/lib/python3.6/site-packages/py2neo/database.py\u001b[0m in \u001b[0;36m__new__\u001b[0;34m(cls, uri, **settings)\u001b[0m\n\u001b[1;32m    303\u001b[0m     \u001b[0;32mdef\u001b[0m \u001b[0m__new__\u001b[0m\u001b[0;34m(\u001b[0m\u001b[0mcls\u001b[0m\u001b[0;34m,\u001b[0m \u001b[0muri\u001b[0m\u001b[0;34m=\u001b[0m\u001b[0;32mNone\u001b[0m\u001b[0;34m,\u001b[0m \u001b[0;34m**\u001b[0m\u001b[0msettings\u001b[0m\u001b[0;34m)\u001b[0m\u001b[0;34m:\u001b[0m\u001b[0;34m\u001b[0m\u001b[0;34m\u001b[0m\u001b[0m\n\u001b[1;32m    304\u001b[0m         \u001b[0mname\u001b[0m \u001b[0;34m=\u001b[0m \u001b[0msettings\u001b[0m\u001b[0;34m.\u001b[0m\u001b[0mpop\u001b[0m\u001b[0;34m(\u001b[0m\u001b[0;34m\"name\"\u001b[0m\u001b[0;34m,\u001b[0m \u001b[0;34m\"data\"\u001b[0m\u001b[0;34m)\u001b[0m\u001b[0;34m\u001b[0m\u001b[0;34m\u001b[0m\u001b[0m\n\u001b[0;32m--> 305\u001b[0;31m         \u001b[0mdatabase\u001b[0m \u001b[0;34m=\u001b[0m \u001b[0mDatabase\u001b[0m\u001b[0;34m(\u001b[0m\u001b[0muri\u001b[0m\u001b[0;34m,\u001b[0m \u001b[0;34m**\u001b[0m\u001b[0msettings\u001b[0m\u001b[0;34m)\u001b[0m\u001b[0;34m\u001b[0m\u001b[0;34m\u001b[0m\u001b[0m\n\u001b[0m\u001b[1;32m    306\u001b[0m         \u001b[0;32mif\u001b[0m \u001b[0mname\u001b[0m \u001b[0;32min\u001b[0m \u001b[0mdatabase\u001b[0m\u001b[0;34m:\u001b[0m\u001b[0;34m\u001b[0m\u001b[0;34m\u001b[0m\u001b[0m\n\u001b[1;32m    307\u001b[0m             \u001b[0minst\u001b[0m \u001b[0;34m=\u001b[0m \u001b[0mdatabase\u001b[0m\u001b[0;34m[\u001b[0m\u001b[0mname\u001b[0m\u001b[0;34m]\u001b[0m\u001b[0;34m\u001b[0m\u001b[0;34m\u001b[0m\u001b[0m\n",
      "\u001b[0;32m/opt/conda/lib/python3.6/site-packages/py2neo/database.py\u001b[0m in \u001b[0;36m__new__\u001b[0;34m(cls, uri, **settings)\u001b[0m\n\u001b[1;32m     95\u001b[0m                                   \u001b[0mauth\u001b[0m\u001b[0;34m=\u001b[0m\u001b[0mconnection_data\u001b[0m\u001b[0;34m[\u001b[0m\u001b[0;34m\"auth\"\u001b[0m\u001b[0;34m]\u001b[0m\u001b[0;34m,\u001b[0m\u001b[0;34m\u001b[0m\u001b[0;34m\u001b[0m\u001b[0m\n\u001b[1;32m     96\u001b[0m                                   \u001b[0mencrypted\u001b[0m\u001b[0;34m=\u001b[0m\u001b[0mconnection_data\u001b[0m\u001b[0;34m[\u001b[0m\u001b[0;34m\"secure\"\u001b[0m\u001b[0;34m]\u001b[0m\u001b[0;34m,\u001b[0m\u001b[0;34m\u001b[0m\u001b[0;34m\u001b[0m\u001b[0m\n\u001b[0;32m---> 97\u001b[0;31m                                   user_agent=connection_data[\"user_agent\"])\n\u001b[0m\u001b[1;32m     98\u001b[0m             \u001b[0minst\u001b[0m\u001b[0;34m.\u001b[0m\u001b[0m_graphs\u001b[0m \u001b[0;34m=\u001b[0m \u001b[0;34m{\u001b[0m\u001b[0;34m}\u001b[0m\u001b[0;34m\u001b[0m\u001b[0;34m\u001b[0m\u001b[0m\n\u001b[1;32m     99\u001b[0m             \u001b[0mcls\u001b[0m\u001b[0;34m.\u001b[0m\u001b[0m_instances\u001b[0m\u001b[0;34m[\u001b[0m\u001b[0mkey\u001b[0m\u001b[0;34m]\u001b[0m \u001b[0;34m=\u001b[0m \u001b[0minst\u001b[0m\u001b[0;34m\u001b[0m\u001b[0;34m\u001b[0m\u001b[0m\n",
      "\u001b[0;32m/opt/conda/lib/python3.6/site-packages/neo4j/v1/api.py\u001b[0m in \u001b[0;36m__new__\u001b[0;34m(cls, uri, **config)\u001b[0m\n\u001b[1;32m    131\u001b[0m         \u001b[0;32mfor\u001b[0m \u001b[0msubclass\u001b[0m \u001b[0;32min\u001b[0m \u001b[0mDriver\u001b[0m\u001b[0;34m.\u001b[0m\u001b[0m__subclasses__\u001b[0m\u001b[0;34m(\u001b[0m\u001b[0;34m)\u001b[0m\u001b[0;34m:\u001b[0m\u001b[0;34m\u001b[0m\u001b[0;34m\u001b[0m\u001b[0m\n\u001b[1;32m    132\u001b[0m             \u001b[0;32mif\u001b[0m \u001b[0mparsed\u001b[0m\u001b[0;34m.\u001b[0m\u001b[0mscheme\u001b[0m \u001b[0;34m==\u001b[0m \u001b[0msubclass\u001b[0m\u001b[0;34m.\u001b[0m\u001b[0muri_scheme\u001b[0m\u001b[0;34m:\u001b[0m\u001b[0;34m\u001b[0m\u001b[0;34m\u001b[0m\u001b[0m\n\u001b[0;32m--> 133\u001b[0;31m                 \u001b[0;32mreturn\u001b[0m \u001b[0msubclass\u001b[0m\u001b[0;34m(\u001b[0m\u001b[0muri\u001b[0m\u001b[0;34m,\u001b[0m \u001b[0;34m**\u001b[0m\u001b[0mconfig\u001b[0m\u001b[0;34m)\u001b[0m\u001b[0;34m\u001b[0m\u001b[0;34m\u001b[0m\u001b[0m\n\u001b[0m\u001b[1;32m    134\u001b[0m         \u001b[0;32mraise\u001b[0m \u001b[0mValueError\u001b[0m\u001b[0;34m(\u001b[0m\u001b[0;34m\"URI scheme %r not supported\"\u001b[0m \u001b[0;34m%\u001b[0m \u001b[0mparsed\u001b[0m\u001b[0;34m.\u001b[0m\u001b[0mscheme\u001b[0m\u001b[0;34m)\u001b[0m\u001b[0;34m\u001b[0m\u001b[0;34m\u001b[0m\u001b[0m\n\u001b[1;32m    135\u001b[0m \u001b[0;34m\u001b[0m\u001b[0m\n",
      "\u001b[0;32m/opt/conda/lib/python3.6/site-packages/neo4j/v1/direct.py\u001b[0m in \u001b[0;36m__new__\u001b[0;34m(cls, uri, **config)\u001b[0m\n\u001b[1;32m     71\u001b[0m \u001b[0;34m\u001b[0m\u001b[0m\n\u001b[1;32m     72\u001b[0m         \u001b[0mpool\u001b[0m \u001b[0;34m=\u001b[0m \u001b[0mDirectConnectionPool\u001b[0m\u001b[0;34m(\u001b[0m\u001b[0mconnector\u001b[0m\u001b[0;34m,\u001b[0m \u001b[0minstance\u001b[0m\u001b[0;34m.\u001b[0m\u001b[0maddress\u001b[0m\u001b[0;34m,\u001b[0m \u001b[0;34m**\u001b[0m\u001b[0mconfig\u001b[0m\u001b[0;34m)\u001b[0m\u001b[0;34m\u001b[0m\u001b[0;34m\u001b[0m\u001b[0m\n\u001b[0;32m---> 73\u001b[0;31m         \u001b[0mpool\u001b[0m\u001b[0;34m.\u001b[0m\u001b[0mrelease\u001b[0m\u001b[0;34m(\u001b[0m\u001b[0mpool\u001b[0m\u001b[0;34m.\u001b[0m\u001b[0macquire\u001b[0m\u001b[0;34m(\u001b[0m\u001b[0;34m)\u001b[0m\u001b[0;34m)\u001b[0m\u001b[0;34m\u001b[0m\u001b[0;34m\u001b[0m\u001b[0m\n\u001b[0m\u001b[1;32m     74\u001b[0m         \u001b[0minstance\u001b[0m\u001b[0;34m.\u001b[0m\u001b[0m_pool\u001b[0m \u001b[0;34m=\u001b[0m \u001b[0mpool\u001b[0m\u001b[0;34m\u001b[0m\u001b[0;34m\u001b[0m\u001b[0m\n\u001b[1;32m     75\u001b[0m         \u001b[0minstance\u001b[0m\u001b[0;34m.\u001b[0m\u001b[0m_max_retry_time\u001b[0m \u001b[0;34m=\u001b[0m \u001b[0mconfig\u001b[0m\u001b[0;34m.\u001b[0m\u001b[0mget\u001b[0m\u001b[0;34m(\u001b[0m\u001b[0;34m\"max_retry_time\"\u001b[0m\u001b[0;34m,\u001b[0m \u001b[0mdefault_config\u001b[0m\u001b[0;34m[\u001b[0m\u001b[0;34m\"max_retry_time\"\u001b[0m\u001b[0;34m]\u001b[0m\u001b[0;34m)\u001b[0m\u001b[0;34m\u001b[0m\u001b[0;34m\u001b[0m\u001b[0m\n",
      "\u001b[0;32m/opt/conda/lib/python3.6/site-packages/neo4j/v1/direct.py\u001b[0m in \u001b[0;36macquire\u001b[0;34m(self, access_mode)\u001b[0m\n\u001b[1;32m     42\u001b[0m \u001b[0;34m\u001b[0m\u001b[0m\n\u001b[1;32m     43\u001b[0m     \u001b[0;32mdef\u001b[0m \u001b[0macquire\u001b[0m\u001b[0;34m(\u001b[0m\u001b[0mself\u001b[0m\u001b[0;34m,\u001b[0m \u001b[0maccess_mode\u001b[0m\u001b[0;34m=\u001b[0m\u001b[0;32mNone\u001b[0m\u001b[0;34m)\u001b[0m\u001b[0;34m:\u001b[0m\u001b[0;34m\u001b[0m\u001b[0;34m\u001b[0m\u001b[0m\n\u001b[0;32m---> 44\u001b[0;31m         \u001b[0;32mreturn\u001b[0m \u001b[0mself\u001b[0m\u001b[0;34m.\u001b[0m\u001b[0macquire_direct\u001b[0m\u001b[0;34m(\u001b[0m\u001b[0mself\u001b[0m\u001b[0;34m.\u001b[0m\u001b[0maddress\u001b[0m\u001b[0;34m)\u001b[0m\u001b[0;34m\u001b[0m\u001b[0;34m\u001b[0m\u001b[0m\n\u001b[0m\u001b[1;32m     45\u001b[0m \u001b[0;34m\u001b[0m\u001b[0m\n\u001b[1;32m     46\u001b[0m \u001b[0;34m\u001b[0m\u001b[0m\n",
      "\u001b[0;32m/opt/conda/lib/python3.6/site-packages/neo4j/bolt/connection.py\u001b[0m in \u001b[0;36macquire_direct\u001b[0;34m(self, address)\u001b[0m\n\u001b[1;32m    448\u001b[0m                 \u001b[0;32mif\u001b[0m \u001b[0mcan_create_new_connection\u001b[0m\u001b[0;34m:\u001b[0m\u001b[0;34m\u001b[0m\u001b[0;34m\u001b[0m\u001b[0m\n\u001b[1;32m    449\u001b[0m                     \u001b[0;32mtry\u001b[0m\u001b[0;34m:\u001b[0m\u001b[0;34m\u001b[0m\u001b[0;34m\u001b[0m\u001b[0m\n\u001b[0;32m--> 450\u001b[0;31m                         \u001b[0mconnection\u001b[0m \u001b[0;34m=\u001b[0m \u001b[0mself\u001b[0m\u001b[0;34m.\u001b[0m\u001b[0mconnector\u001b[0m\u001b[0;34m(\u001b[0m\u001b[0maddress\u001b[0m\u001b[0;34m,\u001b[0m \u001b[0mself\u001b[0m\u001b[0;34m.\u001b[0m\u001b[0mconnection_error_handler\u001b[0m\u001b[0;34m)\u001b[0m\u001b[0;34m\u001b[0m\u001b[0;34m\u001b[0m\u001b[0m\n\u001b[0m\u001b[1;32m    451\u001b[0m                     \u001b[0;32mexcept\u001b[0m \u001b[0mServiceUnavailable\u001b[0m\u001b[0;34m:\u001b[0m\u001b[0;34m\u001b[0m\u001b[0;34m\u001b[0m\u001b[0m\n\u001b[1;32m    452\u001b[0m                         \u001b[0mself\u001b[0m\u001b[0;34m.\u001b[0m\u001b[0mremove\u001b[0m\u001b[0;34m(\u001b[0m\u001b[0maddress\u001b[0m\u001b[0;34m)\u001b[0m\u001b[0;34m\u001b[0m\u001b[0;34m\u001b[0m\u001b[0m\n",
      "\u001b[0;32m/opt/conda/lib/python3.6/site-packages/neo4j/v1/direct.py\u001b[0m in \u001b[0;36mconnector\u001b[0;34m(address, error_handler)\u001b[0m\n\u001b[1;32m     68\u001b[0m \u001b[0;34m\u001b[0m\u001b[0m\n\u001b[1;32m     69\u001b[0m         \u001b[0;32mdef\u001b[0m \u001b[0mconnector\u001b[0m\u001b[0;34m(\u001b[0m\u001b[0maddress\u001b[0m\u001b[0;34m,\u001b[0m \u001b[0merror_handler\u001b[0m\u001b[0;34m)\u001b[0m\u001b[0;34m:\u001b[0m\u001b[0;34m\u001b[0m\u001b[0;34m\u001b[0m\u001b[0m\n\u001b[0;32m---> 70\u001b[0;31m             \u001b[0;32mreturn\u001b[0m \u001b[0mconnect\u001b[0m\u001b[0;34m(\u001b[0m\u001b[0maddress\u001b[0m\u001b[0;34m,\u001b[0m \u001b[0msecurity_plan\u001b[0m\u001b[0;34m.\u001b[0m\u001b[0mssl_context\u001b[0m\u001b[0;34m,\u001b[0m \u001b[0merror_handler\u001b[0m\u001b[0;34m,\u001b[0m \u001b[0;34m**\u001b[0m\u001b[0mconfig\u001b[0m\u001b[0;34m)\u001b[0m\u001b[0;34m\u001b[0m\u001b[0;34m\u001b[0m\u001b[0m\n\u001b[0m\u001b[1;32m     71\u001b[0m \u001b[0;34m\u001b[0m\u001b[0m\n\u001b[1;32m     72\u001b[0m         \u001b[0mpool\u001b[0m \u001b[0;34m=\u001b[0m \u001b[0mDirectConnectionPool\u001b[0m\u001b[0;34m(\u001b[0m\u001b[0mconnector\u001b[0m\u001b[0;34m,\u001b[0m \u001b[0minstance\u001b[0m\u001b[0;34m.\u001b[0m\u001b[0maddress\u001b[0m\u001b[0;34m,\u001b[0m \u001b[0;34m**\u001b[0m\u001b[0mconfig\u001b[0m\u001b[0;34m)\u001b[0m\u001b[0;34m\u001b[0m\u001b[0;34m\u001b[0m\u001b[0m\n",
      "\u001b[0;32m/opt/conda/lib/python3.6/site-packages/neo4j/bolt/connection.py\u001b[0m in \u001b[0;36mconnect\u001b[0;34m(address, ssl_context, error_handler, **config)\u001b[0m\n\u001b[1;32m    702\u001b[0m         \u001b[0;32mraise\u001b[0m \u001b[0mServiceUnavailable\u001b[0m\u001b[0;34m(\u001b[0m\u001b[0;34m\"Failed to resolve addresses for %s\"\u001b[0m \u001b[0;34m%\u001b[0m \u001b[0maddress\u001b[0m\u001b[0;34m)\u001b[0m\u001b[0;34m\u001b[0m\u001b[0;34m\u001b[0m\u001b[0m\n\u001b[1;32m    703\u001b[0m     \u001b[0;32melse\u001b[0m\u001b[0;34m:\u001b[0m\u001b[0;34m\u001b[0m\u001b[0;34m\u001b[0m\u001b[0m\n\u001b[0;32m--> 704\u001b[0;31m         \u001b[0;32mraise\u001b[0m \u001b[0mlast_error\u001b[0m\u001b[0;34m\u001b[0m\u001b[0;34m\u001b[0m\u001b[0m\n\u001b[0m",
      "\u001b[0;32m/opt/conda/lib/python3.6/site-packages/neo4j/bolt/connection.py\u001b[0m in \u001b[0;36mconnect\u001b[0;34m(address, ssl_context, error_handler, **config)\u001b[0m\n\u001b[1;32m    692\u001b[0m         \u001b[0mlog_debug\u001b[0m\u001b[0;34m(\u001b[0m\u001b[0;34m\"~~ [RESOLVED] %s -> %s\"\u001b[0m\u001b[0;34m,\u001b[0m \u001b[0maddress\u001b[0m\u001b[0;34m,\u001b[0m \u001b[0mresolved_address\u001b[0m\u001b[0;34m)\u001b[0m\u001b[0;34m\u001b[0m\u001b[0;34m\u001b[0m\u001b[0m\n\u001b[1;32m    693\u001b[0m         \u001b[0;32mtry\u001b[0m\u001b[0;34m:\u001b[0m\u001b[0;34m\u001b[0m\u001b[0;34m\u001b[0m\u001b[0m\n\u001b[0;32m--> 694\u001b[0;31m             \u001b[0ms\u001b[0m \u001b[0;34m=\u001b[0m \u001b[0m_connect\u001b[0m\u001b[0;34m(\u001b[0m\u001b[0mresolved_address\u001b[0m\u001b[0;34m,\u001b[0m \u001b[0;34m**\u001b[0m\u001b[0mconfig\u001b[0m\u001b[0;34m)\u001b[0m\u001b[0;34m\u001b[0m\u001b[0;34m\u001b[0m\u001b[0m\n\u001b[0m\u001b[1;32m    695\u001b[0m             \u001b[0ms\u001b[0m\u001b[0;34m,\u001b[0m \u001b[0mder_encoded_server_certificate\u001b[0m \u001b[0;34m=\u001b[0m \u001b[0m_secure\u001b[0m\u001b[0;34m(\u001b[0m\u001b[0ms\u001b[0m\u001b[0;34m,\u001b[0m \u001b[0maddress\u001b[0m\u001b[0;34m[\u001b[0m\u001b[0;36m0\u001b[0m\u001b[0;34m]\u001b[0m\u001b[0;34m,\u001b[0m \u001b[0mssl_context\u001b[0m\u001b[0;34m,\u001b[0m \u001b[0;34m**\u001b[0m\u001b[0mconfig\u001b[0m\u001b[0;34m)\u001b[0m\u001b[0;34m\u001b[0m\u001b[0;34m\u001b[0m\u001b[0m\n\u001b[1;32m    696\u001b[0m             \u001b[0mconnection\u001b[0m \u001b[0;34m=\u001b[0m \u001b[0m_handshake\u001b[0m\u001b[0;34m(\u001b[0m\u001b[0ms\u001b[0m\u001b[0;34m,\u001b[0m \u001b[0mresolved_address\u001b[0m\u001b[0;34m,\u001b[0m \u001b[0mder_encoded_server_certificate\u001b[0m\u001b[0;34m,\u001b[0m \u001b[0merror_handler\u001b[0m\u001b[0;34m,\u001b[0m \u001b[0;34m**\u001b[0m\u001b[0mconfig\u001b[0m\u001b[0;34m)\u001b[0m\u001b[0;34m\u001b[0m\u001b[0;34m\u001b[0m\u001b[0m\n",
      "\u001b[0;32m/opt/conda/lib/python3.6/site-packages/neo4j/bolt/connection.py\u001b[0m in \u001b[0;36m_connect\u001b[0;34m(resolved_address, **config)\u001b[0m\n\u001b[1;32m    582\u001b[0m         \u001b[0m_force_close\u001b[0m\u001b[0;34m(\u001b[0m\u001b[0ms\u001b[0m\u001b[0;34m)\u001b[0m\u001b[0;34m\u001b[0m\u001b[0;34m\u001b[0m\u001b[0m\n\u001b[1;32m    583\u001b[0m         \u001b[0;32mif\u001b[0m \u001b[0merror\u001b[0m\u001b[0;34m.\u001b[0m\u001b[0merrno\u001b[0m \u001b[0;32min\u001b[0m \u001b[0;34m(\u001b[0m\u001b[0;36m61\u001b[0m\u001b[0;34m,\u001b[0m \u001b[0;36m99\u001b[0m\u001b[0;34m,\u001b[0m \u001b[0;36m111\u001b[0m\u001b[0;34m,\u001b[0m \u001b[0;36m10061\u001b[0m\u001b[0;34m)\u001b[0m\u001b[0;34m:\u001b[0m\u001b[0;34m\u001b[0m\u001b[0;34m\u001b[0m\u001b[0m\n\u001b[0;32m--> 584\u001b[0;31m             \u001b[0;32mraise\u001b[0m \u001b[0mServiceUnavailable\u001b[0m\u001b[0;34m(\u001b[0m\u001b[0;34m\"Failed to establish connection to {!r} (reason {})\"\u001b[0m\u001b[0;34m.\u001b[0m\u001b[0mformat\u001b[0m\u001b[0;34m(\u001b[0m\u001b[0mresolved_address\u001b[0m\u001b[0;34m,\u001b[0m \u001b[0merror\u001b[0m\u001b[0;34m.\u001b[0m\u001b[0merrno\u001b[0m\u001b[0;34m)\u001b[0m\u001b[0;34m)\u001b[0m\u001b[0;34m\u001b[0m\u001b[0;34m\u001b[0m\u001b[0m\n\u001b[0m\u001b[1;32m    585\u001b[0m         \u001b[0;32melse\u001b[0m\u001b[0;34m:\u001b[0m\u001b[0;34m\u001b[0m\u001b[0;34m\u001b[0m\u001b[0m\n\u001b[1;32m    586\u001b[0m             \u001b[0;32mraise\u001b[0m\u001b[0;34m\u001b[0m\u001b[0;34m\u001b[0m\u001b[0m\n",
      "\u001b[0;31mServiceUnavailable\u001b[0m: Failed to establish connection to ('172.22.0.2', 7687) (reason 111)"
     ]
    }
   ],
   "source": [
    "from py2neo import Graph, Node, Relationship\n",
    "import glob, os, time\n",
    " \n",
    "graph = Graph('bolt://dev_neo4j:7687', auth=('neo4j','myneo'))\n",
    "\n",
    "n_nodes = graph.database.primitive_counts['NumberOfNodeIdsInUse']\n",
    "n_relationships = graph.database.primitive_counts['NumberOfRelationshipIdsInUse']\n",
    "print(\"Connected to graph database with {:,} nodes and {:,} relationships!\".format\n",
    "     (n_nodes, n_relationships))"
   ]
  },
  {
   "cell_type": "markdown",
   "metadata": {},
   "source": [
    "## Setup workspace"
   ]
  },
  {
   "cell_type": "code",
   "execution_count": 3,
   "metadata": {},
   "outputs": [
    {
     "name": "stdout",
     "output_type": "stream",
     "text": [
      "Neo4j data directory set to ``.\n",
      "SciPy data directory set to `/tmp/data/`.\n",
      "\n",
      "MAG files:\n",
      "\tVenue files: 1\n",
      "\tPapers files: 11\n",
      "\tAuthors files: 13\n",
      "\tMAGv1 papers files: 167\n",
      "\n",
      "AMiner files:\n",
      "\tVenue files: 1\n",
      "\tPapers files: 15\n",
      "\tAuthors files: 20\n",
      "\tAMinerv1 papers files: 155\n"
     ]
    }
   ],
   "source": [
    "## In Neo4j 3.5+, the directory is automatically set to /import\n",
    "data_dir = '' \n",
    "scipy_data_dir = '/tmp/data/'\n",
    "\n",
    "print(\"Neo4j data directory set to `{}`.\".format(data_dir))\n",
    "print(\"SciPy data directory set to `{}`.\".format(scipy_data_dir))\n",
    "\n",
    "# MAG files\n",
    "mag_venues_file = data_dir + 'magtwo/mag_venues.txt'\n",
    "\n",
    "n_mag_papers_files = len(glob.glob(scipy_data_dir + 'magtwo/mag_papers_*.txt'))\n",
    "mag_papers_files = [data_dir + 'magtwo/mag_papers_{}.txt'.format(i) for i in range(n_mag_papers_files)]\n",
    "\n",
    "n_mag_authors_files = len(glob.glob(scipy_data_dir + 'magtwo/mag_authors_*.txt'))\n",
    "mag_authors_files = [data_dir + 'magtwo/mag_authors_{}.txt'.format(i) for i in range(n_mag_authors_files)]\n",
    "\n",
    "n_magv1_papers_files = len(glob.glob(scipy_data_dir + 'magone/mag_papers_*.txt'))\n",
    "mag_v1_papers_files = [data_dir + 'magone/mag_papers_{}.txt'.format(i) for i in range(n_magv1_papers_files)]\n",
    "\n",
    "print(\"\\nMAG files:\")\n",
    "print(\"\\tVenue files: {}\".format(1))\n",
    "print(\"\\tPapers files: {}\".format(n_mag_papers_files))\n",
    "print(\"\\tAuthors files: {}\".format(n_mag_authors_files))\n",
    "print(\"\\tMAGv1 papers files: {}\".format(n_magv1_papers_files))\n",
    "\n",
    "# AMner files\n",
    "aminer_venues_file = data_dir + 'aminertwo/aminer_venues.txt'\n",
    "\n",
    "n_aminer_papers_files = len(glob.glob(scipy_data_dir + 'aminertwo/aminer_papers_*.txt'))\n",
    "aminer_papers_files = [data_dir + 'aminertwo/aminer_papers_{}.txt'.format(i) for i in range(n_aminer_papers_files)]\n",
    "\n",
    "n_aminer_authors_files = len(glob.glob(scipy_data_dir + 'aminertwo/aminer_authors_*.txt'))\n",
    "aminer_authors_files = [data_dir + 'aminertwo/aminer_authors_{}.txt'.format(i) for i in range(n_aminer_authors_files)]\n",
    "\n",
    "n_aminer_v1_papers_files = len(glob.glob(scipy_data_dir + 'aminerone/aminer_papers_*.txt'))\n",
    "aminer_v1_papers_files = [data_dir + 'aminerone/aminer_papers_{}.txt'.format(i) for i in range(n_aminer_v1_papers_files)]\n",
    "      \n",
    "print(\"\\nAMiner files:\")\n",
    "print(\"\\tVenue files: {}\".format(1))\n",
    "print(\"\\tPapers files: {}\".format(n_aminer_papers_files))\n",
    "print(\"\\tAuthors files: {}\".format(n_aminer_authors_files))\n",
    "print(\"\\tAMinerv1 papers files: {}\".format(n_aminer_v1_papers_files))\n",
    "\n",
    "# Linking pairs\n",
    "venue_linking_pairs = 'magtwo/venue_linking_pairs.txt'\n",
    "paper_linking_pairs = 'magtwo/paper_linking_pairs.txt'\n",
    "author_linking_pairs = 'magtwo/author_linking_pairs.txt'\n",
    "\n",
    "def run_query(query, graph, print_query=False, run_query=True, print_only=False):\n",
    "    if print_only: \n",
    "        print_query = True\n",
    "        run_query = False\n",
    "    start_time = time.time()\n",
    "    if print_query:\n",
    "        print(query)\n",
    "    if run_query:\n",
    "        graph.run(query)\n",
    "    end_time = time.time()\n",
    "    seconds_elapsed = end_time-start_time\n",
    "    minutes_elapsed = (end_time-start_time)/60\n",
    "    print(\"Query completed in {:.2f} seconds.\".format(seconds_elapsed))\n",
    "\n",
    "top_5 = ['Cell', 'Nature', 'Nature Biotechnology','Proceedings of the National Academy of Sciences of the United States of America','Science']\n",
    "top_10 = ['Cell', 'Nature', 'Nature Biotechnology','Proceedings of the National Academy of Sciences of the United States of America','Science', 'Journal of the American Chemical Society', 'JAMA', 'The New England Journal of Medicine', 'Nature Genetics', 'Neuron']\n",
    "top_42 = ['Angewandte Chemie','Blood','Cancer Cell','Cancer Discovery','Cancer Research','Cell','Cell Host & Microbe','Cell Metabolism','Cell Stem Cell','Chemistry & Biology','The EMBO Journal','Genes & Development','Immunity','Journal of Neurology','Journal of the American Chemical Society','JAMA','Journal of Biological Chemistry','Journal of Cell Biology','Journal of Clinical Investigation','Journal of Experimental Medicine','Journal of Medicinal Chemistry','The Lancet','Nature Cell Biology','Nature Chemical Biology','Nature Chemistry','Nature Medicine','Nature Methods','Nature','Nature Biotechnology','The New England Journal of Medicine','Neuron','Nature Genetics','Nature Immunology','Nature Neuroscience','Nature Structural & Molecular Biology','PLOS Biology','PLOS Genetics','PLOS Pathogens','Proceedings of the National Academy of Sciences of the United States of America','Science Signaling','Science Translational Medicine','Science']\n",
    "top_42_ids = ['172573765','168778273','3880285','103870658','49861241','200071133','106963461','139253143','151741590','175814247','67393510','2486275289','41063453','24207032','177533077','96410829','110447773','2298632','203256638','202193212','154343897','45757444','162030435','62468778','128124174','2004986','199671312','85134406','111155417','125754415','127916151','140251998','207313999','137905309','168522863','114430552','25671836','51309854','155937366','22947807','127827428','137773608']"
   ]
  },
  {
   "cell_type": "markdown",
   "metadata": {},
   "source": [
    "# Import functions"
   ]
  },
  {
   "cell_type": "markdown",
   "metadata": {},
   "source": [
    "## Constraints and indices"
   ]
  },
  {
   "cell_type": "code",
   "execution_count": 4,
   "metadata": {},
   "outputs": [],
   "source": [
    "def add_constraints(print_only=False):\n",
    "    contraint_pairs = [('n:Quanta', 'n.id'),\n",
    "                       ('n:Quanta', 'n.idv1'), \n",
    "                       ('a:Author', 'a.id'),\n",
    "                       ('v:Venue', 'v.id')]\n",
    "    \n",
    "    for n, p in contraint_pairs:\n",
    "        query = \"CREATE CONSTRAINT ON ({}) ASSERT {} IS UNIQUE;\".format(n,p)\n",
    "        run_query(query, graph, print_only=print_only)\n",
    "        \n",
    "def add_indices(print_only=False):\n",
    "    indices = [':Quanta(cleanName)',\n",
    "               ':Venue(cleanName)', \n",
    "               ':Venue(matchingId)',\n",
    "               ':Year(value)',\n",
    "               ':Author(cleanName)',\n",
    "               ':Organization(cleanName)']\n",
    "    \n",
    "    for index in indices:\n",
    "        query = \"CREATE INDEX ON {};\".format(index)\n",
    "        run_query(query, graph, print_only=print_only)"
   ]
  },
  {
   "cell_type": "markdown",
   "metadata": {},
   "source": [
    "## (:Year)"
   ]
  },
  {
   "cell_type": "code",
   "execution_count": 5,
   "metadata": {},
   "outputs": [],
   "source": [
    "def add_years(min_year, max_year, print_only=False):\n",
    "    query = \"\"\"\n",
    "    UNWIND range({}, {}) as yr\n",
    "    MERGE (y:Year {{value: yr}})\n",
    "    \"\"\".format(min_year, max_year)\n",
    "    run_query(query, graph, print_only=print_only)"
   ]
  },
  {
   "cell_type": "markdown",
   "metadata": {},
   "source": [
    "## (:Venue)"
   ]
  },
  {
   "cell_type": "code",
   "execution_count": 6,
   "metadata": {},
   "outputs": [],
   "source": [
    "def add_venues(venues_file, print_only=False):\n",
    "    query = \"\"\" \n",
    "    CALL apoc.load.json('{}') YIELD value AS q\n",
    "    CREATE (v:Venue {{id:q.id}})\n",
    "        SET v.journalId = q.JournalId, \n",
    "            v.conferenceId = q.ConferenceId, \n",
    "            v.matchingId = coalesce(q.JournalId, q.ConferenceId),\n",
    "            v.name = q.DisplayName, \n",
    "            v.normalizedName = q.NormalizedName,\n",
    "            v.cleanName = apoc.text.clean(q.DisplayName);\n",
    "    \"\"\".format(venues_file)\n",
    "    run_query(query, graph, print_only=print_only)"
   ]
  },
  {
   "cell_type": "markdown",
   "metadata": {},
   "source": [
    "## (:Quanta)"
   ]
  },
  {
   "cell_type": "code",
   "execution_count": 7,
   "metadata": {},
   "outputs": [],
   "source": [
    "\n",
    "def add_quanta(papers_files, print_only=False):\n",
    "    for file_name in papers_files:\n",
    "        print('Importing {}'.format(file_name))\n",
    "        query = \"\"\"\n",
    "        CALL apoc.periodic.iterate(\n",
    "        \"CALL apoc.load.json('{}') YIELD value AS q RETURN q\",\n",
    "        \"WHERE \n",
    "            (q IS NOT NULL) AND \n",
    "            (size(q.title) <= 3000) AND\n",
    "            exists(q.venue.id) AND\n",
    "            (q.venue.id IN {})\n",
    "         CREATE (p:Quanta {{id:q.id}})\n",
    "            SET p.title = q.title, \n",
    "                p.cleanName = apoc.text.clean(q.title),\n",
    "                p.year = q.year, \n",
    "                p.numCitations = q.n_citation, \n",
    "                p.docType = q.doc_type, \n",
    "                p.language = q.lang, \n",
    "                p.publisher = q.publisher, \n",
    "                p.doi = q.doi, \n",
    "                p.pdf = q.pdf, \n",
    "                p.abstract = q.abstract;\",\n",
    "        {{batchSize:10000, iterateList:true, parallel:true}});\n",
    "        \"\"\".format(file_name, top_42_ids)\n",
    "\n",
    "        run_query(query, graph, print_only=print_only)"
   ]
  },
  {
   "cell_type": "markdown",
   "metadata": {},
   "source": [
    "## (:Quanta {idv1})"
   ]
  },
  {
   "cell_type": "code",
   "execution_count": 9,
   "metadata": {},
   "outputs": [],
   "source": [
    "def merge_quanta_on_cleanname(print_only=False):\n",
    "    query = \"\"\"\n",
    "    CALL apoc.periodic.iterate(\n",
    "        \"MATCH (q:Quanta) \n",
    "         WHERE EXISTS(q.cleanName)\n",
    "         WITH \n",
    "             q.cleanName as cleanName, \n",
    "             COLLECT(q) as nodeList, \n",
    "             count(*) as count\n",
    "         WHERE count>=2\n",
    "         RETURN nodeList\",\n",
    "        \"CALL apoc.refactor.mergeNodes(nodeList, \n",
    "         {properties:'discard', mergeRels:true})\n",
    "         YIELD node\n",
    "         RETURN 'none'\",\n",
    "        {batchSize:10000, iterateList:true, parallel:false});\n",
    "    \"\"\"\n",
    "    run_query(query, graph, print_only=print_only)"
   ]
  },
  {
   "cell_type": "code",
   "execution_count": 10,
   "metadata": {},
   "outputs": [],
   "source": [
    "def add_v1_ids(v1_papers_files, print_only=False):\n",
    "    for file_name in v1_papers_files:\n",
    "        query = \"\"\"\n",
    "        CALL apoc.periodic.iterate(\n",
    "            \"CALL apoc.load.json('{}') YIELD value AS q RETURN q\",\n",
    "            \"WHERE \n",
    "                (q IS NOT NULL) AND \n",
    "                (size(q.title) <= 3000) AND\n",
    "                exists(q.venue) AND\n",
    "                (q.venue IN {})\n",
    "             MATCH (p:Quanta {{cleanName: apoc.text.clean(q.title)}})\n",
    "             SET p.idv1 = q.id\",\n",
    "            {{batchSize:10000, iterateList:true, parallel:true}});\n",
    "        \"\"\".format(data_dir + file_name, top_42)\n",
    "        run_query(query, graph, print_only=print_only)"
   ]
  },
  {
   "cell_type": "markdown",
   "metadata": {},
   "source": [
    "## (:Quanta)-[:PUBLISHED_IN_YEAR]->(:Year)"
   ]
  },
  {
   "cell_type": "code",
   "execution_count": 19,
   "metadata": {},
   "outputs": [],
   "source": [
    "def add_quanta_year_edges(papers_files, print_only=False):\n",
    "    for file_name in papers_files:\n",
    "        query = \"\"\"\n",
    "        CALL apoc.periodic.iterate(\n",
    "        \"CALL apoc.load.json('{}') YIELD value AS q RETURN q\",\n",
    "        \"WHERE \n",
    "            (q IS NOT NULL) AND \n",
    "            (size(q.title) <= 3000) AND\n",
    "            exists(q.venue.id) AND\n",
    "            (q.venue.id IN {})\n",
    "         MATCH (p:Quanta {{id:q.id}})\n",
    "         MATCH (y:Year {{value: q.year}})\n",
    "         CREATE (p)-[:PUBLISHED_IN_YEAR]->(y)\",\n",
    "        {{batchSize:10000, iterateList:true, parallel:false}})\n",
    "        \"\"\".format(file_name, top_42_ids)\n",
    "        run_query(query, graph, print_only=print_only)"
   ]
  },
  {
   "cell_type": "markdown",
   "metadata": {},
   "source": [
    "## (:Quanta)-[:PUBLISHED_IN_VENUE]->(:Venue)"
   ]
  },
  {
   "cell_type": "code",
   "execution_count": 20,
   "metadata": {},
   "outputs": [],
   "source": [
    "def add_quanta_venue_edges(papers_files, print_only=False):\n",
    "    for file_name in papers_files:\n",
    "        print('Processing {}'.format(file_name))\n",
    "\n",
    "        # First run on all venues WITH id's \n",
    "        query = \"\"\"\n",
    "        CALL apoc.periodic.iterate(\n",
    "        \"CALL apoc.load.json('{}') \n",
    "         YIELD value AS q \n",
    "         RETURN q\",\n",
    "        \"WHERE \n",
    "            (q IS NOT NULL) AND \n",
    "            (size(q.title) <= 3000) AND\n",
    "            exists(q.venue.id) AND\n",
    "            (q.venue.id IN {})\n",
    "         MATCH (p:Quanta {{id:q.id}} )\n",
    "         MATCH (v:Venue {{matchingId:q.venue.id}} )\n",
    "         CREATE (p)-[:PUBLISHED_IN_VENUE]->(v)\",\n",
    "        {{batchSize:10000, iterateList:true, parallel:false}})        \n",
    "        \"\"\".format(file_name, top_42_ids)\n",
    "        run_query(query, graph, print_only=print_only)\n",
    "        \n",
    "#         # Second, run on all venues WITHOUT id's\n",
    "#         # This means that the :Venue is not in the graph\n",
    "#         # So we want to MERGE it in\n",
    "#         query = \"\"\"\n",
    "#         CALL apoc.periodic.iterate(\n",
    "#         \"CALL apoc.load.json('{}') \n",
    "#          YIELD value AS q \n",
    "#          RETURN q\",\n",
    "#         \"WHERE not(exists(q.venue.id)) AND exists(q.venue.raw) \n",
    "#          MATCH (p:Quanta {{id:q.id}} )\n",
    "#          MERGE (v:Venue {{cleanName:apoc.text.clean(q.venue.raw)}} )\n",
    "#          CREATE (p)-[:PUBLISHED_IN_VENUE]->(v)\",\n",
    "#         {{batchSize:5000, iterateList:true, parallel:false}})        \n",
    "#         \"\"\".format(file_name)            \n",
    "#         run_query(query, graph, print_only=print_only)"
   ]
  },
  {
   "cell_type": "markdown",
   "metadata": {},
   "source": [
    "## (:Author)"
   ]
  },
  {
   "cell_type": "code",
   "execution_count": 21,
   "metadata": {},
   "outputs": [],
   "source": [
    "def add_authors(authors_files, print_only=False):\n",
    "    for file_name in authors_files: \n",
    "        print('Importing {}'.format(file_name))\n",
    "        query = \"\"\"\n",
    "        CALL apoc.periodic.iterate(\n",
    "        \"CALL apoc.load.json('{}') YIELD value AS q RETURN q\",\n",
    "        \"MERGE (a:Author {{id:q.id}})\n",
    "        SET a.name = q.name, \n",
    "            a.normalizedName = q.normalized_name, \n",
    "            a.cleanName = apoc.text.clean(q.normalized_name),\n",
    "            a.position = q.position, \n",
    "            a.lastAffiliation = q.org,\n",
    "            a.numCitations = q.n_citation, \n",
    "            a.numPublications = q.n_pubs, \n",
    "            a.hIndex=q.h_index\",\n",
    "        {{batchSize:10000, iterateList:true, parallel:true}});\n",
    "        \"\"\".format(file_name)\n",
    "        run_query(query, graph, print_only=print_only)"
   ]
  },
  {
   "cell_type": "markdown",
   "metadata": {},
   "source": [
    "## (:Author)-[:AUTHORED]->(:Quanta)"
   ]
  },
  {
   "cell_type": "code",
   "execution_count": 22,
   "metadata": {},
   "outputs": [],
   "source": [
    "def add_author_quanta_edges(authors_files, print_only=False):\n",
    "    for file_name in authors_files: \n",
    "        print('Creating authored relationships for {}'.format(file_name))\n",
    "        query = \"\"\"\n",
    "        CALL apoc.periodic.iterate(\n",
    "        \"CALL apoc.load.json('{}') YIELD value AS q RETURN q\",\n",
    "        \"MATCH (a:Author {{id:q.id}})\n",
    "        UNWIND q.pubs as pub\n",
    "        MATCH (p:Quanta {{id:pub.i}})\n",
    "        MERGE (a)-[r:AUTHORED]->(p)\n",
    "        ON CREATE SET r.order = CASE WHEN pub.r IS NULL THEN NULL ELSE pub.r END\",\n",
    "        {{batchSize:10000, iterateList:true, parallel:false}});\n",
    "        \"\"\".format(file_name)\n",
    "        run_query(query, graph, print_only=print_only)"
   ]
  },
  {
   "cell_type": "markdown",
   "metadata": {},
   "source": [
    "## (:Organization)"
   ]
  },
  {
   "cell_type": "code",
   "execution_count": 23,
   "metadata": {},
   "outputs": [],
   "source": [
    "def add_organizations(authors_files, print_only=False):\n",
    "    for file_name in authors_files: \n",
    "        query = \"\"\"\n",
    "        CALL apoc.periodic.iterate(\n",
    "            \"CALL apoc.load.json('{}') \n",
    "             YIELD value AS q              \n",
    "             RETURN q\",\n",
    "            \"WHERE q.org is not null\n",
    "             MERGE (o:Organization {{cleanName: apoc.text.clean(q.org}})\n",
    "             ON CREATE SET o.name = q.org\",\n",
    "            {{batchSize:10000, iterateList:true, parallel:false}});\n",
    "        \"\"\".format(data_dir + file_name)\n",
    "        run_query(query, graph, print_only=print_only)"
   ]
  },
  {
   "cell_type": "markdown",
   "metadata": {},
   "source": [
    "## (:Author)-[:AFFILIATED_WITH]->(:Organization)"
   ]
  },
  {
   "cell_type": "code",
   "execution_count": 24,
   "metadata": {},
   "outputs": [],
   "source": [
    "def add_author_organization_edges(authors_files, print_only=False):\n",
    "    for file_name in authors_files: \n",
    "        query = \"\"\"\n",
    "        CALL apoc.periodic.iterate(\n",
    "            \"CALL apoc.load.json('{}') \n",
    "             YIELD value AS q \n",
    "             RETURN q\",\n",
    "            \"WHERE q.org IS NOT NULL\n",
    "             MATCH (a:Author {{id: q.id}})\n",
    "             MATCH (o:Organization {{cleanName: apoc.text.clean(q.org)}})\n",
    "             MERGE (a)-[:AFFILIATED_WITH]->(o)\",\n",
    "            {{batchSize:10000, iterateList:true, parallel:false}});\n",
    "        \"\"\".format(data_dir + file_name)\n",
    "        run_query(query, graph, print_only=print_only)"
   ]
  },
  {
   "cell_type": "markdown",
   "metadata": {},
   "source": [
    "## (:Tag)"
   ]
  },
  {
   "cell_type": "code",
   "execution_count": 25,
   "metadata": {},
   "outputs": [],
   "source": [
    "def add_tags(authors_files, print_only=False):\n",
    "    for file_name in authors_files: \n",
    "        query = \"\"\"\n",
    "        CALL apoc.periodic.iterate(\n",
    "            \"CALL apoc.load.json('{}') \n",
    "             YIELD value AS q \n",
    "             RETURN q\",\n",
    "            \"WHERE exists(q.tags)\n",
    "             UNWIND q.tags as tag\n",
    "             MERGE (t:Tag {{cleanName: apoc.text.clean(tag.t)}})\n",
    "             ON CREATE SET t.name = tag.t\",\n",
    "            {{batchSize:10000, iterateList:true, parallel:true}})\n",
    "        \"\"\".format(data_dir + file_name)\n",
    "        run_query(query, graph, print_only=print_only)"
   ]
  },
  {
   "cell_type": "markdown",
   "metadata": {},
   "source": [
    "## (:Author)-[:HAS_TAG]->(:Tag)"
   ]
  },
  {
   "cell_type": "code",
   "execution_count": 26,
   "metadata": {},
   "outputs": [],
   "source": [
    "def add_author_tag_edges(authors_files, print_only=False):\n",
    "    for file_name in authors_files: \n",
    "        print(\"Processing {}...\".format(file_name))    \n",
    "        \n",
    "        query = \"\"\"\n",
    "        CALL apoc.periodic.iterate(\n",
    "        \"CALL apoc.load.json('{}') \n",
    "         YIELD value AS q \n",
    "         RETURN q\",\n",
    "        \"WHERE q.tags IS NOT NULL \n",
    "         MATCH (a:Author {{id:q.id}})\n",
    "         UNWIND q.tags as tag\n",
    "         MATCH (t:Tag {{cleanName:apoc.text.clean(tag.t)}})\n",
    "         MERGE (a)-[:HAS_TAG]->(t)\",\n",
    "        {{batchSize:10000, iterateList:true, parallel:false}});\n",
    "        \"\"\".format(file_name)\n",
    "        run_query(query, graph, print_only=print_only)"
   ]
  },
  {
   "cell_type": "markdown",
   "metadata": {},
   "source": [
    "## (:Quanta)-[:HAS_TAG]->(:Tag)"
   ]
  },
  {
   "cell_type": "code",
   "execution_count": 27,
   "metadata": {},
   "outputs": [],
   "source": [
    "def add_mag_quanta_tag_edges(papers_files, print_only=False):\n",
    "    for file_name in authors_files: \n",
    "        print(\"Processing {}...\".format(file_name))    \n",
    "        query = \"\"\"\n",
    "        CALL apoc.periodic.iterate(\n",
    "        \"CALL apoc.load.json('{}') \n",
    "         YIELD value AS q \n",
    "         RETURN q\",\n",
    "        \"WHERE q.keywords IS NOT NULL \n",
    "         MATCH (q:Quanta {{id:q.idv1}})\n",
    "         UNWIND q.keywords as tag\n",
    "         MATCH (t:Tag {{cleanName:apoc.text.clean(tag.t)}})\n",
    "         MERGE (q)-[:HAS_TAG]->(t)\",\n",
    "        {{batchSize:10000, iterateList:true, parallel:false}});\n",
    "        \"\"\".format(file_name)\n",
    "        run_query(query, graph, print_only=print_only)"
   ]
  },
  {
   "cell_type": "markdown",
   "metadata": {},
   "source": [
    "## (:Quanta)-[:CITES]->(:Quanta)"
   ]
  },
  {
   "cell_type": "code",
   "execution_count": 28,
   "metadata": {},
   "outputs": [],
   "source": [
    "def add_quanta_quanta_edges(v1_papers_files, print_only=False):\n",
    "    for file_name in v1_papers_files:\n",
    "        print(\"Processing {}...\".format(file_name))\n",
    "        query = \"\"\"\n",
    "        CALL apoc.periodic.iterate(\n",
    "            \"CALL apoc.load.json('{}') YIELD value AS q RETURN q\",\n",
    "            \"MATCH (p:Quanta {{idv1: q.id}})\n",
    "            UNWIND q.references as ref\n",
    "            WITH p, ref\n",
    "            MERGE (p)-[:CITES]->(b)\",\n",
    "            {{batchSize:10000, iterateList:true, parallel:false}});\n",
    "        \"\"\".format(data_dir + file_name)\n",
    "        run_query(query, graph, print_only=print_only)"
   ]
  },
  {
   "cell_type": "markdown",
   "metadata": {},
   "source": [
    "## (:Author)-[:COAUTHOR]-(:Author)"
   ]
  },
  {
   "cell_type": "code",
   "execution_count": 29,
   "metadata": {},
   "outputs": [],
   "source": [
    "def add_author_author_edges(print_only=False):\n",
    "    query = \"\"\"\n",
    "    CALL apoc.periodic.iterate(\n",
    "        \"MATCH (q:Quanta) WHERE size((q)<-[:AUTHORED]-()) > 1 RETURN q\",\n",
    "        \"WITH [(q)<-[:AUTHORED]-(a) | a] as coAuthors\n",
    "        UNWIND coAuthors as first\n",
    "        UNWIND coAuthors as second\n",
    "        WITH first, second\n",
    "        WHERE id(first) < id(second)\n",
    "        MERGE (first)-[r:COAUTHOR]-(second)\n",
    "        SET r.strength = CASE WHEN r.strength IS NULL THEN 1 ELSE r.strength + 1 END\",\n",
    "    {batchSize:10000, iterateList:true, parallel:false});\n",
    "    \"\"\"\n",
    "    run_query(query, graph, print_only=print_only)"
   ]
  },
  {
   "cell_type": "markdown",
   "metadata": {},
   "source": [
    "## Merge nodes that occur in both MAG and AMiner databases"
   ]
  },
  {
   "cell_type": "code",
   "execution_count": 30,
   "metadata": {},
   "outputs": [],
   "source": [
    "def merge_mag_aminer_venues(print_only=False):\n",
    "    query = \"\"\"\n",
    "    CALL apoc.periodic.iterate(\n",
    "        \"CALL apoc.load.json('magtwo/venue_linking_pairs.txt') \n",
    "         YIELD value as q\n",
    "         RETURN q\",\n",
    "        \"MATCH (m:Venue {id:q.mid})\n",
    "         MATCH (a:Venue {id:q.aid})\n",
    "         CALL apoc.refactor.mergeNodes(collect([m, a]), \n",
    "             {{properties:'discard', mergeRels:true}}) YIELD node\n",
    "         RETURN 'none'\",\n",
    "        {{batchSize:10000, iterateList:true, parallel:true}});\n",
    "        \"\"\" \n",
    "    run_query(query, graph, print_only=print_only)"
   ]
  },
  {
   "cell_type": "code",
   "execution_count": 31,
   "metadata": {},
   "outputs": [],
   "source": [
    "def merge_mag_aminer_authors(print_only=False):\n",
    "    query = \"\"\"\n",
    "    CALL apoc.periodic.iterate(\n",
    "        \"CALL apoc.load.json('magtwo/author_linking_pairs.txt') \n",
    "         YIELD value as q\n",
    "         RETURN q\",\n",
    "        \"MATCH (m:Author {id:q.mid})\n",
    "         MATCH (a:Author {id:q.aid})\n",
    "         CALL apoc.refactor.mergeNodes(collect([m, a]), \n",
    "             {{properties:'discard', mergeRels:true}}) YIELD node\n",
    "         RETURN 'none'\",\n",
    "        {{batchSize:10000, iterateList:true, parallel:true}});\n",
    "        \"\"\"\n",
    "    run_query(query, graph, print_only=print_only)"
   ]
  },
  {
   "cell_type": "code",
   "execution_count": 32,
   "metadata": {},
   "outputs": [],
   "source": [
    "def merge_mag_aminer_papers(print_only=False):\n",
    "    query = \"\"\"\n",
    "    CALL apoc.periodic.iterate(\n",
    "        \"CALL apoc.load.json('magtwo/paper_linking_pairs.txt') \n",
    "         YIELD value as q\n",
    "         RETURN q\",\n",
    "        \"MATCH (m:Quanta {id:q.mid})\n",
    "         MATCH (a:Quanta {id:q.aid})\n",
    "         CALL apoc.refactor.mergeNodes(collect([m, a]), \n",
    "             {{properties:'discard', mergeRels:true}}) YIELD node\n",
    "         RETURN 'none'\",\n",
    "        {{batchSize:10000, iterateList:true, parallel:true}});\n",
    "        \"\"\"\n",
    "    run_query(query, graph, print_only=print_only)"
   ]
  },
  {
   "cell_type": "markdown",
   "metadata": {},
   "source": [
    "# Run Import"
   ]
  },
  {
   "cell_type": "markdown",
   "metadata": {},
   "source": [
    "## Setup database"
   ]
  },
  {
   "cell_type": "code",
   "execution_count": 5,
   "metadata": {},
   "outputs": [
    {
     "name": "stdout",
     "output_type": "stream",
     "text": [
      "CREATE CONSTRAINT ON (n:Quanta) ASSERT n.id IS UNIQUE;\n",
      "CREATE CONSTRAINT ON (n:Quanta) ASSERT n.idv1 IS UNIQUE;\n",
      "CREATE CONSTRAINT ON (a:Author) ASSERT a.id IS UNIQUE;\n",
      "CREATE CONSTRAINT ON (v:Venue) ASSERT v.id IS UNIQUE;\n",
      "CREATE INDEX ON :Quanta(cleanName);\n",
      "CREATE INDEX ON :Quanta(doi);\n",
      "CREATE INDEX ON :Venue(cleanName);\n",
      "CREATE INDEX ON :Venue(matchingId);\n",
      "CREATE INDEX ON :Year(value);\n",
      "CREATE INDEX ON :Author(cleanName);\n",
      "CREATE INDEX ON :Organization(cleanName);\n"
     ]
    }
   ],
   "source": [
    "add_constraints(print_only=False)\n",
    "add_indices(print_only=False)\n",
    "add_years(1700, 2020)"
   ]
  },
  {
   "cell_type": "markdown",
   "metadata": {},
   "source": [
    "## Import MAG"
   ]
  },
  {
   "cell_type": "code",
   "execution_count": 24,
   "metadata": {},
   "outputs": [],
   "source": [
    "add_venues(mag_venues_file)"
   ]
  },
  {
   "cell_type": "code",
   "execution_count": 8,
   "metadata": {},
   "outputs": [
    {
     "name": "stdout",
     "output_type": "stream",
     "text": [
      "Importing magtwo/mag_papers_0.txt\n",
      "Importing magtwo/mag_papers_1.txt\n",
      "Importing magtwo/mag_papers_2.txt\n",
      "Importing magtwo/mag_papers_3.txt\n",
      "Importing magtwo/mag_papers_4.txt\n",
      "Importing magtwo/mag_papers_5.txt\n",
      "Importing magtwo/mag_papers_6.txt\n",
      "Importing magtwo/mag_papers_7.txt\n",
      "Importing magtwo/mag_papers_8.txt\n",
      "Importing magtwo/mag_papers_9.txt\n",
      "Importing magtwo/mag_papers_10.txt\n"
     ]
    }
   ],
   "source": [
    "add_quanta(mag_papers_files, print_only=False)"
   ]
  },
  {
   "cell_type": "code",
   "execution_count": null,
   "metadata": {},
   "outputs": [],
   "source": [
    "merge_quanta_on_cleanname(print_only=False)\n",
    "add_v1_ids(mag_v1_papers_files, print_only=False)"
   ]
  },
  {
   "cell_type": "code",
   "execution_count": 36,
   "metadata": {},
   "outputs": [
    {
     "name": "stdout",
     "output_type": "stream",
     "text": [
      "\n",
      "        CALL apoc.periodic.iterate(\n",
      "        \"CALL apoc.load.json('mag_first1m.txt') YIELD value AS q RETURN q\",\n",
      "        \"MATCH (p:Quanta {id:q.id})\n",
      "         MATCH (y:Year {value: p.year})\n",
      "         CREATE (p)-[:PUBLISHED_IN_YEAR]->(y)\",\n",
      "        {batchSize:10000, iterateList:true, parallel:false})\n",
      "        \n"
     ]
    }
   ],
   "source": [
    "add_quanta_year_edges(mag_papers_files, print_only=True)"
   ]
  },
  {
   "cell_type": "code",
   "execution_count": 38,
   "metadata": {},
   "outputs": [
    {
     "name": "stdout",
     "output_type": "stream",
     "text": [
      "Processing mag_first1m.txt\n",
      "\n",
      "        CALL apoc.periodic.iterate(\n",
      "        \"CALL apoc.load.json('mag_first1m.txt') \n",
      "         YIELD value AS q \n",
      "         RETURN q\",\n",
      "        \"WHERE exists(q.venue.id)\n",
      "         MATCH (p:Quanta {id:q.id} )\n",
      "         MATCH (v:Venue {matchingId:q.venue.id} )\n",
      "         CREATE (p)-[:PUBLISHED_IN_VENUE]->(v)\",\n",
      "        {batchSize:5000, iterateList:true, parallel:false})        \n",
      "        \n",
      "\n",
      "        CALL apoc.periodic.iterate(\n",
      "        \"CALL apoc.load.json('mag_first1m.txt') \n",
      "         YIELD value AS q \n",
      "         RETURN q\",\n",
      "        \"WHERE not(exists(q.venue.id)) AND exists(q.venue.raw) \n",
      "         MATCH (p:Quanta {id:q.id} )\n",
      "         MERGE (v:Venue {cleanName:apoc.text.clean(q.venue.raw)} )\n",
      "         CREATE (p)-[:PUBLISHED_IN_VENUE]->(v)\",\n",
      "        {batchSize:5000, iterateList:true, parallel:false})        \n",
      "        \n"
     ]
    }
   ],
   "source": [
    "add_quanta_venue_edges(mag_papers_files, print_only=True)\n",
    "# NEED TO RE ADD"
   ]
  },
  {
   "cell_type": "code",
   "execution_count": 25,
   "metadata": {},
   "outputs": [
    {
     "name": "stdout",
     "output_type": "stream",
     "text": [
      "Importing magtwo/mag_authors_0.txt\n",
      "\n",
      "        CALL apoc.periodic.iterate(\n",
      "        \"CALL apoc.load.json('magtwo/mag_authors_0.txt') YIELD value AS q RETURN q\",\n",
      "        \"MERGE (a:Author {id:q.id})\n",
      "        SET a.name = q.name, \n",
      "            a.normalizedName = q.normalized_name, \n",
      "            a.cleanName = apoc.text.clean(q.normalized_name),\n",
      "            a.position = q.position, \n",
      "            a.lastAffiliation = q.org,\n",
      "            a.numCitations = q.n_citation, \n",
      "            a.numPublications = q.n_pubs, \n",
      "            a.hIndex=q.h_index\",\n",
      "        {batchSize:10000, iterateList:true, parallel:true});\n",
      "        \n",
      "Importing magtwo/mag_authors_1.txt\n",
      "\n",
      "        CALL apoc.periodic.iterate(\n",
      "        \"CALL apoc.load.json('magtwo/mag_authors_1.txt') YIELD value AS q RETURN q\",\n",
      "        \"MERGE (a:Author {id:q.id})\n",
      "        SET a.name = q.name, \n",
      "            a.normalizedName = q.normalized_name, \n",
      "            a.cleanName = apoc.text.clean(q.normalized_name),\n",
      "            a.position = q.position, \n",
      "            a.lastAffiliation = q.org,\n",
      "            a.numCitations = q.n_citation, \n",
      "            a.numPublications = q.n_pubs, \n",
      "            a.hIndex=q.h_index\",\n",
      "        {batchSize:10000, iterateList:true, parallel:true});\n",
      "        \n",
      "Importing magtwo/mag_authors_2.txt\n",
      "\n",
      "        CALL apoc.periodic.iterate(\n",
      "        \"CALL apoc.load.json('magtwo/mag_authors_2.txt') YIELD value AS q RETURN q\",\n",
      "        \"MERGE (a:Author {id:q.id})\n",
      "        SET a.name = q.name, \n",
      "            a.normalizedName = q.normalized_name, \n",
      "            a.cleanName = apoc.text.clean(q.normalized_name),\n",
      "            a.position = q.position, \n",
      "            a.lastAffiliation = q.org,\n",
      "            a.numCitations = q.n_citation, \n",
      "            a.numPublications = q.n_pubs, \n",
      "            a.hIndex=q.h_index\",\n",
      "        {batchSize:10000, iterateList:true, parallel:true});\n",
      "        \n",
      "Importing magtwo/mag_authors_3.txt\n",
      "\n",
      "        CALL apoc.periodic.iterate(\n",
      "        \"CALL apoc.load.json('magtwo/mag_authors_3.txt') YIELD value AS q RETURN q\",\n",
      "        \"MERGE (a:Author {id:q.id})\n",
      "        SET a.name = q.name, \n",
      "            a.normalizedName = q.normalized_name, \n",
      "            a.cleanName = apoc.text.clean(q.normalized_name),\n",
      "            a.position = q.position, \n",
      "            a.lastAffiliation = q.org,\n",
      "            a.numCitations = q.n_citation, \n",
      "            a.numPublications = q.n_pubs, \n",
      "            a.hIndex=q.h_index\",\n",
      "        {batchSize:10000, iterateList:true, parallel:true});\n",
      "        \n",
      "Importing magtwo/mag_authors_4.txt\n",
      "\n",
      "        CALL apoc.periodic.iterate(\n",
      "        \"CALL apoc.load.json('magtwo/mag_authors_4.txt') YIELD value AS q RETURN q\",\n",
      "        \"MERGE (a:Author {id:q.id})\n",
      "        SET a.name = q.name, \n",
      "            a.normalizedName = q.normalized_name, \n",
      "            a.cleanName = apoc.text.clean(q.normalized_name),\n",
      "            a.position = q.position, \n",
      "            a.lastAffiliation = q.org,\n",
      "            a.numCitations = q.n_citation, \n",
      "            a.numPublications = q.n_pubs, \n",
      "            a.hIndex=q.h_index\",\n",
      "        {batchSize:10000, iterateList:true, parallel:true});\n",
      "        \n",
      "Importing magtwo/mag_authors_5.txt\n",
      "\n",
      "        CALL apoc.periodic.iterate(\n",
      "        \"CALL apoc.load.json('magtwo/mag_authors_5.txt') YIELD value AS q RETURN q\",\n",
      "        \"MERGE (a:Author {id:q.id})\n",
      "        SET a.name = q.name, \n",
      "            a.normalizedName = q.normalized_name, \n",
      "            a.cleanName = apoc.text.clean(q.normalized_name),\n",
      "            a.position = q.position, \n",
      "            a.lastAffiliation = q.org,\n",
      "            a.numCitations = q.n_citation, \n",
      "            a.numPublications = q.n_pubs, \n",
      "            a.hIndex=q.h_index\",\n",
      "        {batchSize:10000, iterateList:true, parallel:true});\n",
      "        \n",
      "Importing magtwo/mag_authors_6.txt\n",
      "\n",
      "        CALL apoc.periodic.iterate(\n",
      "        \"CALL apoc.load.json('magtwo/mag_authors_6.txt') YIELD value AS q RETURN q\",\n",
      "        \"MERGE (a:Author {id:q.id})\n",
      "        SET a.name = q.name, \n",
      "            a.normalizedName = q.normalized_name, \n",
      "            a.cleanName = apoc.text.clean(q.normalized_name),\n",
      "            a.position = q.position, \n",
      "            a.lastAffiliation = q.org,\n",
      "            a.numCitations = q.n_citation, \n",
      "            a.numPublications = q.n_pubs, \n",
      "            a.hIndex=q.h_index\",\n",
      "        {batchSize:10000, iterateList:true, parallel:true});\n",
      "        \n",
      "Importing magtwo/mag_authors_7.txt\n",
      "\n",
      "        CALL apoc.periodic.iterate(\n",
      "        \"CALL apoc.load.json('magtwo/mag_authors_7.txt') YIELD value AS q RETURN q\",\n",
      "        \"MERGE (a:Author {id:q.id})\n",
      "        SET a.name = q.name, \n",
      "            a.normalizedName = q.normalized_name, \n",
      "            a.cleanName = apoc.text.clean(q.normalized_name),\n",
      "            a.position = q.position, \n",
      "            a.lastAffiliation = q.org,\n",
      "            a.numCitations = q.n_citation, \n",
      "            a.numPublications = q.n_pubs, \n",
      "            a.hIndex=q.h_index\",\n",
      "        {batchSize:10000, iterateList:true, parallel:true});\n",
      "        \n",
      "Importing magtwo/mag_authors_8.txt\n",
      "\n",
      "        CALL apoc.periodic.iterate(\n",
      "        \"CALL apoc.load.json('magtwo/mag_authors_8.txt') YIELD value AS q RETURN q\",\n",
      "        \"MERGE (a:Author {id:q.id})\n",
      "        SET a.name = q.name, \n",
      "            a.normalizedName = q.normalized_name, \n",
      "            a.cleanName = apoc.text.clean(q.normalized_name),\n",
      "            a.position = q.position, \n",
      "            a.lastAffiliation = q.org,\n",
      "            a.numCitations = q.n_citation, \n",
      "            a.numPublications = q.n_pubs, \n",
      "            a.hIndex=q.h_index\",\n",
      "        {batchSize:10000, iterateList:true, parallel:true});\n",
      "        \n",
      "Importing magtwo/mag_authors_9.txt\n",
      "\n",
      "        CALL apoc.periodic.iterate(\n",
      "        \"CALL apoc.load.json('magtwo/mag_authors_9.txt') YIELD value AS q RETURN q\",\n",
      "        \"MERGE (a:Author {id:q.id})\n",
      "        SET a.name = q.name, \n",
      "            a.normalizedName = q.normalized_name, \n",
      "            a.cleanName = apoc.text.clean(q.normalized_name),\n",
      "            a.position = q.position, \n",
      "            a.lastAffiliation = q.org,\n",
      "            a.numCitations = q.n_citation, \n",
      "            a.numPublications = q.n_pubs, \n",
      "            a.hIndex=q.h_index\",\n",
      "        {batchSize:10000, iterateList:true, parallel:true});\n",
      "        \n",
      "Importing magtwo/mag_authors_10.txt\n",
      "\n",
      "        CALL apoc.periodic.iterate(\n",
      "        \"CALL apoc.load.json('magtwo/mag_authors_10.txt') YIELD value AS q RETURN q\",\n",
      "        \"MERGE (a:Author {id:q.id})\n",
      "        SET a.name = q.name, \n",
      "            a.normalizedName = q.normalized_name, \n",
      "            a.cleanName = apoc.text.clean(q.normalized_name),\n",
      "            a.position = q.position, \n",
      "            a.lastAffiliation = q.org,\n",
      "            a.numCitations = q.n_citation, \n",
      "            a.numPublications = q.n_pubs, \n",
      "            a.hIndex=q.h_index\",\n",
      "        {batchSize:10000, iterateList:true, parallel:true});\n",
      "        \n",
      "Importing magtwo/mag_authors_11.txt\n",
      "\n",
      "        CALL apoc.periodic.iterate(\n",
      "        \"CALL apoc.load.json('magtwo/mag_authors_11.txt') YIELD value AS q RETURN q\",\n",
      "        \"MERGE (a:Author {id:q.id})\n",
      "        SET a.name = q.name, \n",
      "            a.normalizedName = q.normalized_name, \n",
      "            a.cleanName = apoc.text.clean(q.normalized_name),\n",
      "            a.position = q.position, \n",
      "            a.lastAffiliation = q.org,\n",
      "            a.numCitations = q.n_citation, \n",
      "            a.numPublications = q.n_pubs, \n",
      "            a.hIndex=q.h_index\",\n",
      "        {batchSize:10000, iterateList:true, parallel:true});\n",
      "        \n",
      "Importing magtwo/mag_authors_12.txt\n",
      "\n",
      "        CALL apoc.periodic.iterate(\n",
      "        \"CALL apoc.load.json('magtwo/mag_authors_12.txt') YIELD value AS q RETURN q\",\n",
      "        \"MERGE (a:Author {id:q.id})\n",
      "        SET a.name = q.name, \n",
      "            a.normalizedName = q.normalized_name, \n",
      "            a.cleanName = apoc.text.clean(q.normalized_name),\n",
      "            a.position = q.position, \n",
      "            a.lastAffiliation = q.org,\n",
      "            a.numCitations = q.n_citation, \n",
      "            a.numPublications = q.n_pubs, \n",
      "            a.hIndex=q.h_index\",\n",
      "        {batchSize:10000, iterateList:true, parallel:true});\n",
      "        \n"
     ]
    }
   ],
   "source": [
    "add_authors(mag_authors_files, print_only=True)"
   ]
  },
  {
   "cell_type": "code",
   "execution_count": 26,
   "metadata": {},
   "outputs": [
    {
     "name": "stdout",
     "output_type": "stream",
     "text": [
      "Creating authored relationships for magtwo/mag_authors_0.txt\n",
      "\n",
      "        CALL apoc.periodic.iterate(\n",
      "        \"CALL apoc.load.json('magtwo/mag_authors_0.txt') YIELD value AS q RETURN q\",\n",
      "        \"MATCH (a:Author {id:q.id})\n",
      "        UNWIND q.pubs as pub\n",
      "        MATCH (p:Quanta {id:pub.i})\n",
      "        MERGE (a)-[r:AUTHORED]->(p)\n",
      "        ON CREATE SET r.order = CASE WHEN pub.r IS NULL THEN NULL ELSE pub.r END\",\n",
      "        {batchSize:10000, iterateList:true, parallel:false});\n",
      "        \n",
      "Creating authored relationships for magtwo/mag_authors_1.txt\n",
      "\n",
      "        CALL apoc.periodic.iterate(\n",
      "        \"CALL apoc.load.json('magtwo/mag_authors_1.txt') YIELD value AS q RETURN q\",\n",
      "        \"MATCH (a:Author {id:q.id})\n",
      "        UNWIND q.pubs as pub\n",
      "        MATCH (p:Quanta {id:pub.i})\n",
      "        MERGE (a)-[r:AUTHORED]->(p)\n",
      "        ON CREATE SET r.order = CASE WHEN pub.r IS NULL THEN NULL ELSE pub.r END\",\n",
      "        {batchSize:10000, iterateList:true, parallel:false});\n",
      "        \n",
      "Creating authored relationships for magtwo/mag_authors_2.txt\n",
      "\n",
      "        CALL apoc.periodic.iterate(\n",
      "        \"CALL apoc.load.json('magtwo/mag_authors_2.txt') YIELD value AS q RETURN q\",\n",
      "        \"MATCH (a:Author {id:q.id})\n",
      "        UNWIND q.pubs as pub\n",
      "        MATCH (p:Quanta {id:pub.i})\n",
      "        MERGE (a)-[r:AUTHORED]->(p)\n",
      "        ON CREATE SET r.order = CASE WHEN pub.r IS NULL THEN NULL ELSE pub.r END\",\n",
      "        {batchSize:10000, iterateList:true, parallel:false});\n",
      "        \n",
      "Creating authored relationships for magtwo/mag_authors_3.txt\n",
      "\n",
      "        CALL apoc.periodic.iterate(\n",
      "        \"CALL apoc.load.json('magtwo/mag_authors_3.txt') YIELD value AS q RETURN q\",\n",
      "        \"MATCH (a:Author {id:q.id})\n",
      "        UNWIND q.pubs as pub\n",
      "        MATCH (p:Quanta {id:pub.i})\n",
      "        MERGE (a)-[r:AUTHORED]->(p)\n",
      "        ON CREATE SET r.order = CASE WHEN pub.r IS NULL THEN NULL ELSE pub.r END\",\n",
      "        {batchSize:10000, iterateList:true, parallel:false});\n",
      "        \n",
      "Creating authored relationships for magtwo/mag_authors_4.txt\n",
      "\n",
      "        CALL apoc.periodic.iterate(\n",
      "        \"CALL apoc.load.json('magtwo/mag_authors_4.txt') YIELD value AS q RETURN q\",\n",
      "        \"MATCH (a:Author {id:q.id})\n",
      "        UNWIND q.pubs as pub\n",
      "        MATCH (p:Quanta {id:pub.i})\n",
      "        MERGE (a)-[r:AUTHORED]->(p)\n",
      "        ON CREATE SET r.order = CASE WHEN pub.r IS NULL THEN NULL ELSE pub.r END\",\n",
      "        {batchSize:10000, iterateList:true, parallel:false});\n",
      "        \n",
      "Creating authored relationships for magtwo/mag_authors_5.txt\n",
      "\n",
      "        CALL apoc.periodic.iterate(\n",
      "        \"CALL apoc.load.json('magtwo/mag_authors_5.txt') YIELD value AS q RETURN q\",\n",
      "        \"MATCH (a:Author {id:q.id})\n",
      "        UNWIND q.pubs as pub\n",
      "        MATCH (p:Quanta {id:pub.i})\n",
      "        MERGE (a)-[r:AUTHORED]->(p)\n",
      "        ON CREATE SET r.order = CASE WHEN pub.r IS NULL THEN NULL ELSE pub.r END\",\n",
      "        {batchSize:10000, iterateList:true, parallel:false});\n",
      "        \n",
      "Creating authored relationships for magtwo/mag_authors_6.txt\n",
      "\n",
      "        CALL apoc.periodic.iterate(\n",
      "        \"CALL apoc.load.json('magtwo/mag_authors_6.txt') YIELD value AS q RETURN q\",\n",
      "        \"MATCH (a:Author {id:q.id})\n",
      "        UNWIND q.pubs as pub\n",
      "        MATCH (p:Quanta {id:pub.i})\n",
      "        MERGE (a)-[r:AUTHORED]->(p)\n",
      "        ON CREATE SET r.order = CASE WHEN pub.r IS NULL THEN NULL ELSE pub.r END\",\n",
      "        {batchSize:10000, iterateList:true, parallel:false});\n",
      "        \n",
      "Creating authored relationships for magtwo/mag_authors_7.txt\n",
      "\n",
      "        CALL apoc.periodic.iterate(\n",
      "        \"CALL apoc.load.json('magtwo/mag_authors_7.txt') YIELD value AS q RETURN q\",\n",
      "        \"MATCH (a:Author {id:q.id})\n",
      "        UNWIND q.pubs as pub\n",
      "        MATCH (p:Quanta {id:pub.i})\n",
      "        MERGE (a)-[r:AUTHORED]->(p)\n",
      "        ON CREATE SET r.order = CASE WHEN pub.r IS NULL THEN NULL ELSE pub.r END\",\n",
      "        {batchSize:10000, iterateList:true, parallel:false});\n",
      "        \n",
      "Creating authored relationships for magtwo/mag_authors_8.txt\n",
      "\n",
      "        CALL apoc.periodic.iterate(\n",
      "        \"CALL apoc.load.json('magtwo/mag_authors_8.txt') YIELD value AS q RETURN q\",\n",
      "        \"MATCH (a:Author {id:q.id})\n",
      "        UNWIND q.pubs as pub\n",
      "        MATCH (p:Quanta {id:pub.i})\n",
      "        MERGE (a)-[r:AUTHORED]->(p)\n",
      "        ON CREATE SET r.order = CASE WHEN pub.r IS NULL THEN NULL ELSE pub.r END\",\n",
      "        {batchSize:10000, iterateList:true, parallel:false});\n",
      "        \n",
      "Creating authored relationships for magtwo/mag_authors_9.txt\n",
      "\n",
      "        CALL apoc.periodic.iterate(\n",
      "        \"CALL apoc.load.json('magtwo/mag_authors_9.txt') YIELD value AS q RETURN q\",\n",
      "        \"MATCH (a:Author {id:q.id})\n",
      "        UNWIND q.pubs as pub\n",
      "        MATCH (p:Quanta {id:pub.i})\n",
      "        MERGE (a)-[r:AUTHORED]->(p)\n",
      "        ON CREATE SET r.order = CASE WHEN pub.r IS NULL THEN NULL ELSE pub.r END\",\n",
      "        {batchSize:10000, iterateList:true, parallel:false});\n",
      "        \n",
      "Creating authored relationships for magtwo/mag_authors_10.txt\n",
      "\n",
      "        CALL apoc.periodic.iterate(\n",
      "        \"CALL apoc.load.json('magtwo/mag_authors_10.txt') YIELD value AS q RETURN q\",\n",
      "        \"MATCH (a:Author {id:q.id})\n",
      "        UNWIND q.pubs as pub\n",
      "        MATCH (p:Quanta {id:pub.i})\n",
      "        MERGE (a)-[r:AUTHORED]->(p)\n",
      "        ON CREATE SET r.order = CASE WHEN pub.r IS NULL THEN NULL ELSE pub.r END\",\n",
      "        {batchSize:10000, iterateList:true, parallel:false});\n",
      "        \n",
      "Creating authored relationships for magtwo/mag_authors_11.txt\n",
      "\n",
      "        CALL apoc.periodic.iterate(\n",
      "        \"CALL apoc.load.json('magtwo/mag_authors_11.txt') YIELD value AS q RETURN q\",\n",
      "        \"MATCH (a:Author {id:q.id})\n",
      "        UNWIND q.pubs as pub\n",
      "        MATCH (p:Quanta {id:pub.i})\n",
      "        MERGE (a)-[r:AUTHORED]->(p)\n",
      "        ON CREATE SET r.order = CASE WHEN pub.r IS NULL THEN NULL ELSE pub.r END\",\n",
      "        {batchSize:10000, iterateList:true, parallel:false});\n",
      "        \n",
      "Creating authored relationships for magtwo/mag_authors_12.txt\n",
      "\n",
      "        CALL apoc.periodic.iterate(\n",
      "        \"CALL apoc.load.json('magtwo/mag_authors_12.txt') YIELD value AS q RETURN q\",\n",
      "        \"MATCH (a:Author {id:q.id})\n",
      "        UNWIND q.pubs as pub\n",
      "        MATCH (p:Quanta {id:pub.i})\n",
      "        MERGE (a)-[r:AUTHORED]->(p)\n",
      "        ON CREATE SET r.order = CASE WHEN pub.r IS NULL THEN NULL ELSE pub.r END\",\n",
      "        {batchSize:10000, iterateList:true, parallel:false});\n",
      "        \n"
     ]
    }
   ],
   "source": [
    "add_author_quanta_edges(mag_authors_files, print_only=True)"
   ]
  },
  {
   "cell_type": "code",
   "execution_count": null,
   "metadata": {},
   "outputs": [],
   "source": [
    "add_organizations(mag_authors_files)"
   ]
  },
  {
   "cell_type": "code",
   "execution_count": null,
   "metadata": {},
   "outputs": [],
   "source": [
    "add_author_organization_edges(mag_authors_files)"
   ]
  },
  {
   "cell_type": "code",
   "execution_count": null,
   "metadata": {},
   "outputs": [],
   "source": [
    "add_tags(mag_authors_files)"
   ]
  },
  {
   "cell_type": "code",
   "execution_count": null,
   "metadata": {},
   "outputs": [],
   "source": [
    "add_author_tag_edges(mag_authors_files)"
   ]
  },
  {
   "cell_type": "code",
   "execution_count": null,
   "metadata": {},
   "outputs": [],
   "source": [
    "add_quanta_quanta_edges(mag_v1_papers_files)"
   ]
  },
  {
   "cell_type": "markdown",
   "metadata": {},
   "source": [
    "## Import AMiner"
   ]
  },
  {
   "cell_type": "code",
   "execution_count": 18,
   "metadata": {},
   "outputs": [
    {
     "name": "stdout",
     "output_type": "stream",
     "text": [
      "Query completed in 5.50 seconds.\n"
     ]
    }
   ],
   "source": [
    "add_venues(aminer_venues_file)"
   ]
  },
  {
   "cell_type": "code",
   "execution_count": null,
   "metadata": {},
   "outputs": [],
   "source": [
    "add_quanta(aminer_papers_files)"
   ]
  },
  {
   "cell_type": "code",
   "execution_count": null,
   "metadata": {},
   "outputs": [],
   "source": [
    "add_v1_ids(aminer_v1_papers_files)"
   ]
  },
  {
   "cell_type": "code",
   "execution_count": null,
   "metadata": {},
   "outputs": [],
   "source": [
    "add_quanta_year_edges(aminer_papers_files)"
   ]
  },
  {
   "cell_type": "code",
   "execution_count": null,
   "metadata": {},
   "outputs": [],
   "source": [
    "add_quanta_venue_edges(aminer_papers_files)\n",
    "# NEED TO RE ADD"
   ]
  },
  {
   "cell_type": "code",
   "execution_count": null,
   "metadata": {},
   "outputs": [],
   "source": [
    "add_authors(aminer_authors_files)"
   ]
  },
  {
   "cell_type": "code",
   "execution_count": null,
   "metadata": {},
   "outputs": [],
   "source": [
    "add_author_quanta_edges(aminer_authors_files)"
   ]
  },
  {
   "cell_type": "code",
   "execution_count": null,
   "metadata": {},
   "outputs": [],
   "source": [
    "add_organizations(aminer_authors_files)"
   ]
  },
  {
   "cell_type": "code",
   "execution_count": null,
   "metadata": {},
   "outputs": [],
   "source": [
    "add_author_organization_edges(aminer_authors_files)"
   ]
  },
  {
   "cell_type": "code",
   "execution_count": null,
   "metadata": {},
   "outputs": [],
   "source": [
    "add_tags(aminer_authors_files)"
   ]
  },
  {
   "cell_type": "code",
   "execution_count": null,
   "metadata": {},
   "outputs": [],
   "source": [
    "add_author_tag_edges(aminer_authors_files)\n",
    "# adding"
   ]
  },
  {
   "cell_type": "code",
   "execution_count": null,
   "metadata": {},
   "outputs": [],
   "source": [
    "add_quanta_quanta_edges(aminer_v1_papers_files)"
   ]
  },
  {
   "cell_type": "markdown",
   "metadata": {},
   "source": [
    "## Further additions and modifications"
   ]
  },
  {
   "cell_type": "code",
   "execution_count": null,
   "metadata": {},
   "outputs": [],
   "source": [
    "add_author_author_edges()"
   ]
  },
  {
   "cell_type": "code",
   "execution_count": null,
   "metadata": {},
   "outputs": [],
   "source": [
    "merge_mag_aminer_venues(venue_linking_pairs)\n",
    "#Not done"
   ]
  },
  {
   "cell_type": "code",
   "execution_count": null,
   "metadata": {},
   "outputs": [],
   "source": [
    "merge_mag_aminer_papers(paper_linking_pairs)\n",
    "#Not done"
   ]
  },
  {
   "cell_type": "code",
   "execution_count": null,
   "metadata": {},
   "outputs": [],
   "source": [
    "merge_mag_aminer_authors(author_linking_pairs)\n",
    "#Not done"
   ]
  },
  {
   "cell_type": "code",
   "execution_count": null,
   "metadata": {},
   "outputs": [],
   "source": [
    "# MErge duplicate venues, organizations, authors?\n",
    "\n",
    "# MERGE DUPLICATE CITATIONS "
   ]
  }
 ],
 "metadata": {
  "kernelspec": {
   "display_name": "Python 3",
   "language": "python",
   "name": "python3"
  },
  "language_info": {
   "codemirror_mode": {
    "name": "ipython",
    "version": 3
   },
   "file_extension": ".py",
   "mimetype": "text/x-python",
   "name": "python",
   "nbconvert_exporter": "python",
   "pygments_lexer": "ipython3",
   "version": "3.6.7"
  }
 },
 "nbformat": 4,
 "nbformat_minor": 2
}
