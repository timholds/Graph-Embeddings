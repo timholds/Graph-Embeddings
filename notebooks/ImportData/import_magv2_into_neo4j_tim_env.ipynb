{
 "cells": [
  {
   "cell_type": "code",
   "execution_count": null,
   "metadata": {},
   "outputs": [],
   "source": [
    "from py2neo import Graph, Node, Relationship\n",
    "import glob, os, time\n",
    " \n",
    "#graph = Graph('bolt://neo4j-top42:7687', auth=('neo4j','myneo'))\n",
    "graph = Graph('bolt://localhost:7687', auth=('neo4j', 'password'))\n",
    "\n",
    "n_nodes = graph.database.primitive_counts['NumberOfNodeIdsInUse']\n",
    "n_relationships = graph.database.primitive_counts['NumberOfRelationshipIdsInUse']\n",
    "print(\"Connected to graph database with {:,} nodes and {:,} relationships!\".format\n",
    "     (n_nodes, n_relationships))"
   ]
  },
  {
   "cell_type": "code",
   "execution_count": null,
   "metadata": {},
   "outputs": [],
   "source": [
    "graph.delete_all()"
   ]
  },
  {
   "cell_type": "markdown",
   "metadata": {},
   "source": [
    "## Setup Schema"
   ]
  },
  {
   "cell_type": "markdown",
   "metadata": {},
   "source": [
    "### Add uniqueness constraints"
   ]
  },
  {
   "cell_type": "code",
   "execution_count": null,
   "metadata": {},
   "outputs": [],
   "source": [
    "contraint_node_property_pairs = [('n:Quanta', 'n.id'), \n",
    "                                 ('a:Author', 'a.normalizedName'),\n",
    "                                 ('t:tag', 't.name'),\n",
    "                                 ('a:Author', 'a.id'),\n",
    "                                 ('o:Organization', 'o.name'),\n",
    "                                 ('v:Venue', 'v.id')]\n",
    "for n, p in contraint_node_property_pairs:\n",
    "    query = \"CREATE CONSTRAINT ON ({}) ASSERT {} IS UNIQUE;\".format(n,p)\n",
    "    print(query)\n",
    "    graph.run(query)"
   ]
  },
  {
   "cell_type": "markdown",
   "metadata": {},
   "source": [
    "### Create indices"
   ]
  },
  {
   "cell_type": "code",
   "execution_count": null,
   "metadata": {},
   "outputs": [],
   "source": [
    "indices_to_create = [':Quanta(year)', ':Quanta(lang)', ':Quanta(keywords)', \n",
    "                     ':Quanta(title)', ':Quanta(venue)', ':Quanta(doctype)',\n",
    "                     ':Venue(name)', ':Year(value)']\n",
    "for index in indices_to_create:\n",
    "    query = \"CREATE INDEX ON {};\".format(index)\n",
    "    print(query)\n",
    "    graph.run(query)"
   ]
  },
  {
   "cell_type": "markdown",
   "metadata": {},
   "source": [
    "## Import Data"
   ]
  },
  {
   "cell_type": "markdown",
   "metadata": {},
   "source": [
    "### Setup directories etc"
   ]
  },
  {
   "cell_type": "code",
   "execution_count": null,
   "metadata": {},
   "outputs": [],
   "source": [
    "data_dir = 'file:/Users/timholdsworth/code/scaling-science/notebooks/data/medium/'\n",
    "# data_dir = 'file:/import/magtwo/'\n",
    "print(\"Data directory set to `{}`.\".format(data_dir))\n",
    "\n",
    "def run_query(query, graph, print_query=False, run_query=True, print_only=False):\n",
    "    if print_only: \n",
    "        print_query = True\n",
    "        run_query = False\n",
    "    start_time = time.time()\n",
    "    if print_query:\n",
    "        print(query)\n",
    "    if run_query:\n",
    "        graph.run(query)\n",
    "    end_time = time.time()\n",
    "    seconds_elapsed = end_time-start_time\n",
    "    minutes_elapsed = (end_time-start_time)/60\n",
    "    print(\"Query completed in {:.2f} seconds.\".format(seconds_elapsed))"
   ]
  },
  {
   "cell_type": "markdown",
   "metadata": {},
   "source": [
    "### Import venues as nodes\n"
   ]
  },
  {
   "cell_type": "code",
   "execution_count": null,
   "metadata": {},
   "outputs": [],
   "source": [
    "query = \"\"\" \n",
    "CALL apoc.periodic.iterate(\n",
    "\"CALL apoc.load.json('{}') YIELD value AS q RETURN q\",\n",
    "\"CREATE (v:Venue {{id:q.id, journalId:q.JournalId, conferenceId:q.ConferenceId,\n",
    "    name:q.DisplayName, normalizedName:q.NormalizedName}})\", \n",
    "{{batchSize:10000, iterateList:true, parallel:true}});\n",
    "\"\"\".format(data_dir + 'mag_venues_100k.txt')\n",
    "\n",
    "run_query(query, graph)"
   ]
  },
  {
   "cell_type": "markdown",
   "metadata": {},
   "source": [
    "### Create year nodes"
   ]
  },
  {
   "cell_type": "code",
   "execution_count": null,
   "metadata": {},
   "outputs": [],
   "source": [
    "query = \"\"\"\n",
    "UNWIND range(1800, 2020) as yr\n",
    "MERGE (y:Year {value: yr})\n",
    "\"\"\"\n",
    "run_query(query, graph)"
   ]
  },
  {
   "cell_type": "markdown",
   "metadata": {},
   "source": [
    "### Import quanta and add relationships to venue nodes"
   ]
  },
  {
   "cell_type": "code",
   "execution_count": null,
   "metadata": {},
   "outputs": [],
   "source": [
    "for i in range(3):\n",
    "    #file_name = 'mag_papers_nature_{}.txt'.format(i)\n",
    "    file_name = 'mag_papers_{}_100k.txt'.format(i)\n",
    "    query = \"\"\"\n",
    "    CALL apoc.periodic.iterate(\n",
    "    \"CALL apoc.load.json('{}') YIELD value AS q RETURN q\",\n",
    "    \"UNWIND q.id as id\n",
    "    CREATE (p:Quanta {{id:id, title:q.title, year:q.year, keywords:q.keywords,\n",
    "        numCitations:q.n_citation, docType:q.doc_type, language:q.lang, \n",
    "        publisher:q.publisher, doi:q.doi, pdf:q.pdf, abstract:q.abstract}})\n",
    "    WITH q, p\n",
    "    MATCH (y:Year {{value: q.year}})\n",
    "    CREATE (p)-[:PUBLISHED_IN_YEAR]->(y)\n",
    "    WITH q, p\n",
    "    UNWIND q.venue as venue\n",
    "    MATCH (v:Venue {{name: venue.raw }})\n",
    "    CREATE (p)-[:PUBLISHED_IN_VENUE]->(v)\",\n",
    "    {{batchSize:10000, iterateList:true, parallel:true}})\n",
    "    \"\"\".format(data_dir + file_name)\n",
    "    run_query(query, graph)\n",
    "    \n",
    "\n",
    "\n"
   ]
  },
  {
   "cell_type": "markdown",
   "metadata": {},
   "source": [
    "### Import Author, Tag, and Organization nodes and relationships between them"
   ]
  },
  {
   "cell_type": "code",
   "execution_count": null,
   "metadata": {},
   "outputs": [],
   "source": []
  },
  {
   "cell_type": "code",
   "execution_count": null,
   "metadata": {},
   "outputs": [],
   "source": [
    "# Import authors and make relationships between authors and quanta\n",
    "for i in range(3):\n",
    "    #file_name = 'mag_authors_{}.txt'.format(i)\n",
    "    file_name = 'mag_authors_{}_100k.txt'.format(i)\n",
    "    \n",
    "    query = \"\"\"\n",
    "    CALL apoc.periodic.iterate(\n",
    "        \"CALL apoc.load.json('{}') YIELD value AS q RETURN q\",\n",
    "        \"CREATE (a:Author {{id:q.id, name:q.name, normalizedName:q.normalized_name, \n",
    "            position:q.position, numCitations:q.n_citation, numPublications:q.n_pubs, \n",
    "            hIndex:q.h_index}})\n",
    "        WITH q, a\n",
    "        UNWIND q.pubs as pubs\n",
    "        MATCH (p:Quanta {{id:pubs.i}})\n",
    "        CREATE (a)-[r:AUTHORED {{rank: pubs.r}}]->(p)\",\n",
    "    {{batchSize:10000, iterateList:true, parallel:true}})\n",
    "    \"\"\".format(data_dir + file_name)\n",
    "    \n",
    "    run_query(query, graph)\n",
    "    "
   ]
  },
  {
   "cell_type": "code",
   "execution_count": null,
   "metadata": {},
   "outputs": [],
   "source": [
    "# Add organization nodes\n",
    "for i in range(3):\n",
    "    #file_name = 'mag_authors_{}.txt'.format(i)\n",
    "    file_name = 'mag_authors_{}_100k.txt'.format(i)\n",
    "\n",
    "    query = \"\"\"\n",
    "    CALL apoc.periodic.iterate(\n",
    "        \"CALL apoc.load.json('{}') YIELD value AS q RETURN q\",\n",
    "        \"MERGE (o:organization {{name: q.org}})\",\n",
    "        {{batchSize:10000, iterateList:true, parallel:true}})\n",
    "    \n",
    "    \"\"\".format(data_dir + file_name)\n",
    "    run_query(query, graph)\n"
   ]
  },
  {
   "cell_type": "code",
   "execution_count": null,
   "metadata": {},
   "outputs": [],
   "source": [
    "# Add relationships between authors and organizations\n",
    "for i in range(3):\n",
    "    #file_name = 'mag_authors_{}.txt'.format(i)\n",
    "    file_name = 'mag_authors_{}_100k.txt'.format(i)\n",
    "\n",
    "    query = \"\"\"\n",
    "    CALL apoc.periodic.iterate(\n",
    "        \"CALL apoc.load.json('{}') YIELD value AS q RETURN q\",\n",
    "        \"MATCH (a:Author {{normalizedName: q.normalized_name}})\n",
    "        MATCH (o:Organization {{name: q.org}})\n",
    "        WHERE q.org is not null\n",
    "        CREATE (a)-[:AFFILIATED_WITH]->(o)\",\n",
    "        {{batchSize:10000, iterateList:true, parallel:true}})\n",
    "    \n",
    "    \"\"\".format(data_dir + file_name)\n",
    "    run_query(query, graph)\n"
   ]
  },
  {
   "cell_type": "code",
   "execution_count": null,
   "metadata": {},
   "outputs": [],
   "source": [
    "# Add tags as nodes\n",
    "for i in range(3):\n",
    "    #file_name = 'mag_authors_{}.txt'.format(i)\n",
    "    file_name = 'mag_authors_{}_100k.txt'.format(i)\n",
    "\n",
    "    query = \"\"\"\n",
    "    CALL apoc.periodic.iterate(\n",
    "        \"CALL apoc.load.json('{}') YIELD value AS q RETURN q\",\n",
    "        \"UNWIND q.tags as tags\n",
    "        MERGE (t:Tag {{name: tags.t}})\",\n",
    "        {{batchSize:10000, iterateList:true, parallel:true}})\n",
    "    \n",
    "    \"\"\".format(data_dir + file_name)\n",
    "    run_query(query, graph)"
   ]
  },
  {
   "cell_type": "code",
   "execution_count": null,
   "metadata": {},
   "outputs": [],
   "source": [
    "# Add relationships between authors and tags\n",
    "for i in range(3):\n",
    "    #file_name = 'mag_authors_{}.txt'.format(i)\n",
    "    file_name = 'mag_authors_{}_100k.txt'.format(i)\n",
    "\n",
    "    query = \"\"\"\n",
    "    CALL apoc.periodic.iterate(\n",
    "        \"CALL apoc.load.json('{}') YIELD value AS q RETURN q\",\n",
    "        \"UNWIND q.tags as tags\n",
    "        MATCH (a:Author {{normalizedName: q.normalized_name}})\n",
    "        MATCH (t:Tag {{name: tags.t}})\n",
    "        CREATE (a)-[:HAS_TAG {{weight: tags.weight}}]->(t)\",\n",
    "        {{batchSize:10000, iterateList:true, parallel:true}})\n",
    "    \n",
    "    \"\"\".format(data_dir + file_name)\n",
    "    run_query(query, graph)\n"
   ]
  },
  {
   "cell_type": "code",
   "execution_count": null,
   "metadata": {},
   "outputs": [],
   "source": []
  },
  {
   "cell_type": "markdown",
   "metadata": {},
   "source": [
    "### Add Coauthor Relationships"
   ]
  },
  {
   "cell_type": "code",
   "execution_count": null,
   "metadata": {},
   "outputs": [],
   "source": [
    "query = \"\"\"\n",
    "CALL apoc.periodic.iterate(\n",
    "    \"MATCH (q:Quanta) WHERE size((q)<-[:AUTHORED]-()) > 1 RETURN q\",\n",
    "    \"WITH [(q)<-[:AUTHORED]-(a) | a] as coAuthors\n",
    "    UNWIND coAuthors as first\n",
    "    UNWIND coAuthors as second\n",
    "    WITH first, second\n",
    "    WHERE id(first) < id(second)\n",
    "    MERGE (first)-[r:COAUTHOR]-(second)\n",
    "    SET r.strength = CASE WHEN r.strength IS NULL THEN 1 ELSE r.strength + 1 END\",\n",
    "{batchSize:10000, iterateList:true, parallel:true});\n",
    "\"\"\"\n",
    "\n",
    "run_query(query, graph)#, print_only=True)"
   ]
  },
  {
   "cell_type": "markdown",
   "metadata": {},
   "source": [
    "### OLD"
   ]
  },
  {
   "cell_type": "code",
   "execution_count": null,
   "metadata": {},
   "outputs": [],
   "source": [
    "# OLD\n",
    "# Import authors, organizations, and tags with relationships between the them plus author-quanta relationship\n",
    "for i in range(3):\n",
    "    #file_name = 'mag_authors_{}.txt'.format(i)\n",
    "    file_name = 'mag_authors_{}_100k.txt'.format(i)\n",
    "    \n",
    "    query = \"\"\"\n",
    "    CALL apoc.periodic.iterate(\n",
    "        \"CALL apoc.load.json('{}') YIELD value AS q RETURN q\",\n",
    "        \"CREATE (a:Author {{id:q.id, name:q.name, normalizedName:q.normalized_name, \n",
    "            position:q.position, numCitations:q.n_citation, numPublications:q.n_pubs, \n",
    "            hIndex:q.h_index}})\n",
    "        WITH q, a\n",
    "        UNWIND q.pubs as pubs\n",
    "        MATCH (p:Quanta {{id:pubs.i}})\n",
    "        CREATE (a)-[r:AUTHORED {{rank: pubs.r}}]->(p)\n",
    "        WITH DISTINCT q, a\n",
    "        UNWIND q.tags as tags\n",
    "        MATCH (a:Author {{name: q.name}})\n",
    "        MERGE (t:Tag {{name: tags.t}})\n",
    "        CREATE (a)-[:HAS_TAG {{weight: tags.weight}}]->(t)\n",
    "        WITH DISTINCT q, a\n",
    "        WHERE q.org is not null\n",
    "        MERGE (o:Organization {{name: q.org}})\n",
    "        CREATE (a)-[:AFFILIATED_WITH]->(o)\",\n",
    "    {{batchSize:10000, iterateList:true, parallel:true}})\n",
    "    \"\"\".format(data_dir + file_name)\n",
    "    \n",
    "    run_query(query, graph)\n",
    "    "
   ]
  },
  {
   "cell_type": "code",
   "execution_count": null,
   "metadata": {},
   "outputs": [],
   "source": [
    "# OLD Add relationships between authors and tags\n",
    "for i in range(3):\n",
    "    #file_name = 'mag_authors_{}.txt'.format(i)\n",
    "    file_name = 'mag_authors_{}_10k.txt'.format(i)\n",
    "\n",
    "    query = \"\"\"\n",
    "    CALL apoc.periodic.iterate(\n",
    "        \"CALL apoc.load.json('{}') YIELD value AS q RETURN q\",\n",
    "        \"UNWIND q.tags as tags\n",
    "        MATCH (a:Author {{name: q.name}})\n",
    "        MERGE (t:Tag {{name: tags.t}})\n",
    "        CREATE (a)-[:HAS_TAG {{weight: tags.weight}}]->(t)\n",
    "        WITH DISTINCT q, a\n",
    "        WHERE q.org is not null\n",
    "        MERGE (o:Organization {{name: q.org}})\n",
    "        CREATE (a)-[:AFFILIATED_WITH]->(o)\",\n",
    "        {{batchSize:10000, iterateList:true, parallel:true}})\n",
    "    \n",
    "    \"\"\".format(data_dir + file_name)\n",
    "    run_query(query, graph)\n"
   ]
  }
 ],
 "metadata": {
  "kernelspec": {
   "display_name": "ss-env",
   "language": "python",
   "name": "ss-env"
  },
  "language_info": {
   "codemirror_mode": {
    "name": "ipython",
    "version": 3
   },
   "file_extension": ".py",
   "mimetype": "text/x-python",
   "name": "python",
   "nbconvert_exporter": "python",
   "pygments_lexer": "ipython3",
   "version": "3.5.2"
  }
 },
 "nbformat": 4,
 "nbformat_minor": 2
}
