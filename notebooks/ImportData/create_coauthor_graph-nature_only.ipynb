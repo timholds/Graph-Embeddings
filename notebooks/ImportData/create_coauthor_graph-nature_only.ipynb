{
 "cells": [
  {
   "cell_type": "code",
   "execution_count": null,
   "metadata": {},
   "outputs": [],
   "source": [
    "import time\n",
    "import json\n",
    "from py2neo import Graph, Node, Relationship"
   ]
  },
  {
   "cell_type": "code",
   "execution_count": null,
   "metadata": {},
   "outputs": [],
   "source": [
    "graph = Graph(\"bolt://neo4j-quanta-two:7687\", auth=('neo4j','myneo'))\n",
    "# graph = Graph(\"bolt://localhost:7687\", auth = ('neo4j', 'password'))\n",
    "\n",
    "print(\"Connected to graph database with {:,} nodes and {:,} relationships!\".format(\n",
    "    graph.database.primitive_counts['NumberOfNodeIdsInUse'], \n",
    "    graph.database.primitive_counts['NumberOfRelationshipIdsInUse']))"
   ]
  },
  {
   "cell_type": "code",
   "execution_count": null,
   "metadata": {},
   "outputs": [],
   "source": [
    "# Constrain one name per author\n",
    "print(\"Creating uniqueness constraint (and also index) on Author names...\", end=\" \", flush=True)\n",
    "query = \"\"\"CREATE CONSTRAINT ON (a:Author2) ASSERT a.name IS UNIQUE;\"\"\"\n",
    "graph.run(query).evaluate()\n",
    "print(\"Done.\")"
   ]
  },
  {
   "cell_type": "code",
   "execution_count": null,
   "metadata": {},
   "outputs": [],
   "source": [
    "# Add coauthor relationships on existing graph\n",
    "query = \"\"\"\n",
    "CALL apoc.periodic.iterate(\n",
    "\"MATCH (q:Quanta) WHERE size((q)<-[:AUTHORED]-())>1 RETURN q\",\n",
    "\"WITH [(q)<-[:AUTHORED]-(a) | a] as coAuthors\n",
    " UNWIND coAuthors as first\n",
    " UNWIND coAuthors as second\n",
    " WITH first, second\n",
    " WHERE id(first) < id(second)\n",
    " MERGE (first)-[r:COAUTHOR]-(second)\n",
    "  ON CREATE SET r.strength = 1\n",
    "  ON MATCH SET r.strength = r.strength + 1\",\n",
    "{batchSize:10000, iterateList:true, parallel:false});\n",
    "\"\"\"\n",
    "graph.run(query)"
   ]
  },
  {
   "cell_type": "code",
   "execution_count": null,
   "metadata": {},
   "outputs": [],
   "source": []
  },
  {
   "cell_type": "markdown",
   "metadata": {},
   "source": [
    "OLD QUERIES"
   ]
  },
  {
   "cell_type": "code",
   "execution_count": null,
   "metadata": {},
   "outputs": [],
   "source": [
    "# Create coauthor relationships - runs on existing graph but double counts\n",
    "import time\n",
    "\n",
    "start_time = time.time()\n",
    "\n",
    "print(\"Adding coauthor relationships...\")\n",
    "query = \"\"\" \n",
    "MATCH (q:Quanta)\n",
    "MATCH (q)<-[:AUTHORED]-(a:Author)\n",
    "MATCH (q)<-[:AUTHORED]-(b:Author) where a <> b\n",
    "MERGE (a)-[r:COAUTHOR]-(b)\n",
    "ON CREATE SET r.strength = 1\n",
    "ON MATCH SET r.strength = r.strength + 1\n",
    "\"\"\"\n",
    "\n",
    "query_start_time = time.time()\n",
    "graph.run(query)#.evaluate()\n",
    "print(\"Done in ({:.2f} seconds)...\".format((time.time()-query_start_time)))\n",
    "#print(\"Done in ({:.2f} minutes)...\".format((time.time()-query_start_time)/60))"
   ]
  },
  {
   "cell_type": "code",
   "execution_count": null,
   "metadata": {},
   "outputs": [],
   "source": [
    "# Import authors as nodes and create coauthor relationships\n",
    "import glob, os, time\n",
    "\n",
    "local_data_dir = '/tmp/data/mag/test' #'/tmp/data/mag/test'\n",
    "neo4j_data_dir = '/import/mag/test'\n",
    "\n",
    "start_time = time.time()\n",
    "for _,_ , files in os.walk(local_data_dir):\n",
    "    for file in sorted(files):\n",
    "        if file.endswith('.txt'):\n",
    "           \n",
    "            print(\"Importing {}...\".format(file), end=\" \", flush=True)\n",
    "            query = \"\"\"\n",
    "            CALL apoc.periodic.iterate(\n",
    "            \"CALL apoc.load.json('file://{}{}') YIELD value AS q RETURN q\"\n",
    "            ,\n",
    "            \"MERGE (p:Quanta {{name:q.title}})\n",
    "            WITH q, p\n",
    "            UNWIND q.authors as author \n",
    "            MERGE (a:Author2 {{name:author.name}})\n",
    "            MERGE (a)-[:COCREATOR]->(p)\n",
    "            WITH p,a\n",
    "            MATCH (b:Author2)-[]->(p) where a <> b\n",
    "            MERGE (a)-[r:COAUTHOR]-(b)\n",
    "            ON CREATE SET r.strength2 = 1\n",
    "            ON MATCH SET r.strength2 = r.strength2 + 1\n",
    "            WITH p DETACH DELETE p;\"\n",
    "            , \n",
    "            {{batchSize:10000, iterateList:true, parallel:false}});\n",
    "            \"\"\".format(neo4j_data_dir, file)\n",
    "            \n",
    "            query_start_time = time.time()\n",
    "            graph.run(query).evaluate()\n",
    "            print(\"Done in ({:.2f} minutes)...\".format((time.time()-query_start_time)/60))\n",
    "\n",
    "print(\"Finished all imports in {:.2f} hours.\".format((time.time()-start_time)/60/60))"
   ]
  },
  {
   "cell_type": "code",
   "execution_count": null,
   "metadata": {},
   "outputs": [],
   "source": [
    "query = \"\"\"\n",
    "MERGE (p:Quanta2)\n",
    "WITH q, p\n",
    "UNWIND q.authors as author \n",
    "MERGE (a:Author2 {{name:author.name}})\n",
    "MERGE (a)-[:COCREATOR]->(p)\n",
    "WITH p,a\n",
    "MATCH (b:Author2)-[]->(p) where a <> b\n",
    "MERGE (a)-[r:COAUTHOR]-(b)\n",
    "ON CREATE SET r.strength2 = 1\n",
    "ON MATCH SET r.strength2 = r.strength2 + 1\n",
    "WITH p DETACH DELETE p\n",
    "\"\"\"\n",
    "\n",
    "query_start_time = time.time()\n",
    "graph.run(query).evaluate()\n",
    "print(\"Done in ({:.2f} minutes)...\".format((time.time()-query_start_time)/60))\n",
    "\n",
    "print(\"Finished all imports in {:.2f} hours.\".format((time.time()-start_time)/60/60))"
   ]
  },
  {
   "cell_type": "code",
   "execution_count": null,
   "metadata": {},
   "outputs": [],
   "source": [
    "# Import authors as nodes and create coauthor relationships\n",
    "import glob, os, time\n",
    "\n",
    "local_data_dir = '/work/ImportData/CoauthorshipNatureGraph/' #'/tmp/data/mag/test'\n",
    "neo4j_data_dir = '/work/ImportData/CoauthorshipNatureGraph/'\n",
    "\n",
    "start_time = time.time()\n",
    "for _,_ , files in os.walk(local_data_dir):\n",
    "    for file in sorted(files):\n",
    "        if file.endswith('.txt'):\n",
    "           \n",
    "            print(\"Importing {}...\".format(file), end=\" \", flush=True)\n",
    "            \n",
    "            query = \"\"\"CREATE NODE(\"Author2\", name)\"\"\"\n",
    "            \n",
    "            query = \"\"\"\n",
    "            CALL apoc.periodic.iterate(\n",
    "            \"CALL apoc.load.json('file://{}{}') YIELD value AS q RETURN q\");\n",
    "            \"\"\".format(neo4j_data_dir, file)\n",
    "            \n",
    "            query_start_time = time.time()\n",
    "            graph.run(query).evaluate()\n",
    "            print(\"Done in ({:.2f} minutes)...\".format((time.time()-query_start_time)/60))\n",
    "\n",
    "print(\"Finished all imports in {:.2f} hours.\".format((time.time()-start_time)/60/60))"
   ]
  },
  {
   "cell_type": "code",
   "execution_count": null,
   "metadata": {},
   "outputs": [],
   "source": [
    "def query_to_df(query, graph):\n",
    "    print(\"Starting query...\", end=\" \")\n",
    "    query_start_time = time.time()\n",
    "    df = graph.run(query).to_data_frame()\n",
    "    print(\"Done ({:.2f} minutes).\".format((time.time()-query_start_time)/60))\n",
    "    return df"
   ]
  },
  {
   "cell_type": "code",
   "execution_count": null,
   "metadata": {},
   "outputs": [],
   "source": [
    "query = \"MATCH (n:Quanta2) RETURN n\"\n",
    "data = query_to_df(query, graph)\n",
    "    \n",
    "data"
   ]
  },
  {
   "cell_type": "code",
   "execution_count": null,
   "metadata": {},
   "outputs": [],
   "source": [
    "d_list = [{\"title\": \"title1\", \"authors\": [{\"name\": \"name1\"}], \"venue\": \"Nature\"}, {\"title\": \"title2\", \"authors\": [{\"name\": \"name1\"}, {\"name\": \"name2\"}], \"venue\": \"Nature\"}, {\"title\": \"title3\", \"authors\": [{\"name\": \"name1\"}, {\"name\": \"name2\"}, {\"name\": \"name3\"}], \"venue\": \"Nature\"}, {\"title\": \"title4\", \"authors\": [{\"name\": \"name2\"}, {\"name\": \"name3\"}, {\"name\": \"name4\"}], \"venue\": \"Nature\"}, {\"title\": \"title5\", \"authors\": [{\"name\": \"name5\"}, {\"name\": \"name6\"}, {\"name\": \"name7\"}], \"venue\": \"Nature\"}, {\"title\": \"title6\", \"authors\": [{\"name\": \"name1\"}, {\"name\": \"name2\"}, {\"name\": \"name3\"}], \"venue\": \"PLOS\"}, {\"title\": \"title7\", \"authors\": [{\"name\": \"name3\"}, {\"name\": \"name8\"}], \"venue\": \"Cell\"}, {\"title\": \"title8\", \"authors\": [{\"name\": \"name4\"}, {\"name\": \"name9\"}, {\"name\": \"name10\"}], \"venue\": \"Cell\"}]\n",
    "\n",
    "for d in d_list:\n",
    "    node = Node(\"Quanta2\", title=d[\"title\"], authors=[x[\"name\"] for x in d[\"authors\"]], venue=d[\"venue\"])\n",
    "    graph.create(node)"
   ]
  },
  {
   "cell_type": "code",
   "execution_count": null,
   "metadata": {},
   "outputs": [],
   "source": [
    "graph.delete_all()"
   ]
  },
  {
   "cell_type": "code",
   "execution_count": null,
   "metadata": {},
   "outputs": [],
   "source": []
  }
 ],
 "metadata": {
  "anaconda-cloud": {},
  "kernelspec": {
   "display_name": "Python 3",
   "language": "python",
   "name": "python3"
  },
  "language_info": {
   "codemirror_mode": {
    "name": "ipython",
    "version": 3
   },
   "file_extension": ".py",
   "mimetype": "text/x-python",
   "name": "python",
   "nbconvert_exporter": "python",
   "pygments_lexer": "ipython3",
   "version": "3.6.6"
  }
 },
 "nbformat": 4,
 "nbformat_minor": 2
}
