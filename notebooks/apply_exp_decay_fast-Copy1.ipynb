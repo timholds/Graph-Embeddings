{
 "cells": [
  {
   "cell_type": "code",
   "execution_count": null,
   "metadata": {},
   "outputs": [],
   "source": [
    "import pandas as pd\n",
    "import numpy as np"
   ]
  },
  {
   "cell_type": "code",
   "execution_count": null,
   "metadata": {
    "code_folding": [
     3
    ]
   },
   "outputs": [],
   "source": [
    "file_name = 'patents_pivottable_1900-2020-5.csv'\n",
    "root = '/Users/timholdsworth/code/scaling-science/data/result/'\n",
    "\n",
    "def get_data(file_name):\n",
    "    path_in = root + file_name\n",
    "    df = pd.read_csv(path_in, encoding='latin1')\n",
    "    return df"
   ]
  },
  {
   "cell_type": "code",
   "execution_count": null,
   "metadata": {
    "code_folding": [
     1
    ]
   },
   "outputs": [],
   "source": [
    "# Add extra columns that aggregate information from the dataframe\n",
    "def add_aggregate_cols(df):\n",
    "    # Add a column thats sums up all the values in a row, which are all the paper's pagerank scores in given years\n",
    "    df['score_sum'] = df.sum(axis=1, skipna=True)\n",
    "    # Add a column with the number of years since the paper was published\n",
    "    df['total_years_pub'] = len(df.columns) - 2 - df.isnull().sum(axis=1, skipna=True) \n",
    "    # Add a column with the average score for a paper\n",
    "    df['time_weighted_score'] = df['score_sum'] / df['total_years_pub']\n",
    "    return df\n",
    "\n",
    "#df = get_data(file_name)\n",
    "#df1 = add_aggregate_cols(df)\n",
    "#df1"
   ]
  },
  {
   "cell_type": "code",
   "execution_count": null,
   "metadata": {
    "code_folding": [
     1
    ]
   },
   "outputs": [],
   "source": [
    "# Sort by most impactful by average score over time, return num_results, round values, rename a column\n",
    "def clean_for_viz(df, num_results=None):\n",
    "    if num_results == None:\n",
    "        num_results = 100\n",
    "    \n",
    "    df = df.sort_values(by=['time_weighted_score'], ascending=False).reset_index(drop=True)\n",
    "    df = df.head(num_results)\n",
    "    df = df.round(3)\n",
    "    #df = df.rename(columns={\"a.title\": \"title\"})\n",
    "    return df"
   ]
  },
  {
   "cell_type": "code",
   "execution_count": null,
   "metadata": {
    "code_folding": []
   },
   "outputs": [],
   "source": [
    "# Takes in data, finds most impactful papers, applies decay scores, writes these to csv\n",
    "def data_prep(file_name, num_results):\n",
    "    df = get_data(file_name)\n",
    "    df1 = add_aggregate_cols(df)\n",
    "    df2 = clean_for_viz(df1, num_results)\n",
    "    return df2"
   ]
  },
  {
   "cell_type": "code",
   "execution_count": null,
   "metadata": {
    "code_folding": []
   },
   "outputs": [],
   "source": [
    "# Take in undecayed scores and return a dataframe with the decayed scores\n",
    "def decay(df,decay_rate):\n",
    "    \n",
    "    #titles = df.index.values\n",
    "    #print(titles)\n",
    "    \n",
    "    # Reverse the order of the columns so we don't have to track NaNs and can multiply every row by same decay_vector\n",
    "    df1 = df[df.columns[::-1]]\n",
    "    #print(df1)\n",
    "    \n",
    "    # Get only floats so we can do operations on entire rows\n",
    "    #df2 = df1[df1[1:]]\n",
    "    #df1 = df1.select_dtypes(include=['float64'])\n",
    "    #df1 = df1[df1.select_dtypes(include=['float64'])]\n",
    "    \n",
    "    # Make decay vector, and reverse it, and make it a ndarray\n",
    "    time = np.arange(len(df1.columns)-3)\n",
    "    decay_list = [np.exp(-t / decay_rate) for t in time]\n",
    "    decay_list.reverse()\n",
    "    decay_array = np.asarray(decay_list)\n",
    "    print(type(decay_array[0]))\n",
    "    \n",
    "    a = df1.iloc[:, 3:]\n",
    "    #an = np.asarray(a)\n",
    "    #print(an)\n",
    "    print(type(a))\n",
    "   \n",
    "    #print(a)\n",
    "    \n",
    "    df2 = decay_array.T * np.asmatrix(a)\n",
    "    \n",
    "    # Put the columns back in their original order\n",
    "    df3 = df2[df2.columns[::-1]]\n",
    "    \n",
    "    return df3\n",
    "main(file_name, 400, 30)"
   ]
  },
  {
   "cell_type": "code",
   "execution_count": null,
   "metadata": {
    "code_folding": [
     0
    ]
   },
   "outputs": [],
   "source": [
    "def write_to_csv(df, filename=None, num_results=None, decay_rate=None):\n",
    "    if filename == None:\n",
    "        filename = file_name\n",
    "    if num_results == None:\n",
    "        num_results = 100\n",
    "    if decay_rate == None:\n",
    "        decay_rate = 25\n",
    "    \n",
    "    path_out = root + file_name[:-4] + '_' + str(num_results) + '_normalized_decayed_at_' + str(decay_rate) + '.csv'\n",
    "    \n",
    "    df1 = df.round(3)\n",
    "    df1.to_csv(path_out, index_label='title')"
   ]
  },
  {
   "cell_type": "code",
   "execution_count": null,
   "metadata": {
    "code_folding": [
     5,
     11,
     16,
     21,
     27
    ]
   },
   "outputs": [],
   "source": [
    "def main(file_name=None, num_results=None,  decay_rate=None):\n",
    "    if file_name == None:\n",
    "        file_name = filename\n",
    "    if num_results == None:\n",
    "        num_results = 100\n",
    "    if decay_rate == None:\n",
    "        decay_rate == 25\n",
    "    \"\"\"\n",
    "    Take a CSV file worth of data, get the top results, apply exponential decay,\n",
    "    and write the decayed scores back to CSV\n",
    "\n",
    "    The file should:\n",
    "        Be a CSV\n",
    "        Have a 1st column named 'title'\n",
    "        Have subsequent columns as single year values - i.e. 1900\n",
    "        \n",
    "    Run this 'main' script from the root scaling-science folder\n",
    "        \n",
    "\n",
    "    Parameters\n",
    "    ----------\n",
    "    file_name: string\n",
    "        The name of the CSV file\n",
    "    \n",
    "    num_results: int\n",
    "        The number of top results you would like to return\n",
    "   \n",
    "    decay_rate: int\n",
    "        The rate at which you would like scores to decay. \n",
    "        **Note - smaller decay_rate values make scores decay *quicker*\n",
    "\n",
    "\n",
    "    Returns\n",
    "    -------\n",
    "    CSV of floats with same column structure as that which was put in\n",
    "        Where each float represents the decayed impact value for that paper in that year\n",
    "\n",
    "    \"\"\"\n",
    "\n",
    "    #df = data_prep(file_name, num_results)\n",
    "    df = get_data(file_name)\n",
    "    df1 = add_aggregate_cols(df)\n",
    "    df2 = clean_for_viz(df1, num_results)\n",
    "    df_decay = decay(df, decay_rate)\n",
    "    df_norm = scale_linear_bycolumn(df_decay, high=100.0, low=0.0)\n",
    "    #df_norm = normalize(df_decay)\n",
    "    write_to_csv(df_norm, file_name, num_results, decay_rate)\n",
    "    print('Finished writing results')\n",
    "    return df_decay\n",
    "    #return df_norm"
   ]
  },
  {
   "cell_type": "code",
   "execution_count": null,
   "metadata": {
    "code_folding": []
   },
   "outputs": [],
   "source": [
    "#%%timeit\n"
   ]
  },
  {
   "cell_type": "code",
   "execution_count": null,
   "metadata": {
    "code_folding": [
     0
    ]
   },
   "outputs": [],
   "source": [
    "def write_iterated_to_csv(df, num_results=None, decay_rate=None):\n",
    "    if num_results == None:\n",
    "        num_results = 400\n",
    "    if decay_rate == None:\n",
    "        decay_rate = 25\n",
    "        \n",
    "    path_out = '/Users/timholdsworth/code/scaling-science/Data/' + file_name[:-4] + '_' + str(num_results) + '_results_decayed_at_' + str(decay_rate) + '.csv'\n",
    "    df1 = df.round(3)\n",
    "    df1.to_csv(path_out, index_label='title')\n",
    "    "
   ]
  },
  {
   "cell_type": "code",
   "execution_count": null,
   "metadata": {
    "code_folding": [
     1
    ]
   },
   "outputs": [],
   "source": [
    "# Iterate through decay values and write them all to one csv file\n",
    "def iterate_through_decay_vals():\n",
    "    col_name = str(year) + str(decay_value)\n",
    "    #for decay_rate in range(0, 100, 5):\n",
    "        #main(file_name, 100, 5, decay_rate)"
   ]
  }
 ],
 "metadata": {
  "anaconda-cloud": {},
  "kernelspec": {
   "display_name": "Python [conda root]",
   "language": "python",
   "name": "conda-root-py"
  },
  "language_info": {
   "codemirror_mode": {
    "name": "ipython",
    "version": 3
   },
   "file_extension": ".py",
   "mimetype": "text/x-python",
   "name": "python",
   "nbconvert_exporter": "python",
   "pygments_lexer": "ipython3",
   "version": "3.5.2"
  }
 },
 "nbformat": 4,
 "nbformat_minor": 2
}
