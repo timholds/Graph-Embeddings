{
 "cells": [
  {
   "cell_type": "markdown",
   "metadata": {},
   "source": [
    "# Graphistry Plots"
   ]
  },
  {
   "cell_type": "markdown",
   "metadata": {},
   "source": [
    "## Load packages and register"
   ]
  },
  {
   "cell_type": "code",
   "execution_count": 4,
   "metadata": {},
   "outputs": [
    {
     "name": "stdout",
     "output_type": "stream",
     "text": [
      "Requirement already satisfied: graphistry[bolt] in /opt/conda/lib/python3.6/site-packages (0.9.63)\n",
      "Requirement already satisfied: protobuf>=2.6.0 in /opt/conda/lib/python3.6/site-packages (from graphistry[bolt]) (3.6.1)\n",
      "Requirement already satisfied: future>=0.15.0 in /opt/conda/lib/python3.6/site-packages (from graphistry[bolt]) (0.17.1)\n",
      "Requirement already satisfied: numpy in /opt/conda/lib/python3.6/site-packages (from graphistry[bolt]) (1.13.3)\n",
      "Requirement already satisfied: pandas>=0.17.0 in /opt/conda/lib/python3.6/site-packages (from graphistry[bolt]) (0.23.4)\n",
      "Requirement already satisfied: requests in /opt/conda/lib/python3.6/site-packages (from graphistry[bolt]) (2.20.0)\n",
      "Requirement already satisfied: neotime; extra == \"bolt\" in /opt/conda/lib/python3.6/site-packages (from graphistry[bolt]) (1.7.4)\n",
      "Requirement already satisfied: neo4j; extra == \"bolt\" in /opt/conda/lib/python3.6/site-packages (from graphistry[bolt]) (1.7.1)\n",
      "Requirement already satisfied: six>=1.9 in /opt/conda/lib/python3.6/site-packages (from protobuf>=2.6.0->graphistry[bolt]) (1.11.0)\n",
      "Requirement already satisfied: setuptools in /opt/conda/lib/python3.6/site-packages (from protobuf>=2.6.0->graphistry[bolt]) (40.4.3)\n",
      "Requirement already satisfied: pytz>=2011k in /opt/conda/lib/python3.6/site-packages (from pandas>=0.17.0->graphistry[bolt]) (2018.6)\n",
      "Requirement already satisfied: python-dateutil>=2.5.0 in /opt/conda/lib/python3.6/site-packages (from pandas>=0.17.0->graphistry[bolt]) (2.7.4)\n",
      "Requirement already satisfied: urllib3<1.25,>=1.21.1 in /opt/conda/lib/python3.6/site-packages (from requests->graphistry[bolt]) (1.23)\n",
      "Requirement already satisfied: certifi>=2017.4.17 in /opt/conda/lib/python3.6/site-packages (from requests->graphistry[bolt]) (2018.10.15)\n",
      "Requirement already satisfied: idna<2.8,>=2.5 in /opt/conda/lib/python3.6/site-packages (from requests->graphistry[bolt]) (2.7)\n",
      "Requirement already satisfied: chardet<3.1.0,>=3.0.2 in /opt/conda/lib/python3.6/site-packages (from requests->graphistry[bolt]) (3.0.4)\n",
      "Requirement already satisfied: neobolt<2,>=1.7.3 in /opt/conda/lib/python3.6/site-packages (from neo4j; extra == \"bolt\"->graphistry[bolt]) (1.7.4)\n"
     ]
    },
    {
     "data": {
      "text/plain": [
       "'0.9.63'"
      ]
     },
     "execution_count": 4,
     "metadata": {},
     "output_type": "execute_result"
    }
   ],
   "source": [
    "!pip install graphistry[bolt]\n",
    "import pandas as pd\n",
    "import graphistry\n",
    "import time\n",
    "\n",
    "NEO4J = {\n",
    "    'uri': \"bolt://matlaber10.media.mit.edu:7687\", \n",
    "    'auth': (\"neo4j\", \"myneo\")\n",
    "}\n",
    "\n",
    "graphistry.register(key='3bd0ff5a5304a3ee27de2ca78ac7b67bbc48dc67409c255c0f70250955cf967c')\n",
    "graphistry.register(bolt=NEO4J)\n",
    "graphistry.__version__"
   ]
  },
  {
   "cell_type": "markdown",
   "metadata": {},
   "source": [
    "# Journal Coauthorship Communities"
   ]
  },
  {
   "cell_type": "code",
   "execution_count": 5,
   "metadata": {},
   "outputs": [],
   "source": [
    "top_5 = ['Cell', 'Nature', 'Nature Biotechnology',\n",
    "            'Proceedings of the National Academy of Sciences of the United States of America',\n",
    "            'Science']\n",
    " \n",
    "top_10 = ['Cell', 'Nature', 'Nature Biotechnology',\n",
    "           'Proceedings of the National Academy of Sciences of the United States of America',\n",
    "           'Science', 'Journal of the American Chemical Society', 'JAMA', \n",
    "           'The New England Journal of Medicine', 'Nature Genetics', 'Neuron']\n",
    " \n",
    "top_42 = ['Angewandte Chemie','Blood','Cancer Cell','Cancer Discovery','Cancer Research',\n",
    "          'Cell','Cell Host & Microbe','Cell Metabolism','Cell Stem Cell','Chemistry & Biology',\n",
    "          'The EMBO Journal','Genes & Development','Immunity','Journal of Neurology',\n",
    "          'Journal of the American Chemical Society','JAMA','Journal of Biological Chemistry',\n",
    "          'Journal of Cell Biology','Journal of Clinical Investigation','Journal of Experimental Medicine',\n",
    "          'Journal of Medicinal Chemistry','The Lancet','Nature Cell Biology','Nature Chemical Biology',\n",
    "          'Nature Chemistry','Nature Medicine','Nature Methods','Nature','Nature Biotechnology',\n",
    "          'The New England Journal of Medicine','Neuron','Nature Genetics','Nature Immunology',\n",
    "          'Nature Neuroscience','Nature Structural & Molecular Biology','PLOS Biology','PLOS Genetics',\n",
    "          'PLOS Pathogens','Proceedings of the National Academy of Sciences of the United States of America',\n",
    "          'Science Signaling','Science Translational Medicine','Science']"
   ]
  },
  {
   "cell_type": "code",
   "execution_count": 8,
   "metadata": {
    "scrolled": false
   },
   "outputs": [
    {
     "data": {
      "text/html": [
       "\n",
       "            <iframe id=\"8d636a17-88b9-43e6-85c7-d0c7d274ec9e\" src=\"https://labs.graphistry.com/graph/graph.html?dataset=PyGraphistry/BWXAUYWFJ6&type=vgraph&viztoken=a9a69a6f862e04fc2bb404a9e56ff8f8124495d1&usertag=7a491ae6-pygraphistry-0.9.63&splashAfter=1551200261&info=true\"\n",
       "                    allowfullscreen=\"true\" webkitallowfullscreen=\"true\" mozallowfullscreen=\"true\"\n",
       "                    oallowfullscreen=\"true\" msallowfullscreen=\"true\"\n",
       "                    style=\"width:100%; height:500px; border: 1px solid #DDD\">\n",
       "            </iframe>\n",
       "        \n",
       "            <script>\n",
       "                $(\"#8d636a17-88b9-43e6-85c7-d0c7d274ec9e\").bind('mousewheel', function(e) {\n",
       "                e.preventDefault();\n",
       "                });\n",
       "            </script>\n",
       "        "
      ],
      "text/plain": [
       "<IPython.core.display.HTML object>"
      ]
     },
     "execution_count": 8,
     "metadata": {},
     "output_type": "execute_result"
    }
   ],
   "source": [
    "venues = top_10\n",
    "min_pubs = 10\n",
    "min_cowritten = 5\n",
    "\n",
    "g = graphistry.cypher(\"\"\"\n",
    "MATCH (a:Author)-[r:AUTHORED]->(q:Quanta)\n",
    "WHERE q.venue in {}\n",
    "WITH a, count(q) as num_publications\n",
    "WHERE num_publications > {}\n",
    "WITH apoc.coll.toSet(COLLECT(a)) AS author_list\n",
    "MATCH p=(m:Author)-[c:COAUTHOR]->(n:Author)\n",
    "WHERE (m IN author_list) AND (n IN author_list) AND (m.name>n.name) AND (c.strength42 > {})\n",
    "RETURN p\"\"\".format(venues, min_pubs, min_cowritten), {})\n",
    "\n",
    "g = g.bind(edge_weight='strength42', point_label='name', edge_color='strength42') \n",
    "g.plot()"
   ]
  },
  {
   "cell_type": "markdown",
   "metadata": {},
   "source": [
    "### Visualizations of individual researcher networks"
   ]
  },
  {
   "cell_type": "code",
   "execution_count": null,
   "metadata": {},
   "outputs": [],
   "source": [
    "g = graphistry.cypher(\"\"\"\n",
    "MATCH p=(a:Author)-[:COAUTHOR]-(:Author)-[:COAUTHOR]-(:Author)\n",
    "WHERE a.name = \"Joseph M. Jacobson\"\n",
    "RETURN p\n",
    "  \"\"\", \n",
    "  {})\n",
    "g = g.bind(edge_weight='strength', point_label='name') \n",
    "g.plot()"
   ]
  }
 ],
 "metadata": {
  "kernelspec": {
   "display_name": "Python 3",
   "language": "python",
   "name": "python3"
  },
  "language_info": {
   "codemirror_mode": {
    "name": "ipython",
    "version": 3
   },
   "file_extension": ".py",
   "mimetype": "text/x-python",
   "name": "python",
   "nbconvert_exporter": "python",
   "pygments_lexer": "ipython3",
   "version": "3.6.6"
  }
 },
 "nbformat": 4,
 "nbformat_minor": 2
}
