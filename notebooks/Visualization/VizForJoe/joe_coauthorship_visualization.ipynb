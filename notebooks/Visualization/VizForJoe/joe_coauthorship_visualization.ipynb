{
 "cells": [
  {
   "cell_type": "markdown",
   "metadata": {},
   "source": [
    "# Graphistry Plots"
   ]
  },
  {
   "cell_type": "markdown",
   "metadata": {},
   "source": [
    "## Load packages and register"
   ]
  },
  {
   "cell_type": "code",
   "execution_count": null,
   "metadata": {},
   "outputs": [],
   "source": [
    "!pip install graphistry[bolt]\n",
    "import pandas as pd\n",
    "import graphistry\n",
    "import time\n",
    "\n",
    "NEO4J = {\n",
    "    'uri': \"bolt://matlaber10.media.mit.edu:7687\", \n",
    "    'auth': (\"neo4j\", \"myneo\")\n",
    "}\n",
    "\n",
    "graphistry.register(key='3bd0ff5a5304a3ee27de2ca78ac7b67bbc48dc67409c255c0f70250955cf967c')\n",
    "graphistry.register(bolt=NEO4J)\n",
    "graphistry.__version__"
   ]
  },
  {
   "cell_type": "markdown",
   "metadata": {},
   "source": [
    "# Journal Coauthorship Communities"
   ]
  },
  {
   "cell_type": "code",
   "execution_count": null,
   "metadata": {},
   "outputs": [],
   "source": [
    "top_5 = ['Cell', 'Nature', 'Nature Biotechnology',\n",
    "            'Proceedings of the National Academy of Sciences of the United States of America',\n",
    "            'Science']\n",
    " \n",
    "top_10 = ['Cell', 'Nature', 'Nature Biotechnology',\n",
    "           'Proceedings of the National Academy of Sciences of the United States of America',\n",
    "           'Science', 'Journal of the American Chemical Society', 'JAMA', \n",
    "           'The New England Journal of Medicine', 'Nature Genetics', 'Neuron']\n",
    " \n",
    "top_42 = ['Angewandte Chemie','Blood','Cancer Cell','Cancer Discovery','Cancer Research',\n",
    "          'Cell','Cell Host & Microbe','Cell Metabolism','Cell Stem Cell','Chemistry & Biology',\n",
    "          'The EMBO Journal','Genes & Development','Immunity','Journal of Neurology',\n",
    "          'Journal of the American Chemical Society','JAMA','Journal of Biological Chemistry',\n",
    "          'Journal of Cell Biology','Journal of Clinical Investigation','Journal of Experimental Medicine',\n",
    "          'Journal of Medicinal Chemistry','The Lancet','Nature Cell Biology','Nature Chemical Biology',\n",
    "          'Nature Chemistry','Nature Medicine','Nature Methods','Nature','Nature Biotechnology',\n",
    "          'The New England Journal of Medicine','Neuron','Nature Genetics','Nature Immunology',\n",
    "          'Nature Neuroscience','Nature Structural & Molecular Biology','PLOS Biology','PLOS Genetics',\n",
    "          'PLOS Pathogens','Proceedings of the National Academy of Sciences of the United States of America',\n",
    "          'Science Signaling','Science Translational Medicine','Science']"
   ]
  },
  {
   "cell_type": "code",
   "execution_count": null,
   "metadata": {},
   "outputs": [],
   "source": [
    "venues = top_10\n",
    "min_pubs = 10\n",
    "min_cowritten = 5\n",
    "\n",
    "g = graphistry.cypher(\"\"\"\n",
    "MATCH (a:Author)-[r:AUTHORED]->(q:Quanta)\n",
    "WHERE q.venue in {}\n",
    "WITH a, count(q) as num_publications\n",
    "WHERE num_publications > {}\n",
    "WITH apoc.coll.toSet(COLLECT(a)) AS author_list\n",
    "MATCH p=(m:Author)-[c:COAUTHOR]->(n:Author)\n",
    "WHERE (m IN author_list) AND (n IN author_list) AND (m.name>n.name) AND (c.strength42 > {})\n",
    "RETURN p\"\"\".format(venues, min_pubs, min_cowritten), {})\n",
    "\n",
    "g = g.bind(edge_weight='strength42', point_label='name', edge_color='strength42') \n",
    "g.plot()"
   ]
  },
  {
   "cell_type": "markdown",
   "metadata": {},
   "source": [
    "### Visualizations of individual researcher networks"
   ]
  },
  {
   "cell_type": "code",
   "execution_count": null,
   "metadata": {},
   "outputs": [],
   "source": [
    "g = graphistry.cypher(\"\"\"\n",
    "MATCH p=(a:Author)-[:COAUTHOR]-(:Author)-[:COAUTHOR]-(:Author)\n",
    "WHERE a.name = \"Joseph M. Jacobson\"\n",
    "RETURN p\n",
    "  \"\"\", \n",
    "  {})\n",
    "g = g.bind(edge_weight='strength', point_label='name') \n",
    "g.plot()"
   ]
  }
 ],
 "metadata": {
  "kernelspec": {
   "display_name": "Python 3",
   "language": "python",
   "name": "python3"
  },
  "language_info": {
   "codemirror_mode": {
    "name": "ipython",
    "version": 3
   },
   "file_extension": ".py",
   "mimetype": "text/x-python",
   "name": "python",
   "nbconvert_exporter": "python",
   "pygments_lexer": "ipython3",
   "version": "3.6.6"
  }
 },
 "nbformat": 4,
 "nbformat_minor": 2
}
