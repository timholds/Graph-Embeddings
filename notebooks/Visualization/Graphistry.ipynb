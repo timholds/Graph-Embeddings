{
 "cells": [
  {
   "cell_type": "markdown",
   "metadata": {},
   "source": [
    "# Graphistry Plots"
   ]
  },
  {
   "cell_type": "code",
   "execution_count": null,
   "metadata": {},
   "outputs": [],
   "source": [
    "NEO4J = {\n",
    "    'uri': \"bolt://neo4j-quanta:7687\", \n",
    "    'auth': (\"neo4j\", \"myneo\")\n",
    "}\n",
    "\n",
    "import pandas as pd\n",
    "import graphistry\n",
    "import time\n",
    "\n",
    "graphistry.register(key='3bd0ff5a5304a3ee27de2ca78ac7b67bbc48dc67409c255c0f70250955cf967c')\n",
    "graphistry.register(bolt=NEO4J)\n",
    "graphistry.__version__"
   ]
  },
  {
   "cell_type": "markdown",
   "metadata": {},
   "source": [
    "## Venue: Nature Biotechnology\n",
    "\n",
    "* Number of papers: 13120\n",
    "\n",
    "MATCH (a:Author)-[:AUTHORED]->(q:Quanta)<-[:AUTHORED]-(b:Author)\n",
    "WHERE q.venue=\"Nature Biotechnology\"\n",
    "MATCH p=(a)-[:COAUTHOR]->(b)\n",
    "WHERE a.name > b.name\n",
    "RETURN COUNT(p)\n",
    "//38337\n"
   ]
  },
  {
   "cell_type": "markdown",
   "metadata": {},
   "source": [
    "Plot of all Nature Biotechnology relations:"
   ]
  },
  {
   "cell_type": "code",
   "execution_count": null,
   "metadata": {},
   "outputs": [],
   "source": [
    "g = graphistry.cypher(\"\"\"\n",
    "MATCH (a:Author)-[:AUTHORED]->(q:Quanta)<-[:AUTHORED]-(b:Author)\n",
    "WHERE q.venue=\"Nature Biotechnology\"\n",
    "MATCH p=(a)-[:COAUTHOR]->(b)\n",
    "WHERE a.name > b.name\n",
    "RETURN p\n",
    "  \"\"\", \n",
    "  {})\n",
    "\n",
    "g.plot()"
   ]
  },
  {
   "cell_type": "markdown",
   "metadata": {},
   "source": [
    "## PLOS ONE\n",
    "* Number of papers: 176394"
   ]
  },
  {
   "cell_type": "code",
   "execution_count": null,
   "metadata": {},
   "outputs": [],
   "source": [
    "g = graphistry.cypher(\"\"\"\n",
    "MATCH (a:Author)-[:AUTHORED]->(q:Quanta)<-[:AUTHORED]-(b:Author)\n",
    "WHERE q.venue=\"PLOS ONE\"\n",
    "MATCH p=(a)-[r:COAUTHOR]->(b)\n",
    "WHERE a.name > b.name and r.strength>2\n",
    "RETURN p\n",
    "  \"\"\", \n",
    "  {})\n",
    "g.plot()"
   ]
  },
  {
   "cell_type": "markdown",
   "metadata": {},
   "source": [
    "## Nature\n",
    "* Number of papers: 252627"
   ]
  },
  {
   "cell_type": "markdown",
   "metadata": {},
   "source": [
    "g = graphistry.cypher(\"\"\"\n",
    "MATCH (a:Author)-[:AUTHORED]->(q:Quanta)<-[:AUTHORED]-(b:Author)\n",
    "WHERE q.venue=\"Nature\"\n",
    "MATCH p=(a)-[r:COAUTHOR]->(b)\n",
    "WHERE a.name > b.name and r.strength>17\n",
    "RETURN p\n",
    "  \"\"\", \n",
    "  {})\n",
    "g.plot()\n",
    "\n",
    "#This one has too many vertices and edges to be visualized\n",
    "#|nodes| + |edges| = 1265176"
   ]
  },
  {
   "cell_type": "code",
   "execution_count": null,
   "metadata": {},
   "outputs": [],
   "source": [
    "g = graphistry.cypher(\"\"\"\n",
    "MATCH (a:Author)-[r:AUTHORED]->(q:Quanta)\n",
    "WHERE q.venue=\"Nature\" and q.fos IS NOT NULL\n",
    "WITH a, count(q) as num_publications\n",
    "WHERE num_publications > 5\n",
    "WITH apoc.coll.toSet(COLLECT(a)) AS nature_authors\n",
    "\n",
    "MATCH p=(m:Author)-[c:COAUTHOR]->(n:Author)\n",
    "WHERE \n",
    "    m IN nature_authors AND n IN nature_authors \n",
    "    AND m.name>n.name\n",
    "    AND c.strength > 5\n",
    "RETURN p\n",
    "  \"\"\", \n",
    "  {})\n",
    "g.plot()"
   ]
  },
  {
   "cell_type": "code",
   "execution_count": null,
   "metadata": {},
   "outputs": [],
   "source": []
  }
 ],
 "metadata": {
  "kernelspec": {
   "display_name": "Python 3",
   "language": "python",
   "name": "python3"
  },
  "language_info": {
   "codemirror_mode": {
    "name": "ipython",
    "version": 3
   },
   "file_extension": ".py",
   "mimetype": "text/x-python",
   "name": "python",
   "nbconvert_exporter": "python",
   "pygments_lexer": "ipython3",
   "version": "3.6.7"
  }
 },
 "nbformat": 4,
 "nbformat_minor": 2
}
