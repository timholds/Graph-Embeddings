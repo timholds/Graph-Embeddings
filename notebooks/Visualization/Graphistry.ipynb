{
 "cells": [
  {
   "cell_type": "markdown",
   "metadata": {},
   "source": [
    "# Graphistry Plots"
   ]
  },
  {
   "cell_type": "code",
<<<<<<< HEAD
   "execution_count": 11,
   "metadata": {},
   "outputs": [
    {
     "data": {
      "text/plain": [
       "'0.9.62'"
      ]
     },
     "execution_count": 11,
     "metadata": {},
     "output_type": "execute_result"
    }
   ],
=======
   "execution_count": null,
   "metadata": {},
   "outputs": [],
>>>>>>> 3efbce5da55d99986e164554c720adbe198cab0a
   "source": [
    "NEO4J = {\n",
    "    'uri': \"bolt://matlaber10.media.mit.edu:7687\", \n",
    "    'auth': (\"neo4j\", \"myneo\")\n",
    "}\n",
    "\n",
    "#!pip install pandas\n",
    "#!pip install graphistry[bolt]\n",
    "\n",
    "import pandas as pd\n",
    "import graphistry\n",
    "import time\n",
    "\n",
    "graphistry.register(key='3bd0ff5a5304a3ee27de2ca78ac7b67bbc48dc67409c255c0f70250955cf967c')\n",
    "graphistry.register(bolt=NEO4J)\n",
    "graphistry.__version__"
   ]
  },
  {
   "cell_type": "markdown",
   "metadata": {},
   "source": [
    "## Venue: Nature Biotechnology\n",
    "\n",
    "* Number of papers: 13120\n",
    "\n",
    "MATCH (a:Author)-[:AUTHORED]->(q:Quanta)<-[:AUTHORED]-(b:Author)\n",
    "WHERE q.venue=\"Nature Biotechnology\"\n",
    "MATCH p=(a)-[:COAUTHOR]->(b)\n",
    "WHERE a.name > b.name\n",
    "RETURN COUNT(p)\n",
    "//38337\n"
   ]
  },
  {
   "cell_type": "markdown",
   "metadata": {},
   "source": [
    "Plot of all Nature Biotechnology relations:"
   ]
  },
  {
   "cell_type": "code",
<<<<<<< HEAD
   "execution_count": 14,
   "metadata": {},
   "outputs": [
    {
     "data": {
      "text/html": [
       "\n",
       "            <iframe id=\"78f69c4b-163a-445c-b23a-7b5fce5885d2\" src=\"https://labs.graphistry.com/graph/graph.html?dataset=PyGraphistry/HJG40L8KPO&type=vgraph&viztoken=22fdca2ac3ee26efec75cb90b65adedb28e6d472&usertag=5bf392ba-pygraphistry-0.9.62&splashAfter=1548436237&info=true\"\n",
       "                    allowfullscreen=\"true\" webkitallowfullscreen=\"true\" mozallowfullscreen=\"true\"\n",
       "                    oallowfullscreen=\"true\" msallowfullscreen=\"true\"\n",
       "                    style=\"width:100%; height:500px; border: 1px solid #DDD\">\n",
       "            </iframe>\n",
       "        \n",
       "            <script>\n",
       "                $(\"#78f69c4b-163a-445c-b23a-7b5fce5885d2\").bind('mousewheel', function(e) {\n",
       "                e.preventDefault();\n",
       "                });\n",
       "            </script>\n",
       "        "
      ],
      "text/plain": [
       "<IPython.core.display.HTML object>"
      ]
     },
     "execution_count": 14,
     "metadata": {},
     "output_type": "execute_result"
    }
   ],
=======
   "execution_count": null,
   "metadata": {},
   "outputs": [],
>>>>>>> 3efbce5da55d99986e164554c720adbe198cab0a
   "source": [
    "g = graphistry.cypher(\"\"\"\n",
    "MATCH (a:Author)-[:AUTHORED]->(q:Quanta)<-[:AUTHORED]-(b:Author)\n",
    "WHERE q.venue=\"Nature Biotechnology\"\n",
    "MATCH p=(a)-[:COAUTHOR]->(b)\n",
    "WHERE a.name > b.name\n",
    "RETURN p\n",
    "  \"\"\", \n",
    "  {})\n",
    "\n",
    "g.plot()"
   ]
  },
  {
   "cell_type": "markdown",
   "metadata": {},
   "source": [
    "## PLOS ONE\n",
    "* Number of papers: 176394"
   ]
  },
  {
   "cell_type": "code",
   "execution_count": null,
   "metadata": {},
   "outputs": [],
   "source": [
    "g = graphistry.cypher(\"\"\"\n",
    "MATCH (a:Author)-[:AUTHORED]->(q:Quanta)<-[:AUTHORED]-(b:Author)\n",
    "WHERE q.venue=\"PLOS ONE\"\n",
    "MATCH p=(a)-[r:COAUTHOR]->(b)\n",
    "WHERE a.name > b.name and r.strength>2\n",
    "RETURN p\n",
    "  \"\"\", \n",
    "  {})\n",
    "g.plot()"
   ]
  },
  {
   "cell_type": "markdown",
   "metadata": {},
   "source": [
    "## Nature\n",
    "* Number of papers: 252627"
   ]
  },
  {
   "cell_type": "markdown",
   "metadata": {},
   "source": [
    "g = graphistry.cypher(\"\"\"\n",
    "MATCH (a:Author)-[:AUTHORED]->(q:Quanta)<-[:AUTHORED]-(b:Author)\n",
    "WHERE q.venue=\"Nature\"\n",
    "MATCH p=(a)-[r:COAUTHOR]->(b)\n",
    "WHERE a.name > b.name and r.strength>17\n",
    "RETURN p\n",
    "  \"\"\", \n",
    "  {})\n",
    "g.plot()\n",
    "\n",
    "#This one has too many vertices and edges to be visualized\n",
    "#|nodes| + |edges| = 1265176"
   ]
  },
  {
   "cell_type": "code",
   "execution_count": 19,
   "metadata": {},
<<<<<<< HEAD
   "outputs": [
    {
     "data": {
      "text/html": [
       "\n",
       "            <iframe id=\"f4814804-ab06-40ca-99eb-5287b2ed3b10\" src=\"https://labs.graphistry.com/graph/graph.html?dataset=PyGraphistry/HQOOJ7JZBV&type=vgraph&viztoken=cfd9876e48411cdc7bf3d6c853614848f6ff2ca8&usertag=5bf392ba-pygraphistry-0.9.62&splashAfter=1548450054&info=true\"\n",
       "                    allowfullscreen=\"true\" webkitallowfullscreen=\"true\" mozallowfullscreen=\"true\"\n",
       "                    oallowfullscreen=\"true\" msallowfullscreen=\"true\"\n",
       "                    style=\"width:100%; height:500px; border: 1px solid #DDD\">\n",
       "            </iframe>\n",
       "        \n",
       "            <script>\n",
       "                $(\"#f4814804-ab06-40ca-99eb-5287b2ed3b10\").bind('mousewheel', function(e) {\n",
       "                e.preventDefault();\n",
       "                });\n",
       "            </script>\n",
       "        "
      ],
      "text/plain": [
       "<IPython.core.display.HTML object>"
      ]
     },
     "execution_count": 19,
     "metadata": {},
     "output_type": "execute_result"
    }
   ],
=======
   "outputs": [],
>>>>>>> 3efbce5da55d99986e164554c720adbe198cab0a
   "source": [
    "g = graphistry.cypher(\"\"\"\n",
    "MATCH (a:Author)-[r:AUTHORED]->(q:Quanta)\n",
    "WHERE q.venue=\"Nature\" and q.fos IS NOT NULL\n",
    "WITH a, count(q) as num_publications\n",
    "WHERE num_publications > 2\n",
    "WITH apoc.coll.toSet(COLLECT(a)) AS nature_authors\n",
    "\n",
    "MATCH p=(m:Author)-[:COAUTHOR]->(n:Author)\n",
    "WHERE m in nature_authors and n in nature_authors and m.name>n.name\n",
    "RETURN p\n",
    "  \"\"\", \n",
    "  {})\n",
    "g.plot()"
   ]
  },
  {
   "cell_type": "code",
   "execution_count": null,
   "metadata": {},
   "outputs": [],
   "source": []
  }
 ],
 "metadata": {
  "kernelspec": {
   "display_name": "Python 3",
   "language": "python",
   "name": "python3"
  },
  "language_info": {
   "codemirror_mode": {
    "name": "ipython",
    "version": 3
   },
   "file_extension": ".py",
   "mimetype": "text/x-python",
   "name": "python",
   "nbconvert_exporter": "python",
   "pygments_lexer": "ipython3",
   "version": "3.6.1"
  }
 },
 "nbformat": 4,
 "nbformat_minor": 2
}
