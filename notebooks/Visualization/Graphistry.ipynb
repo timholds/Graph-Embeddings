{
 "cells": [
  {
   "cell_type": "markdown",
   "metadata": {},
   "source": [
    "# Graphsitry Plots"
   ]
  },
  {
   "cell_type": "code",
   "execution_count": 2,
   "metadata": {},
   "outputs": [
    {
     "data": {
      "text/plain": [
       "'0.9.62'"
      ]
     },
     "execution_count": 2,
     "metadata": {},
     "output_type": "execute_result"
    }
   ],
   "source": [
    "NEO4J = {\n",
    "    'uri': \"bolt://matlaber10.media.mit.edu:7687\", \n",
    "    'auth': (\"neo4j\", \"myneo\")\n",
    "}\n",
    "\n",
    "#!pip install pandas\n",
    "#!pip install graphistry[bolt]\n",
    "\n",
    "import pandas as pd\n",
    "import graphistry\n",
    "import time\n",
    "\n",
    "graphistry.register(key='3bd0ff5a5304a3ee27de2ca78ac7b67bbc48dc67409c255c0f70250955cf967c')\n",
    "graphistry.register(bolt=NEO4J)\n",
    "graphistry.__version__"
   ]
  },
  {
   "cell_type": "markdown",
   "metadata": {},
   "source": [
    "## Venue: Nature Biotechnology\n",
    "\n",
    "* Number of papers: 13120\n",
    "\n",
    "MATCH (a:Author)-[:AUTHORED]->(q:Quanta)<-[:AUTHORED]-(b:Author)\n",
    "WHERE q.venue=\"Nature Biotechnology\"\n",
    "MATCH p=(a)-[:COAUTHOR]->(b)\n",
    "WHERE a.name > b.name\n",
    "RETURN COUNT(p)\n",
    "//38337\n"
   ]
  },
  {
   "cell_type": "markdown",
   "metadata": {},
   "source": [
    "Plot of all Nature Biotechnology relations:"
   ]
  },
  {
   "cell_type": "code",
   "execution_count": 10,
   "metadata": {},
   "outputs": [
    {
     "data": {
      "text/html": [
       "\n",
       "            <iframe id=\"a72e95f3-cd1c-4c2e-83e8-db192b10795b\" src=\"https://labs.graphistry.com/graph/graph.html?dataset=PyGraphistry/L3PIMYSV57&type=vgraph&viztoken=e956107c8890d4e98d5633d3d32f2bd4bc495f55&usertag=4312859a-pygraphistry-0.9.62&splashAfter=1548354195&info=true\"\n",
       "                    allowfullscreen=\"true\" webkitallowfullscreen=\"true\" mozallowfullscreen=\"true\"\n",
       "                    oallowfullscreen=\"true\" msallowfullscreen=\"true\"\n",
       "                    style=\"width:100%; height:500px; border: 1px solid #DDD\">\n",
       "            </iframe>\n",
       "        \n",
       "            <script>\n",
       "                $(\"#a72e95f3-cd1c-4c2e-83e8-db192b10795b\").bind('mousewheel', function(e) {\n",
       "                e.preventDefault();\n",
       "                });\n",
       "            </script>\n",
       "        "
      ],
      "text/plain": [
       "<IPython.core.display.HTML object>"
      ]
     },
     "execution_count": 10,
     "metadata": {},
     "output_type": "execute_result"
    }
   ],
   "source": [
    "g = graphistry.cypher(\"\"\"\n",
    "MATCH (a:Author)-[:AUTHORED]->(q:Quanta)<-[:AUTHORED]-(b:Author)\n",
    "WHERE q.venue=\"Nature Biotechnology\"\n",
    "MATCH p=(a)-[:COAUTHOR]->(b)\n",
    "WHERE a.name > b.name\n",
    "RETURN p\n",
    "  \"\"\", \n",
    "  {})\n",
    "\n",
    "g.plot()"
   ]
  },
  {
   "cell_type": "markdown",
   "metadata": {},
   "source": [
    "## PLOS ONE\n"
   ]
  },
  {
   "cell_type": "code",
   "execution_count": 5,
   "metadata": {},
   "outputs": [
    {
     "data": {
      "text/html": [
       "\n",
       "            <iframe id=\"02b602f8-dda3-4962-bd86-88ea87ddb207\" src=\"https://labs.graphistry.com/graph/graph.html?dataset=PyGraphistry/XW0UO69QKU&type=vgraph&viztoken=f8e15db25540b21b023f85703fba5a8fb5bad436&usertag=5bf392ba-pygraphistry-0.9.62&splashAfter=1548356947&info=true\"\n",
       "                    allowfullscreen=\"true\" webkitallowfullscreen=\"true\" mozallowfullscreen=\"true\"\n",
       "                    oallowfullscreen=\"true\" msallowfullscreen=\"true\"\n",
       "                    style=\"width:100%; height:500px; border: 1px solid #DDD\">\n",
       "            </iframe>\n",
       "        \n",
       "            <script>\n",
       "                $(\"#02b602f8-dda3-4962-bd86-88ea87ddb207\").bind('mousewheel', function(e) {\n",
       "                e.preventDefault();\n",
       "                });\n",
       "            </script>\n",
       "        "
      ],
      "text/plain": [
       "<IPython.core.display.HTML object>"
      ]
     },
     "execution_count": 5,
     "metadata": {},
     "output_type": "execute_result"
    }
   ],
   "source": [
    "g = graphistry.cypher(\"\"\"\n",
    "MATCH (a:Author)-[:AUTHORED]->(q:Quanta)<-[:AUTHORED]-(b:Author)\n",
    "WHERE q.venue=\"PLOS ONE\"\n",
    "MATCH p=(a)-[r:COAUTHOR]->(b)\n",
    "WHERE a.name > b.name and r.strength>2\n",
    "RETURN p\n",
    "  \"\"\", \n",
    "  {})\n",
    "g.plot()"
   ]
  },
  {
   "cell_type": "markdown",
   "metadata": {},
   "source": [
    "## Nature"
   ]
  },
  {
   "cell_type": "code",
   "execution_count": null,
   "metadata": {},
   "outputs": [
    {
     "name": "stderr",
     "output_type": "stream",
     "text": [
      "WARNING:  Large graph: |nodes| + |edges| = 1265176. Layout/rendering might be slow.\n"
     ]
    }
   ],
   "source": [
    "g = graphistry.cypher(\"\"\"\n",
    "MATCH (a:Author)-[:AUTHORED]->(q:Quanta)<-[:AUTHORED]-(b:Author)\n",
    "WHERE q.venue=\"Nature\"\n",
    "MATCH p=(a)-[r:COAUTHOR]->(b)\n",
    "WHERE a.name > b.name and r.strength>12\n",
    "RETURN p\n",
    "  \"\"\", \n",
    "  {})\n",
    "g.plot()"
   ]
  },
  {
   "cell_type": "code",
   "execution_count": null,
   "metadata": {
    "collapsed": true
   },
   "outputs": [],
   "source": []
  }
 ],
 "metadata": {
  "kernelspec": {
   "display_name": "Python 3",
   "language": "python",
   "name": "python3"
  },
  "language_info": {
   "codemirror_mode": {
    "name": "ipython",
    "version": 3
   },
   "file_extension": ".py",
   "mimetype": "text/x-python",
   "name": "python",
   "nbconvert_exporter": "python",
   "pygments_lexer": "ipython3",
   "version": "3.6.1"
  }
 },
 "nbformat": 4,
 "nbformat_minor": 2
}
