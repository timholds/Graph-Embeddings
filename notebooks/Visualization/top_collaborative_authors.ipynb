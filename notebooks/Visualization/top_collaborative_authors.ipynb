{
 "cells": [
  {
   "cell_type": "code",
   "execution_count": 5,
   "metadata": {},
   "outputs": [
    {
     "name": "stdout",
     "output_type": "stream",
     "text": [
      "Requirement already satisfied: xlrd in /usr/local/lib/python3.7/site-packages (1.2.0)\r\n"
     ]
    },
    {
     "data": {
      "text/html": [
       "<div>\n",
       "<style scoped>\n",
       "    .dataframe tbody tr th:only-of-type {\n",
       "        vertical-align: middle;\n",
       "    }\n",
       "\n",
       "    .dataframe tbody tr th {\n",
       "        vertical-align: top;\n",
       "    }\n",
       "\n",
       "    .dataframe thead th {\n",
       "        text-align: right;\n",
       "    }\n",
       "</style>\n",
       "<table border=\"1\" class=\"dataframe\">\n",
       "  <thead>\n",
       "    <tr style=\"text-align: right;\">\n",
       "      <th></th>\n",
       "      <th>name</th>\n",
       "      <th>field1</th>\n",
       "      <th>field2</th>\n",
       "      <th>field3</th>\n",
       "      <th>field4</th>\n",
       "      <th>field5</th>\n",
       "      <th>collaboration</th>\n",
       "    </tr>\n",
       "  </thead>\n",
       "  <tbody>\n",
       "    <tr>\n",
       "      <th>0</th>\n",
       "      <td>Hagop Kantarjian</td>\n",
       "      <td>Medicine</td>\n",
       "      <td>Immunology</td>\n",
       "      <td>Surgery</td>\n",
       "      <td>Pathology</td>\n",
       "      <td>Biology</td>\n",
       "      <td>886.398632</td>\n",
       "    </tr>\n",
       "    <tr>\n",
       "      <th>1</th>\n",
       "      <td>Shizuo Akira</td>\n",
       "      <td>Biology</td>\n",
       "      <td>Immunology</td>\n",
       "      <td>Genetics</td>\n",
       "      <td>Virology</td>\n",
       "      <td>Molecular biology</td>\n",
       "      <td>841.319270</td>\n",
       "    </tr>\n",
       "    <tr>\n",
       "      <th>2</th>\n",
       "      <td>Kenneth C. Anderson</td>\n",
       "      <td>Immunology</td>\n",
       "      <td>Biology</td>\n",
       "      <td>Medicine</td>\n",
       "      <td>Pathology</td>\n",
       "      <td>Genetics</td>\n",
       "      <td>809.261427</td>\n",
       "    </tr>\n",
       "    <tr>\n",
       "      <th>3</th>\n",
       "      <td>Richard A. Flavell</td>\n",
       "      <td>Biology</td>\n",
       "      <td>Immunology</td>\n",
       "      <td>Genetics</td>\n",
       "      <td>Virology</td>\n",
       "      <td>Molecular biology</td>\n",
       "      <td>806.393284</td>\n",
       "    </tr>\n",
       "    <tr>\n",
       "      <th>4</th>\n",
       "      <td>Gordon B. Mills</td>\n",
       "      <td>Biology</td>\n",
       "      <td>Genetics</td>\n",
       "      <td>Immunology</td>\n",
       "      <td>Bioinformatics</td>\n",
       "      <td>Pathology</td>\n",
       "      <td>768.034885</td>\n",
       "    </tr>\n",
       "  </tbody>\n",
       "</table>\n",
       "</div>"
      ],
      "text/plain": [
       "                  name      field1      field2      field3          field4  \\\n",
       "0     Hagop Kantarjian    Medicine  Immunology     Surgery       Pathology   \n",
       "1         Shizuo Akira     Biology  Immunology    Genetics        Virology   \n",
       "2  Kenneth C. Anderson  Immunology     Biology    Medicine       Pathology   \n",
       "3   Richard A. Flavell     Biology  Immunology    Genetics        Virology   \n",
       "4      Gordon B. Mills     Biology    Genetics  Immunology  Bioinformatics   \n",
       "\n",
       "              field5  collaboration  \n",
       "0            Biology     886.398632  \n",
       "1  Molecular biology     841.319270  \n",
       "2           Genetics     809.261427  \n",
       "3  Molecular biology     806.393284  \n",
       "4          Pathology     768.034885  "
      ]
     },
     "execution_count": 5,
     "metadata": {},
     "output_type": "execute_result"
    }
   ],
   "source": [
    "!pip install xlrd\n",
    "import pandas as pd\n",
    "df = pd.read_excel('unique_profs_describe.xlsx')\n",
    "df.sort_values(by='collaboration', ascending=False, inplace=True)\n",
    "df.head()"
   ]
  },
  {
   "cell_type": "code",
   "execution_count": 21,
   "metadata": {},
   "outputs": [
    {
     "name": "stdout",
     "output_type": "stream",
     "text": [
      "Hagop Kantarjian: ['Medicine', 'Immunology', 'Surgery', 'Pathology', 'Biology']\n",
      "Shizuo Akira: ['Genetics', 'Virology', 'Molecular biology']\n",
      "Gordon B. Mills: ['Bioinformatics']\n",
      "Eric S. Lander: ['Genome']\n",
      "Abstr Act: ['Materials Science', 'Composite material']\n",
      "John R. Yates: ['Biochemistry']\n",
      "Lewis C. Cantley: ['Endocrinology']\n",
      "Richard K. Wilson: ['Genomics']\n",
      "Mark J. Daly: ['Genome-wide association study']\n",
      "Irving L. Weissman: ['Anatomy']\n",
      "Stacey Gabriel: ['Mutation']\n",
      "John C. Reed: ['Apoptosis']\n",
      "Wei Zheng: ['Physics']\n",
      "Ronald A. DePinho: ['Cancer research']\n",
      "Jun Zhu: ['Chemistry', 'Computer Science']\n",
      "Albert Hofman: ['Diabetes mellitus']\n",
      "Richard C. Cabot: ['Anesthesia', 'Intensive Care Medicine']\n",
      "Neal G. Copeland: ['Gene mapping']\n",
      "Matthias Mann: ['Mass spectrometry']\n",
      "K. N. Houk: ['Organic chemistry', 'Stereochemistry', 'Photochemistry', 'Computational chemistry']\n",
      "Robert Langer: ['Nanotechnology']\n",
      "Tony Pawson: ['Cell biology']\n",
      "David Baker: ['Crystallography']\n",
      "Klaus Rajewsky: ['Antibody']\n",
      "K. C. Nicolaou: ['Total synthesis', 'Combinatorial chemistry']\n",
      "Arnold L. Rheingold: ['Inorganic chemistry']\n",
      "Bernard Henrissat: ['Microbiology', 'Botany']\n"
     ]
    }
   ],
   "source": [
    "fields_seen = set()\n",
    "for i in range(df.shape[0]):\n",
    "    author = df['name'][i]\n",
    "    author_fields = []\n",
    "    \n",
    "    print_author = False\n",
    "    for j in range(1,6):\n",
    "        field = df['field{}'.format(j)][i]\n",
    "        if not field in fields_seen:\n",
    "            fields_seen.add(field)\n",
    "            author_fields.append(field)\n",
    "            print_author = True\n",
    "\n",
    "    if print_author:\n",
    "        print(\"{}: {}\".format(author, author_fields))"
   ]
  }
 ],
 "metadata": {
  "kernelspec": {
   "display_name": "Python 3",
   "language": "python",
   "name": "python3"
  },
  "language_info": {
   "codemirror_mode": {
    "name": "ipython",
    "version": 3
   },
   "file_extension": ".py",
   "mimetype": "text/x-python",
   "name": "python",
   "nbconvert_exporter": "python",
   "pygments_lexer": "ipython3",
   "version": "3.7.1"
  }
 },
 "nbformat": 4,
 "nbformat_minor": 2
}
