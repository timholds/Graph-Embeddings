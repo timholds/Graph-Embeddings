{
 "cells": [
  {
   "cell_type": "markdown",
   "metadata": {},
   "source": [
    "# Graphistry Plots"
   ]
  },
  {
   "cell_type": "code",
   "execution_count": 8,
   "metadata": {},
   "outputs": [
    {
     "data": {
      "text/plain": [
       "'0.9.62'"
      ]
     },
     "execution_count": 8,
     "metadata": {},
     "output_type": "execute_result"
    }
   ],
   "source": [
    "NEO4J = {\n",
    "    'uri': \"bolt://matlaber5.media.mit.edu:7687\", \n",
    "    'auth': (\"neo4j\", \"myneo\")\n",
    "}\n",
    "\n",
    "\n",
    "GRAPHISTRY = {\n",
    "    'server': '35.175.107.203:80',\n",
    "    'key': '32089ba2753aaacb383f12acf6a3689ea1b49f81ff643730b26cd38817db3e6c82ef7172c072018919d84481c39d9973',\n",
    "    'protocol':'http'\n",
    "}\n",
    "# !pip install pandas\n",
    "# !pip install graphistry[bolt] --user\n",
    "\n",
    "import pandas as pd\n",
    "import graphistry\n",
    "import time\n",
    "\n",
    "graphistry.register(bolt=NEO4J, **GRAPHISTRY)\n",
    "graphistry.__version__"
   ]
  },
  {
   "cell_type": "markdown",
   "metadata": {},
   "source": [
    "# Individual Coauthorship Communities"
   ]
  },
  {
   "cell_type": "code",
   "execution_count": 5,
   "metadata": {},
   "outputs": [
    {
     "name": "stderr",
     "output_type": "stream",
     "text": [
      "WARNING:  Attribute \"degree\" bound to _point_size does not exist.\n"
     ]
    },
    {
     "name": "stdout",
     "output_type": "stream",
     "text": [
      "Uploading 8955 kB. This may take a while...\n"
     ]
    },
    {
     "data": {
      "text/html": [
       "\n",
       "            <iframe id=\"4369e559-57a1-4cfd-be1e-0359da70559a\" src=\"http://35.175.107.203:80/graph/graph.html?dataset=9787caf1ec035320b806c2db52fcd88a&type=vgraph&viztoken=cf610d4d262b430e8d953addf8aa1f78&usertag=4d937437-pygraphistry-0.9.62&splashAfter=1557081183&info=true\"\n",
       "                    allowfullscreen=\"true\" webkitallowfullscreen=\"true\" mozallowfullscreen=\"true\"\n",
       "                    oallowfullscreen=\"true\" msallowfullscreen=\"true\"\n",
       "                    style=\"width:100%; height:500px; border: 1px solid #DDD\">\n",
       "            </iframe>\n",
       "        \n",
       "            <script>\n",
       "                $(\"#4369e559-57a1-4cfd-be1e-0359da70559a\").bind('mousewheel', function(e) {\n",
       "                e.preventDefault();\n",
       "                });\n",
       "            </script>\n",
       "        "
      ],
      "text/plain": [
       "<IPython.core.display.HTML object>"
      ]
     },
     "execution_count": 5,
     "metadata": {},
     "output_type": "execute_result"
    }
   ],
   "source": [
    "g = graphistry.cypher(\"\"\"\n",
    "MATCH p=(a:Author)-[e:COAUTHOR]-(b:Author)-[f:COAUTHOR]-(c:Author)\n",
    "WHERE a.name = \"Robert Langer\"\n",
    "RETURN p\n",
    "  \"\"\", \n",
    "  {})\n",
    "g = g.bind(point_title='name', edge_weight='strength42') \n",
    "g.plot()"
   ]
  },
  {
   "cell_type": "markdown",
   "metadata": {},
   "source": [
    "# Journal Coauthorship Communities"
   ]
  },
  {
   "cell_type": "code",
   "execution_count": 9,
   "metadata": {},
   "outputs": [],
   "source": [
    "top_5 = ['Cell', 'Nature', 'Nature Biotechnology',\n",
    "            'Proceedings of the National Academy of Sciences of the United States of America',\n",
    "            'Science']\n",
    " \n",
    "top_10 = ['Cell', 'Nature', 'Nature Biotechnology',\n",
    "           'Proceedings of the National Academy of Sciences of the United States of America',\n",
    "           'Science', 'Journal of the American Chemical Society', 'JAMA', \n",
    "           'The New England Journal of Medicine', 'Nature Genetics', 'Neuron']\n",
    " \n",
    "top_42 = ['Angewandte Chemie','Blood','Cancer Cell','Cancer Discovery','Cancer Research',\n",
    "          'Cell','Cell Host & Microbe','Cell Metabolism','Cell Stem Cell','Chemistry & Biology',\n",
    "          'The EMBO Journal','Genes & Development','Immunity','Journal of Neurology',\n",
    "          'Journal of the American Chemical Society','JAMA','Journal of Biological Chemistry',\n",
    "          'Journal of Cell Biology','Journal of Clinical Investigation','Journal of Experimental Medicine',\n",
    "          'Journal of Medicinal Chemistry','The Lancet','Nature Cell Biology','Nature Chemical Biology',\n",
    "          'Nature Chemistry','Nature Medicine','Nature Methods','Nature','Nature Biotechnology',\n",
    "          'The New England Journal of Medicine','Neuron','Nature Genetics','Nature Immunology',\n",
    "          'Nature Neuroscience','Nature Structural & Molecular Biology','PLOS Biology','PLOS Genetics',\n",
    "          'PLOS Pathogens','Proceedings of the National Academy of Sciences of the United States of America',\n",
    "          'Science Signaling','Science Translational Medicine','Science']"
   ]
  },
  {
   "cell_type": "code",
   "execution_count": 11,
   "metadata": {},
   "outputs": [
    {
     "name": "stderr",
     "output_type": "stream",
     "text": [
      "WARNING:  Large graph: |nodes| + |edges| = 1626919. Layout/rendering might be slow.\n"
     ]
    },
    {
     "name": "stdout",
     "output_type": "stream",
     "text": [
      "Uploading 25875 kB. This may take a while...\n"
     ]
    },
    {
     "data": {
      "text/html": [
       "\n",
       "            <iframe id=\"2bf4d56c-72cd-4cc7-a632-833925d72c62\" src=\"http://35.175.107.203:80/graph/graph.html?dataset=a3b358f45b1a53c39b0ed2cd62988c98&type=vgraph&viztoken=c98bfa40c9b54040a348507b4c1a8199&usertag=4d937437-pygraphistry-0.9.62&splashAfter=1557091463&info=true\"\n",
       "                    allowfullscreen=\"true\" webkitallowfullscreen=\"true\" mozallowfullscreen=\"true\"\n",
       "                    oallowfullscreen=\"true\" msallowfullscreen=\"true\"\n",
       "                    style=\"width:100%; height:500px; border: 1px solid #DDD\">\n",
       "            </iframe>\n",
       "        \n",
       "            <script>\n",
       "                $(\"#2bf4d56c-72cd-4cc7-a632-833925d72c62\").bind('mousewheel', function(e) {\n",
       "                e.preventDefault();\n",
       "                });\n",
       "            </script>\n",
       "        "
      ],
      "text/plain": [
       "<IPython.core.display.HTML object>"
      ]
     },
     "execution_count": 11,
     "metadata": {},
     "output_type": "execute_result"
    }
   ],
   "source": [
    "venues = top_42\n",
    "min_pubs = 3\n",
    "min_cowritten = 3\n",
    "\n",
    "g = graphistry.cypher(\"\"\"\n",
    "MATCH (a:Top42Author)-[r:AUTHORED]->(q:Quanta)\n",
    "WHERE q.venue in {}\n",
    "WITH a, count(q) as num_publications\n",
    "WHERE num_publications >= {}\n",
    "WITH apoc.coll.toSet(COLLECT(a)) AS author_list\n",
    "MATCH p=(m:Top42Author)-[c:COAUTHOR]->(n:Top42Author)\n",
    "WHERE (m IN author_list) AND (n IN author_list) AND (m.name>n.name) AND (c.strength42 >= {})\n",
    "RETURN p\"\"\".format(venues, min_pubs, min_cowritten), {})\n",
    "\n",
    "g = g.bind(edge_weight='strength42', point_label='name') \n",
    "g.plot()"
   ]
  },
  {
   "cell_type": "code",
   "execution_count": null,
   "metadata": {},
   "outputs": [],
   "source": []
  }
 ],
 "metadata": {
  "kernelspec": {
   "display_name": "Python 3",
   "language": "python",
   "name": "python3"
  },
  "language_info": {
   "codemirror_mode": {
    "name": "ipython",
    "version": 3
   },
   "file_extension": ".py",
   "mimetype": "text/x-python",
   "name": "python",
   "nbconvert_exporter": "python",
   "pygments_lexer": "ipython3",
   "version": "3.7.1"
  }
 },
 "nbformat": 4,
 "nbformat_minor": 2
}
