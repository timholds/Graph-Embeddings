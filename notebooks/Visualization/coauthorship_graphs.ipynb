{
 "cells": [
  {
   "cell_type": "markdown",
   "metadata": {},
   "source": [
    "# Graphistry Plots"
   ]
  },
  {
   "cell_type": "code",
   "execution_count": 2,
   "metadata": {},
   "outputs": [
    {
     "data": {
      "text/plain": [
       "'0.9.64'"
      ]
     },
     "execution_count": 2,
     "metadata": {},
     "output_type": "execute_result"
    }
   ],
   "source": [
    "NEO4J = {\n",
    "    'uri': \"bolt://matlaber5.media.mit.edu:7687\", \n",
    "    'auth': (\"neo4j\", \"myneo\")\n",
    "}\n",
    "\n",
    "# !pip install pandas\n",
    "# !pip install graphistry[bolt] --user\n",
    "\n",
    "import pandas as pd\n",
    "import graphistry\n",
    "import time\n",
    "\n",
    "graphistry.register(key='3bd0ff5a5304a3ee27de2ca78ac7b67bbc48dc67409c255c0f70250955cf967c')\n",
    "graphistry.register(bolt=NEO4J)\n",
    "graphistry.__version__"
   ]
  },
  {
   "cell_type": "markdown",
   "metadata": {},
   "source": [
    "# Individual Coauthorship Communities"
   ]
  },
  {
   "cell_type": "code",
   "execution_count": 3,
   "metadata": {},
   "outputs": [
    {
     "data": {
      "text/html": [
       "\n",
       "            <iframe id=\"02905e15-9474-403e-8cfa-251a4ef4e811\" src=\"https://labs.graphistry.com/graph/graph.html?dataset=PyGraphistry/NCQNMUGJAK&type=vgraph&viztoken=1784f65d8948255ce16a25580e29420ce566f5d6&usertag=378fbbb2-pygraphistry-0.9.64&splashAfter=1556638970&info=true\"\n",
       "                    allowfullscreen=\"true\" webkitallowfullscreen=\"true\" mozallowfullscreen=\"true\"\n",
       "                    oallowfullscreen=\"true\" msallowfullscreen=\"true\"\n",
       "                    style=\"width:100%; height:500px; border: 1px solid #DDD\">\n",
       "            </iframe>\n",
       "        \n",
       "            <script>\n",
       "                $(\"#02905e15-9474-403e-8cfa-251a4ef4e811\").bind('mousewheel', function(e) {\n",
       "                e.preventDefault();\n",
       "                });\n",
       "            </script>\n",
       "        "
      ],
      "text/plain": [
       "<IPython.core.display.HTML object>"
      ]
     },
     "execution_count": 3,
     "metadata": {},
     "output_type": "execute_result"
    }
   ],
   "source": [
    "g = graphistry.cypher(\"\"\"\n",
    "MATCH p=(a:Author)-[:COAUTHOR]-(:Author)-[:COAUTHOR]-(:Author)\n",
    "WHERE a.name = \"Raja Srinivas\"\n",
    "RETURN p\n",
    "  \"\"\", \n",
    "  {})\n",
    "g = g.bind(edge_weight='strength', point_label='name') \n",
    "g.plot()"
   ]
  },
  {
   "cell_type": "markdown",
   "metadata": {},
   "source": [
    "# Journal Coauthorship Communities"
   ]
  },
  {
   "cell_type": "code",
   "execution_count": 4,
   "metadata": {},
   "outputs": [],
   "source": [
    "top_5 = ['Cell', 'Nature', 'Nature Biotechnology',\n",
    "            'Proceedings of the National Academy of Sciences of the United States of America',\n",
    "            'Science']\n",
    " \n",
    "top_10 = ['Cell', 'Nature', 'Nature Biotechnology',\n",
    "           'Proceedings of the National Academy of Sciences of the United States of America',\n",
    "           'Science', 'Journal of the American Chemical Society', 'JAMA', \n",
    "           'The New England Journal of Medicine', 'Nature Genetics', 'Neuron']\n",
    " \n",
    "top_42 = ['Angewandte Chemie','Blood','Cancer Cell','Cancer Discovery','Cancer Research',\n",
    "          'Cell','Cell Host & Microbe','Cell Metabolism','Cell Stem Cell','Chemistry & Biology',\n",
    "          'The EMBO Journal','Genes & Development','Immunity','Journal of Neurology',\n",
    "          'Journal of the American Chemical Society','JAMA','Journal of Biological Chemistry',\n",
    "          'Journal of Cell Biology','Journal of Clinical Investigation','Journal of Experimental Medicine',\n",
    "          'Journal of Medicinal Chemistry','The Lancet','Nature Cell Biology','Nature Chemical Biology',\n",
    "          'Nature Chemistry','Nature Medicine','Nature Methods','Nature','Nature Biotechnology',\n",
    "          'The New England Journal of Medicine','Neuron','Nature Genetics','Nature Immunology',\n",
    "          'Nature Neuroscience','Nature Structural & Molecular Biology','PLOS Biology','PLOS Genetics',\n",
    "          'PLOS Pathogens','Proceedings of the National Academy of Sciences of the United States of America',\n",
    "          'Science Signaling','Science Translational Medicine','Science']"
   ]
  },
  {
   "cell_type": "code",
   "execution_count": 6,
   "metadata": {},
   "outputs": [
    {
     "data": {
      "text/html": [
       "\n",
       "            <iframe id=\"ac6a0711-7547-4783-8b49-a523a93e8adb\" src=\"https://labs.graphistry.com/graph/graph.html?dataset=PyGraphistry/9NMREACVID&type=vgraph&viztoken=9152e69b1678c5dc7a42c3bdaea3f7e61c10dcf2&usertag=378fbbb2-pygraphistry-0.9.64&splashAfter=1556640510&info=true\"\n",
       "                    allowfullscreen=\"true\" webkitallowfullscreen=\"true\" mozallowfullscreen=\"true\"\n",
       "                    oallowfullscreen=\"true\" msallowfullscreen=\"true\"\n",
       "                    style=\"width:100%; height:500px; border: 1px solid #DDD\">\n",
       "            </iframe>\n",
       "        \n",
       "            <script>\n",
       "                $(\"#ac6a0711-7547-4783-8b49-a523a93e8adb\").bind('mousewheel', function(e) {\n",
       "                e.preventDefault();\n",
       "                });\n",
       "            </script>\n",
       "        "
      ],
      "text/plain": [
       "<IPython.core.display.HTML object>"
      ]
     },
     "execution_count": 6,
     "metadata": {},
     "output_type": "execute_result"
    }
   ],
   "source": [
    "venues = top_5\n",
    "min_pubs = 50\n",
    "min_cowritten = 5\n",
    "\n",
    "g = graphistry.cypher(\"\"\"\n",
    "MATCH (a:Author)-[r:AUTHORED]->(q:Quanta)\n",
    "WHERE q.venue in {}\n",
    "WITH a, count(q) as num_publications\n",
    "WHERE num_publications > {}\n",
    "WITH apoc.coll.toSet(COLLECT(a)) AS author_list\n",
    "MATCH p=(m:Author)-[c:COAUTHOR]->(n:Author)\n",
    "WHERE (m IN author_list) AND (n IN author_list) AND (m.name>n.name) AND (c.strength42 > {})\n",
    "RETURN p\"\"\".format(venues, min_pubs, min_cowritten), {})\n",
    "\n",
    "g = g.bind(edge_weight='strength42', point_label='name', edge_color='strength42') \n",
    "g.plot()"
   ]
  },
  {
   "cell_type": "code",
   "execution_count": null,
   "metadata": {},
   "outputs": [],
   "source": []
  }
 ],
 "metadata": {
  "kernelspec": {
   "display_name": "Python 3",
   "language": "python",
   "name": "python3"
  },
  "language_info": {
   "codemirror_mode": {
    "name": "ipython",
    "version": 3
   },
   "file_extension": ".py",
   "mimetype": "text/x-python",
   "name": "python",
   "nbconvert_exporter": "python",
   "pygments_lexer": "ipython3",
   "version": "3.6.7"
  }
 },
 "nbformat": 4,
 "nbformat_minor": 2
}
