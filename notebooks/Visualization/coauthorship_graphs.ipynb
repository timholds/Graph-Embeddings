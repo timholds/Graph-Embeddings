{
 "cells": [
  {
   "cell_type": "markdown",
   "metadata": {},
   "source": [
    "# Graphistry Plots"
   ]
  },
  {
   "cell_type": "code",
   "execution_count": 11,
   "metadata": {},
   "outputs": [
    {
     "data": {
      "text/plain": [
       "'0.9.62'"
      ]
     },
     "execution_count": 11,
     "metadata": {},
     "output_type": "execute_result"
    }
   ],
   "source": [
    "NEO4J = {\n",
    "    'uri': \"bolt://matlaber10.media.mit.edu:7687\", \n",
    "    'auth': (\"neo4j\", \"myneo\")\n",
    "}\n",
    "\n",
    "#!pip install pandas\n",
    "# !pip install graphistry[bolt]\n",
    "\n",
    "import pandas as pd\n",
    "import graphistry\n",
    "import time\n",
    "\n",
    "graphistry.register(key='3bd0ff5a5304a3ee27de2ca78ac7b67bbc48dc67409c255c0f70250955cf967c')\n",
    "graphistry.register(bolt=NEO4J)\n",
    "graphistry.__version__"
   ]
  },
  {
   "cell_type": "markdown",
   "metadata": {},
   "source": [
    "# Individual Coauthorship Communities"
   ]
  },
  {
   "cell_type": "code",
   "execution_count": 20,
   "metadata": {},
   "outputs": [
    {
     "data": {
      "text/html": [
       "\n",
       "            <iframe id=\"986b607b-b9fe-46a6-b0ac-32975e9c3223\" src=\"https://labs.graphistry.com/graph/graph.html?dataset=PyGraphistry/QQYEWLNE94&type=vgraph&viztoken=292b4462739ff68f60d2c27d15399104d959019a&usertag=e943902d-pygraphistry-0.9.62&splashAfter=1550246478&info=true\"\n",
       "                    allowfullscreen=\"true\" webkitallowfullscreen=\"true\" mozallowfullscreen=\"true\"\n",
       "                    oallowfullscreen=\"true\" msallowfullscreen=\"true\"\n",
       "                    style=\"width:100%; height:500px; border: 1px solid #DDD\">\n",
       "            </iframe>\n",
       "        \n",
       "            <script>\n",
       "                $(\"#986b607b-b9fe-46a6-b0ac-32975e9c3223\").bind('mousewheel', function(e) {\n",
       "                e.preventDefault();\n",
       "                });\n",
       "            </script>\n",
       "        "
      ],
      "text/plain": [
       "<IPython.core.display.HTML object>"
      ]
     },
     "execution_count": 20,
     "metadata": {},
     "output_type": "execute_result"
    }
   ],
   "source": [
    "g = graphistry.cypher(\"\"\"\n",
    "MATCH p=(a:Author)-[:COAUTHOR]-(:Author)-[:COAUTHOR]-(:Author)\n",
    "WHERE a.name = \"Raja Srinivas\"\n",
    "RETURN p\n",
    "  \"\"\", \n",
    "  {})\n",
    "g = g.bind(edge_weight='strength', point_label='name') \n",
    "g.plot()"
   ]
  },
  {
   "cell_type": "markdown",
   "metadata": {},
   "source": [
    "# Journal Coauthorship Communities"
   ]
  },
  {
   "cell_type": "markdown",
   "metadata": {},
   "source": [
    "## Venue: Nature Biotechnology\n",
    "\n",
    "* Number of papers: 13120\n",
    "\n",
    "MATCH (a:Author)-[:AUTHORED]->(q:Quanta)<-[:AUTHORED]-(b:Author)\n",
    "WHERE q.venue=\"Nature Biotechnology\"\n",
    "MATCH p=(a)-[:COAUTHOR]->(b)\n",
    "WHERE a.name > b.name\n",
    "RETURN COUNT(p)\n",
    "//38337\n"
   ]
  },
  {
   "cell_type": "markdown",
   "metadata": {},
   "source": [
    "Plot of all Nature Biotechnology relations:"
   ]
  },
  {
   "cell_type": "code",
   "execution_count": null,
   "metadata": {},
   "outputs": [],
   "source": [
    "g = graphistry.cypher(\"\"\"\n",
    "MATCH (a:Author)-[:AUTHORED]->(q:Quanta)<-[:AUTHORED]-(b:Author)\n",
    "WHERE q.venue=\"Nature Biotechnology\"\n",
    "MATCH p=(a)-[:COAUTHOR]->(b)\n",
    "WHERE a.name > b.name\n",
    "RETURN p\n",
    "  \"\"\", \n",
    "  {})\n",
    "g = g.bind(edge_weight='strength42', point_label='name') \n",
    "g.plot()"
   ]
  },
  {
   "cell_type": "markdown",
   "metadata": {},
   "source": [
    "## PLOS ONE\n",
    "* Number of papers: 176394"
   ]
  },
  {
   "cell_type": "code",
   "execution_count": 5,
   "metadata": {},
   "outputs": [
    {
     "data": {
      "text/html": [
       "\n",
       "            <iframe id=\"02b602f8-dda3-4962-bd86-88ea87ddb207\" src=\"https://labs.graphistry.com/graph/graph.html?dataset=PyGraphistry/XW0UO69QKU&type=vgraph&viztoken=f8e15db25540b21b023f85703fba5a8fb5bad436&usertag=5bf392ba-pygraphistry-0.9.62&splashAfter=1548356947&info=true\"\n",
       "                    allowfullscreen=\"true\" webkitallowfullscreen=\"true\" mozallowfullscreen=\"true\"\n",
       "                    oallowfullscreen=\"true\" msallowfullscreen=\"true\"\n",
       "                    style=\"width:100%; height:500px; border: 1px solid #DDD\">\n",
       "            </iframe>\n",
       "        \n",
       "            <script>\n",
       "                $(\"#02b602f8-dda3-4962-bd86-88ea87ddb207\").bind('mousewheel', function(e) {\n",
       "                e.preventDefault();\n",
       "                });\n",
       "            </script>\n",
       "        "
      ],
      "text/plain": [
       "<IPython.core.display.HTML object>"
      ]
     },
     "execution_count": 5,
     "metadata": {},
     "output_type": "execute_result"
    }
   ],
   "source": [
    "g = graphistry.cypher(\"\"\"\n",
    "MATCH (a:Author)-[:AUTHORED]->(q:Quanta)<-[:AUTHORED]-(b:Author)\n",
    "WHERE q.venue=\"PLOS ONE\"\n",
    "MATCH p=(a)-[r:COAUTHOR]->(b)\n",
    "WHERE a.name > b.name and r.strength>2\n",
    "RETURN p\n",
    "  \"\"\", \n",
    "  {})\n",
    "g.plot()"
   ]
  },
  {
   "cell_type": "markdown",
   "metadata": {},
   "source": [
    "## Nature\n",
    "* Number of papers: 252627"
   ]
  },
  {
   "cell_type": "markdown",
   "metadata": {},
   "source": [
    "g = graphistry.cypher(\"\"\"\n",
    "MATCH (a:Author)-[:AUTHORED]->(q:Quanta)<-[:AUTHORED]-(b:Author)\n",
    "WHERE q.venue=\"Nature\"\n",
    "MATCH p=(a)-[r:COAUTHOR]->(b)\n",
    "WHERE a.name > b.name and r.strength>17\n",
    "RETURN p\n",
    "  \"\"\", \n",
    "  {})\n",
    "g.plot()\n",
    "\n",
    "#This one has too many vertices and edges to be visualized\n",
    "#|nodes| + |edges| = 1265176"
   ]
  },
  {
   "cell_type": "markdown",
   "metadata": {},
   "source": [
    "### Top Five\n",
    "['Cell',\n",
    " 'Nature',\n",
    " 'Nature Biotechnology',\n",
    " 'Proceedings of the National Academy of Sciences of the United States of America',\n",
    " 'Science']\n",
    " \n",
    "### Top Ten\n",
    "['Cell',\n",
    " 'Nature',\n",
    " 'Nature Biotechnology',\n",
    " 'Proceedings of the National Academy of Sciences of the United States of America',\n",
    " 'Science',\n",
    " 'Journal of the American Chemical Society',\n",
    " 'JAMA',\n",
    " 'The New England Journal of Medicine',\n",
    " 'Nature Genetics',\n",
    " 'Neuron']\n",
    " \n",
    " ### Top 42\n",
    "['Angewandte Chemie',\n",
    "'Blood',\n",
    "'Cancer Cell',\n",
    "'Cancer Discovery',\n",
    "'Cancer Research',\n",
    "'Cell',\n",
    "'Cell Host & Microbe',\n",
    "'Cell Metabolism',\n",
    "'Cell Stem Cell',\n",
    "'Chemistry & Biology',\n",
    "'The EMBO Journal',\n",
    "'Genes & Development',\n",
    "'Immunity',\n",
    "'Journal of Neurology',\n",
    "'Journal of the American Chemical Society',\n",
    "'JAMA',\n",
    "'Journal of Biological Chemistry',\n",
    "'Journal of Cell Biology',\n",
    "'Journal of Clinical Investigation',\n",
    "'Journal of Experimental Medicine',\n",
    "'Journal of Medicinal Chemistry',\n",
    "'The Lancet',\n",
    "'Nature Cell Biology',\n",
    "'Nature Chemical Biology',\n",
    "'Nature Chemistry',\n",
    "'Nature Medicine',\n",
    "'Nature Methods',\n",
    "'Nature',\n",
    "'Nature Biotechnology',\n",
    "'The New England Journal of Medicine',\n",
    "'Neuron',\n",
    "'Nature Genetics',\n",
    "'Nature Immunology',\n",
    "'Nature Neuroscience',\n",
    "'Nature Structural & Molecular Biology',\n",
    "'PLOS Biology',\n",
    "'PLOS Genetics',\n",
    "'PLOS Pathogens',\n",
    "'Proceedings of the National Academy of Sciences of the United States of America',\n",
    "'Science Signaling',\n",
    "'Science Translational Medicine',\n",
    "'Science']"
   ]
  },
  {
   "cell_type": "code",
   "execution_count": 23,
   "metadata": {
    "scrolled": false
   },
   "outputs": [
    {
     "name": "stdout",
     "output_type": "stream",
     "text": [
      "Uploading 14535 kB. This may take a while...\n"
     ]
    },
    {
     "data": {
      "text/html": [
       "\n",
       "            <iframe id=\"27f10a7b-b0ca-4ebe-8e3a-8a328653cd63\" src=\"https://labs.graphistry.com/graph/graph.html?dataset=PyGraphistry/I3LX76JPUR&type=vgraph&viztoken=dbc79f4c4175f324433a313f18ae73dd4d69a127&usertag=e943902d-pygraphistry-0.9.62&splashAfter=1550249949&info=true\"\n",
       "                    allowfullscreen=\"true\" webkitallowfullscreen=\"true\" mozallowfullscreen=\"true\"\n",
       "                    oallowfullscreen=\"true\" msallowfullscreen=\"true\"\n",
       "                    style=\"width:100%; height:500px; border: 1px solid #DDD\">\n",
       "            </iframe>\n",
       "        \n",
       "            <script>\n",
       "                $(\"#27f10a7b-b0ca-4ebe-8e3a-8a328653cd63\").bind('mousewheel', function(e) {\n",
       "                e.preventDefault();\n",
       "                });\n",
       "            </script>\n",
       "        "
      ],
      "text/plain": [
       "<IPython.core.display.HTML object>"
      ]
     },
     "execution_count": 23,
     "metadata": {},
     "output_type": "execute_result"
    }
   ],
   "source": [
    "g = graphistry.cypher(\"\"\"\n",
    "MATCH (a:Author)-[r:AUTHORED]->(q:Quanta)\n",
    "WHERE \n",
    "    q.venue in \n",
    "        ['Angewandte Chemie',\n",
    "        'Blood',\n",
    "        'Cancer Cell',\n",
    "        'Cancer Discovery',\n",
    "        'Cancer Research',\n",
    "        'Cell',\n",
    "        'Cell Host & Microbe',\n",
    "        'Cell Metabolism',\n",
    "        'Cell Stem Cell',\n",
    "        'Chemistry & Biology',\n",
    "        'The EMBO Journal',\n",
    "        'Genes & Development',\n",
    "        'Immunity',\n",
    "        'Journal of Neurology',\n",
    "        'Journal of the American Chemical Society',\n",
    "        'JAMA',\n",
    "        'Journal of Biological Chemistry',\n",
    "        'Journal of Cell Biology',\n",
    "        'Journal of Clinical Investigation',\n",
    "        'Journal of Experimental Medicine',\n",
    "        'Journal of Medicinal Chemistry',\n",
    "        'The Lancet',\n",
    "        'Nature Cell Biology',\n",
    "        'Nature Chemical Biology',\n",
    "        'Nature Chemistry',\n",
    "        'Nature Medicine',\n",
    "        'Nature Methods',\n",
    "        'Nature',\n",
    "        'Nature Biotechnology',\n",
    "        'The New England Journal of Medicine',\n",
    "        'Neuron',\n",
    "        'Nature Genetics',\n",
    "        'Nature Immunology',\n",
    "        'Nature Neuroscience',\n",
    "        'Nature Structural & Molecular Biology',\n",
    "        'PLOS Biology',\n",
    "        'PLOS Genetics',\n",
    "        'PLOS Pathogens',\n",
    "        'Proceedings of the National Academy of Sciences of the United States of America',\n",
    "        'Science Signaling',\n",
    "        'Science Translational Medicine',\n",
    "        'Science']\n",
    "    AND q.fos IS NOT NULL\n",
    "WITH a, count(q) as num_publications\n",
    "WHERE num_publications > 3\n",
    "WITH apoc.coll.toSet(COLLECT(a)) AS nature_authors\n",
    "\n",
    "MATCH p=(m:Author)-[c:COAUTHOR]->(n:Author)\n",
    "WHERE \n",
    "    m IN nature_authors AND n IN nature_authors \n",
    "    AND m.name>n.name\n",
    "    AND c.strength42 > 3\n",
    "RETURN p\n",
    "  \"\"\", \n",
    "  {})\n",
    "g = g.bind(edge_weight='strength42', point_label='name', point_color='louvain') \n",
    "\n",
    "g.plot()"
   ]
  },
  {
   "cell_type": "code",
   "execution_count": null,
   "metadata": {
    "collapsed": true
   },
   "outputs": [],
   "source": []
  }
 ],
 "metadata": {
  "kernelspec": {
   "display_name": "Python 3",
   "language": "python",
   "name": "python3"
  },
  "language_info": {
   "codemirror_mode": {
    "name": "ipython",
    "version": 3
   },
   "file_extension": ".py",
   "mimetype": "text/x-python",
   "name": "python",
   "nbconvert_exporter": "python",
   "pygments_lexer": "ipython3",
   "version": "3.7.1"
  }
 },
 "nbformat": 4,
 "nbformat_minor": 2
}
