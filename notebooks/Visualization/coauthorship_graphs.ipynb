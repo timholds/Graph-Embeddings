{
 "cells": [
  {
   "cell_type": "markdown",
   "metadata": {},
   "source": [
    "# Graphistry Plots"
   ]
  },
  {
   "cell_type": "code",
   "execution_count": 1,
   "metadata": {},
   "outputs": [
    {
     "ename": "ModuleNotFoundError",
     "evalue": "No module named 'graphistry'",
     "output_type": "error",
     "traceback": [
      "\u001b[0;31m---------------------------------------------------------------------------\u001b[0m",
      "\u001b[0;31mModuleNotFoundError\u001b[0m                       Traceback (most recent call last)",
      "\u001b[0;32m<ipython-input-1-af54d8d9d162>\u001b[0m in \u001b[0;36m<module>\u001b[0;34m()\u001b[0m\n\u001b[1;32m      8\u001b[0m \u001b[0;34m\u001b[0m\u001b[0m\n\u001b[1;32m      9\u001b[0m \u001b[0;32mimport\u001b[0m \u001b[0mpandas\u001b[0m \u001b[0;32mas\u001b[0m \u001b[0mpd\u001b[0m\u001b[0;34m\u001b[0m\u001b[0;34m\u001b[0m\u001b[0m\n\u001b[0;32m---> 10\u001b[0;31m \u001b[0;32mimport\u001b[0m \u001b[0mgraphistry\u001b[0m\u001b[0;34m\u001b[0m\u001b[0;34m\u001b[0m\u001b[0m\n\u001b[0m\u001b[1;32m     11\u001b[0m \u001b[0;32mimport\u001b[0m \u001b[0mtime\u001b[0m\u001b[0;34m\u001b[0m\u001b[0;34m\u001b[0m\u001b[0m\n\u001b[1;32m     12\u001b[0m \u001b[0;34m\u001b[0m\u001b[0m\n",
      "\u001b[0;31mModuleNotFoundError\u001b[0m: No module named 'graphistry'"
     ]
    }
   ],
   "source": [
    "NEO4J = {\n",
    "    'uri': \"bolt://matlaber10.media.mit.edu:7687\", \n",
    "    'auth': (\"neo4j\", \"myneo\")\n",
    "}\n",
    "\n",
    "#!pip install pandas\n",
    "# !pip install graphistry[bolt]\n",
    "\n",
    "import pandas as pd\n",
    "import graphistry\n",
    "import time\n",
    "\n",
    "graphistry.register(key='3bd0ff5a5304a3ee27de2ca78ac7b67bbc48dc67409c255c0f70250955cf967c')\n",
    "graphistry.register(bolt=NEO4J)\n",
    "graphistry.__version__"
   ]
  },
  {
   "cell_type": "markdown",
   "metadata": {},
   "source": [
    "# Individual Coauthorship Communities"
   ]
  },
  {
   "cell_type": "code",
   "execution_count": 2,
   "metadata": {},
   "outputs": [
    {
     "data": {
      "text/html": [
       "\n",
       "            <iframe id=\"1b8ca4b2-2be5-463d-bd29-c7c2bb307acc\" src=\"https://labs.graphistry.com/graph/graph.html?dataset=PyGraphistry/92MR1M4JFB&type=vgraph&viztoken=ec96006af90a2d2eb4981492d005d8530e7604e0&usertag=e943902d-pygraphistry-0.9.62&splashAfter=1550945597&info=true\"\n",
       "                    allowfullscreen=\"true\" webkitallowfullscreen=\"true\" mozallowfullscreen=\"true\"\n",
       "                    oallowfullscreen=\"true\" msallowfullscreen=\"true\"\n",
       "                    style=\"width:100%; height:500px; border: 1px solid #DDD\">\n",
       "            </iframe>\n",
       "        \n",
       "            <script>\n",
       "                $(\"#1b8ca4b2-2be5-463d-bd29-c7c2bb307acc\").bind('mousewheel', function(e) {\n",
       "                e.preventDefault();\n",
       "                });\n",
       "            </script>\n",
       "        "
      ],
      "text/plain": [
       "<IPython.core.display.HTML object>"
      ]
     },
     "execution_count": 2,
     "metadata": {},
     "output_type": "execute_result"
    }
   ],
   "source": [
    "g = graphistry.cypher(\"\"\"\n",
    "MATCH p=(a:Author)-[:COAUTHOR]-(:Author)-[:COAUTHOR]-(:Author)\n",
    "WHERE a.name = \"Raja Srinivas\"\n",
    "RETURN p\n",
    "  \"\"\", \n",
    "  {})\n",
    "g = g.bind(edge_weight='strength', point_label='name') \n",
    "g.plot()"
   ]
  },
  {
   "cell_type": "markdown",
   "metadata": {},
   "source": [
    "# Journal Coauthorship Communities"
   ]
  },
  {
   "cell_type": "code",
   "execution_count": 2,
   "metadata": {},
   "outputs": [],
   "source": [
    "top_5 = ['Cell', 'Nature', 'Nature Biotechnology',\n",
    "            'Proceedings of the National Academy of Sciences of the United States of America',\n",
    "            'Science']\n",
    " \n",
    "top_10 = ['Cell', 'Nature', 'Nature Biotechnology',\n",
    "           'Proceedings of the National Academy of Sciences of the United States of America',\n",
    "           'Science', 'Journal of the American Chemical Society', 'JAMA', \n",
    "           'The New England Journal of Medicine', 'Nature Genetics', 'Neuron']\n",
    " \n",
    "top_42 = ['Angewandte Chemie','Blood','Cancer Cell','Cancer Discovery','Cancer Research',\n",
    "          'Cell','Cell Host & Microbe','Cell Metabolism','Cell Stem Cell','Chemistry & Biology',\n",
    "          'The EMBO Journal','Genes & Development','Immunity','Journal of Neurology',\n",
    "          'Journal of the American Chemical Society','JAMA','Journal of Biological Chemistry',\n",
    "          'Journal of Cell Biology','Journal of Clinical Investigation','Journal of Experimental Medicine',\n",
    "          'Journal of Medicinal Chemistry','The Lancet','Nature Cell Biology','Nature Chemical Biology',\n",
    "          'Nature Chemistry','Nature Medicine','Nature Methods','Nature','Nature Biotechnology',\n",
    "          'The New England Journal of Medicine','Neuron','Nature Genetics','Nature Immunology',\n",
    "          'Nature Neuroscience','Nature Structural & Molecular Biology','PLOS Biology','PLOS Genetics',\n",
    "          'PLOS Pathogens','Proceedings of the National Academy of Sciences of the United States of America',\n",
    "          'Science Signaling','Science Translational Medicine','Science']"
   ]
  },
  {
   "cell_type": "code",
   "execution_count": 14,
   "metadata": {
    "scrolled": false
   },
   "outputs": [
    {
     "data": {
      "text/html": [
       "\n",
       "            <iframe id=\"aa914f26-0003-48b2-878c-845b5c08851f\" src=\"https://labs.graphistry.com/graph/graph.html?dataset=PyGraphistry/KWZVM673LT&type=vgraph&viztoken=dd2927f9be8849b8adf89a7e393a9e1c73083f11&usertag=b601e14b-pygraphistry-0.9.62&splashAfter=1551125944&info=true\"\n",
       "                    allowfullscreen=\"true\" webkitallowfullscreen=\"true\" mozallowfullscreen=\"true\"\n",
       "                    oallowfullscreen=\"true\" msallowfullscreen=\"true\"\n",
       "                    style=\"width:100%; height:500px; border: 1px solid #DDD\">\n",
       "            </iframe>\n",
       "        \n",
       "            <script>\n",
       "                $(\"#aa914f26-0003-48b2-878c-845b5c08851f\").bind('mousewheel', function(e) {\n",
       "                e.preventDefault();\n",
       "                });\n",
       "            </script>\n",
       "        "
      ],
      "text/plain": [
       "<IPython.core.display.HTML object>"
      ]
     },
     "execution_count": 14,
     "metadata": {},
     "output_type": "execute_result"
    }
   ],
   "source": [
    "venues = top_42\n",
    "min_pubs = 10\n",
    "min_cowritten = 5\n",
    "\n",
    "g = graphistry.cypher(\"\"\"\n",
    "MATCH (a:Author)-[r:AUTHORED]->(q:Quanta)\n",
    "WHERE q.venue in {}\n",
    "WITH a, count(q) as num_publications\n",
    "WHERE num_publications > {}\n",
    "WITH apoc.coll.toSet(COLLECT(a)) AS author_list\n",
    "MATCH p=(m:Author)-[c:COAUTHOR]->(n:Author)\n",
    "WHERE (m IN author_list) AND (n IN author_list) AND (m.name>n.name) AND (c.strength42 > {})\n",
    "RETURN p\"\"\".format(venues, min_pubs, min_cowritten), {})\n",
    "\n",
    "g = g.bind(edge_weight='strength42', point_label='name', edge_color='strength42') \n",
    "g.plot()"
   ]
  },
  {
   "cell_type": "code",
   "execution_count": null,
   "metadata": {
    "collapsed": true
   },
   "outputs": [],
   "source": []
  }
 ],
 "metadata": {
  "kernelspec": {
   "display_name": "Python 3",
   "language": "python",
   "name": "python3"
  },
  "language_info": {
   "codemirror_mode": {
    "name": "ipython",
    "version": 3
   },
   "file_extension": ".py",
   "mimetype": "text/x-python",
   "name": "python",
   "nbconvert_exporter": "python",
   "pygments_lexer": "ipython3",
   "version": "3.6.7"
  }
 },
 "nbformat": 4,
 "nbformat_minor": 2
}
