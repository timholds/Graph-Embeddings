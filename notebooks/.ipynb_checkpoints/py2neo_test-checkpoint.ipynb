{
 "cells": [
  {
   "cell_type": "code",
   "execution_count": 1,
   "metadata": {},
   "outputs": [
    {
     "name": "stdout",
     "output_type": "stream",
     "text": [
      "test\n"
     ]
    }
   ],
   "source": [
    "print(\"test\")"
   ]
  },
  {
   "cell_type": "code",
   "execution_count": 2,
   "metadata": {},
   "outputs": [
    {
     "name": "stdout",
     "output_type": "stream",
     "text": [
      "Collecting py2neo\n",
      "  Downloading https://files.pythonhosted.org/packages/cd/79/a77cc0ad86c021c25dac9f52a0cd33f6832c6af7fa5e58f4438d781ae9c3/py2neo-4.0.0.tar.gz (70kB)\n",
      "\u001b[K    100% |████████████████████████████████| 71kB 2.8MB/s ta 0:00:011\n",
      "\u001b[?25hCollecting click>=2.0 (from py2neo)\n",
      "  Downloading https://files.pythonhosted.org/packages/34/c1/8806f99713ddb993c5366c362b2f908f18269f8d792aff1abfd700775a77/click-6.7-py2.py3-none-any.whl (71kB)\n",
      "\u001b[K    100% |████████████████████████████████| 71kB 3.3MB/s ta 0:00:011\n",
      "\u001b[?25hCollecting colorama (from py2neo)\n",
      "  Downloading https://files.pythonhosted.org/packages/db/c8/7dcf9dbcb22429512708fe3a547f8b6101c0d02137acbd892505aee57adf/colorama-0.3.9-py2.py3-none-any.whl\n",
      "Collecting neo4j-driver>=1.6.0 (from py2neo)\n",
      "  Downloading https://files.pythonhosted.org/packages/3e/b3/48ad1fabc03e0504b3370c52652d1e8d94c3e787359babfdd3611d0ca112/neo4j-driver-1.6.0.tar.gz (190kB)\n",
      "\u001b[K    100% |████████████████████████████████| 194kB 2.3MB/s ta 0:00:01\n",
      "\u001b[?25hRequirement already satisfied: prompt_toolkit==1.0.15 in /opt/conda/lib/python3.6/site-packages (from py2neo)\n",
      "Requirement already satisfied: pygments>=2.0 in /opt/conda/lib/python3.6/site-packages (from py2neo)\n",
      "Collecting pytest (from py2neo)\n",
      "  Downloading https://files.pythonhosted.org/packages/d3/75/e79b66c9fe6166a90004bb8fb02bab06213c3348e93f3be41d7eaf625554/pytest-3.6.1-py2.py3-none-any.whl (194kB)\n",
      "\u001b[K    100% |████████████████████████████████| 194kB 2.5MB/s ta 0:00:011\n",
      "\u001b[?25hRequirement already satisfied: urllib3[secure] in /opt/conda/lib/python3.6/site-packages (from py2neo)\n",
      "Collecting neotime==1.0.0 (from neo4j-driver>=1.6.0->py2neo)\n",
      "  Downloading https://files.pythonhosted.org/packages/fe/0c/9ca123125fb3cda9281f30e90b493e8ae3bb9bf6965bb7f275713fa02dd2/neotime-1.0.0.tar.gz\n",
      "Requirement already satisfied: six>=1.9.0 in /opt/conda/lib/python3.6/site-packages (from prompt_toolkit==1.0.15->py2neo)\n",
      "Requirement already satisfied: wcwidth in /opt/conda/lib/python3.6/site-packages (from prompt_toolkit==1.0.15->py2neo)\n",
      "Collecting atomicwrites>=1.0 (from pytest->py2neo)\n",
      "  Downloading https://files.pythonhosted.org/packages/0a/e8/cd6375e7a59664eeea9e1c77a766eeac0fc3083bb958c2b41ec46b95f29c/atomicwrites-1.1.5-py2.py3-none-any.whl\n",
      "Collecting attrs>=17.4.0 (from pytest->py2neo)\n",
      "  Downloading https://files.pythonhosted.org/packages/41/59/cedf87e91ed541be7957c501a92102f9cc6363c623a7666d69d51c78ac5b/attrs-18.1.0-py2.py3-none-any.whl\n",
      "Collecting pluggy<0.7,>=0.5 (from pytest->py2neo)\n",
      "  Downloading https://files.pythonhosted.org/packages/ba/65/ded3bc40bbf8d887f262f150fbe1ae6637765b5c9534bd55690ed2c0b0f7/pluggy-0.6.0-py3-none-any.whl\n",
      "Collecting more-itertools>=4.0.0 (from pytest->py2neo)\n",
      "  Downloading https://files.pythonhosted.org/packages/85/40/90c3b0393e12b9827381004224de8814686e3d7182f9d4182477f600826d/more_itertools-4.2.0-py3-none-any.whl (45kB)\n",
      "\u001b[K    100% |████████████████████████████████| 51kB 3.9MB/s eta 0:00:01\n",
      "\u001b[?25hRequirement already satisfied: setuptools in /opt/conda/lib/python3.6/site-packages (from pytest->py2neo)\n",
      "Collecting py>=1.5.0 (from pytest->py2neo)\n",
      "  Downloading https://files.pythonhosted.org/packages/67/a5/f77982214dd4c8fd104b066f249adea2c49e25e8703d284382eb5e9ab35a/py-1.5.3-py2.py3-none-any.whl (84kB)\n",
      "\u001b[K    100% |████████████████████████████████| 92kB 4.7MB/s eta 0:00:01\n",
      "\u001b[?25hRequirement already satisfied: pyOpenSSL>=0.14 in /opt/conda/lib/python3.6/site-packages (from urllib3[secure]->py2neo)\n",
      "Requirement already satisfied: cryptography>=1.3.4 in /opt/conda/lib/python3.6/site-packages (from urllib3[secure]->py2neo)\n",
      "Requirement already satisfied: idna>=2.0.0 in /opt/conda/lib/python3.6/site-packages (from urllib3[secure]->py2neo)\n",
      "Requirement already satisfied: certifi in /opt/conda/lib/python3.6/site-packages (from urllib3[secure]->py2neo)\n",
      "Collecting ipaddress (from urllib3[secure]->py2neo)\n",
      "  Downloading https://files.pythonhosted.org/packages/fc/d0/7fc3a811e011d4b388be48a0e381db8d990042df54aa4ef4599a31d39853/ipaddress-1.0.22-py2.py3-none-any.whl\n",
      "Requirement already satisfied: pytz in /opt/conda/lib/python3.6/site-packages (from neotime==1.0.0->neo4j-driver>=1.6.0->py2neo)\n",
      "Requirement already satisfied: asn1crypto>=0.21.0 in /opt/conda/lib/python3.6/site-packages (from cryptography>=1.3.4->urllib3[secure]->py2neo)\n",
      "Requirement already satisfied: cffi>=1.7 in /opt/conda/lib/python3.6/site-packages (from cryptography>=1.3.4->urllib3[secure]->py2neo)\n",
      "Requirement already satisfied: pycparser in /opt/conda/lib/python3.6/site-packages (from cffi>=1.7->cryptography>=1.3.4->urllib3[secure]->py2neo)\n",
      "Building wheels for collected packages: py2neo, neo4j-driver, neotime\n",
      "  Running setup.py bdist_wheel for py2neo ... \u001b[?25ldone\n",
      "\u001b[?25h  Stored in directory: /home/jovyan/.cache/pip/wheels/e1/16/4b/ba80a6937e892bd69e010a7c80ccb1e545f91556301cd74799\n",
      "  Running setup.py bdist_wheel for neo4j-driver ... \u001b[?25ldone\n",
      "\u001b[?25h  Stored in directory: /home/jovyan/.cache/pip/wheels/5e/80/6c/38ec78c1e9869e2116ad012ae3cb38bb74521855749e980a7c\n",
      "  Running setup.py bdist_wheel for neotime ... \u001b[?25ldone\n",
      "\u001b[?25h  Stored in directory: /home/jovyan/.cache/pip/wheels/19/1c/63/e1777cae4998cb32c5ae5bb1901def45cc94de3abff4d7053d\n",
      "Successfully built py2neo neo4j-driver neotime\n",
      "Installing collected packages: click, colorama, neotime, neo4j-driver, atomicwrites, attrs, pluggy, more-itertools, py, pytest, py2neo, ipaddress\n",
      "Successfully installed atomicwrites-1.1.5 attrs-18.1.0 click-6.7 colorama-0.3.9 ipaddress-1.0.22 more-itertools-4.2.0 neo4j-driver-1.6.0 neotime-1.0.0 pluggy-0.6.0 py-1.5.3 py2neo-4.0.0 pytest-3.6.1\n",
      "\u001b[33mYou are using pip version 9.0.3, however version 10.0.1 is available.\n",
      "You should consider upgrading via the 'pip install --upgrade pip' command.\u001b[0m\n"
     ]
    }
   ],
   "source": [
    "!pip install py2neo"
   ]
  },
  {
   "cell_type": "code",
   "execution_count": 24,
   "metadata": {},
   "outputs": [],
   "source": [
    "from py2neo import Graph\n",
    "graph = Graph(\"bolt://neo4j:7687\")\n",
    "graph.delete_all()\n"
   ]
  },
  {
   "cell_type": "code",
   "execution_count": 36,
   "metadata": {},
   "outputs": [],
   "source": [
    "from py2neo.data import Node, Relationship\n",
    "\n",
    "nicole = Node(\"Person\", name=\"Nicole\", age=24)\n",
    "drew = Node(\"Person\", name=\"Drew\", age=20)\n",
    "\n",
    "mtdew = Node(\"Drink\", name=\"Mountain Dew\", calories=9000)\n",
    "cokezero = Node(\"Drink\", name=\"Coke Zero\", calories=0)\n",
    "\n",
    "coke = Node(\"Manufacturer\", name=\"Coca Cola\")\n",
    "pepsi = Node(\"Manufacturer\", name=\"Pepsi\")\n",
    "\n",
    "graph.create(nicole | drew | mtdew | cokezero | coke | pepsi)"
   ]
  },
  {
   "cell_type": "code",
   "execution_count": 45,
   "metadata": {},
   "outputs": [],
   "source": [
    "graph.create(Relationship(nicole, \"LIKES\", cokezero))\n",
    "graph.create(Relationship(nicole, \"LIKES\", mtdew))\n",
    "graph.create(Relationship(drew, \"LIKES\", mtdew))\n",
    "graph.create(Relationship(coke, \"MAKES\", cokezero))\n",
    "graph.create(Relationship(pepsi, \"MAKES\", mtdew))"
   ]
  },
  {
   "cell_type": "code",
   "execution_count": 50,
   "metadata": {},
   "outputs": [
    {
     "name": "stdout",
     "output_type": "stream",
     "text": [
      "Collecting jgraph\n",
      "  Downloading https://files.pythonhosted.org/packages/f0/31/b15d3d9407db73a2227fe19fc684b66859ed30f67606b397fa9dabd804b3/jgraph-0.2.1-py2.py3-none-any.whl (119kB)\n",
      "\u001b[K    100% |████████████████████████████████| 122kB 3.0MB/s ta 0:00:01\n",
      "\u001b[?25hRequirement already satisfied: ipython in /opt/conda/lib/python3.6/site-packages (from jgraph)\n",
      "Requirement already satisfied: setuptools>=18.5 in /opt/conda/lib/python3.6/site-packages (from ipython->jgraph)\n",
      "Requirement already satisfied: jedi>=0.10 in /opt/conda/lib/python3.6/site-packages (from ipython->jgraph)\n",
      "Requirement already satisfied: decorator in /opt/conda/lib/python3.6/site-packages (from ipython->jgraph)\n",
      "Requirement already satisfied: pickleshare in /opt/conda/lib/python3.6/site-packages (from ipython->jgraph)\n",
      "Requirement already satisfied: simplegeneric>0.8 in /opt/conda/lib/python3.6/site-packages (from ipython->jgraph)\n",
      "Requirement already satisfied: traitlets>=4.2 in /opt/conda/lib/python3.6/site-packages (from ipython->jgraph)\n",
      "Requirement already satisfied: prompt_toolkit<2.0.0,>=1.0.15 in /opt/conda/lib/python3.6/site-packages (from ipython->jgraph)\n",
      "Requirement already satisfied: pygments in /opt/conda/lib/python3.6/site-packages (from ipython->jgraph)\n",
      "Requirement already satisfied: backcall in /opt/conda/lib/python3.6/site-packages (from ipython->jgraph)\n",
      "Requirement already satisfied: pexpect in /opt/conda/lib/python3.6/site-packages (from ipython->jgraph)\n",
      "Requirement already satisfied: parso>=0.2.0 in /opt/conda/lib/python3.6/site-packages (from jedi>=0.10->ipython->jgraph)\n",
      "Requirement already satisfied: ipython-genutils in /opt/conda/lib/python3.6/site-packages (from traitlets>=4.2->ipython->jgraph)\n",
      "Requirement already satisfied: six in /opt/conda/lib/python3.6/site-packages (from traitlets>=4.2->ipython->jgraph)\n",
      "Requirement already satisfied: wcwidth in /opt/conda/lib/python3.6/site-packages (from prompt_toolkit<2.0.0,>=1.0.15->ipython->jgraph)\n",
      "Requirement already satisfied: ptyprocess>=0.5 in /opt/conda/lib/python3.6/site-packages (from pexpect->ipython->jgraph)\n",
      "Installing collected packages: jgraph\n",
      "Successfully installed jgraph-0.2.1\n",
      "\u001b[33mYou are using pip version 9.0.3, however version 10.0.1 is available.\n",
      "You should consider upgrading via the 'pip install --upgrade pip' command.\u001b[0m\n"
     ]
    }
   ],
   "source": [
    "!pip install jgraph"
   ]
  },
  {
   "cell_type": "code",
   "execution_count": 53,
   "metadata": {},
   "outputs": [
    {
     "data": {
      "text/html": [
       "<div id=\"graph-c3148692-947e-4aaa-b9d6-372d885eb1ad\"></div>\n",
       "           <script type=\"text/javascript\">\n",
       "           require.config({baseUrl: '/',\n",
       "                             paths: {jgraph: ['nbextensions/jgraph.min', 'https://rawgit.com/patrickfuller/jgraph/master/js/build/jgraph.min']}});\n",
       "           require(['jgraph'], function () {\n",
       "               var $d = $('#graph-c3148692-947e-4aaa-b9d6-372d885eb1ad');\n",
       "               $d.width(600); $d.height(400);\n",
       "               $d.jgraph = jQuery.extend({}, jgraph);\n",
       "               $d.jgraph.create($d, {nodeSize: 2.000000,\n",
       "                                     edgeSize: 0.250000,\n",
       "                                     defaultNodeColor: '0x5bc0de',\n",
       "                                     defaultEdgeColor: '0xaaaaaa',\n",
       "                                     shader: 'basic',\n",
       "                                     z: 100,\n",
       "                                     runOptimization: true,\n",
       "                                     directed: true,\n",
       "                                     showSave: false});\n",
       "               $d.jgraph.draw({\n",
       "    \"edges\": [\n",
       "        { \"source\": 0, \"target\": 20 },\n",
       "        { \"source\": 0, \"target\": 21 },\n",
       "        { \"source\": 41, \"target\": 43 },\n",
       "        { \"source\": 39, \"target\": 43 },\n",
       "        { \"source\": 42, \"target\": 44 },\n",
       "        { \"source\": 40, \"target\": 44 },\n",
       "        { \"source\": 39, \"target\": 44 }\n",
       "    ],\n",
       "    \"nodes\": {\n",
       "        \"0\": { \"location\": [ -2.0, -2.0, -2.0 ] },\n",
       "        \"20\": { \"location\": [ -2.0, -2.0, -2.0 ] },\n",
       "        \"21\": { \"location\": [ -2.0, -1.6939359619496082, -2.0 ] },\n",
       "        \"39\": { \"location\": [ -1.717128909053536, -1.08238209534699, -0.9745995785176347 ] },\n",
       "        \"40\": { \"location\": [ 0.48976508039502853, 0.18040028853682177, -0.1835216752595532 ] },\n",
       "        \"41\": { \"location\": [ 1.5648067946848991, 1.484749098110842, 1.331190517814479 ] },\n",
       "        \"42\": { \"location\": [ 2.0, 1.4507409157819506, 2.0 ] },\n",
       "        \"43\": { \"location\": [ 2.0, 2.0, 2.0 ] },\n",
       "        \"44\": { \"location\": [ 2.0, 2.0, 2.0 ] }\n",
       "    }\n",
       "});\n",
       "\n",
       "               $d.resizable({\n",
       "                   aspectRatio: 600 / 400,\n",
       "                   resize: function (evt, ui) {\n",
       "                       $d.jgraph.renderer.setSize(ui.size.width,\n",
       "                                                  ui.size.height);\n",
       "                   }\n",
       "               });\n",
       "           });\n",
       "           </script>"
      ],
      "text/plain": [
       "<IPython.core.display.HTML object>"
      ]
     },
     "metadata": {},
     "output_type": "display_data"
    }
   ],
   "source": [
    "import jgraph\n",
    "data = graph.run(\"MATCH (n)-->(m) RETURN ID(n), ID(m)\")\n",
    "data = [tuple(x) for x in data]\n",
    "jgraph.draw(data)"
   ]
  },
  {
   "cell_type": "code",
   "execution_count": null,
   "metadata": {},
   "outputs": [],
   "source": []
  }
 ],
 "metadata": {
  "kernelspec": {
   "display_name": "Python 3",
   "language": "python",
   "name": "python3"
  },
  "language_info": {
   "codemirror_mode": {
    "name": "ipython",
    "version": 3
   },
   "file_extension": ".py",
   "mimetype": "text/x-python",
   "name": "python",
   "nbconvert_exporter": "python",
   "pygments_lexer": "ipython3",
   "version": "3.6.5"
  }
 },
 "nbformat": 4,
 "nbformat_minor": 2
}
