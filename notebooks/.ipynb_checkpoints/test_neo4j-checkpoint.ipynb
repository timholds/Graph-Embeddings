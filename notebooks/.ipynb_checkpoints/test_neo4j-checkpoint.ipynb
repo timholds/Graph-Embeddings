{
 "cells": [
  {
   "cell_type": "code",
   "execution_count": null,
   "metadata": {},
   "outputs": [],
   "source": [
    "from neo4jrestclient.client import GraphDatabase\n",
    "db = GraphDatabase(\"http://matlaber5.media.mit.edu:7474\")"
   ]
  },
  {
   "cell_type": "code",
   "execution_count": null,
   "metadata": {},
   "outputs": [],
   "source": [
    "# Create some nodes with labels\n",
    "user = db.labels.create(\"User\")\n",
    "u1 = db.nodes.create(name=\"Marco\")\n",
    "user.add(u1)\n",
    "u2 = db.nodes.create(name=\"Daniela\")\n",
    "user.add(u2)\n",
    " \n",
    "beer = db.labels.create(\"Beer\")\n",
    "b1 = db.nodes.create(name=\"Punk IPA\")\n",
    "b2 = db.nodes.create(name=\"Hoegaarden Rosee\")\n",
    "# You can associate a label with many nodes in one go\n",
    "beer.add(b1, b2)"
   ]
  }
 ],
 "metadata": {
  "kernelspec": {
   "display_name": "Python 3",
   "language": "python",
   "name": "python3"
  },
  "language_info": {
   "codemirror_mode": {
    "name": "ipython",
    "version": 3
   },
   "file_extension": ".py",
   "mimetype": "text/x-python",
   "name": "python",
   "nbconvert_exporter": "python",
   "pygments_lexer": "ipython3",
   "version": "3.6.5"
  }
 },
 "nbformat": 4,
 "nbformat_minor": 2
}
