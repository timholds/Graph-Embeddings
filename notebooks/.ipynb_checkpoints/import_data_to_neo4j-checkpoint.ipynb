{
 "cells": [
  {
   "cell_type": "code",
   "execution_count": 7,
   "metadata": {},
   "outputs": [
    {
     "name": "stdout",
     "output_type": "stream",
     "text": [
      "Connected to graph database with 1,000,000 nodes and 443 relationships!\n"
     ]
    }
   ],
   "source": [
    "import json\n",
    "from py2neo import Graph\n",
    "from py2neo.data import Node, Relationship\n",
    "\n",
    "# Need to get authentication working, currently NEO4J_AUTH=none\n",
    "graph = Graph(\"bolt://neo4j:7687\")\n",
    "\n",
    "#graph.delete_all()\n",
    "\n",
    "n_nodes = graph.database.primitive_counts['NumberOfNodeIdsInUse']\n",
    "n_relationships = graph.database.primitive_counts['NumberOfRelationshipIdsInUse']\n",
    "print(\"Connected to graph database with {:,} nodes and {:,} relationships!\".format\n",
    "     (n_nodes, n_relationships))"
   ]
  },
  {
   "cell_type": "code",
   "execution_count": 3,
   "metadata": {},
   "outputs": [
    {
     "name": "stdout",
     "output_type": "stream",
     "text": [
      "Creating uniqueness constraint (and also index) on Quanta id's... Done.\n"
     ]
    }
   ],
   "source": [
    "# Constrain one id per Quanta\n",
    "print(\"Creating uniqueness constraint (and also index) on Quanta id's...\", end=\" \", flush=True)\n",
    "query = \"\"\"CREATE CONSTRAINT ON (n:Quanta) ASSERT n.id IS UNIQUE;\"\"\"\n",
    "graph.run(query).evaluate()\n",
    "print(\"Done.\")"
   ]
  },
  {
   "cell_type": "code",
   "execution_count": 5,
   "metadata": {},
   "outputs": [
    {
     "name": "stdout",
     "output_type": "stream",
     "text": [
      "Importing mag_papers_0.txt... Done.\n",
      "Importing mag_papers_1.txt... Done.\n",
      "Importing mag_papers_10.txt... Done.\n",
      "Importing mag_papers_11.txt... Done.\n",
      "Importing mag_papers_12.txt... Done.\n",
      "Importing mag_papers_13.txt... Done.\n",
      "Importing mag_papers_14.txt... Done.\n",
      "Importing mag_papers_15.txt... Done.\n",
      "Importing mag_papers_16.txt... Done.\n",
      "Importing mag_papers_17.txt... Done.\n",
      "Importing mag_papers_18.txt... Done.\n",
      "Importing mag_papers_19.txt... Done.\n",
      "Importing mag_papers_2.txt... Done.\n",
      "Importing mag_papers_3.txt... Done.\n",
      "Importing mag_papers_4.txt... Done.\n",
      "Importing mag_papers_5.txt... Done.\n",
      "Importing mag_papers_6.txt... Done.\n",
      "Importing mag_papers_7.txt... Done.\n",
      "Importing mag_papers_8.txt... Done.\n",
      "Importing mag_papers_9.txt... Done.\n"
     ]
    }
   ],
   "source": [
    "# Create nodes \n",
    "\n",
    "# local_data_dir = '/tmp/data/test/'\n",
    "# neo4j_data_dir = '/import/test/'\n",
    "\n",
    "local_data_dir = '/tmp/data/test'\n",
    "neo4j_data_dir = '/import/test'\n",
    "\n",
    "import glob, os\n",
    "for _, _, files in os.walk(local_data_dir):\n",
    "    for file in sorted(files):\n",
    "        if file.endswith('.txt'):\n",
    "            \n",
    "#             # Normal query\n",
    "#             query = \"\"\"\n",
    "#             CALL apoc.load.json(\"file://{}{}\") \n",
    "#             YIELD value AS q\n",
    "#             UNWIND q.id AS id\n",
    "#             MERGE (i:Quanta {{id:q.id}})\n",
    "#             ON CREATE SET i.abstract=q.abstract, i.refs=q.references, i.title=q.title, \n",
    "#                           i.fos=q.fos, i.url=q.url, i.lang=q.lang\n",
    "#         \"\"\".format(neo4j_data_dir, file)\n",
    "            \n",
    "            # Iterative query (more efficient)\n",
    "            print(\"Importing {}...\".format(file), end=\" \", flush=True)\n",
    "            query = \"\"\"\n",
    "            CALL apoc.periodic.iterate(\n",
    "            \"CALL apoc.load.json('file://{}{}') YIELD value AS q UNWIND q.id AS id RETURN q\", \n",
    "            \"MERGE (i:Quanta {{id:q.id}}) ON CREATE SET \n",
    "            i.refs=q.references, i.year=q.year, i.title=q.title, i.fos=q.fos, i.url=q.url, \n",
    "            i.lang=q.lang, i.keywords=q.keywords, i.n_citation=q.n_citation, i.pdf=q.pdf, \n",
    "            i.publisher=q.publisher\",\n",
    "            {{batchSize:50000, iterateList:true, parallel:false}});\n",
    "            \"\"\".format(neo4j_data_dir, file)\n",
    "            #print(query)\n",
    "            #graph.run(query).evaluate()\n",
    "            print(\"Done.\")"
   ]
  },
  {
   "cell_type": "code",
   "execution_count": 6,
   "metadata": {},
   "outputs": [
    {
     "name": "stdout",
     "output_type": "stream",
     "text": [
      "Adding citation relationships... Done.\n"
     ]
    }
   ],
   "source": [
    "# Add all citations as relationships between Quanta\n",
    "\n",
    "# # Simple but slow\n",
    "# query = \"\"\"\n",
    "# MATCH (a:Quanta), (b:Quanta)\n",
    "# WHERE a.id IN b.refs\n",
    "# CREATE (b)-[:CITES]->(a)\n",
    "# \"\"\"\n",
    "\n",
    "# # Faster but more complex (not benchmarked though)\n",
    "# query = \"\"\"\n",
    "# CALL apoc.periodic.iterate(\n",
    "#    \"MATCH (a:Quanta), (a2:Quanta) WHERE a.id IN a2.refs\n",
    "#     WITH a, COLLECT(a2) as b\n",
    "#     RETURN a, b\",\n",
    "#    \"UNWIND b AS a2\n",
    "#     CREATE (a2)-[:CITES]->(a)\",\n",
    "#     {batchSize:5000, parallel:true,iterateList:true}\n",
    "# \"\"\"\n",
    "\n",
    "# # Faster but simple (also not benchmarked)\n",
    "# query = \"\"\"\n",
    "# CALL apoc.periodic.iterate(\n",
    "#    \"MATCH (a:Quanta), (b:Quanta) WHERE ID(a) < ID(b) AND a.id IN b.refs RETURN a, b\",\n",
    "#    \"CREATE (b)-[:CITES]->(a)\",\n",
    "#     {batchSize:10000, parallel:true,iterateList:true});\n",
    "# \"\"\"\n",
    "\n",
    "# # Take advantage of indexing performed by constraints\n",
    "# print(\"Adding citations...\", end=\" \", flush=True)\n",
    "# query = \"\"\"\n",
    "# MATCH (b:Quanta)\n",
    "# UNWIND b.refs AS ref\n",
    "# MATCH (a:Quanta)\n",
    "# WHERE a.id = ref\n",
    "# CREATE (b)-[:CITES]->(a);\n",
    "# \"\"\"\n",
    "\n",
    "# # Take advantage of indexing and also run in batches\n",
    "# query = \"\"\"\n",
    "# CALL apoc.periodic.iterate(\n",
    "# \"MATCH (b:Quanta) \n",
    "#  UNWIND b.refs AS ref \n",
    "#  MATCH (a:Quanta) \n",
    "#  WHERE a.id = ref\n",
    "#  RETURN a, b\",\n",
    "# \"MERGE (b)-[:CITES]->(a)\",\n",
    "#  {batchSize:20000, parallel:false,iterateList:true});\n",
    "# \"\"\"\n",
    "\n",
    "# Fastest: Put more work on thread running in parallel. \n",
    "print(\"Adding citation relationships...\", end=\" \", flush=True)\n",
    "query = \"\"\"\n",
    "CALL apoc.periodic.iterate(\n",
    "\"MATCH (b:Quanta) UNWIND b.refs AS ref RETURN b, ref\",\n",
    "\"MATCH (a:Quanta {id: ref}) CREATE (b)-[:CITES]->(a)\",\n",
    "{batchSize:10000, parallel:false, retries:3})\n",
    "\"\"\"\n",
    "graph.run(query).evaluate()\n",
    "print(\"Done.\")\n"
   ]
  },
  {
   "cell_type": "code",
   "execution_count": 9,
   "metadata": {},
   "outputs": [
    {
     "name": "stdout",
     "output_type": "stream",
     "text": [
      "Created graph database with 10,000,000 nodes and 1,940,000 relationships!\n"
     ]
    }
   ],
   "source": [
    "n_nodes = graph.database.primitive_counts['NumberOfNodeIdsInUse']\n",
    "n_relationships = graph.database.primitive_counts['NumberOfRelationshipIdsInUse']\n",
    "print(\"Created graph database with {:,} nodes and {:,} relationships!\".format\n",
    "     (n_nodes, n_relationships))"
   ]
  },
  {
   "cell_type": "code",
   "execution_count": null,
   "metadata": {},
   "outputs": [],
   "source": []
  }
 ],
 "metadata": {
  "kernelspec": {
   "display_name": "Python 3",
   "language": "python",
   "name": "python3"
  },
  "language_info": {
   "codemirror_mode": {
    "name": "ipython",
    "version": 3
   },
   "file_extension": ".py",
   "mimetype": "text/x-python",
   "name": "python",
   "nbconvert_exporter": "python",
   "pygments_lexer": "ipython3",
   "version": "3.6.5"
  }
 },
 "nbformat": 4,
 "nbformat_minor": 2
}
