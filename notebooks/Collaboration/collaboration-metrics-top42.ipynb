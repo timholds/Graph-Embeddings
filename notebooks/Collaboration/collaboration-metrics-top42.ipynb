{
 "cells": [
  {
   "cell_type": "code",
   "execution_count": 7,
   "metadata": {},
   "outputs": [],
   "source": [
    "import time\n",
    "import json\n",
    "import math\n",
    "import pandas as pd\n",
    "import matplotlib.pyplot as plt\n",
    "from scipy import stats\n",
    "from py2neo import Graph, Node, Relationship\n",
    "%matplotlib inline"
   ]
  },
  {
   "cell_type": "code",
   "execution_count": 8,
   "metadata": {},
   "outputs": [],
   "source": [
    "def query_to_df(query, graph):\n",
    "    print(\"Starting query...\", end=\" \")\n",
    "    query_start_time = time.time()\n",
    "    df = graph.run(query).to_data_frame()\n",
    "    print(\"Done ({:.2f} minutes).\".format((time.time()-query_start_time)/60))\n",
    "    return df"
   ]
  },
  {
   "cell_type": "code",
   "execution_count": 9,
   "metadata": {},
   "outputs": [
    {
     "name": "stdout",
     "output_type": "stream",
     "text": [
      "Connected to graph database with 278,590,931 nodes and 1,844,902,937 relationships!\n"
     ]
    }
   ],
   "source": [
    "graph = Graph( \"bolt://matlaber10.media.mit.edu:7687\", auth=('neo4j','myneo'))\n",
    "print(\"Connected to graph database with {:,} nodes and {:,} relationships!\".format(\n",
    "    graph.database.primitive_counts['NumberOfNodeIdsInUse'], \n",
    "    graph.database.primitive_counts['NumberOfRelationshipIdsInUse']))"
   ]
  },
  {
   "cell_type": "code",
   "execution_count": null,
   "metadata": {},
   "outputs": [],
   "source": [
    "# Augment nodes with pct_last_author\n",
    "query = \"\"\"call apoc.periodic.iterate(\n",
    "\"MATCH (a:Top42Author) RETURN a\",\n",
    "\"MATCH (a)-[r:AUTHORED]->(:Quanta)\n",
    "WITH a, toFloat(SUM(CASE WHEN r.is_last_author THEN 1 ELSE 0 END))/COUNT(r) as pct_last_author\n",
    "SET a.pct_last_author = pct_last_author\", {batchSize:100, parallel:true})\n",
    "\"\"\""
   ]
  },
  {
   "cell_type": "code",
   "execution_count": null,
   "metadata": {},
   "outputs": [],
   "source": [
    "# Augment quanta with num_profs, num_authors\n",
    "query = \"\"\"call apoc.periodic.iterate(\n",
    "    \"MATCH (b:Top42Author)-[:AUTHORED]-(pub:Quanta)\n",
    "    WHERE b.pct_last_author > .25\n",
    "    RETURN pub, COUNT(DISTINCT b) as num_profs\",\n",
    "    \"SET pub.num_profs = num_profs\", {batchSize:1000, parallel:true})\n",
    "    \"\"\"\n",
    "query = \"\"\"call apoc.periodic.iterate(\n",
    "    \"MATCH (b:Top42Author)-[:AUTHORED]-(pub:Quanta)\n",
    "    RETURN pub, COUNT(DISTINCT b) as num_authors\",\n",
    "    \"SET pub.num_authors = num_authors\", {batchSize:1000, parallel:true})\n",
    "    \"\"\""
   ]
  },
  {
   "cell_type": "code",
   "execution_count": null,
   "metadata": {},
   "outputs": [],
   "source": [
    "# All versions of pct_collaborative_pubs for Top42Authors\n",
    "query = \"\"\"\n",
    "MATCH (a:Top42Author)-[:AUTHORED]->(q:Quanta)\n",
    "\tWHERE q.num_profs > 1 AND q.num_authors > 1 \n",
    "    WITH a, \n",
    "        SUM(toFloat(1)/(q.num_profs - 1)) AS collab_linprof,\n",
    "        SUM(toFloat(1)/(sqrt(q.num_profs - 1))) AS collab_sqrtprof,\n",
    "        SUM(toFloat(1)/(sqrt(q.num_authors - 1))) AS collab_sqrtauth,\n",
    "        SUM(toFloat(1)/(q.num_authors - 1)) AS collab_linauth,\n",
    "        SUM(toFloat(1)) AS collab_unweighted\n",
    "    MATCH (a)-[:AUTHORED]-(q:Quanta)\n",
    "    WITH a, COUNT(q) AS num_pubs, collab_linprof, collab_sqrtauth, collab_linauth, collab_unweighted, collab_sqrtprof\n",
    "    RETURN a.name AS name, \n",
    "        num_pubs,\n",
    "        collab_linprof/num_pubs AS pct_collab_linprof,\n",
    "        collab_sqrtprof/num_pubs AS pct_collab_sqrtprof,\n",
    "        collab_unweighted/num_pubs AS pct_collab_unweighted,\n",
    "        collab_sqrtauth/num_pubs AS pct_collab_sqrtauth,\n",
    "        collab_linauth/num_pubs AS pct_collab_linauth\n",
    "    \"\"\"\n",
    "# df = query_to_df(query, graph)\n",
    "# df.to_csv('C:\\\\Users\\\\Brend\\\\Downloads\\\\pct_collaborative_pubs_top42.csv', index = False, encoding = \"UTF-8\")"
   ]
  },
  {
   "cell_type": "code",
   "execution_count": null,
   "metadata": {},
   "outputs": [],
   "source": [
    "#Ratio of cross-cluster and intra-cluster edges to total edges\n",
    "query = \"\"\"\n",
    "MATCH (u:Top42Author)\n",
    "MATCH (u)-[e:COAUTHOR]-(b:Top42Author)\n",
    "WITH u, COUNT(b) AS k_u\n",
    "WITH u, k_u AS den\n",
    "\n",
    "// intracommunity edges\n",
    "OPTIONAL MATCH (u)-[e:COAUTHOR]-(b:Top42Author)\n",
    "WHERE last(b.louvain) = last(u.louvain)\n",
    "WITH den, u, COUNT(b) AS k_intra_u\n",
    "WITH den, u, k_intra_u AS IntraClusterConns, CASE WHEN den=0 THEN 0 ELSE toFloat(k_intra_u)/den END AS IntraClusterRatio\n",
    "WITH den, u, IntraClusterRatio, IntraClusterConns, 1.0 - IntraClusterRatio AS InterClusterRatio\n",
    "\n",
    "RETURN u.name AS name, IntraClusterRatio, InterClusterRatio, den AS TotalConns, IntraClusterConns, den - IntraClusterConns AS InterClusterConns\n",
    "\"\"\"\n",
    "\n",
    "# df_clusters = query_to_df(query, graph)\n",
    "# df_clusters.to_csv('C:\\\\Users\\\\Brend\\\\Downloads\\\\clusters_top42.csv', index = False, encoding = \"UTF-8\")"
   ]
  },
  {
   "cell_type": "code",
   "execution_count": null,
   "metadata": {},
   "outputs": [],
   "source": [
    "query = \"\"\"\n",
    "MATCH (u:Top42Author)\n",
    "MATCH (u)-[e:COAUTHOR]-(b:Top42Author)\n",
    "WITH e.strength AS weight, u, COUNT(b) AS k_u\n",
    "WITH u, toFloat(sum(weight*k_u))/sum(k_u) AS den\n",
    "\n",
    "OPTIONAL MATCH (u)-[e:COAUTHOR]-(b:NatureAuthor)\n",
    "WHERE last(b.louvain) = last(u.louvain)\n",
    "WITH den, u, COUNT(b) AS k_intra_u, CASE WHEN e IS NULL THEN 0 ELSE e.strength END AS weight\n",
    "WITH den, u, CASE WHEN sum(k_intra_u)=0 THEN 0 ELSE toFloat(sum(weight*k_intra_u))/sum(k_intra_u) END AS num\n",
    "WITH den, u, CASE WHEN den=0 THEN 0 ELSE num/den END AS NatureIntraCommunityFocus\n",
    "WITH den, u, NatureIntraCommunityFocus\n",
    "\n",
    "OPTIONAL MATCH (u)-[e:COAUTHOR]-(b:NatureAuthor)\n",
    "WHERE last(b.louvain) <> last(u.louvain)\n",
    "WITH den, u, NatureIntraCommunityFocus, COUNT(b) AS k_inter_u, CASE WHEN e IS NULL THEN 0 ELSE e.strength END AS weight\n",
    "WITH den, u, NatureIntraCommunityFocus, CASE WHEN sum(k_inter_u)=0 THEN 0 ELSE toFloat(sum(weight*k_inter_u))/sum(k_inter_u) END AS num\n",
    "WITH u, NatureIntraCommunityFocus, CASE WHEN den=0 THEN 0 ELSE num/den END AS NatureInterCommunityFocus\n",
    "\n",
    "RETURN u.name AS name, NatureIntraCommunityFocus AS IntraCommunityFocus, NatureInterCommunityFocus AS InterCommunityFocus\n",
    "\"\"\"\n",
    "\n",
    "# df_community_focus = query_to_df(query, graph)\n",
    "# df_community_focus.to_csv('C:\\\\Users\\\\Brend\\\\Downloads\\\\community_focus_top42.csv', index = False, encoding = \"UTF-8\")"
   ]
  },
  {
   "cell_type": "code",
   "execution_count": null,
   "metadata": {},
   "outputs": [],
   "source": [
    "df_clusters = pd.read_csv('C:\\\\Users\\\\Brend\\\\Downloads\\\\clusters_top42.csv', index_col = 'name', encoding = \"UTF-8\")\n",
    "df_pct_collab = pd.read_csv('C:\\\\Users\\\\Brend\\\\Downloads\\\\pct_collaborative_pubs_top42.csv', index_col = 'name', encoding = 'UTF-8')\n",
    "df_author_focus = pd.read_csv('C:\\\\Users\\\\Brend\\\\Downloads\\\\community_focus_top42.csv', index_col = 'name', encoding = 'UTF-8')"
   ]
  },
  {
   "cell_type": "code",
   "execution_count": null,
   "metadata": {},
   "outputs": [],
   "source": [
    "df_metrics = df_pct_collab.join(df_author_focus, how = 'outer')\n",
    "df_metrics = df_metrics.join(df_clusters[['TotalConns', 'InterClusterRatio', 'IntraClusterRatio']], how = 'outer')\n",
    "df_metrics.to_csv('C:\\\\Users\\\\Brend\\\\Downloads\\\\metrics_top42.csv', encoding = \"UTF-8\")"
   ]
  },
  {
   "cell_type": "code",
   "execution_count": null,
   "metadata": {},
   "outputs": [],
   "source": [
    "query = \"\"\"\n",
    "MATCH (a:Top42Author)-[:AUTHORED]->(q:Quanta)\n",
    "WITH a, COUNT(q) AS num_pubs, SUM(q.pageRank_2018) AS tot_rank, MIN(q.pageRank_2018) AS min_rank, MAX(q.pageRank_2018) AS max_rank, percentileCont(q.pageRank_2018, 0.5) AS median_rank \n",
    "RETURN a.name AS name, toFloat(tot_rank)/num_pubs AS avg_PR, min_rank AS min_PR, max_rank AS max_PR, median_rank AS median_PR\n",
    "\"\"\"\n",
    "df_pr = query_to_df(query, graph)\n",
    "\n",
    "query = \"\"\"\n",
    "MATCH (a:Top42Author)-[:AUTHORED]->(q:Quanta)\n",
    "WITH a, COUNT(q) AS num_pubs, SUM(q.articleRank2018) AS tot_rank, MIN(q.articleRank2018) AS min_rank, MAX(q.articleRank2018) AS max_rank, percentileCont(q.articleRank2018, 0.5) AS median_rank \n",
    "RETURN a.name AS name, toFloat(tot_rank)/num_pubs AS avg_AR, min_rank AS min_AR, max_rank AS max_AR, median_rank AS median_AR\n",
    "\"\"\"\n",
    "df_ar = query_to_df(query, graph)\n",
    "\n",
    "df_pr.to_csv('C:\\\\Users\\\\Brend\\\\Downloads\\\\pr_top42.csv', index = False, encoding = \"UTF-8\")\n",
    "df_ar.to_csv('C:\\\\Users\\\\Brend\\\\Downloads\\\\ar_top42.csv', index = False, encoding = \"UTF-8\")"
   ]
  },
  {
   "cell_type": "code",
   "execution_count": null,
   "metadata": {},
   "outputs": [],
   "source": [
    "df_pr = pd.read_csv('C:\\\\Users\\\\Brend\\\\Downloads\\\\pr_top42.csv', index_col = 'name', encoding = \"UTF-8\")\n",
    "df_ar = pd.read_csv('C:\\\\Users\\\\Brend\\\\Downloads\\\\ar_top42.csv', index_col = 'name', encoding = \"UTF-8\")"
   ]
  },
  {
   "cell_type": "code",
   "execution_count": null,
   "metadata": {},
   "outputs": [],
   "source": [
    "df_impact = df_pr.join(df_ar, how = 'outer')\n",
    "df_impact.to_csv('C:\\\\Users\\\\Brend\\\\Downloads\\\\impact_top42.csv', encoding = \"UTF-8\")"
   ]
  },
  {
   "cell_type": "code",
   "execution_count": null,
   "metadata": {},
   "outputs": [],
   "source": [
    "df_metrics = pd.read_csv('C:\\\\Users\\\\Brend\\\\Downloads\\\\metrics_top42.csv', index_col = 'name', encoding = \"UTF-8\")\n",
    "df_impact = pd.read_csv('C:\\\\Users\\\\Brend\\\\Downloads\\\\impact_top42.csv', index_col = 'name', encoding = \"UTF-8\")\n",
    "df_all = df_metrics.join(df_impact, how = 'outer')\n",
    "df_all.to_csv('C:\\\\Users\\\\Brend\\\\Downloads\\\\correlation_top42.csv', encoding = \"UTF-8\")"
   ]
  },
  {
   "cell_type": "markdown",
   "metadata": {},
   "source": [
    "Define  prof after being last author"
   ]
  },
  {
   "cell_type": "code",
   "execution_count": 4,
   "metadata": {},
   "outputs": [
    {
     "name": "stdout",
     "output_type": "stream",
     "text": [
      "Starting query... Done (1.23 minutes).\n"
     ]
    }
   ],
   "source": [
    "# Augment nodes with last_author_yr\n",
    "# TO RUN\n",
    "query = \"\"\"call apoc.periodic.iterate(\n",
    "\"MATCH (a:Top42Author) RETURN a\",\n",
    "\"MATCH (a)-[r:AUTHORED]->(q:Quanta)\n",
    "WHERE r.is_last_author\n",
    "WITH a, min(q.year) AS last_author_yr\n",
    "SET a.last_author_yr = last_author_yr\", {batchSize:100, parallel:true})\n",
    "\"\"\"\n",
    "df = query_to_df(query, graph)"
   ]
  },
  {
   "cell_type": "code",
   "execution_count": 5,
   "metadata": {},
   "outputs": [
    {
     "name": "stdout",
     "output_type": "stream",
     "text": [
      "Starting query... Done (36.90 minutes).\n"
     ]
    }
   ],
   "source": [
    "# Augment quanta with num_profs_v2\n",
    "# TO RUN\n",
    "query = \"\"\"call apoc.periodic.iterate(\n",
    "    \"MATCH (b:Top42Author)-[:AUTHORED]-(pub:Quanta)\n",
    "    WHERE b.last_author_yr <= pub.year\n",
    "    RETURN pub, COUNT(DISTINCT b) as num_profs\",\n",
    "    \"SET pub.num_profs_v2 = num_profs\", {batchSize:1000, parallel:true})\n",
    "    \"\"\"\n",
    "df = query_to_df(query, graph)"
   ]
  },
  {
   "cell_type": "code",
   "execution_count": 6,
   "metadata": {},
   "outputs": [
    {
     "name": "stdout",
     "output_type": "stream",
     "text": [
      "Starting query... Done (23.77 minutes).\n"
     ]
    }
   ],
   "source": [
    "# All versions of pct_collaborative_pubs for Top42Authors\n",
    "# TO RUN\n",
    "query = \"\"\"\n",
    "MATCH (a:Top42Author)-[:AUTHORED]->(q:Quanta)\n",
    "\tWHERE q.num_profs_v2 > 1 AND q.num_authors > 1 \n",
    "    WITH a, \n",
    "        SUM(toFloat(1)/(q.num_profs_v2 - 1)) AS collab_linprof,\n",
    "        SUM(toFloat(1)/(sqrt(q.num_profs_v2 - 1))) AS collab_sqrtprof,\n",
    "        SUM(toFloat(1)/(sqrt(q.num_authors - 1))) AS collab_sqrtauth,\n",
    "        SUM(toFloat(1)/(q.num_authors - 1)) AS collab_linauth,\n",
    "        SUM(toFloat(1)) AS collab_unweighted\n",
    "    MATCH (a)-[:AUTHORED]-(q:Quanta)\n",
    "    WITH a, COUNT(q) AS num_pubs, collab_linprof, collab_sqrtauth, collab_linauth, collab_unweighted, collab_sqrtprof\n",
    "    RETURN a.name AS name, \n",
    "        num_pubs,\n",
    "        collab_linprof/num_pubs AS pct_collab_linprof,\n",
    "        collab_sqrtprof/num_pubs AS pct_collab_sqrtprof,\n",
    "        collab_unweighted/num_pubs AS pct_collab_unweighted,\n",
    "        collab_sqrtauth/num_pubs AS pct_collab_sqrtauth,\n",
    "        collab_linauth/num_pubs AS pct_collab_linauth\n",
    "    \"\"\"\n",
    "df = query_to_df(query, graph)\n",
    "df.to_csv('C:\\\\Users\\\\Brend\\\\Downloads\\\\pct_collaborative_pubs_top42_v2.csv', index = False, encoding = \"UTF-8\")"
   ]
  },
  {
   "cell_type": "markdown",
   "metadata": {},
   "source": [
    "Disruption"
   ]
  },
  {
   "cell_type": "code",
   "execution_count": 10,
   "metadata": {},
   "outputs": [],
   "source": [
    "query = \"\"\"\n",
    "MATCH (q:Quanta)\n",
    "WHERE q.id = \"8b3b810b-50bc-4d27-866a-ed30b22fde6a\"\n",
    "MATCH (q)-[:CITES]->(p:Quanta)\n",
    "WITH q, collect(p) as references\n",
    "MATCH (p2:Quanta)-[:CITES]->(q)\n",
    "WITH q, references, collect(p2) as ij\n",
    "MATCH (p3:Quanta)-[:CITES]->(p4:Quanta)\n",
    "WHERE p4 in references\n",
    "WITH q, references, ij, collect(DISTINCT p3) as jk\n",
    "WITH q, references, ij, jk, [p in ij where p in jk] as j\n",
    "WITH q, references, ij, jk, j, [p in ij where not(p  in j)] as i, [p in jk where not(p in j)] as k\n",
    "RETURN q.id as id,\n",
    "\tsize(references),\n",
    "    size(ij), \n",
    "    size(jk),\n",
    "    size(j),\n",
    "    size(k),\n",
    "    size(i)\n",
    "\"\"\""
   ]
  },
  {
   "cell_type": "code",
   "execution_count": null,
   "metadata": {},
   "outputs": [],
   "source": [
    "query = \"\"\"\n",
    "MATCH (q:Quanta)\n",
    "WHERE q.id = \"8b3b810b-50bc-4d27-866a-ed30b22fde6a\"\n",
    "MATCH (q)-[:CITES]->(p:Quanta)\n",
    "WITH q, collect(p) as references\n",
    "MATCH (p2:Quanta)-[:CITES]->(q)\n",
    "WITH q, references, collect(p2) as ij\n",
    "WITH q, references, ij, \n",
    "    REDUCE(jk = [], x in EXTRACT (p in references | COLLECT(MATCH (p2:Quanta)-[r:CITES]->(p) RETURN p2) | jk UNION x)\n",
    "WITH q, references, ij, jk, [p in ij where p in jk] as j\n",
    "WITH q, references, ij, jk, j, [p in ij where not(p  in j)] as i, [p in jk where not(p in j)] as k\n",
    "RETURN q.id as id,\n",
    "\tsize(references),\n",
    "    size(ij), \n",
    "    size(jk),\n",
    "    size(j),\n",
    "    size(k),\n",
    "    size(i)\n",
    "\"\"\""
   ]
  }
 ],
 "metadata": {
  "kernelspec": {
   "display_name": "Python 3",
   "language": "python",
   "name": "python3"
  },
  "language_info": {
   "codemirror_mode": {
    "name": "ipython",
    "version": 3
   },
   "file_extension": ".py",
   "mimetype": "text/x-python",
   "name": "python",
   "nbconvert_exporter": "python",
   "pygments_lexer": "ipython3",
   "version": "3.6.0"
  }
 },
 "nbformat": 4,
 "nbformat_minor": 2
}
