{
 "cells": [
  {
   "cell_type": "code",
   "execution_count": null,
   "metadata": {},
   "outputs": [],
   "source": [
    "import pandas as pd"
   ]
  },
  {
   "cell_type": "code",
   "execution_count": null,
   "metadata": {},
   "outputs": [],
   "source": [
    "df_all = pd.read_csv('C:\\\\Users\\\\Brend\\\\Downloads\\\\correlation.csv', index_col = 'name', encoding = \"UTF-8\")"
   ]
  },
  {
   "cell_type": "code",
   "execution_count": null,
   "metadata": {},
   "outputs": [],
   "source": [
    "list(df_all.columns)"
   ]
  },
  {
   "cell_type": "code",
   "execution_count": null,
   "metadata": {},
   "outputs": [],
   "source": [
    "print(\"Total: %d authors\" % df_all.shape[0])\n",
    "for i in range(1, 11):\n",
    "    print(\"%d authors with less than %d publications\" % (df_all[df_all['num_pubs'] < i].shape[0], i))"
   ]
  },
  {
   "cell_type": "code",
   "execution_count": null,
   "metadata": {},
   "outputs": [],
   "source": [
    "print(\"Total: %d authors\" % df_all.shape[0])\n",
    "for i in range(1, 11):\n",
    "    print(\"%d authors with less than %d coauthorships\" % (df_all[df_all['TotalConns'] < i].shape[0], i))"
   ]
  },
  {
   "cell_type": "code",
   "execution_count": null,
   "metadata": {},
   "outputs": [],
   "source": [
    "df_trimmed = df_all[df_all['num_pubs'] >= 5]\n",
    "df_trimmed = df_trimmed[df_trimmed['TotalConns'] >= 2]\n",
    "print(\"Remaining after trimming: %d authors\" % df_trimmed.shape[0])"
   ]
  },
  {
   "cell_type": "code",
   "execution_count": null,
   "metadata": {},
   "outputs": [],
   "source": [
    "for col in df_trimmed.columns:\n",
    "    print(\"\\nTop 10 %s\" % str(col))\n",
    "    df_not_null = df_trimmed[pd.notna(df_trimmed[col])]\n",
    "    print(df_not_null[[col]].sort_values(col, ascending = False).head(10))\n",
    "    print(\"\\nBottom 10 %s\" % str(col))\n",
    "    print(df_not_null[[col]].sort_values(col, ascending = True).head(10))"
   ]
  },
  {
   "cell_type": "code",
   "execution_count": null,
   "metadata": {},
   "outputs": [],
   "source": [
    "df_trimmed.loc[['Eric S. Lander', 'Robert Langer', 'Marvin Minsky']]"
   ]
  },
  {
   "cell_type": "code",
   "execution_count": null,
   "metadata": {},
   "outputs": [],
   "source": [
    "df_percentile = df_trimmed.copy()\n",
    "for col in df_trimmed.columns:\n",
    "    percentile_col = df_trimmed[pd.notna(df_trimmed[col])][col]\n",
    "    df_percentile[col+'_%'] = percentile_col.rank(pct=True)\n",
    "df_percentile.loc[['Eric S. Lander', 'Robert Langer', 'Marvin Minsky']][[col for col in df_percentile.columns if '%' in col]]"
   ]
  },
  {
   "cell_type": "code",
   "execution_count": null,
   "metadata": {},
   "outputs": [],
   "source": [
    "from sklearn.preprocessing import StandardScaler\n",
    "df_scaled = df_trimmed.copy()\n",
    "for col in df_trimmed.columns:\n",
    "    ss = StandardScaler()\n",
    "    scaled_col = df_scaled[pd.notna(df_scaled[col])][[col]]\n",
    "    df_scaled[col + '_Zscore'] = ss.fit_transform(scaled_col)\n",
    "df_scaled.loc[['Eric S. Lander', 'Robert Langer', 'Marvin Minsky']][[col for col in df_scaled.columns if 'Zscore' in col]]"
   ]
  },
  {
   "cell_type": "code",
   "execution_count": null,
   "metadata": {},
   "outputs": [],
   "source": []
  }
 ],
 "metadata": {
  "kernelspec": {
   "display_name": "Python 3",
   "language": "python",
   "name": "python3"
  },
  "language_info": {
   "codemirror_mode": {
    "name": "ipython",
    "version": 3
   },
   "file_extension": ".py",
   "mimetype": "text/x-python",
   "name": "python",
   "nbconvert_exporter": "python",
   "pygments_lexer": "ipython3",
   "version": "3.6.0"
  }
 },
 "nbformat": 4,
 "nbformat_minor": 2
}
