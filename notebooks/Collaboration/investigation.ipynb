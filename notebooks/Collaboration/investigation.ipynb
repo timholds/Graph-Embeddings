{
 "cells": [
  {
   "cell_type": "markdown",
   "metadata": {},
   "source": [
    "#### TODOS\n",
    "- Scale distplots with log-log\n",
    "- Scale scatterplots with log-log, z-score\n",
    "- Pairplot\n",
    "- Add new feature that is (pubs with prof) * de-weight / pubs"
   ]
  },
  {
   "cell_type": "code",
   "execution_count": null,
   "metadata": {},
   "outputs": [],
   "source": [
    "import pandas as pd"
   ]
  },
  {
   "cell_type": "code",
   "execution_count": null,
   "metadata": {},
   "outputs": [],
   "source": [
    "df_all = pd.read_csv('C:\\\\Users\\\\Brend\\\\Downloads\\\\correlation.csv', index_col = 'name', encoding = \"UTF-8\")"
   ]
  },
  {
   "cell_type": "code",
   "execution_count": null,
   "metadata": {},
   "outputs": [],
   "source": [
    "print(\"Total: %d authors\" % df_all.shape[0])\n",
    "for i in range(1, 11):\n",
    "    print(\"%d authors with less than %d publications\" % (df_all[df_all['num_pubs'] < i].shape[0], i))"
   ]
  },
  {
   "cell_type": "code",
   "execution_count": null,
   "metadata": {},
   "outputs": [],
   "source": [
    "print(\"Total: %d authors\" % df_all.shape[0])\n",
    "for i in range(1, 11):\n",
    "    print(\"%d authors with less than %d coauthorships\" % (df_all[df_all['TotalConns'] < i].shape[0], i))"
   ]
  },
  {
   "cell_type": "code",
   "execution_count": null,
   "metadata": {},
   "outputs": [],
   "source": [
    "df_trimmed = df_all[df_all['num_pubs'] >= 5]\n",
    "df_trimmed = df_trimmed[df_trimmed['TotalConns'] >= 2]\n",
    "print(\"Remaining after trimming: %d authors\" % df_trimmed.shape[0])"
   ]
  },
  {
   "cell_type": "code",
   "execution_count": null,
   "metadata": {},
   "outputs": [],
   "source": [
    "for col in df_trimmed.columns:\n",
    "    print(\"\\nTop 10 %s\" % str(col))\n",
    "    df_not_null = df_trimmed[pd.notna(df_trimmed[col])]\n",
    "    print(df_not_null[[col]].sort_values(col, ascending = False).head(10))\n",
    "    print(\"\\nBottom 10 %s\" % str(col))\n",
    "    print(df_not_null[[col]].sort_values(col, ascending = True).head(10))"
   ]
  },
  {
   "cell_type": "code",
   "execution_count": null,
   "metadata": {},
   "outputs": [],
   "source": [
    "df_trimmed.loc[['Eric S. Lander', 'Robert Langer', 'Marvin Minsky']]"
   ]
  },
  {
   "cell_type": "code",
   "execution_count": null,
   "metadata": {},
   "outputs": [],
   "source": [
    "df_percentile = df_trimmed.copy()\n",
    "for col in df_trimmed.columns:\n",
    "    percentile_col = df_trimmed[pd.notna(df_trimmed[col])][col]\n",
    "    df_percentile[col+'_%'] = percentile_col.rank(pct=True)\n",
    "df_percentile.loc[['Eric S. Lander', 'Robert Langer', 'Marvin Minsky']][[col for col in df_percentile.columns if '%' in col]]"
   ]
  },
  {
   "cell_type": "code",
   "execution_count": null,
   "metadata": {},
   "outputs": [],
   "source": [
    "from sklearn.preprocessing import StandardScaler\n",
    "df_scaled = df_trimmed.copy()\n",
    "for col in df_trimmed.columns:\n",
    "    ss = StandardScaler()\n",
    "    scaled_col = df_scaled[pd.notna(df_scaled[col])][[col]]\n",
    "    df_scaled[col + '_Zscore'] = ss.fit_transform(scaled_col)\n",
    "df_scaled.loc[['Eric S. Lander', 'Robert Langer', 'Marvin Minsky']][[col for col in df_scaled.columns if 'Zscore' in col]]"
   ]
  },
  {
   "cell_type": "code",
   "execution_count": null,
   "metadata": {},
   "outputs": [],
   "source": [
    "from sklearn.preprocessing import StandardScaler\n",
    "df_scaled = df_trimmed.copy()\n",
    "for col in df_trimmed.columns:\n",
    "    ss = StandardScaler()\n",
    "    scaled_col = df_scaled[pd.notna(df_scaled[col])][[col]]\n",
    "    df_scaled[col + '_Zscore'] = ss.fit_transform(scaled_col)\n",
    "df_zscores = df_scaled[[col for col in df_scaled.columns if 'Zscore' in col]]"
   ]
  },
  {
   "cell_type": "code",
   "execution_count": null,
   "metadata": {},
   "outputs": [],
   "source": [
    "import numpy as np\n",
    "import pandas as pd\n",
    "import seaborn as sns\n",
    "import matplotlib.pyplot as plt\n",
    "from scipy import stats\n",
    "sns.set(color_codes=True)\n",
    "%matplotlib inline"
   ]
  },
  {
   "cell_type": "code",
   "execution_count": null,
   "metadata": {},
   "outputs": [],
   "source": [
    "for col in df_trimmed.columns:\n",
    "    df_not_null = df_trimmed[pd.notna(df_trimmed[col])]\n",
    "    ax = sns.distplot(df_not_null[[col]], kde = False, axlabel = col, bins = 100)\n",
    "    ax.set_yscale('log')\n",
    "    plt.show()"
   ]
  },
  {
   "cell_type": "code",
   "execution_count": null,
   "metadata": {},
   "outputs": [],
   "source": [
    "print(df_zscores.columns)"
   ]
  },
  {
   "cell_type": "code",
   "execution_count": null,
   "metadata": {},
   "outputs": [],
   "source": [
    "collab_columns = list(df_trimmed.columns)[:12]\n",
    "impact_columns = ['median_PR', 'median_AR']\n",
    "\n",
    "for x_col in collab_columns:\n",
    "    for y_col in impact_columns:\n",
    "        g = sns.jointplot(x = x_col+'_Zscore', y = y_col, data = pd.concat([df_zscores[[x_col+'_Zscore']], df_trimmed[[y_col]]], axis = 1), dropna = True)\n",
    "#         g.ax_marg_x.set_xscale('log')\n",
    "        g.ax_marg_y.set_yscale('log')\n",
    "        plt.show()"
   ]
  },
  {
   "cell_type": "code",
   "execution_count": null,
   "metadata": {},
   "outputs": [],
   "source": [
    "collab_columns = ['profs_per_pub_Zscore', 'ratio_pubs_with_prof_Zscore', \n",
    "                  'InterClusterRatio_Zscore', 'IntraClusterRatio_Zscore', \n",
    "                  'IntraCommunityFocus_Zscore','InterCommunityFocus_Zscore']\n",
    "impact_columns = ['median_PR', 'median_AR']\n",
    "df_pairplot = pd.concat([df_zscores[collab_columns], df_trimmed[impact_columns]], axis = 1)\n",
    "g = sns.pairplot(df_pairplot)\n",
    "plt.show()"
   ]
  },
  {
   "cell_type": "code",
   "execution_count": null,
   "metadata": {},
   "outputs": [],
   "source": []
  }
 ],
 "metadata": {
  "kernelspec": {
   "display_name": "Python 3",
   "language": "python",
   "name": "python3"
  },
  "language_info": {
   "codemirror_mode": {
    "name": "ipython",
    "version": 3
   },
   "file_extension": ".py",
   "mimetype": "text/x-python",
   "name": "python",
   "nbconvert_exporter": "python",
   "pygments_lexer": "ipython3",
   "version": "3.6.0"
  }
 },
 "nbformat": 4,
 "nbformat_minor": 2
}
