{
 "cells": [
  {
   "cell_type": "code",
   "execution_count": null,
   "metadata": {},
   "outputs": [],
   "source": [
    "import time\n",
    "import json\n",
    "import math\n",
    "import pandas as pd\n",
    "import matplotlib.pyplot as plt\n",
    "from scipy import stats\n",
    "from py2neo import Graph, Node, Relationship\n",
    "%matplotlib inline\n",
    "\n"
   ]
  },
  {
   "cell_type": "code",
   "execution_count": null,
   "metadata": {},
   "outputs": [],
   "source": [
    "def query_to_df(query, graph):\n",
    "    print(\"Starting query...\", end=\" \")\n",
    "    query_start_time = time.time()\n",
    "    df = graph.run(query).to_data_frame()\n",
    "    print(\"Done ({:.2f} minutes).\".format((time.time()-query_start_time)/60))\n",
    "    return df"
   ]
  },
  {
   "cell_type": "code",
   "execution_count": null,
   "metadata": {},
   "outputs": [],
   "source": [
    "graph = Graph( \"bolt://matlaber10.media.mit.edu:7687\", auth=('neo4j','myneo'))\n",
    "print(\"Connected to graph database with {:,} nodes and {:,} relationships!\".format(\n",
    "    graph.database.primitive_counts['NumberOfNodeIdsInUse'], \n",
    "    graph.database.primitive_counts['NumberOfRelationshipIdsInUse']))"
   ]
  },
  {
   "cell_type": "markdown",
   "metadata": {},
   "source": [
    "#### Community focus"
   ]
  },
  {
   "cell_type": "code",
   "execution_count": null,
   "metadata": {},
   "outputs": [],
   "source": [
    "query = \"\"\"call apoc.export.csv.query(\"\n",
    "\n",
    "// denominator\n",
    "\n",
    "MATCH (u:NatureAuthor)\n",
    "\n",
    "MATCH (u)-[e:COAUTHOR]-(b:NatureAuthor)\n",
    "\n",
    "WITH e.strength AS weight, u, COUNT(b) AS k_u\n",
    "\n",
    "WITH u, toFloat(sum(weight*k_u))/sum(k_u) AS den\n",
    "\n",
    "\n",
    "\n",
    "// intracommunity focus\n",
    "\n",
    "OPTIONAL MATCH (u)-[e:COAUTHOR]-(b:NatureAuthor)\n",
    "\n",
    "WHERE last(b.louvain) = last(u.louvain)\n",
    "\n",
    "WITH den, u, COUNT(b) AS k_intra_u, CASE WHEN e IS NULL THEN 0 ELSE e.strength END AS weight\n",
    "\n",
    "WITH den, u, CASE WHEN sum(k_intra_u)=0 THEN 0 ELSE toFloat(sum(weight*k_intra_u))/sum(k_intra_u) END AS num\n",
    "\n",
    "WITH den, u, CASE WHEN den=0 THEN 0 ELSE num/den END AS NatureIntraCommunityFocus\n",
    "\n",
    "WITH den, u, NatureIntraCommunityFocus\n",
    "\n",
    "\n",
    "\n",
    "// intercommunity focus\n",
    "\n",
    "OPTIONAL MATCH (u)-[e:COAUTHOR]-(b:NatureAuthor)\n",
    "\n",
    "WHERE last(b.louvain) <> last(u.louvain)\n",
    "\n",
    "WITH den, u, NatureIntraCommunityFocus, COUNT(b) AS k_inter_u, CASE WHEN e IS NULL THEN 0 ELSE e.strength END AS weight\n",
    "\n",
    "WITH den, u, NatureIntraCommunityFocus, CASE WHEN sum(k_inter_u)=0 THEN 0 ELSE toFloat(sum(weight*k_inter_u))/sum(k_inter_u) END AS num\n",
    "\n",
    "WITH u, NatureIntraCommunityFocus, CASE WHEN den=0 THEN 0 ELSE num/den END AS NatureInterCommunityFocus\n",
    "\n",
    "\n",
    "\n",
    "RETURN u.name, NatureIntraCommunityFocus, NatureInterCommunityFocus\n",
    "\n",
    "\",\"/import/result/author_focus.csv\",{})\"\"\"\n",
    "\n",
    "df_community_focus = query_to_df(query, graph)"
   ]
  },
  {
   "cell_type": "markdown",
   "metadata": {},
   "source": [
    "#### Professor connections"
   ]
  },
  {
   "cell_type": "code",
   "execution_count": null,
   "metadata": {},
   "outputs": [],
   "source": [
    "#Augment nodes with pct_last_author\n",
    "query = \"\"\"call apoc.periodic.iterate(\n",
    "\"MATCH (a:Top42Author) RETURN a\",\n",
    "\"MATCH (a)-[r:AUTHORED]->(:Quanta)\n",
    "WITH a, toFloat(SUM(CASE WHEN r.is_last_author THEN 1 ELSE 0 END))/COUNT(r) as pct_last_author\n",
    "SET a.pct_last_author = pct_last_author\", {batchSize:100, parallel:true})\n",
    "\"\"\"\n",
    "\n",
    "df_last_author = query_to_df(query, graph)"
   ]
  },
  {
   "cell_type": "code",
   "execution_count": null,
   "metadata": {},
   "outputs": [],
   "source": [
    "query = \"\"\"\n",
    "    MATCH (a:NatureAuthor)-[:AUTHORED]->(q:Quanta)\n",
    "    WITH a, COUNT(q) AS num_pubs\n",
    "    MATCH (a)-[:AUTHORED]-(q:Quanta)-[:AUTHORED]-(b:NatureAuthor)\n",
    "    WHERE b.pct_last_author > .5\n",
    "    WITH a, num_pubs, COUNT(distinct q) as num_coauthored_with_prof\n",
    "    RETURN a.name AS name, num_coauthored_with_prof as num_pubs_with_prof, num_pubs, toFloat(num_coauthored_with_prof)/num_pubs AS ratio_pubs_with_prof\n",
    "\"\"\"\n",
    "profs_per_paper = query_to_df(query, graph)"
   ]
  },
  {
   "cell_type": "code",
   "execution_count": null,
   "metadata": {},
   "outputs": [],
   "source": [
    "profs_per_paper"
   ]
  },
  {
   "cell_type": "code",
   "execution_count": null,
   "metadata": {},
   "outputs": [],
   "source": [
    "profs_per_paper.to_csv('C:\\\\Users\\\\Brend\\\\Downloads\\\\paper.csv', index = False, encoding = \"UTF-8\")"
   ]
  },
  {
   "cell_type": "code",
   "execution_count": null,
   "metadata": {},
   "outputs": [],
   "source": [
    "#Ratio of prof-prof connected papers\n",
    "#WORKING\n",
    "query = \"\"\"\n",
    "MATCH (a:NatureAuthor)-[:AUTHORED]->(q:Quanta)\n",
    "WITH a, COUNT(q) AS num_pubs\n",
    "MATCH (a)-[r:COAUTHOR]-(b:NatureAuthor)\n",
    "WHERE b.pct_last_author > .5\n",
    "WITH a, num_pubs, SUM(r.strength42) as num_coauthored_with_prof\n",
    "RETURN a.name AS name, num_coauthored_with_prof as prof_connections, num_pubs, toFloat(num_coauthored_with_prof)/num_pubs AS coauthor_profs_ratio\"\"\"\n",
    "\n",
    "df_coauthor_profs_ratio = query_to_df(query, graph)"
   ]
  },
  {
   "cell_type": "code",
   "execution_count": null,
   "metadata": {},
   "outputs": [],
   "source": [
    "df_coauthor_papers_ratio.sort_values('coauthor_profs_ratio', ascending=False).tail(10)"
   ]
  },
  {
   "cell_type": "code",
   "execution_count": null,
   "metadata": {},
   "outputs": [],
   "source": [
    "df_coauthor_profs_ratio.to_csv('C:\\\\Users\\\\Brend\\\\Downloads\\\\coauthor_profs_ratio.csv', index = False, encoding = \"UTF-8\")"
   ]
  },
  {
   "cell_type": "markdown",
   "metadata": {},
   "source": [
    "#### Cross-cluster edges"
   ]
  },
  {
   "cell_type": "code",
   "execution_count": null,
   "metadata": {},
   "outputs": [],
   "source": [
    "#Ratio of cross-cluster and intra-cluster edges to total edges\n",
    "#WORKING\n",
    "query = \"\"\"\n",
    "MATCH (u:NatureAuthor)\n",
    "MATCH (u)-[e:COAUTHOR]-(b:NatureAuthor)\n",
    "WITH u, COUNT(b) AS k_u\n",
    "WITH u, k_u AS den\n",
    "\n",
    "// intracommunity edges\n",
    "OPTIONAL MATCH (u)-[e:COAUTHOR]-(b:NatureAuthor)\n",
    "WHERE last(b.louvain) = last(u.louvain)\n",
    "WITH den, u, COUNT(b) AS k_intra_u\n",
    "WITH den, u, k_intra_u AS IntraClusterConns, CASE WHEN den=0 THEN 0 ELSE toFloat(k_intra_u)/den END AS IntraClusterRatio\n",
    "WITH den, u, IntraClusterRatio, IntraClusterConns, 1.0 - IntraClusterRatio AS InterClusterRatio\n",
    "\n",
    "RETURN u.name AS name, IntraClusterRatio, InterClusterRatio, den AS TotalConns, IntraClusterConns, den - IntraClusterConns AS InterClusterConns\n",
    "\"\"\"\n",
    "\n",
    "df_clusters = query_to_df(query, graph)"
   ]
  },
  {
   "cell_type": "code",
   "execution_count": null,
   "metadata": {},
   "outputs": [],
   "source": [
    "df_clusters.head(15)"
   ]
  },
  {
   "cell_type": "code",
   "execution_count": null,
   "metadata": {},
   "outputs": [],
   "source": [
    "df_clusters.to_csv('C:\\\\Users\\\\Brend\\\\Downloads\\\\clusters.csv', index = False, encoding = \"UTF-8\")"
   ]
  },
  {
   "cell_type": "markdown",
   "metadata": {},
   "source": [
    "#### Preparing metrics csv"
   ]
  },
  {
   "cell_type": "code",
   "execution_count": null,
   "metadata": {},
   "outputs": [],
   "source": [
    "df_clusters = pd.read_csv('C:\\\\Users\\\\Brend\\\\Downloads\\\\clusters.csv', index_col = 'name', encoding = \"UTF-8\")"
   ]
  },
  {
   "cell_type": "code",
   "execution_count": null,
   "metadata": {},
   "outputs": [],
   "source": [
    "df_papers = pd.read_csv('C:\\\\Users\\\\Brend\\\\Downloads\\\\papers.csv', index_col = 'name', encoding = \"UTF-8\")"
   ]
  },
  {
   "cell_type": "code",
   "execution_count": null,
   "metadata": {},
   "outputs": [],
   "source": [
    "df_profs = pd.read_csv('C:\\\\Users\\\\Brend\\\\Downloads\\\\profs.csv', index_col = 'name', encoding = 'UTF-8')"
   ]
  },
  {
   "cell_type": "code",
   "execution_count": null,
   "metadata": {},
   "outputs": [],
   "source": [
    "df_pct_collab = pd.read_csv('C:\\\\Users\\\\Brend\\\\Downloads\\\\pct_collaborative_pubs.csv', index_col = 'name', encoding = 'UTF-8')"
   ]
  },
  {
   "cell_type": "code",
   "execution_count": null,
   "metadata": {},
   "outputs": [],
   "source": [
    "df_author_focus = pd.read_csv('C:\\\\Users\\\\Brend\\\\Downloads\\\\author_focus.csv', index_col = 'name', encoding = 'UTF-8')"
   ]
  },
  {
   "cell_type": "code",
   "execution_count": null,
   "metadata": {},
   "outputs": [],
   "source": [
    "df_metrics = df_profs[['num_pubs']].join(df_author_focus, how = 'outer')"
   ]
  },
  {
   "cell_type": "code",
   "execution_count": null,
   "metadata": {},
   "outputs": [],
   "source": [
    "df_metrics = df_metrics.join(df_clusters[['TotalConns', 'InterClusterRatio', 'IntraClusterRatio']], how = 'outer')"
   ]
  },
  {
   "cell_type": "code",
   "execution_count": null,
   "metadata": {},
   "outputs": [],
   "source": [
    "df_metrics = df_metrics.join(df_pct_collab, how = 'outer')"
   ]
  },
  {
   "cell_type": "code",
   "execution_count": null,
   "metadata": {},
   "outputs": [],
   "source": [
    "df_metrics.loc['Marvin Minsky']"
   ]
  },
  {
   "cell_type": "code",
   "execution_count": null,
   "metadata": {},
   "outputs": [],
   "source": [
    "df_metrics.to_csv('C:\\\\Users\\\\Brend\\\\Downloads\\\\metrics.csv', encoding = \"UTF-8\")"
   ]
  },
  {
   "cell_type": "markdown",
   "metadata": {},
   "source": [
    "#### All metrics"
   ]
  },
  {
   "cell_type": "code",
   "execution_count": null,
   "metadata": {},
   "outputs": [],
   "source": [
    "df_metrics = pd.read_csv('C:\\\\Users\\\\Brend\\\\Downloads\\\\metrics.csv', index_col = 'name', encoding = \"UTF-8\")"
   ]
  },
  {
   "cell_type": "code",
   "execution_count": null,
   "metadata": {},
   "outputs": [],
   "source": [
    "import random\n",
    "indices = []\n",
    "for i in range(10):\n",
    "    indices.append(random.randrange(0, df_metrics.shape[0]))\n",
    "df_metrics.iloc[indices]"
   ]
  },
  {
   "cell_type": "markdown",
   "metadata": {},
   "source": [
    "#### Impact"
   ]
  },
  {
   "cell_type": "code",
   "execution_count": null,
   "metadata": {},
   "outputs": [],
   "source": [
    "#    CALL algo.pageRank(\n",
    "#     'MATCH (p:Quanta {venue:\"Nature\"}) RETURN id(p) as id',\n",
    "#     'MATCH (p1:Quanta {venue:\"Nature\"})-[:CITES]->(p2:Quanta {venue:\"Nature\"}) RETURN id(p1) as source, id(p2) as target',\n",
    "#     {graph:'cypher', iterations:35, write:true, writeProperty:\"npr\"});"
   ]
  },
  {
   "cell_type": "code",
   "execution_count": null,
   "metadata": {},
   "outputs": [],
   "source": [
    "query = \"\"\"\n",
    "MATCH (a:NatureAuthor)-[:AUTHORED]->(q:Quanta)\n",
    "WHERE q.venue = 'Nature'\n",
    "WITH a, COUNT(q) AS num_pubs, SUM(q.npr) AS tot_rank, MIN(q.npr) AS min_rank, MAX(q.npr) AS max_rank, percentileCont(q.npr, 0.5) AS median_rank \n",
    "RETURN a.name AS name, num_pubs, toFloat(tot_rank)/num_pubs AS avg_NPR, min_rank AS min_NPR, max_rank AS max_NPR, median_rank AS median_NPR\n",
    "\"\"\"\n",
    "\n",
    "df_npr = query_to_df(query, graph)"
   ]
  },
  {
   "cell_type": "code",
   "execution_count": null,
   "metadata": {},
   "outputs": [],
   "source": [
    "df_npr.head(2)"
   ]
  },
  {
   "cell_type": "code",
   "execution_count": null,
   "metadata": {},
   "outputs": [],
   "source": [
    "query = \"\"\"\n",
    "MATCH (a:NatureAuthor)-[:AUTHORED]->(q:Quanta)\n",
    "WHERE q.venue = 'Nature'\n",
    "WITH a, COUNT(q) AS num_pubs, SUM(q.nar) AS tot_rank, MIN(q.nar) AS min_rank, MAX(q.nar) AS max_rank, percentileCont(q.nar, 0.5) AS median_rank \n",
    "RETURN a.name AS name, num_pubs, toFloat(tot_rank)/num_pubs AS avg_NAR, min_rank AS min_NAR, max_rank AS max_NAR, median_rank AS median_NAR\n",
    "\"\"\"\n",
    "\n",
    "df_nar = query_to_df(query, graph)"
   ]
  },
  {
   "cell_type": "code",
   "execution_count": null,
   "metadata": {},
   "outputs": [],
   "source": [
    "df_nar.head(2)"
   ]
  },
  {
   "cell_type": "code",
   "execution_count": null,
   "metadata": {},
   "outputs": [],
   "source": [
    "df_npr.to_csv('C:\\\\Users\\\\Brend\\\\Downloads\\\\npr.csv', index = False, encoding = \"UTF-8\")\n",
    "df_nar.to_csv('C:\\\\Users\\\\Brend\\\\Downloads\\\\nar.csv', index = False, encoding = \"UTF-8\")"
   ]
  },
  {
   "cell_type": "code",
   "execution_count": null,
   "metadata": {},
   "outputs": [],
   "source": [
    "query = \"\"\"\n",
    "MATCH (a:NatureAuthor)-[:AUTHORED]->(q:Quanta)\n",
    "WHERE q.venue = 'Nature'\n",
    "WITH a, COUNT(q) AS num_pubs, SUM(q.pageRank_2018) AS tot_rank, MIN(q.pageRank_2018) AS min_rank, MAX(q.pageRank_2018) AS max_rank, percentileCont(q.pageRank_2018, 0.5) AS median_rank \n",
    "RETURN a.name AS name, num_pubs, toFloat(tot_rank)/num_pubs AS avg_PR, min_rank AS min_PR, max_rank AS max_PR, median_rank AS median_PR\n",
    "\"\"\"\n",
    "\n",
    "df_pr = query_to_df(query, graph)"
   ]
  },
  {
   "cell_type": "code",
   "execution_count": null,
   "metadata": {},
   "outputs": [],
   "source": [
    "df_pr.head(2)"
   ]
  },
  {
   "cell_type": "code",
   "execution_count": null,
   "metadata": {},
   "outputs": [],
   "source": [
    "query = \"\"\"\n",
    "MATCH (a:NatureAuthor)-[:AUTHORED]->(q:Quanta)\n",
    "WHERE q.venue = 'Nature'\n",
    "WITH a, COUNT(q) AS num_pubs, SUM(q.articleRank2018) AS tot_rank, MIN(q.articleRank2018) AS min_rank, MAX(q.articleRank2018) AS max_rank, percentileCont(q.articleRank2018, 0.5) AS median_rank \n",
    "RETURN a.name AS name, num_pubs, toFloat(tot_rank)/num_pubs AS avg_AR, min_rank AS min_AR, max_rank AS max_AR, median_rank AS median_AR\n",
    "\"\"\"\n",
    "\n",
    "df_ar = query_to_df(query, graph)"
   ]
  },
  {
   "cell_type": "code",
   "execution_count": null,
   "metadata": {},
   "outputs": [],
   "source": [
    "df_ar.head(2)"
   ]
  },
  {
   "cell_type": "code",
   "execution_count": null,
   "metadata": {},
   "outputs": [],
   "source": [
    "df_pr.to_csv('C:\\\\Users\\\\Brend\\\\Downloads\\\\pr.csv', index = False, encoding = \"UTF-8\")\n",
    "df_ar.to_csv('C:\\\\Users\\\\Brend\\\\Downloads\\\\ar.csv', index = False, encoding = \"UTF-8\")"
   ]
  },
  {
   "cell_type": "code",
   "execution_count": null,
   "metadata": {},
   "outputs": [],
   "source": [
    "df_npr = pd.read_csv('C:\\\\Users\\\\Brend\\\\Downloads\\\\npr.csv', index_col = 'name', encoding = \"UTF-8\")\n",
    "df_nar = pd.read_csv('C:\\\\Users\\\\Brend\\\\Downloads\\\\nar.csv', index_col = 'name', encoding = \"UTF-8\")\n",
    "df_pr = pd.read_csv('C:\\\\Users\\\\Brend\\\\Downloads\\\\pr.csv', index_col = 'name', encoding = \"UTF-8\")\n",
    "df_ar = pd.read_csv('C:\\\\Users\\\\Brend\\\\Downloads\\\\ar.csv', index_col = 'name', encoding = \"UTF-8\")"
   ]
  },
  {
   "cell_type": "code",
   "execution_count": null,
   "metadata": {},
   "outputs": [],
   "source": [
    "df_npr = df_npr[[col for col in df_npr.columns if col != 'num_pubs']]\n",
    "df_nar = df_nar[[col for col in df_nar.columns if col != 'num_pubs']]\n",
    "df_pr = df_pr[[col for col in df_pr.columns if col != 'num_pubs']]\n",
    "df_ar = df_ar[[col for col in df_ar.columns if col != 'num_pubs']]"
   ]
  },
  {
   "cell_type": "code",
   "execution_count": null,
   "metadata": {},
   "outputs": [],
   "source": [
    "df_imp = df_npr.join(df_nar, how = 'outer')\n",
    "df_imp = df_imp.join(df_pr, how = 'outer')\n",
    "df_imp = df_imp.join(df_ar, how = 'outer')"
   ]
  },
  {
   "cell_type": "code",
   "execution_count": null,
   "metadata": {},
   "outputs": [],
   "source": [
    "df_imp.to_csv('C:\\\\Users\\\\Brend\\\\Downloads\\\\impact.csv', encoding = \"UTF-8\")"
   ]
  },
  {
   "cell_type": "markdown",
   "metadata": {},
   "source": [
    "#### Collaboration vs Impact"
   ]
  },
  {
   "cell_type": "code",
   "execution_count": null,
   "metadata": {},
   "outputs": [],
   "source": [
    "df_collab = pd.read_csv('C:\\\\Users\\\\Brend\\\\Downloads\\\\metrics.csv', index_col = 'name', encoding = \"UTF-8\")\n",
    "df_impact = pd.read_csv('C:\\\\Users\\\\Brend\\\\Downloads\\\\impact.csv', index_col = 'name', encoding = \"UTF-8\")\n",
    "df_all = df_collab.join(df_impact, how = 'outer')"
   ]
  },
  {
   "cell_type": "code",
   "execution_count": null,
   "metadata": {},
   "outputs": [],
   "source": [
    "df_all.loc"
   ]
  },
  {
   "cell_type": "code",
   "execution_count": null,
   "metadata": {},
   "outputs": [],
   "source": [
    "df_all.to_csv('C:\\\\Users\\\\Brend\\\\Downloads\\\\correlation.csv', encoding = \"UTF-8\")"
   ]
  },
  {
   "cell_type": "code",
   "execution_count": null,
   "metadata": {},
   "outputs": [],
   "source": [
    "df_all[df_all.index == 'Eric S. Lander']"
   ]
  },
  {
   "cell_type": "code",
   "execution_count": null,
   "metadata": {},
   "outputs": [],
   "source": [
    "df_plot = df_all[['profs_per_pub', 'median_AR']]\n",
    "df_plot = df_plot[df_plot['median_AR'] < 50]\n",
    "df_plot = df_plot[df_plot['median_AR'] > .16]\n",
    "df_plot = df_plot[df_plot['profs_per_pub'] > .1]"
   ]
  },
  {
   "cell_type": "code",
   "execution_count": null,
   "metadata": {},
   "outputs": [],
   "source": [
    "import seaborn as sns\n",
    "sns.set()\n",
    "sns.relplot(x=\"profs_per_pub\", y=\"median_AR\",  \n",
    "            data=df_plot);"
   ]
  },
  {
   "cell_type": "markdown",
   "metadata": {},
   "source": [
    "#### Deweighted pct_collaborative_pubs"
   ]
  },
  {
   "cell_type": "code",
   "execution_count": null,
   "metadata": {},
   "outputs": [],
   "source": [
    "# Set num_profs property for Eric Lander's publications\n",
    "query = \"\"\"\n",
    "call apoc.periodic.iterate(\n",
    "    \"MATCH (a:NatureAuthor)-[:AUTHORED]->(q:Quanta)\n",
    "\tWHERE a.name = 'Eric S. Lander'\n",
    "    WITH a, COUNT(q) AS num_pubs, COLLECT(q) AS pubs\n",
    "    UNWIND pubs as pub\n",
    "    MATCH (b:NatureAuthor)-[:AUTHORED]-(pub)\n",
    "    WHERE b.pct_last_author > .25\n",
    "    RETURN pub, COUNT(DISTINCT b.name) as num_profs\",\n",
    "   \" SET pub.num_profs = num_profs\",\n",
    " {batchSize:100, parallel:true})\n",
    "\"\"\""
   ]
  },
  {
   "cell_type": "code",
   "execution_count": null,
   "metadata": {},
   "outputs": [],
   "source": [
    "# Set num_profs property for all publications\n",
    "query = \"\"\"call apoc.periodic.iterate(\n",
    "    \"MATCH (b:NatureAuthor)-[:AUTHORED]-(pub:Quanta)\n",
    "    WHERE b.pct_last_author > .25\n",
    "    RETURN pub, COUNT(DISTINCT b) as num_profs\",\n",
    "    \"SET pub.num_profs = num_profs\", {batchSize:1000, parallel:true})\n",
    "    \"\"\""
   ]
  },
  {
   "cell_type": "code",
   "execution_count": null,
   "metadata": {},
   "outputs": [],
   "source": [
    "# Set num_authors property for all publications\n",
    "query = \"\"\"call apoc.periodic.iterate(\n",
    "    \"MATCH (b:NatureAuthor)-[:AUTHORED]-(pub:Quanta)\n",
    "    RETURN pub, COUNT(DISTINCT b) as num_authors\",\n",
    "    \"SET pub.num_authors = num_authors\", {batchSize:1000, parallel:true})\n",
    "    \"\"\""
   ]
  },
  {
   "cell_type": "markdown",
   "metadata": {},
   "source": [
    "Eric Lander metrics"
   ]
  },
  {
   "cell_type": "code",
   "execution_count": null,
   "metadata": {},
   "outputs": [],
   "source": [
    "# Linear-prof deweight for pct_collaborative_pubs for Eric Lander\n",
    "query = \"\"\"\n",
    "MATCH (a:NatureAuthor)-[:AUTHORED]->(q:Quanta)\n",
    "\tWHERE a.name = 'Eric S. Lander' AND  q.profs > 1\n",
    "    WITH a, SUM(toFloat(1)/(q.num_profs - 1)) AS collab_linprof\n",
    "    MATCH (a)-[:AUTHORED]-(q:Quanta)\n",
    "    WITH a, COUNT(q) AS num_pubs, collab_linprof\n",
    "    RETURN a.name, collab_linprof/num_pubs AS pct_collab_linprof\n",
    "    \"\"\"\n",
    "df = query_to_df(query, graph)\n",
    "df"
   ]
  },
  {
   "cell_type": "code",
   "execution_count": null,
   "metadata": {},
   "outputs": [],
   "source": [
    "# Sqrt-prof deweight for pct_collaborative_pubs for Eric Lander\n",
    "query = \"\"\"\n",
    "MATCH (a:NatureAuthor)-[:AUTHORED]->(q:Quanta)\n",
    "\tWHERE a.name = 'Eric S. Lander' AND  q.num_profs > 1\n",
    "    WITH a, SUM(toFloat(1)/(sqrt(q.num_profs - 1))) AS collab_sqrtprof\n",
    "    MATCH (a)-[:AUTHORED]-(q:Quanta)\n",
    "    WITH a, COUNT(q) AS num_pubs, collab_sqrtprof\n",
    "    RETURN a.name, collab_sqrtprof/num_pubs AS pct_collab_sqrtprof\n",
    "    \"\"\"\n",
    "df = query_to_df(query, graph)\n",
    "df"
   ]
  },
  {
   "cell_type": "code",
   "execution_count": null,
   "metadata": {},
   "outputs": [],
   "source": [
    "# No deweight for pct_collaborative_pubs for Eric Lander\n",
    "query = \"\"\"\n",
    "MATCH (a:NatureAuthor)-[:AUTHORED]->(q:Quanta)\n",
    "\tWHERE a.name = 'Eric S. Lander' AND  q.num_profs > 1\n",
    "    WITH a, SUM(toFloat(1)/(q.num_profs + 1 - q.num_profs)) AS collab_unweighted\n",
    "    MATCH (a)-[:AUTHORED]-(q:Quanta)\n",
    "    WITH a, COUNT(q) AS num_pubs, collab_unweighted\n",
    "    RETURN a.name, collab_unweighted/num_pubs AS pct_collab_unweighted\n",
    "    \"\"\"\n",
    "df = query_to_df(query, graph)\n",
    "df"
   ]
  },
  {
   "cell_type": "code",
   "execution_count": null,
   "metadata": {},
   "outputs": [],
   "source": [
    "# Sqrt-author deweight for pct_collaborative_pubs for Eric Lander\n",
    "query = \"\"\"\n",
    "MATCH (a:NatureAuthor)-[:AUTHORED]->(q:Quanta)\n",
    "\tWHERE a.name = 'Eric S. Lander' AND  q.num_profs > 1\n",
    "    WITH a, SUM(toFloat(1)/(sqrt(q.num_authors - 1))) AS collab_sqrtauth\n",
    "    MATCH (a)-[:AUTHORED]-(q:Quanta)\n",
    "    WITH a, COUNT(q) AS num_pubs, collab_sqrtauth\n",
    "    RETURN a.name, collab_sqrtauth/num_pubs AS pct_collab_sqrtauth\n",
    "    \"\"\"\n",
    "df = query_to_df(query, graph)\n",
    "df"
   ]
  },
  {
   "cell_type": "code",
   "execution_count": null,
   "metadata": {},
   "outputs": [],
   "source": [
    "# Linear-author deweight for pct_collaborative_pubs for Eric Lander\n",
    "query = \"\"\"\n",
    "MATCH (a:NatureAuthor)-[:AUTHORED]->(q:Quanta)\n",
    "\tWHERE a.name = 'Eric S. Lander' AND  q.profs > 1\n",
    "    WITH a, SUM(toFloat(1)/(q.num_authors - 1)) AS collab_linauth\n",
    "    MATCH (a)-[:AUTHORED]-(q:Quanta)\n",
    "    WITH a, COUNT(q) AS num_pubs, collab_linauth\n",
    "    RETURN a.name, collab_linauth/num_pubs AS pct_collab_linauth\n",
    "    \"\"\"\n",
    "df = query_to_df(query, graph)\n",
    "df"
   ]
  },
  {
   "cell_type": "code",
   "execution_count": null,
   "metadata": {},
   "outputs": [],
   "source": [
    "# All versions of pct_collaborative_pubs for Eric Lander\n",
    "query = \"\"\"\n",
    "MATCH (a:NatureAuthor)-[:AUTHORED]->(q:Quanta)\n",
    "\tWHERE a.name = 'Eric S. Lander' AND q.num_profs > 1\n",
    "    WITH a, \n",
    "        SUM(toFloat(1)/(q.num_profs - 1)) AS collab_linprof,\n",
    "        SUM(toFloat(1)/(sqrt(q.num_profs - 1))) AS collab_sqrtprof,\n",
    "        SUM(toFloat(1)/(sqrt(q.num_authors - 1))) AS collab_sqrtauth,\n",
    "        SUM(toFloat(1)/(q.num_authors - 1)) AS collab_linauth,\n",
    "        SUM(toFloat(1)/(q.num_profs + 1 - q.num_profs)) AS collab_unweighted\n",
    "    MATCH (a)-[:AUTHORED]-(q:Quanta)\n",
    "    WITH a, COUNT(q) AS num_pubs, collab_linprof, collab_sqrtauth, collab_linauth, collab_unweighted, collab_sqrtprof\n",
    "    RETURN a.name, \n",
    "        collab_linprof/num_pubs AS pct_collab_linprof,\n",
    "        collab_sqrtprof/num_pubs AS pct_collab_sqrtprof,\n",
    "        collab_unweighted/num_pubs AS pct_collab_unweighted,\n",
    "        collab_sqrtauth/num_pubs AS pct_collab_sqrtauth,\n",
    "        collab_linauth/num_pubs AS pct_collab_linauth\n",
    "    \"\"\"\n",
    "df = query_to_df(query, graph)\n",
    "df"
   ]
  },
  {
   "cell_type": "markdown",
   "metadata": {},
   "source": [
    "All authors"
   ]
  },
  {
   "cell_type": "code",
   "execution_count": null,
   "metadata": {},
   "outputs": [],
   "source": [
    "# All versions of pct_collaborative_pubs for Eric Lander\n",
    "query = \"\"\"\n",
    "MATCH (a:NatureAuthor)-[:AUTHORED]->(q:Quanta)\n",
    "\tWHERE q.num_profs > 1 AND q.num_authors > 1\n",
    "    WITH a, \n",
    "        SUM(toFloat(1)/(q.num_profs - 1)) AS collab_linprof,\n",
    "        SUM(toFloat(1)/(sqrt(q.num_profs - 1))) AS collab_sqrtprof,\n",
    "        SUM(toFloat(1)/(sqrt(q.num_authors - 1))) AS collab_sqrtauth,\n",
    "        SUM(toFloat(1)/(q.num_authors - 1)) AS collab_linauth,\n",
    "        SUM(toFloat(1)/(q.num_profs + 1 - q.num_profs)) AS collab_unweighted\n",
    "    MATCH (a)-[:AUTHORED]-(q:Quanta)\n",
    "    WITH a, COUNT(q) AS num_pubs, collab_linprof, collab_sqrtauth, collab_linauth, collab_unweighted, collab_sqrtprof\n",
    "    RETURN a.name, \n",
    "        collab_linprof/num_pubs AS pct_collab_linprof,\n",
    "        collab_sqrtprof/num_pubs AS pct_collab_sqrtprof,\n",
    "        collab_unweighted/num_pubs AS pct_collab_unweighted,\n",
    "        collab_sqrtauth/num_pubs AS pct_collab_sqrtauth,\n",
    "        collab_linauth/num_pubs AS pct_collab_linauth\n",
    "    \"\"\"\n",
    "df = query_to_df(query, graph)\n",
    "df"
   ]
  },
  {
   "cell_type": "code",
   "execution_count": null,
   "metadata": {},
   "outputs": [],
   "source": [
    "df.to_csv('C:\\\\Users\\\\Brend\\\\Downloads\\\\pct_collaborative_pubs.csv', index = False, encoding = \"UTF-8\")\n"
   ]
  },
  {
   "cell_type": "code",
   "execution_count": null,
   "metadata": {},
   "outputs": [],
   "source": [
    "df_pct_collaborative_pubs = pd.read_csv('C:\\\\Users\\\\Brend\\\\Downloads\\\\pct_collaborative_pubs.csv', index_col = 'name', encoding = 'UTF-8')"
   ]
  },
  {
   "cell_type": "code",
   "execution_count": null,
   "metadata": {},
   "outputs": [],
   "source": [
    "df_percentile = df_pct_collaborative_pubs.copy()\n",
    "for col in df_pct_collaborative_pubs.columns:\n",
    "    percentile_col = df_pct_collaborative_pubs[pd.notna(df_pct_collaborative_pubs[col])][col]\n",
    "    df_percentile[col+'_%'] = percentile_col.rank(pct=True)\n",
    "df_percentile.loc[['Eric S. Lander', 'Robert Langer', 'Marvin Minsky']][[col for col in df_percentile.columns if '%' in col]]"
   ]
  },
  {
   "cell_type": "code",
   "execution_count": null,
   "metadata": {},
   "outputs": [],
   "source": []
  }
 ],
 "metadata": {
  "kernelspec": {
   "display_name": "Python 3",
   "language": "python",
   "name": "python3"
  },
  "language_info": {
   "codemirror_mode": {
    "name": "ipython",
    "version": 3
   },
   "file_extension": ".py",
   "mimetype": "text/x-python",
   "name": "python",
   "nbconvert_exporter": "python",
   "pygments_lexer": "ipython3",
   "version": "3.6.0"
  }
 },
 "nbformat": 4,
 "nbformat_minor": 2
}
