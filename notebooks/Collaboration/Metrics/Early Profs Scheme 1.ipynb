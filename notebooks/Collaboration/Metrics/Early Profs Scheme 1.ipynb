{
 "cells": [
  {
   "cell_type": "code",
   "execution_count": 3,
   "metadata": {},
   "outputs": [],
   "source": [
    "import time\n",
    "import pandas as pd\n",
    "from py2neo import Graph, Node, Relationship"
   ]
  },
  {
   "cell_type": "code",
   "execution_count": 4,
   "metadata": {},
   "outputs": [],
   "source": [
    "def query_to_df(query, graph):\n",
    "    print(\"Starting query...\", end=\" \")\n",
    "    query_start_time = time.time()\n",
    "    df = graph.run(query).to_data_frame()\n",
    "    print(\"Done ({:.2f} minutes).\".format((time.time()-query_start_time)/60))\n",
    "    return df"
   ]
  },
  {
   "cell_type": "code",
   "execution_count": 5,
   "metadata": {},
   "outputs": [
    {
     "name": "stdout",
     "output_type": "stream",
     "text": [
      "Connected to graph database with 278,432,359 nodes and 1,844,501,832 relationships!\n"
     ]
    }
   ],
   "source": [
    "graph = Graph( \"bolt://matlaber5.media.mit.edu:7687\", auth=('neo4j','myneo'))\n",
    "print(\"Connected to graph database with {:,} nodes and {:,} relationships!\".format(\n",
    "    graph.database.primitive_counts['NumberOfNodeIdsInUse'], \n",
    "    graph.database.primitive_counts['NumberOfRelationshipIdsInUse']))"
   ]
  },
  {
   "cell_type": "code",
   "execution_count": 5,
   "metadata": {},
   "outputs": [],
   "source": [
    "top_5 = ['Cell', 'Nature', 'Nature Biotechnology','Proceedings of the National Academy of Sciences of the United States of America','Science']\n",
    "top_10 = ['Cell', 'Nature', 'Nature Biotechnology','Proceedings of the National Academy of Sciences of the United States of America','Science', 'Journal of the American Chemical Society', 'JAMA', 'The New England Journal of Medicine', 'Nature Genetics', 'Neuron']\n",
    "top_42 = ['Angewandte Chemie','Blood','Cancer Cell','Cancer Discovery','Cancer Research','Cell','Cell Host & Microbe','Cell Metabolism','Cell Stem Cell','Chemistry & Biology','The EMBO Journal','Genes & Development','Immunity','Journal of Neurology','Journal of the American Chemical Society','JAMA','Journal of Biological Chemistry','Journal of Cell Biology','Journal of Clinical Investigation','Journal of Experimental Medicine','Journal of Medicinal Chemistry','The Lancet','Nature Cell Biology','Nature Chemical Biology','Nature Chemistry','Nature Medicine','Nature Methods','Nature','Nature Biotechnology','The New England Journal of Medicine','Neuron','Nature Genetics','Nature Immunology','Nature Neuroscience','Nature Structural & Molecular Biology','PLOS Biology','PLOS Genetics','PLOS Pathogens','Proceedings of the National Academy of Sciences of the United States of America','Science Signaling','Science Translational Medicine','Science']"
   ]
  },
  {
   "cell_type": "code",
   "execution_count": 7,
   "metadata": {},
   "outputs": [
    {
     "name": "stdout",
     "output_type": "stream",
     "text": [
      "Starting query... Done (1.75 minutes).\n"
     ]
    }
   ],
   "source": [
    "# Disruption\n",
    "query = \"\"\"\n",
    "call apoc.export.csv.query(\n",
    "\"MATCH (a:Top42Author)\n",
    "MATCH (a)-[:AUTHORED]->(q:Quanta)\n",
    "WHERE a.last_author_yr > 2013 AND q.venue in ['Angewandte Chemie','Blood','Cancer Cell','Cancer Discovery','Cancer Research','Cell','Cell Host & Microbe','Cell Metabolism','Cell Stem Cell','Chemistry & Biology','The EMBO Journal','Genes & Development','Immunity','Journal of Neurology','Journal of the American Chemical Society','JAMA','Journal of Biological Chemistry','Journal of Cell Biology','Journal of Clinical Investigation','Journal of Experimental Medicine','Journal of Medicinal Chemistry','The Lancet','Nature Cell Biology','Nature Chemical Biology','Nature Chemistry','Nature Medicine','Nature Methods','Nature','Nature Biotechnology','The New England Journal of Medicine','Neuron','Nature Genetics','Nature Immunology','Nature Neuroscience','Nature Structural & Molecular Biology','PLOS Biology','PLOS Genetics','PLOS Pathogens','Proceedings of the National Academy of Sciences of the United States of America','Science Signaling','Science Translational Medicine','Science']\n",
    "     AND exists(q.Disruption) AND a.last_author_yr <= q.year \n",
    "WITH a, COUNT(q) AS num_disrupt, SUM(q.Disruption) AS tot_disrupt, MIN(q.Disruption) AS min_disrupt, MAX(q.Disruption) AS max_disrupt, percentileCont(q.Disruption, 0.5) AS median_disrupt \n",
    "RETURN a.last_author_yr AS last_author_yr, \n",
    "    a.name AS name, \n",
    "    num_disrupt, \n",
    "    toFloat(tot_disrupt)/num_disrupt AS avg_disrupt, \n",
    "    min_disrupt, \n",
    "    max_disrupt, \n",
    "    median_disrupt\"\n",
    ", \"/data/csv/Disrupt_Early_Profs.csv\", {batchSize:100, iterateList:true, parallel:true})\n",
    "\"\"\"\n",
    "df_disruption = query_to_df(query, graph)\n",
    "# df_disruption.to_csv('~/Workspace/UROP/scaling-science/notebooks/Collaboration/Data/Disrupt_Early_Profs.csv', index = False, encoding = \"UTF-8\")"
   ]
  },
  {
   "cell_type": "code",
   "execution_count": 10,
   "metadata": {},
   "outputs": [
    {
     "name": "stdout",
     "output_type": "stream",
     "text": [
      "Starting query... Done (10.39 minutes).\n"
     ]
    }
   ],
   "source": [
    "# Collaboration\n",
    "avg_degree = 11.327052\n",
    "query = \"\"\"\n",
    "call apoc.export.csv.query(\n",
    "\"MATCH (a:Top42Author)-[:AUTHORED]->(q:Quanta)<-[:AUTHORED]-(b:Top42Author)\n",
    "    WHERE a.last_author_yr > 2013 AND q.venue in ['Angewandte Chemie','Blood','Cancer Cell','Cancer Discovery','Cancer Research','Cell','Cell Host & Microbe','Cell Metabolism','Cell Stem Cell','Chemistry & Biology','The EMBO Journal','Genes & Development','Immunity','Journal of Neurology','Journal of the American Chemical Society','JAMA','Journal of Biological Chemistry','Journal of Cell Biology','Journal of Clinical Investigation','Journal of Experimental Medicine','Journal of Medicinal Chemistry','The Lancet','Nature Cell Biology','Nature Chemical Biology','Nature Chemistry','Nature Medicine','Nature Methods','Nature','Nature Biotechnology','The New England Journal of Medicine','Neuron','Nature Genetics','Nature Immunology','Nature Neuroscience','Nature Structural & Molecular Biology','PLOS Biology','PLOS Genetics','PLOS Pathogens','Proceedings of the National Academy of Sciences of the United States of America','Science Signaling','Science Translational Medicine','Science']\n",
    "         AND a.last_author_yr <= q.year AND b.last_author_yr <= q.year  \n",
    "    WITH a, b, \n",
    "        (toFloat(1) / (11.327052 + avg(q.num_profs_v2))) as u_lin,\n",
    "        (toFloat(1) / sqrt(11.327052 + avg(q.num_profs_v2))) as u_sqrt,\n",
    "        (toFloat(1) / (11.327052 + avg(q.num_profs_v2))^2) as u_square,\n",
    "        (toFloat(1) / exp(11.327052 + avg(q.num_profs_v2))) as u_exp\n",
    "        \n",
    "    RETURN a.name as name, \n",
    "        a.last_author_yr as last_author_yr,\n",
    "        count(u_lin) as unique_coauthor_profs, \n",
    "        11.327052*sum(u_lin) as unique_coauthor_profs_lin_damp,\n",
    "        sqrt(11.327052)*sum(u_sqrt) as unique_coauthor_profs_sqrt_damp,\n",
    "        11.327052^2*sum(u_square) as unique_coauthor_profs_square_damp,\n",
    "        exp(11.327052)*sum(u_exp) as unique_coauthor_profs_exp_damp\"\n",
    "        , \"/data/csv/Collab_Early_Profs.csv\", {batchSize:100, iterateList:true, parallel:true})\n",
    "    \"\"\"\n",
    "df_collab = query_to_df(query, graph)\n",
    "# df_collab.to_csv('~/Workspace/UROP/scaling-science/notebooks/Collaboration/Data/Collab_Early_Profs.csv', index = False, encoding = \"UTF-8\")"
   ]
  },
  {
   "cell_type": "code",
   "execution_count": 6,
   "metadata": {},
   "outputs": [
    {
     "name": "stdout",
     "output_type": "stream",
     "text": [
      "Starting query... Done (0.64 minutes).\n"
     ]
    }
   ],
   "source": [
    "# Impact\n",
    "query = \"\"\"\n",
    "call apoc.export.csv.query(\n",
    "\"MATCH (a:Top42Author)-[:AUTHORED]->(q:Quanta)\n",
    "WHERE a.last_author_yr > 2013 AND q.venue in ['Angewandte Chemie','Blood','Cancer Cell','Cancer Discovery','Cancer Research','Cell','Cell Host & Microbe','Cell Metabolism','Cell Stem Cell','Chemistry & Biology','The EMBO Journal','Genes & Development','Immunity','Journal of Neurology','Journal of the American Chemical Society','JAMA','Journal of Biological Chemistry','Journal of Cell Biology','Journal of Clinical Investigation','Journal of Experimental Medicine','Journal of Medicinal Chemistry','The Lancet','Nature Cell Biology','Nature Chemical Biology','Nature Chemistry','Nature Medicine','Nature Methods','Nature','Nature Biotechnology','The New England Journal of Medicine','Neuron','Nature Genetics','Nature Immunology','Nature Neuroscience','Nature Structural & Molecular Biology','PLOS Biology','PLOS Genetics','PLOS Pathogens','Proceedings of the National Academy of Sciences of the United States of America','Science Signaling','Science Translational Medicine','Science']\n",
    "    AND a.last_author_yr <= q.year \n",
    "\n",
    "WITH a, COUNT(q) AS num_pubs, \n",
    "    SUM(q.pageRank_2018) AS tot_rank, \n",
    "    MIN(q.pageRank_2018) AS min_rank, \n",
    "    MAX(q.pageRank_2018) AS max_rank, \n",
    "    percentileCont(q.pageRank_2018, 0.5) AS median_rank \n",
    "\n",
    "RETURN a.name AS name, \n",
    "    num_pubs,\n",
    "    toFloat(tot_rank)/num_pubs AS avg_PR, \n",
    "    min_rank AS min_PR, \n",
    "    max_rank AS max_PR, \n",
    "    median_rank AS median_PR\"\n",
    "    , \"/data/csv/PR_Early_Profs.csv\", {batchSize:100, iterateList:true, parallel:true})\n",
    "\n",
    "\"\"\"\n",
    "df_pr = query_to_df(query, graph)\n",
    "\n",
    "query = \"\"\"\n",
    "call apoc.export.csv.query(\n",
    "\"MATCH (a:Top42Author)-[:AUTHORED]->(q:Quanta)\n",
    "WHERE a.last_author_yr > 2013 AND q.venue in ['Angewandte Chemie','Blood','Cancer Cell','Cancer Discovery','Cancer Research','Cell','Cell Host & Microbe','Cell Metabolism','Cell Stem Cell','Chemistry & Biology','The EMBO Journal','Genes & Development','Immunity','Journal of Neurology','Journal of the American Chemical Society','JAMA','Journal of Biological Chemistry','Journal of Cell Biology','Journal of Clinical Investigation','Journal of Experimental Medicine','Journal of Medicinal Chemistry','The Lancet','Nature Cell Biology','Nature Chemical Biology','Nature Chemistry','Nature Medicine','Nature Methods','Nature','Nature Biotechnology','The New England Journal of Medicine','Neuron','Nature Genetics','Nature Immunology','Nature Neuroscience','Nature Structural & Molecular Biology','PLOS Biology','PLOS Genetics','PLOS Pathogens','Proceedings of the National Academy of Sciences of the United States of America','Science Signaling','Science Translational Medicine','Science']\n",
    "    AND a.last_author_yr <= q.year\n",
    "\n",
    "WITH a, COUNT(q) AS num_pubs, \n",
    "    SUM(q.articleRank2018) AS tot_rank, \n",
    "    MIN(q.articleRank2018) AS min_rank, \n",
    "    MAX(q.articleRank2018) AS max_rank, \n",
    "    percentileCont(q.articleRank2018, 0.5) AS median_rank \n",
    "    \n",
    "RETURN a.name AS name, \n",
    "    toFloat(tot_rank)/num_pubs AS avg_AR, \n",
    "    min_rank AS min_AR, \n",
    "    max_rank AS max_AR, \n",
    "    median_rank AS median_AR\"\n",
    "    , \"/data/csv/AR_Early_Profs.csv\", {batchSize:100, iterateList:true, parallel:true})\n",
    "\n",
    "\"\"\"\n",
    "df_ar = query_to_df(query, graph)"
   ]
  },
  {
   "cell_type": "code",
   "execution_count": 7,
   "metadata": {},
   "outputs": [
    {
     "name": "stdout",
     "output_type": "stream",
     "text": [
      "Starting query... Done (8.25 minutes).\n"
     ]
    }
   ],
   "source": [
    "# Num affiliations for each author\n",
    "query = \"\"\"\n",
    "call apoc.export.csv.query(\n",
    "\"MATCH (a:Top42Author)-[:AFFILIATED_WITH]->(o:Organization)\n",
    "RETURN a.name as name, COUNT(o) as orgs\",\n",
    "\"/data/csv/orgs.csv\", {batchSize:100, iterateList:true, parallel:true})\n",
    "\"\"\"\n",
    "df = query_to_df(query, graph)"
   ]
  },
  {
   "cell_type": "code",
   "execution_count": null,
   "metadata": {},
   "outputs": [],
   "source": [
    "import pandas as pd\n",
    "df_disrupt = pd.read_csv('~/scaling-science/data/magone/Disrupt_Early_Profs.csv', index_col = 'name', encoding = \"UTF-8\")\n",
    "df_collab = pd.read_csv('~/scaling-science/data/magone/Collab_Early_Profs.csv', index_col = 'name', encoding = \"UTF-8\")\n",
    "df_AR = pd.read_csv('~/scaling-science/data/magone/AR_Early_Profs.csv', index_col = 'name', encoding = \"UTF-8\")\n",
    "df_PR = pd.read_csv('~/scaling-science/data/magone/PR_Early_Profs.csv', index_col = 'name', encoding = \"UTF-8\")\n",
    "df_orgs = pd.read_csv('~/scaling-science/data/magone/orgs.csv', index_col = 'name', encoding = \"UTF-8\")\n"
   ]
  },
  {
   "cell_type": "code",
   "execution_count": null,
   "metadata": {},
   "outputs": [],
   "source": [
    "def top_100_to_csv(trimmed_df, cols, name, num = 100, to_csv = False):\n",
    "    d = dict()\n",
    "    for col in cols:\n",
    "        df_notna = trimmed_df[pd.notna(trimmed_df[col])]\n",
    "        sorted = df_notna[[col]].sort_values(col, ascending = False).head(num)\n",
    "        names = sorted.index.tolist()\n",
    "        values = sorted[col].tolist()\n",
    "        d[col] = pd.Series(names, index=list(range(1, num+1)))\n",
    "        d[col+'_val'] = pd.Series(values, list(range(1, num+1)))\n",
    "    df_rank = pd.DataFrame(d)\n",
    "    if to_csv:\n",
    "        df_rank.to_csv('~/scaling-science/data/magone/{}_Early_Profs_rank.csv'.format(name), index = False, encoding = \"UTF-8\")\n",
    "    return df_rank"
   ]
  },
  {
   "cell_type": "code",
   "execution_count": null,
   "metadata": {},
   "outputs": [],
   "source": [
    "num_pubs = df_PR[['num_pubs']]"
   ]
  },
  {
   "cell_type": "code",
   "execution_count": null,
   "metadata": {},
   "outputs": [],
   "source": [
    "df_disrupt_trim = df_disrupt.join(df_orgs, how = 'inner')\n",
    "print(\"Total: %d authors\" % df_disrupt_trim.shape[0])\n",
    "df_disrupt_trim = df_disrupt_trim[df_disrupt_trim['num_disrupt'] >= 3]\n",
    "df_disrupt_trim = df_disrupt_trim[df_disrupt_trim['orgs'] <= 2000]\n",
    "print(\"Remaining after trimming: %d authors\" % df_disrupt_trim.shape[0])\n",
    "top_100_to_csv(df_disrupt_trim, df_disrupt.columns, 'Disrupt', to_csv = True)"
   ]
  },
  {
   "cell_type": "code",
   "execution_count": null,
   "metadata": {},
   "outputs": [],
   "source": [
    "df_collab_trim = df_collab.join(df_orgs, how = 'inner')\n",
    "df_collab_trim = df_collab_trim.join(num_pubs, how = 'inner')\n",
    "print(\"Total: %d authors\" % df_collab_trim.shape[0])\n",
    "df_collab_trim = df_collab_trim[df_collab_trim['orgs'] <= 2000]\n",
    "df_collab_trim = df_collab_trim[df_collab_trim['num_pubs'] >= 5]\n",
    "print(\"Remaining after trimming: %d authors\" % df_collab_trim.shape[0])\n",
    "top_100_to_csv(df_collab_trim, df_collab.columns, 'Collab', to_csv = True)"
   ]
  },
  {
   "cell_type": "code",
   "execution_count": null,
   "metadata": {},
   "outputs": [],
   "source": [
    "df_AR_trim = df_AR.join(df_orgs, how = 'inner')\n",
    "df_AR_trim = df_AR_trim.join(num_pubs, how = 'inner')\n",
    "print(\"Total: %d authors\" % df_AR_trim.shape[0])\n",
    "df_AR_trim = df_AR_trim[df_AR_trim['orgs'] <= 2000]\n",
    "df_AR_trim = df_AR_trim[df_AR_trim['num_pubs'] > 5]\n",
    "print(\"Remaining after trimming: %d authors\" % df_AR_trim.shape[0])\n",
    "top_100_to_csv(df_AR_trim, df_AR.columns, 'AR', to_csv = True)"
   ]
  },
  {
   "cell_type": "code",
   "execution_count": null,
   "metadata": {},
   "outputs": [],
   "source": [
    "df_PR_trim = df_PR.join(df_orgs, how = 'inner')\n",
    "print(\"Total: %d authors\" % df_PR_trim.shape[0])\n",
    "df_PR_trim = df_PR_trim[df_PR_trim['orgs'] <= 2000]\n",
    "df_PR_trim = df_PR_trim[df_PR_trim['num_pubs'] > 5]\n",
    "print(\"Remaining after trimming: %d authors\" % df_PR_trim.shape[0])\n",
    "top_100_to_csv(df_PR_trim, df_PR.columns, 'PR', to_csv = True)"
   ]
  }
 ],
 "metadata": {
  "kernelspec": {
   "display_name": "Python 3",
   "language": "python",
   "name": "python3"
  },
  "language_info": {
   "codemirror_mode": {
    "name": "ipython",
    "version": 3
   },
   "file_extension": ".py",
   "mimetype": "text/x-python",
   "name": "python",
   "nbconvert_exporter": "python",
   "pygments_lexer": "ipython3",
   "version": "3.6.7"
  }
 },
 "nbformat": 4,
 "nbformat_minor": 2
}
