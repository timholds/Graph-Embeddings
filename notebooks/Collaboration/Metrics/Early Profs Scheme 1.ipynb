{
 "cells": [
  {
   "cell_type": "code",
   "execution_count": 4,
   "metadata": {},
   "outputs": [],
   "source": [
    "import time\n",
    "import pandas as pd\n",
    "from py2neo import Graph, Node, Relationship"
   ]
  },
  {
   "cell_type": "code",
   "execution_count": 5,
   "metadata": {},
   "outputs": [],
   "source": [
    "def query_to_df(query, graph):\n",
    "    print(\"Starting query...\", end=\" \")\n",
    "    query_start_time = time.time()\n",
    "    df = graph.run(query).to_data_frame()\n",
    "    print(\"Done ({:.2f} minutes).\".format((time.time()-query_start_time)/60))\n",
    "    return df"
   ]
  },
  {
   "cell_type": "code",
   "execution_count": 6,
   "metadata": {},
   "outputs": [
    {
     "name": "stdout",
     "output_type": "stream",
     "text": [
      "Connected to graph database with 278,432,359 nodes and 1,844,501,832 relationships!\n"
     ]
    }
   ],
   "source": [
    "graph = Graph( \"bolt://matlaber5.media.mit.edu:7687\", auth=('neo4j','myneo'))\n",
    "print(\"Connected to graph database with {:,} nodes and {:,} relationships!\".format(\n",
    "    graph.database.primitive_counts['NumberOfNodeIdsInUse'], \n",
    "    graph.database.primitive_counts['NumberOfRelationshipIdsInUse']))"
   ]
  },
  {
   "cell_type": "code",
   "execution_count": 7,
   "metadata": {},
   "outputs": [],
   "source": [
    "top_5 = ['Cell', 'Nature', 'Nature Biotechnology','Proceedings of the National Academy of Sciences of the United States of America','Science']\n",
    "top_10 = ['Cell', 'Nature', 'Nature Biotechnology','Proceedings of the National Academy of Sciences of the United States of America','Science', 'Journal of the American Chemical Society', 'JAMA', 'The New England Journal of Medicine', 'Nature Genetics', 'Neuron']\n",
    "top_42 = ['Angewandte Chemie','Blood','Cancer Cell','Cancer Discovery','Cancer Research','Cell','Cell Host & Microbe','Cell Metabolism','Cell Stem Cell','Chemistry & Biology','The EMBO Journal','Genes & Development','Immunity','Journal of Neurology','Journal of the American Chemical Society','JAMA','Journal of Biological Chemistry','Journal of Cell Biology','Journal of Clinical Investigation','Journal of Experimental Medicine','Journal of Medicinal Chemistry','The Lancet','Nature Cell Biology','Nature Chemical Biology','Nature Chemistry','Nature Medicine','Nature Methods','Nature','Nature Biotechnology','The New England Journal of Medicine','Neuron','Nature Genetics','Nature Immunology','Nature Neuroscience','Nature Structural & Molecular Biology','PLOS Biology','PLOS Genetics','PLOS Pathogens','Proceedings of the National Academy of Sciences of the United States of America','Science Signaling','Science Translational Medicine','Science']"
   ]
  },
  {
   "cell_type": "code",
   "execution_count": 8,
   "metadata": {},
   "outputs": [
    {
     "name": "stdout",
     "output_type": "stream",
     "text": [
      "Starting query... Done (5.64 minutes).\n"
     ]
    }
   ],
   "source": [
    "# Scheme 1: Post-2015-Profs PR\n",
    "query = \"\"\"\n",
    "call apoc.export.csv.query(\n",
    "\"MATCH (a:Top42Author)\n",
    "WHERE a.last_author_yr > 2015 \n",
    "\n",
    "MATCH(a)-[r:AUTHORED]->(q:Quanta)\n",
    "WHERE q.venue in ['Angewandte Chemie','Blood','Cancer Cell','Cancer Discovery','Cancer Research','Cell','Cell Host & Microbe','Cell Metabolism','Cell Stem Cell','Chemistry & Biology','The EMBO Journal','Genes & Development','Immunity','Journal of Neurology','Journal of the American Chemical Society','JAMA','Journal of Biological Chemistry','Journal of Cell Biology','Journal of Clinical Investigation','Journal of Experimental Medicine','Journal of Medicinal Chemistry','The Lancet','Nature Cell Biology','Nature Chemical Biology','Nature Chemistry','Nature Medicine','Nature Methods','Nature','Nature Biotechnology','The New England Journal of Medicine','Neuron','Nature Genetics','Nature Immunology','Nature Neuroscience','Nature Structural & Molecular Biology','PLOS Biology','PLOS Genetics','PLOS Pathogens','Proceedings of the National Academy of Sciences of the United States of America','Science Signaling','Science Translational Medicine','Science']\n",
    "AND q.year < a.last_author_yr \n",
    "AND r.is_first_author\n",
    "WITH a, \n",
    "    COUNT(q) AS num_pubs_pre, \n",
    "    SUM(q.pageRank_2018)/COUNT(q) AS avg_PR_pre, \n",
    "    MAX(q.pageRank_2018) AS max_PR_pre, \n",
    "    percentileCont(q.pageRank_2018, 0.5) AS median_PR_pre \n",
    "\n",
    "MATCH(a)-[r:AUTHORED]->(q:Quanta)\n",
    "WHERE q.venue in ['Angewandte Chemie','Blood','Cancer Cell','Cancer Discovery','Cancer Research','Cell','Cell Host & Microbe','Cell Metabolism','Cell Stem Cell','Chemistry & Biology','The EMBO Journal','Genes & Development','Immunity','Journal of Neurology','Journal of the American Chemical Society','JAMA','Journal of Biological Chemistry','Journal of Cell Biology','Journal of Clinical Investigation','Journal of Experimental Medicine','Journal of Medicinal Chemistry','The Lancet','Nature Cell Biology','Nature Chemical Biology','Nature Chemistry','Nature Medicine','Nature Methods','Nature','Nature Biotechnology','The New England Journal of Medicine','Neuron','Nature Genetics','Nature Immunology','Nature Neuroscience','Nature Structural & Molecular Biology','PLOS Biology','PLOS Genetics','PLOS Pathogens','Proceedings of the National Academy of Sciences of the United States of America','Science Signaling','Science Translational Medicine','Science']\n",
    "AND q.year >= a.last_author_yr \n",
    "AND r.is_last_author\n",
    "RETURN a.name AS name, \n",
    "    num_pubs_pre, avg_PR_pre, max_PR_pre, median_PR_pre,\n",
    "    COUNT(q) AS num_pubs_post, \n",
    "    SUM(q.pageRank_2018)/COUNT(q) AS avg_PR_post, \n",
    "    MAX(q.pageRank_2018) AS max_PR_post, \n",
    "    percentileCont(q.pageRank_2018, 0.5) AS median_PR_post\"\n",
    "\n",
    ", \"/data/csv/PR_Early_Profs.csv\", {batchSize:100, iterateList:true, parallel:true})\n",
    "\"\"\"\n",
    "df_pr = query_to_df(query, graph)"
   ]
  },
  {
   "cell_type": "code",
   "execution_count": null,
   "metadata": {},
   "outputs": [],
   "source": [
    "import pandas as pd\n",
    "df_PR = pd.read_csv('~/scaling-science/data/magone/PR_Early_Profs.csv', index_col = 'name', encoding = \"UTF-8\")"
   ]
  },
  {
   "cell_type": "code",
   "execution_count": null,
   "metadata": {},
   "outputs": [],
   "source": [
    "df_PR_trim = df_PR\n",
    "print(\"Total: %d authors\" % df_PR_trim.shape[0])\n",
    "df_PR_trim = df_PR_trim[df_PR_trim['num_pubs_pre'] >= 2]\n",
    "df_PR_trim = df_PR_trim[df_PR_trim['num_pubs_post'] >= 2]\n",
    "print(\"Remaining after trimming: %d authors\" % df_PR_trim.shape[0])\n",
    "df_PR_trim"
   ]
  },
  {
   "cell_type": "code",
   "execution_count": null,
   "metadata": {},
   "outputs": [],
   "source": [
    "def top_100_to_csv(df, cols, name, num = 100, to_csv = False):\n",
    "    d = dict()\n",
    "    for col in cols:\n",
    "        df_notna = df[pd.notna(df[col])]\n",
    "        sorted = df_notna[[col]].sort_values(col, ascending = False).head(num)\n",
    "        names = sorted.index.tolist()\n",
    "        values = sorted[col].tolist()\n",
    "        num = min(num, len(names))\n",
    "        d[col] = pd.Series(names, index=list(range(1, num+1)))\n",
    "        d[col+'_val'] = pd.Series(values, list(range(1, num+1)))\n",
    "    df_rank = pd.DataFrame(d)\n",
    "    if to_csv:\n",
    "        df_rank.to_csv('~/scaling-science/data/magone/{}_Early_Profs_rank.csv'.format(name), index = False, encoding = \"UTF-8\")\n",
    "    return df_rank\n",
    "\n",
    "top_100_to_csv(df_PR_trim, [col for col in df_PR.columns if 'num_pubs' not in col], 'PR', to_csv = True)"
   ]
  }
 ],
 "metadata": {
  "kernelspec": {
   "display_name": "Python 3",
   "language": "python",
   "name": "python3"
  },
  "language_info": {
   "codemirror_mode": {
    "name": "ipython",
    "version": 3
   },
   "file_extension": ".py",
   "mimetype": "text/x-python",
   "name": "python",
   "nbconvert_exporter": "python",
   "pygments_lexer": "ipython3",
   "version": "3.6.7"
  }
 },
 "nbformat": 4,
 "nbformat_minor": 2
}
