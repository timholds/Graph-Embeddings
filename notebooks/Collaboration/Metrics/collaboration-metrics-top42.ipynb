{
 "cells": [
  {
   "cell_type": "code",
   "execution_count": 1,
   "metadata": {},
   "outputs": [],
   "source": [
    "import time\n",
    "import json\n",
    "import math\n",
    "import pandas as pd\n",
    "import matplotlib.pyplot as plt\n",
    "from scipy import stats\n",
    "from py2neo import Graph, Node, Relationship\n",
    "%matplotlib inline"
   ]
  },
  {
   "cell_type": "code",
   "execution_count": 2,
   "metadata": {},
   "outputs": [],
   "source": [
    "def query_to_df(query, graph):\n",
    "    print(\"Starting query...\", end=\" \")\n",
    "    query_start_time = time.time()\n",
    "    df = graph.run(query).to_data_frame()\n",
    "    print(\"Done ({:.2f} minutes).\".format((time.time()-query_start_time)/60))\n",
    "    return df"
   ]
  },
  {
   "cell_type": "code",
   "execution_count": 3,
   "metadata": {},
   "outputs": [
    {
     "name": "stdout",
     "output_type": "stream",
     "text": [
      "Connected to graph database with 278,432,359 nodes and 1,844,501,832 relationships!\n"
     ]
    }
   ],
   "source": [
    "graph = Graph( \"bolt://matlaber5.media.mit.edu:7687\", auth=('neo4j','myneo'))\n",
    "print(\"Connected to graph database with {:,} nodes and {:,} relationships!\".format(\n",
    "    graph.database.primitive_counts['NumberOfNodeIdsInUse'], \n",
    "    graph.database.primitive_counts['NumberOfRelationshipIdsInUse']))"
   ]
  },
  {
   "cell_type": "code",
   "execution_count": null,
   "metadata": {},
   "outputs": [],
   "source": [
    "# Augment nodes with pct_last_author\n",
    "query = \"\"\"call apoc.periodic.iterate(\n",
    "\"MATCH (a:Top42Author) RETURN a\",\n",
    "\"MATCH (a)-[r:AUTHORED]->(:Quanta)\n",
    "WITH a, toFloat(SUM(CASE WHEN r.is_last_author THEN 1 ELSE 0 END))/COUNT(r) as pct_last_author\n",
    "SET a.pct_last_author = pct_last_author\", {batchSize:100, parallel:true})\n",
    "\"\"\""
   ]
  },
  {
   "cell_type": "code",
   "execution_count": null,
   "metadata": {},
   "outputs": [],
   "source": [
    "# Augment quanta with num_profs, num_authors\n",
    "query = \"\"\"call apoc.periodic.iterate(\n",
    "    \"MATCH (b:Top42Author)-[:AUTHORED]-(pub:Quanta)\n",
    "    WHERE b.pct_last_author > .25\n",
    "    RETURN pub, COUNT(DISTINCT b) as num_profs\",\n",
    "    \"SET pub.num_profs = num_profs\", {batchSize:1000, parallel:true})\n",
    "    \"\"\"\n",
    "query = \"\"\"call apoc.periodic.iterate(\n",
    "    \"MATCH (b:Top42Author)-[:AUTHORED]-(pub:Quanta)\n",
    "    RETURN pub, COUNT(DISTINCT b) as num_authors\",\n",
    "    \"SET pub.num_authors = num_authors\", {batchSize:1000, parallel:true})\n",
    "    \"\"\""
   ]
  },
  {
   "cell_type": "code",
   "execution_count": null,
   "metadata": {},
   "outputs": [],
   "source": [
    "# All versions of pct_collaborative_pubs for Top42Authors\n",
    "query = \"\"\"\n",
    "MATCH (a:Top42Author)-[:AUTHORED]->(q:Quanta)\n",
    "\tWHERE q.num_profs > 1 AND q.num_authors > 1 \n",
    "    WITH a, \n",
    "        SUM(toFloat(1)/(q.num_profs - 1)) AS collab_linprof,\n",
    "        SUM(toFloat(1)/(sqrt(q.num_profs - 1))) AS collab_sqrtprof,\n",
    "        SUM(toFloat(1)/(sqrt(q.num_authors - 1))) AS collab_sqrtauth,\n",
    "        SUM(toFloat(1)/(q.num_authors - 1)) AS collab_linauth,\n",
    "        SUM(toFloat(1)) AS collab_unweighted\n",
    "    MATCH (a)-[:AUTHORED]-(q:Quanta)\n",
    "    WITH a, COUNT(q) AS num_pubs, collab_linprof, collab_sqrtauth, collab_linauth, collab_unweighted, collab_sqrtprof\n",
    "    RETURN a.name AS name, \n",
    "        num_pubs,\n",
    "        collab_linprof/num_pubs AS pct_collab_linprof,\n",
    "        collab_sqrtprof/num_pubs AS pct_collab_sqrtprof,\n",
    "        collab_unweighted/num_pubs AS pct_collab_unweighted,\n",
    "        collab_sqrtauth/num_pubs AS pct_collab_sqrtauth,\n",
    "        collab_linauth/num_pubs AS pct_collab_linauth\n",
    "    \"\"\"\n",
    "# df = query_to_df(query, graph)\n",
    "# df.to_csv('C:\\\\Users\\\\Brend\\\\Downloads\\\\pct_collaborative_pubs_top42.csv', index = False, encoding = \"UTF-8\")"
   ]
  },
  {
   "cell_type": "code",
   "execution_count": null,
   "metadata": {},
   "outputs": [],
   "source": [
    "#Ratio of cross-cluster and intra-cluster edges to total edges\n",
    "query = \"\"\"\n",
    "MATCH (u:Top42Author)\n",
    "MATCH (u)-[e:COAUTHOR]-(b:Top42Author)\n",
    "WITH u, COUNT(b) AS k_u\n",
    "WITH u, k_u AS den\n",
    "\n",
    "// intracommunity edges\n",
    "OPTIONAL MATCH (u)-[e:COAUTHOR]-(b:Top42Author)\n",
    "WHERE last(b.louvain) = last(u.louvain)\n",
    "WITH den, u, COUNT(b) AS k_intra_u\n",
    "WITH den, u, k_intra_u AS IntraClusterConns, CASE WHEN den=0 THEN 0 ELSE toFloat(k_intra_u)/den END AS IntraClusterRatio\n",
    "WITH den, u, IntraClusterRatio, IntraClusterConns, 1.0 - IntraClusterRatio AS InterClusterRatio\n",
    "\n",
    "RETURN u.name AS name, IntraClusterRatio, InterClusterRatio, den AS TotalConns, IntraClusterConns, den - IntraClusterConns AS InterClusterConns\n",
    "\"\"\"\n",
    "\n",
    "# df_clusters = query_to_df(query, graph)\n",
    "# df_clusters.to_csv('C:\\\\Users\\\\Brend\\\\Downloads\\\\clusters_top42.csv', index = False, encoding = \"UTF-8\")"
   ]
  },
  {
   "cell_type": "code",
   "execution_count": null,
   "metadata": {},
   "outputs": [],
   "source": [
    "# Author focus\n",
    "query = \"\"\"\n",
    "MATCH (u:Top42Author)\n",
    "MATCH (u)-[e:COAUTHOR]-(b:Top42Author)\n",
    "WITH e.strength AS weight, u, COUNT(b) AS k_u\n",
    "WITH u, toFloat(sum(weight*k_u))/sum(k_u) AS den\n",
    "\n",
    "OPTIONAL MATCH (u)-[e:COAUTHOR]-(b:NatureAuthor)\n",
    "WHERE last(b.louvain) = last(u.louvain)\n",
    "WITH den, u, COUNT(b) AS k_intra_u, CASE WHEN e IS NULL THEN 0 ELSE e.strength END AS weight\n",
    "WITH den, u, CASE WHEN sum(k_intra_u)=0 THEN 0 ELSE toFloat(sum(weight*k_intra_u))/sum(k_intra_u) END AS num\n",
    "WITH den, u, CASE WHEN den=0 THEN 0 ELSE num/den END AS NatureIntraCommunityFocus\n",
    "WITH den, u, NatureIntraCommunityFocus\n",
    "\n",
    "OPTIONAL MATCH (u)-[e:COAUTHOR]-(b:NatureAuthor)\n",
    "WHERE last(b.louvain) <> last(u.louvain)\n",
    "WITH den, u, NatureIntraCommunityFocus, COUNT(b) AS k_inter_u, CASE WHEN e IS NULL THEN 0 ELSE e.strength END AS weight\n",
    "WITH den, u, NatureIntraCommunityFocus, CASE WHEN sum(k_inter_u)=0 THEN 0 ELSE toFloat(sum(weight*k_inter_u))/sum(k_inter_u) END AS num\n",
    "WITH u, NatureIntraCommunityFocus, CASE WHEN den=0 THEN 0 ELSE num/den END AS NatureInterCommunityFocus\n",
    "\n",
    "RETURN u.name AS name, NatureIntraCommunityFocus AS IntraCommunityFocus, NatureInterCommunityFocus AS InterCommunityFocus\n",
    "\"\"\"\n",
    "\n",
    "# df_community_focus = query_to_df(query, graph)\n",
    "# df_community_focus.to_csv('C:\\\\Users\\\\Brend\\\\Downloads\\\\community_focus_top42.csv', index = False, encoding = \"UTF-8\")"
   ]
  },
  {
   "cell_type": "code",
   "execution_count": null,
   "metadata": {},
   "outputs": [],
   "source": [
    "query = \"\"\"\n",
    "MATCH (a:Top42Author)-[:AUTHORED]->(q:Quanta)\n",
    "WITH a, COUNT(q) AS num_pubs, SUM(q.pageRank_2018) AS tot_rank, MIN(q.pageRank_2018) AS min_rank, MAX(q.pageRank_2018) AS max_rank, percentileCont(q.pageRank_2018, 0.5) AS median_rank \n",
    "RETURN a.name AS name, toFloat(tot_rank)/num_pubs AS avg_PR, min_rank AS min_PR, max_rank AS max_PR, median_rank AS median_PR\n",
    "\"\"\"\n",
    "df_pr = query_to_df(query, graph)\n",
    "\n",
    "df_impact = df_pr.join(df_ar, how = 'outer')\n",
    "df_impact.to_csv('C:\\\\Users\\\\Brend\\\\Downloads\\\\impact_top42.csv', encoding = \"UTF-8\")\n",
    "query = \"\"\"\n",
    "MATCH (a:Top42Author)-[:AUTHORED]->(q:Quanta)\n",
    "WITH a, COUNT(q) AS num_pubs, SUM(q.articleRank2018) AS tot_rank, MIN(q.articleRank2018) AS min_rank, MAX(q.articleRank2018) AS max_rank, percentileCont(q.articleRank2018, 0.5) AS median_rank \n",
    "RETURN a.name AS name, toFloat(tot_rank)/num_pubs AS avg_AR, min_rank AS min_AR, max_rank AS max_AR, median_rank AS median_AR\n",
    "\"\"\"\n",
    "df_ar = query_to_df(query, graph)\n",
    "\n",
    "df_pr.to_csv('C:\\\\Users\\\\Brend\\\\Downloads\\\\pr_top42.csv', index = False, encoding = \"UTF-8\")\n",
    "df_ar.to_csv('C:\\\\Users\\\\Brend\\\\Downloads\\\\ar_top42.csv', index = False, encoding = \"UTF-8\")\n",
    "df_impact = df_pr.join(df_ar, how = 'outer')\n",
    "df_impact.to_csv('C:\\\\Users\\\\Brend\\\\Downloads\\\\impact_top42.csv', encoding = \"UTF-8\")"
   ]
  },
  {
   "cell_type": "code",
   "execution_count": null,
   "metadata": {},
   "outputs": [],
   "source": [
    "# Augment nodes with last_author_yr\n",
    "# COMPLETE on ML 5\n",
    "query = \"\"\"call apoc.periodic.iterate(\n",
    "\"MATCH (a:Top42Author) RETURN a\",\n",
    "\"MATCH (a)-[r:AUTHORED]->(q:Quanta)\n",
    "WHERE r.is_last_author\n",
    "WITH a, min(q.year) AS last_author_yr\n",
    "SET a.last_author_yr = last_author_yr\", {batchSize:100, parallel:true})\n",
    "\"\"\"\n",
    "df = query_to_df(query, graph)"
   ]
  },
  {
   "cell_type": "code",
   "execution_count": null,
   "metadata": {},
   "outputs": [
    {
     "name": "stdout",
     "output_type": "stream",
     "text": [
      "Starting query... "
     ]
    }
   ],
   "source": [
    "# Augment quanta with num_profs_v2\n",
    "# COMPLETE on ML 5\n",
    "query = \"\"\"call apoc.periodic.iterate(\n",
    "    \"MATCH (b:Top42Author)-[:AUTHORED]-(pub:Quanta)\n",
    "    WHERE pub.venue in['Angewandte Chemie','Blood','Cancer Cell','Cancer Discovery','Cancer Research','Cell','Cell Host & Microbe','Cell Metabolism','Cell Stem Cell','Chemistry & Biology','The EMBO Journal','Genes & Development','Immunity','Journal of Neurology','Journal of the American Chemical Society','JAMA','Journal of Biological Chemistry','Journal of Cell Biology','Journal of Clinical Investigation','Journal of Experimental Medicine','Journal of Medicinal Chemistry','The Lancet','Nature Cell Biology','Nature Chemical Biology','Nature Chemistry','Nature Medicine','Nature Methods','Nature','Nature Biotechnology','The New England Journal of Medicine','Neuron','Nature Genetics','Nature Immunology','Nature Neuroscience','Nature Structural & Molecular Biology','PLOS Biology','PLOS Genetics','PLOS Pathogens','Proceedings of the National Academy of Sciences of the United States of America','Science Signaling','Science Translational Medicine','Science']\n",
    "        AND b.last_author_yr <= pub.year\n",
    "    RETURN pub, COUNT(DISTINCT b) as num_profs\",\n",
    "    \"SET pub.num_profs_v2 = num_profs\", {batchSize:1000, parallel:true})\n",
    "    \"\"\"\n",
    "df = query_to_df(query, graph)"
   ]
  },
  {
   "cell_type": "code",
   "execution_count": null,
   "metadata": {},
   "outputs": [],
   "source": [
    "# All versions of pct_collaborative_pubs for Top42Authors\n",
    "query = \"\"\"\n",
    "MATCH (a:Top42Author)-[:AUTHORED]->(q:Quanta)\n",
    "\tWHERE q.num_profs_v2 > 1 AND q.num_authors > 1 \n",
    "    WITH a, \n",
    "        SUM(toFloat(1)/(q.num_profs_v2 - 1)) AS collab_linprof,\n",
    "        SUM(toFloat(1)/(sqrt(q.num_profs_v2 - 1))) AS collab_sqrtprof,\n",
    "        SUM(toFloat(1)/(sqrt(q.num_authors - 1))) AS collab_sqrtauth,\n",
    "        SUM(toFloat(1)/(q.num_authors - 1)) AS collab_linauth,\n",
    "        SUM(toFloat(1)) AS collab_unweighted\n",
    "    MATCH (a)-[:AUTHORED]-(q:Quanta)\n",
    "    WITH a, COUNT(q) AS num_pubs, collab_linprof, collab_sqrtauth, collab_linauth, collab_unweighted, collab_sqrtprof\n",
    "    RETURN a.name AS name, \n",
    "        num_pubs,\n",
    "        collab_linprof/num_pubs AS pct_collab_linprof,\n",
    "        collab_sqrtprof/num_pubs AS pct_collab_sqrtprof,\n",
    "        collab_unweighted/num_pubs AS pct_collab_unweighted,\n",
    "        collab_sqrtauth/num_pubs AS pct_collab_sqrtauth,\n",
    "        collab_linauth/num_pubs AS pct_collab_linauth\n",
    "    \"\"\"\n",
    "df = query_to_df(query, graph)\n",
    "df.to_csv('C:\\\\Users\\\\Brend\\\\Downloads\\\\pct_collaborative_pubs_top42_v2.csv', index = False, encoding = \"UTF-8\")"
   ]
  },
  {
   "cell_type": "code",
   "execution_count": null,
   "metadata": {},
   "outputs": [],
   "source": [
    "# Augment Quanta with disruption\n",
    "# COMPLETE ON ML 5\n",
    "query = \"\"\"\n",
    "call apoc.periodic.iterate(\n",
    "\"MATCH (q:Quanta) \n",
    "WHERE q.venue in ['Angewandte Chemie','Blood','Cancer Cell','Cancer Discovery','Cancer Research','Cell','Cell Host & Microbe','Cell Metabolism','Cell Stem Cell','Chemistry & Biology','The EMBO Journal','Genes & Development','Immunity','Journal of Neurology','Journal of the American Chemical Society','JAMA','Journal of Biological Chemistry','Journal of Cell Biology','Journal of Clinical Investigation','Journal of Experimental Medicine','Journal of Medicinal Chemistry','The Lancet','Nature Cell Biology','Nature Chemical Biology','Nature Chemistry','Nature Medicine','Nature Methods','Nature','Nature Biotechnology','The New England Journal of Medicine','Neuron','Nature Genetics','Nature Immunology','Nature Neuroscience','Nature Structural & Molecular Biology','PLOS Biology','PLOS Genetics','PLOS Pathogens','Proceedings of the National Academy of Sciences of the United States of America','Science Signaling','Science Translational Medicine','Science']\n",
    "RETURN q\",\n",
    "\n",
    "\"MATCH (q)-[:CITES]->(p:Quanta)\n",
    "WITH q, collect(p) as references\n",
    "\n",
    "OPTIONAL MATCH (p:Quanta)-[:CITES]->(q)\n",
    "WITH q, references, collect(p) as ij\n",
    "\n",
    "UNWIND references as ref\n",
    "OPTIONAL MATCH (p:Quanta)-[r:CITES]->(ref)\n",
    "WITH q, references, ij, COLLECT(p) as jk\n",
    "\n",
    "WITH q, references, ij, jk, [p in ij where p in jk] as j\n",
    "WITH q, references, ij, jk, j, [p in ij where not(p in j)] as i, [p in jk where not(p in j)] as k\n",
    "WITH q, size(j) as j, size(k) as k, size(i) as i\n",
    "SET q.j = j, q.i = i, q.k = k, q.Disruption = toFloat(i-j)/(i+j+k)\", {batchSize:10000, parallel:true})\n",
    "\"\"\"\n",
    "df = query_to_df(query, graph)"
   ]
  },
  {
   "cell_type": "code",
   "execution_count": null,
   "metadata": {},
   "outputs": [],
   "source": [
    "# Recalculate Disruption\n",
    "# COMPLETE ON ML 5\n",
    "call apoc.periodic.iterate(\n",
    "\"MATCH (q:Quanta) WHERE exists(q.i) AND exists(q.j) AND exists(q.k) \n",
    "AND q.venue in ['Angewandte Chemie','Blood','Cancer Cell','Cancer Discovery','Cancer Research','Cell','Cell Host & Microbe','Cell Metabolism','Cell Stem Cell','Chemistry & Biology','The EMBO Journal','Genes & Development','Immunity','Journal of Neurology','Journal of the American Chemical Society','JAMA','Journal of Biological Chemistry','Journal of Cell Biology','Journal of Clinical Investigation','Journal of Experimental Medicine','Journal of Medicinal Chemistry','The Lancet','Nature Cell Biology','Nature Chemical Biology','Nature Chemistry','Nature Medicine','Nature Methods','Nature','Nature Biotechnology','The New England Journal of Medicine','Neuron','Nature Genetics','Nature Immunology','Nature Neuroscience','Nature Structural & Molecular Biology','PLOS Biology','PLOS Genetics','PLOS Pathogens','Proceedings of the National Academy of Sciences of the United States of America','Science Signaling','Science Translational Medicine','Science']\n",
    "RETURN q\",\n",
    "\n",
    "\"SET q.Disruption = toFloat(q.i-q.j)/(q.i+q.j+q.k)\", {batchSize:1, parallel:true})"
   ]
  },
  {
   "cell_type": "code",
   "execution_count": null,
   "metadata": {},
   "outputs": [],
   "source": [
    "# Fix for j=null\n",
    "# COMPLETE ON ML 5\n",
    "query = \n",
    "\"\"\"\n",
    "call apoc.periodic.iterate(\n",
    "\"MATCH (q:Quanta) WHERE exists(q.i) AND NOT exists(q.j) AND exists(q.k) \n",
    "AND q.venue in ['Angewandte Chemie','Blood','Cancer Cell','Cancer Discovery','Cancer Research','Cell','Cell Host & Microbe','Cell Metabolism','Cell Stem Cell','Chemistry & Biology','The EMBO Journal','Genes & Development','Immunity','Journal of Neurology','Journal of the American Chemical Society','JAMA','Journal of Biological Chemistry','Journal of Cell Biology','Journal of Clinical Investigation','Journal of Experimental Medicine','Journal of Medicinal Chemistry','The Lancet','Nature Cell Biology','Nature Chemical Biology','Nature Chemistry','Nature Medicine','Nature Methods','Nature','Nature Biotechnology','The New England Journal of Medicine','Neuron','Nature Genetics','Nature Immunology','Nature Neuroscience','Nature Structural & Molecular Biology','PLOS Biology','PLOS Genetics','PLOS Pathogens','Proceedings of the National Academy of Sciences of the United States of America','Science Signaling','Science Translational Medicine','Science']\n",
    "RETURN q\",\n",
    "\n",
    "\"SET q.Disruption = toFloat(q.i)/(q.i+q.k)\", {batchSize:10000, parallel:true})\n",
    "\"\"\""
   ]
  },
  {
   "cell_type": "markdown",
   "metadata": {},
   "source": [
    "New queries"
   ]
  },
  {
   "cell_type": "code",
   "execution_count": 5,
   "metadata": {},
   "outputs": [
    {
     "name": "stdout",
     "output_type": "stream",
     "text": [
      "Starting query... Done (2.19 minutes).\n"
     ]
    }
   ],
   "source": [
    "# Disruption by author\n",
    "# COMPLETE ON ML 5\n",
    "query = \"\"\"\n",
    "MATCH (a:Top42Author)-[:AUTHORED]->(q:Quanta)\n",
    "WHERE exists(q.Disruption)\n",
    "AND q.venue in ['Angewandte Chemie','Blood','Cancer Cell','Cancer Discovery','Cancer Research','Cell','Cell Host & Microbe','Cell Metabolism','Cell Stem Cell','Chemistry & Biology','The EMBO Journal','Genes & Development','Immunity','Journal of Neurology','Journal of the American Chemical Society','JAMA','Journal of Biological Chemistry','Journal of Cell Biology','Journal of Clinical Investigation','Journal of Experimental Medicine','Journal of Medicinal Chemistry','The Lancet','Nature Cell Biology','Nature Chemical Biology','Nature Chemistry','Nature Medicine','Nature Methods','Nature','Nature Biotechnology','The New England Journal of Medicine','Neuron','Nature Genetics','Nature Immunology','Nature Neuroscience','Nature Structural & Molecular Biology','PLOS Biology','PLOS Genetics','PLOS Pathogens','Proceedings of the National Academy of Sciences of the United States of America','Science Signaling','Science Translational Medicine','Science']\n",
    "WITH a, COUNT(q) AS num_disrupt, SUM(q.Disruption) AS tot_disrupt, MIN(q.Disruption) AS min_disrupt, MAX(q.Disruption) AS max_disrupt, percentileCont(q.Disruption, 0.5) AS median_disrupt \n",
    "RETURN a.name AS name, num_disrupt, toFloat(tot_disrupt)/num_disrupt AS avg_disrupt, min_disrupt, max_disrupt, median_disrupt\n",
    "\"\"\"\n",
    "df_disruption = query_to_df(query, graph)\n",
    "df_disruption.to_csv('C:\\\\Users\\\\Brend\\\\Downloads\\\\disrupt_top42.csv', index = False, encoding = \"UTF-8\")"
   ]
  },
  {
   "cell_type": "code",
   "execution_count": 15,
   "metadata": {},
   "outputs": [
    {
     "name": "stdout",
     "output_type": "stream",
     "text": [
      "Starting query... Done (1.83 minutes).\n"
     ]
    }
   ],
   "source": [
    "# Disruption by professor\n",
    "# COMPLETE ON ML 5\n",
    "query = \"\"\"\n",
    "MATCH (a:Top42Author)\n",
    "MATCH (a)-[:AUTHORED]->(q:Quanta)\n",
    "WHERE exists(q.Disruption) AND a.last_author_yr <= q.year\n",
    "AND q.venue in ['Angewandte Chemie','Blood','Cancer Cell','Cancer Discovery','Cancer Research','Cell','Cell Host & Microbe','Cell Metabolism','Cell Stem Cell','Chemistry & Biology','The EMBO Journal','Genes & Development','Immunity','Journal of Neurology','Journal of the American Chemical Society','JAMA','Journal of Biological Chemistry','Journal of Cell Biology','Journal of Clinical Investigation','Journal of Experimental Medicine','Journal of Medicinal Chemistry','The Lancet','Nature Cell Biology','Nature Chemical Biology','Nature Chemistry','Nature Medicine','Nature Methods','Nature','Nature Biotechnology','The New England Journal of Medicine','Neuron','Nature Genetics','Nature Immunology','Nature Neuroscience','Nature Structural & Molecular Biology','PLOS Biology','PLOS Genetics','PLOS Pathogens','Proceedings of the National Academy of Sciences of the United States of America','Science Signaling','Science Translational Medicine','Science']\n",
    "WITH a, COUNT(q) AS num_disrupt, SUM(q.Disruption) AS tot_disrupt, MIN(q.Disruption) AS min_disrupt, MAX(q.Disruption) AS max_disrupt, percentileCont(q.Disruption, 0.5) AS median_disrupt \n",
    "RETURN a.name AS name, num_disrupt, toFloat(tot_disrupt)/num_disrupt AS avg_disrupt, min_disrupt, max_disrupt, median_disrupt\n",
    "\"\"\"\n",
    "df_disruption_profs = query_to_df(query, graph)\n",
    "df_disruption_profs.to_csv('C:\\\\Users\\\\Brend\\\\Downloads\\\\disrupt_profs_top42.csv', index = False, encoding = \"UTF-8\")"
   ]
  },
  {
   "cell_type": "code",
   "execution_count": 24,
   "metadata": {},
   "outputs": [
    {
     "name": "stdout",
     "output_type": "stream",
     "text": [
      "Starting query... Done (9.53 minutes).\n"
     ]
    }
   ],
   "source": [
    "# unique_coauthor_profs\n",
    "# RUNNING ON ML 5\n",
    "query = \"\"\"\n",
    "MATCH (a:Top42Author)-[:AUTHORED]->(q:Quanta)<-[:AUTHORED]-(b:Top42Author)\n",
    "\tWHERE q.venue in ['Angewandte Chemie','Blood','Cancer Cell','Cancer Discovery','Cancer Research','Cell','Cell Host & Microbe','Cell Metabolism','Cell Stem Cell','Chemistry & Biology','The EMBO Journal','Genes & Development','Immunity','Journal of Neurology','Journal of the American Chemical Society','JAMA','Journal of Biological Chemistry','Journal of Cell Biology','Journal of Clinical Investigation','Journal of Experimental Medicine','Journal of Medicinal Chemistry','The Lancet','Nature Cell Biology','Nature Chemical Biology','Nature Chemistry','Nature Medicine','Nature Methods','Nature','Nature Biotechnology','The New England Journal of Medicine','Neuron','Nature Genetics','Nature Immunology','Nature Neuroscience','Nature Structural & Molecular Biology','PLOS Biology','PLOS Genetics','PLOS Pathogens','Proceedings of the National Academy of Sciences of the United States of America','Science Signaling','Science Translational Medicine','Science']\n",
    "        AND a.last_author_yr <= q.year AND b.last_author_yr <= q.year\n",
    "    RETURN a.name AS name, count(distinct b) as unique_coauthor_profs\n",
    "    \"\"\"\n",
    "df = query_to_df(query, graph)\n",
    "df.to_csv('C:\\\\Users\\\\Brend\\\\Downloads\\\\unique_profs_top42.csv', index = False, encoding = \"UTF-8\")"
   ]
  },
  {
   "cell_type": "code",
   "execution_count": 7,
   "metadata": {},
   "outputs": [
    {
     "name": "stdout",
     "output_type": "stream",
     "text": [
      "Starting query... Done (1.21 minutes).\n"
     ]
    },
    {
     "data": {
      "text/html": [
       "<div>\n",
       "<style scoped>\n",
       "    .dataframe tbody tr th:only-of-type {\n",
       "        vertical-align: middle;\n",
       "    }\n",
       "\n",
       "    .dataframe tbody tr th {\n",
       "        vertical-align: top;\n",
       "    }\n",
       "\n",
       "    .dataframe thead th {\n",
       "        text-align: right;\n",
       "    }\n",
       "</style>\n",
       "<table border=\"1\" class=\"dataframe\">\n",
       "  <thead>\n",
       "    <tr style=\"text-align: right;\">\n",
       "      <th></th>\n",
       "      <th>avg(q.num_profs_v2)</th>\n",
       "    </tr>\n",
       "  </thead>\n",
       "  <tbody>\n",
       "    <tr>\n",
       "      <th>0</th>\n",
       "      <td>11.327052</td>\n",
       "    </tr>\n",
       "  </tbody>\n",
       "</table>\n",
       "</div>"
      ],
      "text/plain": [
       "   avg(q.num_profs_v2)\n",
       "0            11.327052"
      ]
     },
     "execution_count": 7,
     "metadata": {},
     "output_type": "execute_result"
    }
   ],
   "source": [
    "# Average num_profs_v2\n",
    "# TO RUN ON ML 5\n",
    "query = \"\"\"\n",
    "MATCH (a:Top42Author)-[:AUTHORED]->(q:Quanta)\n",
    "\tWHERE q.venue in ['Angewandte Chemie','Blood','Cancer Cell','Cancer Discovery','Cancer Research','Cell','Cell Host & Microbe','Cell Metabolism','Cell Stem Cell','Chemistry & Biology','The EMBO Journal','Genes & Development','Immunity','Journal of Neurology','Journal of the American Chemical Society','JAMA','Journal of Biological Chemistry','Journal of Cell Biology','Journal of Clinical Investigation','Journal of Experimental Medicine','Journal of Medicinal Chemistry','The Lancet','Nature Cell Biology','Nature Chemical Biology','Nature Chemistry','Nature Medicine','Nature Methods','Nature','Nature Biotechnology','The New England Journal of Medicine','Neuron','Nature Genetics','Nature Immunology','Nature Neuroscience','Nature Structural & Molecular Biology','PLOS Biology','PLOS Genetics','PLOS Pathogens','Proceedings of the National Academy of Sciences of the United States of America','Science Signaling','Science Translational Medicine','Science']\n",
    "    RETURN avg(q.num_profs_v2)\n",
    "    \"\"\"\n",
    "df = query_to_df(query, graph)\n",
    "df"
   ]
  },
  {
   "cell_type": "code",
   "execution_count": 4,
   "metadata": {},
   "outputs": [
    {
     "name": "stdout",
     "output_type": "stream",
     "text": [
      "Starting query... Done (34.22 minutes).\n"
     ]
    }
   ],
   "source": [
    "# unique_coauthor_profs_damped\n",
    "# TO RUN ON ML 5\n",
    "avg_degree = 11.327052\n",
    "query = \"\"\"\n",
    "MATCH (a:Top42Author)-[:AUTHORED]->(q:Quanta)<-[:AUTHORED]-(b:Top42Author)\n",
    "\tWHERE q.venue in ['Angewandte Chemie','Blood','Cancer Cell','Cancer Discovery','Cancer Research','Cell','Cell Host & Microbe','Cell Metabolism','Cell Stem Cell','Chemistry & Biology','The EMBO Journal','Genes & Development','Immunity','Journal of Neurology','Journal of the American Chemical Society','JAMA','Journal of Biological Chemistry','Journal of Cell Biology','Journal of Clinical Investigation','Journal of Experimental Medicine','Journal of Medicinal Chemistry','The Lancet','Nature Cell Biology','Nature Chemical Biology','Nature Chemistry','Nature Medicine','Nature Methods','Nature','Nature Biotechnology','The New England Journal of Medicine','Neuron','Nature Genetics','Nature Immunology','Nature Neuroscience','Nature Structural & Molecular Biology','PLOS Biology','PLOS Genetics','PLOS Pathogens','Proceedings of the National Academy of Sciences of the United States of America','Science Signaling','Science Translational Medicine','Science']\n",
    "        AND a.last_author_yr <= q.year AND b.last_author_yr <= q.year\n",
    "    WITH a, b, \n",
    "        (toFloat(1) / ({} + avg(q.num_profs_v2))) as u_lin,\n",
    "        (toFloat(1) / sqrt({} + avg(q.num_profs_v2))) as u_sqrt,\n",
    "        (toFloat(1) / ({} + avg(q.num_profs_v2))^2) as u_square,\n",
    "        (toFloat(1) / exp({} + avg(q.num_profs_v2))) as u_exp\n",
    "        \n",
    "    RETURN a.name as name, \n",
    "        count(u_lin) as unique_coauthor_profs, \n",
    "        {}*sum(u_lin) as unique_coauthor_profs_lin_damp,\n",
    "        sqrt({})*sum(u_sqrt) as unique_coauthor_profs_sqrt_damp,\n",
    "        {}^2*sum(u_square) as unique_coauthor_profs_square_damp,\n",
    "        exp({})*sum(u_exp) as unique_coauthor_profs_exp_damp\n",
    "    \"\"\".format(avg_degree, avg_degree, avg_degree, avg_degree, avg_degree, avg_degree, avg_degree, avg_degree)\n",
    "df = query_to_df(query, graph)\n",
    "df.to_csv('C:\\\\Users\\\\Brend\\\\Downloads\\\\unique_profs_top42.csv', index = False, encoding = \"UTF-8\")"
   ]
  },
  {
   "cell_type": "code",
   "execution_count": 4,
   "metadata": {},
   "outputs": [
    {
     "name": "stdout",
     "output_type": "stream",
     "text": [
      "Starting query... Done (6.72 minutes).\n"
     ]
    }
   ],
   "source": [
    "# num affiliations for each author\n",
    "query = \"\"\"\n",
    "MATCH (a:Top42Author)-[:AFFILIATED_WITH]->(o:Organization)\n",
    "RETURN a.name as name, COUNT(o) as orgs\n",
    "\"\"\"\n",
    "df = query_to_df(query, graph)\n",
    "df.to_csv('C:\\\\Users\\\\Brend\\\\Downloads\\\\orgs_top42.csv', index = False, encoding = \"UTF-8\")"
   ]
  }
 ],
 "metadata": {
  "kernelspec": {
   "display_name": "Python 3",
   "language": "python",
   "name": "python3"
  },
  "language_info": {
   "codemirror_mode": {
    "name": "ipython",
    "version": 3
   },
   "file_extension": ".py",
   "mimetype": "text/x-python",
   "name": "python",
   "nbconvert_exporter": "python",
   "pygments_lexer": "ipython3",
   "version": "3.6.0"
  }
 },
 "nbformat": 4,
 "nbformat_minor": 2
}
