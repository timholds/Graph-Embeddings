{
 "cells": [
  {
   "cell_type": "code",
   "execution_count": 7,
   "metadata": {},
   "outputs": [],
   "source": [
    "import time\n",
    "import pandas as pd\n",
    "from py2neo import Graph, Node, Relationship"
   ]
  },
  {
   "cell_type": "code",
   "execution_count": 5,
   "metadata": {},
   "outputs": [],
   "source": [
    "def query_to_df(query, graph):\n",
    "    print(\"Starting query...\", end=\" \")\n",
    "    query_start_time = time.time()\n",
    "    df = graph.run(query).to_data_frame()\n",
    "    print(\"Done ({:.2f} minutes).\".format((time.time()-query_start_time)/60))\n",
    "    return df"
   ]
  },
  {
   "cell_type": "code",
   "execution_count": 6,
   "metadata": {},
   "outputs": [
    {
     "name": "stdout",
     "output_type": "stream",
     "text": [
      "Connected to graph database with 278,432,359 nodes and 1,844,501,832 relationships!\n"
     ]
    }
   ],
   "source": [
    "graph = Graph( \"bolt://matlaber5.media.mit.edu:7687\", auth=('neo4j','myneo'))\n",
    "print(\"Connected to graph database with {:,} nodes and {:,} relationships!\".format(\n",
    "    graph.database.primitive_counts['NumberOfNodeIdsInUse'], \n",
    "    graph.database.primitive_counts['NumberOfRelationshipIdsInUse']))"
   ]
  },
  {
   "cell_type": "code",
   "execution_count": 4,
   "metadata": {},
   "outputs": [],
   "source": [
    "top_5 = ['Cell', 'Nature', 'Nature Biotechnology','Proceedings of the National Academy of Sciences of the United States of America','Science']\n",
    "top_10 = ['Cell', 'Nature', 'Nature Biotechnology','Proceedings of the National Academy of Sciences of the United States of America','Science', 'Journal of the American Chemical Society', 'JAMA', 'The New England Journal of Medicine', 'Nature Genetics', 'Neuron']\n",
    "top_42 = ['Angewandte Chemie','Blood','Cancer Cell','Cancer Discovery','Cancer Research','Cell','Cell Host & Microbe','Cell Metabolism','Cell Stem Cell','Chemistry & Biology','The EMBO Journal','Genes & Development','Immunity','Journal of Neurology','Journal of the American Chemical Society','JAMA','Journal of Biological Chemistry','Journal of Cell Biology','Journal of Clinical Investigation','Journal of Experimental Medicine','Journal of Medicinal Chemistry','The Lancet','Nature Cell Biology','Nature Chemical Biology','Nature Chemistry','Nature Medicine','Nature Methods','Nature','Nature Biotechnology','The New England Journal of Medicine','Neuron','Nature Genetics','Nature Immunology','Nature Neuroscience','Nature Structural & Molecular Biology','PLOS Biology','PLOS Genetics','PLOS Pathogens','Proceedings of the National Academy of Sciences of the United States of America','Science Signaling','Science Translational Medicine','Science']"
   ]
  },
  {
   "cell_type": "code",
   "execution_count": 13,
   "metadata": {},
   "outputs": [
    {
     "name": "stdout",
     "output_type": "stream",
     "text": [
      "['Ulrich K. Laemmli', 'Stephen F. Altschul', 'David J. Lipman', 'Tom Maniatis', 'Oliver H. Lowry', 'Joseph Sambrook', 'Lars Hedin', 'Kary B. Mullis', 'William H. Stein', 'Randall K. Saiki', 'Stanford Moore', 'Theophil Staehelin', 'Mark S. Guyer', 'Saul A. Teukolsky', 'William T. Friedewald', 'Paul Meier', 'Amos Tversky', 'Sidney P. Colowick', 'A. F. Huxley', 'Harry Towbin', 'Koichiro Tamura', 'W. James Kent', 'Lucinda Fulton', 'Arian Smit', 'Torsten N. Wiesel', 'Jeffrey Vieira', 'Folke Skoog', 'Marilyn Bergner', 'Eugene W. Myers', 'Thomas R. Dawber', 'Desmond G. Higgins', 'Alan Coulson', 'A. L. Hodgkin', 'Leon Festinger', 'Carole A. Cull', 'G. E. Palade', 'Masatoshi Nei', 'C Redmond', 'Rebecca DerSimonian', 'Marjorie B. Lees', 'Terrence S. Furey', 'Eli Robins', 'Richard Helm', 'I. M. Stratton', 'Josep F. Abril', 'Julie D. Thompson', 'Katherine M. Flegal', 'Daniel Kahneman', 'Joseph L. Fleiss', 'Russell Higuchi', 'B. G. Barrell', 'Michael C. Wendl', 'E. Kellenberger', 'John H. Holland', 'James I. Cleeman', 'N. E. Day', 'John E. Ware', 'Felsenfeld Al', 'Michael C. Zody', 'Toby J. Gibson', 'LaDeana W. Hillier', 'Steven E. Scherer', 'Nicoletta Sacchi', 'Edwin M. Southern', 'Webb Miller', 'Kara Dolinski', 'Geoffrey E. Hinton', 'Nan M. Laird', 'Jane Peterson', 'Susan E. Folstein', 'Deanna M. Church', 'Marshal F. Folstein', 'Renaud Capdeville', 'Tavia Gordon', 'Sean R. Eddy', 'Catherine A. Ball', 'R W Davis', 'Richard H. Creech', 'Qui-Lim Choo', 'Margaret D. Carroll', 'Elizabeth Lacy', 'Anthony R. Kerlavage', 'David G. Lowe', 'Kenneth J. Livak', 'Mark T. Ross', 'Martin Gibson', 'Michael B. Eisen', 'Tobias Doerks', 'David R. Cox', 'Michael R. Hee', 'Granger G. Sutton', 'Jacques Ferlay', 'Todd M. Lowe', 'Peter W. J. Rigby', 'David L. Donoho', 'Parnesh Raniga', 'Carl-Magnus Rudenstam', 'Martin Ringwald', 'Jane G. Schaller', 'Kevin McKernan', 'Nj Bell', 'Yoav Freund', 'Jeffrey C. Lee', 'Patrick O. Brown', 'Georges Köhler', 'Aravind Subramanian', 'Edward J. Roccella', 'Donald B. Rubin', 'Liesi E. Hebert', 'Mary Burden', 'Ian Korf', 'David R. Bentley', 'Tim R. Mosmann', 'Stephen T. Sherry', 'Gavin Sherlock', 'David P. Bartel', 'Richard R. Copley', 'David W. Hosmer', 'Victor R. Ambros', 'Trevor Hawkins', 'Gordon J', 'Cynthia L. Ogden', 'Wayne J. Higgins', 'Michaele C. Christian', 'W. M. Cowan', 'Amy E. Pasquinelli', 'Jill P. Mesirov', 'Aileen Robertson', \"Patrick H. O'Farrell\", 'Robert B. Catalano', 'John P. Huelsenbeck', 'Clifford L. Johnson', 'Sergey V. Morozov', 'J. Michael Cherry', 'J Holmes', 'al. et', 'William P. Castelli', 'Lee Rowen', 'B. A. Roe', \"Karen O'Rourke\", 'Vishwanath R. Iyer', 'J Martin Bland', 'Aaron L. Halpern', 'Karen A. Ketchum', 'Mark Dickson', 'Timothy Fennell', 'Ellen E. Walters', 'Patrick Minx', 'Jeremy Peterson', 'Richard R. Hudson', 'David Botstein', 'Margherita Maffei', 'Richard Durbin', 'P Park']\n",
      "154\n"
     ]
    }
   ],
   "source": [
    "import pandas as pd\n",
    "df_impact_rank = pd.read_csv('~/Workspace/UROP/scaling-science/notebooks/Collaboration/Data/impact_rank_1000.csv', \n",
    "                             encoding = \"UTF-8\")\n",
    "top_profs = []\n",
    "for p in list(df_impact_rank.head(200)['avg_PR']):\n",
    "    if p in list(df_impact_rank.head(200)['avg_AR']):\n",
    "        top_profs.append(p)\n",
    "print(top_profs)\n",
    "print(len(top_profs))"
   ]
  },
  {
   "cell_type": "code",
   "execution_count": 17,
   "metadata": {},
   "outputs": [],
   "source": [
    "f =  open('/home/brendan/Workspace/UROP/scaling-science/notebooks/Collaboration/Data/impact_1000.txt', 'w')\n",
    "f.write('[')\n",
    "for prof in top_profs[:-1]:\n",
    "    f.write(\"'\" + prof + \"', \")\n",
    "f.write(\"'\" + top_profs[-1] + \"']\")\n",
    "f.close()"
   ]
  },
  {
   "cell_type": "code",
   "execution_count": null,
   "metadata": {},
   "outputs": [
    {
     "name": "stdout",
     "output_type": "stream",
     "text": [
      "Starting query... "
     ]
    }
   ],
   "source": [
    "# Average num_authors\n",
    "query = \"\"\"call apoc.periodic.iterate(\n",
    "    \"MATCH (b:Top42Author)-[:AUTHORED]-(pub:Quanta)\n",
    "    RETURN pub, COUNT(DISTINCT b) as num_authors\",\n",
    "    \"SET pub.num_authors = num_authors\", {batchSize:10000, iterateList:true, parallel:true})\n",
    "    \"\"\"\n",
    "df = query_to_df(query, graph)\n",
    "df\n",
    "\n",
    "query = \"\"\"\n",
    "call apoc.export.csv.query(\n",
    "\"MATCH (a:Top42Author)-[:AUTHORED]->(q:Quanta)\n",
    "\tWHERE q.venue in ['Angewandte Chemie','Blood','Cancer Cell','Cancer Discovery','Cancer Research','Cell','Cell Host & Microbe','Cell Metabolism','Cell Stem Cell','Chemistry & Biology','The EMBO Journal','Genes & Development','Immunity','Journal of Neurology','Journal of the American Chemical Society','JAMA','Journal of Biological Chemistry','Journal of Cell Biology','Journal of Clinical Investigation','Journal of Experimental Medicine','Journal of Medicinal Chemistry','The Lancet','Nature Cell Biology','Nature Chemical Biology','Nature Chemistry','Nature Medicine','Nature Methods','Nature','Nature Biotechnology','The New England Journal of Medicine','Neuron','Nature Genetics','Nature Immunology','Nature Neuroscience','Nature Structural & Molecular Biology','PLOS Biology','PLOS Genetics','PLOS Pathogens','Proceedings of the National Academy of Sciences of the United States of America','Science Signaling','Science Translational Medicine','Science']\n",
    "    RETURN avg(q.num_authors)\"\n",
    ", \"/data/csv/avg_num_authors.csv\", {batchSize:10000, iterateList:true, parallel:true})\n",
    "    \"\"\"\n",
    "df = query_to_df(query, graph)\n",
    "df"
   ]
  },
  {
   "cell_type": "code",
   "execution_count": 19,
   "metadata": {},
   "outputs": [
    {
     "name": "stdout",
     "output_type": "stream",
     "text": [
      "Starting query... Done (0.01 minutes).\n"
     ]
    }
   ],
   "source": [
    "# Disruption\n",
    "query = \"\"\"\n",
    "call apoc.export.csv.query(\n",
    "\"MATCH (a:Top42Author)\n",
    "WHERE a.last_author_yr > 2013 \n",
    "\n",
    "MATCH (a)-[:AUTHORED]->(q:Quanta)<-[:AUTHORED]-(b:Author)\n",
    "WHERE q.venue in ['Angewandte Chemie','Blood','Cancer Cell','Cancer Discovery','Cancer Research','Cell','Cell Host & Microbe','Cell Metabolism','Cell Stem Cell','Chemistry & Biology','The EMBO Journal','Genes & Development','Immunity','Journal of Neurology','Journal of the American Chemical Society','JAMA','Journal of Biological Chemistry','Journal of Cell Biology','Journal of Clinical Investigation','Journal of Experimental Medicine','Journal of Medicinal Chemistry','The Lancet','Nature Cell Biology','Nature Chemical Biology','Nature Chemistry','Nature Medicine','Nature Methods','Nature','Nature Biotechnology','The New England Journal of Medicine','Neuron','Nature Genetics','Nature Immunology','Nature Neuroscience','Nature Structural & Molecular Biology','PLOS Biology','PLOS Genetics','PLOS Pathogens','Proceedings of the National Academy of Sciences of the United States of America','Science Signaling','Science Translational Medicine','Science']\n",
    "    AND q.year < a.last_author_yr\n",
    "    AND b.name in ['Timothy Fennell', 'Parnesh Raniga', 'Jeffrey C. Lee', 'James I. Cleeman', 'Todd M. Lowe', 'Amos Tversky', 'Eli Robins', 'Stephen T. Sherry', 'Desmond G. Higgins', 'John G. Kirkwood', 'Jane Peterson', 'Michael B. Eisen', 'G. E. Palade', 'Wayne J. Higgins', 'Sean R. Eddy', 'Torsten N. Wiesel', 'Jacques Ferlay', 'Nan M. Laird', 'Aravind Subramanian', 'Nathan Mantel', 'LaDeana W. Hillier', 'Richard Helm', 'Arian Smit', 'Anthony R. Kerlavage', 'Oliver H. Lowry', 'Carl-Magnus Rudenstam', 'P. Armitage', 'Nj Bell', 'Richard H. Creech', 'Russell Higuchi', 'Tobias Doerks', 'Theophil Staehelin', 'Edwin M. Southern', 'Sidney P. Colowick', 'Nicoletta Sacchi', 'J. Gillis', 'Stephen F. Altschul', 'Leon Festinger', 'I. M. Stratton', 'Julie D. Thompson', 'Thomas R. Dawber', 'Stanford Moore', 'E. Kellenberger', 'Kary B. Mullis', 'David A. Hungerford', 'Koichiro Tamura', 'Marshal F. Folstein', 'Tom Maniatis', 'Steven E. Scherer', 'C Redmond', 'Daniel Kahneman', 'Margaret D. Carroll', 'Elizabeth Lacy', 'David S. Johnson', 'Tavia Gordon', 'Ian Korf', 'David J. Dooling', 'R. A. Fisher', 'Marjorie B. Lees', 'Harry Towbin', 'William H. Stein', 'Paul Meier', 'Mark S. Guyer', 'Terrence S. Furey', 'Kara Dolinski', 'John P. Huelsenbeck', 'Jane G. Schaller', 'Susan E. Folstein', 'Randall K. Saiki', 'Ulrich K. Laemmli', 'William T. Friedewald', 'Michael L. Watson', 'F. Sanger', 'David P. Bartel', 'Rebecca DerSimonian', 'Felsenfeld Al', 'Michael C. Wendl', 'Saul A. Teukolsky', 'Parkhurst A. Shore', 'Josep F. Abril', 'David R. Bentley', 'N. E. Day', 'Kevin McKernan', 'Qui-Lim Choo', 'Tim R. Mosmann', 'Joseph L. Fleiss', 'Carole A. Cull', 'Thomas D. Schmittgen', 'Mark T. Ross', 'W. James Kent', 'Catherine A. Ball', 'Lucinda Fulton', 'Jeffrey Vieira', 'Patrick O. Brown', 'Kenneth J. Livak', 'Granger G. Sutton', 'David J. Lipman', 'Deanna M. Church', 'John E. Ware', 'Michael C. Zody', 'A. F. Huxley', 'Renaud Capdeville', 'A. L. Hodgkin', 'Sidney J. Cutler', 'Eugene W. Myers', 'Alan Coulson', 'Joseph Sambrook', 'Lars Hedin', 'Martin Gibson', 'Martin Ringwald', 'Marilyn Bergner', 'Masatoshi Nei', 'William Haenszel', 'D. R. Cox', 'R W Davis', 'Folke Skoog', 'Geoffrey E. Hinton', 'Ellen E. Walters', 'Edward J. Roccella', 'Webb Miller', 'David G. Lowe', 'Katherine M. Flegal', 'Toby J. Gibson', 'John H. Holland', 'B. G. Barrell', 'Robert C. Onofrio']\n",
    "\n",
    "WITH a, COUNT(q) AS num_top_collabs, COLLECT(DISTINCT b.name) as top_collabs\n",
    "WHERE num_top_collabs > 3 \n",
    "\n",
    "MATCH (a)-[:AUTHORED]->(q:Quanta)\n",
    "WHERE q.venue in ['Angewandte Chemie','Blood','Cancer Cell','Cancer Discovery','Cancer Research','Cell','Cell Host & Microbe','Cell Metabolism','Cell Stem Cell','Chemistry & Biology','The EMBO Journal','Genes & Development','Immunity','Journal of Neurology','Journal of the American Chemical Society','JAMA','Journal of Biological Chemistry','Journal of Cell Biology','Journal of Clinical Investigation','Journal of Experimental Medicine','Journal of Medicinal Chemistry','The Lancet','Nature Cell Biology','Nature Chemical Biology','Nature Chemistry','Nature Medicine','Nature Methods','Nature','Nature Biotechnology','The New England Journal of Medicine','Neuron','Nature Genetics','Nature Immunology','Nature Neuroscience','Nature Structural & Molecular Biology','PLOS Biology','PLOS Genetics','PLOS Pathogens','Proceedings of the National Academy of Sciences of the United States of America','Science Signaling','Science Translational Medicine','Science']\n",
    "     AND exists(q.Disruption) AND a.last_author_yr <= q.year \n",
    "WITH a, top_collabs, COUNT(q) AS num_disrupt, SUM(q.Disruption) AS tot_disrupt, MIN(q.Disruption) AS min_disrupt, MAX(q.Disruption) AS max_disrupt, percentileCont(q.Disruption, 0.5) AS median_disrupt \n",
    "RETURN a.last_author_yr AS last_author_yr, \n",
    "    a.name AS name, \n",
    "    top_collabs,\n",
    "    num_disrupt, \n",
    "    toFloat(tot_disrupt)/num_disrupt AS avg_disrupt, \n",
    "    min_disrupt, \n",
    "    max_disrupt, \n",
    "    median_disrupt\"\n",
    ", \"/data/csv/Disrupt_Early_Profs_2.csv\", {batchSize:100, iterateList:true, parallel:true})\n",
    "\"\"\"\n",
    "df_disruption = query_to_df(query, graph)\n",
    "# df_disruption.to_csv('~/Workspace/UROP/scaling-science/notebooks/Collaboration/Data/Disrupt_Early_Profs.csv', index = False, encoding = \"UTF-8\")"
   ]
  },
  {
   "cell_type": "code",
   "execution_count": 18,
   "metadata": {},
   "outputs": [
    {
     "name": "stdout",
     "output_type": "stream",
     "text": [
      "Starting query... Done (0.03 minutes).\n"
     ]
    }
   ],
   "source": [
    "# Collaboration\n",
    "avg_degree = 11.327052\n",
    "query = \"\"\"\n",
    "call apoc.export.csv.query(\n",
    "\"MATCH (a:Top42Author)\n",
    "WHERE a.last_author_yr > 2013 \n",
    "\n",
    "MATCH (a)-[:AUTHORED]->(q:Quanta)<-[:AUTHORED]-(b:Author)\n",
    "WHERE q.venue in ['Angewandte Chemie','Blood','Cancer Cell','Cancer Discovery','Cancer Research','Cell','Cell Host & Microbe','Cell Metabolism','Cell Stem Cell','Chemistry & Biology','The EMBO Journal','Genes & Development','Immunity','Journal of Neurology','Journal of the American Chemical Society','JAMA','Journal of Biological Chemistry','Journal of Cell Biology','Journal of Clinical Investigation','Journal of Experimental Medicine','Journal of Medicinal Chemistry','The Lancet','Nature Cell Biology','Nature Chemical Biology','Nature Chemistry','Nature Medicine','Nature Methods','Nature','Nature Biotechnology','The New England Journal of Medicine','Neuron','Nature Genetics','Nature Immunology','Nature Neuroscience','Nature Structural & Molecular Biology','PLOS Biology','PLOS Genetics','PLOS Pathogens','Proceedings of the National Academy of Sciences of the United States of America','Science Signaling','Science Translational Medicine','Science']\n",
    "    AND q.year < a.last_author_yr\n",
    "    AND b.name in ['Timothy Fennell', 'Parnesh Raniga', 'Jeffrey C. Lee', 'James I. Cleeman', 'Todd M. Lowe', 'Amos Tversky', 'Eli Robins', 'Stephen T. Sherry', 'Desmond G. Higgins', 'John G. Kirkwood', 'Jane Peterson', 'Michael B. Eisen', 'G. E. Palade', 'Wayne J. Higgins', 'Sean R. Eddy', 'Torsten N. Wiesel', 'Jacques Ferlay', 'Nan M. Laird', 'Aravind Subramanian', 'Nathan Mantel', 'LaDeana W. Hillier', 'Richard Helm', 'Arian Smit', 'Anthony R. Kerlavage', 'Oliver H. Lowry', 'Carl-Magnus Rudenstam', 'P. Armitage', 'Nj Bell', 'Richard H. Creech', 'Russell Higuchi', 'Tobias Doerks', 'Theophil Staehelin', 'Edwin M. Southern', 'Sidney P. Colowick', 'Nicoletta Sacchi', 'J. Gillis', 'Stephen F. Altschul', 'Leon Festinger', 'I. M. Stratton', 'Julie D. Thompson', 'Thomas R. Dawber', 'Stanford Moore', 'E. Kellenberger', 'Kary B. Mullis', 'David A. Hungerford', 'Koichiro Tamura', 'Marshal F. Folstein', 'Tom Maniatis', 'Steven E. Scherer', 'C Redmond', 'Daniel Kahneman', 'Margaret D. Carroll', 'Elizabeth Lacy', 'David S. Johnson', 'Tavia Gordon', 'Ian Korf', 'David J. Dooling', 'R. A. Fisher', 'Marjorie B. Lees', 'Harry Towbin', 'William H. Stein', 'Paul Meier', 'Mark S. Guyer', 'Terrence S. Furey', 'Kara Dolinski', 'John P. Huelsenbeck', 'Jane G. Schaller', 'Susan E. Folstein', 'Randall K. Saiki', 'Ulrich K. Laemmli', 'William T. Friedewald', 'Michael L. Watson', 'F. Sanger', 'David P. Bartel', 'Rebecca DerSimonian', 'Felsenfeld Al', 'Michael C. Wendl', 'Saul A. Teukolsky', 'Parkhurst A. Shore', 'Josep F. Abril', 'David R. Bentley', 'N. E. Day', 'Kevin McKernan', 'Qui-Lim Choo', 'Tim R. Mosmann', 'Joseph L. Fleiss', 'Carole A. Cull', 'Thomas D. Schmittgen', 'Mark T. Ross', 'W. James Kent', 'Catherine A. Ball', 'Lucinda Fulton', 'Jeffrey Vieira', 'Patrick O. Brown', 'Kenneth J. Livak', 'Granger G. Sutton', 'David J. Lipman', 'Deanna M. Church', 'John E. Ware', 'Michael C. Zody', 'A. F. Huxley', 'Renaud Capdeville', 'A. L. Hodgkin', 'Sidney J. Cutler', 'Eugene W. Myers', 'Alan Coulson', 'Joseph Sambrook', 'Lars Hedin', 'Martin Gibson', 'Martin Ringwald', 'Marilyn Bergner', 'Masatoshi Nei', 'William Haenszel', 'D. R. Cox', 'R W Davis', 'Folke Skoog', 'Geoffrey E. Hinton', 'Ellen E. Walters', 'Edward J. Roccella', 'Webb Miller', 'David G. Lowe', 'Katherine M. Flegal', 'Toby J. Gibson', 'John H. Holland', 'B. G. Barrell', 'Robert C. Onofrio']\n",
    "\n",
    "WITH a, COUNT(q) AS num_top_collabs, COLLECT(DISTINCT b.name) as top_collabs\n",
    "WHERE num_top_collabs > 3\n",
    "\n",
    "MATCH (a)-[:AUTHORED]->(q:Quanta)<-[:AUTHORED]-(b:Top42Author)\n",
    "    WHERE q.venue in ['Angewandte Chemie','Blood','Cancer Cell','Cancer Discovery','Cancer Research','Cell','Cell Host & Microbe','Cell Metabolism','Cell Stem Cell','Chemistry & Biology','The EMBO Journal','Genes & Development','Immunity','Journal of Neurology','Journal of the American Chemical Society','JAMA','Journal of Biological Chemistry','Journal of Cell Biology','Journal of Clinical Investigation','Journal of Experimental Medicine','Journal of Medicinal Chemistry','The Lancet','Nature Cell Biology','Nature Chemical Biology','Nature Chemistry','Nature Medicine','Nature Methods','Nature','Nature Biotechnology','The New England Journal of Medicine','Neuron','Nature Genetics','Nature Immunology','Nature Neuroscience','Nature Structural & Molecular Biology','PLOS Biology','PLOS Genetics','PLOS Pathogens','Proceedings of the National Academy of Sciences of the United States of America','Science Signaling','Science Translational Medicine','Science']\n",
    "         AND a.last_author_yr <= q.year AND b.last_author_yr <= q.year  \n",
    "    WITH a, top_collabs, b, \n",
    "        (toFloat(1) / (11.327052 + avg(q.num_profs_v2))) as u_lin,\n",
    "        (toFloat(1) / sqrt(11.327052 + avg(q.num_profs_v2))) as u_sqrt,\n",
    "        (toFloat(1) / (11.327052 + avg(q.num_profs_v2))^2) as u_square,\n",
    "        (toFloat(1) / exp(11.327052 + avg(q.num_profs_v2))) as u_exp\n",
    "        \n",
    "    RETURN a.name as name, \n",
    "        top_collabs,\n",
    "        a.last_author_yr as last_author_yr,\n",
    "        count(u_lin) as unique_coauthor_profs, \n",
    "        11.327052*sum(u_lin) as unique_coauthor_profs_lin_damp,\n",
    "        sqrt(11.327052)*sum(u_sqrt) as unique_coauthor_profs_sqrt_damp,\n",
    "        11.327052^2*sum(u_square) as unique_coauthor_profs_square_damp,\n",
    "        exp(11.327052)*sum(u_exp) as unique_coauthor_profs_exp_damp\"\n",
    "        , \"/data/csv/Collab_Early_Profs_2.csv\", {batchSize:100, iterateList:true, parallel:true})\n",
    "    \"\"\"\n",
    "df_collab = query_to_df(query, graph)\n",
    "# df_collab.to_csv('~/Workspace/UROP/scaling-science/notebooks/Collaboration/Data/Collab_Early_Profs.csv', index = False, encoding = \"UTF-8\")"
   ]
  },
  {
   "cell_type": "code",
   "execution_count": 14,
   "metadata": {},
   "outputs": [
    {
     "name": "stdout",
     "output_type": "stream",
     "text": [
      "Starting query... Done (0.01 minutes).\n",
      "Starting query... Done (0.01 minutes).\n"
     ]
    }
   ],
   "source": [
    "# Impact\n",
    "query = \"\"\"\n",
    "call apoc.export.csv.query(\n",
    "\"MATCH (a:Top42Author)\n",
    "WHERE a.last_author_yr > 2016 \n",
    "\n",
    "MATCH (a)-[:AUTHORED]->(q:Quanta)<-[:AUTHORED]-(b:Author)\n",
    "WHERE q.venue in ['Angewandte Chemie','Blood','Cancer Cell','Cancer Discovery','Cancer Research','Cell','Cell Host & Microbe','Cell Metabolism','Cell Stem Cell','Chemistry & Biology','The EMBO Journal','Genes & Development','Immunity','Journal of Neurology','Journal of the American Chemical Society','JAMA','Journal of Biological Chemistry','Journal of Cell Biology','Journal of Clinical Investigation','Journal of Experimental Medicine','Journal of Medicinal Chemistry','The Lancet','Nature Cell Biology','Nature Chemical Biology','Nature Chemistry','Nature Medicine','Nature Methods','Nature','Nature Biotechnology','The New England Journal of Medicine','Neuron','Nature Genetics','Nature Immunology','Nature Neuroscience','Nature Structural & Molecular Biology','PLOS Biology','PLOS Genetics','PLOS Pathogens','Proceedings of the National Academy of Sciences of the United States of America','Science Signaling','Science Translational Medicine','Science']\n",
    "    AND q.year < a.last_author_yr\n",
    "    AND b.name in ['Timothy Fennell', 'Parnesh Raniga', 'Jeffrey C. Lee', 'James I. Cleeman', 'Todd M. Lowe', 'Amos Tversky', 'Eli Robins', 'Stephen T. Sherry', 'Desmond G. Higgins', 'John G. Kirkwood', 'Jane Peterson', 'Michael B. Eisen', 'G. E. Palade', 'Wayne J. Higgins', 'Sean R. Eddy', 'Torsten N. Wiesel', 'Jacques Ferlay', 'Nan M. Laird', 'Aravind Subramanian', 'Nathan Mantel', 'LaDeana W. Hillier', 'Richard Helm', 'Arian Smit', 'Anthony R. Kerlavage', 'Oliver H. Lowry', 'Carl-Magnus Rudenstam', 'P. Armitage', 'Nj Bell', 'Richard H. Creech', 'Russell Higuchi', 'Tobias Doerks', 'Theophil Staehelin', 'Edwin M. Southern', 'Sidney P. Colowick', 'Nicoletta Sacchi', 'J. Gillis', 'Stephen F. Altschul', 'Leon Festinger', 'I. M. Stratton', 'Julie D. Thompson', 'Thomas R. Dawber', 'Stanford Moore', 'E. Kellenberger', 'Kary B. Mullis', 'David A. Hungerford', 'Koichiro Tamura', 'Marshal F. Folstein', 'Tom Maniatis', 'Steven E. Scherer', 'C Redmond', 'Daniel Kahneman', 'Margaret D. Carroll', 'Elizabeth Lacy', 'David S. Johnson', 'Tavia Gordon', 'Ian Korf', 'David J. Dooling', 'R. A. Fisher', 'Marjorie B. Lees', 'Harry Towbin', 'William H. Stein', 'Paul Meier', 'Mark S. Guyer', 'Terrence S. Furey', 'Kara Dolinski', 'John P. Huelsenbeck', 'Jane G. Schaller', 'Susan E. Folstein', 'Randall K. Saiki', 'Ulrich K. Laemmli', 'William T. Friedewald', 'Michael L. Watson', 'F. Sanger', 'David P. Bartel', 'Rebecca DerSimonian', 'Felsenfeld Al', 'Michael C. Wendl', 'Saul A. Teukolsky', 'Parkhurst A. Shore', 'Josep F. Abril', 'David R. Bentley', 'N. E. Day', 'Kevin McKernan', 'Qui-Lim Choo', 'Tim R. Mosmann', 'Joseph L. Fleiss', 'Carole A. Cull', 'Thomas D. Schmittgen', 'Mark T. Ross', 'W. James Kent', 'Catherine A. Ball', 'Lucinda Fulton', 'Jeffrey Vieira', 'Patrick O. Brown', 'Kenneth J. Livak', 'Granger G. Sutton', 'David J. Lipman', 'Deanna M. Church', 'John E. Ware', 'Michael C. Zody', 'A. F. Huxley', 'Renaud Capdeville', 'A. L. Hodgkin', 'Sidney J. Cutler', 'Eugene W. Myers', 'Alan Coulson', 'Joseph Sambrook', 'Lars Hedin', 'Martin Gibson', 'Martin Ringwald', 'Marilyn Bergner', 'Masatoshi Nei', 'William Haenszel', 'D. R. Cox', 'R W Davis', 'Folke Skoog', 'Geoffrey E. Hinton', 'Ellen E. Walters', 'Edward J. Roccella', 'Webb Miller', 'David G. Lowe', 'Katherine M. Flegal', 'Toby J. Gibson', 'John H. Holland', 'B. G. Barrell', 'Robert C. Onofrio']\n",
    "WITH a, COUNT(q) AS num_top_collabs, COLLECT(DISTINCT b.name) as top_collabs\n",
    "WHERE num_top_collabs > 3\n",
    "\n",
    "MATCH (a)-[:AUTHORED]->(q:Quanta)\n",
    "WHERE a.last_author_yr > 2013 AND q.venue in ['Angewandte Chemie','Blood','Cancer Cell','Cancer Discovery','Cancer Research','Cell','Cell Host & Microbe','Cell Metabolism','Cell Stem Cell','Chemistry & Biology','The EMBO Journal','Genes & Development','Immunity','Journal of Neurology','Journal of the American Chemical Society','JAMA','Journal of Biological Chemistry','Journal of Cell Biology','Journal of Clinical Investigation','Journal of Experimental Medicine','Journal of Medicinal Chemistry','The Lancet','Nature Cell Biology','Nature Chemical Biology','Nature Chemistry','Nature Medicine','Nature Methods','Nature','Nature Biotechnology','The New England Journal of Medicine','Neuron','Nature Genetics','Nature Immunology','Nature Neuroscience','Nature Structural & Molecular Biology','PLOS Biology','PLOS Genetics','PLOS Pathogens','Proceedings of the National Academy of Sciences of the United States of America','Science Signaling','Science Translational Medicine','Science']\n",
    "    AND a.last_author_yr <= q.year \n",
    "\n",
    "WITH a, top_collabs, COUNT(q) AS num_pubs, \n",
    "    SUM(q.pageRank_2018) AS tot_rank, \n",
    "    MIN(q.pageRank_2018) AS min_rank, \n",
    "    MAX(q.pageRank_2018) AS max_rank, \n",
    "    percentileCont(q.pageRank_2018, 0.5) AS median_rank \n",
    "\n",
    "RETURN a.name AS name, \n",
    "    top_collabs,\n",
    "    num_pubs,\n",
    "    toFloat(tot_rank)/num_pubs AS avg_PR, \n",
    "    min_rank AS min_PR, \n",
    "    max_rank AS max_PR, \n",
    "    median_rank AS median_PR\"\n",
    "    , \"/data/csv/PR_Early_Profs_2.csv\", {batchSize:100, iterateList:true, parallel:true})\n",
    "\n",
    "\"\"\"\n",
    "df_pr = query_to_df(query, graph)\n",
    "\n",
    "query = \"\"\"\n",
    "call apoc.export.csv.query(\n",
    "\"MATCH (a:Top42Author)\n",
    "WHERE a.last_author_yr > 2013 \n",
    "\n",
    "MATCH (a)-[:AUTHORED]->(q:Quanta)<-[:AUTHORED]-(b:Author)\n",
    "WHERE q.venue in ['Angewandte Chemie','Blood','Cancer Cell','Cancer Discovery','Cancer Research','Cell','Cell Host & Microbe','Cell Metabolism','Cell Stem Cell','Chemistry & Biology','The EMBO Journal','Genes & Development','Immunity','Journal of Neurology','Journal of the American Chemical Society','JAMA','Journal of Biological Chemistry','Journal of Cell Biology','Journal of Clinical Investigation','Journal of Experimental Medicine','Journal of Medicinal Chemistry','The Lancet','Nature Cell Biology','Nature Chemical Biology','Nature Chemistry','Nature Medicine','Nature Methods','Nature','Nature Biotechnology','The New England Journal of Medicine','Neuron','Nature Genetics','Nature Immunology','Nature Neuroscience','Nature Structural & Molecular Biology','PLOS Biology','PLOS Genetics','PLOS Pathogens','Proceedings of the National Academy of Sciences of the United States of America','Science Signaling','Science Translational Medicine','Science']\n",
    "    AND q.year < a.last_author_yr\n",
    "    AND b.name in ['Timothy Fennell', 'Parnesh Raniga', 'Jeffrey C. Lee', 'James I. Cleeman', 'Todd M. Lowe', 'Amos Tversky', 'Eli Robins', 'Stephen T. Sherry', 'Desmond G. Higgins', 'John G. Kirkwood', 'Jane Peterson', 'Michael B. Eisen', 'G. E. Palade', 'Wayne J. Higgins', 'Sean R. Eddy', 'Torsten N. Wiesel', 'Jacques Ferlay', 'Nan M. Laird', 'Aravind Subramanian', 'Nathan Mantel', 'LaDeana W. Hillier', 'Richard Helm', 'Arian Smit', 'Anthony R. Kerlavage', 'Oliver H. Lowry', 'Carl-Magnus Rudenstam', 'P. Armitage', 'Nj Bell', 'Richard H. Creech', 'Russell Higuchi', 'Tobias Doerks', 'Theophil Staehelin', 'Edwin M. Southern', 'Sidney P. Colowick', 'Nicoletta Sacchi', 'J. Gillis', 'Stephen F. Altschul', 'Leon Festinger', 'I. M. Stratton', 'Julie D. Thompson', 'Thomas R. Dawber', 'Stanford Moore', 'E. Kellenberger', 'Kary B. Mullis', 'David A. Hungerford', 'Koichiro Tamura', 'Marshal F. Folstein', 'Tom Maniatis', 'Steven E. Scherer', 'C Redmond', 'Daniel Kahneman', 'Margaret D. Carroll', 'Elizabeth Lacy', 'David S. Johnson', 'Tavia Gordon', 'Ian Korf', 'David J. Dooling', 'R. A. Fisher', 'Marjorie B. Lees', 'Harry Towbin', 'William H. Stein', 'Paul Meier', 'Mark S. Guyer', 'Terrence S. Furey', 'Kara Dolinski', 'John P. Huelsenbeck', 'Jane G. Schaller', 'Susan E. Folstein', 'Randall K. Saiki', 'Ulrich K. Laemmli', 'William T. Friedewald', 'Michael L. Watson', 'F. Sanger', 'David P. Bartel', 'Rebecca DerSimonian', 'Felsenfeld Al', 'Michael C. Wendl', 'Saul A. Teukolsky', 'Parkhurst A. Shore', 'Josep F. Abril', 'David R. Bentley', 'N. E. Day', 'Kevin McKernan', 'Qui-Lim Choo', 'Tim R. Mosmann', 'Joseph L. Fleiss', 'Carole A. Cull', 'Thomas D. Schmittgen', 'Mark T. Ross', 'W. James Kent', 'Catherine A. Ball', 'Lucinda Fulton', 'Jeffrey Vieira', 'Patrick O. Brown', 'Kenneth J. Livak', 'Granger G. Sutton', 'David J. Lipman', 'Deanna M. Church', 'John E. Ware', 'Michael C. Zody', 'A. F. Huxley', 'Renaud Capdeville', 'A. L. Hodgkin', 'Sidney J. Cutler', 'Eugene W. Myers', 'Alan Coulson', 'Joseph Sambrook', 'Lars Hedin', 'Martin Gibson', 'Martin Ringwald', 'Marilyn Bergner', 'Masatoshi Nei', 'William Haenszel', 'D. R. Cox', 'R W Davis', 'Folke Skoog', 'Geoffrey E. Hinton', 'Ellen E. Walters', 'Edward J. Roccella', 'Webb Miller', 'David G. Lowe', 'Katherine M. Flegal', 'Toby J. Gibson', 'John H. Holland', 'B. G. Barrell', 'Robert C. Onofrio']\n",
    "WITH a, COUNT(q) AS num_top_collabs, COLLECT(DISTINCT b.name) as top_collabs\n",
    "WHERE num_top_collabs > 3\n",
    "\n",
    "MATCH (a)-[:AUTHORED]->(q:Quanta)\n",
    "WHERE a.last_author_yr > 2013 AND q.venue in ['Angewandte Chemie','Blood','Cancer Cell','Cancer Discovery','Cancer Research','Cell','Cell Host & Microbe','Cell Metabolism','Cell Stem Cell','Chemistry & Biology','The EMBO Journal','Genes & Development','Immunity','Journal of Neurology','Journal of the American Chemical Society','JAMA','Journal of Biological Chemistry','Journal of Cell Biology','Journal of Clinical Investigation','Journal of Experimental Medicine','Journal of Medicinal Chemistry','The Lancet','Nature Cell Biology','Nature Chemical Biology','Nature Chemistry','Nature Medicine','Nature Methods','Nature','Nature Biotechnology','The New England Journal of Medicine','Neuron','Nature Genetics','Nature Immunology','Nature Neuroscience','Nature Structural & Molecular Biology','PLOS Biology','PLOS Genetics','PLOS Pathogens','Proceedings of the National Academy of Sciences of the United States of America','Science Signaling','Science Translational Medicine','Science']\n",
    "    AND a.last_author_yr <= q.year \n",
    "\n",
    "WITH a, top_collabs, COUNT(q) AS num_pubs, \n",
    "    SUM(q.articleRank2018) AS tot_rank, \n",
    "    MIN(q.articleRank2018) AS min_rank, \n",
    "    MAX(q.articleRank2018) AS max_rank, \n",
    "    percentileCont(q.articleRank2018, 0.5) AS median_rank \n",
    "    \n",
    "RETURN a.name AS name, \n",
    "    top_collabs,\n",
    "    toFloat(tot_rank)/num_pubs AS avg_AR, \n",
    "    min_rank AS min_AR, \n",
    "    max_rank AS max_AR, \n",
    "    median_rank AS median_AR\"\n",
    "    , \"/data/csv/AR_Early_Profs_2.csv\", {batchSize:100, iterateList:true, parallel:true})\n",
    "\n",
    "\"\"\"\n",
    "df_ar = query_to_df(query, graph)"
   ]
  },
  {
   "cell_type": "code",
   "execution_count": 5,
   "metadata": {},
   "outputs": [
    {
     "name": "stdout",
     "output_type": "stream",
     "text": [
      "Starting query... Done (0.02 minutes).\n",
      "Starting query... Done (0.01 minutes).\n"
     ]
    }
   ],
   "source": [
    "avg_num_authors = 14.6906612\n",
    "# Impact deweighted by num_authors\n",
    "query = \"\"\"\n",
    "call apoc.export.csv.query(\n",
    "\"MATCH (a:Top42Author)\n",
    "WHERE a.last_author_yr > 2013 \n",
    "\n",
    "MATCH (a)-[:AUTHORED]->(q:Quanta)<-[:AUTHORED]-(b:Author)\n",
    "WHERE q.venue in ['Angewandte Chemie','Blood','Cancer Cell','Cancer Discovery','Cancer Research','Cell','Cell Host & Microbe','Cell Metabolism','Cell Stem Cell','Chemistry & Biology','The EMBO Journal','Genes & Development','Immunity','Journal of Neurology','Journal of the American Chemical Society','JAMA','Journal of Biological Chemistry','Journal of Cell Biology','Journal of Clinical Investigation','Journal of Experimental Medicine','Journal of Medicinal Chemistry','The Lancet','Nature Cell Biology','Nature Chemical Biology','Nature Chemistry','Nature Medicine','Nature Methods','Nature','Nature Biotechnology','The New England Journal of Medicine','Neuron','Nature Genetics','Nature Immunology','Nature Neuroscience','Nature Structural & Molecular Biology','PLOS Biology','PLOS Genetics','PLOS Pathogens','Proceedings of the National Academy of Sciences of the United States of America','Science Signaling','Science Translational Medicine','Science']\n",
    "    AND q.year < a.last_author_yr\n",
    "    AND b.name in ['Timothy Fennell', 'Parnesh Raniga', 'Jeffrey C. Lee', 'James I. Cleeman', 'Todd M. Lowe', 'Amos Tversky', 'Eli Robins', 'Stephen T. Sherry', 'Desmond G. Higgins', 'John G. Kirkwood', 'Jane Peterson', 'Michael B. Eisen', 'G. E. Palade', 'Wayne J. Higgins', 'Sean R. Eddy', 'Torsten N. Wiesel', 'Jacques Ferlay', 'Nan M. Laird', 'Aravind Subramanian', 'Nathan Mantel', 'LaDeana W. Hillier', 'Richard Helm', 'Arian Smit', 'Anthony R. Kerlavage', 'Oliver H. Lowry', 'Carl-Magnus Rudenstam', 'P. Armitage', 'Nj Bell', 'Richard H. Creech', 'Russell Higuchi', 'Tobias Doerks', 'Theophil Staehelin', 'Edwin M. Southern', 'Sidney P. Colowick', 'Nicoletta Sacchi', 'J. Gillis', 'Stephen F. Altschul', 'Leon Festinger', 'I. M. Stratton', 'Julie D. Thompson', 'Thomas R. Dawber', 'Stanford Moore', 'E. Kellenberger', 'Kary B. Mullis', 'David A. Hungerford', 'Koichiro Tamura', 'Marshal F. Folstein', 'Tom Maniatis', 'Steven E. Scherer', 'C Redmond', 'Daniel Kahneman', 'Margaret D. Carroll', 'Elizabeth Lacy', 'David S. Johnson', 'Tavia Gordon', 'Ian Korf', 'David J. Dooling', 'R. A. Fisher', 'Marjorie B. Lees', 'Harry Towbin', 'William H. Stein', 'Paul Meier', 'Mark S. Guyer', 'Terrence S. Furey', 'Kara Dolinski', 'John P. Huelsenbeck', 'Jane G. Schaller', 'Susan E. Folstein', 'Randall K. Saiki', 'Ulrich K. Laemmli', 'William T. Friedewald', 'Michael L. Watson', 'F. Sanger', 'David P. Bartel', 'Rebecca DerSimonian', 'Felsenfeld Al', 'Michael C. Wendl', 'Saul A. Teukolsky', 'Parkhurst A. Shore', 'Josep F. Abril', 'David R. Bentley', 'N. E. Day', 'Kevin McKernan', 'Qui-Lim Choo', 'Tim R. Mosmann', 'Joseph L. Fleiss', 'Carole A. Cull', 'Thomas D. Schmittgen', 'Mark T. Ross', 'W. James Kent', 'Catherine A. Ball', 'Lucinda Fulton', 'Jeffrey Vieira', 'Patrick O. Brown', 'Kenneth J. Livak', 'Granger G. Sutton', 'David J. Lipman', 'Deanna M. Church', 'John E. Ware', 'Michael C. Zody', 'A. F. Huxley', 'Renaud Capdeville', 'A. L. Hodgkin', 'Sidney J. Cutler', 'Eugene W. Myers', 'Alan Coulson', 'Joseph Sambrook', 'Lars Hedin', 'Martin Gibson', 'Martin Ringwald', 'Marilyn Bergner', 'Masatoshi Nei', 'William Haenszel', 'D. R. Cox', 'R W Davis', 'Folke Skoog', 'Geoffrey E. Hinton', 'Ellen E. Walters', 'Edward J. Roccella', 'Webb Miller', 'David G. Lowe', 'Katherine M. Flegal', 'Toby J. Gibson', 'John H. Holland', 'B. G. Barrell', 'Robert C. Onofrio']\n",
    "WITH a, COUNT(q) AS num_top_collabs, COLLECT(DISTINCT b.name) as top_collabs\n",
    "WHERE num_top_collabs > 3\n",
    "\n",
    "MATCH (a)-[:AUTHORED]->(q:Quanta)\n",
    "WHERE a.last_author_yr > 2013 AND q.venue in ['Angewandte Chemie','Blood','Cancer Cell','Cancer Discovery','Cancer Research','Cell','Cell Host & Microbe','Cell Metabolism','Cell Stem Cell','Chemistry & Biology','The EMBO Journal','Genes & Development','Immunity','Journal of Neurology','Journal of the American Chemical Society','JAMA','Journal of Biological Chemistry','Journal of Cell Biology','Journal of Clinical Investigation','Journal of Experimental Medicine','Journal of Medicinal Chemistry','The Lancet','Nature Cell Biology','Nature Chemical Biology','Nature Chemistry','Nature Medicine','Nature Methods','Nature','Nature Biotechnology','The New England Journal of Medicine','Neuron','Nature Genetics','Nature Immunology','Nature Neuroscience','Nature Structural & Molecular Biology','PLOS Biology','PLOS Genetics','PLOS Pathogens','Proceedings of the National Academy of Sciences of the United States of America','Science Signaling','Science Translational Medicine','Science']\n",
    "    AND a.last_author_yr <= q.year \n",
    "WITH a, top_collabs, COUNT(q) AS num_pubs, \n",
    "    SUM(14.6906612 * q.pageRank_2018 / (14.6906612 + q.num_authors)) as tot_rank,\n",
    "    MIN(q.pageRank_2018) AS min_rank, \n",
    "    MAX(q.pageRank_2018) AS max_rank, \n",
    "    percentileCont(q.pageRank_2018, 0.5) AS median_rank \n",
    "\n",
    "RETURN a.name AS name, \n",
    "    top_collabs,\n",
    "    num_pubs,\n",
    "    toFloat(tot_rank)/num_pubs AS avg_PR, \n",
    "    min_rank AS min_PR, \n",
    "    max_rank AS max_PR, \n",
    "    median_rank AS median_PR\"\n",
    "    , \"/data/csv/PR_Early_Profs_2.csv\", {batchSize:100, iterateList:true, parallel:true})\n",
    "\n",
    "\"\"\"\n",
    "df_pr = query_to_df(query, graph)\n",
    "\n",
    "query = \"\"\"\n",
    "call apoc.export.csv.query(\n",
    "\"MATCH (a:Top42Author)\n",
    "WHERE a.last_author_yr > 2013 \n",
    "\n",
    "MATCH (a)-[:AUTHORED]->(q:Quanta)<-[:AUTHORED]-(b:Author)\n",
    "WHERE q.venue in ['Angewandte Chemie','Blood','Cancer Cell','Cancer Discovery','Cancer Research','Cell','Cell Host & Microbe','Cell Metabolism','Cell Stem Cell','Chemistry & Biology','The EMBO Journal','Genes & Development','Immunity','Journal of Neurology','Journal of the American Chemical Society','JAMA','Journal of Biological Chemistry','Journal of Cell Biology','Journal of Clinical Investigation','Journal of Experimental Medicine','Journal of Medicinal Chemistry','The Lancet','Nature Cell Biology','Nature Chemical Biology','Nature Chemistry','Nature Medicine','Nature Methods','Nature','Nature Biotechnology','The New England Journal of Medicine','Neuron','Nature Genetics','Nature Immunology','Nature Neuroscience','Nature Structural & Molecular Biology','PLOS Biology','PLOS Genetics','PLOS Pathogens','Proceedings of the National Academy of Sciences of the United States of America','Science Signaling','Science Translational Medicine','Science']\n",
    "    AND q.year < a.last_author_yr\n",
    "    AND b.name in ['Timothy Fennell', 'Parnesh Raniga', 'Jeffrey C. Lee', 'James I. Cleeman', 'Todd M. Lowe', 'Amos Tversky', 'Eli Robins', 'Stephen T. Sherry', 'Desmond G. Higgins', 'John G. Kirkwood', 'Jane Peterson', 'Michael B. Eisen', 'G. E. Palade', 'Wayne J. Higgins', 'Sean R. Eddy', 'Torsten N. Wiesel', 'Jacques Ferlay', 'Nan M. Laird', 'Aravind Subramanian', 'Nathan Mantel', 'LaDeana W. Hillier', 'Richard Helm', 'Arian Smit', 'Anthony R. Kerlavage', 'Oliver H. Lowry', 'Carl-Magnus Rudenstam', 'P. Armitage', 'Nj Bell', 'Richard H. Creech', 'Russell Higuchi', 'Tobias Doerks', 'Theophil Staehelin', 'Edwin M. Southern', 'Sidney P. Colowick', 'Nicoletta Sacchi', 'J. Gillis', 'Stephen F. Altschul', 'Leon Festinger', 'I. M. Stratton', 'Julie D. Thompson', 'Thomas R. Dawber', 'Stanford Moore', 'E. Kellenberger', 'Kary B. Mullis', 'David A. Hungerford', 'Koichiro Tamura', 'Marshal F. Folstein', 'Tom Maniatis', 'Steven E. Scherer', 'C Redmond', 'Daniel Kahneman', 'Margaret D. Carroll', 'Elizabeth Lacy', 'David S. Johnson', 'Tavia Gordon', 'Ian Korf', 'David J. Dooling', 'R. A. Fisher', 'Marjorie B. Lees', 'Harry Towbin', 'William H. Stein', 'Paul Meier', 'Mark S. Guyer', 'Terrence S. Furey', 'Kara Dolinski', 'John P. Huelsenbeck', 'Jane G. Schaller', 'Susan E. Folstein', 'Randall K. Saiki', 'Ulrich K. Laemmli', 'William T. Friedewald', 'Michael L. Watson', 'F. Sanger', 'David P. Bartel', 'Rebecca DerSimonian', 'Felsenfeld Al', 'Michael C. Wendl', 'Saul A. Teukolsky', 'Parkhurst A. Shore', 'Josep F. Abril', 'David R. Bentley', 'N. E. Day', 'Kevin McKernan', 'Qui-Lim Choo', 'Tim R. Mosmann', 'Joseph L. Fleiss', 'Carole A. Cull', 'Thomas D. Schmittgen', 'Mark T. Ross', 'W. James Kent', 'Catherine A. Ball', 'Lucinda Fulton', 'Jeffrey Vieira', 'Patrick O. Brown', 'Kenneth J. Livak', 'Granger G. Sutton', 'David J. Lipman', 'Deanna M. Church', 'John E. Ware', 'Michael C. Zody', 'A. F. Huxley', 'Renaud Capdeville', 'A. L. Hodgkin', 'Sidney J. Cutler', 'Eugene W. Myers', 'Alan Coulson', 'Joseph Sambrook', 'Lars Hedin', 'Martin Gibson', 'Martin Ringwald', 'Marilyn Bergner', 'Masatoshi Nei', 'William Haenszel', 'D. R. Cox', 'R W Davis', 'Folke Skoog', 'Geoffrey E. Hinton', 'Ellen E. Walters', 'Edward J. Roccella', 'Webb Miller', 'David G. Lowe', 'Katherine M. Flegal', 'Toby J. Gibson', 'John H. Holland', 'B. G. Barrell', 'Robert C. Onofrio']\n",
    "WITH a, COUNT(q) AS num_top_collabs, COLLECT(DISTINCT b.name) as top_collabs\n",
    "WHERE num_top_collabs > 3\n",
    "\n",
    "MATCH (a)-[:AUTHORED]->(q:Quanta)\n",
    "WHERE a.last_author_yr > 2013 AND q.venue in ['Angewandte Chemie','Blood','Cancer Cell','Cancer Discovery','Cancer Research','Cell','Cell Host & Microbe','Cell Metabolism','Cell Stem Cell','Chemistry & Biology','The EMBO Journal','Genes & Development','Immunity','Journal of Neurology','Journal of the American Chemical Society','JAMA','Journal of Biological Chemistry','Journal of Cell Biology','Journal of Clinical Investigation','Journal of Experimental Medicine','Journal of Medicinal Chemistry','The Lancet','Nature Cell Biology','Nature Chemical Biology','Nature Chemistry','Nature Medicine','Nature Methods','Nature','Nature Biotechnology','The New England Journal of Medicine','Neuron','Nature Genetics','Nature Immunology','Nature Neuroscience','Nature Structural & Molecular Biology','PLOS Biology','PLOS Genetics','PLOS Pathogens','Proceedings of the National Academy of Sciences of the United States of America','Science Signaling','Science Translational Medicine','Science']\n",
    "    AND a.last_author_yr <= q.year \n",
    "\n",
    "WITH a, top_collabs, COUNT(q) AS num_pubs, \n",
    "    SUM(14.6906612 * q.articleRank2018 / (14.6906612 + q.num_authors)) as tot_rank,\n",
    "    MIN(q.articleRank2018) AS min_rank, \n",
    "    MAX(q.articleRank2018) AS max_rank, \n",
    "    percentileCont(q.articleRank2018, 0.5) AS median_rank \n",
    "    \n",
    "RETURN a.name AS name, \n",
    "    top_collabs,\n",
    "    toFloat(tot_rank)/num_pubs AS avg_AR, \n",
    "    min_rank AS min_AR, \n",
    "    max_rank AS max_AR, \n",
    "    median_rank AS median_AR\"\n",
    "    , \"/data/csv/AR_Early_Profs_2.csv\", {batchSize:100, iterateList:true, parallel:true})\n",
    "\n",
    "\"\"\"\n",
    "df_ar = query_to_df(query, graph)"
   ]
  },
  {
   "cell_type": "code",
   "execution_count": 7,
   "metadata": {},
   "outputs": [
    {
     "name": "stdout",
     "output_type": "stream",
     "text": [
      "Starting query... Done (8.25 minutes).\n"
     ]
    }
   ],
   "source": [
    "# Num affiliations for each author\n",
    "query = \"\"\"\n",
    "call apoc.export.csv.query(\n",
    "\"MATCH (a:Top42Author)-[:AFFILIATED_WITH]->(o:Organization)\n",
    "RETURN a.name as name, COUNT(o) as orgs\",\n",
    "\"/data/csv/orgs.csv\", {batchSize:100, iterateList:true, parallel:true})\n",
    "\"\"\"\n",
    "df = query_to_df(query, graph)"
   ]
  },
  {
   "cell_type": "code",
   "execution_count": null,
   "metadata": {},
   "outputs": [],
   "source": [
    "import pandas as pd\n",
    "df_disrupt = pd.read_csv('~/scaling-science/data/magone/Disrupt_Early_Profs_2.csv', index_col = 'name', encoding = \"UTF-8\")\n",
    "df_collab = pd.read_csv('~/scaling-science/data/magone/Collab_Early_Profs_2.csv', index_col = 'name', encoding = \"UTF-8\")\n",
    "df_AR = pd.read_csv('~/scaling-science/data/magone/AR_Early_Profs_2.csv', index_col = 'name', encoding = \"UTF-8\")\n",
    "df_PR = pd.read_csv('~/scaling-science/data/magone/PR_Early_Profs_2.csv', index_col = 'name', encoding = \"UTF-8\")\n",
    "df_orgs = pd.read_csv('~/scaling-science/data/magone/orgs.csv', index_col = 'name', encoding = \"UTF-8\")\n"
   ]
  },
  {
   "cell_type": "code",
   "execution_count": null,
   "metadata": {},
   "outputs": [],
   "source": [
    "def top_100_to_csv(trimmed_df, cols, name, num = 100, to_csv = False):\n",
    "    d = dict()\n",
    "    for col in [c for c in cols if c != 'top_collabs']:\n",
    "        sorted = trimmed_df[[col, 'top_collabs']].sort_values(col, ascending = False).head(num)\n",
    "        names = sorted.index.tolist()\n",
    "        values = sorted[col].tolist()\n",
    "        top_collabs = sorted['top_collabs'].tolist()\n",
    "        d[col] = pd.Series(names, index=list(range(1, num+1)))\n",
    "        d[col+'_val'] = pd.Series(values, list(range(1, num+1)))\n",
    "        d[col+'_top_collabs'] = pd.Series(top_collabs, list(range(1, num+1)))\n",
    "    df_rank = pd.DataFrame(d)\n",
    "    if to_csv:\n",
    "        df_rank.to_csv('~/scaling-science/data/magone/{}_Early_Profs_rank_2.csv'.format(name), index = False, encoding = \"UTF-8\")\n",
    "    return df_rank"
   ]
  },
  {
   "cell_type": "code",
   "execution_count": null,
   "metadata": {},
   "outputs": [],
   "source": [
    "num_pubs = df_PR[['num_pubs']]\n"
   ]
  },
  {
   "cell_type": "code",
   "execution_count": null,
   "metadata": {},
   "outputs": [],
   "source": [
    "df_disrupt_trim = df_disrupt.join(df_orgs, how = 'inner')\n",
    "print(\"Total: %d authors\" % df_disrupt_trim.shape[0])\n",
    "df_disrupt_trim = df_disrupt_trim[df_disrupt_trim['num_disrupt'] >= 3]\n",
    "df_disrupt_trim = df_disrupt_trim[df_disrupt_trim['orgs'] <= 2000]\n",
    "num = df_disrupt_trim.shape[0]\n",
    "print(\"Remaining after trimming: %d authors\" % num)\n",
    "top_100_to_csv(df_disrupt_trim, df_disrupt.columns, 'Disrupt', num, to_csv = True)"
   ]
  },
  {
   "cell_type": "code",
   "execution_count": null,
   "metadata": {},
   "outputs": [],
   "source": [
    "df_collab_trim = df_collab.join(df_orgs, how = 'inner')\n",
    "df_collab_trim = df_collab_trim.join(num_pubs, how = 'inner')\n",
    "print(\"Total: %d authors\" % df_collab_trim.shape[0])\n",
    "df_collab_trim = df_collab_trim[df_collab_trim['orgs'] <= 2000]\n",
    "df_collab_trim = df_collab_trim[df_collab_trim['num_pubs'] >= 3]\n",
    "num = df_collab_trim.shape[0]\n",
    "print(\"Remaining after trimming: %d authors\" % num)\n",
    "top_100_to_csv(df_collab_trim, df_collab.columns, 'Collab', num, to_csv = True)"
   ]
  },
  {
   "cell_type": "code",
   "execution_count": null,
   "metadata": {},
   "outputs": [],
   "source": [
    "df_AR_trim = df_AR.join(df_orgs, how = 'inner')\n",
    "df_AR_trim = df_AR_trim.join(num_pubs, how = 'inner')\n",
    "print(\"Total: %d authors\" % df_AR_trim.shape[0])\n",
    "df_AR_trim = df_AR_trim[df_AR_trim['orgs'] <= 2000]\n",
    "df_AR_trim = df_AR_trim[df_AR_trim['num_pubs'] >= 3]\n",
    "num = df_AR_trim.shape[0]\n",
    "print(\"Remaining after trimming: %d authors\" % num)\n",
    "top_100_to_csv(df_AR_trim, df_AR.columns, 'AR', num, to_csv = True)"
   ]
  },
  {
   "cell_type": "code",
   "execution_count": null,
   "metadata": {},
   "outputs": [],
   "source": [
    "df_PR_trim = df_PR.join(df_orgs, how = 'inner')\n",
    "print(\"Total: %d authors\" % df_PR_trim.shape[0])\n",
    "df_PR_trim = df_PR_trim[df_PR_trim['orgs'] <= 2000]\n",
    "df_PR_trim = df_PR_trim[df_PR_trim['num_pubs'] >= 3]\n",
    "num = df_PR_trim.shape[0]\n",
    "print(\"Remaining after trimming: %d authors\" % num)\n",
    "top_100_to_csv(df_PR_trim, df_PR.columns, 'PR', num, to_csv = True)"
   ]
  }
 ],
 "metadata": {
  "kernelspec": {
   "display_name": "Python 3",
   "language": "python",
   "name": "python3"
  },
  "language_info": {
   "codemirror_mode": {
    "name": "ipython",
    "version": 3
   },
   "file_extension": ".py",
   "mimetype": "text/x-python",
   "name": "python",
   "nbconvert_exporter": "python",
   "pygments_lexer": "ipython3",
   "version": "3.6.7"
  }
 },
 "nbformat": 4,
 "nbformat_minor": 2
}
