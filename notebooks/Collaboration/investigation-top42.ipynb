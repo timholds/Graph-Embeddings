{
 "cells": [
  {
   "cell_type": "code",
   "execution_count": null,
   "metadata": {},
   "outputs": [],
   "source": [
    "import pandas as pd\n",
    "df_all = pd.read_csv('C:\\\\Users\\\\Brend\\\\Downloads\\\\correlation_top42.csv', index_col = 'name', encoding = \"UTF-8\")\n",
    "print(\"Total: %d authors\" % df_all.shape[0])"
   ]
  },
  {
   "cell_type": "code",
   "execution_count": null,
   "metadata": {},
   "outputs": [],
   "source": [
    "df_trimmed = df_all[df_all['num_pubs'] >= 50]\n",
    "df_trimmed = df_trimmed[df_trimmed['TotalConns'] >= 25]\n",
    "print(\"Remaining after trimming: %d authors\" % df_trimmed.shape[0])"
   ]
  },
  {
   "cell_type": "code",
   "execution_count": null,
   "metadata": {},
   "outputs": [],
   "source": [
    "linear_metrics = ['pct_collab_linauth', 'pct_collab_linprof', \n",
    "                  'pct_collab_sqrtauth', 'pct_collab_sqrtprof', \n",
    "                  'pct_collab_unweighted', 'InterClusterRatio', \n",
    "                  'IntraClusterRatio']\n",
    "log_metrics = ['IntraCommunityFocus', 'InterCommunityFocus']\n",
    "all_metrics = linear_metrics + log_metrics\n",
    "impact = ['avg_PR', 'max_PR', 'avg_AR', 'max_AR']\n"
   ]
  },
  {
   "cell_type": "code",
   "execution_count": null,
   "metadata": {},
   "outputs": [],
   "source": [
    "for col in all_metrics:\n",
    "    print(\"\\nTop 10 %s\" % str(col))\n",
    "    df_not_null = df_trimmed[pd.notna(df_trimmed[col])]\n",
    "    df_not_one = df_not_null[df_not_null[col] != 1]\n",
    "    print(df_not_one[[col]].sort_values(col, ascending = False).head(10))"
   ]
  },
  {
   "cell_type": "code",
   "execution_count": null,
   "metadata": {},
   "outputs": [],
   "source": [
    "for col in all_metrics:\n",
    "    print(\"\\nBottom 10 %s\" % str(col))\n",
    "    df_not_null = df_trimmed[pd.notna(df_trimmed[col])]\n",
    "    df_not_zero = df_not_null[df_not_null[col] != 0]\n",
    "    print(df_not_zero[[col]].sort_values(col, ascending = True).head(10))"
   ]
  },
  {
   "cell_type": "code",
   "execution_count": null,
   "metadata": {},
   "outputs": [],
   "source": [
    "import numpy as np\n",
    "import pandas as pd\n",
    "import seaborn as sns\n",
    "import matplotlib.pyplot as plt\n",
    "from scipy import stats\n",
    "sns.set(color_codes=True)\n",
    "%matplotlib inline"
   ]
  },
  {
   "cell_type": "code",
   "execution_count": null,
   "metadata": {},
   "outputs": [],
   "source": [
    "for col in linear_metrics:\n",
    "    df_not_null = df_trimmed[pd.notna(df_trimmed[col])]\n",
    "    ax = sns.distplot(df_not_null[[col]], kde = False, axlabel = col, bins = 100)\n",
    "    plt.show()"
   ]
  },
  {
   "cell_type": "code",
   "execution_count": null,
   "metadata": {},
   "outputs": [],
   "source": [
    "for col in log_metrics:\n",
    "    df_not_null = df_trimmed[pd.notna(df_trimmed[col])]\n",
    "    ax = sns.distplot(df_not_null[[col]], kde = False, axlabel = col, bins = 100)\n",
    "    ax.set_yscale('log')\n",
    "    plt.show()"
   ]
  },
  {
   "cell_type": "code",
   "execution_count": null,
   "metadata": {},
   "outputs": [],
   "source": [
    "for col in impact:\n",
    "    df_not_null = df_trimmed[pd.notna(df_trimmed[col])]\n",
    "    ax = sns.distplot(df_not_null[[col]], kde = False, axlabel = col, bins = 100)\n",
    "    ax.set_yscale('log')\n",
    "    plt.show()"
   ]
  },
  {
   "cell_type": "code",
   "execution_count": null,
   "metadata": {},
   "outputs": [],
   "source": [
    "df_log = df_trimmed.copy()\n",
    "for col in df_trimmed.columns:\n",
    "    log_col = df_log[[col]]\n",
    "    df_log[col + '_log'] = log_col.apply(np.log, axis=0)\n",
    "df_log = df_log[[col for col in df_log.columns if 'log' in col]]"
   ]
  },
  {
   "cell_type": "code",
   "execution_count": null,
   "metadata": {},
   "outputs": [],
   "source": [
    "from sklearn.preprocessing import StandardScaler\n",
    "df_scaled = df_trimmed.copy()\n",
    "for col in df_trimmed.columns:\n",
    "    ss = StandardScaler()\n",
    "    scaled_col = df_scaled[[col]]\n",
    "    df_scaled[col + '_zscore'] = ss.fit_transform(scaled_col)\n",
    "df_zscores = df_scaled[[col for col in df_scaled.columns if 'zscore' in col]]"
   ]
  },
  {
   "cell_type": "code",
   "execution_count": null,
   "metadata": {},
   "outputs": [],
   "source": [
    "for x_col in linear_metrics:\n",
    "    for y_col in impact:\n",
    "        data = pd.concat([df_trimmed[[x_col]], df_log[[y_col+'_log']]], axis = 1)\n",
    "        f, ax = plt.subplots(figsize=(8, 8))        \n",
    "        g = sns.regplot(x_col, y_col+'_log', data, ax=ax, dropna = True, fit_reg=False, scatter_kws={\"color\":\"darkred\",\"alpha\":0.3,\"s\":1})\n",
    "        plt.show()\n"
   ]
  },
  {
   "cell_type": "code",
   "execution_count": null,
   "metadata": {},
   "outputs": [],
   "source": [
    "for x_col in log_metrics:\n",
    "    for y_col in impact:\n",
    "        data = pd.concat([df_log[[x_col+'_log']], df_log[[y_col+'_log']]], axis = 1)\n",
    "        f, ax = plt.subplots(figsize=(8, 8))        \n",
    "        g = sns.regplot(x_col+'_log', y_col+'_log', data, ax=ax, dropna = True, fit_reg=False, scatter_kws={\"color\":\"darkred\",\"alpha\":0.3,\"s\":1})\n",
    "        plt.show()\n"
   ]
  },
  {
   "cell_type": "code",
   "execution_count": null,
   "metadata": {},
   "outputs": [],
   "source": [
    "df_log_adjusted = df_trimmed.copy()\n",
    "for col in df_trimmed.columns:\n",
    "    log_col = df_log_adjusted[[col]]\n",
    "    df_log_adjusted[col + '_log'] = log_col.apply(lambda x: np.log(x+1), axis=0)\n",
    "df_log_adjusted = df_log_adjusted[[col for col in df_log_adjusted.columns if 'log' in col]]"
   ]
  }
 ],
 "metadata": {
  "kernelspec": {
   "display_name": "Python 3",
   "language": "python",
   "name": "python3"
  },
  "language_info": {
   "codemirror_mode": {
    "name": "ipython",
    "version": 3
   },
   "file_extension": ".py",
   "mimetype": "text/x-python",
   "name": "python",
   "nbconvert_exporter": "python",
   "pygments_lexer": "ipython3",
   "version": "3.6.0"
  }
 },
 "nbformat": 4,
 "nbformat_minor": 2
}
