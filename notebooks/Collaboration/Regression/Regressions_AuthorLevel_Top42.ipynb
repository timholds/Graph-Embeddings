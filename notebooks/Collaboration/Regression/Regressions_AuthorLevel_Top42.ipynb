{
 "cells": [
  {
   "cell_type": "code",
   "execution_count": null,
   "metadata": {},
   "outputs": [],
   "source": [
    "import pandas as pd\n",
    "import numpy as np\n",
    "from sklearn.linear_model import LinearRegression\n",
    "from sklearn.preprocessing import StandardScaler\n",
    "df_clusters = pd.read_csv('C:\\\\Users\\\\Brend\\\\Downloads\\\\clusters_top42.csv', index_col = 'name', encoding = \"UTF-8\")\n",
    "df_pct_collab = pd.read_csv('C:\\\\Users\\\\Brend\\\\Downloads\\\\pct_collaborative_pubs_top42.csv', index_col = 'name', encoding = 'UTF-8')\n",
    "df_pct_collab_new = pd.read_csv('C:\\\\Users\\\\Brend\\\\Downloads\\\\pct_collaborative_pubs_top42_v2.csv', index_col = 'name', encoding = 'UTF-8')\n",
    "df_impact = pd.read_csv('C:\\\\Users\\\\Brend\\\\Downloads\\\\impact_top42.csv', index_col = 'name', encoding = 'UTF-8')\n",
    "df_author_focus = pd.read_csv('C:\\\\Users\\\\Brend\\\\Downloads\\\\community_focus_top42.csv', index_col = 'name', encoding = 'UTF-8')\n",
    "df_disrupt = pd.read_csv('C:\\\\Users\\\\Brend\\\\Downloads\\\\disrupt_top42.csv', index_col = 'name', encoding = 'UTF-8')\n",
    "df_unique_profs = pd.read_csv('C:\\\\Users\\\\Brend\\\\Downloads\\\\unique_profs_top42.csv', index_col = 'name', encoding = \"UTF-8\")"
   ]
  },
  {
   "cell_type": "code",
   "execution_count": null,
   "metadata": {},
   "outputs": [],
   "source": [
    "df_all = df_pct_collab.join(df_clusters[['TotalConns', 'InterClusterRatio', 'IntraClusterRatio']], how = 'outer')\n",
    "df_all = df_all.join(df_impact, how = 'outer')\n",
    "df_all = df_all.join(df_author_focus, how = 'outer')\n",
    "df_all = df_all.join(df_disrupt, how = 'outer')"
   ]
  },
  {
   "cell_type": "code",
   "execution_count": null,
   "metadata": {},
   "outputs": [],
   "source": [
    "df_trimmed = df_all[df_all['num_pubs'] >= 50]\n",
    "df_trimmed = df_trimmed[df_trimmed['TotalConns'] >= 25]\n",
    "print(\"Remaining after trimming: %d authors\" % df_trimmed.shape[0])"
   ]
  },
  {
   "cell_type": "code",
   "execution_count": null,
   "metadata": {},
   "outputs": [],
   "source": [
    "linear_metrics = ['pct_collab_linauth', 'pct_collab_linprof', \n",
    "                  'pct_collab_sqrtauth', 'pct_collab_sqrtprof', \n",
    "                  'pct_collab_unweighted', 'InterClusterRatio', \n",
    "                  'IntraClusterRatio']\n",
    "log_metrics = ['IntraCommunityFocus', 'InterCommunityFocus']\n",
    "all_metrics = linear_metrics + log_metrics\n",
    "impact = ['avg_PR', 'max_PR', 'avg_AR', 'max_AR']\n",
    "disrupt = ['avg_disrupt', 'max_disrupt', 'median_disrupt', 'min_disrupt']\n"
   ]
  },
  {
   "cell_type": "code",
   "execution_count": null,
   "metadata": {},
   "outputs": [],
   "source": [
    "df_log = df_trimmed.copy()\n",
    "for col in df_trimmed.columns:\n",
    "    log_col = df_log[[col]]\n",
    "    df_log[col + '_log'] = log_col.apply(np.log, axis=0)\n",
    "df_log = df_log[[col for col in df_log.columns if 'log' in col]]"
   ]
  },
  {
   "cell_type": "code",
   "execution_count": null,
   "metadata": {},
   "outputs": [],
   "source": [
    "df_log_adjusted = df_trimmed.copy()\n",
    "for col in df_trimmed.columns:\n",
    "    log_col = df_log_adjusted[[col]]\n",
    "    df_log_adjusted[col + '_log_adj'] = log_col.apply(lambda x: np.log(x+1), axis=0)\n",
    "df_log_adjusted = df_log_adjusted[[col for col in df_log_adjusted.columns if 'log' in col]]"
   ]
  },
  {
   "cell_type": "code",
   "execution_count": null,
   "metadata": {},
   "outputs": [],
   "source": [
    "df_scaled = df_trimmed.copy()\n",
    "for col in df_trimmed.columns:\n",
    "    ss = StandardScaler()\n",
    "    scaled_col = df_scaled[[col]]\n",
    "    df_scaled[col + '_zscore'] = ss.fit_transform(scaled_col)\n",
    "df_zscores = df_scaled[[col for col in df_scaled.columns if 'zscore' in col]]"
   ]
  },
  {
   "cell_type": "code",
   "execution_count": null,
   "metadata": {},
   "outputs": [],
   "source": [
    "processing = dict()\n",
    "for c in linear_metrics:\n",
    "    processing[c] = 'zscore'\n",
    "for c in log_metrics:\n",
    "    processing[c] = 'log_adj'\n",
    "for c in impact:\n",
    "    processing[c] = 'log'\n",
    "for c in disrupt:\n",
    "    processing[c] = 'log_adj'\n",
    "df_table = {'zscore': df_zscores, 'log': df_log, 'log_adj': df_log_adjusted}"
   ]
  },
  {
   "cell_type": "code",
   "execution_count": null,
   "metadata": {},
   "outputs": [],
   "source": [
    "def regression(x_cols, y_cols):\n",
    "    d = dict()\n",
    "    c = dict()\n",
    "    for x_col in x_cols:\n",
    "        score_list = []\n",
    "        index_list = []\n",
    "        coef_list = []\n",
    "        for y_col in y_cols:    \n",
    "            X = df_table[processing[x_col]][[x_col + '_' + processing[x_col]]]\n",
    "            y = df_table[processing[y_col]][[y_col + '_' + processing[y_col]]]\n",
    "            df_X_notinf = X.replace([np.inf, -np.inf], np.nan)\n",
    "            df_y_notinf = y.replace([np.inf, -np.inf], np.nan)\n",
    "            df_X_notna = df_X_notinf.dropna(subset=[x_col + '_' + processing[x_col]])\n",
    "            df_y_notna = df_y_notinf.dropna(subset=[y_col + '_' + processing[y_col]])\n",
    "            df_reg = df_X_notna.join(df_y_notna, how = 'inner')\n",
    "            X = df_reg[[x_col + '_' + processing[x_col]]]\n",
    "            y = df_reg[[y_col + '_' + processing[y_col]]]\n",
    "            reg = LinearRegression().fit(X, y)\n",
    "            score = round(reg.score(X, y), 4)\n",
    "            coef = round(reg.coef_[0][0], 4)\n",
    "            score_list.append(score)\n",
    "            index_list.append(y_col)\n",
    "            coef_list.append(coef)\n",
    "        d[x_col + '_' + processing[x_col]] = pd.Series(score_list, index=index_list)\n",
    "        c[x_col + '_' + processing[x_col]] = pd.Series(coef_list, index=index_list)\n",
    "    return pd.DataFrame(d), pd.DataFrame(c)\n"
   ]
  },
  {
   "cell_type": "code",
   "execution_count": null,
   "metadata": {},
   "outputs": [],
   "source": [
    "r2, coef = regression(linear_metrics, impact)\n",
    "r2"
   ]
  },
  {
   "cell_type": "code",
   "execution_count": null,
   "metadata": {},
   "outputs": [],
   "source": [
    "coef"
   ]
  },
  {
   "cell_type": "code",
   "execution_count": null,
   "metadata": {},
   "outputs": [],
   "source": [
    "r2, coef = regression(log_metrics, impact)\n",
    "r2"
   ]
  },
  {
   "cell_type": "code",
   "execution_count": null,
   "metadata": {},
   "outputs": [],
   "source": [
    "coef"
   ]
  },
  {
   "cell_type": "code",
   "execution_count": null,
   "metadata": {},
   "outputs": [],
   "source": [
    "r2, coef = regression(disrupt, impact)\n",
    "r2"
   ]
  },
  {
   "cell_type": "code",
   "execution_count": null,
   "metadata": {},
   "outputs": [],
   "source": [
    "coef"
   ]
  },
  {
   "cell_type": "code",
   "execution_count": null,
   "metadata": {},
   "outputs": [],
   "source": [
    "r2, coef = regression(linear_metrics, disrupt)\n",
    "r2"
   ]
  },
  {
   "cell_type": "code",
   "execution_count": null,
   "metadata": {},
   "outputs": [],
   "source": [
    "coef"
   ]
  },
  {
   "cell_type": "code",
   "execution_count": null,
   "metadata": {},
   "outputs": [],
   "source": [
    "r2, coef = regression(log_metrics, disrupt)\n",
    "r2"
   ]
  },
  {
   "cell_type": "code",
   "execution_count": null,
   "metadata": {},
   "outputs": [],
   "source": [
    "coef"
   ]
  },
  {
   "cell_type": "code",
   "execution_count": null,
   "metadata": {},
   "outputs": [],
   "source": [
    "df_all = df_pct_collab_new.join(df_clusters[['TotalConns', 'InterClusterRatio', 'IntraClusterRatio']], how = 'outer')\n",
    "df_all = df_all.join(df_impact, how = 'outer')\n",
    "df_all = df_all.join(df_author_focus, how = 'outer')\n",
    "df_all = df_all.join(df_disrupt)\n",
    "df_trimmed = df_all[df_all['num_pubs'] >= 50]\n",
    "df_trimmed = df_trimmed[df_trimmed['TotalConns'] >= 25]\n",
    "print(\"Remaining after trimming: %d authors\" % df_trimmed.shape[0])"
   ]
  },
  {
   "cell_type": "code",
   "execution_count": null,
   "metadata": {},
   "outputs": [],
   "source": [
    "r2, coef = regression(linear_metrics, impact)\n",
    "r2"
   ]
  },
  {
   "cell_type": "code",
   "execution_count": null,
   "metadata": {},
   "outputs": [],
   "source": [
    "coef"
   ]
  },
  {
   "cell_type": "code",
   "execution_count": null,
   "metadata": {},
   "outputs": [],
   "source": [
    "r2, coef = regression(linear_metrics, disrupt)\n",
    "r2"
   ]
  },
  {
   "cell_type": "code",
   "execution_count": null,
   "metadata": {},
   "outputs": [],
   "source": [
    "coef"
   ]
  }
 ],
 "metadata": {
  "kernelspec": {
   "display_name": "Python 3",
   "language": "python",
   "name": "python3"
  },
  "language_info": {
   "codemirror_mode": {
    "name": "ipython",
    "version": 3
   },
   "file_extension": ".py",
   "mimetype": "text/x-python",
   "name": "python",
   "nbconvert_exporter": "python",
   "pygments_lexer": "ipython3",
   "version": "3.6.0"
  }
 },
 "nbformat": 4,
 "nbformat_minor": 2
}
