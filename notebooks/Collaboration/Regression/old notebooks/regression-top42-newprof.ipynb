{
 "cells": [
  {
   "cell_type": "code",
   "execution_count": null,
   "metadata": {},
   "outputs": [],
   "source": [
    "import pandas as pd\n",
    "import numpy as np\n",
    "import seaborn as sns\n",
    "import matplotlib.pyplot as plt\n",
    "from scipy import stats\n",
    "sns.set(color_codes=True)\n",
    "%matplotlib inline\n",
    "df_all = pd.read_csv('C:\\\\Users\\\\Brend\\\\Downloads\\\\correlation_top42_v2.csv', index_col = 'name', encoding = \"UTF-8\")\n",
    "print(\"Total: %d authors\" % df_all.shape[0])"
   ]
  },
  {
   "cell_type": "code",
   "execution_count": null,
   "metadata": {},
   "outputs": [],
   "source": [
    "df_trimmed = df_all[df_all['num_pubs'] >= 50]\n",
    "df_trimmed = df_trimmed[df_trimmed['TotalConns'] >= 25]\n",
    "print(\"Remaining after trimming: %d authors\" % df_trimmed.shape[0])"
   ]
  },
  {
   "cell_type": "code",
   "execution_count": null,
   "metadata": {},
   "outputs": [],
   "source": [
    "linear_metrics = ['pct_collab_linauth', 'pct_collab_linprof', \n",
    "                  'pct_collab_sqrtauth', 'pct_collab_sqrtprof', \n",
    "                  'pct_collab_unweighted']\n",
    "log_metrics = []\n",
    "all_metrics = linear_metrics + log_metrics\n",
    "impact = ['avg_PR', 'max_PR', 'avg_AR', 'max_AR']\n"
   ]
  },
  {
   "cell_type": "code",
   "execution_count": null,
   "metadata": {},
   "outputs": [],
   "source": [
    "df_log = df_trimmed.copy()\n",
    "for col in df_trimmed.columns:\n",
    "    log_col = df_log[[col]]\n",
    "    df_log[col + '_log'] = log_col.apply(np.log, axis=0)\n",
    "df_log = df_log[[col for col in df_log.columns if 'log' in col]]"
   ]
  },
  {
   "cell_type": "code",
   "execution_count": null,
   "metadata": {},
   "outputs": [],
   "source": [
    "from sklearn.preprocessing import StandardScaler\n",
    "df_scaled = df_trimmed.copy()\n",
    "for col in df_trimmed.columns:\n",
    "    ss = StandardScaler()\n",
    "    scaled_col = df_scaled[[col]]\n",
    "    df_scaled[col + '_zscore'] = ss.fit_transform(scaled_col)\n",
    "df_zscores = df_scaled[[col for col in df_scaled.columns if 'zscore' in col]]"
   ]
  },
  {
   "cell_type": "code",
   "execution_count": null,
   "metadata": {},
   "outputs": [],
   "source": [
    "import numpy as np\n",
    "from sklearn.linear_model import LinearRegression\n",
    "print('r2 scores:')\n",
    "d = dict()\n",
    "for x_col in linear_metrics:\n",
    "    score_list = []\n",
    "    index_list = []\n",
    "    for y_col in impact:\n",
    "        X = df_zscores[[x_col + '_zscore']]\n",
    "        y = df_log[[y_col + '_log']]\n",
    "        reg = LinearRegression().fit(X, y)\n",
    "        score = round(reg.score(X, y), 4)\n",
    "        score_list.append(score)\n",
    "        index_list.append(y_col)\n",
    "    d[x_col + '_zscore'] = pd.Series(score_list, index=index_list)\n",
    "df_r2 = pd.DataFrame(d)\n",
    "df_r2"
   ]
  }
 ],
 "metadata": {
  "kernelspec": {
   "display_name": "Python 3",
   "language": "python",
   "name": "python3"
  },
  "language_info": {
   "codemirror_mode": {
    "name": "ipython",
    "version": 3
   },
   "file_extension": ".py",
   "mimetype": "text/x-python",
   "name": "python",
   "nbconvert_exporter": "python",
   "pygments_lexer": "ipython3",
   "version": "3.6.0"
  }
 },
 "nbformat": 4,
 "nbformat_minor": 2
}
