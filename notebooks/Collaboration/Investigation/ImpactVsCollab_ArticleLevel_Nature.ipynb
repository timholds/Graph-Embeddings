{
 "cells": [
  {
   "cell_type": "markdown",
   "metadata": {},
   "source": [
    "# Extract Data From Graph "
   ]
  },
  {
   "cell_type": "code",
   "execution_count": null,
   "metadata": {},
   "outputs": [],
   "source": [
    "import time, json, glob, os\n",
    "from py2neo import Graph, Node, Relationship\n",
    "from tqdm import tqdm\n",
    "import numpy as np\n",
    "import pandas as pd\n",
    "import seaborn as sns\n",
    "import matplotlib.pyplot as plt\n",
    "from scipy import stats\n",
    "sns.set(color_codes=True)\n",
    "%matplotlib inline"
   ]
  },
  {
   "cell_type": "code",
   "execution_count": null,
   "metadata": {},
   "outputs": [],
   "source": [
    "graph = Graph(\"bolt://neo4j-allquanta:7687\", auth=('neo4j','myneo'))\n",
    "\n",
    "print(\"Connected to graph database with {:,} nodes and {:,} relationships!\".format(\n",
    "    graph.database.primitive_counts['NumberOfNodeIdsInUse'], \n",
    "    graph.database.primitive_counts['NumberOfRelationshipIdsInUse']))"
   ]
  },
  {
   "cell_type": "code",
   "execution_count": null,
   "metadata": {},
   "outputs": [],
   "source": [
    "def run_query(query, graph, print_query=False, run_query=True, \n",
    "              print_only=False, to_df=False):\n",
    "    df = 1\n",
    "    if print_only: \n",
    "        print_query = True\n",
    "        run_query = False\n",
    "    start_time = time.time()\n",
    "    if print_query:\n",
    "        print(query)\n",
    "    if run_query:\n",
    "        if to_df:\n",
    "            df = graph.run(query).to_data_frame()\n",
    "        else:\n",
    "            graph.run(query)\n",
    "    end_time = time.time()\n",
    "    minutes_elapsed = (end_time-start_time)/60\n",
    "    print(\"Query completed in {:.2f} minutes.\".format(minutes_elapsed))\n",
    "    return df\n",
    "    \n",
    "    \n",
    "top_5 = ['Cell', 'Nature', 'Nature Biotechnology','Proceedings of the National Academy of Sciences of the United States of America','Science']\n",
    "top_10 = ['Cell', 'Nature', 'Nature Biotechnology','Proceedings of the National Academy of Sciences of the United States of America','Science', 'Journal of the American Chemical Society', 'JAMA', 'The New England Journal of Medicine', 'Nature Genetics', 'Neuron']\n",
    "top_42 = ['Angewandte Chemie','Blood','Cancer Cell','Cancer Discovery','Cancer Research','Cell','Cell Host & Microbe','Cell Metabolism','Cell Stem Cell','Chemistry & Biology','The EMBO Journal','Genes & Development','Immunity','Journal of Neurology','Journal of the American Chemical Society','JAMA','Journal of Biological Chemistry','Journal of Cell Biology','Journal of Clinical Investigation','Journal of Experimental Medicine','Journal of Medicinal Chemistry','The Lancet','Nature Cell Biology','Nature Chemical Biology','Nature Chemistry','Nature Medicine','Nature Methods','Nature','Nature Biotechnology','The New England Journal of Medicine','Neuron','Nature Genetics','Nature Immunology','Nature Neuroscience','Nature Structural & Molecular Biology','PLOS Biology','PLOS Genetics','PLOS Pathogens','Proceedings of the National Academy of Sciences of the United States of America','Science Signaling','Science Translational Medicine','Science']"
   ]
  },
  {
   "cell_type": "code",
   "execution_count": null,
   "metadata": {},
   "outputs": [],
   "source": [
    "query = \"\"\"\n",
    "MATCH (q:Quanta)\n",
    "WHERE q.num_profs > 1 AND q.venue=\"Nature\" \n",
    "RETURN \n",
    "    q.pageRank_2018 as pagerank, \n",
    "    q.articleRank2018 as articlerank, \n",
    "    q.num_profs as num_profs, \n",
    "    q.num_authors as num_authors\n",
    "\"\"\"\n",
    "df = run_query(query, graph, to_df=True, print_only=False)\n",
    "\n",
    "for col in df.columns:\n",
    "    df['log_{}'.format(col)] = df[col].apply(np.log)\n",
    "#     df['sqrt_{}'.format(col)] = df[col].apply(np.sqrt)\n",
    "\n",
    "df.dropna(inplace=True)\n",
    "df.describe(include='all')\n",
    "\n",
    "impact_metrics = ['pagerank', 'articlerank']\n",
    "collab_metrics = ['num_authors', 'num_profs']\n",
    "\n",
    "log_impact_metrics = ['log_{}'.format(s) for s in impact_metrics]\n",
    "log_collab_metrics = ['log_{}'.format(s) for s in collab_metrics]\n",
    "\n",
    "# sqrt_impact_metrics = ['sqrt_{}'.format(s) for s in impact_metrics]\n",
    "# sqrt_collab_metrics = ['sqrt_{}'.format(s) for s in collab_metrics]"
   ]
  },
  {
   "cell_type": "code",
   "execution_count": null,
   "metadata": {},
   "outputs": [],
   "source": [
    "df.info()\n",
    "# df.to_csv(path_or_buf='/tmp/data/result/impactAndAuthors_Nature.csv')"
   ]
  },
  {
   "cell_type": "markdown",
   "metadata": {},
   "source": [
    "# Plot Variables"
   ]
  },
  {
   "cell_type": "code",
   "execution_count": null,
   "metadata": {},
   "outputs": [],
   "source": [
    "vars_to_include = log_impact_metrics + log_collab_metrics\n",
    "g = sns.pairplot(df, \n",
    "                 x_vars=vars_to_include,\n",
    "                 y_vars=vars_to_include,\n",
    "                 markers='o', \n",
    "                 diag_kind='auto', \n",
    "                 height=4)"
   ]
  },
  {
   "cell_type": "code",
   "execution_count": null,
   "metadata": {},
   "outputs": [],
   "source": [
    "for col in log_impact_metrics + collab_metrics:\n",
    "    plt.figure()\n",
    "    ax = sns.distplot(df[col], kde=False, bins=100)"
   ]
  },
  {
   "cell_type": "code",
   "execution_count": null,
   "metadata": {},
   "outputs": [],
   "source": [
    "sns.set_style('white')\n",
    "g = sns.pairplot(df, \n",
    "                 y_vars=log_impact_metrics, \n",
    "                 x_vars=collab_metrics, \n",
    "                 height=8, \n",
    "                 plot_kws=dict(s=200))"
   ]
  },
  {
   "cell_type": "markdown",
   "metadata": {},
   "source": [
    "## Fitting Equations"
   ]
  },
  {
   "cell_type": "code",
   "execution_count": null,
   "metadata": {},
   "outputs": [],
   "source": [
    "from scipy import stats\n",
    "def r2(x, y):\n",
    "    return stats.pearsonr(x, y)[0] ** 2\n",
    "\n",
    "sns.jointplot(x='num_profs', y='log_pagerank', data=df, height=12, kind=\"reg\", stat_func=r2)"
   ]
  },
  {
   "cell_type": "code",
   "execution_count": null,
   "metadata": {},
   "outputs": [],
   "source": [
    "sns.set_style('white')\n",
    "g = sns.lmplot(x='num_profs',\n",
    "               y='log_pagerank', \n",
    "               data=df, \n",
    "               height=10, \n",
    "               scatter_kws=dict(s=5, alpha=1),\n",
    "               legend_out=False, \n",
    "               order=3)\n",
    "g.set(xlim=(0, 100), ylim=(-2,10))"
   ]
  },
  {
   "cell_type": "markdown",
   "metadata": {},
   "source": [
    "## Clustering"
   ]
  },
  {
   "cell_type": "code",
   "execution_count": null,
   "metadata": {},
   "outputs": [],
   "source": [
    "from sklearn.cluster import MiniBatchKMeans\n",
    "kmeans = MiniBatchKMeans(n_clusters=3, random_state=0).fit(df.values)\n",
    "df['kmeans'] = kmeans.labels_\n",
    "\n",
    "plt.figure()\n",
    "sns.set_style('white')\n",
    "g = sns.pairplot(df, y_vars=log_impact_metrics, x_vars=collab_metrics, \n",
    "                 hue='kmeans', height=8, plot_kws=dict(s=100))"
   ]
  },
  {
   "cell_type": "code",
   "execution_count": null,
   "metadata": {},
   "outputs": [],
   "source": [
    "sns.set_style('white')\n",
    "g = sns.lmplot(x='num_profs', \n",
    "               y='log_pagerank', \n",
    "               data=df, \n",
    "               height=10, \n",
    "               hue='kmeans', \n",
    "               truncate=False,\n",
    "               scatter_kws=dict(s=10, alpha=1),\n",
    "               legend_out=False)\n",
    "g.set(xlim=(0, 200), ylim=(-2,7))"
   ]
  },
  {
   "cell_type": "code",
   "execution_count": null,
   "metadata": {},
   "outputs": [],
   "source": [
    "g = sns.lmplot(x='num_profs', \n",
    "               y='log_pagerank', \n",
    "               data=df, \n",
    "               height=4, \n",
    "               col='kmeans',\n",
    "               hue='kmeans',\n",
    "               truncate=False,\n",
    "               scatter_kws=dict(s=10, alpha=1),\n",
    "               legend_out=False)\n",
    "g.set(xlim=(0, 200), ylim=(-2.5,7))"
   ]
  },
  {
   "cell_type": "code",
   "execution_count": null,
   "metadata": {},
   "outputs": [],
   "source": [
    "sns.set_style('white')\n",
    "df['label'] = df['num_profs']>2\n",
    "g = sns.lmplot(x='num_profs', y='log_pagerank', data=df, height=10,\n",
    "               hue='label', markers=['o','x'])\n",
    "g.set(xlim=(0, 200), ylim=(-2.5,7))"
   ]
  },
  {
   "cell_type": "code",
   "execution_count": null,
   "metadata": {},
   "outputs": [],
   "source": []
  }
 ],
 "metadata": {
  "kernelspec": {
   "display_name": "Python 3",
   "language": "python",
   "name": "python3"
  },
  "language_info": {
   "codemirror_mode": {
    "name": "ipython",
    "version": 3
   },
   "file_extension": ".py",
   "mimetype": "text/x-python",
   "name": "python",
   "nbconvert_exporter": "python",
   "pygments_lexer": "ipython3",
   "version": "3.6.7"
  }
 },
 "nbformat": 4,
 "nbformat_minor": 2
}
