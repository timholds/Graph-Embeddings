{
 "cells": [
  {
   "cell_type": "code",
   "execution_count": null,
   "metadata": {},
   "outputs": [],
   "source": [
    "import pandas as pd\n",
    "df_clusters = pd.read_csv('C:\\\\Users\\\\Brend\\\\Downloads\\\\clusters_top42.csv', index_col = 'name', encoding = \"UTF-8\")\n",
    "df_pct_collab = pd.read_csv('C:\\\\Users\\\\Brend\\\\Downloads\\\\pct_collaborative_pubs_top42.csv', index_col = 'name', encoding = 'UTF-8')\n",
    "df_pct_collab_new = pd.read_csv('C:\\\\Users\\\\Brend\\\\Downloads\\\\pct_collaborative_pubs_top42_v2.csv', index_col = 'name', encoding = 'UTF-8')\n",
    "df_impact = pd.read_csv('C:\\\\Users\\\\Brend\\\\Downloads\\\\impact_top42.csv', index_col = 'name', encoding = 'UTF-8')\n",
    "df_author_focus = pd.read_csv('C:\\\\Users\\\\Brend\\\\Downloads\\\\community_focus_top42.csv', index_col = 'name', encoding = 'UTF-8')\n",
    "df_disrupt = pd.read_csv('C:\\\\Users\\\\Brend\\\\Downloads\\\\disrupt_top42.csv', index_col = 'name', encoding = 'UTF-8')"
   ]
  },
  {
   "cell_type": "code",
   "execution_count": null,
   "metadata": {},
   "outputs": [],
   "source": [
    "df_all = df_pct_collab.join(df_clusters[['TotalConns', 'InterClusterRatio', 'IntraClusterRatio']], how = 'outer')\n",
    "df_all = df_all.join(df_impact, how = 'outer')\n",
    "df_all = df_all.join(df_author_focus, how = 'outer')\n",
    "df_all = df_all.join(df_disrupt, how = 'outer')"
   ]
  },
  {
   "cell_type": "code",
   "execution_count": null,
   "metadata": {},
   "outputs": [],
   "source": [
    "df_trimmed = df_all[df_all['num_pubs'] >= 50]\n",
    "df_trimmed = df_trimmed[df_trimmed['TotalConns'] >= 25]\n",
    "print(\"Remaining after trimming: %d authors\" % df_trimmed.shape[0])"
   ]
  },
  {
   "cell_type": "code",
   "execution_count": null,
   "metadata": {},
   "outputs": [],
   "source": [
    "import numpy as np\n",
    "import pandas as pd\n",
    "import seaborn as sns\n",
    "import matplotlib.pyplot as plt\n",
    "from scipy import stats\n",
    "sns.set(color_codes=True)\n",
    "%matplotlib inline"
   ]
  },
  {
   "cell_type": "code",
   "execution_count": null,
   "metadata": {},
   "outputs": [],
   "source": [
    "linear_metrics = ['pct_collab_linauth', 'pct_collab_linprof', \n",
    "                  'pct_collab_sqrtauth', 'pct_collab_sqrtprof', \n",
    "                  'pct_collab_unweighted', 'InterClusterRatio', \n",
    "                  'IntraClusterRatio']\n",
    "log_metrics = ['IntraCommunityFocus', 'InterCommunityFocus']\n",
    "all_metrics = linear_metrics + log_metrics\n",
    "impact = ['avg_PR', 'max_PR', 'avg_AR', 'max_AR']\n",
    "disrupt = ['avg_disrupt', 'max_disrupt', 'median_disrupt', 'min_disrupt']\n"
   ]
  },
  {
   "cell_type": "code",
   "execution_count": null,
   "metadata": {},
   "outputs": [],
   "source": [
    "for col in linear_metrics:\n",
    "    df_not_null = df_trimmed[pd.notna(df_trimmed[col])]\n",
    "    ax = sns.distplot(df_not_null[[col]], kde = False, axlabel = col, bins = 100)\n",
    "    plt.show()"
   ]
  },
  {
   "cell_type": "code",
   "execution_count": null,
   "metadata": {},
   "outputs": [],
   "source": [
    "for col in impact:\n",
    "    df_not_null = df_trimmed[pd.notna(df_trimmed[col])]\n",
    "    ax = sns.distplot(df_not_null[[col]], kde = False, axlabel = col, bins = 100)\n",
    "    ax.set_yscale('log')\n",
    "    plt.show()"
   ]
  },
  {
   "cell_type": "code",
   "execution_count": null,
   "metadata": {},
   "outputs": [],
   "source": [
    "for col in disrupt:\n",
    "    df_not_null = df_trimmed[pd.notna(df_trimmed[col])]\n",
    "    ax = sns.distplot(df_not_null[[col]], kde = False, axlabel = col, bins = 100)\n",
    "    ax.set_yscale('log')\n",
    "    plt.show()"
   ]
  },
  {
   "cell_type": "code",
   "execution_count": null,
   "metadata": {},
   "outputs": [],
   "source": [
    "df_all = df_pct_collab_new.join(df_clusters[['TotalConns', 'InterClusterRatio', 'IntraClusterRatio']], how = 'outer')\n",
    "df_all = df_all.join(df_impact, how = 'outer')\n",
    "df_all = df_all.join(df_author_focus, how = 'outer')\n",
    "df_trimmed = df_all[df_all['num_pubs'] >= 50]\n",
    "df_trimmed = df_trimmed[df_trimmed['TotalConns'] >= 25]\n",
    "print(\"Remaining after trimming: %d authors\" % df_trimmed.shape[0])"
   ]
  },
  {
   "cell_type": "code",
   "execution_count": null,
   "metadata": {},
   "outputs": [],
   "source": [
    "for col in linear_metrics:\n",
    "    df_not_null = df_trimmed[pd.notna(df_trimmed[col])]\n",
    "    ax = sns.distplot(df_not_null[[col]], kde = False, axlabel = col, bins = 100)\n",
    "    plt.show()"
   ]
  }
 ],
 "metadata": {
  "kernelspec": {
   "display_name": "Python 3",
   "language": "python",
   "name": "python3"
  },
  "language_info": {
   "codemirror_mode": {
    "name": "ipython",
    "version": 3
   },
   "file_extension": ".py",
   "mimetype": "text/x-python",
   "name": "python",
   "nbconvert_exporter": "python",
   "pygments_lexer": "ipython3",
   "version": "3.6.0"
  }
 },
 "nbformat": 4,
 "nbformat_minor": 2
}
