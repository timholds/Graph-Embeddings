{
 "cells": [
  {
   "cell_type": "markdown",
   "metadata": {},
   "source": [
    "#### TODOS\n",
    "- [x] Scale distplots with log axes\n",
    "- [x] Scale scatterplots with log-log, z-score\n",
    "- [x] Add new feature that is (pubs with prof) * de-weight / pubs\n",
    "- [x] Change prof definition to .25\n",
    "- [x] Add scatterplots for max/min/mean"
   ]
  },
  {
   "cell_type": "code",
   "execution_count": null,
   "metadata": {},
   "outputs": [],
   "source": [
    "import pandas as pd"
   ]
  },
  {
   "cell_type": "code",
   "execution_count": null,
   "metadata": {},
   "outputs": [],
   "source": [
    "df_all = pd.read_csv('C:\\\\Users\\\\Brend\\\\Downloads\\\\correlation.csv', index_col = 'name', encoding = \"UTF-8\")"
   ]
  },
  {
   "cell_type": "code",
   "execution_count": null,
   "metadata": {},
   "outputs": [],
   "source": [
    "print(\"Total: %d authors\" % df_all.shape[0])\n",
    "for i in range(1, 11):\n",
    "    print(\"%d authors with less than %d publications\" % (df_all[df_all['num_pubs'] < i].shape[0], i))"
   ]
  },
  {
   "cell_type": "code",
   "execution_count": null,
   "metadata": {},
   "outputs": [],
   "source": [
    "print(\"Total: %d authors\" % df_all.shape[0])\n",
    "for i in range(1, 11):\n",
    "    print(\"%d authors with less than %d coauthorships\" % (df_all[df_all['TotalConns'] < i].shape[0], i))"
   ]
  },
  {
   "cell_type": "code",
   "execution_count": null,
   "metadata": {},
   "outputs": [],
   "source": [
    "df_trimmed = df_all[df_all['num_pubs'] >= 5]\n",
    "df_trimmed = df_trimmed[df_trimmed['TotalConns'] >= 3]\n",
    "print(\"Remaining after trimming: %d authors\" % df_trimmed.shape[0])"
   ]
  },
  {
   "cell_type": "code",
   "execution_count": null,
   "metadata": {},
   "outputs": [],
   "source": [
    "df_trimmed = df_trimmed[df_trimmed['max_AR'] < 1000]\n",
    "print(\"Remaining after trimming: %d authors\" % df_trimmed.shape[0])"
   ]
  },
  {
   "cell_type": "code",
   "execution_count": null,
   "metadata": {},
   "outputs": [],
   "source": [
    "df_trimmed = df_trimmed[df_trimmed['InterCommunityFocus'] < 900]\n",
    "print(\"Remaining after trimming: %d authors\" % df_trimmed.shape[0])"
   ]
  },
  {
   "cell_type": "code",
   "execution_count": null,
   "metadata": {},
   "outputs": [],
   "source": [
    "for col in df_trimmed.columns:\n",
    "    print(\"\\nTop 10 %s\" % str(col))\n",
    "    df_not_null = df_trimmed[pd.notna(df_trimmed[col])]\n",
    "    print(df_not_null[[col]].sort_values(col, ascending = False).head(10))\n",
    "    print(\"\\nBottom 10 %s\" % str(col))\n",
    "    print(df_not_null[[col]].sort_values(col, ascending = True).head(10))"
   ]
  },
  {
   "cell_type": "code",
   "execution_count": null,
   "metadata": {},
   "outputs": [],
   "source": [
    "interesting_authors = ['Eric S. Lander', 'Robert Langer', 'Marvin Minsky', 'Francis Crick', 'Sydney Brenner', 'Richard Henderson', 'Edward S. Boyden']\n",
    "df_trimmed.loc[interesting_authors]"
   ]
  },
  {
   "cell_type": "code",
   "execution_count": null,
   "metadata": {},
   "outputs": [],
   "source": [
    "df_percentile = df_trimmed.copy()\n",
    "for col in df_trimmed.columns:\n",
    "    percentile_col = df_trimmed[pd.notna(df_trimmed[col])][col]\n",
    "    df_percentile[col+'_%'] = percentile_col.rank(pct=True)\n",
    "df_percentile_interesting_authors = df_percentile.loc[interesting_authors][[col for col in df_percentile.columns if '%' in col and 'N' not in col]]\n",
    "df_percentile_interesting_authors.to_csv('C:\\\\Users\\\\Brend\\\\Downloads\\\\interesting_authors_percentile.csv', index = True, encoding = \"UTF-8\")"
   ]
  },
  {
   "cell_type": "code",
   "execution_count": null,
   "metadata": {},
   "outputs": [],
   "source": [
    "df_percentile_interesting_authors"
   ]
  },
  {
   "cell_type": "code",
   "execution_count": null,
   "metadata": {},
   "outputs": [],
   "source": [
    "from sklearn.preprocessing import StandardScaler\n",
    "df_scaled = df_trimmed.copy()\n",
    "for col in df_trimmed.columns:\n",
    "    ss = StandardScaler()\n",
    "    scaled_col = df_scaled[[col]]\n",
    "    df_scaled[col + '_Zscore'] = ss.fit_transform(scaled_col)\n",
    "df_zscores = df_scaled[[col for col in df_scaled.columns if 'Zscore' in col]]"
   ]
  },
  {
   "cell_type": "code",
   "execution_count": null,
   "metadata": {},
   "outputs": [],
   "source": [
    "df_zcores_interesting_authors = df_zscores.loc[interesting_authors][[col for col in df_zscores.columns if 'Zscore' in col and 'N' not in col]]\n",
    "df_zcores_interesting_authors.to_csv('C:\\\\Users\\\\Brend\\\\Downloads\\\\interesting_authors_zscore.csv', index = True, encoding = \"UTF-8\")\n",
    "df_zcores_interesting_authors"
   ]
  },
  {
   "cell_type": "code",
   "execution_count": null,
   "metadata": {},
   "outputs": [],
   "source": [
    "import numpy as np\n",
    "import pandas as pd\n",
    "import seaborn as sns\n",
    "import matplotlib.pyplot as plt\n",
    "from scipy import stats\n",
    "sns.set(color_codes=True)\n",
    "%matplotlib inline"
   ]
  },
  {
   "cell_type": "code",
   "execution_count": null,
   "metadata": {},
   "outputs": [],
   "source": [
    "for col in df_trimmed.columns:\n",
    "    df_not_null = df_trimmed[pd.notna(df_trimmed[col])]\n",
    "    ax = sns.distplot(df_not_null[[col]], kde = False, axlabel = col, bins = 100)\n",
    "    ax.set_yscale('log')\n",
    "    plt.show()"
   ]
  },
  {
   "cell_type": "code",
   "execution_count": null,
   "metadata": {},
   "outputs": [],
   "source": [
    "for col in df_trimmed.columns:\n",
    "    df_not_null = df_trimmed[pd.notna(df_trimmed[col])]\n",
    "    ax = sns.distplot(df_not_null[[col]], kde = False, axlabel = col, bins = 100)\n",
    "    plt.show()"
   ]
  },
  {
   "cell_type": "code",
   "execution_count": null,
   "metadata": {},
   "outputs": [],
   "source": [
    "print(df_zscores.columns)"
   ]
  },
  {
   "cell_type": "code",
   "execution_count": null,
   "metadata": {},
   "outputs": [],
   "source": [
    "collab_columns = ['pct_collab_linauth_Zscore', 'pct_collab_linprof_Zscore', \n",
    "                  'pct_collab_sqrtauth_Zscore', 'pct_collab_sqrtprof_Zscore', \n",
    "                  'pct_collab_unweighted_Zscore']\n",
    "impact_columns = ['avg_PR_log', 'max_PR_log', 'avg_AR_log', 'max_AR_log']\n",
    "\n",
    "for x_col in collab_columns:\n",
    "    for y_col in impact_columns:\n",
    "        data = pd.concat([df_zscores[[x_col]], df_log[[y_col]]], axis = 1)\n",
    "        f, ax = plt.subplots(figsize=(8, 8))        \n",
    "        g = sns.regplot(x_col, y_col, data, ax=ax, dropna = True, fit_reg=False, scatter_kws={\"color\":\"darkred\",\"alpha\":0.3,\"s\":1})\n",
    "        plt.show()\n"
   ]
  },
  {
   "cell_type": "code",
   "execution_count": null,
   "metadata": {},
   "outputs": [],
   "source": [
    "collab_columns = ['InterCommunityFocus_log', 'IntraCommunityFocus_log']\n",
    "impact_columns = ['avg_PR_log', 'max_PR_log', 'avg_AR_log', 'max_AR_log']\n",
    "\n",
    "for x_col in collab_columns:\n",
    "    for y_col in impact_columns:\n",
    "        data = pd.concat([df_log[[x_col]], df_log[[y_col]]], axis = 1)\n",
    "        f, ax = plt.subplots(figsize=(8, 8))        \n",
    "        g = sns.regplot(x_col, y_col, data, ax=ax, dropna = True, fit_reg=False, scatter_kws={\"color\":\"darkred\",\"alpha\":0.3,\"s\":1})\n",
    "        plt.show()\n"
   ]
  },
  {
   "cell_type": "code",
   "execution_count": null,
   "metadata": {},
   "outputs": [],
   "source": [
    "df_log = df_trimmed.copy()\n",
    "for col in df_trimmed.columns:\n",
    "    log_col = df_log[[col]]\n",
    "    df_log[col + '_log'] = log_col.apply(np.log, axis=0)\n",
    "df_log = df_log[[col for col in df_log.columns if 'log' in col]]"
   ]
  },
  {
   "cell_type": "code",
   "execution_count": null,
   "metadata": {},
   "outputs": [],
   "source": [
    "df_log.columns"
   ]
  },
  {
   "cell_type": "code",
   "execution_count": null,
   "metadata": {},
   "outputs": [],
   "source": [
    "df_log.loc['Eric S. Lander']"
   ]
  },
  {
   "cell_type": "code",
   "execution_count": null,
   "metadata": {},
   "outputs": [],
   "source": []
  }
 ],
 "metadata": {
  "kernelspec": {
   "display_name": "Python 3",
   "language": "python",
   "name": "python3"
  },
  "language_info": {
   "codemirror_mode": {
    "name": "ipython",
    "version": 3
   },
   "file_extension": ".py",
   "mimetype": "text/x-python",
   "name": "python",
   "nbconvert_exporter": "python",
   "pygments_lexer": "ipython3",
   "version": "3.6.0"
  }
 },
 "nbformat": 4,
 "nbformat_minor": 2
}
