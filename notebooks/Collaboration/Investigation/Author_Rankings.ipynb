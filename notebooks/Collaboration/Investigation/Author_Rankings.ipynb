{
 "cells": [
  {
   "cell_type": "code",
   "execution_count": null,
   "metadata": {},
   "outputs": [],
   "source": [
    "import pandas as pd\n",
    "df_collab = pd.read_csv('C:\\\\Users\\\\Brend\\\\Downloads\\\\pct_collaborative_pubs_top42.csv', index_col = 'name', encoding = \"UTF-8\")\n",
    "df_collab_new = pd.read_csv('C:\\\\Users\\\\Brend\\\\Downloads\\\\pct_collaborative_pubs_top42_v2.csv', index_col = 'name', encoding = \"UTF-8\")\n",
    "df_disrupt = pd.read_csv('C:\\\\Users\\\\Brend\\\\Downloads\\\\disrupt_top42.csv', index_col = 'name', encoding = \"UTF-8\")\n",
    "df_impact = pd.read_csv('C:\\\\Users\\\\Brend\\\\Downloads\\\\impact_top42.csv', index_col = 'name', encoding = \"UTF-8\")\n",
    "df_clusters = pd.read_csv('C:\\\\Users\\\\Brend\\\\Downloads\\\\clusters_top42.csv', index_col = 'name', encoding = \"UTF-8\")"
   ]
  },
  {
   "cell_type": "code",
   "execution_count": null,
   "metadata": {},
   "outputs": [],
   "source": [
    "all_dfs = [df_collab_new, df_disrupt, df_impact, df_clusters]\n",
    "df = all_dfs[0]\n",
    "for i in range(1, len(all_dfs)):\n",
    "    df = df.join(all_dfs[i], how = 'outer')"
   ]
  },
  {
   "cell_type": "code",
   "execution_count": null,
   "metadata": {},
   "outputs": [],
   "source": [
    "print(\"Total: %d authors\" % df.shape[0])\n",
    "df_trim = df[df['num_pubs'] >= 50]\n",
    "df_trim = df_trim[df_trim['TotalConns'] >= 25]\n",
    "print(\"Remaining after trimming: %d authors\" % df_trim.shape[0])"
   ]
  },
  {
   "cell_type": "code",
   "execution_count": null,
   "metadata": {},
   "outputs": [],
   "source": [
    "def top_100_to_csv(df, name, to_csv = False):\n",
    "    global df_trim\n",
    "    d = dict()\n",
    "    for col in df.columns:\n",
    "        df_notna = df_trim[pd.notna(df_trim[col])]\n",
    "        sorted = df_notna[[col]].sort_values(col, ascending = False).head(100)\n",
    "        names = sorted.index.tolist()\n",
    "        values = sorted[col].tolist()\n",
    "        d[col] = pd.Series(names, index=list(range(1, 101)))\n",
    "        d[col+'_val'] = pd.Series(values, list(range(1, 101)))\n",
    "    df_rank = pd.DataFrame(d)\n",
    "    if to_csv:\n",
    "        df_rank.to_csv('C:\\\\Users\\\\Brend\\\\Downloads\\\\{}_rank.csv'.format(name), index = False, encoding = \"UTF-8\")\n",
    "    return df_rank"
   ]
  },
  {
   "cell_type": "code",
   "execution_count": null,
   "metadata": {},
   "outputs": [],
   "source": [
    "top_100_to_csv(df_collab_new, 'collab', to_csv = True)"
   ]
  },
  {
   "cell_type": "code",
   "execution_count": null,
   "metadata": {},
   "outputs": [],
   "source": [
    "top_100_to_csv(df_impact, 'impact', to_csv = True)"
   ]
  },
  {
   "cell_type": "code",
   "execution_count": null,
   "metadata": {},
   "outputs": [],
   "source": [
    "top_100_to_csv(df_disrupt, 'disrupt', to_csv = True)"
   ]
  },
  {
   "cell_type": "code",
   "execution_count": null,
   "metadata": {},
   "outputs": [],
   "source": [
    "interesting_authors = ['Eric S. Lander', 'Robert Langer', 'Francis Crick', 'Sydney Brenner', 'Richard Henderson', 'Edward S. Boyden']\n",
    "def find_percentiles(df, authors = interesting_authors):\n",
    "    global df_trim\n",
    "    df_percentile = df_trim.copy()\n",
    "    for col in df_trim.columns:\n",
    "        percentile_col = df_trim[pd.notna(df_trim[col])][col]\n",
    "        df_percentile[col+'_%'] = percentile_col.rank(pct=True)\n",
    "    df_percentile_authors = df_percentile.loc[authors][[col+'_%' for col in df.columns]]\n",
    "    return df_percentile_authors"
   ]
  },
  {
   "cell_type": "code",
   "execution_count": null,
   "metadata": {},
   "outputs": [],
   "source": [
    "find_percentiles(df_collab_new)"
   ]
  },
  {
   "cell_type": "code",
   "execution_count": null,
   "metadata": {},
   "outputs": [],
   "source": [
    "find_percentiles(df_impact)"
   ]
  },
  {
   "cell_type": "code",
   "execution_count": null,
   "metadata": {},
   "outputs": [],
   "source": [
    "find_percentiles(df_disrupt)"
   ]
  }
 ],
 "metadata": {
  "kernelspec": {
   "display_name": "Python 3",
   "language": "python",
   "name": "python3"
  },
  "language_info": {
   "codemirror_mode": {
    "name": "ipython",
    "version": 3
   },
   "file_extension": ".py",
   "mimetype": "text/x-python",
   "name": "python",
   "nbconvert_exporter": "python",
   "pygments_lexer": "ipython3",
   "version": "3.6.0"
  }
 },
 "nbformat": 4,
 "nbformat_minor": 2
}
