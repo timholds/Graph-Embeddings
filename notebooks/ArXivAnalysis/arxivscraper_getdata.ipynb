{
 "cells": [
  {
   "cell_type": "code",
   "execution_count": null,
   "metadata": {},
   "outputs": [],
   "source": [
    "import arxivscraper\n",
    "import pandas as pd\n",
    "import numpy as np\n",
    "import time"
   ]
  },
  {
   "cell_type": "code",
   "execution_count": null,
   "metadata": {},
   "outputs": [],
   "source": [
    "start_dates = pd.date_range('2006-12-31','2017-12-31',freq='Y').strftime('%Y-%m-%d')\n",
    "end_dates = pd.date_range('2007-12-31','2018-12-31',freq='Y').strftime('%Y-%m-%d')\n",
    "\n",
    "cat = 'physics'\n",
    "subcats = ['quant-ph']\n",
    "\n",
    "dates = list(zip(start_dates,end_dates))\n",
    "\n",
    "for date in dates:\n",
    "    scraper = arxivscraper.Scraper(category=cat,\n",
    "                               date_from=date[0],\n",
    "                               date_until=date[1],\n",
    "                               filters={'categories':subcats})\n",
    "    output = scraper.scrape()"
   ]
  },
  {
   "cell_type": "code",
   "execution_count": null,
   "metadata": {},
   "outputs": [],
   "source": [
    "dfs = []\n",
    "\n",
    "for date in dates:\n",
    "    df = pd.read_pickle('{}_'.format(cat)+date[0]+'_'+date[1])\n",
    "    dfs.append(df)\n",
    "    \n",
    "articles = pd.concat(dfs)\n",
    "\n",
    "articles.head()"
   ]
  },
  {
   "cell_type": "code",
   "execution_count": null,
   "metadata": {},
   "outputs": [],
   "source": [
    "for df in dfs:\n",
    "    print(len(df))"
   ]
  },
  {
   "cell_type": "code",
   "execution_count": null,
   "metadata": {},
   "outputs": [],
   "source": [
    "len(articles)"
   ]
  },
  {
   "cell_type": "code",
   "execution_count": null,
   "metadata": {},
   "outputs": [],
   "source": [
    "articles.drop_duplicates('id',inplace=True)\n",
    "\n",
    "len(cs_ai)"
   ]
  },
  {
   "cell_type": "code",
   "execution_count": null,
   "metadata": {},
   "outputs": [],
   "source": [
    "articles['year-month'] = pd.to_datetime(articles['created'],format='%Y-%m-%d').dt.strftime('%Y-%m')\n",
    "\n",
    "articles.head()"
   ]
  },
  {
   "cell_type": "code",
   "execution_count": null,
   "metadata": {},
   "outputs": [],
   "source": [
    "articles.reset_index(drop=True,inplace=True)"
   ]
  },
  {
   "cell_type": "code",
   "execution_count": null,
   "metadata": {},
   "outputs": [],
   "source": [
    "articles.head()"
   ]
  },
  {
   "cell_type": "code",
   "execution_count": null,
   "metadata": {},
   "outputs": [],
   "source": [
    "articles.to_pickle('{}_through_2018-11-18'.format(cat))"
   ]
  },
  {
   "cell_type": "code",
   "execution_count": null,
   "metadata": {},
   "outputs": [],
   "source": [
    "articles.to_csv('{}_through_2018-11-18.csv'.format(cat))"
   ]
  },
  {
   "cell_type": "code",
   "execution_count": null,
   "metadata": {},
   "outputs": [],
   "source": []
  }
 ],
 "metadata": {
  "kernelspec": {
   "display_name": "Python 3",
   "language": "python",
   "name": "python3"
  },
  "language_info": {
   "codemirror_mode": {
    "name": "ipython",
    "version": 3
   },
   "file_extension": ".py",
   "mimetype": "text/x-python",
   "name": "python",
   "nbconvert_exporter": "python",
   "pygments_lexer": "ipython3",
   "version": "3.6.6"
  }
 },
 "nbformat": 4,
 "nbformat_minor": 2
}
