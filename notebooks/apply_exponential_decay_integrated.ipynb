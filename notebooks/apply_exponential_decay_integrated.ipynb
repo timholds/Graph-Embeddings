{
 "cells": [
  {
   "cell_type": "code",
   "execution_count": null,
   "metadata": {},
   "outputs": [],
   "source": [
    "import pandas as pd\n",
    "import numpy as np"
   ]
  },
  {
   "cell_type": "code",
   "execution_count": null,
   "metadata": {},
   "outputs": [],
   "source": [
    "file_name = 'impactByTitle_166M_1950-2020-10'\n",
    "path_in = '/Users/timholdsworth/code/scaling-science/Data/' + file_name + '.csv'\n",
    "\n",
    "def get_data(path_in):\n",
    "    df = pd.read_csv(path_in)\n",
    "    return df"
   ]
  },
  {
   "cell_type": "code",
   "execution_count": null,
   "metadata": {},
   "outputs": [],
   "source": [
    "# Add a column thats sums up all the values in a row, which are all the paper's pagerank scores in given years\n",
    "def add_score_sum(df):\n",
    "    df['score_sum'] = df.sum(axis=1, skipna=True)\n",
    "    return df"
   ]
  },
  {
   "cell_type": "code",
   "execution_count": null,
   "metadata": {},
   "outputs": [],
   "source": [
    "# Add a column with the number of years since the paper was published\n",
    "def add_total_years_pub(df):\n",
    "    df['total_years_pub'] = len(df.columns) - 2 - df.isnull().sum(axis=1, skipna=True) \n",
    "    return df"
   ]
  },
  {
   "cell_type": "code",
   "execution_count": null,
   "metadata": {},
   "outputs": [],
   "source": [
    "# Add a column with the average score for a paper\n",
    "def add_time_weighted_score(df):\n",
    "    df['time_weighted_score'] = df['score_sum'] / df['total_years_pub']\n",
    "    return df"
   ]
  },
  {
   "cell_type": "code",
   "execution_count": null,
   "metadata": {},
   "outputs": [],
   "source": [
    "# Sort by the most popular papers according to time weighted score\n",
    "def sort(df):\n",
    "    df = df.sort_values(by=['time_weighted_score'], ascending=False).reset_index(drop=True)\n",
    "    return df"
   ]
  },
  {
   "cell_type": "code",
   "execution_count": null,
   "metadata": {},
   "outputs": [],
   "source": [
    "num_results = 100\n",
    "def clean_for_viz(df, num_results):\n",
    "    df = df.head(num_results)\n",
    "    df = df.round(3)\n",
    "    df = df.rename(columns={\"a.title\": \"title\"})\n",
    "    return df"
   ]
  },
  {
   "cell_type": "code",
   "execution_count": null,
   "metadata": {},
   "outputs": [],
   "source": [
    "# Returns a series of len(df) where each value is the column the data starts in for each row\n",
    "def get_total_years_pub(df):\n",
    "    \n",
    "    total_years_pub = df.loc[:, 'total_years_pub']\n",
    "    # Because there are 3 extra column at the end\n",
    "    start_col_pos = total_years_pub + 3\n",
    "    # Because we want the last certain number of columns\n",
    "    start_cols = -start_col_pos\n",
    "    \n",
    "    return start_cols"
   ]
  },
  {
   "cell_type": "code",
   "execution_count": null,
   "metadata": {},
   "outputs": [],
   "source": [
    "# Method to calculate decay_scores for a given paper, returning the scores as a series\n",
    "def calc_decay_scores(df, start_col, index, decay_rate):\n",
    "         \n",
    "    # Get the nondecayed scores \n",
    "    start = start_col[index]\n",
    "    impact_scores = df.iloc[start:-3, index].reset_index(drop=True)\n",
    "    \n",
    "    # Generate a series of decay coefficients\n",
    "    time = np.arange(len(impact_scores))\n",
    "    decay_list = [np.exp(-1 / decay_rate) for t in time]\n",
    "    decay_series = pd.Series(decay_list)\n",
    "\n",
    "    # Multiply the decay coefficeints by the nondecayed scores\n",
    "    decay_score = decay_series.multiply(impact_scores)\n",
    "    \n",
    "    return decay_score"
   ]
  },
  {
   "cell_type": "code",
   "execution_count": null,
   "metadata": {},
   "outputs": [],
   "source": [
    "# Method to update the dataframe with the impact scores\n",
    "def update_df_with_decay_scores(df, start_cols, decay_rate):\n",
    "    \n",
    "    # Get the index at which data starts for a given column\n",
    "    total_years_pub = df.loc[: , 'total_years_pub']\n",
    "    start_index = total_years_pub + 3\n",
    "\n",
    "    # Set the index to paper title and transpose main df \n",
    "    df = df.set_index('title')\n",
    "    df = df.transpose()\n",
    "\n",
    "    count = 0\n",
    "    \n",
    "    # For all papers, where each column represents a paper, update the score with the decayed_score\n",
    "    for column in df:\n",
    "        \n",
    "        # Calculate the decay scores for each row\n",
    "        decay_score = calc_decay_scores(df, start_cols, df.columns.get_loc(column), decay_rate)\n",
    "        \n",
    "        # Turn the decayed_score into a df with column names matching and back to year-indexed series\n",
    "        decay_frame = decay_score.to_frame()\n",
    "        \n",
    "        # Get the value of the column title from the dataframe itself - which is the column title\n",
    "        decay_frame.columns = [list(df.columns.values)[df.columns.get_loc(column)]]\n",
    "        \n",
    "        # Build an index of years for the decay_frame\n",
    "        time = np.arange(len(decay_score))\n",
    "        year_index = start_index[count]\n",
    "        years = df.index.values.tolist()\n",
    "        year = years[-year_index]\n",
    "        year_list = ['' + str((int(year)) + 10*t) + '' for t in time]\n",
    "        year_series = pd.Series(year_list)\n",
    "        decay_frame['years'] = year_series\n",
    "        decay_frame = decay_frame.set_index('years') \n",
    "        \n",
    "        # Update the dataframe with the new values\n",
    "        df.update(decay_frame)\n",
    "    \n",
    "        count = count + 1\n",
    "    \n",
    "    df = df.round(3)\n",
    "    return df.T"
   ]
  },
  {
   "cell_type": "code",
   "execution_count": null,
   "metadata": {},
   "outputs": [],
   "source": [
    "def write_to_csv(df, decay_rate):\n",
    "    path_out = '/Users/timholdsworth/code/scaling-science/Data/DecayIter' + file_name + '_' + str(num_results) + '_results_decayed_at_' + str(decay_rate) + '.csv'\n",
    "    df.to_csv(path_out, index_label='title')"
   ]
  },
  {
   "cell_type": "code",
   "execution_count": null,
   "metadata": {},
   "outputs": [],
   "source": [
    "#%%timeit\n",
    "# Takes in data, finds most impactful papers, applies decay scores, writes these to csv\n",
    "def data_prep():\n",
    "    df = get_data(path_in)\n",
    "    df1 = add_score_sum(df)\n",
    "    df2 = add_total_years_pub(df1)\n",
    "    df3 = add_time_weighted_score(df2)\n",
    "    df4 = sort(df3)\n",
    "    df5 = clean_for_viz(df4, num_results)\n",
    "    return df5\n",
    "\n",
    "df = data_prep()\n",
    "#df"
   ]
  },
  {
   "cell_type": "code",
   "execution_count": null,
   "metadata": {},
   "outputs": [],
   "source": [
    "#decay_rate = 25\n",
    "def exponential_decay(df, decay_rate):\n",
    "    start_cols = get_total_years_pub(df)\n",
    "    df1 = update_df_with_decay_scores(df, start_cols, decay_rate) \n",
    "    write_to_csv(df1, decay_rate)\n",
    "    return df1\n",
    "\n",
    "#df1 = exponential_decay(df)\n",
    "#df1"
   ]
  },
  {
   "cell_type": "code",
   "execution_count": null,
   "metadata": {},
   "outputs": [],
   "source": [
    "#%%timeit\n",
    "df = data_prep()\n",
    "def main(df):\n",
    "    df1 = exponential_decay(df, decay_rate)\n",
    "    #return df1\n",
    "    print(\"Runnning main\")\n"
   ]
  },
  {
   "cell_type": "code",
   "execution_count": null,
   "metadata": {},
   "outputs": [],
   "source": [
    "for decay_rate in range(5, 100, 5):\n",
    "    main(df)"
   ]
  },
  {
   "cell_type": "code",
   "execution_count": null,
   "metadata": {},
   "outputs": [],
   "source": []
  },
  {
   "cell_type": "code",
   "execution_count": null,
   "metadata": {},
   "outputs": [],
   "source": []
  }
 ],
 "metadata": {
  "anaconda-cloud": {},
  "kernelspec": {
   "display_name": "Python [conda root]",
   "language": "python",
   "name": "conda-root-py"
  },
  "language_info": {
   "codemirror_mode": {
    "name": "ipython",
    "version": 3
   },
   "file_extension": ".py",
   "mimetype": "text/x-python",
   "name": "python",
   "nbconvert_exporter": "python",
   "pygments_lexer": "ipython3",
   "version": "3.5.2"
  }
 },
 "nbformat": 4,
 "nbformat_minor": 2
}
