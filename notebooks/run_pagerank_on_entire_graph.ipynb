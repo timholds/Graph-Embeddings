{
 "cells": [
  {
   "cell_type": "code",
   "execution_count": 129,
   "metadata": {},
   "outputs": [
    {
     "name": "stdout",
     "output_type": "stream",
     "text": [
      "Connected to graph database with 1,000,000 nodes and 37,163 relationships!\n"
     ]
    }
   ],
   "source": [
    "import json\n",
    "from py2neo import Graph\n",
    "from py2neo.data import Node, Relationship\n",
    "\n",
    "# Need to get authentication working, currently NEO4J_AUTH=none\n",
    "graph = Graph(\"bolt://neo4j:7687\")\n",
    "print(\"Connected to graph database with {:,} nodes and {:,} relationships!\".format\n",
    "     (graph.database.primitive_counts['NumberOfNodeIdsInUse'], \n",
    "      graph.database.primitive_counts['NumberOfRelationshipIdsInUse']))"
   ]
  },
  {
   "cell_type": "code",
   "execution_count": 5,
   "metadata": {},
   "outputs": [
    {
     "name": "stdout",
     "output_type": "stream",
     "text": [
      "Running PageRank on the entire graph... Done.\n"
     ]
    }
   ],
   "source": [
    "# FIRST ATTEMPT AT A QUERY THAT WRITES pagerank PROPERTY TO THE ENTIRE GRAPH\n",
    "print(\"Running PageRank on the entire graph...\", end=\" \", flush=True)\n",
    "query = \"\"\"\n",
    "CALL algo.pageRank('Quanta','CITES',{iterations:3, dampingFactor:0.85, write: true, writeProperty:'pagerank'});\n",
    "\"\"\"\n",
    "graph.run(query).evaluate()\n",
    "print(\"Done.\")"
   ]
  },
  {
   "cell_type": "code",
   "execution_count": 130,
   "metadata": {},
   "outputs": [
    {
     "name": "stdout",
     "output_type": "stream",
     "text": [
      "Running PageRank on works from <= 1900... Pulling out and saving results... Done.\n",
      "Running PageRank on works from <= 1901... Pulling out and saving results... Done.\n",
      "Running PageRank on works from <= 1902... Pulling out and saving results... Done.\n",
      "Running PageRank on works from <= 1903... Pulling out and saving results... Done.\n",
      "Running PageRank on works from <= 1904... Pulling out and saving results... Done.\n",
      "Running PageRank on works from <= 1905... Pulling out and saving results... Done.\n",
      "Running PageRank on works from <= 1906... Pulling out and saving results... Done.\n",
      "Running PageRank on works from <= 1907... Pulling out and saving results... Done.\n",
      "Running PageRank on works from <= 1908... Pulling out and saving results... Done.\n",
      "Running PageRank on works from <= 1909... Pulling out and saving results... Done.\n",
      "Running PageRank on works from <= 1910... Pulling out and saving results... Done.\n",
      "Running PageRank on works from <= 1911... Pulling out and saving results... Done.\n",
      "Running PageRank on works from <= 1912... Pulling out and saving results... Done.\n",
      "Running PageRank on works from <= 1913... Pulling out and saving results... Done.\n",
      "Running PageRank on works from <= 1914... Pulling out and saving results... Done.\n",
      "Running PageRank on works from <= 1915... Pulling out and saving results... Done.\n",
      "Running PageRank on works from <= 1916... Pulling out and saving results... Done.\n",
      "Running PageRank on works from <= 1917... Pulling out and saving results... Done.\n",
      "Running PageRank on works from <= 1918... Pulling out and saving results... Done.\n",
      "Running PageRank on works from <= 1919... Pulling out and saving results... Done.\n",
      "Running PageRank on works from <= 1920... Pulling out and saving results... Done.\n",
      "Running PageRank on works from <= 1921... Pulling out and saving results... Done.\n",
      "Running PageRank on works from <= 1922... Pulling out and saving results... Done.\n",
      "Running PageRank on works from <= 1923... Pulling out and saving results... Done.\n",
      "Running PageRank on works from <= 1924... Pulling out and saving results... Done.\n",
      "Running PageRank on works from <= 1925... Pulling out and saving results... Done.\n",
      "Running PageRank on works from <= 1926... Pulling out and saving results... Done.\n",
      "Running PageRank on works from <= 1927... Pulling out and saving results... Done.\n",
      "Running PageRank on works from <= 1928... Pulling out and saving results... Done.\n",
      "Running PageRank on works from <= 1929... Pulling out and saving results... Done.\n",
      "Running PageRank on works from <= 1930... Pulling out and saving results... Done.\n",
      "Running PageRank on works from <= 1931... Pulling out and saving results... Done.\n",
      "Running PageRank on works from <= 1932... Pulling out and saving results... Done.\n",
      "Running PageRank on works from <= 1933... Pulling out and saving results... Done.\n",
      "Running PageRank on works from <= 1934... Pulling out and saving results... Done.\n",
      "Running PageRank on works from <= 1935... Pulling out and saving results... Done.\n",
      "Running PageRank on works from <= 1936... Pulling out and saving results... Done.\n",
      "Running PageRank on works from <= 1937... Pulling out and saving results... Done.\n",
      "Running PageRank on works from <= 1938... Pulling out and saving results... Done.\n",
      "Running PageRank on works from <= 1939... Pulling out and saving results... Done.\n",
      "Running PageRank on works from <= 1940... Pulling out and saving results... Done.\n",
      "Running PageRank on works from <= 1941... Pulling out and saving results... Done.\n",
      "Running PageRank on works from <= 1942... Pulling out and saving results... Done.\n",
      "Running PageRank on works from <= 1943... Pulling out and saving results... Done.\n",
      "Running PageRank on works from <= 1944... Pulling out and saving results... Done.\n",
      "Running PageRank on works from <= 1945... Pulling out and saving results... Done.\n",
      "Running PageRank on works from <= 1946... Pulling out and saving results... Done.\n",
      "Running PageRank on works from <= 1947... Pulling out and saving results... Done.\n",
      "Running PageRank on works from <= 1948... Pulling out and saving results... Done.\n",
      "Running PageRank on works from <= 1949... Pulling out and saving results... Done.\n",
      "Running PageRank on works from <= 1950... Pulling out and saving results... Done.\n"
     ]
    }
   ],
   "source": [
    "# Run PageRank on each year from 1800 to 1805\n",
    "\n",
    "import pandas as pd\n",
    "\n",
    "start_year, end_year = 1900, 1950\n",
    "dfs = []\n",
    "for year in range(start_year, end_year+1):\n",
    "\n",
    "    print(\"Running PageRank on works from <= {}...\".format(year), end=\" \")\n",
    "    query = \"\"\"\n",
    "    CALL algo.pageRank(\n",
    "    'MATCH (p:Quanta) WHERE p.year <= {} RETURN id(p) as id',\n",
    "    'MATCH (p1:Quanta)-[:CITES]->(p2:Quanta) RETURN id(p1) as source, id(p2) as target',\n",
    "    {{graph:'cypher', writeProperty:'pageRank', iterations:5, write: true}});\n",
    "    \"\"\".format(year)\n",
    "    graph.run(query).evaluate()\n",
    "    \n",
    "    print(\"Pulling out and saving results...\", end=\" \")\n",
    "    query = \"\"\"\n",
    "    MATCH (a:Quanta) \n",
    "    WHERE a.year <= {} \n",
    "    RETURN id(a), a.title, a.pageRank\"\"\".format(year)\n",
    "    df = graph.run(query).to_data_frame()\n",
    "    df['year'] = year\n",
    "    dfs.append(df)\n",
    "    print(\"Done.\")\n",
    "    \n",
    "result = pd.concat(dfs).pivot_table(index='a.title', columns='year', values='a.pageRank')    "
   ]
  },
  {
   "cell_type": "code",
   "execution_count": 131,
   "metadata": {},
   "outputs": [
    {
     "name": "stdout",
     "output_type": "stream",
     "text": [
      "Writing results to /tmp/data/result/impact_1900-1950.csv... Done.\n"
     ]
    }
   ],
   "source": [
    "# Write result to CSV\n",
    "\n",
    "file_path = '/tmp/data/result/impact_{}-{}.csv'.format(start_year, end_year)\n",
    "print(\"Writing results to {}...\".format(file_path), end=\" \")\n",
    "result.index = result.index.str.replace(\",\",\"\")\n",
    "result.to_csv(path_or_buf=file_path, sep=\",\", header=True, index=True)\n",
    "print(\"Done.\")"
   ]
  },
  {
   "cell_type": "code",
   "execution_count": null,
   "metadata": {},
   "outputs": [],
   "source": [
    "# Graph loading (notes; do not execute)\n",
    "// Load graph\n",
    "CALL algo.graph.load('my-graph','Label','REL_TYPE',{graph:'heavy',..other config...})\n",
    "  YIELD name, graph, direction, undirected, sorted, nodes, loadMillis, alreadyLoaded,\n",
    "        nodeWeight, relationshipWeight, nodeProperty, loadNodes, loadRelationships;\n",
    "\n",
    "// Info on loaded graph\n",
    "CALL algo.graph.info('my-graph')\n",
    "  YIELD name, type, exists, removed, nodes;\n",
    "\n",
    "// Use graph\n",
    "CALL algo.pageRank(null,null,{graph:'my-graph',...})\n",
    "\n",
    "\n",
    "// Remove graph\n",
    "CALL algo.graph.remove('my-graph')\n",
    "  YIELD name, type, exists, removed, nodes;"
   ]
  }
 ],
 "metadata": {
  "kernelspec": {
   "display_name": "Python 3",
   "language": "python",
   "name": "python3"
  },
  "language_info": {
   "codemirror_mode": {
    "name": "ipython",
    "version": 3
   },
   "file_extension": ".py",
   "mimetype": "text/x-python",
   "name": "python",
   "nbconvert_exporter": "python",
   "pygments_lexer": "ipython3",
   "version": "3.6.5"
  }
 },
 "nbformat": 4,
 "nbformat_minor": 2
}
