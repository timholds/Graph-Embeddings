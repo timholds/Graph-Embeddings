{
 "cells": [
  {
   "cell_type": "code",
   "execution_count": 3,
   "metadata": {},
   "outputs": [],
   "source": [
    "import json\n",
    "from py2neo import Graph\n",
    "from py2neo.data import Node, Relationship\n",
    "\n",
    "graph = Graph(\"bolt://neo4j:7687\")\n",
    "graph.delete_all()"
   ]
  },
  {
   "cell_type": "code",
   "execution_count": 2,
   "metadata": {},
   "outputs": [
    {
     "name": "stdout",
     "output_type": "stream",
     "text": [
      "Importing mag_10entries.txt... \n",
      "            CALL apoc.periodic.iterate(\n",
      "            \"CALL apoc.load.json('file:///import/test/mag_10entries.txt') \n",
      "                YIELD value AS q UNWIND q.id AS id RETURN q\", \n",
      "            \"MERGE (i:Quanta {id:q.id})\n",
      "                ON CREATE SET i.abstract=q.abstract, i.refs=q.references, \n",
      "                i.title=q.title, i.fos=q.fos, i.url=q.url, i.lang=q.lang\", \n",
      "            {batchSize:5000, iterateList:true, parallel:false});\n",
      "            \n",
      "Done.\n",
      "Importing aminer_10entries.txt... \n",
      "            CALL apoc.periodic.iterate(\n",
      "            \"CALL apoc.load.json('file:///import/test/aminer_10entries.txt') \n",
      "                YIELD value AS q UNWIND q.id AS id RETURN q\", \n",
      "            \"MERGE (i:Quanta {id:q.id})\n",
      "                ON CREATE SET i.abstract=q.abstract, i.refs=q.references, \n",
      "                i.title=q.title, i.fos=q.fos, i.url=q.url, i.lang=q.lang\", \n",
      "            {batchSize:5000, iterateList:true, parallel:false});\n",
      "            \n",
      "Done.\n"
     ]
    }
   ],
   "source": [
    "# Create nodes \n",
    "\n",
    "local_data_dir = '/tmp/data/test/'\n",
    "neo4j_data_dir = '/import/test/'\n",
    "\n",
    "import glob, os\n",
    "for _, _, files in os.walk(local_data_dir):\n",
    "    for file in files:\n",
    "        if file.endswith('.txt'):\n",
    "            \n",
    "#             # Normal query\n",
    "#             query = \"\"\"\n",
    "#             CALL apoc.load.json(\"file://{}{}\") \n",
    "#             YIELD value AS q\n",
    "#             UNWIND q.id AS id\n",
    "#             MERGE (i:Quanta {{id:q.id}})\n",
    "#             ON CREATE SET i.abstract=q.abstract, i.refs=q.references, i.title=q.title, \n",
    "#                           i.fos=q.fos, i.url=q.url, i.lang=q.lang\n",
    "#         \"\"\".format(neo4j_data_dir, file)\n",
    "            \n",
    "            # Iterative query (more efficient)\n",
    "            query = \"\"\"\n",
    "            CALL apoc.periodic.iterate(\n",
    "            \"CALL apoc.load.json('file://{}{}') \n",
    "                YIELD value AS q UNWIND q.id AS id RETURN q\", \n",
    "            \"MERGE (i:Quanta {{id:q.id}})\n",
    "                ON CREATE SET i.refs=q.references, \n",
    "                i.title=q.title, i.fos=q.fos, i.url=q.url, i.lang=q.lang\", \n",
    "            {{batchSize:10000, iterateList:true, parallel:false}});\n",
    "            \"\"\".format(neo4j_data_dir, file)\n",
    "            \n",
    "            print(\"Importing {}...\".format(file), end=\" \", flush=True)\n",
    "            print(query)\n",
    "            graph.run(query).evaluate()\n",
    "            print(\"Done.\")"
   ]
  },
  {
   "cell_type": "code",
   "execution_count": 89,
   "metadata": {},
   "outputs": [],
   "source": [
    "# Constrain one node per id\n",
    "query = \"\"\"CREATE CONSTRAINT ON (n:Quanta) ASSERT n.id IS UNIQUE;\"\"\"\n",
    "graph.run(query).evaluate()"
   ]
  },
  {
   "cell_type": "code",
   "execution_count": 78,
   "metadata": {},
   "outputs": [],
   "source": [
    "# Add all citations as relationships between Quanta\n",
    "\n",
    "# Simple but slow\n",
    "query = \"\"\"\n",
    "MATCH (a:Quanta), (b:Quanta)\n",
    "WHERE a.id IN b.refs\n",
    "CREATE (b)-[:CITES]->(a)\n",
    "\"\"\"\n",
    "\n",
    "# Faster but more complex (not benchmarked though)\n",
    "query = \"\"\"\n",
    "CALL apoc.periodic.iterate(\n",
    "   \"MATCH (a:Quanta), (a2:Quanta) WHERE a.id IN a2.refs\n",
    "    WITH a, COLLECT(a2) as b\n",
    "    RETURN a, b\",\n",
    "   \"UNWIND b AS a2\n",
    "    CREATE (a2)-[:CITES]->(a)\",\n",
    "    {batchSize:5000, parallel:true,iterateList:true}\n",
    "\"\"\"\n",
    "\n",
    "# Faster but simple (also not benchmarked)\n",
    "query = \"\"\"\n",
    "CALL apoc.periodic.iterate(\n",
    "   \"MATCH (a:Quanta), (b:Quanta) WHERE ID(a) < ID(b) AND a.id IN b.refs RETURN a, b\",\n",
    "   \"CREATE (b)-[:CITES]->(a)\",\n",
    "    {batchSize:10000, parallel:true,iterateList:true})\n",
    "\"\"\"\n",
    "\n",
    "graph.run(query).evaluate()\n"
   ]
  },
  {
   "cell_type": "code",
   "execution_count": null,
   "metadata": {},
   "outputs": [],
   "source": []
  }
 ],
 "metadata": {
  "kernelspec": {
   "display_name": "Python 3",
   "language": "python",
   "name": "python3"
  },
  "language_info": {
   "codemirror_mode": {
    "name": "ipython",
    "version": 3
   },
   "file_extension": ".py",
   "mimetype": "text/x-python",
   "name": "python",
   "nbconvert_exporter": "python",
   "pygments_lexer": "ipython3",
   "version": "3.6.5"
  }
 },
 "nbformat": 4,
 "nbformat_minor": 2
}
