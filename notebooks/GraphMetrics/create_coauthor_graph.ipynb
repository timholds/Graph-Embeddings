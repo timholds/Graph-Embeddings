{
 "cells": [
  {
   "cell_type": "code",
   "execution_count": null,
   "metadata": {},
   "outputs": [],
   "source": [
    "from py2neo import Graph, Node, Relationship \n",
    "import pandas\n",
    "import time"
   ]
  },
  {
   "cell_type": "code",
   "execution_count": null,
   "metadata": {},
   "outputs": [],
   "source": [
    "graph = Graph('bolt://localhost:7687', auth=('neo4j', 'password'))\n",
    "n_nodes = graph.database.primitive_counts['NumberOfNodeIdsInUse']\n",
    "graph.run(\"MATCH (b) DETACH DELETE b\")"
   ]
  },
  {
   "cell_type": "code",
   "execution_count": null,
   "metadata": {},
   "outputs": [],
   "source": [
    "# Create a CoAuthor graph by creating quanta nodes, then creating relationships between all nodes with relationships\n",
    "# to that Quanta\n",
    "query = \"\"\"\n",
    "CALL apoc.load.json('file:/Users/timholdsworth/Documents/simple-fake-data.txt') \n",
    "YIELD value AS q\n",
    "MERGE (p:Quanta {name:q.title})\n",
    "WITH q, p\n",
    "UNWIND q.authors as author \n",
    "MERGE (a:Author {name:author.name})\n",
    "MERGE (a)-[:CO_CREATOR]->(p)\n",
    "WITH p,a\n",
    "MATCH (p)<-[]-(a)\n",
    "MATCH (b:Author) where (b)-[]->(p) and a <> b\n",
    "MERGE (a)-[r:COAUTHOR]-(b)\n",
    "ON CREATE SET r.strength = 1\n",
    "ON MATCH SET r.strength = r.strength + 1\n",
    "WITH p DETACH DELETE p\n",
    "\"\"\"\n",
    "\n",
    "graph.run(query)"
   ]
  },
  {
   "cell_type": "code",
   "execution_count": null,
   "metadata": {},
   "outputs": [],
   "source": [
    "# Divide all relationship scores by two to account for doulbe counting in the first query \n",
    "# TODO fix this - its actually setting all the strength values to 0 for some reason\n",
    "query = \"\"\"\n",
    "MATCH (a:Author)-[r:COAUTHOR]-(b:Author)\n",
    "SET r.strength = r.strength / 2 \n",
    "\"\"\"\n",
    "\n",
    "graph.run(query)"
   ]
  },
  {
   "cell_type": "code",
   "execution_count": null,
   "metadata": {},
   "outputs": [],
   "source": []
  }
 ],
 "metadata": {
  "anaconda-cloud": {},
  "kernelspec": {
   "display_name": "scaling-science",
   "language": "python",
   "name": "scaling-science"
  },
  "language_info": {
   "codemirror_mode": {
    "name": "ipython",
    "version": 3
   },
   "file_extension": ".py",
   "mimetype": "text/x-python",
   "name": "python",
   "nbconvert_exporter": "python",
   "pygments_lexer": "ipython3",
   "version": "3.5.2"
  }
 },
 "nbformat": 4,
 "nbformat_minor": 2
}
