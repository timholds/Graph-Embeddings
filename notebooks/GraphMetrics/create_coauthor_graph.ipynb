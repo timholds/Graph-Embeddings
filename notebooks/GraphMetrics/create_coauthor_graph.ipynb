{
 "cells": [
  {
   "cell_type": "code",
   "execution_count": null,
   "metadata": {},
   "outputs": [],
   "source": [
    "import time\n",
    "import json\n",
    "from py2neo import Graph, Node, Relationship"
   ]
  },
  {
   "cell_type": "code",
   "execution_count": null,
   "metadata": {},
   "outputs": [],
   "source": [
    "graph = Graph(\"bolt://neo4j-coauthor:7687\", auth=('neo4j','myneo'))\n",
    " \n",
    "print(\"Connected to graph database with {:,} nodes and {:,} relationships!\".format(\n",
    "    graph.database.primitive_counts['NumberOfNodeIdsInUse'], \n",
    "    graph.database.primitive_counts['NumberOfRelationshipIdsInUse']))"
   ]
  },
  {
   "cell_type": "code",
   "execution_count": null,
   "metadata": {},
   "outputs": [],
   "source": [
    "# Constrain one name per author\n",
    "print(\"Creating uniqueness constraint (and also index) on Author names...\", end=\" \", flush=True)\n",
    "query = \"\"\"CREATE CONSTRAINT ON (a:Author) ASSERT a.name IS UNIQUE;\"\"\"\n",
    "graph.run(query).evaluate()\n",
    "print(\"Done.\")"
   ]
  },
  {
   "cell_type": "code",
   "execution_count": null,
   "metadata": {},
   "outputs": [],
   "source": [
    "# Import authors as nodes\n",
    "import glob, os, time\n",
    "\n",
    "local_data_dir = '/tmp/data/mag/'\n",
    "neo4j_data_dir = '/import/mag/'\n",
    "\n",
    "start_time = time.time()\n",
    "for _,_ , files in os.walk(local_data_dir):\n",
    "    for file in sorted(files):\n",
    "        if file.endswith('.txt'):\n",
    "           \n",
    "            print(\"Importing {}...\".format(file), end=\" \", flush=True)\n",
    "            query = \"\"\"\n",
    "            CALL apoc.periodic.iterate(\n",
    "            \"CALL apoc.load.json('file://{}{}') YIELD value AS q RETURN q\"\n",
    "            ,\n",
    "            \"MERGE (p:Quanta {{name:q.title}})\n",
    "            WITH q, p\n",
    "            UNWIND q.authors as author \n",
    "            MERGE (a:Author {{name:author.name}})\n",
    "            MERGE (a)-[:COCREATOR]->(p)\n",
    "            WITH p,a\n",
    "            MATCH (b:Author) where (b)-[]->(p) and a <> b\n",
    "            MERGE (a)-[r:COAUTHOR]-(b)\n",
    "            ON CREATE SET r.strength = 1\n",
    "            ON MATCH SET r.strength = r.strength + 1\n",
    "            WITH p DETACH DELETE p;\"\n",
    "            , \n",
    "            {{batchSize:10000, iterateList:true, parallel:false}});\n",
    "            \"\"\".format(neo4j_data_dir, file)\n",
    "            \n",
    "            query_start_time = time.time()\n",
    "            graph.run(query).evaluate()\n",
    "            print(\"Done in ({:.2f} minutes)...\".format((time.time()-query_start_time)/60))\n",
    "\n",
    "print(\"Finished all imports in {:.2f} hours.\".format((time.time()-start_time)/60/60))"
   ]
  },
  {
   "cell_type": "code",
   "execution_count": null,
   "metadata": {},
   "outputs": [],
   "source": [
    "# Old Query (deleted MATCH (p)<-[]-(a) in the new query)\n",
    "# Create a CoAuthor graph by creating quanta nodes, then creating relationships between all nodes \n",
    "# with relationships to that Quanta\n",
    "query = \"\"\"\n",
    "CALL apoc.load.json('file:/Users/timholdsworth/Documents/simple-fake-data.txt') \n",
    "YIELD value AS q\n",
    "MERGE (p:Quanta {name:q.title})\n",
    "WITH q, p\n",
    "UNWIND q.authors as author \n",
    "MERGE (a:Author {name:author.name})\n",
    "MERGE (a)-[:CO_CREATOR]->(p)\n",
    "WITH p,a\n",
    "MATCH (p)<-[]-(a)\n",
    "MATCH (b:Author) where (b)-[]->(p) and a <> b\n",
    "MERGE (a)-[r:COAUTHOR]-(b)\n",
    "ON CREATE SET r.strength = 1\n",
    "ON MATCH SET r.strength = r.strength + 1\n",
    "WITH p DETACH DELETE p\n",
    "\"\"\"\n",
    "\n",
    "graph.run(query)"
   ]
  },
  {
   "cell_type": "code",
   "execution_count": null,
   "metadata": {},
   "outputs": [],
   "source": [
    "# Divide all relationship scores by two to account for doulbe counting in the first query \n",
    "# TODO fix this - its actually setting all the strength values to 0 for some reason\n",
    "query = \"\"\"\n",
    "MATCH (a:Author)-[r:COAUTHOR]-(b:Author)\n",
    "SET r.strength = r.strength / 2 \n",
    "\"\"\"\n",
    "\n",
    "graph.run(query)"
   ]
  },
  {
   "cell_type": "code",
   "execution_count": null,
   "metadata": {},
   "outputs": [],
   "source": []
  }
 ],
 "metadata": {
  "anaconda-cloud": {},
  "kernelspec": {
   "display_name": "scaling-science",
   "language": "python",
   "name": "scaling-science"
  },
  "language_info": {
   "codemirror_mode": {
    "name": "ipython",
    "version": 3
   },
   "file_extension": ".py",
   "mimetype": "text/x-python",
   "name": "python",
   "nbconvert_exporter": "python",
   "pygments_lexer": "ipython3",
   "version": "3.5.2"
  }
 },
 "nbformat": 4,
 "nbformat_minor": 2
}
