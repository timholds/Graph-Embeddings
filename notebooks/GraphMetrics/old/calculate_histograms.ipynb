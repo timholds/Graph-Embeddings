{
 "cells": [
  {
   "cell_type": "code",
   "execution_count": null,
   "metadata": {},
   "outputs": [],
   "source": [
    "import json\n",
    "from py2neo import Graph, Node, Relationship\n",
    "\n",
    "# Need to get authentication working, currently NEO4J_AUTH=none\n",
    "graph = Graph(\"bolt://neo4j:7687\")\n",
    "# graph = Graph('bolt://localhost:7687', bolt=True)\n",
    "\n",
    "#graph.delete_all()\n",
    "\n",
    "n_nodes = graph.database.primitive_counts['NumberOfNodeIdsInUse']\n",
    "n_relationships = graph.database.primitive_counts['NumberOfRelationshipIdsInUse']\n",
    "print(\"Connected to graph database with {:,} nodes and {:,} relationships!\".format(n_nodes, n_relationships))\n"
   ]
  },
  {
   "cell_type": "code",
   "execution_count": null,
   "metadata": {},
   "outputs": [],
   "source": [
    "import pandas as pd\n",
    "import time\n",
    "\n",
    "start_time = time.time()\n",
    "start_year, end_year, step = 1900, 1900, 1\n",
    "dfs = []\n",
    "for year in range(start_year, end_year+1, step):\n",
    "    \n",
    "    # < IS MUCH FASTER THAN <=\n",
    "    print(\"Running PageRank on patents from < {}...\".format(year), end=\" \")\n",
    "    query_start_time = time.time()\n",
    "    query = \"\"\"\n",
    "    CALL algo.pageRank.stream(\n",
    "         'MATCH (p:Patent) WHERE p.pub_date < \"{}-01-01\" AND p.pub_date <> \"\" RETURN id(p) as id'\n",
    "        ,'MATCH (p1:Patent)-[:CITES]->(p2:Patent) RETURN id(p1) as source, id(p2) as target'\n",
    "        ,{{graph:'cypher', iterations:20, write:false}})\n",
    "    YIELD node, score\n",
    "    WITH * \n",
    "    ORDER BY score DESC\n",
    "    RETURN \n",
    "        node.number AS number, \n",
    "        score;\n",
    "    \"\"\".format(year)\n",
    "#     print(query)\n",
    "    df = graph.run(query).to_data_frame()\n",
    "    df['year'] = year\n",
    "    dfs.append(df)\n",
    "    query_end_time = time.time()\n",
    "    print(\"Done ({:.2f} minutes).\".format((query_end_time-query_start_time)/60))\n",
    "    \n",
    "end_time = time.time()\n",
    "print(\"Finished all calculations in {:.2f} minutes.\".format((end_time-start_time)/60))"
   ]
  },
  {
   "cell_type": "code",
   "execution_count": null,
   "metadata": {},
   "outputs": [],
   "source": [
    "# import pandas as pd\n",
    "# import time\n",
    "\n",
    "# start_time = time.time()\n",
    "# start_year, end_year, step = 1900, 1905, 5\n",
    "# dfs = []\n",
    "# for year in range(start_year, end_year+1, step):\n",
    "    \n",
    "#     # < IS MUCH FASTER THAN <=\n",
    "#     print(\"Running PageRank on patents from < {}...\".format(year), end=\" \")\n",
    "#     query_start_time = time.time()\n",
    "#     query = \"\"\"\n",
    "#     CALL algo.pageRank.stream(\n",
    "#          'MATCH (p:Patent) WHERE p.pub_date < \"{}-01-01\" AND p.pub_date <> \"\" RETURN id(p) as id'\n",
    "#         ,'MATCH (p1:Patent)-[:CITES]->(p2:Patent) RETURN id(p1) as source, id(p2) as target'\n",
    "#         ,{{graph:'cypher', iterations:20, write:false}})\n",
    "#     YIELD node, score\n",
    "#     WITH * \n",
    "#     ORDER BY score DESC\n",
    "\n",
    "#     RETURN \n",
    "#         node.number AS number, \n",
    "#         node.title AS title, \n",
    "#         node.inventors AS inventors, \n",
    "#         node.location AS location, \n",
    "#         node.n_citations AS n_citations, \n",
    "#         node.pub_date AS pub_date, \n",
    "#         node.patent_citations AS patent_citations, \n",
    "#         node.classifications AS classifications, \n",
    "#         node.cited_by AS cited_by, \n",
    "#         score;\n",
    "#     \"\"\".format(year)\n",
    "# #     print(query)\n",
    "#     df = graph.run(query).to_data_frame()\n",
    "#     df['year'] = year\n",
    "#     dfs.append(df)\n",
    "#     query_end_time = time.time()\n",
    "#     print(\"Done ({:.2f} minutes).\".format((query_end_time-query_start_time)/60))\n",
    "    \n",
    "# end_time = time.time()\n",
    "# print(\"Finished all calculations in {:.2f} minutes.\".format((end_time-start_time)/60))"
   ]
  },
  {
   "cell_type": "code",
   "execution_count": null,
   "metadata": {},
   "outputs": [],
   "source": [
    "df"
   ]
  },
  {
   "cell_type": "code",
   "execution_count": null,
   "metadata": {},
   "outputs": [],
   "source": [
    "pubd_list = df['pub_date'].tolist()\n",
    "print(len(pubd_list[0]))"
   ]
  },
  {
   "cell_type": "code",
   "execution_count": null,
   "metadata": {},
   "outputs": [],
   "source": []
  },
  {
   "cell_type": "code",
   "execution_count": null,
   "metadata": {},
   "outputs": [],
   "source": []
  },
  {
   "cell_type": "code",
   "execution_count": null,
   "metadata": {},
   "outputs": [],
   "source": [
    "print(type(df['score']))\n",
    "score_list = df['score'].tolist()\n",
    "\n",
    "print(len(score_list))\n"
   ]
  },
  {
   "cell_type": "code",
   "execution_count": null,
   "metadata": {},
   "outputs": [],
   "source": [
    "# log scala\n",
    "import numpy as np\n",
    "score_list_log = np.log(score_list)"
   ]
  },
  {
   "cell_type": "code",
   "execution_count": null,
   "metadata": {},
   "outputs": [],
   "source": [
    "import seaborn as sns\n",
    "from scipy import stats, integrate\n",
    "import matplotlib.pyplot as plt\n",
    "sns.set()\n",
    "sns.distplot(score_list);\n"
   ]
  },
  {
   "cell_type": "code",
   "execution_count": null,
   "metadata": {},
   "outputs": [],
   "source": [
    "import seaborn as sns\n",
    "sns.set()\n",
    "#sns.distplot(data_test, rug=True, norm_hist=False)\n",
    "sns.distplot(score_list,  rug=True, kde=True, hist=False, bins = 100)\n",
    "sns.distplot(score_list,  rug=True, kde=False, hist=True, norm_hist=False)"
   ]
  },
  {
   "cell_type": "code",
   "execution_count": null,
   "metadata": {},
   "outputs": [],
   "source": [
    "print(score_list[5910160])"
   ]
  },
  {
   "cell_type": "code",
   "execution_count": null,
   "metadata": {},
   "outputs": [],
   "source": [
    "import numpy as np\n",
    "x1 = np.random.normal(0, 0.8, 10000)\n",
    "x2 = np.random.normal(-2, 1, 1000)\n",
    "x3 = np.random.normal(3, 2, 1000)\n",
    "x1 = [1,2,3,2,4,6,1,2,3]\n",
    "x2 = [3,5,6,3,4,5,9,5,3,2]\n",
    "x3 = [6,7,9,8,6,8,9,1]\n",
    "kwargs = dict(histtype='stepfilled', alpha=0.3, bins=10)\n",
    "\n",
    "plt.hist(x1, **kwargs)\n",
    "plt.hist(x2, **kwargs)\n",
    "plt.hist(x3, **kwargs);"
   ]
  },
  {
   "cell_type": "code",
   "execution_count": null,
   "metadata": {},
   "outputs": [],
   "source": []
  },
  {
   "cell_type": "code",
   "execution_count": null,
   "metadata": {},
   "outputs": [],
   "source": [
    "#print(score_list)\n",
    "from matplotlib import pyplot as plt\n",
    "#plt.xlim(0, 1)\n",
    "\n",
    "plt.hist(score_list, bins = 100)\n",
    "#plt.hist(data_test, bins = 100)\n",
    "\n",
    "plt.title('for the year')\n",
    "plt.xlabel('Pagerank score')\n",
    "plt.ylabel('count')\n",
    "\n",
    "plt.show()"
   ]
  },
  {
   "cell_type": "code",
   "execution_count": null,
   "metadata": {},
   "outputs": [],
   "source": [
    "lowest_score = min(score_list)\n",
    "score_list_wo_lowest = [] \n",
    "for i in score_list:\n",
    "    if i != lowest_score:\n",
    "        score_list_wo_lowest.append(i)\n",
    "        \n",
    "        \n",
    "score_list_wo_lowest_log = np.log(score_list_wo_lowest)  "
   ]
  },
  {
   "cell_type": "code",
   "execution_count": null,
   "metadata": {},
   "outputs": [],
   "source": [
    "print(len(score_list_wo_lowest))"
   ]
  },
  {
   "cell_type": "code",
   "execution_count": null,
   "metadata": {},
   "outputs": [],
   "source": [
    "#print(score_list)\n",
    "from matplotlib import pyplot as plt\n",
    "#plt.xlim(0, 1)\n",
    "\n",
    "\n",
    "fig = plt.figure()\n",
    "ax = fig.add_subplot(1, 1, 1)\n",
    "ax.set_facecolor((1, 1, 1))\n",
    "\n",
    "plt.axis([-2,4,0,250000])\n",
    "plt.hist(score_list_wo_lowest_log, bins = 200)\n",
    "#plt.hist(data_test, bins = 100)\n",
    "font = {'family':'sans-serif',\n",
    "        'color':  'grey',\n",
    "        'weight': 'normal',\n",
    "        'size': 60,\n",
    "        }\n",
    "plt.xlabel('Impact Metric')\n",
    "plt.ylabel('Count')\n",
    "plt.ticklabel_format(axis='y', style='sci', scilimits=(-2,2))\n",
    "fontdict=font\n",
    "plt.text(1, 25000, '2000', fontdict=font)\n",
    "plt.show()\n",
    "\n",
    "\n",
    "fig.savefig('Figures/2000.png')\n"
   ]
  },
  {
   "cell_type": "code",
   "execution_count": null,
   "metadata": {},
   "outputs": [],
   "source": [
    "backup = score_list_wo_lowest_log"
   ]
  },
  {
   "cell_type": "code",
   "execution_count": null,
   "metadata": {},
   "outputs": [],
   "source": [
    "from itertools import groupby\n",
    "element_count = [len(list(group)) for key, group in groupby(score_list_log)]\n",
    "print(max(element_count))"
   ]
  },
  {
   "cell_type": "code",
   "execution_count": null,
   "metadata": {},
   "outputs": [],
   "source": [
    "sorted(element_count, reverse=True)[:10]"
   ]
  },
  {
   "cell_type": "code",
   "execution_count": null,
   "metadata": {},
   "outputs": [],
   "source": []
  }
 ],
 "metadata": {
  "kernelspec": {
   "display_name": "Python 3",
   "language": "python",
   "name": "python3"
  },
  "language_info": {
   "codemirror_mode": {
    "name": "ipython",
    "version": 3
   },
   "file_extension": ".py",
   "mimetype": "text/x-python",
   "name": "python",
   "nbconvert_exporter": "python",
   "pygments_lexer": "ipython3",
   "version": "3.6.5"
  }
 },
 "nbformat": 4,
 "nbformat_minor": 2
}
