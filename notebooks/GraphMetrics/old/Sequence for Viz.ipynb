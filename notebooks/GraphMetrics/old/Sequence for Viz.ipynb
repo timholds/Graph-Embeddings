{
 "cells": [
  {
   "cell_type": "code",
   "execution_count": 10,
   "metadata": {},
   "outputs": [],
   "source": [
    "import pandas as pd\n",
    "import seaborn as sns\n",
    "import csv\n",
    "%matplotlib inline"
   ]
  },
  {
   "cell_type": "code",
   "execution_count": 3,
   "metadata": {},
   "outputs": [
    {
     "data": {
      "text/plain": [
       "community\n",
       "1        1.0\n",
       "3        1.0\n",
       "4        5.0\n",
       "5     1346.0\n",
       "12      17.0\n",
       "dtype: float64"
      ]
     },
     "execution_count": 3,
     "metadata": {},
     "output_type": "execute_result"
    }
   ],
   "source": [
    "df = pd.read_csv('C:\\\\Users\\ikang\\Dropbox (MIT)\\My UROP\\Visualization\\D3 Viz\\gradient_approx_spread.csv')\n",
    "df.columns = map(lambda x: x.replace('\"',''), df.columns)\n",
    "dfp = df.pivot_table(index='community', columns='year').sum(axis=1)\n",
    "dfp.head()"
   ]
  },
  {
   "cell_type": "code",
   "execution_count": 41,
   "metadata": {},
   "outputs": [
    {
     "data": {
      "text/plain": [
       "<matplotlib.axes._subplots.AxesSubplot at 0x252e98f0>"
      ]
     },
     "execution_count": 41,
     "metadata": {},
     "output_type": "execute_result"
    },
    {
     "data": {
      "image/png": "[encoded data removed]",
      "text/plain": [
       "<Figure size 432x288 with 1 Axes>"
      ]
     },
     "metadata": {
      "needs_background": "light"
     },
     "output_type": "display_data"
    }
   ],
   "source": [
    "sns.distplot(dfp)"
   ]
  },
  {
   "cell_type": "code",
   "execution_count": 4,
   "metadata": {},
   "outputs": [
    {
     "data": {
      "text/plain": [
       "community\n",
       "5         1346.0\n",
       "120       1194.0\n",
       "115       1078.0\n",
       "268        846.0\n",
       "79920      764.0\n",
       "353        728.0\n",
       "150        710.0\n",
       "1217       706.0\n",
       "12660      651.0\n",
       "34649      481.0\n",
       "127502     444.0\n",
       "23375      406.0\n",
       "27475      405.0\n",
       "30930      403.0\n",
       "622        379.0\n",
       "12398      363.0\n",
       "15756      362.0\n",
       "2161       343.0\n",
       "310        325.0\n",
       "93650      323.0\n",
       "33572      309.0\n",
       "888        307.0\n",
       "64713      286.0\n",
       "48776      284.0\n",
       "1446       279.0\n",
       "74732      272.0\n",
       "79482      256.0\n",
       "27030      247.0\n",
       "15138      246.0\n",
       "28274      245.0\n",
       "           ...  \n",
       "74927       56.0\n",
       "41630       56.0\n",
       "61639       56.0\n",
       "77431       56.0\n",
       "8052        56.0\n",
       "305257      56.0\n",
       "73269       55.0\n",
       "17596       55.0\n",
       "24678       55.0\n",
       "68758       55.0\n",
       "59728       55.0\n",
       "49555       55.0\n",
       "9358        55.0\n",
       "94363       55.0\n",
       "32441       55.0\n",
       "58427       54.0\n",
       "6731        54.0\n",
       "12882       54.0\n",
       "70521       54.0\n",
       "3325        54.0\n",
       "36824       54.0\n",
       "8679        54.0\n",
       "20378       54.0\n",
       "130748      54.0\n",
       "28322       54.0\n",
       "186780      54.0\n",
       "19701       54.0\n",
       "240928      54.0\n",
       "47162       54.0\n",
       "6303        53.0\n",
       "Length: 500, dtype: float64"
      ]
     },
     "execution_count": 4,
     "metadata": {},
     "output_type": "execute_result"
    }
   ],
   "source": [
    "dfp.sort_values(ascending=False)[:500]"
   ]
  },
  {
   "cell_type": "code",
   "execution_count": 6,
   "metadata": {},
   "outputs": [],
   "source": [
    "top_500 = dfp.sort_values(ascending=False)[:500]\n",
    "\n",
    "top_500.to_csv(\"top_500_communities.csv\")"
   ]
  },
  {
   "cell_type": "code",
   "execution_count": null,
   "metadata": {},
   "outputs": [],
   "source": []
  }
 ],
 "metadata": {
  "kernelspec": {
   "display_name": "Python 3",
   "language": "python",
   "name": "python3"
  },
  "language_info": {
   "codemirror_mode": {
    "name": "ipython",
    "version": 3
   },
   "file_extension": ".py",
   "mimetype": "text/x-python",
   "name": "python",
   "nbconvert_exporter": "python",
   "pygments_lexer": "ipython3",
   "version": "3.7.2"
  }
 },
 "nbformat": 4,
 "nbformat_minor": 2
}
