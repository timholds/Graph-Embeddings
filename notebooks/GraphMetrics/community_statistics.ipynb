{
 "cells": [
  {
   "cell_type": "code",
   "execution_count": null,
   "metadata": {},
   "outputs": [],
   "source": [
    "import time\n",
    "import json\n",
    "import math\n",
    "import pandas as pd\n",
    "import matplotlib.pyplot as plt\n",
    "import seaborn as sns\n",
    "from scipy import stats\n",
    "from py2neo import Graph, Node, Relationship\n",
    "%matplotlib inline\n",
    "\n"
   ]
  },
  {
   "cell_type": "code",
   "execution_count": null,
   "metadata": {},
   "outputs": [],
   "source": [
    "graph = Graph(\"bolt://neo4j-quanta:7687\", auth=('neo4j','myneo'))\n",
    "\n",
    "print(\"Connected to graph database with {:,} nodes and {:,} relationships!\".format(\n",
    "    graph.database.primitive_counts['NumberOfNodeIdsInUse'], \n",
    "    graph.database.primitive_counts['NumberOfRelationshipIdsInUse']))"
   ]
  },
  {
   "cell_type": "code",
   "execution_count": null,
   "metadata": {},
   "outputs": [],
   "source": [
    "def query_to_df(query, graph):\n",
    "    #print(\"Starting query...\", end=\" \")\n",
    "    query_start_time = time.time()\n",
    "    df = graph.run(query).to_data_frame()\n",
    "    #print(\"Done ({:.2f} minutes).\".format((time.time()-query_start_time)/60))\n",
    "    return df"
   ]
  },
  {
   "cell_type": "code",
   "execution_count": null,
   "metadata": {},
   "outputs": [],
   "source": [
    "'''\n",
    "## Histogram of community size\n",
    "\n",
    "# Get number of Louvain iterations run\n",
    "n_iters = query_to_df(\"MATCH (a:NatureAuthor) RETURN size(a.louvain) as n_iters LIMIT 1\", graph)['n_iters'][0]\n",
    "\n",
    "# Plot histogram at each iteration\n",
    "for i in range(n_iters):\n",
    "    query = \"\"\"\n",
    "    MATCH (a:NatureAuthor) \n",
    "    RETURN \n",
    "        a.louvain[{}] as community_id, \n",
    "        COUNT(a) as community_size\"\"\".format(i)\n",
    "    df = query_to_df(query, graph)\n",
    "    plt.figure()\n",
    "    sns.distplot(df['community_size'])\n",
    "'''"
   ]
  },
  {
   "cell_type": "code",
   "execution_count": null,
   "metadata": {},
   "outputs": [],
   "source": [
    "# Number of authors\n",
    "\n",
    "d = graph.run(\"MATCH (a:NatureAuthor) RETURN COUNT(a) as number_of_nature_authors\").data()[0]\n",
    "num_nature_authors = d['number_of_nature_authors']\n",
    "print(\"Number of authors: {:,}\".format(num_nature_authors))\n",
    "\n",
    "# Number of communities\n",
    "\n",
    "d = graph.run(\"MATCH (a:NatureAuthor) RETURN COUNT(DISTINCT tail(a.louvain)) as number_of_communities\").data()[0]\n",
    "num_communities = d['number_of_communities']\n",
    "print(\"Number of communities: {:,}\".format(num_communities))\n",
    "print(\"------------------------------\\n\")\n",
    "\n",
    "# Distribution of community sizes\n",
    "n_iters = 4\n",
    "\n",
    "for i in range(n_iters):\n",
    "    query = \"\"\"\n",
    "    MATCH (a:NatureAuthor) \n",
    "    RETURN \n",
    "        a.louvain[{}] as community_id, \n",
    "        COUNT(a) as community_size\"\"\".format(i)\n",
    "\n",
    "    df = query_to_df(query, graph)\n",
    "    \n",
    "    d = graph.run(\"MATCH (a:NatureAuthor) RETURN COUNT(DISTINCT a.louvain[{}]) as number_of_communities\".format(i)).data()[0]\n",
    "    num_communities = d['number_of_communities']\n",
    "    \n",
    "    #d = graph.run(\"MATCH (a:NatureAuthor) RETURN COUNT(DISTINCT a.louvain[{}]) as number_of_communities\".format(i)).data()[0]\n",
    "    num_communities_size_1 = len(df.loc[df['community_size'] == 1].index)\n",
    "    \n",
    "    \n",
    "    print(\"Statistics after iteration {}:\".format(i+1))\n",
    "    print(\"Number of communities: {:,}\".format(num_communities))\n",
    "    print(\"Average community size:\", df['community_size'].mean())\n",
    "    print(\"Number of communities of size 1: {:,}\".format(num_communities_size_1))\n",
    "    print(\"Percentage of communities of size 1: {}\".format(num_communities_size_1/float(num_communities)))\n",
    "    print(\"------------------------------\")\n",
    "    \n",
    "    if i == n_iters-1:\n",
    "        print(\"Community statistics:\\n\")\n",
    "        print(df['community_size'].describe())\n",
    "    \n",
    "    plt.figure()\n",
    "    sns.distplot(df['community_size'])\n",
    "\n",
    "louvain_community_sizes_array = df['community_size'].values"
   ]
  },
  {
   "cell_type": "code",
   "execution_count": null,
   "metadata": {},
   "outputs": [],
   "source": [
    "# Number of authors\n",
    "\n",
    "d = graph.run(\"MATCH (a:NatureAuthor) RETURN COUNT(a) as number_of_nature_authors\").data()[0]\n",
    "num_nature_authors = d['number_of_nature_authors']\n",
    "print(\"Number of authors: {:,}\".format(num_nature_authors))\n",
    "\n",
    "##### Distribution of community sizes #####\n",
    "\n",
    "query = \"\"\"\n",
    "MATCH (a:NatureAuthor) \n",
    "RETURN \n",
    "    a.labelprop as community_id, \n",
    "    COUNT(a) as community_size\"\"\".format(i)\n",
    "\n",
    "df = query_to_df(query, graph)\n",
    "community_size_df = df['community_size']\n",
    "\n",
    "d = graph.run(\"MATCH (a:NatureAuthor) RETURN COUNT(DISTINCT a.labelprop) as number_of_communities\").data()[0]\n",
    "num_communities = d['number_of_communities']\n",
    "num_communities_size_1 = len(df.loc[community_size_df == 1].index)\n",
    "\n",
    "\n",
    "print(\"Number of communities: {:,}\".format(num_communities))\n",
    "print(\"Average community size:\", community_size_df.mean())\n",
    "print(\"Number of communities of size 1: {:,}\".format(num_communities_size_1))\n",
    "print(\"Percentage of communities of size 1: {}\".format(num_communities_size_1/float(num_communities)))\n",
    "print(\"------------------------------\\n\")\n",
    "\n",
    "plt.figure()\n",
    "sns.distplot(community_size_df)\n",
    "print(\"Community statistics:\\n\")\n",
    "print(community_size_df.describe())\n",
    "print()\n",
    "\n",
    "##### Coauthor Distributions #####\n",
    "\n",
    "query = \"\"\"MATCH (a:NatureAuthor)\n",
    "WITH a, size((a)-[:COAUTHOR]-()) as Num_Coauthors\n",
    "RETURN a.name, Num_Coauthors\"\"\"\n",
    "\n",
    "df = query_to_df(query, graph)\n",
    "degree_df = df['Num_Coauthors']\n",
    "\n",
    "print(\"Coauthorship statistics:\\n\")\n",
    "print(degree_df.describe())\n",
    "\n",
    "plt.figure()\n",
    "sns.distplot(degree_df)\n",
    "labelprop_community_sizes_array = community_size_df.values"
   ]
  },
  {
   "cell_type": "markdown",
   "metadata": {},
   "source": [
    "# Features from Communities Formed by Louvain Algorithm"
   ]
  },
  {
   "cell_type": "markdown",
   "metadata": {},
   "source": [
    "Box Plots for Average Intercommunity Edge Weights and Average Intracommunity Edge Weights "
   ]
  },
  {
   "cell_type": "code",
   "execution_count": null,
   "metadata": {},
   "outputs": [],
   "source": [
    "inner = pd.read_csv('./CSV/louvain/avg_inner_edge_weight_nature.csv')['avg_inner_edge_weight'].values\n",
    "outer = pd.read_csv('./CSV/louvain/avg_outer_edge_weight_nature.csv')['avg_outer_edge_weight'].values\n",
    "\n",
    "sns.boxplot(data=[inner,outer])\n",
    "plt.ylim(0, 7)"
   ]
  },
  {
   "cell_type": "code",
   "execution_count": null,
   "metadata": {},
   "outputs": [],
   "source": [
    "_, p = stats.mannwhitneyu(inner, outer)\n",
    "p\n",
    "# Mann Whitney U test on box plot data"
   ]
  },
  {
   "cell_type": "markdown",
   "metadata": {},
   "source": [
    "Box Plots for Authors' focus"
   ]
  },
  {
   "cell_type": "code",
   "execution_count": null,
   "metadata": {},
   "outputs": [],
   "source": [
    "inner = pd.read_csv('./CSV/louvain/author_focus_nature.csv')['NatureInterCommunityFocus'].values\n",
    "outer = pd.read_csv('./CSV/louvain/author_focus_nature.csv')['NatureInterCommunityFocus'].values\n",
    "\n",
    "sns.boxplot(data=[inner,outer])\n",
    "inner"
   ]
  },
  {
   "cell_type": "code",
   "execution_count": null,
   "metadata": {},
   "outputs": [],
   "source": [
    "_, p = stats.mannwhitneyu(inner, outer)\n",
    "p\n",
    "# Mann Whitney U test on box plot data"
   ]
  },
  {
   "cell_type": "code",
   "execution_count": null,
   "metadata": {},
   "outputs": [],
   "source": [
    "_, p = stats.mannwhitneyu(louvain_community_sizes_array, labelprop_community_sizes_array)\n",
    "p"
   ]
  },
  {
   "cell_type": "markdown",
   "metadata": {},
   "source": [
    "# Features from Communities Formed by Label Propagation Algorithm"
   ]
  },
  {
   "cell_type": "markdown",
   "metadata": {},
   "source": [
    "Box Plots for Average Intercommunity Edge Weights and Average Intracommunity Edge Weights "
   ]
  },
  {
   "cell_type": "code",
   "execution_count": null,
   "metadata": {},
   "outputs": [],
   "source": [
    "inner = pd.read_csv('./CSV/labelprop/avg_inner_edge_weight.csv')['avg_inner_edge_weight'].values\n",
    "outer = pd.read_csv('./CSV/labelprop/avg_outer_edge_weight.csv')[\"avg_outer_edge_weight\"].values\n",
    "\n",
    "sns.boxplot(data=[inner,outer])\n",
    "plt.ylim(0, 7)"
   ]
  },
  {
   "cell_type": "code",
   "execution_count": null,
   "metadata": {},
   "outputs": [],
   "source": [
    "_, p = stats.mannwhitneyu(inner, outer)\n",
    "p\n",
    "# Mann Whitney U test on box plot data"
   ]
  },
  {
   "cell_type": "markdown",
   "metadata": {},
   "source": [
    "Box Plots for Authors' focus"
   ]
  },
  {
   "cell_type": "code",
   "execution_count": null,
   "metadata": {},
   "outputs": [],
   "source": [
    "inner = pd.read_csv('./CSV/labelprop/author_focus.csv')['NatureIntraCommunityFocus'].values\n",
    "outer = pd.read_csv('./CSV/labelprop/author_focus.csv')['NatureInterCommunityFocus'].values\n",
    "\n",
    "sns.boxplot(data=[inner,outer])\n",
    "inner"
   ]
  },
  {
   "cell_type": "code",
   "execution_count": null,
   "metadata": {},
   "outputs": [],
   "source": [
    "_, p = stats.mannwhitneyu(inner, outer)\n",
    "p\n",
    "# Mann Whitney U test on box plot data"
   ]
  },
  {
   "cell_type": "code",
   "execution_count": null,
   "metadata": {},
   "outputs": [],
   "source": []
  }
 ],
 "metadata": {
  "kernelspec": {
   "display_name": "Python 3",
   "language": "python",
   "name": "python3"
  },
  "language_info": {
   "codemirror_mode": {
    "name": "ipython",
    "version": 3
   },
   "file_extension": ".py",
   "mimetype": "text/x-python",
   "name": "python",
   "nbconvert_exporter": "python",
   "pygments_lexer": "ipython3",
   "version": "3.6.6"
  }
 },
 "nbformat": 4,
 "nbformat_minor": 2
}
