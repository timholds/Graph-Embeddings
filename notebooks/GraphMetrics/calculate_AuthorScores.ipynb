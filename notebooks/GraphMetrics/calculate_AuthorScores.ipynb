{
 "cells": [
  {
   "cell_type": "code",
   "execution_count": null,
   "metadata": {},
   "outputs": [],
   "source": [
    "MATCH (a:Author)-[:AUTHORED]->(:Quanta)-[m:METRICS_IN]->(:Year {year: 2019})\n",
    "WITH m\n",
    "ORDER BY m.timeScaledPageRank DESC\n",
    "with collect(m) as scores\n",
    "with scores, size(scores) as n\n",
    "match (a2:Author)-[:AUTHORED]->(:Quanta)-[m2:METRICS_IN]->(:Year {year: 2019})\n",
    "where a2.cleanName in\n",
    "\t['piyushgupta', 'philstephens', 'thomasliem',\n",
    "\t'stephenpnaber', 'philipghaydon', 'barrymberger',\n",
    "\t'bhishamchera', 'gaoravpgupta']\n",
    "with \n",
    "\ta2.cleanName as name,\n",
    "\tm2.timeScaledPageRank as tspr, \n",
    "\tsize([x in scores where m2.timeScaledPageRank < x.timeScaledPageRank | x])/size(scores) as rank\n",
    "return \n",
    "\tname, avg(rank) as avgRank, max(rank) as maxRank, percentileCont(rank, 0.5) as medianRank"
   ]
  }
 ],
 "metadata": {
  "kernelspec": {
   "display_name": "Python 3",
   "language": "python",
   "name": "python3"
  },
  "language_info": {
   "codemirror_mode": {
    "name": "ipython",
    "version": 3
   },
   "file_extension": ".py",
   "mimetype": "text/x-python",
   "name": "python",
   "nbconvert_exporter": "python",
   "pygments_lexer": "ipython3",
   "version": "3.6.7"
  }
 },
 "nbformat": 4,
 "nbformat_minor": 2
}
