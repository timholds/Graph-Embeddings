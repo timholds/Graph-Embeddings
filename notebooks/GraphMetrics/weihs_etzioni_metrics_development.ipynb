{
 "cells": [
  {
   "cell_type": "markdown",
   "metadata": {},
   "source": [
    "# Setup"
   ]
  },
  {
   "cell_type": "code",
   "execution_count": null,
   "metadata": {},
   "outputs": [],
   "source": [
    "from py2neo import Graph, Node, Relationship \n",
    "import glob, os, time\n",
    "import datetime\n",
    "import inspect\n",
    "import pandas as pd\n",
    "\n",
    "# Test DB\n",
    "#graph = Graph(\"bolt://54.88.167.164:7687\", auth=(\"neo4j\", \"myneo\")) \n",
    "# Development DB\n",
    "#graph = Graph(\"bolt://54.174.175.98:7687\", auth=(\"neo4j\", \"myneo\")) \n",
    "graph = Graph(\"bolt://matlaberp1.media.mit.edu:7687\", auth=(\"neo4j\", \"myneo\"))\n",
    "\n",
    "n_nodes = graph.database.primitive_counts['NumberOfNodeIdsInUse'] \n",
    "n_relationships = graph.database.primitive_counts['NumberOfRelationshipIdsInUse'] \n",
    "print(\"Connected to graph database with {:,} nodes and {:,} relationships!\".format (n_nodes, n_relationships))"
   ]
  },
  {
   "cell_type": "markdown",
   "metadata": {},
   "source": [
    "# Utility "
   ]
  },
  {
   "cell_type": "code",
   "execution_count": null,
   "metadata": {
    "code_folding": [
     0
    ]
   },
   "outputs": [],
   "source": [
    "def query_to_df(query, graph):\n",
    "    print(\"Starting query...\", end=\" \")\n",
    "    query_start_time = time.time()\n",
    "    df = graph.run(query).to_data_frame()\n",
    "    print(\"Done ({:.2f} minutes).\".format((time.time()-query_start_time)/60))\n",
    "    return df"
   ]
  },
  {
   "cell_type": "code",
   "execution_count": null,
   "metadata": {
    "code_folding": [
     0
    ]
   },
   "outputs": [],
   "source": [
    "def run_query(query, graph, print_query=False, run_query=True, print_only=False, to_df=False, verbose=True, return_time=False): \n",
    "    df = 1\n",
    "\n",
    "    if print_only: \n",
    "        print_query = True \n",
    "        run_query = False \n",
    "    start_time = time.time()    \n",
    "    if print_query: \n",
    "        print(query) \n",
    "    if run_query: \n",
    "        if to_df: \n",
    "            df = graph.run(query).to_data_frame() \n",
    "            end_time = time.time() \n",
    "            minutes_elapsed = (end_time-start_time)/60 \n",
    "        else: \n",
    "            if return_time:\n",
    "                graph.run(query) \n",
    "                end_time = time.time() \n",
    "                minutes_elapsed = (end_time-start_time)/60 \n",
    "                print(\"Query completed in {:.2f} minutes.\".format(minutes_elapsed)) \n",
    "                \n",
    "                return minutes_elapsed\n",
    "            else:\n",
    "                graph.run(query) \n",
    "                end_time = time.time() \n",
    "                minutes_elapsed = (end_time-start_time)/60 \n",
    "    if verbose: \n",
    "        print(\"Query completed in {:.2f} minutes.\".format(minutes_elapsed)) \n",
    "    return df"
   ]
  },
  {
   "cell_type": "code",
   "execution_count": null,
   "metadata": {
    "code_folding": [
     0
    ]
   },
   "outputs": [],
   "source": [
    "def get_num_nonnull_metrics_in_properties(prop):\n",
    "    print('Number of nonnull {} properties in Author-Year edge'.format(prop))\n",
    "    query = \"\"\"\n",
    "    MATCH (:Author)-[m:METRICS_IN]->(:Year)\n",
    "    RETURN count(m.{}) as total\n",
    "    \"\"\".format(prop)\n",
    "\n",
    "    df = run_query(query, graph, to_df=True)\n",
    "    print(df.to_string())\n",
    "    return 1\n",
    "\n",
    "#get_num_nonnull_metrics_in_properties('hIndex')"
   ]
  },
  {
   "cell_type": "code",
   "execution_count": null,
   "metadata": {
    "code_folding": [
     0
    ]
   },
   "outputs": [],
   "source": [
    "def get_num_nonzero_metrics_in_properties(prop):\n",
    "    print('Number of nonzero {} properties in Author-Year edge'.format(prop))\n",
    "    query = \"\"\"\n",
    "    MATCH (:Author)-[m:METRICS_IN]->(y:Year)\n",
    "    WHERE m.{} > 0\n",
    "    RETURN count(*)\n",
    "    \"\"\".format(prop)\n",
    "\n",
    "    df = run_query(query, graph, to_df=True)\n",
    "    print(df.to_string())\n",
    "    return 1\n",
    " \n",
    "#get_num_metrics_in_properties('total_citations')"
   ]
  },
  {
   "cell_type": "code",
   "execution_count": null,
   "metadata": {
    "code_folding": []
   },
   "outputs": [],
   "source": [
    "# All the above functions in one cell for easy ipython import\n",
    "from py2neo import Graph, Node, Relationship \n",
    "from tqdm import tqdm\n",
    "import glob, os, time\n",
    "import inspect\n",
    "\n",
    "# Development DB\n",
    "#graph = Graph(\"bolt://matlaberp1.media.mit.edu:7687\", auth=(\"neo4j\", \"myneo\"))\n",
    "graph = Graph(\"bolt://18.85.22.109:7687\", auth=(\"neo4j\", \"myneo\"))\n",
    "def query_to_df(query, graph):\n",
    "    print(\"Starting query...\", end=\" \")\n",
    "    query_start_time = time.time()\n",
    "    df = graph.run(query).to_data_frame()\n",
    "    print(\"Done ({:.2f} minutes).\".format((time.time()-query_start_time)/60))\n",
    "    return df\n",
    "\n",
    "def run_query(query, graph, print_query=False, run_query=True, print_only=False, to_df=False, verbose=True): \n",
    "    df = 1\n",
    "\n",
    "    if print_only: \n",
    "        print_query = True \n",
    "        run_query = False \n",
    "    start_time = time.time()    \n",
    "    if print_query: \n",
    "        print(query) \n",
    "    if run_query: \n",
    "        if to_df: \n",
    "            df = graph.run(query).to_data_frame() \n",
    "            end_time = time.time() \n",
    "            minutes_elapsed = (end_time-start_time)/60 \n",
    "        else: \n",
    "            graph.run(query) \n",
    "            end_time = time.time() \n",
    "            minutes_elapsed = (end_time-start_time)/60 \n",
    "    if verbose: \n",
    "        print(\"Query completed in {:.2f} minutes.\".format(minutes_elapsed)) \n",
    "    return df\n",
    "\n",
    "years = range(1810, 2020)\n"
   ]
  },
  {
   "cell_type": "code",
   "execution_count": null,
   "metadata": {},
   "outputs": [],
   "source": [
    "# TODO list all of properties to check number of non-null and non-zero properties\n",
    "author_vars = [\n",
    "    'hIndex', 'hIndexDelta', 'totalCitations', 'totalCitationsDelta', 'citationsPerPaper', 'citationsPerPaperDelta',\n",
    "    'citationsPerYear', 'totalPapers', 'totalPapersDelta', 'rankCitationsPerYear', 'pageRank', 'weightedPageRank',\n",
    "    'authorAge', 'recentCoauthors', 'maxCitations', 'totalVenues', 'venueHIndexMin', 'venueHIndexMean', \n",
    "    'venueHIndexMax', 'venueHIndexDeltaMin', 'venueHIndexDeltaMean', 'venueHIndexDeltaMax', \n",
    "    'venueCitationsPerPaperMin', 'venueCitationsPerPaperMean', 'venueCitationsPerPaperMax', \n",
    "    'venueCitationsPerPaperDeltaMin', 'venueCitationsPerPaperDeltaMean', 'venueCitationsPerPaperDeltaMax', \n",
    "    'venueTotalPapersMin', 'venueTotalPapersMean', 'venueTotalPapersMax', 'venueTotalPapersDeltaMin', \n",
    "    'venueTotalPapersDeltaMean', 'venueTotalPapersDeltaMax', 'venueRankCitationsPerPaperMin', \n",
    "    'venueRankCitationsPerPaperMean', 'venueRankCitationsPerPaperMax', 'venueMaxCitationsMin', \n",
    "    'venueMaxCitationsMean', 'venueMaxCitationsMax', 'totalVenuesMin', 'totalVenuesMean', 'totalVenuesMax']\n",
    "for prop in author_vars:\n",
    "    get_num_nonnull_metrics_in_properties(prop)\n",
    "    get_num_nonzero_metrics_in_properties(prop)"
   ]
  },
  {
   "cell_type": "markdown",
   "metadata": {},
   "source": [
    "# Run 1x on DB"
   ]
  },
  {
   "cell_type": "markdown",
   "metadata": {},
   "source": [
    "### Run These First in Order "
   ]
  },
  {
   "cell_type": "code",
   "execution_count": null,
   "metadata": {
    "code_folding": [
     0
    ]
   },
   "outputs": [],
   "source": [
    "# Needed to drop index on y.year first\n",
    "def make_year_constraint():\n",
    "    query = \"\"\"\n",
    "    CREATE CONSTRAINT ON (y:Year) ASSERT y.year IS UNIQUE\n",
    "    \"\"\"\n",
    "    \n",
    "    run_query(query, graph)\n",
    "    \n",
    "make_year_constraint()"
   ]
  },
  {
   "cell_type": "code",
   "execution_count": null,
   "metadata": {
    "code_folding": [
     0
    ]
   },
   "outputs": [],
   "source": [
    "def write_author_start_year():\n",
    "    query = \"\"\"\n",
    "    CALL apoc.periodic.iterate(\n",
    "\n",
    "    \"MATCH (a:Author)-[:AUTHORED]->(q:Quanta)\n",
    "    WITH a, collect(q.year) as years\n",
    "    WITH a, apoc.coll.min(years) as start_year\n",
    "    RETURN [a, start_year] AS info\",\n",
    "\n",
    "    \"WITH head(info) AS a, last(info) AS start_year\n",
    "    SET a.startYear = start_year\",\n",
    "    {batchSize:5000, iterateList:true, parallel:true});\n",
    "    \"\"\"\n",
    "    \n",
    "    run_query(query, graph)\n",
    "    \n",
    "write_author_start_year()"
   ]
  },
  {
   "cell_type": "code",
   "execution_count": null,
   "metadata": {},
   "outputs": [],
   "source": [
    "years = range(1810, 2020)"
   ]
  },
  {
   "cell_type": "markdown",
   "metadata": {},
   "source": [
    "### Run These Next in Any Order  (Can be Done in Parallel)"
   ]
  },
  {
   "cell_type": "code",
   "execution_count": null,
   "metadata": {
    "code_folding": []
   },
   "outputs": [],
   "source": [
    "def create_author_year_metrics_in_edge(years):\n",
    "    for year in years:\n",
    "        print('Running query for year {}'.format(str(year)))   \n",
    "        \n",
    "        query = \"\"\"\n",
    "        CALL apoc.periodic.iterate(\n",
    "        \n",
    "        \"MATCH (a:Author) \n",
    "        WHERE exists(a.startYear)\n",
    "        MATCH (y:Year {{year: a.startYear}})\n",
    "        RETURN [a, y] as info\",\n",
    "       \n",
    "        \"WITH head(info) as a, last(info) as y\n",
    "        MERGE (a)-[:METRICS_IN]->(y)\",\n",
    "        \n",
    "        {{batchSize:5000, iterateList:true, parallel:true}});\n",
    "        \"\"\".format(year)\n",
    "        \n",
    "        run_query(query, graph)\n",
    "            \n",
    "create_author_year_metrics_in_edge(years)"
   ]
  },
  {
   "cell_type": "code",
   "execution_count": null,
   "metadata": {
    "code_folding": [
     0
    ]
   },
   "outputs": [],
   "source": [
    "def create_venue_year_metrics_in_edge(years):\n",
    "    \"\"\" Create relationships between venue and year - create count(v:Venue) * years_existing relationships\n",
    "        Adds (:Venue)-[m:METRICS_IN]->(:Year) edge\"\"\"\n",
    "    \n",
    "    for year in years:\n",
    "        print('Running query for year {} for {}'.format(str(year), inspect.stack()[0][3]))\n",
    "        query = \"\"\"\n",
    "        CALL apoc.periodic.iterate(\n",
    "        \n",
    "        \"MATCH (v:Venue)<-[r:PUBLISHED_IN]-(q:Quanta)\n",
    "        WHERE q.year <= $year\n",
    "        RETURN DISTINCT v\",\n",
    "        \n",
    "        \"MATCH (y:Year {{year: $year}})\n",
    "        MERGE (v)-[:METRICS_IN]->(y)\",\n",
    "\n",
    "        {{batchSize:5000, iterateList:true, parallel:true, params: {{year: {}}} }});\n",
    "        \"\"\".format(year)\n",
    "        \n",
    "        run_query(query, graph)\n",
    "\n",
    "#create_venue_year_metrics_in_edge(years)"
   ]
  },
  {
   "cell_type": "markdown",
   "metadata": {},
   "source": [
    "# Write (Author)-[:METRICS_IN]-(Year) Metrics "
   ]
  },
  {
   "cell_type": "markdown",
   "metadata": {},
   "source": [
    "### Run These First in Any Order"
   ]
  },
  {
   "cell_type": "code",
   "execution_count": null,
   "metadata": {
    "code_folding": [
     0
    ]
   },
   "outputs": [],
   "source": [
    "def author_age(years):\n",
    "    \"\"\" Number of years since author published their first paper\n",
    "        Adds m.authorAge to (:Author)-[m:METRICS_IN]->(:Year)\"\"\"\n",
    "    \n",
    "    for year in years:\n",
    "        print('Running query for year {} for {}'.format(str(year), inspect.stack()[0][3]))\n",
    "        query = \"\"\"\n",
    "        CALL apoc.periodic.iterate(\n",
    "        \n",
    "        \"MATCH (y:Year {{year:$year}})<-[m:METRICS_IN]-(a:Author)\n",
    "        RETURN [m, a.start_year]\",\n",
    "       \n",
    "        \"WITH head(info) AS m, last(info) AS start_year\n",
    "        SET m.authorAge = $year - start_year\",\n",
    "        \n",
    "        {{batchSize:5000, iterateList:true, parallel:true, params: {{year: {}}} }});\n",
    "        \"\"\".format(year)\n",
    "\n",
    "        run_query(query, graph)\n",
    "    \n",
    "author_age(years)"
   ]
  },
  {
   "cell_type": "code",
   "execution_count": null,
   "metadata": {
    "code_folding": [
     0
    ]
   },
   "outputs": [],
   "source": [
    "def author_papers_ct(years):\n",
    "    \"\"\" Total number of papers author has published\n",
    "        Adds m.totalPapers to (:Author)-[m:METRICS_IN]->(:Year)\"\"\"\n",
    "    \n",
    "    for year in years:\n",
    "        print('Running query for year {} for {}'.format(str(year), inspect.stack()[0][3]))\n",
    "        query = \"\"\"\n",
    "        CALL apoc.periodic.iterate(\n",
    "        \n",
    "        \"MATCH (:Year {{year:$year}})<-[m:METRICS_IN]-(a:Author)\n",
    "        WITH a, m\n",
    "        MATCH (a)-[:AUTHORED]->(q:Quanta)\n",
    "        WHERE q.year <= $year\n",
    "        RETURN [m,count(*)] AS info\",\n",
    "            \n",
    "        \"WITH head(info) AS m, last(info) AS count\n",
    "        SET m.totalPapers = count\",\n",
    "        \n",
    "        {{batchSize:5000, iterateList:true, parallel:true, params: {{year: {}}} }});\n",
    "        \"\"\".format(year)\n",
    "        \n",
    "        run_query(query, graph)\n",
    "\n",
    "#author_papers_ct(years)"
   ]
  },
  {
   "cell_type": "code",
   "execution_count": null,
   "metadata": {
    "code_folding": [
     0
    ]
   },
   "outputs": [],
   "source": [
    "def author_citation_count(years):\n",
    "    \"\"\" Total number of citations author has received\n",
    "        Adds m.totalCitations to (:Author)-[m:METRICS_IN]->(:Year)\"\"\"\n",
    "    \n",
    "    for year in years:\n",
    "        print('Running query for year {} for {}'.format(str(year), inspect.stack()[0][3]))\n",
    "        query = \"\"\"\n",
    "        CALL apoc.periodic.iterate(\n",
    "        \n",
    "        \"MATCH (y:Year {{year:$year}})<-[m:METRICS_IN]-(a:Author)\n",
    "        WITH a, m\n",
    "        OPTIONAL MATCH (a)-[:AUTHORED]->(q:Quanta)<-[:CITES]-(p:Quanta)\n",
    "        WHERE q.year <= $year AND p.year <= $year\n",
    "        RETURN [m, count(p)] as info\",\n",
    "        \n",
    "        \"WITH head(info) as m, last(info) as citations\n",
    "        SET m.totalCitations = citations\",\n",
    "        \n",
    "        {{batchSize:5000, iterateList:true, parallel:true, params: {{year: {}}} }});\n",
    "        \"\"\".format(year)\n",
    "        \n",
    "        run_query(query, graph)\n",
    "\n",
    "#author_citation_count(years)"
   ]
  },
  {
   "cell_type": "code",
   "execution_count": null,
   "metadata": {
    "code_folding": [
     0
    ]
   },
   "outputs": [],
   "source": [
    "def author_h_index(years):\n",
    "    \"\"\" Adds m.hIndex to (:Author)-[m:METRICS_IN]->(:Year)\"\"\"\n",
    "    \n",
    "    for year in years:\n",
    "        print('Running query for year {} for {}'.format(str(year), inspect.stack()[0][3]))\n",
    "        query = \"\"\"\n",
    "        CALL apoc.periodic.iterate(\n",
    "\n",
    "        \"MATCH (a:Author)-[m:METRICS_IN]->(y:Year {{year: $year}})\n",
    "        WITH a, m\n",
    "        MATCH (a)-[:AUTHORED]->(q:Quanta)\n",
    "        WHERE q.year <= $year\n",
    "        WITH m, q\n",
    "        OPTIONAL MATCH (q)<-[:CITES]-(p:Quanta)\n",
    "        WHERE p.year <= $year\n",
    "        WITH m, q, size(collect(p)) as citations\n",
    "        WITH m, collect(citations) as cites\n",
    "        WITH m, apoc.coll.sort(cites) as cl\n",
    "        WITH m, apoc.coll.max([i IN range(size(cl),1,-1) WHERE cl[-i] >= i| i]) as hIndex_with_nulls\n",
    "        WITH m, coalesce(hIndex_with_nulls, 0) as hIndex\n",
    "        RETURN [m, hIndex] as info\",\n",
    "        \n",
    "        \"WITH head(info) as m, last(info) as hIndex\n",
    "        SET m.hIndex = hIndex\",\n",
    "        {{batchSize:5000, iterateList:true, parallel:true, params: {{year: {}}} }});\n",
    "\n",
    "        \"\"\".format(year)\n",
    "\n",
    "        run_query(query, graph)\n",
    "        \n",
    "#author_h_index(years)   "
   ]
  },
  {
   "cell_type": "code",
   "execution_count": null,
   "metadata": {
    "code_folding": [
     0
    ]
   },
   "outputs": [],
   "source": [
    "def author_max_single_paper_citations(years):    \n",
    "    \"\"\" Maximum number of citations a paper has received out of all the papers the author has published\n",
    "        Adds m.maxCitations to (:Author)-[m:METRICS_IN]->(:Year)\"\"\"\n",
    "    \n",
    "    for year in years:\n",
    "        print('Running query for year {} for {}'.format(str(year), inspect.stack()[0][3]))\n",
    "        query = \"\"\"\n",
    "        CALL apoc.periodic.iterate(\n",
    "        \n",
    "        \"MATCH (y:Year {{year:$year}})<-[m:METRICS_IN]-(a:Author)\n",
    "        MATCH (a)-[:AUTHORED]->(q:Quanta)\n",
    "        WHERE q.year <= $year \n",
    "        WITH q, m\n",
    "        OPTIONAL MATCH (q)<-[:CITES]-(p:Quanta)\n",
    "        WHERE p.year <= $year\n",
    "        WITH m, q, count(p) as citations\n",
    "        WITH m, collect(citations) as all_citations\n",
    "        WITH m, apoc.coll.max(all_citations) as max_citations\n",
    "        RETURN [m, max_citations] AS info\",\n",
    "\n",
    "        \"WITH head(info) AS m, last(info) AS max_citations\n",
    "        SET m.maxCitations = max_citations\",\n",
    "        \n",
    "        {{batchSize:5000, iterateList:true, parallel:true, params: {{year: {}}} }});\n",
    "        \"\"\".format(year)\n",
    "\n",
    "        run_query(query, graph)\n",
    "\n",
    "#author_max_single_paper_citations(years)"
   ]
  },
  {
   "cell_type": "code",
   "execution_count": null,
   "metadata": {
    "code_folding": [
     0
    ]
   },
   "outputs": [],
   "source": [
    "def author_num_venues_published(years):\n",
    "    \"\"\" Total number of venues an author has published in\n",
    "        Adds m.totalVenues to (:Author)-[m:METRICS_IN]->(:Year)\"\"\"\n",
    "    \n",
    "    for year in years:\n",
    "        print('Running query for year {} for {}'.format(str(year), inspect.stack()[0][3]))\n",
    "        query = \"\"\"\n",
    "        CALL apoc.periodic.iterate(\n",
    "        \n",
    "        \"MATCH (y:Year {{year:$year}})<-[m:METRICS_IN]-(a:Author)-[:AUTHORED]->(q:Quanta)\n",
    "        WHERE q.year <= $year\n",
    "        OPTIONAL MATCH (q)-[:PUBLISHED_IN]->(v:Venue)\n",
    "        RETURN [m, count(distinct v)] AS info\",\n",
    "        \n",
    "        \"WITH head(info) AS m, last(info) AS num_venues\n",
    "        SET m.totalVenues = num_venues\",\n",
    "        {{batchSize:5000, iterateList:true, parallel:true, params: {{year: {}}} }});\n",
    "        \"\"\".format(year)\n",
    "\n",
    "        run_query(query, graph)\n",
    "    \n",
    "#author_num_venues_published(years)"
   ]
  },
  {
   "cell_type": "code",
   "execution_count": null,
   "metadata": {
    "code_folding": [
     0
    ]
   },
   "outputs": [],
   "source": [
    "def author_recent_num_coauthors(years):\n",
    "    \"\"\" Number of coauthors an author has had in current and past year\n",
    "        Adds m.recentCoauthors to (:Author)-[m:METRICS_IN]->(:Year)\"\"\"\n",
    "    \n",
    "    for year in years:\n",
    "        print('Running query for year {} for {}'.format(str(year), inspect.stack()[0][3]))\n",
    "        query = \"\"\"\n",
    "        CALL apoc.periodic.iterate(\n",
    "        \n",
    "        \"MATCH (y:Year {{year:$year}})<-[m:METRICS_IN]-(a:Author) \n",
    "        WITH a, m\n",
    "        OPTIONAL MATCH (a)-[:AUTHORED]->(q:Quanta)<-[:AUTHORED]-(b:Author) //get all quanta with coauthors        \n",
    "        WHERE (a<>b) AND (q.year = $year OR a<>b and q.year = $year - 1)\n",
    "        WITH m, collect(b) as coauthors \n",
    "        WITH m, length(coauthors) as num_coauthors\n",
    "        RETURN [m, coalesce(num_coauthors, 0)] AS info\",\n",
    "      \n",
    "        \n",
    "        \"WITH head(info) as m, last(info) as num_coauthors\n",
    "        SET m.recentCoauthors = num_coauthors\",\n",
    "        {{batchSize:5000, iterateList:true, parallel:true, params: {{year: {}}} }});\n",
    "        \"\"\".format(year)\n",
    "\n",
    "        run_query(query, graph)\n",
    "        \n",
    "#author_recent_num_coauthors(years)"
   ]
  },
  {
   "cell_type": "code",
   "execution_count": null,
   "metadata": {
    "code_folding": []
   },
   "outputs": [],
   "source": [
    "def author_unweighted_pagerank(years):\n",
    "    \"\"\" Write PageRank scores to author nodes as temporary and then write to metrics edge in 2nd query \n",
    "        Adds m.pageRank to (:Author)-[m:METRICS_IN]->(:Year)\"\"\"\n",
    "    \n",
    "    for year in years:\n",
    "        print('Running query for year {} for {}'.format(str(year), inspect.stack()[0][3]))\n",
    "        query1 = \"\"\"\n",
    "        CALL algo.pageRank(\n",
    "        \"MATCH (a:Author)-[m:METRICS_IN]->(y:Year {{year: {}}})\n",
    "        RETURN id(a) as id\",\n",
    "        \n",
    "        \"MATCH (a1:Author)-[:AUTHORED]->(q:Quanta)<-[:AUTHORED]-(a2:Author) \n",
    "        WHERE q.year <= {} and a1 <> a2\n",
    "        RETURN id(a1) as source, id(a2) as target\",\n",
    "        {{graph:'cypher', iterations:20, write:true, writeProperty:\"temporary\", concurrency:16}});\n",
    "        \"\"\".format(year, year, year)\n",
    "\n",
    "        run_query(query1, graph)\n",
    "        \n",
    "        \n",
    "        print('Writing pagerank values to edges for year {} for {}'.format(str(year), inspect.stack()[0][3]))\n",
    "        # Write scores to METRICS_IN relationship\n",
    "        query2 = \"\"\"\n",
    "        CALL apoc.periodic.iterate(\n",
    "        \n",
    "        \"MATCH (a:Author)-[m:METRICS_IN]->(y:Year {{year: $year}})\n",
    "        RETURN [a.temporary, m] as info\",\n",
    "        \n",
    "        \"WITH head(info) as pagerank, last(info) as m\n",
    "        SET m.pageRank = pagerank\",\n",
    "        \n",
    "        {{batchSize:10000, parallel:true, params: {{year: {}}} }});\n",
    "        \"\"\".format(year)\n",
    "        \n",
    "        run_query(query2, graph)\n",
    "\n",
    "#author_unweighted_pagerank(years)"
   ]
  },
  {
   "cell_type": "code",
   "execution_count": null,
   "metadata": {
    "code_folding": []
   },
   "outputs": [],
   "source": [
    "# TODO test - was previously giving same value for everything\n",
    "def author_weighted_pagerank(years):\n",
    "    \"\"\" Write Weighted PageRank scores to author nodes as temporary and then write to metrics edge in 2nd query \n",
    "        Adds m.weightedPageRank to (:Author)-[m:METRICS_IN]->(:Year)\"\"\"\n",
    "    \n",
    "    for year in years:\n",
    "        print('Running query for year {} for {}'.format(str(year), inspect.stack()[0][3]))\n",
    "        query1 = \"\"\"\n",
    "        CALL algo.pageRank(\n",
    "        \"MATCH (a:Author)\n",
    "        WHERE exists((a)-[m:METRICS_IN]->(y:Year {{year: {}}})) \n",
    "        RETURN id(a) as id\",\n",
    "        \n",
    "        \"MATCH (a1:Author)-[:AUTHORED]->(q:Quanta)<-[:AUTHORED]-(a2:Author)\n",
    "        WHERE q.year <= {} and a1.cleanName <> a2.cleanName\n",
    "        RETURN id(a1) as source, id(a2) as target, count(q) as weight\",\n",
    "        {{graph:'cypher', iterations:20, write:true, writeProperty:\"temporary\", weightProperty: \"weight\", concurrency:16}});\n",
    "        \"\"\".format(year, year)\n",
    "\n",
    "        run_query(query1, graph)\n",
    "        \n",
    "        \n",
    "        print('Writing pagerank values to edges for year {} for {}'.format(str(year), inspect.stack()[0][3]))\n",
    "        # Write scores to METRICS_IN relationship\n",
    "        query2 = \"\"\"\n",
    "        CALL apoc.periodic.iterate(\n",
    "        \n",
    "        \"MATCH (a:Author)-[m:METRICS_IN]->(y:Year {{year: $year}})\n",
    "        RETURN [a.temporary, m] as info\",\n",
    "        \n",
    "        \"WITH head(info) as pagerank, last(info) as m\n",
    "        SET m.weightedPageRank = pagerank\",\n",
    "        \n",
    "        {{batchSize:10000, parallel:true, params: {{year: {}}} }});\n",
    "        \"\"\".format(year)\n",
    "        \n",
    "        run_query(query2, graph)\n",
    "\n",
    "author_weighted_pagerank(years)"
   ]
  },
  {
   "cell_type": "markdown",
   "metadata": {},
   "source": [
    "### Run Next in Any Order"
   ]
  },
  {
   "cell_type": "code",
   "execution_count": null,
   "metadata": {
    "code_folding": [
     1
    ]
   },
   "outputs": [],
   "source": [
    "# Relies on totalCitations and totalPapers\n",
    "def author_mean_citations_per_paper(years):\n",
    "    \"\"\" Average number of citations per paper for papers the author has published \n",
    "        Adds m.citationsPerPaper to (:Author)-[m:METRICS_IN]->(:Year)\"\"\"\n",
    "    \n",
    "    for year in years:   \n",
    "        print('Running query for year {} for {}'.format(str(year), inspect.stack()[0][3]))\n",
    "        query = \"\"\"\n",
    "        CALL apoc.periodic.iterate(\n",
    "        \n",
    "        \"MATCH (y:Year {{year:$year}})<-[m:METRICS_IN]-(:Author)\n",
    "        WITH m, (toFloat(m.totalCitations) / toFloat(m.totalPapers)) as value\n",
    "        WITH m, round(1000 * value)/1000 AS cites_per_paper\n",
    "        RETURN [m, cites_per_paper] as info\",\n",
    "        \n",
    "        \"WITH head(info) as m, last(info) as cites_per_paper\n",
    "        SET m.citationsPerPaper = cites_per_paper\",\n",
    "        \n",
    "        {{batchSize:5000, iterateList:true, parallel:true, params: {{year: {}}} }});\n",
    "        \"\"\".format(year)\n",
    "        \n",
    "        run_query(query, graph)\n",
    "\n",
    "#author_mean_citations_per_paper(years)"
   ]
  },
  {
   "cell_type": "code",
   "execution_count": null,
   "metadata": {
    "code_folding": [
     1
    ]
   },
   "outputs": [],
   "source": [
    "# Relies on authorAge and totalCitations\n",
    "def author_mean_citations_per_year(years):\n",
    "    \"\"\" Average number of citations per year for papers the author has published\n",
    "        Adds m.citationsPerYear to (:Author)-[m:METRICS_IN]->(:Year)\"\"\"\n",
    "    \n",
    "    for year in years:\n",
    "        print('Running query for year {} for {}'.format(str(year), inspect.stack()[0][3]))\n",
    "        query = \"\"\"\n",
    "        CALL apoc.periodic.iterate(\n",
    "        \n",
    "        \"MATCH (y:Year {{year:$year}})<-[m:METRICS_IN]-(a:Author)\n",
    "        WITH m, m.authorAge as years, m.totalCitations as cites\n",
    "        WITH m, (toFloat(cites) / toFloat(years + 1)) as value\n",
    "        WITH m, (round(1000 * value)/1000) AS cites_per_year\n",
    "        RETURN [m, cites_per_year] as info\",\n",
    "        \n",
    "        \"WITH head(info) as m, last(info) as cites_per_year\n",
    "        SET m.citationsPerYear = cites_per_year\",\n",
    "        {{batchSize:5000, iterateList:true, parallel:true, params: {{year: {}}} }});\n",
    "        \"\"\".format(year)\n",
    "\n",
    "        run_query(query, graph)\n",
    "        \n",
    "author_mean_citations_per_year(years)"
   ]
  },
  {
   "cell_type": "code",
   "execution_count": null,
   "metadata": {
    "code_folding": [
     1
    ]
   },
   "outputs": [],
   "source": [
    "# Relies on citationsPerYear\n",
    "def author_mean_citation_rank(years):\n",
    "    \"\"\" Rank of author [0, 1] among all other authors in terms of mean citations per year\n",
    "        Adds m.rankCitationsPerYear\"\"\"\n",
    "    \n",
    "    for year in years:\n",
    "        print('Running query for year {} for {}'.format(str(year), inspect.stack()[0][3]))\n",
    "        query = \"\"\"\n",
    "        CALL apoc.periodic.iterate(\n",
    "        \n",
    "        \"MATCH (:Author)-[r:METRICS_IN]->(y:Year {{year: $year}})\n",
    "        WITH y, COLLECT(r.citationsPerYear) as cites\n",
    "        WITH y, toFloat(apoc.coll.max(cites)) as maximum\n",
    "        MATCH (a:Author)-[m:METRICS_IN]->(y)\n",
    "        RETURN [m, CASE WHEN maximum = 0.0 THEN .001 ELSE maximum END] as info\", //to prevent zero division\n",
    "        \n",
    "        \"WITH head(info) as m, last(info) as max\n",
    "        WITH m, (m.citationsPerYear / max) as value\n",
    "        WITH m, round(1000 * value)/1000 AS rank\n",
    "        SET m.rankCitationsPerYear = rank\",\n",
    "        \n",
    "        {{batchSize:5000, iterateList:true, parallel:true, params: {{year: {}}} }});\n",
    "        \"\"\".format(year)\n",
    "        \n",
    "        run_query(query, graph)\n",
    "        \n",
    "author_mean_citation_rank(years)"
   ]
  },
  {
   "cell_type": "markdown",
   "metadata": {},
   "source": [
    "### Run Last in Any Order"
   ]
  },
  {
   "cell_type": "code",
   "execution_count": null,
   "metadata": {
    "code_folding": [
     0
    ]
   },
   "outputs": [],
   "source": [
    "def add_author_deltas_to_author_year_edge(metric, years):\n",
    "    \"\"\" Change in {metric} in the past two years\n",
    "        Adds m.{metric}_delta to (:Author)-[m:METRICS_IN]->(:Year)\"\"\"\n",
    "    \n",
    "    for year in years:\n",
    "        print('Running query for year {} for {}'.format(str(year), inspect.stack()[0][3]))\n",
    "        query = \"\"\"\n",
    "        CALL apoc.periodic.iterate(\n",
    "        \n",
    "        \"MATCH (:Year {{year: $year}})<-[m:METRICS_IN]-(a:Author)\n",
    "        WITH a, m\n",
    "        MATCH (a)-[pm:METRICS_IN]->(:Year {{year: ($year - 1)}}) \n",
    "        RETURN [m, m.{}-pm.{}] as info\",\n",
    "        \n",
    "        \"WITH head(info) as m, last(info) as delta\n",
    "        SET m.{}Delta = delta\",\n",
    "        \n",
    "        {{batchSize:5000, iterateList:true, parallel:true, params: {{year: {}}} }});\n",
    "        \"\"\".format(metric, metric, metric, year)\n",
    "        \n",
    "        run_query(query, graph)        "
   ]
  },
  {
   "cell_type": "code",
   "execution_count": null,
   "metadata": {},
   "outputs": [],
   "source": [
    "add_author_deltas_to_author_year_edge('totalPapers', years)"
   ]
  },
  {
   "cell_type": "code",
   "execution_count": null,
   "metadata": {},
   "outputs": [],
   "source": [
    "add_author_deltas_to_author_year_edge('totalCitations', years)"
   ]
  },
  {
   "cell_type": "code",
   "execution_count": null,
   "metadata": {},
   "outputs": [],
   "source": [
    "add_author_deltas_to_author_year_edge('citationsPerPaper', years)"
   ]
  },
  {
   "cell_type": "code",
   "execution_count": null,
   "metadata": {},
   "outputs": [],
   "source": [
    "add_author_deltas_to_author_year_edge('hIndex', years)"
   ]
  },
  {
   "cell_type": "markdown",
   "metadata": {},
   "source": [
    "# Write (Venue)-[:METRICS_IN]-(Year) Metrics "
   ]
  },
  {
   "cell_type": "markdown",
   "metadata": {},
   "source": [
    "### Run First in Any Order"
   ]
  },
  {
   "cell_type": "code",
   "execution_count": null,
   "metadata": {
    "code_folding": [
     0
    ]
   },
   "outputs": [],
   "source": [
    "def add_venue_h_index_to_venue_year_edge(years):\n",
    "    \"\"\" h-Index for each venue\n",
    "        Adds m.hIndex to (:Venue)-[m:METRICS_IN]->(:Year)\"\"\"\n",
    "\n",
    "    for year in years:\n",
    "        print('Running query for year {} for {}'.format(str(year), inspect.stack()[0][3]))\n",
    "        query= \"\"\"\n",
    "        CALL apoc.periodic.iterate(\n",
    "        \n",
    "        \"MATCH (v:Venue)-[m:METRICS_IN]->(:Year {{year: $year}})\n",
    "        WITH v, m\n",
    "        MATCH (v)<-[:PUBLISHED_IN]-(q:Quanta) \n",
    "        WHERE q.year <= $year\n",
    "        WITH m, q\n",
    "        OPTIONAL MATCH (q)<-[:CITES]-(p:Quanta) //no optional match was not adding 0 property to some nodes with papers but no cites\n",
    "        WHERE p.year <= $year\n",
    "        WITH m, q, size(collect(p)) as citations\n",
    "        WITH m, collect(citations) as cites\n",
    "        WITH m, apoc.coll.sort(cites) as cl\n",
    "        WITH m, apoc.coll.max([i IN range(size(cl),1,-1) WHERE cl[-i] >= i| i]) as hIndex_with_nulls\n",
    "        WITH m, coalesce(hIndex_with_nulls, 0) as hIndex\n",
    "        RETURN [m, hIndex] as info\",\n",
    "        \n",
    "        \"WITH head(info) as m, last(info) as hIndex\n",
    "        SET m.hIndex = hIndex\",\n",
    "        {{batchSize:5000, iterateList:true, parallel:true, params: {{year: {}}} }});\n",
    "        \"\"\".format(year)\n",
    "\n",
    "        run_query(query, graph)    \n",
    "        \n",
    "add_venue_h_index_to_venue_year_edge(years)"
   ]
  },
  {
   "cell_type": "code",
   "execution_count": null,
   "metadata": {
    "code_folding": [
     0
    ]
   },
   "outputs": [],
   "source": [
    "def add_venue_paper_ct_to_venue_year_edge(years):\n",
    "    \"\"\" Number of papers in venues in which the author has published\n",
    "        Adds m.totalPapers to (:Venue)-[m:METRICS_IN]->(:Year)\"\"\"\n",
    "    \n",
    "    for year in years:\n",
    "        print('Running query for year {} for {}'.format(str(year), inspect.stack()[0][3]))\n",
    "        query = \"\"\"\n",
    "        CALL apoc.periodic.iterate(\n",
    "        \n",
    "        \"MATCH (y:Year {{year: $year}})<-[m:METRICS_IN]-(v:Venue)\n",
    "        WITH m, v\n",
    "        MATCH (v)<-[:PUBLISHED_IN]-(q:Quanta)\n",
    "        WHERE q.year <= $year\n",
    "        WITH m, count(q) as paper_ct \n",
    "        RETURN [m, paper_ct] as info\",\n",
    "        \n",
    "        \"WITH head(info) as m, last(info) as paper_ct\n",
    "        SET m.totalPapers = paper_ct\", \n",
    "\n",
    "        {{batchSize:5000, iterateList:true, parallel:true, params: {{year: {}}} }});\n",
    "        \"\"\".format(year)\n",
    "        \n",
    "        run_query(query, graph)\n",
    "\n",
    "add_venue_paper_ct_to_venue_year_edge(years)"
   ]
  },
  {
   "cell_type": "code",
   "execution_count": null,
   "metadata": {
    "code_folding": [
     0
    ]
   },
   "outputs": [],
   "source": [
    "def add_venue_max_citations_to_venue_year_edge(years):\n",
    "    \"\"\" The maximum number of citations for a paper in this journal\n",
    "        Adds m.maxCitations to (:Venue)-[m:METRICS_IN]->(:Year)\"\"\"\n",
    "    \n",
    "    for year in years:\n",
    "        print('Running query for year {} for {}'.format(str(year), inspect.stack()[0][3]))\n",
    "        query = \"\"\"\n",
    "        CALL apoc.periodic.iterate(\n",
    "        \n",
    "        \"MATCH (y:Year {{year:$year}})<-[m:METRICS_IN]-(v:Venue)\n",
    "        WITH m, v\n",
    "        MATCH (v)<-[:PUBLISHED_IN]-(q:Quanta)\n",
    "        WHERE q.year <= $year \n",
    "        WITH m, q\n",
    "        OPTIONAL MATCH (q)<-[:CITES]-(p:Quanta)\n",
    "        WHERE p.year <= $year\n",
    "        WITH m, q, count(p) as citations\n",
    "        WITH m, collect(citations) as all_citations\n",
    "        WITH m, apoc.coll.max(all_citations) as max_citations\n",
    "        RETURN [m, max_citations] AS info\",\n",
    "\n",
    "        \"WITH head(info) AS m, last(info) AS max_citations\n",
    "        SET m.maxCitations = max_citations\",\n",
    "        \n",
    "        {{batchSize:5000, iterateList:true, parallel:true, params: {{year: {}}} }});\n",
    "        \"\"\".format(year)\n",
    "        \n",
    "        run_query(query, graph)\n",
    "\n",
    "add_venue_max_citations_to_venue_year_edge(years)"
   ]
  },
  {
   "cell_type": "markdown",
   "metadata": {},
   "source": [
    "### Run Next in Order"
   ]
  },
  {
   "cell_type": "code",
   "execution_count": null,
   "metadata": {
    "code_folding": [
     2
    ]
   },
   "outputs": [],
   "source": [
    "# refactor to use m.totalPapers property that exists\n",
    "# todo test\n",
    "def add_venue_citations_per_paper_to_venue_year_edge(years):\n",
    "    \"\"\" Mean of all citations_per_paper values for all papers published in that venue up to that year\n",
    "        Adds m.citationsPerPaper to (:Venue)-[m:METRICS_IN]->(:Year)\"\"\"\n",
    "    \n",
    "    for year in years:\n",
    "        print('Running query for year {} for {}'.format(str(year), inspect.stack()[0][3]))\n",
    "        query = \"\"\"\n",
    "        CALL apoc.periodic.iterate(\n",
    "        \n",
    "        \"MATCH (v)-[m:METRICS_IN]->(:Year {{year: $year}})\n",
    "        WITH v, m\n",
    "        OPTIONAL MATCH (v)<-[:PUBLISHED_IN]-(q:Quanta)<-[:CITES]-(p:Quanta)\n",
    "        WHERE p.year <= $year\n",
    "        WITH m, coalesce(count(p), 0) as cites \n",
    "        WITH m, (toFloat(cites) / toFloat(m.totalPapers)) as avg_cites_paper\n",
    "        WITH m, (round(1000 * avg_cites_paper)/1000) AS cites_per_paper\n",
    "        RETURN [m, cites_per_paper] as info\",\n",
    "        \n",
    "        \"WITH head(info) as m, last(info) as cites_per_paper\n",
    "        SET m.citationsPerPaper = cites_per_paper\", \n",
    "\n",
    "        {{batchSize:5000, iterateList:true, parallel:true, params: {{year: {}}} }});\n",
    "        \"\"\".format(year)\n",
    "        \n",
    "        run_query(query, graph)\n",
    "\n",
    "add_venue_citations_per_paper_to_venue_year_edge(years)"
   ]
  },
  {
   "cell_type": "code",
   "execution_count": null,
   "metadata": {
    "code_folding": [
     0
    ]
   },
   "outputs": [],
   "source": [
    "def add_venue_rank_to_venue_year_edge(years):\n",
    "    \"\"\" Rank of venue [0, 1] based on mean citations per paper \n",
    "        Adds m.rankCitationsPerPaper to (:Venue)-[m:METRICS_IN]->(:Year)\"\"\"\n",
    "    \n",
    "    for year in years:\n",
    "        print('Running query for year {} for {}'.format(str(year), inspect.stack()[0][3]))\n",
    "        query = \"\"\"\n",
    "        CALL apoc.periodic.iterate(\n",
    "        \n",
    "        \"MATCH (y:Year {{year: $year}})<-[r:METRICS_IN]-(:Venue)\n",
    "        WITH y, COLLECT(r.citationsPerPaper) as cites_per_paper    //citations per paper should be float\n",
    "        WITH y, apoc.coll.max(cites_per_paper) as maximum  \n",
    "        MATCH (v:Venue)-[m:METRICS_IN]->(y)\n",
    "        RETURN [m, CASE WHEN maximum = 0.0 THEN .001 ELSE maximum END] as info\", //to prevent zero division\n",
    "        \n",
    "        \"WITH head(info) as m, last(info) as max\n",
    "        WITH m, (m.citationsPerPaper / max) as value \n",
    "        WITH m, (round(1000 * value)/1000) AS rank\n",
    "        SET m.rankCitationsPerPaper = rank\",\n",
    "\n",
    "        {{batchSize:5000, iterateList:true, parallel:true, params: {{year: {}}} }});\n",
    "        \"\"\".format(year)\n",
    "        \n",
    "        run_query(query, graph)\n",
    "\n",
    "add_venue_rank_to_venue_year_edge(years)"
   ]
  },
  {
   "cell_type": "markdown",
   "metadata": {},
   "source": [
    "### Run Next in Any Order"
   ]
  },
  {
   "cell_type": "code",
   "execution_count": null,
   "metadata": {
    "code_folding": [
     1
    ]
   },
   "outputs": [],
   "source": [
    "# Run after rerunning add_venue_stats_to_venue_year_edge for 'total_papers','mean_citations_per_paper', and 'hIndex'\n",
    "def add_venue_delta_stats_to_venue_year_edge(metric, years):\n",
    "    \"\"\" Change in {metric} over past two years for venue\n",
    "        Adds m.{metric}_delta to (:Venue)-[m:METRICS_IN]->(:Year)\"\"\"\n",
    "    \n",
    "    for year in years:\n",
    "        print('Running query for year {} for {} on {}'.format(str(year), inspect.stack()[0][3], metric))\n",
    "        query = \"\"\"\n",
    "        CALL apoc.periodic.iterate(\n",
    "        \n",
    "        \"MATCH (:Year {{year:$year}})<-[m:METRICS_IN]-(v:Venue)\n",
    "        WITH v, m\n",
    "        MATCH (v)-[pm:METRICS_IN]->(:Year {{year: ($year - 1)}})\n",
    "        WITH m, (m.{} - pm.{}) as delta\n",
    "        RETURN [m, delta] as info\",\n",
    "        \n",
    "        \"WITH head(info) as m, last(info) as delta\n",
    "        SET m.{}Delta = coalesce(delta, 0)\",\n",
    "        \n",
    "        {{batchSize:5000, iterateList:true, parallel:true, params: {{year: {}}} }});\n",
    "        \"\"\".format(metric, metric, metric, year)\n",
    "        \n",
    "        run_query(query, graph)"
   ]
  },
  {
   "cell_type": "code",
   "execution_count": null,
   "metadata": {},
   "outputs": [],
   "source": [
    "add_venue_delta_stats_to_venue_year_edge('totalPapers', years)"
   ]
  },
  {
   "cell_type": "code",
   "execution_count": null,
   "metadata": {},
   "outputs": [],
   "source": [
    "add_venue_delta_stats_to_venue_year_edge('citationsPerPaper', years)"
   ]
  },
  {
   "cell_type": "code",
   "execution_count": null,
   "metadata": {},
   "outputs": [],
   "source": [
    "add_venue_delta_stats_to_venue_year_edge('hIndex', years)"
   ]
  },
  {
   "cell_type": "markdown",
   "metadata": {},
   "source": [
    "### Run Last"
   ]
  },
  {
   "cell_type": "code",
   "execution_count": null,
   "metadata": {
    "code_folding": [
     1
    ]
   },
   "outputs": [],
   "source": [
    "def add_zero_to_venue_year_edge_for_deltas_in_venue_first_year(years):\n",
    "    for year in years:\n",
    "        print('Running query for year {} for {}'.format(str(year), inspect.stack()[0][3]))\n",
    "        query = \"\"\"\n",
    "        CALL apoc.periodic.iterate(\n",
    "        \n",
    "        \"MATCH (v:Venue)-[m:METRICS_IN]->(y:Year {{year: $year}})\n",
    "        WHERE not exists(m.totalPapersDelta)\n",
    "        MATCH (a)-[m:METRICS_IN]->(y:Year {{year: $year}})\n",
    "        RETURN m\",\n",
    "        \n",
    "        \"SET m.totalPapersDelta = 0.0,\n",
    "            m.hIndexDelta = 0.0,\n",
    "            m.citationsPerPaperDelta = 0.0\",\n",
    "    \n",
    "        {{batchSize:5000, iterateList:true, parallel:true, params: {{year: {}}} }});\n",
    "        \"\"\".format(year)\n",
    "        \n",
    "        run_query(query, graph)"
   ]
  },
  {
   "cell_type": "code",
   "execution_count": null,
   "metadata": {},
   "outputs": [],
   "source": [
    "add_zero_to_venue_year_edge_for_deltas_in_venue_first_year('citationsPerPaperDelta', years)    "
   ]
  },
  {
   "cell_type": "markdown",
   "metadata": {},
   "source": [
    "# Write (Author)-[:METRICS_IN]-(Year) Metrics  for Venue Features"
   ]
  },
  {
   "cell_type": "markdown",
   "metadata": {},
   "source": [
    "### Run in Any Order"
   ]
  },
  {
   "cell_type": "code",
   "execution_count": null,
   "metadata": {
    "code_folding": [
     1
    ]
   },
   "outputs": [],
   "source": [
    "# TODO confirm apoc.text.decapitalize({}) as prop works as expected\n",
    "def add_venue_stats_to_author_year_edge(metric, years):\n",
    "    \"\"\" Use values stored in venue [:METRICS_IN] year edge to \n",
    "        Adds m.venue_{metric}_{min, mean, max} to (:Author)-[m:METRICS_IN]->(:Year)\"\"\"\n",
    "    \n",
    "    for year in years:\n",
    "        print('Running query for year {} for {}_{}'.format(str(year), inspect.stack()[0][3], metric))\n",
    "        query = \"\"\"\n",
    "        CALL apoc.periodic.iterate(\n",
    "        \n",
    "        \"MATCH (y:Year {{year:$year}})<-[m:METRICS_IN]-(a:Author)\n",
    "        WITH a, m, y\n",
    "        MATCH (a)-[:AUTHORED]->(q:Quanta)\n",
    "        WHERE q.year <= $year \n",
    "        WITH m, y, q\n",
    "        MATCH (q)-[:PUBLISHED_IN]->(v:Venue)\n",
    "        WITH DISTINCT v, m, y, apoc.text.decapitalize({}) as prop\n",
    "        MATCH (v)-[r:METRICS_IN]->(y)\n",
    "        WITH m, collect(r.prop) as stats\n",
    "        WITH m, stats, apoc.coll.min(stats) as min\n",
    "        WITH m, min, stats, apoc.coll.avg(stats) as mean\n",
    "        WITH m, min, mean, apoc.coll.max(stats) as max\n",
    "        RETURN [m, min, mean, max] as info\",\n",
    "        \n",
    "        \"WITH info[0] as m, info[1] as min, info[2] as mean, info[3] as max\n",
    "        SET m.venue{}Min = min,\n",
    "            m.venue{}Mean = mean,\n",
    "            m.venue{}Max = max\",\n",
    "        \n",
    "        {{batchSize:5000, iterateList:true, parallel:false, params: {{year: {}}} }});\n",
    "        \"\"\".format(metric, metric, metric, metric, year)\n",
    "        \n",
    "        run_query(query, graph)"
   ]
  },
  {
   "cell_type": "code",
   "execution_count": null,
   "metadata": {},
   "outputs": [],
   "source": [
    "add_venue_stats_to_author_year_edge('HIndex', years) "
   ]
  },
  {
   "cell_type": "code",
   "execution_count": null,
   "metadata": {
    "code_folding": []
   },
   "outputs": [],
   "source": [
    "add_venue_stats_to_author_year_edge('TotalPapers', years)"
   ]
  },
  {
   "cell_type": "code",
   "execution_count": null,
   "metadata": {},
   "outputs": [],
   "source": [
    "add_venue_stats_to_author_year_edge('CitationsPerPaper', years)"
   ]
  },
  {
   "cell_type": "code",
   "execution_count": null,
   "metadata": {},
   "outputs": [],
   "source": [
    "add_venue_stats_to_author_year_edge('MaxCitations', years)"
   ]
  },
  {
   "cell_type": "code",
   "execution_count": null,
   "metadata": {},
   "outputs": [],
   "source": [
    "add_venue_stats_to_author_year_edge('RankCitationsPerPaper', years)"
   ]
  },
  {
   "cell_type": "code",
   "execution_count": null,
   "metadata": {},
   "outputs": [],
   "source": [
    "add_venue_stats_to_author_year_edge('TotalPapersDelta', years)"
   ]
  },
  {
   "cell_type": "code",
   "execution_count": null,
   "metadata": {
    "code_folding": []
   },
   "outputs": [],
   "source": [
    "add_venue_stats_to_author_year_edge('CitationsPerPaperDelta', years)"
   ]
  },
  {
   "cell_type": "code",
   "execution_count": null,
   "metadata": {},
   "outputs": [],
   "source": [
    "add_venue_stats_to_author_year_edge('HIndexDelta', years)"
   ]
  },
  {
   "cell_type": "markdown",
   "metadata": {},
   "source": [
    "### Run After Everything Else Has Been Added"
   ]
  },
  {
   "cell_type": "code",
   "execution_count": null,
   "metadata": {
    "code_folding": [
     0
    ]
   },
   "outputs": [],
   "source": [
    "def add_zero_for_deltas_in_author_first_year(years):\n",
    "    for year in years:\n",
    "        print('Running query for year {} for {}'.format(str(year), inspect.stack()[0][3]))\n",
    "        query = \"\"\"\n",
    "        CALL apoc.periodic.iterate(\n",
    "        \n",
    "        \"MATCH (a)-[m:METRICS_IN]->(y:Year {{year: $year}})\n",
    "        WHERE m.authorAge = 0\n",
    "        RETURN m\",\n",
    "        \n",
    "        \"SET m.hIndexDelta = 0.0,\n",
    "            m.totalCitationsDelta = 0.0,\n",
    "            m.totalPapersDelta = 0.0,\n",
    "            m.citationsPerPaperDelta = 0.0,\n",
    "            m.venueHIndexDelta = 0.0,\n",
    "            m.venueCitationsPerPaperDelta = 0.0,\n",
    "            m.venueTotalPapersDelta = 0.0\",\n",
    "        \n",
    "        {{batchSize:5000, iterateList:true, parallel:true, params: {{year: {}}} }});\n",
    "        \"\"\".format(year)\n",
    "        \n",
    "        run_query(query, graph)"
   ]
  },
  {
   "cell_type": "code",
   "execution_count": null,
   "metadata": {},
   "outputs": [],
   "source": [
    "add_zero_for_deltas_in_author_first_year(years)        "
   ]
  },
  {
   "cell_type": "markdown",
   "metadata": {},
   "source": [
    "# Work-In-Progress"
   ]
  },
  {
   "cell_type": "code",
   "execution_count": null,
   "metadata": {},
   "outputs": [],
   "source": [
    "def write_author_features_to_quanta(metric, years):\n",
    "    \"\"\" Use values stored in venue [:METRICS_IN] year edge to \n",
    "        Adds m.venue_{metric}_{min, mean, max} to (:Author)-[m:METRICS_IN]->(:Year)\"\"\"\n",
    "    \n",
    "    for year in years:\n",
    "        print('Running query for year {} for {}_{}'.format(str(year), inspect.stack()[0][3], metric))\n",
    "        query = \"\"\"\n",
    "        \n",
    "        CALL apoc.periodic.iterate(\n",
    "        \n",
    "        \"MATCH (y:Year {{year:$year}})<-[m:METRICS_IN]-(q:Quanta)\n",
    "        WITH q, m, y, apoc.text.decapitalize({}) as prop\n",
    "        MATCH (q)<-[:AUTHORED]-(a:Author)-[r:METRICS_IN]->(y)\n",
    "        WITH m, collect(r.prop) as stats\n",
    "        WITH m, stats, apoc.coll.min(stats) as min\n",
    "        WITH m, min, stats, apoc.coll.avg(stats) as mean\n",
    "        WITH m, min, mean, apoc.coll.max(stats) as max\n",
    "        RETURN [m, min, mean, max] as info\",\n",
    "        \n",
    "        \"WITH info[0] as m, info[1] as min, info[2] as mean, info[3] as max\n",
    "        SET m.author{}Min = min,\n",
    "            m.author{}Mean = mean,\n",
    "            m.author{}Max = max\",\n",
    "        \n",
    "        {{batchSize:5000, iterateList:true, parallel:false, params: {{year: {}}} }});\n",
    "        \"\"\".format(metric, metric, year)\n",
    "        \n",
    "        run_query(query, graph)\n",
    "  \n"
   ]
  },
  {
   "cell_type": "code",
   "execution_count": null,
   "metadata": {},
   "outputs": [],
   "source": [
    "# list of properties with uppercase property names\n",
    "# in above method to check number of nonzero and nonnull properties add apoc.text.decapitalize(metric)\n",
    "# all 16 Author properties\n",
    "\n",
    "venue_properties = [\n",
    "    'venueHIndexMin', 'venueHIndexMean', 'venueHIndexMax', \n",
    "    'venueHIndexDeltaMin', 'venueHIndexDeltaMean', 'venueHIndexDeltaMax',\n",
    "    'venueCitationsPerPaperMin', 'venueCitationsPerPaperMean', 'venueCitationsPerPaperMax',\n",
    "    'venueCitationsPerPaperDeltaMin', 'venueCitationsPerPaperDeltaMean', 'venueCitationsPerPaperDeltaMax',\n",
    "    'venueTotalPapersMin', 'venueTotalPapersMean', 'venueTotalPapersMax',\n",
    "    'venueTotalPapersDeltaMin', 'venueTotalPapersDeltaMean', 'venueTotalPapersDeltaMax',\n",
    "    'venueRankCitationsPerPaperMin', 'venueRankCitationsPerPaperMean', 'venueRankCitationsPerPaperMax',\n",
    "    'venueMaxCitationsMin', 'venueMaxCitationsMean', 'venueMaxCitationsMax',\n",
    "    'totalVenuesMin', 'totalVenuesMean', 'totalVenuesMax']\n",
    "\n",
    "author_properties = [\n",
    "    'hIndex','hIndexDelta', 'totalCitations', 'totalCitationsDelta', 'citationsPerPaper',\n",
    "    'citationsPerPaperDelta', 'citationsPerYear', 'totalPapers', 'totalPapersDelta', 'rankCitationsPerYear', \n",
    "    'pageRank', 'weightedPageRank', 'authorAge', 'recentCoauthors', 'maxCitations', 'totalVenues']\n",
    "\n",
    "all_properties = author_properties + venue_properties\n",
    "print(all_properties)\n",
    "\n",
    "author_properties_upper = [\n",
    "    'HIndex','HIndexDelta', 'TotalCitations', 'TotalCitationsDelta', 'CitationsPerPaper',\n",
    "    'CitationsPerPaperDelta', 'CitationsPerYear', 'TotalPapers', 'TotalPapersDelta', 'RankCitationsPerYear', \n",
    "    'PageRank', 'WeightedPageRank', 'AuthorAge', 'RecentCoauthors', 'MaxCitations', 'TotalVenues']\n",
    "\n",
    "# venueHIndex, venueHIndexDelta, venueCitationsPerPaper, venueCitationsPerPaperDelta, venueTotalPapers\n",
    "# venueTotalPapersDelta, venueRankCitationsPerPaper, venueMaxCitations, "
   ]
  },
  {
   "cell_type": "markdown",
   "metadata": {},
   "source": [
    "# Old"
   ]
  },
  {
   "cell_type": "code",
   "execution_count": null,
   "metadata": {
    "code_folding": [
     1
    ]
   },
   "outputs": [],
   "source": [
    "# works - new function above was refactored to use m.totalPapers property that exists\n",
    "def add_venue_citations_per_paper_to_venue_year_edge_old(years):\n",
    "    \"\"\" Mean of all citations_per_paper values for all papers published in that venue up to that year\n",
    "        Adds m.citationsPerPaper to (:Venue)-[m:METRICS_IN]->(:Year)\"\"\"\n",
    "    \n",
    "    for year in years:\n",
    "        print('Running query for year {} for {}'.format(str(year), inspect.stack()[0][3]))\n",
    "        query = \"\"\"\n",
    "        CALL apoc.periodic.iterate(\n",
    "        \n",
    "        \"MATCH (v:Venue)<-[r:PUBLISHED_IN]-(q:Quanta)\n",
    "        WHERE q.year <= $year\n",
    "        WITH DISTINCT v, toFloat(count(q)) as paper_ct \n",
    "        \n",
    "        OPTIONAL MATCH (v)<-[:PUBLISHED_IN]-(z:Quanta)<-[:CITES]-(p:Quanta)\n",
    "        WHERE p.year <= $year\n",
    "        WITH v, paper_ct, coalesce(count(p), 0) as cites \n",
    "        WITH v, (toFloat(cites) / toFloat(paper_ct)) as avg_cites_paper\n",
    "        WITH v, (round(1000 * avg_cites_paper)/1000) AS cites_per_paper\n",
    "        RETURN [v, cites_per_paper] as info\",\n",
    "        \n",
    "        \"WITH head(info) as v, last(info) as cites_per_paper\n",
    "        MATCH (v)-[m:METRICS_IN]->(y:Year {{year: $year}})\n",
    "        SET m.citationsPerPaper = cites_per_paper\", \n",
    "\n",
    "        {{batchSize:5000, iterateList:true, parallel:true, params: {{year: {}}} }});\n",
    "        \"\"\".format(year)\n",
    "        \n",
    "        run_query(query, graph)\n",
    "\n",
    "add_venue_citations_per_paper_to_venue_year_edge_old(years)"
   ]
  },
  {
   "cell_type": "code",
   "execution_count": null,
   "metadata": {
    "code_folding": [
     0
    ]
   },
   "outputs": [],
   "source": [
    "def author_citation_delta(years):\n",
    "    \"\"\" Change in number of citations received in the past year (positive)\n",
    "        Adds m.citation_delta to (:Author)-[m:METRICS_IN]->(:Year)\"\"\"\n",
    "    \n",
    "    for year in years:\n",
    "        print('Running query for year {} for {}'.format(str(year), inspect.stack()[0][3]))\n",
    "        query = \"\"\"\n",
    "        CALL apoc.periodic.iterate(\n",
    "        \"\n",
    "        MATCH (a:Author)-[m:METRICS_IN]->(y:Year {{year: $year}})\n",
    "        WITH a, m\n",
    "        MATCH (a)-[pm:METRICS_IN]->(:Year {{year:($year - 1)}}) \n",
    "        RETURN [m, m.total_citations-pm.total_citations] as info\",\n",
    "        \n",
    "        \"WITH info[0] as m, info[1] as delta\n",
    "        SET m.citation_delta = delta\",\n",
    "        \n",
    "        {{batchSize:5000, iterateList:true, parallel:true, params: {{year: {}}} }});\n",
    "        \"\"\".format(year)\n",
    "        \n",
    "        run_query(query, graph)\n",
    "        \n",
    "author_citation_delta(years)"
   ]
  },
  {
   "cell_type": "code",
   "execution_count": null,
   "metadata": {
    "code_folding": [
     0
    ]
   },
   "outputs": [],
   "source": [
    "def author_papers_delta(years):\n",
    "    \"\"\" Change in number of papers written in the past year (positive)\n",
    "        Adds m.paper_delta to (:Author)-[m:METRICS_IN]->(:Year)\"\"\"\n",
    "    \n",
    "    for year in years:\n",
    "        print('Running query for year {} for {}'.format(str(year), inspect.stack()[0][3]))\n",
    "\n",
    "        query = \"\"\"\n",
    "        CALL apoc.periodic.iterate(\n",
    "        \n",
    "        \"MATCH (y:Year {{year:$year}})<-[m:METRICS_IN]-(a:Author)\n",
    "        WITH a, m\n",
    "        MATCH (a)-[pm:METRICS_IN]->(:Year {{year: ($year - 1)}}) //previous year\n",
    "        RETURN [m, m.total_papers-pm.total_papers] as info\",\n",
    "        \n",
    "        \"WITH info[0] as m, info[1] as delta\n",
    "        SET m.papers_delta = delta\",\n",
    "        \n",
    "        {{batchSize:5000, iterateList:true, parallel:true, params: {{year: {}}} }});\n",
    "        \"\"\".format(year)\n",
    "        \n",
    "        run_query(query, graph)\n",
    "        \n",
    "author_papers_delta(years)"
   ]
  },
  {
   "cell_type": "code",
   "execution_count": null,
   "metadata": {
    "code_folding": [
     0
    ]
   },
   "outputs": [],
   "source": [
    "def author_mean_citations_per_paper_delta(years):\n",
    "    \"\"\" Change in number of mean citations per paper in the past year (can be negative)\n",
    "        Adds m.citations_per_paper_delta to (:Author)-[m:METRICS_IN]->(:Year)\"\"\"\n",
    "    \n",
    "    for year in years:\n",
    "        print('Running query for year {} for {}'.format(str(year), inspect.stack()[0][3]))\n",
    "        query = \"\"\"\n",
    "        CALL apoc.periodic.iterate(\n",
    "        \n",
    "        \"MATCH (a:Author)-[m:METRICS_IN]->(y:Year {{year:$year}})\n",
    "        WITH a, m\n",
    "        MATCH (a)-[pm:METRICS_IN]->(:Year {{year:($year - 1)}}) \n",
    "        RETURN [m, m.citations_per_paper-pm.citations_per_paper] as info\",\n",
    "        \n",
    "        \"WITH info[0] as m, info[1] as delta\n",
    "        SET m.citations_per_paper_delta = delta\",\n",
    "        \n",
    "        {{batchSize:5000, iterateList:true, parallel:true, params: {{year: {}}} }});\n",
    "        \"\"\".format(year)\n",
    "        \n",
    "        run_query(query, graph)\n",
    "          \n",
    "author_mean_citations_per_paper_delta(years)"
   ]
  },
  {
   "cell_type": "code",
   "execution_count": null,
   "metadata": {
    "code_folding": [
     1
    ]
   },
   "outputs": [],
   "source": [
    "def author_h_index_delta(years):\n",
    "    for year in years:\n",
    "        print('Running query for year {} for {}'.format(str(year), inspect.stack()[0][3]))\n",
    "\n",
    "        query = \"\"\"\n",
    "        CALL apoc.periodic.iterate(\n",
    "        \n",
    "        \"MATCH (a:Author)-[m:METRICS_IN]->(:Year {{year: $year}})\n",
    "        WITH a, m\n",
    "        MATCH (a)-[pm:METRICS_IN]->(:Year {{year: ($year - 1)}})\n",
    "        RETURN [m, m.hIndex-pm.hIndex] as info\",\n",
    "        \n",
    "        \"WITH head(info) as m, last(info) as delta\n",
    "        SET m.hIndex_delta = delta\",\n",
    "        \n",
    "        {{batchSize:5000, iterateList:true, parallel:false, params: {{year: {}}} }});\n",
    "        \"\"\".format(year)\n",
    "        \n",
    "        run_query(query, graph)\n",
    "        \n",
    "author_h_index_delta(years)"
   ]
  }
 ],
 "metadata": {
  "kernelspec": {
   "display_name": "ss-env",
   "language": "python",
   "name": "ss-env"
  },
  "language_info": {
   "codemirror_mode": {
    "name": "ipython",
    "version": 3
   },
   "file_extension": ".py",
   "mimetype": "text/x-python",
   "name": "python",
   "nbconvert_exporter": "python",
   "pygments_lexer": "ipython3",
   "version": "3.5.2"
  }
 },
 "nbformat": 4,
 "nbformat_minor": 2
}
