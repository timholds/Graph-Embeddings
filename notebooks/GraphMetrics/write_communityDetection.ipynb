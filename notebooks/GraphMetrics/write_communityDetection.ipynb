{
 "cells": [
  {
   "cell_type": "code",
   "execution_count": null,
   "metadata": {},
   "outputs": [],
   "source": [
    "import json\n",
    "import time\n",
    "from functools import reduce\n",
    "\n",
    "import pandas as pd\n",
    "import numpy as np\n",
    "\n",
    "import warnings\n",
    "warnings.simplefilter(action='ignore', category=FutureWarning)\n",
    "from tqdm.autonotebook import tqdm\n",
    "\n",
    "from py2neo import Graph, Node, Relationship"
   ]
  },
  {
   "cell_type": "code",
   "execution_count": null,
   "metadata": {},
   "outputs": [],
   "source": [
    "graph = Graph(\"bolt://dev_neo4j:7687\", auth=('neo4j','myneo'))\n",
    "\n",
    "n_nodes = graph.database.primitive_counts['NumberOfNodeIdsInUse']\n",
    "n_relationships = graph.database.primitive_counts['NumberOfRelationshipIdsInUse']\n",
    "print(\"Connected to graph database with {:,} nodes and {:,} relationships!\".format\n",
    "     (n_nodes, n_relationships))\n",
    "\n",
    "def run_query(query, graph, print_query=False, run_query=True, \n",
    "              print_only=False, to_df=False, verbose=True):\n",
    "    df = 1\n",
    "    if print_only: \n",
    "        print_query = True\n",
    "        run_query = False\n",
    "    start_time = time.time()\n",
    "    if print_query:\n",
    "        print(query)\n",
    "    if run_query:\n",
    "        if to_df:\n",
    "            df = graph.run(query).to_data_frame()\n",
    "        else:\n",
    "            graph.run(query)\n",
    "    end_time = time.time()\n",
    "    minutes_elapsed = (end_time-start_time)/60\n",
    "    if verbose:\n",
    "        print(\"Query completed in {:.2f} minutes.\".format(minutes_elapsed))\n",
    "    return df"
   ]
  },
  {
   "cell_type": "code",
   "execution_count": null,
   "metadata": {},
   "outputs": [],
   "source": [
    "# Write community detection\n",
    "min_year, max_year = 1900, 2020\n",
    "for y in tqdm(range(min_year, max_year+1)):\n",
    "    print(\"{}...\".format(y))\n",
    "        \n",
    "    # Write edge list for graph at year=y\n",
    "    query = \"\"\"\n",
    "    CALL algo.labelPropagation('\n",
    "    MATCH (a:Author)-[:AUTHORED]->(:Quanta)-[:PUBLISHED_IN]->(y:Year)\n",
    "    WHERE y.yearvalue<={year} AND ((a)-[:COAUTHOR]-(:Author)) AND id(a)<>0\n",
    "    RETURN id(a) AS id\n",
    "    ','\n",
    "    MATCH (a1:Author)-[r:COAUTHOR]-(a2:Author)\n",
    "    WHERE id(a1)<>0 AND id(a2) <> 0\n",
    "    RETURN id(a1) AS source, id(a2) AS target, r.strength AS weight \n",
    "    ',{{graph:'cypher', direction:'BOTH', write:true, writeProperty:'temporary'}})\n",
    "//    YIELD nodes, communityCount, iterations, didConverge, \n",
    "//        loadMillis, computeMillis, writeMillis, \n",
    "//        write, weightProperty, writeProperty,\n",
    "//        p1, p5, p10, p25, p50, p75, p90, p95, p99, p100;\n",
    "    \"\"\".format(year=y)\n",
    "    run_query(query, graph, print_only=True)"
   ]
  },
  {
   "cell_type": "code",
   "execution_count": null,
   "metadata": {},
   "outputs": [],
   "source": []
  },
  {
   "cell_type": "code",
   "execution_count": null,
   "metadata": {},
   "outputs": [],
   "source": []
  },
  {
   "cell_type": "code",
   "execution_count": null,
   "metadata": {},
   "outputs": [],
   "source": []
  },
  {
   "cell_type": "code",
   "execution_count": null,
   "metadata": {},
   "outputs": [],
   "source": [
    "for years_post_pub in range(4):\n",
    "    query = \"\"\"\n",
    "    CALL apoc.periodic.iterate(\"\n",
    "    MATCH (q:Quanta)-[:PUBLISHED_IN]->(y:Year)\n",
    "    WITH DISTINCT q, y.year as year \n",
    "    MATCH (p:Quanta)-[:CITES]->(q:Quanta) \n",
    "    WHERE p.year = year+{}\n",
    "    WITH DISTINCT p, q, year\n",
    "    RETURN [p,q,year] as l\n",
    "    \",\"\n",
    "    WITH l[0] AS p, l[1] AS q, l[2] as year\n",
    "    MATCH (a:Author)-[:AUTHORED]->(p) \n",
    "    WITH q, year+{} as p1, apoc.coll.toSet(collect(a.name)) AS alist \n",
    "    MERGE (q)-[m1:METRICS_IN]->(a:Year {{year: p1}})\n",
    "    SET m1.earlyAdopters = size(alist)\n",
    "    \",{{batchSize:5000, iterateList:true, parallel:false}});\n",
    "    \"\"\".format(years_post_pub, years_post_pub)\n",
    "    print(query)"
   ]
  }
 ],
 "metadata": {
  "kernelspec": {
   "display_name": "Python 3",
   "language": "python",
   "name": "python3"
  },
  "language_info": {
   "codemirror_mode": {
    "name": "ipython",
    "version": 3
   },
   "file_extension": ".py",
   "mimetype": "text/x-python",
   "name": "python",
   "nbconvert_exporter": "python",
   "pygments_lexer": "ipython3",
   "version": "3.6.7"
  }
 },
 "nbformat": 4,
 "nbformat_minor": 2
}
