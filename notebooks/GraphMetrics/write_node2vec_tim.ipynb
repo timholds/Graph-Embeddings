{
 "cells": [
  {
   "cell_type": "code",
   "execution_count": null,
   "metadata": {},
   "outputs": [],
   "source": [
    "import json, time, os\n",
    "from functools import reduce\n",
    "\n",
    "import pandas as pd\n",
    "import numpy as np\n",
    "\n",
    "import warnings\n",
    "warnings.simplefilter(action='ignore', category=FutureWarning)\n",
    "from tqdm.autonotebook import tqdm\n",
    "\n",
    "from py2neo import Graph, Node, Relationship"
   ]
  },
  {
   "cell_type": "code",
   "execution_count": null,
   "metadata": {
    "code_folding": [
     3
    ]
   },
   "outputs": [],
   "source": [
    "public_address = '18.27.79.39'\n",
    "graph = Graph('bolt://{}:7687'.format(public_address), auth=('neo4j','myneo'))\n",
    "\n",
    "def run_query(query, graph, print_query=False, run_query=True, \n",
    "              print_only=False, to_df=False, verbose=True):\n",
    "    df = 1\n",
    "    if print_only: \n",
    "        print_query = True\n",
    "        run_query = False\n",
    "    start_time = time.time()\n",
    "    if print_query:\n",
    "        print(query)\n",
    "    if run_query:\n",
    "        if to_df:\n",
    "            df = graph.run(query).to_data_frame()\n",
    "        else:\n",
    "            graph.run(query)\n",
    "    end_time = time.time()\n",
    "    minutes_elapsed = (end_time-start_time)/60\n",
    "    if verbose:\n",
    "        print(\"Query completed in {:.2f} minutes.\".format(minutes_elapsed))\n",
    "    return df"
   ]
  },
  {
   "cell_type": "code",
   "execution_count": null,
   "metadata": {
    "code_folding": [
     2
    ]
   },
   "outputs": [],
   "source": [
    "# Write edge lists for quanta that cite other quanta\n",
    "min_year, max_year = 1900, 2020\n",
    "def write_edge_list_citing_quanta(min_year, max_year):\n",
    "    for y in tqdm(range(min_year, max_year+1)):\n",
    "        print(\"{}...\".format(y))\n",
    "\n",
    "        # Write edge list for graph at year=y\n",
    "        query = \"\"\"\n",
    "        CALL apoc.export.csv.query('\n",
    "        MATCH (z:Year)<-[:PUBLISHED_IN]-(a:Quanta)-[:CITES]->(b:Quanta)-[:PUBLISHED_IN]->(y:Year)\n",
    "        WHERE z.year<={year} AND y.year<={year}\n",
    "        RETURN id(a) as source, id(b) as target\n",
    "        ','{out}',\n",
    "        {{quotes:false}});\n",
    "        \"\"\".format(year=y, out='/import/embeddings/all_quanta/quanta.{}.edgelist'.format(y))\n",
    "        run_query(query, graph, print_only=False)\n",
    "        \n",
    "write_edge_list_citing_quanta(min_year, max_year)"
   ]
  },
  {
   "cell_type": "code",
   "execution_count": null,
   "metadata": {
    "code_folding": [
     3
    ]
   },
   "outputs": [],
   "source": [
    "# Running on ipython tmux pane 1\n",
    "# Write edge lists for author_quanta\n",
    "min_year, max_year = 1900, 2020\n",
    "def write_edge_list_author_quanta(min_year, max_year):\n",
    "    for y in tqdm(range(min_year, max_year+1)):\n",
    "        print(\"{}...\".format(y))\n",
    "\n",
    "        # Write edge list for graph at year=y\n",
    "        query = \"\"\"\n",
    "        CALL apoc.export.csv.query('\n",
    "        MATCH (z:Year)<-[:PUBLISHED_IN]-(q:Quanta)<-[:AUTHORED]-(a:Author)\n",
    "        WHERE z.year<={year}\n",
    "        RETURN id(a) as source, id(q) as target\n",
    "        ','{out}',\n",
    "        {{quotes:false}});\n",
    "        \"\"\".format(year=y, out='/import/embeddings/author_quanta/quanta.{}.edgelist'.format(y))\n",
    "        run_query(query, graph, print_only=False)\n",
    "    \n",
    "write_edge_list_author_quanta(min_year, max_year)"
   ]
  },
  {
   "cell_type": "code",
   "execution_count": null,
   "metadata": {
    "code_folding": [
     3
    ]
   },
   "outputs": [],
   "source": [
    "# Running on ipython tmux pane 2\n",
    "# Write edge lists for venue_quanta\n",
    "min_year, max_year = 1900, 2020\n",
    "def write_edge_list_venue_quanta(min_year, max_year):\n",
    "    for y in tqdm(range(min_year, max_year+1)):\n",
    "        print(\"{}...\".format(y))\n",
    "\n",
    "        # Write edge list for graph at year=y\n",
    "        query = \"\"\"\n",
    "        CALL apoc.export.csv.query('\n",
    "        MATCH (z:Year)<-[:PUBLISHED_IN]-(q:Quanta)-[:PUBLISHED_IN]->(v:Venue)\n",
    "        WHERE z.year<={year}\n",
    "        RETURN id(q) as source, id(v) as target\n",
    "        ','{out}',\n",
    "        {{quotes:false}});\n",
    "        \"\"\".format(year=y, out='/import/embeddings/venue_quanta/quanta.{}.edgelist'.format(y))\n",
    "        run_query(query, graph, print_only=False)\n",
    "    \n",
    "write_edge_list_venue_quanta(min_year, max_year)"
   ]
  },
  {
   "cell_type": "code",
   "execution_count": null,
   "metadata": {},
   "outputs": [],
   "source": [
    "# Replace commas with spaces\n",
    "find . -name 'quanta.*.edgelist' -exec sed -i \"s/,/ /g\" {} \\;"
   ]
  },
  {
   "cell_type": "code",
   "execution_count": null,
   "metadata": {},
   "outputs": [],
   "source": [
    "for filename in quanta.*.edgelist; do\n",
    "     tail -n +2 \"$filename\" > \"$filename.tmp\"\n",
    "     mv -f \"$filename.tmp\" \"$filename\" \n",
    "done"
   ]
  },
  {
   "cell_type": "code",
   "execution_count": null,
   "metadata": {},
   "outputs": [],
   "source": [
    "# Run node2vec\n",
    "for filename in quanta.*.edgelist; do\n",
    "     ./node2vec -i:\"$filename\" -o:\"$filename.emb\" -d:12 -l:80 -dr -v\n",
    "done"
   ]
  },
  {
   "cell_type": "code",
   "execution_count": null,
   "metadata": {},
   "outputs": [],
   "source": [
    "# Import results to graph\n",
    "min_year, max_year = 1900, 2020\n",
    "for y in tqdm(range(min_year, max_year+1)):\n",
    "    print(\"{}...\".format(y))\n",
    "    \n",
    "    edgelist = '/import/embeddings/quanta.{}.edgelist'.format(y)\n",
    "    \n",
    "    # Write edge list for graph at year=y\n",
    "    query = \"\"\"\n",
    "    CALL apoc.load.csv('/import/embeddings/quanta.{year}.edgelist.emb', \n",
    "        {{sep:\" \", header:true}})\n",
    "    YIELD list \n",
    "    WITH apoc.convert.toInteger(head(list)) as nodeId, \n",
    "        [x IN tail(list) | apoc.convert.toFloat(x)] AS embedding\n",
    "    MATCH (n) WHERE id(n)=nodeId\n",
    "    MATCH (y:Year) WHERE y.year={year}\n",
    "    MERGE(n)-[r:METRICS_IN]->(y)\n",
    "    SET r.node2vec=embedding\n",
    "    \"\"\".format(year=y)\n",
    "    run_query(query, graph, print_only=False)"
   ]
  },
  {
   "cell_type": "code",
   "execution_count": null,
   "metadata": {},
   "outputs": [],
   "source": []
  }
 ],
 "metadata": {
  "kernelspec": {
   "display_name": "Python 3",
   "language": "python",
   "name": "python3"
  },
  "language_info": {
   "codemirror_mode": {
    "name": "ipython",
    "version": 3
   },
   "file_extension": ".py",
   "mimetype": "text/x-python",
   "name": "python",
   "nbconvert_exporter": "python",
   "pygments_lexer": "ipython3",
   "version": "3.5.2"
  }
 },
 "nbformat": 4,
 "nbformat_minor": 2
}
