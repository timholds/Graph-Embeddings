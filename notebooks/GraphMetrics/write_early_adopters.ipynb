{
 "cells": [
  {
   "cell_type": "code",
   "execution_count": 9,
   "metadata": {},
   "outputs": [
    {
     "name": "stderr",
     "output_type": "stream",
     "text": [
      "/opt/conda/lib/python3.6/site-packages/tqdm/autonotebook/__init__.py:14: TqdmExperimentalWarning: Using `tqdm.autonotebook.tqdm` in notebook mode. Use `tqdm.tqdm` instead to force console mode (e.g. in jupyter console)\n",
      "  \" (e.g. in jupyter console)\", TqdmExperimentalWarning)\n"
     ]
    }
   ],
   "source": [
    "import pandas as pd\n",
    "import json\n",
    "from py2neo import Graph, Node, Relationship\n",
    "import numpy as np\n",
    "import time\n",
    "from functools import reduce\n",
    "from tqdm.autonotebook import tqdm"
   ]
  },
  {
   "cell_type": "code",
   "execution_count": null,
   "metadata": {},
   "outputs": [],
   "source": [
    "graph = Graph(\"bolt://neo4j-magtwo:7687\", auth=('neo4j','myneo'))\n",
    "\n",
    "n_nodes = graph.database.primitive_counts['NumberOfNodeIdsInUse']\n",
    "n_relationships = graph.database.primitive_counts['NumberOfRelationshipIdsInUse']\n",
    "print(\"Connected to graph database with {:,} nodes and {:,} relationships!\".format\n",
    "     (n_nodes, n_relationships))"
   ]
  },
  {
   "cell_type": "code",
   "execution_count": 8,
   "metadata": {},
   "outputs": [
    {
     "name": "stdout",
     "output_type": "stream",
     "text": [
      "\n",
      "    CALL apoc.periodic.iterate(\"\n",
      "    MATCH (q:Quanta)-[:PUBLISHED_IN]->(y:Year)\n",
      "    WITH DISTINCT q, y.value as year \n",
      "    MATCH (p:Quanta)-[:CITES]->(q:Quanta) \n",
      "    WHERE p.year = year+0\n",
      "    WITH DISTINCT p, q, year\n",
      "    RETURN [p,q,year] as l\n",
      "    \",\"\n",
      "    WITH l[0] AS p, l[1] AS q, l[2] as year\n",
      "    MATCH (a:Author)-[:AUTHORED]->(p) \n",
      "    WITH q, year+0 as p1, apoc.coll.toSet(collect(a.name)) AS alist \n",
      "    MERGE (q)-[m1:METRICS_IN]->(a:Year {value: p1})\n",
      "    SET m1.earlyAdopters = size(alist)\n",
      "    \",{batchSize:5000, iterateList:true, parallel:false});\n",
      "    \n",
      "\n",
      "    CALL apoc.periodic.iterate(\"\n",
      "    MATCH (q:Quanta)-[:PUBLISHED_IN]->(y:Year)\n",
      "    WITH DISTINCT q, y.value as year \n",
      "    MATCH (p:Quanta)-[:CITES]->(q:Quanta) \n",
      "    WHERE p.year = year+1\n",
      "    WITH DISTINCT p, q, year\n",
      "    RETURN [p,q,year] as l\n",
      "    \",\"\n",
      "    WITH l[0] AS p, l[1] AS q, l[2] as year\n",
      "    MATCH (a:Author)-[:AUTHORED]->(p) \n",
      "    WITH q, year+1 as p1, apoc.coll.toSet(collect(a.name)) AS alist \n",
      "    MERGE (q)-[m1:METRICS_IN]->(a:Year {value: p1})\n",
      "    SET m1.earlyAdopters = size(alist)\n",
      "    \",{batchSize:5000, iterateList:true, parallel:false});\n",
      "    \n",
      "\n",
      "    CALL apoc.periodic.iterate(\"\n",
      "    MATCH (q:Quanta)-[:PUBLISHED_IN]->(y:Year)\n",
      "    WITH DISTINCT q, y.value as year \n",
      "    MATCH (p:Quanta)-[:CITES]->(q:Quanta) \n",
      "    WHERE p.year = year+2\n",
      "    WITH DISTINCT p, q, year\n",
      "    RETURN [p,q,year] as l\n",
      "    \",\"\n",
      "    WITH l[0] AS p, l[1] AS q, l[2] as year\n",
      "    MATCH (a:Author)-[:AUTHORED]->(p) \n",
      "    WITH q, year+2 as p1, apoc.coll.toSet(collect(a.name)) AS alist \n",
      "    MERGE (q)-[m1:METRICS_IN]->(a:Year {value: p1})\n",
      "    SET m1.earlyAdopters = size(alist)\n",
      "    \",{batchSize:5000, iterateList:true, parallel:false});\n",
      "    \n",
      "\n",
      "    CALL apoc.periodic.iterate(\"\n",
      "    MATCH (q:Quanta)-[:PUBLISHED_IN]->(y:Year)\n",
      "    WITH DISTINCT q, y.value as year \n",
      "    MATCH (p:Quanta)-[:CITES]->(q:Quanta) \n",
      "    WHERE p.year = year+3\n",
      "    WITH DISTINCT p, q, year\n",
      "    RETURN [p,q,year] as l\n",
      "    \",\"\n",
      "    WITH l[0] AS p, l[1] AS q, l[2] as year\n",
      "    MATCH (a:Author)-[:AUTHORED]->(p) \n",
      "    WITH q, year+3 as p1, apoc.coll.toSet(collect(a.name)) AS alist \n",
      "    MERGE (q)-[m1:METRICS_IN]->(a:Year {value: p1})\n",
      "    SET m1.earlyAdopters = size(alist)\n",
      "    \",{batchSize:5000, iterateList:true, parallel:false});\n",
      "    \n"
     ]
    }
   ],
   "source": [
    "for years_post_pub in range(4):\n",
    "    query = \"\"\"\n",
    "    CALL apoc.periodic.iterate(\"\n",
    "    MATCH (q:Quanta)-[:PUBLISHED_IN]->(y:Year)\n",
    "    WITH DISTINCT q, y.value as year \n",
    "    MATCH (p:Quanta)-[:CITES]->(q:Quanta) \n",
    "    WHERE p.year = year+{}\n",
    "    WITH DISTINCT p, q, year\n",
    "    RETURN [p,q,year] as l\n",
    "    \",\"\n",
    "    WITH l[0] AS p, l[1] AS q, l[2] as year\n",
    "    MATCH (a:Author)-[:AUTHORED]->(p) \n",
    "    WITH q, year+{} as p1, apoc.coll.toSet(collect(a.name)) AS alist \n",
    "    MERGE (q)-[m1:METRICS_IN]->(a:Year {{value: p1}})\n",
    "    SET m1.earlyAdopters = size(alist)\n",
    "    \",{{batchSize:5000, iterateList:true, parallel:false}});\n",
    "    \"\"\".format(years_post_pub, years_post_pub)\n",
    "    print(query)"
   ]
  }
 ],
 "metadata": {
  "kernelspec": {
   "display_name": "Python 3",
   "language": "python",
   "name": "python3"
  },
  "language_info": {
   "codemirror_mode": {
    "name": "ipython",
    "version": 3
   },
   "file_extension": ".py",
   "mimetype": "text/x-python",
   "name": "python",
   "nbconvert_exporter": "python",
   "pygments_lexer": "ipython3",
   "version": "3.6.7"
  }
 },
 "nbformat": 4,
 "nbformat_minor": 2
}
