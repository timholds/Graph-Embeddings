{
 "cells": [
  {
   "cell_type": "code",
   "execution_count": 3,
   "metadata": {},
   "outputs": [],
   "source": [
    "import json\n",
    "import time\n",
    "from functools import reduce\n",
    "\n",
    "import pandas as pd\n",
    "import numpy as np\n",
    "\n",
    "import warnings\n",
    "warnings.simplefilter(action='ignore', category=FutureWarning)\n",
    "from tqdm.autonotebook import tqdm\n",
    "\n",
    "from py2neo import Graph, Node, Relationship"
   ]
  },
  {
   "cell_type": "code",
   "execution_count": 4,
   "metadata": {},
   "outputs": [],
   "source": [
    "public_address = '54.174.175.98'\n",
    "graph = Graph('bolt://{}:7687'.format(public_address), auth=('neo4j','myneo'))\n",
    "\n",
    "def run_query(query, graph, print_query=False, run_query=True, \n",
    "              print_only=False, to_df=False, verbose=True):\n",
    "    df = 1\n",
    "    if print_only: \n",
    "        print_query = True\n",
    "        run_query = False\n",
    "    start_time = time.time()\n",
    "    if print_query:\n",
    "        print(query)\n",
    "    if run_query:\n",
    "        if to_df:\n",
    "            df = graph.run(query).to_data_frame()\n",
    "        else:\n",
    "            graph.run(query)\n",
    "    end_time = time.time()\n",
    "    minutes_elapsed = (end_time-start_time)/60\n",
    "    if verbose:\n",
    "        print(\"Query completed in {:.2f} minutes.\".format(minutes_elapsed))\n",
    "    return df"
   ]
  },
  {
   "cell_type": "code",
   "execution_count": 6,
   "metadata": {},
   "outputs": [
    {
     "name": "stdout",
     "output_type": "stream",
     "text": [
      "\n",
      "    CALL apoc.periodic.iterate(\"\n",
      "    MATCH (q:Quanta)-[:PUBLISHED_IN]->(y:Year)\n",
      "    WITH DISTINCT q, y.year as year \n",
      "    MATCH (p:Quanta)-[:CITES]->(q:Quanta) \n",
      "    WHERE p.year = year+0\n",
      "    WITH DISTINCT p, q, year\n",
      "    RETURN [p,q,year] as l\n",
      "    \",\"\n",
      "    WITH l[0] AS p, l[1] AS q, l[2] as year\n",
      "    MATCH (a:Author)-[:AUTHORED]->(p) \n",
      "    WITH q, year+0 as p1, apoc.coll.toSet(collect(a.name)) AS alist \n",
      "    MERGE (q)-[m1:METRICS_IN]->(a:Year {value: p1})\n",
      "    SET m1.adopters = size(alist)\n",
      "    \",{batchSize:10000, iterateList:true, parallel:false});\n",
      "    \n",
      "Query completed in 0.00 minutes.\n",
      "\n",
      "    CALL apoc.periodic.iterate(\"\n",
      "    MATCH (q:Quanta)-[:PUBLISHED_IN]->(y:Year)\n",
      "    WITH DISTINCT q, y.year as year \n",
      "    MATCH (p:Quanta)-[:CITES]->(q:Quanta) \n",
      "    WHERE p.year = year+1\n",
      "    WITH DISTINCT p, q, year\n",
      "    RETURN [p,q,year] as l\n",
      "    \",\"\n",
      "    WITH l[0] AS p, l[1] AS q, l[2] as year\n",
      "    MATCH (a:Author)-[:AUTHORED]->(p) \n",
      "    WITH q, year+1 as p1, apoc.coll.toSet(collect(a.name)) AS alist \n",
      "    MERGE (q)-[m1:METRICS_IN]->(a:Year {value: p1})\n",
      "    SET m1.adopters = size(alist)\n",
      "    \",{batchSize:10000, iterateList:true, parallel:false});\n",
      "    \n",
      "Query completed in 0.00 minutes.\n",
      "\n",
      "    CALL apoc.periodic.iterate(\"\n",
      "    MATCH (q:Quanta)-[:PUBLISHED_IN]->(y:Year)\n",
      "    WITH DISTINCT q, y.year as year \n",
      "    MATCH (p:Quanta)-[:CITES]->(q:Quanta) \n",
      "    WHERE p.year = year+2\n",
      "    WITH DISTINCT p, q, year\n",
      "    RETURN [p,q,year] as l\n",
      "    \",\"\n",
      "    WITH l[0] AS p, l[1] AS q, l[2] as year\n",
      "    MATCH (a:Author)-[:AUTHORED]->(p) \n",
      "    WITH q, year+2 as p1, apoc.coll.toSet(collect(a.name)) AS alist \n",
      "    MERGE (q)-[m1:METRICS_IN]->(a:Year {value: p1})\n",
      "    SET m1.adopters = size(alist)\n",
      "    \",{batchSize:10000, iterateList:true, parallel:false});\n",
      "    \n",
      "Query completed in 0.00 minutes.\n",
      "\n",
      "    CALL apoc.periodic.iterate(\"\n",
      "    MATCH (q:Quanta)-[:PUBLISHED_IN]->(y:Year)\n",
      "    WITH DISTINCT q, y.year as year \n",
      "    MATCH (p:Quanta)-[:CITES]->(q:Quanta) \n",
      "    WHERE p.year = year+3\n",
      "    WITH DISTINCT p, q, year\n",
      "    RETURN [p,q,year] as l\n",
      "    \",\"\n",
      "    WITH l[0] AS p, l[1] AS q, l[2] as year\n",
      "    MATCH (a:Author)-[:AUTHORED]->(p) \n",
      "    WITH q, year+3 as p1, apoc.coll.toSet(collect(a.name)) AS alist \n",
      "    MERGE (q)-[m1:METRICS_IN]->(a:Year {value: p1})\n",
      "    SET m1.adopters = size(alist)\n",
      "    \",{batchSize:10000, iterateList:true, parallel:false});\n",
      "    \n",
      "Query completed in 0.00 minutes.\n"
     ]
    }
   ],
   "source": [
    "for years_post_pub in range(4):\n",
    "    query = \"\"\"\n",
    "    CALL apoc.periodic.iterate(\"\n",
    "    MATCH (q:Quanta)-[:PUBLISHED_IN]->(y:Year)\n",
    "    WITH DISTINCT q, y.year as year \n",
    "    MATCH (p:Quanta)-[:CITES]->(q:Quanta) \n",
    "    WHERE p.year = year+{}\n",
    "    WITH DISTINCT p, q, year\n",
    "    RETURN [p,q,year] as l\n",
    "    \",\"\n",
    "    WITH l[0] AS p, l[1] AS q, l[2] as year\n",
    "    MATCH (a:Author)-[:AUTHORED]->(p) \n",
    "    WITH q, year+{} as p1, apoc.coll.toSet(collect(a.name)) AS alist \n",
    "    MERGE (q)-[m1:METRICS_IN]->(a:Year {{value: p1}})\n",
    "    SET m1.adopters = size(alist)\n",
    "    \",{{batchSize:10000, iterateList:true, parallel:false}});\n",
    "    \"\"\".format(years_post_pub, years_post_pub)\n",
    "    run_query(query, graph, print_only=True)\n",
    "    "
   ]
  },
  {
   "cell_type": "code",
   "execution_count": 8,
   "metadata": {},
   "outputs": [
    {
     "name": "stdout",
     "output_type": "stream",
     "text": [
      "\n",
      "CALL apoc.periodic.iterate(\"\n",
      "MATCH (q:Quanta)-[:PUBLISHED_IN]->(y:Year)\n",
      "WITH DISTINCT q, y.year as year \n",
      "MATCH (z:Year)<-[:PUBLISHED_IN]-(p:Quanta)-[:CITES]->(q:Quanta) \n",
      "WHERE z.year <= year+3\n",
      "WITH DISTINCT p, q, year\n",
      "RETURN [p,q,year] as l\n",
      "\",\"\n",
      "WITH l[0] AS p, l[1] AS q, l[2] as year\n",
      "MATCH (a:Author)-[:AUTHORED]->(p) \n",
      "WITH q, year+3 as p1, apoc.coll.toSet(collect(a.name)) AS alist \n",
      "MERGE (q)-[m1:METRICS_IN]->(a:Year {value: p1})\n",
      "SET m1.adopters = size(alist)\n",
      "\",{batchSize:10000, iterateList:true, parallel:false});\n",
      "\n",
      "Query completed in 0.00 minutes.\n"
     ]
    },
    {
     "data": {
      "text/plain": [
       "1"
      ]
     },
     "execution_count": 8,
     "metadata": {},
     "output_type": "execute_result"
    }
   ],
   "source": [
    "query = \"\"\"\n",
    "CALL apoc.periodic.iterate(\"\n",
    "MATCH (q:Quanta)-[:PUBLISHED_IN]->(y:Year)\n",
    "WITH DISTINCT q, y.year as year \n",
    "MATCH (z:Year)<-[:PUBLISHED_IN]-(p:Quanta)-[:CITES]->(q:Quanta) \n",
    "WHERE z.year <= year+3\n",
    "WITH DISTINCT p, q, year\n",
    "RETURN [p,q,year] as l\n",
    "\",\"\n",
    "WITH l[0] AS p, l[1] AS q, l[2] as year\n",
    "MATCH (a:Author)-[:AUTHORED]->(p) \n",
    "WITH q, year+3 as p1, apoc.coll.toSet(collect(a.name)) AS alist \n",
    "MERGE (q)-[m1:METRICS_IN]->(a:Year {value: p1})\n",
    "SET m1.adopters = size(alist)\n",
    "\",{batchSize:10000, iterateList:true, parallel:false});\n",
    "\"\"\"\n",
    "run_query(query, graph, print_only=True)"
   ]
  },
  {
   "cell_type": "code",
   "execution_count": null,
   "metadata": {},
   "outputs": [],
   "source": []
  }
 ],
 "metadata": {
  "kernelspec": {
   "display_name": "Python 3",
   "language": "python",
   "name": "python3"
  },
  "language_info": {
   "codemirror_mode": {
    "name": "ipython",
    "version": 3
   },
   "file_extension": ".py",
   "mimetype": "text/x-python",
   "name": "python",
   "nbconvert_exporter": "python",
   "pygments_lexer": "ipython3",
   "version": "3.6.7"
  }
 },
 "nbformat": 4,
 "nbformat_minor": 2
}
