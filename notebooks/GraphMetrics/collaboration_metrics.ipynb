{
 "cells": [
  {
   "cell_type": "markdown",
   "metadata": {},
   "source": [
    "#### Definitions"
   ]
  },
  {
   "cell_type": "code",
   "execution_count": 2,
   "metadata": {},
   "outputs": [],
   "source": [
    "import time\n",
    "import json\n",
    "import math\n",
    "import pandas as pd\n",
    "import matplotlib.pyplot as plt\n",
    "from scipy import stats\n",
    "from py2neo import Graph, Node, Relationship\n",
    "%matplotlib inline\n",
    "\n"
   ]
  },
  {
   "cell_type": "code",
   "execution_count": 3,
   "metadata": {},
   "outputs": [],
   "source": [
    "def query_to_df(query, graph):\n",
    "    print(\"Starting query...\", end=\" \")\n",
    "    query_start_time = time.time()\n",
    "    df = graph.run(query).to_data_frame()\n",
    "    print(\"Done ({:.2f} minutes).\".format((time.time()-query_start_time)/60))\n",
    "    return df"
   ]
  },
  {
   "cell_type": "code",
   "execution_count": 4,
   "metadata": {},
   "outputs": [
    {
     "name": "stdout",
     "output_type": "stream",
     "text": [
      "Connected to graph database with 278,432,359 nodes and 1,844,501,832 relationships!\n"
     ]
    }
   ],
   "source": [
    "graph = Graph( \"bolt://matlaber10.media.mit.edu:7687\", auth=('neo4j','myneo'))\n",
    "print(\"Connected to graph database with {:,} nodes and {:,} relationships!\".format(\n",
    "    graph.database.primitive_counts['NumberOfNodeIdsInUse'], \n",
    "    graph.database.primitive_counts['NumberOfRelationshipIdsInUse']))"
   ]
  },
  {
   "cell_type": "markdown",
   "metadata": {},
   "source": [
    "#### High-level Inventory"
   ]
  },
  {
   "cell_type": "code",
   "execution_count": 4,
   "metadata": {},
   "outputs": [
    {
     "name": "stdout",
     "output_type": "stream",
     "text": [
      "Number of authors: 293,023\n"
     ]
    }
   ],
   "source": [
    "d = graph.run(\"MATCH (a:NatureAuthor) RETURN COUNT(a) as number_of_nature_authors\").data()[0]\n",
    "num_nature_authors = d['number_of_nature_authors']\n",
    "print(\"Number of authors: {:,}\".format(num_nature_authors))"
   ]
  },
  {
   "cell_type": "code",
   "execution_count": 21,
   "metadata": {},
   "outputs": [
    {
     "name": "stdout",
     "output_type": "stream",
     "text": [
      "Author properties:\n",
      "{'properties(a)': {'name': 'Zev Rosenwaks', 'labelprop': 1232, 'louvain': [1, 1, 1, 1]}, 'ID(a)': 9}\n",
      "{'properties(a)': {'labelprop': 1232, 'name': 'David R. McClay', 'louvain': [7, 6, 5, 5]}, 'ID(a)': 42}\n"
     ]
    }
   ],
   "source": [
    "print(\"Author properties:\")\n",
    "d = graph.run(\"MATCH (a:NatureAuthor) RETURN properties(a), ID(a)\").data()\n",
    "print(d[0])\n",
    "print(d[1])"
   ]
  },
  {
   "cell_type": "code",
   "execution_count": 26,
   "metadata": {},
   "outputs": [
    {
     "name": "stdout",
     "output_type": "stream",
     "text": [
      "Node types\n"
     ]
    },
    {
     "data": {
      "text/plain": [
       "[{'label': 'Quanta'},\n",
       " {'label': 'Author'},\n",
       " {'label': 'Organization'},\n",
       " {'label': 'Patent'},\n",
       " {'label': 'PhysicsAuthor'},\n",
       " {'label': 'NatureAuthor'},\n",
       " {'label': 'Top42Author'}]"
      ]
     },
     "execution_count": 26,
     "metadata": {},
     "output_type": "execute_result"
    }
   ],
   "source": [
    "print(\"Node types\")\n",
    "d = graph.run(\"CALL db.labels() YIELD label RETURN label;\").data()\n",
    "d"
   ]
  },
  {
   "cell_type": "code",
   "execution_count": 25,
   "metadata": {},
   "outputs": [
    {
     "name": "stdout",
     "output_type": "stream",
     "text": [
      "Relationship types\n"
     ]
    },
    {
     "data": {
      "text/plain": [
       "[{'relationshipType': 'AUTHORED'},\n",
       " {'relationshipType': 'AFFILIATED_WITH'},\n",
       " {'relationshipType': 'CITES'},\n",
       " {'relationshipType': 'COAUTHOR'}]"
      ]
     },
     "execution_count": 25,
     "metadata": {},
     "output_type": "execute_result"
    }
   ],
   "source": [
    "print(\"Relationship types\")\n",
    "d = graph.run(\"CALL db.relationshipTypes() YIELD relationshipType RETURN relationshipType;\").data()\n",
    "d\n"
   ]
  },
  {
   "cell_type": "code",
   "execution_count": 29,
   "metadata": {},
   "outputs": [
    {
     "data": {
      "text/plain": [
       "[{'propertyKey': 'id'},\n",
       " {'propertyKey': 'name'},\n",
       " {'propertyKey': 'year'},\n",
       " {'propertyKey': 'lang'},\n",
       " {'propertyKey': 'fos'},\n",
       " {'propertyKey': 'title'},\n",
       " {'propertyKey': 'refs'},\n",
       " {'propertyKey': 'url'},\n",
       " {'propertyKey': 'keywords'},\n",
       " {'propertyKey': 'n_citation'},\n",
       " {'propertyKey': 'pdf'},\n",
       " {'propertyKey': 'publisher'},\n",
       " {'propertyKey': 'is_first_author'},\n",
       " {'propertyKey': 'is_last_author'},\n",
       " {'propertyKey': 'venue'},\n",
       " {'propertyKey': 'classifications'},\n",
       " {'propertyKey': 'location'},\n",
       " {'propertyKey': 'pub_date'},\n",
       " {'propertyKey': 'also_published_as'},\n",
       " {'propertyKey': 'cited_by'},\n",
       " {'propertyKey': 'authors'},\n",
       " {'propertyKey': 'patent_citations'},\n",
       " {'propertyKey': 'pagerank'},\n",
       " {'propertyKey': 'pageRank_2018'},\n",
       " {'propertyKey': 'pageRank_2008'},\n",
       " {'propertyKey': 'articleRank2018'},\n",
       " {'propertyKey': 'pagerank_yr'},\n",
       " {'propertyKey': 'pagerank_2018'},\n",
       " {'propertyKey': 'articlerank'},\n",
       " {'propertyKey': 'doctype'},\n",
       " {'propertyKey': 'tspr2008'},\n",
       " {'propertyKey': 'tspr2009'},\n",
       " {'propertyKey': 'tspr2010'},\n",
       " {'propertyKey': 'tspr2011'},\n",
       " {'propertyKey': 'tspr2012'},\n",
       " {'propertyKey': 'tspr2013'},\n",
       " {'propertyKey': 'tspr2004'},\n",
       " {'propertyKey': 'tspr2003'},\n",
       " {'propertyKey': 'tspr2005'},\n",
       " {'propertyKey': 'tspr2006'},\n",
       " {'propertyKey': 'tspr2007'},\n",
       " {'propertyKey': 'strength'},\n",
       " {'propertyKey': 'louvain'},\n",
       " {'propertyKey': 'PhysicsIntraCommunityFocus'},\n",
       " {'propertyKey': 'PhysicsInterCommunityFocus'},\n",
       " {'propertyKey': 'labelprop'},\n",
       " {'propertyKey': 'strength2'},\n",
       " {'propertyKey': 'strength42'}]"
      ]
     },
     "execution_count": 29,
     "metadata": {},
     "output_type": "execute_result"
    }
   ],
   "source": [
    "d = graph.run(\"CALL db.propertyKeys() YIELD propertyKey  RETURN propertyKey\").data()\n",
    "d"
   ]
  },
  {
   "cell_type": "markdown",
   "metadata": {},
   "source": [
    "#### Number of coauthors"
   ]
  },
  {
   "cell_type": "code",
   "execution_count": 4,
   "metadata": {},
   "outputs": [
    {
     "name": "stdout",
     "output_type": "stream",
     "text": [
      "Starting query... Done (0.12 minutes).\n",
      "Coauthorship statistics:\n",
      "\n"
     ]
    },
    {
     "data": {
      "text/plain": [
       "count    293023.000000\n",
       "mean        242.165444\n",
       "std        1076.219890\n",
       "min           0.000000\n",
       "25%           7.000000\n",
       "50%          31.000000\n",
       "75%         108.000000\n",
       "max       30581.000000\n",
       "Name: Num_Coauthors, dtype: float64"
      ]
     },
     "execution_count": 4,
     "metadata": {},
     "output_type": "execute_result"
    }
   ],
   "source": [
    "query = \"\"\"MATCH (a:NatureAuthor)\n",
    "WITH a, size((a)-[:COAUTHOR]-()) as Num_Coauthors\n",
    "RETURN a.name, Num_Coauthors\"\"\"\n",
    "\n",
    "df_coauthors = query_to_df(query, graph)\n",
    "degree_df = df_coauthors['Num_Coauthors']\n",
    "\n",
    "print(\"Coauthorship statistics:\\n\")\n",
    "degree_df.describe()"
   ]
  },
  {
   "cell_type": "code",
   "execution_count": 5,
   "metadata": {},
   "outputs": [
    {
     "name": "stdout",
     "output_type": "stream",
     "text": [
      "Rank by number of coauthors:\n"
     ]
    },
    {
     "data": {
      "text/html": [
       "<div>\n",
       "<style scoped>\n",
       "    .dataframe tbody tr th:only-of-type {\n",
       "        vertical-align: middle;\n",
       "    }\n",
       "\n",
       "    .dataframe tbody tr th {\n",
       "        vertical-align: top;\n",
       "    }\n",
       "\n",
       "    .dataframe thead th {\n",
       "        text-align: right;\n",
       "    }\n",
       "</style>\n",
       "<table border=\"1\" class=\"dataframe\">\n",
       "  <thead>\n",
       "    <tr style=\"text-align: right;\">\n",
       "      <th></th>\n",
       "      <th>Num_Coauthors</th>\n",
       "      <th>a.name</th>\n",
       "    </tr>\n",
       "  </thead>\n",
       "  <tbody>\n",
       "    <tr>\n",
       "      <th>491</th>\n",
       "      <td>30581</td>\n",
       "      <td>J. Zhang</td>\n",
       "    </tr>\n",
       "    <tr>\n",
       "      <th>2440</th>\n",
       "      <td>27253</td>\n",
       "      <td>H. Kim</td>\n",
       "    </tr>\n",
       "    <tr>\n",
       "      <th>8488</th>\n",
       "      <td>26742</td>\n",
       "      <td>L. Zhang</td>\n",
       "    </tr>\n",
       "    <tr>\n",
       "      <th>6271</th>\n",
       "      <td>25869</td>\n",
       "      <td>H. Wang</td>\n",
       "    </tr>\n",
       "    <tr>\n",
       "      <th>645</th>\n",
       "      <td>24633</td>\n",
       "      <td>J. Wang</td>\n",
       "    </tr>\n",
       "  </tbody>\n",
       "</table>\n",
       "</div>"
      ],
      "text/plain": [
       "      Num_Coauthors    a.name\n",
       "491           30581  J. Zhang\n",
       "2440          27253    H. Kim\n",
       "8488          26742  L. Zhang\n",
       "6271          25869   H. Wang\n",
       "645           24633   J. Wang"
      ]
     },
     "execution_count": 5,
     "metadata": {},
     "output_type": "execute_result"
    }
   ],
   "source": [
    "print(\"Rank by number of coauthors:\")\n",
    "df_coauthors.sort_values('Num_Coauthors', ascending=False).head(5)\n"
   ]
  },
  {
   "cell_type": "markdown",
   "metadata": {},
   "source": [
    "#### Number of coauthors in different communities"
   ]
  },
  {
   "cell_type": "code",
   "execution_count": 5,
   "metadata": {},
   "outputs": [
    {
     "name": "stdout",
     "output_type": "stream",
     "text": [
      "Starting query... Done (3.01 minutes).\n",
      "Coauthorship statistics:\n",
      "\n"
     ]
    },
    {
     "data": {
      "text/html": [
       "<div>\n",
       "<style scoped>\n",
       "    .dataframe tbody tr th:only-of-type {\n",
       "        vertical-align: middle;\n",
       "    }\n",
       "\n",
       "    .dataframe tbody tr th {\n",
       "        vertical-align: top;\n",
       "    }\n",
       "\n",
       "    .dataframe thead th {\n",
       "        text-align: right;\n",
       "    }\n",
       "</style>\n",
       "<table border=\"1\" class=\"dataframe\">\n",
       "  <thead>\n",
       "    <tr style=\"text-align: right;\">\n",
       "      <th></th>\n",
       "      <th>Num_Coauthors_In_Different_Community</th>\n",
       "    </tr>\n",
       "  </thead>\n",
       "  <tbody>\n",
       "    <tr>\n",
       "      <th>count</th>\n",
       "      <td>242468.000000</td>\n",
       "    </tr>\n",
       "    <tr>\n",
       "      <th>mean</th>\n",
       "      <td>67.208263</td>\n",
       "    </tr>\n",
       "    <tr>\n",
       "      <th>std</th>\n",
       "      <td>243.571189</td>\n",
       "    </tr>\n",
       "    <tr>\n",
       "      <th>min</th>\n",
       "      <td>1.000000</td>\n",
       "    </tr>\n",
       "    <tr>\n",
       "      <th>25%</th>\n",
       "      <td>4.000000</td>\n",
       "    </tr>\n",
       "    <tr>\n",
       "      <th>50%</th>\n",
       "      <td>12.000000</td>\n",
       "    </tr>\n",
       "    <tr>\n",
       "      <th>75%</th>\n",
       "      <td>39.000000</td>\n",
       "    </tr>\n",
       "    <tr>\n",
       "      <th>max</th>\n",
       "      <td>10648.000000</td>\n",
       "    </tr>\n",
       "  </tbody>\n",
       "</table>\n",
       "</div>"
      ],
      "text/plain": [
       "       Num_Coauthors_In_Different_Community\n",
       "count                         242468.000000\n",
       "mean                              67.208263\n",
       "std                              243.571189\n",
       "min                                1.000000\n",
       "25%                                4.000000\n",
       "50%                               12.000000\n",
       "75%                               39.000000\n",
       "max                            10648.000000"
      ]
     },
     "execution_count": 5,
     "metadata": {},
     "output_type": "execute_result"
    }
   ],
   "source": [
    "query = \"\"\"MATCH (a:NatureAuthor)-[:COAUTHOR]-(b)\n",
    "WHERE NOT b.louvain[3] = a.louvain[3]\n",
    "WITH a, size(collect(b)) AS Num_Coauthors_In_Different_Community\n",
    "RETURN a.name, Num_Coauthors_In_Different_Community\"\"\"\n",
    "\n",
    "df_diff_community = query_to_df(query, graph)\n",
    "degree_df = df_diff_community['Num_Coauthors_In_Different_Community']\n",
    "\n",
    "print(\"Coauthorship statistics:\\n\")\n",
    "df_diff_community.describe()"
   ]
  },
  {
   "cell_type": "code",
   "execution_count": 40,
   "metadata": {},
   "outputs": [
    {
     "name": "stdout",
     "output_type": "stream",
     "text": [
      "Rank by number of coauthors in different communities:\n"
     ]
    },
    {
     "data": {
      "text/html": [
       "<div>\n",
       "<style scoped>\n",
       "    .dataframe tbody tr th:only-of-type {\n",
       "        vertical-align: middle;\n",
       "    }\n",
       "\n",
       "    .dataframe tbody tr th {\n",
       "        vertical-align: top;\n",
       "    }\n",
       "\n",
       "    .dataframe thead th {\n",
       "        text-align: right;\n",
       "    }\n",
       "</style>\n",
       "<table border=\"1\" class=\"dataframe\">\n",
       "  <thead>\n",
       "    <tr style=\"text-align: right;\">\n",
       "      <th></th>\n",
       "      <th>Num_Coauthors_In_Different_Community</th>\n",
       "      <th>a.name</th>\n",
       "    </tr>\n",
       "  </thead>\n",
       "  <tbody>\n",
       "    <tr>\n",
       "      <th>197893</th>\n",
       "      <td>10648</td>\n",
       "      <td>Wei Li</td>\n",
       "    </tr>\n",
       "    <tr>\n",
       "      <th>200893</th>\n",
       "      <td>8335</td>\n",
       "      <td>Yang Liu</td>\n",
       "    </tr>\n",
       "    <tr>\n",
       "      <th>45903</th>\n",
       "      <td>8249</td>\n",
       "      <td>H. Wang</td>\n",
       "    </tr>\n",
       "    <tr>\n",
       "      <th>133356</th>\n",
       "      <td>8118</td>\n",
       "      <td>L. Zhang</td>\n",
       "    </tr>\n",
       "    <tr>\n",
       "      <th>192443</th>\n",
       "      <td>8061</td>\n",
       "      <td>Wei Wang</td>\n",
       "    </tr>\n",
       "  </tbody>\n",
       "</table>\n",
       "</div>"
      ],
      "text/plain": [
       "        Num_Coauthors_In_Different_Community    a.name\n",
       "197893                                 10648    Wei Li\n",
       "200893                                  8335  Yang Liu\n",
       "45903                                   8249   H. Wang\n",
       "133356                                  8118  L. Zhang\n",
       "192443                                  8061  Wei Wang"
      ]
     },
     "execution_count": 40,
     "metadata": {},
     "output_type": "execute_result"
    }
   ],
   "source": [
    "print(\"Rank by number of coauthors in different communities:\")\n",
    "df_diff_community.sort_values('Num_Coauthors_In_Different_Community', ascending=False).head(5)\n"
   ]
  },
  {
   "cell_type": "markdown",
   "metadata": {},
   "source": [
    "#### Proportion of coauthors in different communities"
   ]
  },
  {
   "cell_type": "code",
   "execution_count": 6,
   "metadata": {},
   "outputs": [
    {
     "data": {
      "text/html": [
       "<div>\n",
       "<style scoped>\n",
       "    .dataframe tbody tr th:only-of-type {\n",
       "        vertical-align: middle;\n",
       "    }\n",
       "\n",
       "    .dataframe tbody tr th {\n",
       "        vertical-align: top;\n",
       "    }\n",
       "\n",
       "    .dataframe thead th {\n",
       "        text-align: right;\n",
       "    }\n",
       "</style>\n",
       "<table border=\"1\" class=\"dataframe\">\n",
       "  <thead>\n",
       "    <tr style=\"text-align: right;\">\n",
       "      <th></th>\n",
       "      <th>Num_Coauthors</th>\n",
       "      <th>a.name</th>\n",
       "    </tr>\n",
       "  </thead>\n",
       "  <tbody>\n",
       "    <tr>\n",
       "      <th>0</th>\n",
       "      <td>430</td>\n",
       "      <td>Zev Rosenwaks</td>\n",
       "    </tr>\n",
       "    <tr>\n",
       "      <th>1</th>\n",
       "      <td>290</td>\n",
       "      <td>David R. McClay</td>\n",
       "    </tr>\n",
       "    <tr>\n",
       "      <th>2</th>\n",
       "      <td>60</td>\n",
       "      <td>Efrain C. Azmitia</td>\n",
       "    </tr>\n",
       "    <tr>\n",
       "      <th>3</th>\n",
       "      <td>360</td>\n",
       "      <td>Robert P. Schleimer</td>\n",
       "    </tr>\n",
       "    <tr>\n",
       "      <th>4</th>\n",
       "      <td>433</td>\n",
       "      <td>Rosanna W. Peeling</td>\n",
       "    </tr>\n",
       "  </tbody>\n",
       "</table>\n",
       "</div>"
      ],
      "text/plain": [
       "   Num_Coauthors               a.name\n",
       "0            430        Zev Rosenwaks\n",
       "1            290      David R. McClay\n",
       "2             60    Efrain C. Azmitia\n",
       "3            360  Robert P. Schleimer\n",
       "4            433   Rosanna W. Peeling"
      ]
     },
     "execution_count": 6,
     "metadata": {},
     "output_type": "execute_result"
    }
   ],
   "source": [
    "df_coauthors.head(5)"
   ]
  },
  {
   "cell_type": "code",
   "execution_count": 7,
   "metadata": {},
   "outputs": [
    {
     "data": {
      "text/html": [
       "<div>\n",
       "<style scoped>\n",
       "    .dataframe tbody tr th:only-of-type {\n",
       "        vertical-align: middle;\n",
       "    }\n",
       "\n",
       "    .dataframe tbody tr th {\n",
       "        vertical-align: top;\n",
       "    }\n",
       "\n",
       "    .dataframe thead th {\n",
       "        text-align: right;\n",
       "    }\n",
       "</style>\n",
       "<table border=\"1\" class=\"dataframe\">\n",
       "  <thead>\n",
       "    <tr style=\"text-align: right;\">\n",
       "      <th></th>\n",
       "      <th>Num_Coauthors_In_Different_Community</th>\n",
       "      <th>a.name</th>\n",
       "    </tr>\n",
       "  </thead>\n",
       "  <tbody>\n",
       "    <tr>\n",
       "      <th>0</th>\n",
       "      <td>20</td>\n",
       "      <td>Bruce E. White</td>\n",
       "    </tr>\n",
       "    <tr>\n",
       "      <th>1</th>\n",
       "      <td>26</td>\n",
       "      <td>Nils-Erik Heldin</td>\n",
       "    </tr>\n",
       "    <tr>\n",
       "      <th>2</th>\n",
       "      <td>3</td>\n",
       "      <td>Alex Klemm</td>\n",
       "    </tr>\n",
       "    <tr>\n",
       "      <th>3</th>\n",
       "      <td>3</td>\n",
       "      <td>Pei-Song Gao</td>\n",
       "    </tr>\n",
       "    <tr>\n",
       "      <th>4</th>\n",
       "      <td>3</td>\n",
       "      <td>Edward James Morgan</td>\n",
       "    </tr>\n",
       "  </tbody>\n",
       "</table>\n",
       "</div>"
      ],
      "text/plain": [
       "   Num_Coauthors_In_Different_Community               a.name\n",
       "0                                    20       Bruce E. White\n",
       "1                                    26     Nils-Erik Heldin\n",
       "2                                     3           Alex Klemm\n",
       "3                                     3         Pei-Song Gao\n",
       "4                                     3  Edward James Morgan"
      ]
     },
     "execution_count": 7,
     "metadata": {},
     "output_type": "execute_result"
    }
   ],
   "source": [
    "df_diff_community.head(5)"
   ]
  },
  {
   "cell_type": "code",
   "execution_count": null,
   "metadata": {},
   "outputs": [],
   "source": []
  },
  {
   "cell_type": "markdown",
   "metadata": {},
   "source": [
    "#### Number of coauthors affiliated with different organizations"
   ]
  },
  {
   "cell_type": "code",
   "execution_count": null,
   "metadata": {},
   "outputs": [
    {
     "name": "stdout",
     "output_type": "stream",
     "text": [
      "Starting query... "
     ]
    }
   ],
   "source": [
    "query = \"\"\"MATCH (a:NatureAuthor)-[:AFFILIATED_WITH]-(b)\n",
    "WITH a, collect(b) as organizations\n",
    "RETURN a.name, organizations\"\"\"\n",
    "\n",
    "df = query_to_df(query, graph)"
   ]
  },
  {
   "cell_type": "code",
   "execution_count": 36,
   "metadata": {},
   "outputs": [
    {
     "data": {
      "text/plain": [
       "[(_243856022:Organization {name: '#N#a#N#Freescale Semiconductor Incorporated, Advanced Products Research and Development Laboratory, Austin, Texas 78721, USA #N#'}),\n",
       " (_16187995:Organization {name: 'Digital DNA Labs., Motorola Inc., Austin, TX, USA'}),\n",
       " (_235152802:Organization {name: 'DigitalDNA Laboratories, Semiconductor Products Sector, Motorola, Austin, Texas 78721'}),\n",
       " (_227931243:Organization {name: 'Technology Solutions Organization, Motorola SPS, Austin, TX 78721, USA'}),\n",
       " (_197919844:Organization {name: 'Digital DNA Laboratories, Motorola, Austin, TX 78721, U.S.A'}),\n",
       " (_197070806:Organization {name: 'Motorola, Materials Research and Strategic Technologies , 3501 Ed Bluestein Blvd., MD-K10, Austin, Texas, 78721, U.S.A. '}),\n",
       " (_178741015:Organization {name: 'Motorola, Inc., Advanced Products Research and Development Laboratory Austin, TX 78721'}),\n",
       " (_176376679:Organization {name: 'Digital DNA Lab., APRDL, Austin, TX, USA'}),\n",
       " (_175188731:Organization {name: 'Motorola Digital DNA Laboratories, Austin, TX, USA'}),\n",
       " (_60000558:Organization {name: 'DigitalDNA Labs., Motorola Inc., Austin, TX, USA'}),\n",
       " (_167562424:Organization {name: 'Digital DNA Laboratories, Motorola, Austin, TX 78721, U.S.A.'}),\n",
       " (_46532851:Organization {name: 'Adv. Products Res. & Dev. Lab., Motorola, Austin, TX, USA'}),\n",
       " (_7143745:Organization {name: 'Motorola Digital DNATM Labs., Austin, TX, USA'}),\n",
       " (_14929063:Organization {name: 'Motorola Material and Structures Laboratories, 3501 Ed Bluesten Blvd Austin, TX'}),\n",
       " (_25946718:Organization {name: 'Mater. Res. & Strategic Technol., Motorola Inc., Austin, TX, USA'}),\n",
       " (_26296581:Organization {name: 'Adv. Products R&D Lab., Motorola Inc., Austin, TX, USA'}),\n",
       " (_52504990:Organization {name: 'Motorola Material and Structures Laboratories, Austin, TX'}),\n",
       " (_60661545:Organization {name: '#N#a#N#Freescale Semiconductor Incorporated, Advanced Products Research and Development Laboratory, #N#'}),\n",
       " (_463649:Organization {name: 'Motorola Inc., Austin, TX, USA'}),\n",
       " (_99960707:Organization {name: 'Materials and Structures laboratory, Digital DNA Labs, Motorola SPS, Austin TX'}),\n",
       " (_103244538:Organization {name: 'Materials Research and Strategic Technologies, Motorola, 3501 Ed Bluestein Blvd., MD K: 10, Austin,TX 78721, USA'}),\n",
       " (_111567425:Organization {name: 'E. Elliot Road, MD:EL740, Tempe, Arizona 85284, USA'}),\n",
       " (_120943346:Organization {name: 'Adv. Process R&D Lab., Motorola Inc., Austin, TX, USA'}),\n",
       " (_124951813:Organization {name: 'Motorola DigitalDNA Laboratories '}),\n",
       " (_130986045:Organization {name: 'Materials Research and Strategic Technologies, Motorola, Austin, Texas 78721'}),\n",
       " (_142221788:Organization {name: 'Technol. Solutions Organ., Motorola SPS, Austin, TX, USA'}),\n",
       " (_149651889:Organization {name: 'Adv. Products R&D Labs., Austin, TX, USA'}),\n",
       " (_150868399:Organization {name: 'Advanced Product Research and Development Lab, Motorola Inc. MD: K10 Austin, TX 78721, USA'})]"
      ]
     },
     "execution_count": 36,
     "metadata": {},
     "output_type": "execute_result"
    }
   ],
   "source": [
    "df['organizations'][0]"
   ]
  },
  {
   "cell_type": "markdown",
   "metadata": {},
   "source": [
    "#### Cross-cluster and intra-cluster edges"
   ]
  },
  {
   "cell_type": "code",
   "execution_count": 4,
   "metadata": {},
   "outputs": [
    {
     "name": "stdout",
     "output_type": "stream",
     "text": [
      "Starting query... Done (11.96 minutes).\n"
     ]
    }
   ],
   "source": [
    "query = \"\"\"call apoc.export.csv.query(\"\n",
    "\n",
    "// denominator\n",
    "\n",
    "MATCH (u:NatureAuthor)\n",
    "\n",
    "MATCH (u)-[e:COAUTHOR]-(b:NatureAuthor)\n",
    "\n",
    "WITH e.strength AS weight, u, COUNT(b) AS k_u\n",
    "\n",
    "WITH u, toFloat(sum(weight*k_u))/sum(k_u) AS den\n",
    "\n",
    "\n",
    "\n",
    "// intracommunity focus\n",
    "\n",
    "OPTIONAL MATCH (u)-[e:COAUTHOR]-(b:NatureAuthor)\n",
    "\n",
    "WHERE last(b.louvain) = last(u.louvain)\n",
    "\n",
    "WITH den, u, COUNT(b) AS k_intra_u, CASE WHEN e IS NULL THEN 0 ELSE e.strength END AS weight\n",
    "\n",
    "WITH den, u, CASE WHEN sum(k_intra_u)=0 THEN 0 ELSE toFloat(sum(weight*k_intra_u))/sum(k_intra_u) END AS num\n",
    "\n",
    "WITH den, u, CASE WHEN den=0 THEN 0 ELSE num/den END AS NatureIntraCommunityFocus\n",
    "\n",
    "WITH den, u, NatureIntraCommunityFocus\n",
    "\n",
    "\n",
    "\n",
    "// intercommunity focus\n",
    "\n",
    "OPTIONAL MATCH (u)-[e:COAUTHOR]-(b:NatureAuthor)\n",
    "\n",
    "WHERE last(b.louvain) <> last(u.louvain)\n",
    "\n",
    "WITH den, u, NatureIntraCommunityFocus, COUNT(b) AS k_inter_u, CASE WHEN e IS NULL THEN 0 ELSE e.strength END AS weight\n",
    "\n",
    "WITH den, u, NatureIntraCommunityFocus, CASE WHEN sum(k_inter_u)=0 THEN 0 ELSE toFloat(sum(weight*k_inter_u))/sum(k_inter_u) END AS num\n",
    "\n",
    "WITH u, NatureIntraCommunityFocus, CASE WHEN den=0 THEN 0 ELSE num/den END AS NatureInterCommunityFocus\n",
    "\n",
    "\n",
    "\n",
    "RETURN u.name, NatureIntraCommunityFocus, NatureInterCommunityFocus\n",
    "\n",
    "\",\"/import/result/author_focus.csv\",{})\"\"\"\n",
    "\n",
    "df_community_focus = query_to_df(query, graph)"
   ]
  },
  {
   "cell_type": "markdown",
   "metadata": {},
   "source": [
    "#### Professor + Professor: Two last authors"
   ]
  },
  {
   "cell_type": "code",
   "execution_count": 20,
   "metadata": {},
   "outputs": [
    {
     "name": "stdout",
     "output_type": "stream",
     "text": [
      "Starting query... Done (0.00 minutes).\n"
     ]
    }
   ],
   "source": [
    "query = \"\"\"\n",
    "MATCH (a:Top42Author)-[r:AUTHORED]-(q:QUANTA)\n",
    "RETURN a.name, SUM(CASE WHEN r.is_last_author THEN 1 ELSE 0 END)/COUNT(r) as pct_last_author\n",
    "LIMIT 5\n",
    "\"\"\"\n",
    "\n",
    "df_prof_small = query_to_df(query, graph)"
   ]
  },
  {
   "cell_type": "code",
   "execution_count": 21,
   "metadata": {},
   "outputs": [
    {
     "data": {
      "text/html": [
       "<div>\n",
       "<style scoped>\n",
       "    .dataframe tbody tr th:only-of-type {\n",
       "        vertical-align: middle;\n",
       "    }\n",
       "\n",
       "    .dataframe tbody tr th {\n",
       "        vertical-align: top;\n",
       "    }\n",
       "\n",
       "    .dataframe thead th {\n",
       "        text-align: right;\n",
       "    }\n",
       "</style>\n",
       "<table border=\"1\" class=\"dataframe\">\n",
       "  <thead>\n",
       "    <tr style=\"text-align: right;\">\n",
       "      <th></th>\n",
       "    </tr>\n",
       "  </thead>\n",
       "  <tbody>\n",
       "  </tbody>\n",
       "</table>\n",
       "</div>"
      ],
      "text/plain": [
       "Empty DataFrame\n",
       "Columns: []\n",
       "Index: []"
      ]
     },
     "execution_count": 21,
     "metadata": {},
     "output_type": "execute_result"
    }
   ],
   "source": [
    "df_prof_small.head(5)"
   ]
  },
  {
   "cell_type": "code",
   "execution_count": 6,
   "metadata": {},
   "outputs": [
    {
     "data": {
      "text/html": [
       "<div>\n",
       "<style scoped>\n",
       "    .dataframe tbody tr th:only-of-type {\n",
       "        vertical-align: middle;\n",
       "    }\n",
       "\n",
       "    .dataframe tbody tr th {\n",
       "        vertical-align: top;\n",
       "    }\n",
       "\n",
       "    .dataframe thead th {\n",
       "        text-align: right;\n",
       "    }\n",
       "</style>\n",
       "<table border=\"1\" class=\"dataframe\">\n",
       "  <thead>\n",
       "    <tr style=\"text-align: right;\">\n",
       "      <th></th>\n",
       "      <th>a.name</th>\n",
       "      <th>pct_last_author</th>\n",
       "    </tr>\n",
       "  </thead>\n",
       "  <tbody>\n",
       "  </tbody>\n",
       "</table>\n",
       "</div>"
      ],
      "text/plain": [
       "Empty DataFrame\n",
       "Columns: [a.name, pct_last_author]\n",
       "Index: []"
      ]
     },
     "execution_count": 6,
     "metadata": {},
     "output_type": "execute_result"
    }
   ],
   "source": [
    "df_nonzero = df_prof_small[df_prof_small['pct_last_author'] != 0]\n",
    "df_nonzero[df_nonzero['pct_last_author'] != 1]"
   ]
  },
  {
   "cell_type": "code",
   "execution_count": 7,
   "metadata": {},
   "outputs": [
    {
     "name": "stdout",
     "output_type": "stream",
     "text": [
      "Starting query... Done (0.59 minutes).\n"
     ]
    }
   ],
   "source": [
    "query = \"\"\"\n",
    "MATCH (b)-[:COAUTHOR]-(a:Top42Author)-[r:AUTHORED]-(q:Quanta)\n",
    "WHERE q.year > 2017\n",
    "WITH a, collect(b) as candidates, SUM(CASE WHEN r.is_last_author THEN 1 ELSE 0 END)/COUNT(r) as pct_last_author\n",
    "\n",
    "RETURN a, size(collect(b)) AS prof_connections\n",
    "\"\"\"\n",
    "\n",
    "df_small_conn = query_to_df(query, graph)"
   ]
  },
  {
   "cell_type": "code",
   "execution_count": 9,
   "metadata": {},
   "outputs": [
    {
     "data": {
      "text/html": [
       "<div>\n",
       "<style scoped>\n",
       "    .dataframe tbody tr th:only-of-type {\n",
       "        vertical-align: middle;\n",
       "    }\n",
       "\n",
       "    .dataframe tbody tr th {\n",
       "        vertical-align: top;\n",
       "    }\n",
       "\n",
       "    .dataframe thead th {\n",
       "        text-align: right;\n",
       "    }\n",
       "</style>\n",
       "<table border=\"1\" class=\"dataframe\">\n",
       "  <thead>\n",
       "    <tr style=\"text-align: right;\">\n",
       "      <th></th>\n",
       "    </tr>\n",
       "  </thead>\n",
       "  <tbody>\n",
       "  </tbody>\n",
       "</table>\n",
       "</div>"
      ],
      "text/plain": [
       "Empty DataFrame\n",
       "Columns: []\n",
       "Index: []"
      ]
     },
     "execution_count": 9,
     "metadata": {},
     "output_type": "execute_result"
    }
   ],
   "source": [
    "df_small_conn"
   ]
  },
  {
   "cell_type": "code",
   "execution_count": null,
   "metadata": {},
   "outputs": [],
   "source": [
    "query = \"\"\"\n",
    "MATCH (b)-[c:COAUTHOR]-(a:Top42Author)-[r:AUTHORED]-(q:Quanta)\n",
    "WHERE q.year > 2016 \n",
    "WITH a, b, collect(a) AS candidates, SUM(CASE WHEN r.is_last_author THEN 1 ELSE 0 END)/COUNT(r) as pct_last_author\n",
    "WHERE pct_last_author > .25 AND b in candidates\n",
    "RETURN a, size(collect(b)) AS prof_connections\n",
    "\"\"\""
   ]
  },
  {
   "cell_type": "code",
   "execution_count": null,
   "metadata": {},
   "outputs": [],
   "source": []
  },
  {
   "cell_type": "code",
   "execution_count": null,
   "metadata": {},
   "outputs": [
    {
     "name": "stdout",
     "output_type": "stream",
     "text": [
      "Starting query... "
     ]
    }
   ],
   "source": [
    "query = \"\"\"call apoc.periodic.iterate(\n",
    "\"MATCH (a:Top42Author)-[r:AUTHORED]-(q:Quanta)\n",
    "RETURN a, r\",\n",
    "\"MATCH (a)\n",
    "WITH a, SUM(CASE WHEN r.is_last_author THEN 1 ELSE 0 END)/COUNT(r) as pct_last_author\n",
    "SET a.pct_last_author = pct_last_author\", {batchSize:100, parallel:true})\n",
    "\"\"\"\n",
    "\n",
    "df_last_author = query_to_df(query, graph)"
   ]
  },
  {
   "cell_type": "code",
   "execution_count": 10,
   "metadata": {},
   "outputs": [
    {
     "data": {
      "text/html": [
       "<div>\n",
       "<style scoped>\n",
       "    .dataframe tbody tr th:only-of-type {\n",
       "        vertical-align: middle;\n",
       "    }\n",
       "\n",
       "    .dataframe tbody tr th {\n",
       "        vertical-align: top;\n",
       "    }\n",
       "\n",
       "    .dataframe thead th {\n",
       "        text-align: right;\n",
       "    }\n",
       "</style>\n",
       "<table border=\"1\" class=\"dataframe\">\n",
       "  <thead>\n",
       "    <tr style=\"text-align: right;\">\n",
       "      <th></th>\n",
       "      <th>batch</th>\n",
       "      <th>batches</th>\n",
       "      <th>committedOperations</th>\n",
       "      <th>errorMessages</th>\n",
       "      <th>failedBatches</th>\n",
       "      <th>failedOperations</th>\n",
       "      <th>operations</th>\n",
       "      <th>retries</th>\n",
       "      <th>timeTaken</th>\n",
       "      <th>total</th>\n",
       "      <th>wasTerminated</th>\n",
       "    </tr>\n",
       "  </thead>\n",
       "  <tbody>\n",
       "    <tr>\n",
       "      <th>0</th>\n",
       "      <td>{'total': 13, 'committed': 13, 'failed': 0, 'e...</td>\n",
       "      <td>13</td>\n",
       "      <td>1206</td>\n",
       "      <td>{}</td>\n",
       "      <td>0</td>\n",
       "      <td>0</td>\n",
       "      <td>{'total': 1206, 'committed': 1206, 'failed': 0...</td>\n",
       "      <td>0</td>\n",
       "      <td>0</td>\n",
       "      <td>1206</td>\n",
       "      <td>False</td>\n",
       "    </tr>\n",
       "  </tbody>\n",
       "</table>\n",
       "</div>"
      ],
      "text/plain": [
       "                                               batch  batches  \\\n",
       "0  {'total': 13, 'committed': 13, 'failed': 0, 'e...       13   \n",
       "\n",
       "   committedOperations errorMessages  failedBatches  failedOperations  \\\n",
       "0                 1206            {}              0                 0   \n",
       "\n",
       "                                          operations  retries  timeTaken  \\\n",
       "0  {'total': 1206, 'committed': 1206, 'failed': 0...        0          0   \n",
       "\n",
       "   total  wasTerminated  \n",
       "0   1206          False  "
      ]
     },
     "execution_count": 10,
     "metadata": {},
     "output_type": "execute_result"
    }
   ],
   "source": [
    "df_last_author"
   ]
  },
  {
   "cell_type": "code",
   "execution_count": null,
   "metadata": {},
   "outputs": [],
   "source": []
  }
 ],
 "metadata": {
  "kernelspec": {
   "display_name": "Python 3",
   "language": "python",
   "name": "python3"
  },
  "language_info": {
   "codemirror_mode": {
    "name": "ipython",
    "version": 3
   },
   "file_extension": ".py",
   "mimetype": "text/x-python",
   "name": "python",
   "nbconvert_exporter": "python",
   "pygments_lexer": "ipython3",
   "version": "3.6.0"
  }
 },
 "nbformat": 4,
 "nbformat_minor": 2
}
