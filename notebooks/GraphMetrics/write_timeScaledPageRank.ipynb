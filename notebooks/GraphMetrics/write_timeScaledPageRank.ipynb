{
 "cells": [
  {
   "cell_type": "markdown",
   "metadata": {},
   "source": [
    "# Write time-scaled PageRank to all nodes"
   ]
  },
  {
   "cell_type": "code",
   "execution_count": 2,
   "metadata": {},
   "outputs": [],
   "source": [
    "import json\n",
    "import time\n",
    "from functools import reduce\n",
    "\n",
    "import pandas as pd\n",
    "import numpy as np\n",
    "\n",
    "import warnings\n",
    "warnings.simplefilter(action='ignore', category=FutureWarning)\n",
    "from tqdm.autonotebook import tqdm\n",
    "\n",
    "from py2neo import Graph, Node, Relationship"
   ]
  },
  {
   "cell_type": "code",
   "execution_count": 4,
   "metadata": {},
   "outputs": [
    {
     "name": "stdout",
     "output_type": "stream",
     "text": [
      "Connected to graph database with 370,269,897 nodes and 220,155,390 relationships!\n"
     ]
    }
   ],
   "source": [
    "graph = Graph(\"bolt://dev_neo4j:7687\", auth=('neo4j','myneo'))\n",
    "\n",
    "n_nodes = graph.database.primitive_counts['NumberOfNodeIdsInUse']\n",
    "n_relationships = graph.database.primitive_counts['NumberOfRelationshipIdsInUse']\n",
    "print(\"Connected to graph database with {:,} nodes and {:,} relationships!\".format\n",
    "     (n_nodes, n_relationships))\n",
    "\n",
    "def run_query(query, graph, print_query=False, run_query=True, \n",
    "              print_only=False, to_df=False, verbose=True):\n",
    "    df = 1\n",
    "    if print_only: \n",
    "        print_query = True\n",
    "        run_query = False\n",
    "    start_time = time.time()\n",
    "    if print_query:\n",
    "        print(query)\n",
    "    if run_query:\n",
    "        if to_df:\n",
    "            df = graph.run(query).to_data_frame()\n",
    "        else:\n",
    "            graph.run(query)\n",
    "    end_time = time.time()\n",
    "    minutes_elapsed = (end_time-start_time)/60\n",
    "    if verbose:\n",
    "        print(\"Query completed in {:.2f} minutes.\".format(minutes_elapsed))\n",
    "    return df"
   ]
  },
  {
   "cell_type": "code",
   "execution_count": 5,
   "metadata": {},
   "outputs": [
    {
     "data": {
      "application/vnd.jupyter.widget-view+json": {
       "model_id": "d9fe4129216146b8ad67ce0f8c541835",
       "version_major": 2,
       "version_minor": 0
      },
      "text/plain": [
       "HBox(children=(IntProgress(value=0, max=2), HTML(value='')))"
      ]
     },
     "metadata": {},
     "output_type": "display_data"
    },
    {
     "name": "stdout",
     "output_type": "stream",
     "text": [
      "Query completed in 0.90 minutes.\n",
      "Query completed in 0.03 minutes.\n"
     ]
    },
    {
     "ename": "NameError",
     "evalue": "name 'year' is not defined",
     "output_type": "error",
     "traceback": [
      "\u001b[0;31m---------------------------------------------------------------------------\u001b[0m",
      "\u001b[0;31mNameError\u001b[0m                                 Traceback (most recent call last)",
      "\u001b[0;32m<ipython-input-5-786dd144ef78>\u001b[0m in \u001b[0;36m<module>\u001b[0;34m()\u001b[0m\n\u001b[1;32m     39\u001b[0m     \u001b[0mSET\u001b[0m \u001b[0mq\u001b[0m\u001b[0;34m.\u001b[0m\u001b[0mtemporary\u001b[0m \u001b[0;34m=\u001b[0m \u001b[0mABS\u001b[0m\u001b[0;34m(\u001b[0m\u001b[0mq\u001b[0m\u001b[0;34m.\u001b[0m\u001b[0mtemporary\u001b[0m\u001b[0;34m-\u001b[0m\u001b[0;34m{\u001b[0m\u001b[0;34m}\u001b[0m\u001b[0;34m)\u001b[0m\u001b[0;34m/\u001b[0m\u001b[0;34m{\u001b[0m\u001b[0;34m}\u001b[0m\u001b[0;34m\u001b[0m\u001b[0;34m\u001b[0m\u001b[0m\n\u001b[1;32m     40\u001b[0m     ',{{batchSize:10000, parallel:true}});\n\u001b[0;32m---> 41\u001b[0;31m     \"\"\".format(year, avg_case_str, std_case_str)\n\u001b[0m\u001b[1;32m     42\u001b[0m     \u001b[0mrun_query\u001b[0m\u001b[0;34m(\u001b[0m\u001b[0mquery\u001b[0m\u001b[0;34m,\u001b[0m \u001b[0mgraph\u001b[0m\u001b[0;34m,\u001b[0m \u001b[0mprint_only\u001b[0m\u001b[0;34m=\u001b[0m\u001b[0;32mFalse\u001b[0m\u001b[0;34m)\u001b[0m\u001b[0;34m\u001b[0m\u001b[0;34m\u001b[0m\u001b[0m\n\u001b[1;32m     43\u001b[0m \u001b[0;34m\u001b[0m\u001b[0m\n",
      "\u001b[0;31mNameError\u001b[0m: name 'year' is not defined"
     ]
    }
   ],
   "source": [
    "min_year, max_year = 1900, 1901\n",
    "for y in tqdm(range(min_year, max_year+1)):\n",
    "    \n",
    "    # Write PageRank scores considering all nodes from year <= y\n",
    "    query = \"\"\"\n",
    "    CALL algo.pageRank('\n",
    "    MATCH (q:Quanta)-[:PUBLISHED_IN]->(z:Year)\n",
    "    WHERE z.value <= {}\n",
    "    RETURN id(q) as id\n",
    "    ','\n",
    "    MATCH (q1:Quanta)-[:CITES]->(q2:Quanta)\n",
    "    RETURN id(q1) AS source, id(q2) AS target\n",
    "    ',{{graph:'cypher', write:true, writeProperty:\"temporary\"}});\n",
    "    \"\"\".format(y,y)\n",
    "    run_query(query, graph)\n",
    "    \n",
    "    # Calculate reference set statistics for all years <= y\n",
    "    query = \"\"\"\n",
    "    MATCH (y:Year)\n",
    "    WHERE y.value <= {}\n",
    "    MATCH (q:Quanta)-[:PUBLISHED_IN]->(z:Year)\n",
    "    WHERE (z.value<=y.value+1) AND (z.value>=y.value-1)\n",
    "    RETURN y.value as year, avg(q.temporary) as avg, stdev(q.temporary) AS std\n",
    "    ORDER BY y.value DESC;\n",
    "    \"\"\".format(y)\n",
    "    df = run_query(query, graph, to_df=True)\n",
    "    \n",
    "    # Normalize score for each Quanta from year <= y\n",
    "    df['avg_str'] = df.apply(lambda row: 'WHEN {:.0f} THEN {}'.format(row['year'], row['avg']), axis=1)\n",
    "    df['std_str'] = df.apply(lambda row: 'WHEN {:.0f} THEN {}'.format(row['year'], row['std']), axis=1)\n",
    "    avg_case_str = 'CASE q.year ' + reduce(lambda a,b:'{} {}'.format(a,b), df['avg_str']) + ' END'\n",
    "    std_case_str = 'CASE q.year ' + reduce(lambda a,b:'{} {}'.format(a,b), df['std_str']) + ' END'\n",
    "    query = \"\"\"\n",
    "    CALL apoc.periodic.iterate('\n",
    "    MATCH (q:Quanta)-[:PUBLISHED_IN]->(z:Year) \n",
    "    WHERE z.value <= {}\n",
    "    RETURN q\n",
    "    ','\n",
    "    SET q.temporary = ABS(q.temporary-{})/{}\n",
    "    ',{{batchSize:10000, parallel:true}});\n",
    "    \"\"\".format(year, avg_case_str, std_case_str)\n",
    "    run_query(query, graph, print_only=False)\n",
    "    \n",
    "    # Write scores to METRICS_IN relationship\n",
    "    query = \"\"\"\n",
    "    CALL apoc.periodic.iterate('\n",
    "    MATCH (q:Quanta)-[:PUBLISHED_IN]->(z:Year) \n",
    "    WHERE z.value <= {}\n",
    "    RETURN q\n",
    "    ','\n",
    "    MATCH (y:Year)\n",
    "    WHERE y.value = {}\n",
    "    MERGE (q)-[m:METRICS_IN]->(y)\n",
    "    SET m.timeScaledPageRank = q.temporary\n",
    "    ',{batchSize:10000, parallel:true});\n",
    "    \"\"\".format(y,y)\n",
    "    run_query(query, graph, print_only=False)\n"
   ]
  },
  {
   "cell_type": "code",
   "execution_count": null,
   "metadata": {},
   "outputs": [],
   "source": []
  }
 ],
 "metadata": {
  "kernelspec": {
   "display_name": "Python 3",
   "language": "python",
   "name": "python3"
  },
  "language_info": {
   "codemirror_mode": {
    "name": "ipython",
    "version": 3
   },
   "file_extension": ".py",
   "mimetype": "text/x-python",
   "name": "python",
   "nbconvert_exporter": "python",
   "pygments_lexer": "ipython3",
   "version": "3.6.7"
  }
 },
 "nbformat": 4,
 "nbformat_minor": 2
}
