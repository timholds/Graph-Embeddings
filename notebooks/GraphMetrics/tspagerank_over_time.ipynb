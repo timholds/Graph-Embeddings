{
 "cells": [
  {
   "cell_type": "code",
   "execution_count": null,
   "metadata": {},
   "outputs": [],
   "source": [
    "import pandas as pd\n",
    "import json\n",
    "from py2neo import Graph, Node, Relationship\n",
    "import numpy as np\n",
    "import time"
   ]
  },
  {
   "cell_type": "code",
   "execution_count": null,
   "metadata": {},
   "outputs": [],
   "source": [
    "graph = Graph(\"bolt://neo4j-quanta:7687\", auth=('neo4j','myneo'))\n",
    "\n",
    "n_nodes = graph.database.primitive_counts['NumberOfNodeIdsInUse']\n",
    "n_relationships = graph.database.primitive_counts['NumberOfRelationshipIdsInUse']\n",
    "print(\"Connected to graph database with {:,} nodes and {:,} relationships!\".format\n",
    "     (n_nodes, n_relationships))"
   ]
  },
  {
   "cell_type": "code",
   "execution_count": null,
   "metadata": {},
   "outputs": [],
   "source": [
    "# Run ts-PageRank over time\n",
    "start_year, end_year, step = 2008, 2008, 1\n",
    "\n",
    "dfs = []\n",
    "start_time = time.time()\n",
    "for year in range(start_year+1, end_year+2, step):\n",
    "    print(\"Calculating ts-PageRank for all Quanta from < {}\".format(year))\n",
    "    \n",
    "    # First, write standard PageRank scores to each node\n",
    "    print(\"\\tWriting standard PageRank scores...\", end=\" \")\n",
    "    query_start_time = time.time()\n",
    "    query = \"\"\"\n",
    "    CALL algo.pageRank(\n",
    "    'MATCH (p:Quanta) WHERE p.year < {} RETURN id(p) as id',\n",
    "    'MATCH (p1:Quanta)-[:CITES]->(p2:Quanta) RETURN id(p1) as source, id(p2) as target',\n",
    "    {{graph:'cypher', iterations:35, write:true, writeProperty:\"tspr{}\"}});\n",
    "    \"\"\".format(year, year-1)\n",
    "#     print(query)\n",
    "#     graph.run(query)\n",
    "    print(\"Finished ({:.2f} min).\".format((time.time()-query_start_time)/60))\n",
    "    \n",
    "    # Second, calculate the mean and stdev of the PageRank scores\n",
    "    print(\"\\tCalculating mean and stdev of PageRank scores...\", end=\" \")\n",
    "    query_start_time = time.time()    \n",
    "    query = \"\"\"\n",
    "    MATCH (b:Quanta) WHERE b.year = {}\n",
    "    RETURN AVG(b.tspr{}) as avgpr, stDev(b.tspr{}) as stdevpr\n",
    "    \"\"\".format(year-1, year-1, year-1)\n",
    "#     print(query)\n",
    "    df = graph.run(query).to_data_frame()\n",
    "    avg_pagerank = df['avgpr'].iloc[0]\n",
    "    stdev_pagerank = df['stdevpr'].iloc[0]\n",
    "    print(\"Finished ({:.2f} min).\".format((time.time()-query_start_time)/60))    \n",
    "    \n",
    "    # Third, normalize the standard PageRank scores to ts-PageRank\n",
    "    print(\"\\tTime-scaling scores...\", end=\" \")\n",
    "    query_start_time = time.time()\n",
    "    query = \"\"\"\n",
    "    CALL apoc.periodic.iterate(\n",
    "    \"MATCH (p:Quanta) WHERE p.year < {} RETURN p\",\n",
    "    \"SET p.tspr{} = ABS(p.tspr{}-{})/{}\",\n",
    "    {{batchSize:10000, parallel:true}})\n",
    "    \"\"\".format(year, year-1, year-1, avg_pagerank, stdev_pagerank)\n",
    "    print(query)\n",
    "    graph.run(query)\n",
    "    print(\"Finished ({:.2f} min).\".format((time.time()-query_start_time)/60))\n",
    "\n",
    "    \n",
    "print(\"Finished all calculations in {:.2f} minutes.\".format((time.time()-start_time)/60))"
   ]
  },
  {
   "cell_type": "code",
   "execution_count": null,
   "metadata": {},
   "outputs": [],
   "source": [
    "print(query)"
   ]
  },
  {
   "cell_type": "code",
   "execution_count": null,
   "metadata": {},
   "outputs": [],
   "source": [
    "def normalize_and_sort(df):\n",
    "    df['scores_minus_mean'] = df.groupby('year').score - df.groupby('year').score.mean()\n",
    "    df['scaled_scores'] = df.groupby('year').score_minus_mean / df.groupby('year').score.std()\n",
    "    df = df.sort_values(['scaled_scores'], ascending=False).head(10000)\n",
    "    \n",
    "    #df['scores_minus_mean'] = df['score'] - mean\n",
    "    #df['scaled_scores'] = df['scores_minus_mean'].divide(stDev, axis=1)\n",
    "\n",
    "    \n",
    "    return df"
   ]
  },
  {
   "cell_type": "code",
   "execution_count": null,
   "metadata": {},
   "outputs": [],
   "source": [
    "results = normalize_and_sort(df)"
   ]
  }
 ],
 "metadata": {
  "kernelspec": {
   "display_name": "Python 3",
   "language": "python",
   "name": "python3"
  },
  "language_info": {
   "codemirror_mode": {
    "name": "ipython",
    "version": 3
   },
   "file_extension": ".py",
   "mimetype": "text/x-python",
   "name": "python",
   "nbconvert_exporter": "python",
   "pygments_lexer": "ipython3",
   "version": "3.6.6"
  }
 },
 "nbformat": 4,
 "nbformat_minor": 2
}
