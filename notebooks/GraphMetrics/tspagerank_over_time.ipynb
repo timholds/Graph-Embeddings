{
 "cells": [
  {
   "cell_type": "code",
   "execution_count": null,
   "metadata": {},
   "outputs": [],
   "source": [
    "import pandas as pd\n",
    "import json\n",
    "from py2neo import Graph, Node, Relationship\n",
    "import numpy as np\n",
    "import time\n",
    "from functools import reduce\n"
   ]
  },
  {
   "cell_type": "code",
   "execution_count": null,
   "metadata": {},
   "outputs": [],
   "source": [
    "graph = Graph(\"bolt://neo4j-quanta:7687\", auth=('neo4j','myneo'))\n",
    "\n",
    "n_nodes = graph.database.primitive_counts['NumberOfNodeIdsInUse']\n",
    "n_relationships = graph.database.primitive_counts['NumberOfRelationshipIdsInUse']\n",
    "print(\"Connected to graph database with {:,} nodes and {:,} relationships!\".format\n",
    "     (n_nodes, n_relationships))"
   ]
  },
  {
   "cell_type": "code",
   "execution_count": null,
   "metadata": {},
   "outputs": [],
   "source": [
    "start_year, end_year, step = 2008, 2008, 1\n",
    "min_year = 2008\n",
    "reference_bound = 1"
   ]
  },
  {
   "cell_type": "code",
   "execution_count": null,
   "metadata": {},
   "outputs": [],
   "source": [
    "# Write time-series of PageRank values to Quanta\n",
    "print(\"Writing PageRank for {} to {}...\".format(start_year, end_year))\n",
    "\n",
    "start_time = time.time()\n",
    "for year in range(start_year, end_year+1, step):\n",
    "        \n",
    "    # [1] Write standard PageRank values for current-year graph\n",
    "    print(\"\\t{}: Writing standard PageRank values...\".format(year), end=\" \")\n",
    "    query_start_time = time.time()\n",
    "    query = \"\"\"\n",
    "    CALL algo.pageRank(\n",
    "    'MATCH (p:Quanta) WHERE p.year < {} AND p.year > {} RETURN id(p) as id',\n",
    "    'MATCH (p1:Quanta)-[:CITES]->(p2:Quanta) RETURN id(p1) as source, id(p2) as target',\n",
    "    {{graph:'cypher', iterations:35, write:true, writeProperty:\"tspr{}\"}});\n",
    "    \"\"\".format(year+1, min_year-1, year)\n",
    "    print(query)\n",
    "#     graph.run(query)\n",
    "    print(\"Done ({:.2f} min).\".format((time.time()-query_start_time)/60))\n",
    "      \n",
    "    # [2] Collect reference-set normalization values for all years up to the current year\n",
    "    print(\"\\t{}: Calculating reference-set statistics (+/- {} year ** THIS DOESNT WORK!! **)...\".format(year, reference_bound), end=\" \")\n",
    "    query_start_time = time.time()    \n",
    "    query = \"\"\"\n",
    "    MATCH (b:Quanta) WHERE b.year < {} AND b.year > {}\n",
    "    RETURN \n",
    "        b.year as year,\n",
    "        b.year-{} as lower_year, \n",
    "        b.year+{} as upper_year,\n",
    "        AVG(b.tspr{}) as avgpr, \n",
    "        stDev(b.tspr{}) as stdevpr\n",
    "    ORDER BY year DESC\n",
    "    \"\"\".format(year+1, min_year-1, reference_bound, reference_bound, year, year)\n",
    "    print(query)\n",
    "#     df = graph.run(query).to_data_frame()\n",
    "    avg_pagerank = df['avgpr'].iloc[0]\n",
    "    stdev_pagerank = df['stdevpr'].iloc[0]\n",
    "    print(\"Finished ({:.2f} min).\".format((time.time()-query_start_time)/60))  \n",
    "    \n",
    "    # [3] Normalize current-year PageRank values using calculated reference set from current year\n",
    "    print(\"\\t{}: Normalizing to time-scaled PageRank values...\".format(year), end=\" \")\n",
    "    \n",
    "    df['avg_str'] = df.apply(lambda row: 'WHEN {:.0f} THEN {}'.format(row['year'], row['avgpr']), axis=1)\n",
    "    df['std_str'] = df.apply(lambda row: 'WHEN {:.0f} THEN {}'.format(row['year'], row['stdevpr']), axis=1)\n",
    "    avg_case_str = 'CASE p.year ' + reduce(lambda a,b:'{} {}'.format(a,b), df['avg_str']) + ' END'\n",
    "    std_case_str = 'CASE p.year ' + reduce(lambda a,b:'{} {}'.format(a,b), df['std_str']) + ' END'\n",
    "    \n",
    "    query_start_time = time.time()\n",
    "    query = \"\"\"\n",
    "    CALL apoc.periodic.iterate(\n",
    "    \"MATCH (p:Quanta) WHERE p.year < {} AND p.year > {} RETURN p\",\n",
    "    \"SET p.tspr{} = ABS(p.tspr{}-{})/{}\",\n",
    "    {{batchSize:10000, parallel:true}})\n",
    "    \"\"\".format(year+1, min_year-1, year, year, avg_case_str, std_case_str)\n",
    "    print(query)\n",
    "#     graph.run(query)\n",
    "    print(\"Finished ({:.2f} min).\".format((time.time()-query_start_time)/60))        \n",
    "    \n",
    "print(\"Finished everything ({:.2f} min).\".format((time.time()-start_time)/60))"
   ]
  }
 ],
 "metadata": {
  "kernelspec": {
   "display_name": "Python 3",
   "language": "python",
   "name": "python3"
  },
  "language_info": {
   "codemirror_mode": {
    "name": "ipython",
    "version": 3
   },
   "file_extension": ".py",
   "mimetype": "text/x-python",
   "name": "python",
   "nbconvert_exporter": "python",
   "pygments_lexer": "ipython3",
   "version": "3.6.6"
  }
 },
 "nbformat": 4,
 "nbformat_minor": 2
}
