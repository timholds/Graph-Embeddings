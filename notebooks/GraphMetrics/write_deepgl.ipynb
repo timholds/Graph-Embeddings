{
 "cells": [
  {
   "cell_type": "code",
   "execution_count": null,
   "metadata": {},
   "outputs": [],
   "source": [
    "import json\n",
    "import time\n",
    "from functools import reduce\n",
    "\n",
    "import pandas as pd\n",
    "import numpy as np\n",
    "\n",
    "import warnings\n",
    "warnings.simplefilter(action='ignore', category=FutureWarning)\n",
    "from tqdm.autonotebook import tqdm\n",
    "\n",
    "from py2neo import Graph, Node, Relationship"
   ]
  },
  {
   "cell_type": "code",
   "execution_count": null,
   "metadata": {},
   "outputs": [],
   "source": [
    "graph = Graph(\"bolt://dev_neo4j:7687\", auth=('neo4j','myneo'))\n",
    "\n",
    "n_nodes = graph.database.primitive_counts['NumberOfNodeIdsInUse']\n",
    "n_relationships = graph.database.primitive_counts['NumberOfRelationshipIdsInUse']\n",
    "print(\"Connected to graph database with {:,} nodes and {:,} relationships!\".format\n",
    "     (n_nodes, n_relationships))\n",
    "\n",
    "def run_query(query, graph, print_query=False, run_query=True, \n",
    "              print_only=False, to_df=False, verbose=True):\n",
    "    df = 1\n",
    "    if print_only: \n",
    "        print_query = True\n",
    "        run_query = False\n",
    "    start_time = time.time()\n",
    "    if print_query:\n",
    "        print(query)\n",
    "    if run_query:\n",
    "        if to_df:\n",
    "            df = graph.run(query).to_data_frame()\n",
    "        else:\n",
    "            graph.run(query)\n",
    "    end_time = time.time()\n",
    "    minutes_elapsed = (end_time-start_time)/60\n",
    "    if verbose:\n",
    "        print(\"Query completed in {:.2f} minutes.\".format(minutes_elapsed))\n",
    "    return df"
   ]
  },
  {
   "cell_type": "code",
   "execution_count": null,
   "metadata": {},
   "outputs": [],
   "source": [
    "min_year, max_year = 1900, 2020\n",
    "for y in tqdm(range(min_year, max_year+1)):\n",
    "    \n",
    "    print(\"{}...\".format(y))\n",
    "    \n",
    "    # Write DeepGL scores considering all nodes from year <= y\n",
    "    query = \"\"\"\n",
    "    CALL embedding.dl4j.deepWalk('\n",
    "    MATCH (q:Quanta)-[:PUBLISHED_IN]->(z:Year)\n",
    "    WHERE z.year <= {} AND ((:Quanta)-[:CITES]->(q)-[:CITES]->(:Quanta))\n",
    "    RETURN id(q) as id\n",
    "    ','\n",
    "    MATCH (q1:Quanta)-[:CITES]->(q2:Quanta)\n",
    "    RETURN id(q1) AS source, id(q2) AS target\n",
    "    ',{{graph:'cypher', write:true, writeProperty:\"temporary\"}});\n",
    "    \"\"\".format(y)\n",
    "    run_query(query, graph, print_only=True)\n",
    "    \n",
    "    # Calculate reference set statistics for all years <= y\n",
    "    query = \"\"\"\n",
    "    MATCH (y:Year)\n",
    "    WHERE y.year <= {}\n",
    "    MATCH (q:Quanta)-[:PUBLISHED_IN]->(z:Year)\n",
    "    WHERE (z.year<=y.year+1) AND (z.year>=y.yearvalue-1)\n",
    "    RETURN y.year as year, avg(q.temporary) as avg, stdev(q.temporary) AS std\n",
    "    ORDER BY y.yearvalue DESC;\n",
    "    \"\"\".format(y)\n",
    "    df = run_query(query, graph, to_df=True, print_only=True)\n",
    "    \n",
    "    # Normalize score for each Quanta from year <= y\n",
    "    df['avg_str'] = df.apply(lambda row: 'WHEN {:.0f} THEN {}'.format(row['year'], row['avg']), axis=1)\n",
    "    df['std_str'] = df.apply(lambda row: 'WHEN {:.0f} THEN {}'.format(row['year'], row['std']), axis=1)\n",
    "    avg_case_str = 'CASE q.year ' + reduce(lambda a,b:'{} {}'.format(a,b), df['avg_str']) + ' END'\n",
    "    std_case_str = 'CASE q.year ' + reduce(lambda a,b:'{} {}'.format(a,b), df['std_str']) + ' END'\n",
    "    query = \"\"\"\n",
    "    CALL apoc.periodic.iterate('\n",
    "    MATCH (q:Quanta)-[:PUBLISHED_IN]->(z:Year) \n",
    "    WHERE z.year <= {}\n",
    "    RETURN q\n",
    "    ','\n",
    "    SET q.temporary = ABS(q.temporary-{})/{}\n",
    "    ',{{batchSize:10000, parallel:true}});\n",
    "    \"\"\".format(y, avg_case_str, std_case_str)\n",
    "    run_query(query, graph, print_only=True)\n",
    "    \n",
    "    # Write scores to METRICS_IN relationship\n",
    "    query = \"\"\"\n",
    "    CALL apoc.periodic.iterate('\n",
    "    MATCH (q:Quanta)-[:PUBLISHED_IN]->(z:Year) \n",
    "    WHERE z.year <= {}\n",
    "    RETURN q\n",
    "    ','\n",
    "    MATCH (y:Year)\n",
    "    WHERE y.year = {}\n",
    "    MERGE (q)-[m:METRICS_IN]->(y)\n",
    "    SET m.timeScaledPageRank = q.temporary\n",
    "    ',{{batchSize:10000, parallel:true}});\n",
    "    \"\"\".format(y,y)\n",
    "    run_query(query, graph, print_only=True)\n"
   ]
  },
  {
   "cell_type": "code",
   "execution_count": null,
   "metadata": {},
   "outputs": [],
   "source": [
    "CALL apoc.export.csv.query('\n",
    "MATCH (q:Quanta)--(other)\n",
    "RETURN id(q) AS source, id(other) AS target\n",
    "','/import/quanta.edgelist',\n",
    "{quotes:false, d:' ', delimiter:' ', header:false});"
   ]
  },
  {
   "cell_type": "code",
   "execution_count": null,
   "metadata": {},
   "outputs": [],
   "source": [
    "CALL apoc.load.csv('quanta.emb',{sep:\" \"}) YIELD list RETURN head(list) as nodeId, tail(list) as embedding LIMIT 1"
   ]
  }
 ],
 "metadata": {
  "kernelspec": {
   "display_name": "Python 3",
   "language": "python",
   "name": "python3"
  },
  "language_info": {
   "codemirror_mode": {
    "name": "ipython",
    "version": 3
   },
   "file_extension": ".py",
   "mimetype": "text/x-python",
   "name": "python",
   "nbconvert_exporter": "python",
   "pygments_lexer": "ipython3",
   "version": "3.6.7"
  }
 },
 "nbformat": 4,
 "nbformat_minor": 2
}
