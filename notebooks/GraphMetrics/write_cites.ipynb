{
 "cells": [
  {
   "cell_type": "code",
   "execution_count": 28,
   "metadata": {},
   "outputs": [],
   "source": [
    "import json\n",
    "import time\n",
    "from functools import reduce\n",
    "\n",
    "import pandas as pd\n",
    "import numpy as np\n",
    "\n",
    "import warnings\n",
    "warnings.simplefilter(action='ignore', category=FutureWarning)\n",
    "from tqdm.autonotebook import tqdm\n",
    "\n",
    "from py2neo import Graph, Node, Relationship"
   ]
  },
  {
   "cell_type": "code",
   "execution_count": 29,
   "metadata": {},
   "outputs": [
    {
     "name": "stdout",
     "output_type": "stream",
     "text": [
      "Connected to graph database with 370,269,897 nodes and 220,155,390 relationships!\n"
     ]
    }
   ],
   "source": [
    "graph = Graph(\"bolt://dev_neo4j:7687\", auth=('neo4j','myneo'))\n",
    "\n",
    "n_nodes = graph.database.primitive_counts['NumberOfNodeIdsInUse']\n",
    "n_relationships = graph.database.primitive_counts['NumberOfRelationshipIdsInUse']\n",
    "print(\"Connected to graph database with {:,} nodes and {:,} relationships!\".format\n",
    "     (n_nodes, n_relationships))\n",
    "\n",
    "def run_query(query, graph, print_query=False, run_query=True, \n",
    "              print_only=False, to_df=False, verbose=True):\n",
    "    df = 1\n",
    "    if print_only: \n",
    "        print_query = True\n",
    "        run_query = False\n",
    "    start_time = time.time()\n",
    "    if print_query:\n",
    "        print(query)\n",
    "    if run_query:\n",
    "        if to_df:\n",
    "            df = graph.run(query).to_data_frame()\n",
    "        else:\n",
    "            graph.run(query)\n",
    "    end_time = time.time()\n",
    "    minutes_elapsed = (end_time-start_time)/60\n",
    "    if verbose:\n",
    "        print(\"Query completed in {:.2f} minutes.\".format(minutes_elapsed))\n",
    "    return df"
   ]
  },
  {
   "cell_type": "code",
   "execution_count": 48,
   "metadata": {},
   "outputs": [
    {
     "data": {
      "application/vnd.jupyter.widget-view+json": {
       "model_id": "bb4529c371164d51ac3ed34bb8885148",
       "version_major": 2,
       "version_minor": 0
      },
      "text/plain": [
       "HBox(children=(IntProgress(value=0, max=2), HTML(value='')))"
      ]
     },
     "metadata": {},
     "output_type": "display_data"
    },
    {
     "name": "stdout",
     "output_type": "stream",
     "text": [
      "Query completed in 0.68 minutes.\n",
      "Query completed in 0.03 minutes.\n",
      "Query completed in 0.48 minutes.\n",
      "Query completed in 0.57 minutes.\n",
      "Query completed in 0.02 minutes.\n",
      "Query completed in 0.25 minutes.\n",
      "\n"
     ]
    }
   ],
   "source": [
    "query = \"\"\"\n",
    "CALL apoc.periodic.iterate(\"\n",
    "MATCH (q:Quanta)-[:PUBLISHED_IN]->(y:Year)\n",
    "RETURN [q,y] AS ns\n",
    "\",\"\n",
    "WITH head(ns) AS q, last(ns) AS y\n",
    "MATCH (z:Year) WHERE z.value >= y.value\n",
    "MERGE (q)-[m:METRICS_IN]->(z)\n",
    "SET m.cites = size((z)<-[:PUBLISHED_IN]-(:Quanta)-[:CITES]->(q))\",\n",
    "{batchSize:5000, iterateList:true, parallel:false});\n",
    "\"\"\"\n",
    "run_query(query, graph)"
   ]
  }
 ],
 "metadata": {
  "kernelspec": {
   "display_name": "Python 3",
   "language": "python",
   "name": "python3"
  },
  "language_info": {
   "codemirror_mode": {
    "name": "ipython",
    "version": 3
   },
   "file_extension": ".py",
   "mimetype": "text/x-python",
   "name": "python",
   "nbconvert_exporter": "python",
   "pygments_lexer": "ipython3",
   "version": "3.6.7"
  }
 },
 "nbformat": 4,
 "nbformat_minor": 2
}
