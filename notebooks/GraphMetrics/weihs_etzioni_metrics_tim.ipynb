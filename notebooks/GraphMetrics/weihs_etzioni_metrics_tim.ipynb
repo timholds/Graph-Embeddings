{
 "cells": [
  {
   "cell_type": "markdown",
   "metadata": {},
   "source": [
    "# Setup"
   ]
  },
  {
   "cell_type": "code",
   "execution_count": null,
   "metadata": {},
   "outputs": [],
   "source": [
    "from py2neo import Graph, Node, Relationship \n",
    "from tqdm import tqdm\n",
    "import glob, os, time\n",
    "\n",
    "# Test DB\n",
    "graph = Graph(\"bolt://54.88.167.164:7687\", auth=(\"neo4j\", \"myneo\")) \n",
    "# Deployed\n",
    "#graph = Graph(\"bolt://54.174.175.98:7687\", auth=(\"neo4j\", \"myneo\")) \n",
    "\n",
    "n_nodes = graph.database.primitive_counts['NumberOfNodeIdsInUse'] \n",
    "n_relationships = graph.database.primitive_counts['NumberOfRelationshipIdsInUse'] \n",
    "print(\"Connected to graph database with {:,} nodes and {:,} relationships!\".format (n_nodes, n_relationships))"
   ]
  },
  {
   "cell_type": "markdown",
   "metadata": {},
   "source": [
    "# Utility "
   ]
  },
  {
   "cell_type": "code",
   "execution_count": null,
   "metadata": {
    "code_folding": [
     0
    ]
   },
   "outputs": [],
   "source": [
    "def query_to_df(query, graph):\n",
    "    print(\"Starting query...\", end=\" \")\n",
    "    query_start_time = time.time()\n",
    "    df = graph.run(query).to_data_frame()\n",
    "    print(\"Done ({:.2f} minutes).\".format((time.time()-query_start_time)/60))\n",
    "    return df"
   ]
  },
  {
   "cell_type": "code",
   "execution_count": null,
   "metadata": {
    "code_folding": [
     0
    ]
   },
   "outputs": [],
   "source": [
    "def run_query(query, graph, print_query=False, run_query=True, print_only=False, to_df=False, verbose=True): \n",
    "    df = 1\n",
    "\n",
    "    if print_only: \n",
    "        print_query = True \n",
    "        run_query = False \n",
    "    start_time = time.time()    \n",
    "    if print_query: \n",
    "        print(query) \n",
    "    if run_query: \n",
    "        if to_df: \n",
    "            df = graph.run(query).to_data_frame() \n",
    "            end_time = time.time() \n",
    "            minutes_elapsed = (end_time-start_time)/60 \n",
    "        else: \n",
    "            graph.run(query) \n",
    "            end_time = time.time() \n",
    "            minutes_elapsed = (end_time-start_time)/60 \n",
    "    if verbose: \n",
    "        print(\"Query completed in {:.2f} minutes.\".format(minutes_elapsed)) \n",
    "    return df"
   ]
  },
  {
   "cell_type": "code",
   "execution_count": null,
   "metadata": {
    "code_folding": [
     1
    ]
   },
   "outputs": [],
   "source": [
    "# Needed to drop index on y.year first\n",
    "def make_year_constraint():\n",
    "    query = \"\"\"\n",
    "    CREATE CONSTRAINT ON (y:Year) ASSERT y.year IS UNIQUE\n",
    "    \"\"\"\n",
    "    \n",
    "    run_query(query, graph)\n",
    "    \n",
    "#make_year_constraint()"
   ]
  },
  {
   "cell_type": "code",
   "execution_count": null,
   "metadata": {
    "code_folding": [
     0
    ]
   },
   "outputs": [],
   "source": [
    "# All the above functions (minus making year constraint) in one cell for easy ipython import\n",
    "from py2neo import Graph, Node, Relationship \n",
    "from tqdm import tqdm\n",
    "import glob, os, time\n",
    "\n",
    "# Test DB\n",
    "graph = Graph(\"bolt://54.88.167.164:7687\", auth=(\"neo4j\", \"myneo\"))\n",
    "\n",
    "def query_to_df(query, graph):\n",
    "    print(\"Starting query...\", end=\" \")\n",
    "    query_start_time = time.time()\n",
    "    df = graph.run(query).to_data_frame()\n",
    "    print(\"Done ({:.2f} minutes).\".format((time.time()-query_start_time)/60))\n",
    "    return df\n",
    "\n",
    "def run_query(query, graph, print_query=False, run_query=True, print_only=False, to_df=False, verbose=True): \n",
    "    df = 1\n",
    "\n",
    "    if print_only: \n",
    "        print_query = True \n",
    "        run_query = False \n",
    "    start_time = time.time()    \n",
    "    if print_query: \n",
    "        print(query) \n",
    "    if run_query: \n",
    "        if to_df: \n",
    "            df = graph.run(query).to_data_frame() \n",
    "            end_time = time.time() \n",
    "            minutes_elapsed = (end_time-start_time)/60 \n",
    "        else: \n",
    "            graph.run(query) \n",
    "            end_time = time.time() \n",
    "            minutes_elapsed = (end_time-start_time)/60 \n",
    "    if verbose: \n",
    "        print(\"Query completed in {:.2f} minutes.\".format(minutes_elapsed)) \n",
    "    return df"
   ]
  },
  {
   "cell_type": "code",
   "execution_count": null,
   "metadata": {
    "code_folding": [
     0
    ]
   },
   "outputs": [],
   "source": [
    "def create_metrics_in_relt(years):\n",
    "    for year in years:\n",
    "        print('Running query for year {}'.format(str(year)))   \n",
    "        \n",
    "        query = \"\"\"\n",
    "        CALL apoc.periodic.iterate(\n",
    "        \n",
    "        \"MATCH (a:Author)-[:AUTHORED]->(q:Quanta)\n",
    "        WHERE q.year <= $year\n",
    "        RETURN DISTINCT a\",\n",
    "       \n",
    "        \"MATCH (y:Year {{year: $year}})\n",
    "        CREATE (a)-[:METRICS_IN]->(y)\",\n",
    "        \n",
    "        {{batchSize:5000, iterateList:true, parallel:true, params: {{year: {}}} }});\n",
    "        \"\"\".format(year)\n",
    "        \n",
    "        run_query(query, graph, to_df=True)\n",
    "        #df = run_query(query, graph, to_df=True)\n",
    "        #print(df.to_string())\n",
    "\n",
    "#create_metrics_in_relt(years)\n",
    "#metrics_data"
   ]
  },
  {
   "cell_type": "code",
   "execution_count": null,
   "metadata": {
    "code_folding": [
     0
    ]
   },
   "outputs": [],
   "source": [
    "years = range(2009, 2020)"
   ]
  },
  {
   "cell_type": "markdown",
   "metadata": {},
   "source": [
    "# Write (Author)-[:METRICS_IN]-(Year) Metrics "
   ]
  },
  {
   "cell_type": "markdown",
   "metadata": {},
   "source": [
    "## Done on Test DB"
   ]
  },
  {
   "cell_type": "code",
   "execution_count": null,
   "metadata": {},
   "outputs": [],
   "source": [
    "def get_num_properties(prop):\n",
    "    query = \"\"\"\n",
    "    MATCH (:Author)-[m:METRICS_IN]->(y:Year)\n",
    "    WHERE exists(m.{})\n",
    "    RETURN count(*)\n",
    "    \"\"\"\n",
    "    \n",
    "    run_query(query, graph, to_df=True)\n",
    "    \n",
    "num_existing_property = get_num_properties(prop)\n",
    "num_existing_property"
   ]
  },
  {
   "cell_type": "markdown",
   "metadata": {},
   "source": [
    "## Running on Test DB"
   ]
  },
  {
   "cell_type": "code",
   "execution_count": null,
   "metadata": {
    "code_folding": []
   },
   "outputs": [],
   "source": [
    "# Running on cy1\n",
    "def author_citation_count(years):\n",
    "    \"\"\" Total number of citations author has received\n",
    "        Adds m.total_citations to (:Author)-[m:METRICS_IN]->(:Year)\"\"\"\n",
    "    \n",
    "    for year in years:\n",
    "        print('Running query for year {} for {}'.format(str(year), author_citation_count.__name__))\n",
    "        query = \"\"\"\n",
    "        CALL apoc.periodic.iterate(\n",
    "        \n",
    "        \"MATCH (a:Author)-[:AUTHORED]->(q:Quanta)\n",
    "        WHERE q.year <= $year\n",
    "        OPTIONAL MATCH (q)<-[:CITES]-(p:Quanta)\n",
    "        WHERE p.year <= $year\n",
    "        RETURN [a, count(p)] as info\",\n",
    "        \n",
    "        \"WITH head(info) as a, tail(info) as citations\n",
    "        MATCH (y:Year {{year:$year}})<-[m:METRICS_IN]-(a)\n",
    "        SET m.total_citations = citations\",\n",
    "        \n",
    "        {{batchSize:5000, iterateList:true, parallel:true, params: {{year: {}}} }});\n",
    "        \"\"\".format(year)\n",
    "        \n",
    "        run_query(query, graph)\n",
    "\n",
    "#author_citation_count(years)"
   ]
  },
  {
   "cell_type": "markdown",
   "metadata": {},
   "source": [
    "## TODO"
   ]
  },
  {
   "cell_type": "code",
   "execution_count": null,
   "metadata": {
    "code_folding": [
     0
    ]
   },
   "outputs": [],
   "source": [
    "def author_mean_citations_per_paper(years):\n",
    "    for year in years:   \n",
    "        print('Running query for year {}'.format(str(year)))\n",
    "        query = \"\"\"\n",
    "        CALL apoc.periodic.iterate(\n",
    "        \n",
    "        \"MATCH (a:Author)-[:AUTHORED]->(q:Quanta)\n",
    "        WHERE q.year <= $year\n",
    "        OPTIONAL MATCH (q)<-[:CITES]-(p:Quanta)   \n",
    "        WHERE p.year <= $year\n",
    "        RETURN [a, q, p] as info\",\n",
    "\n",
    "        \"WITH info[0] as a, info[1] as q, info[2] as p        \n",
    "        MATCH (a)-[m:METRICS_IN]->(y:Year {{year:$year}})\n",
    "        SET m.mean_citations_per_paper = toFloat(count(p)/count(DISTINCT q))\",\n",
    "    \n",
    "        {{batchSize:5000, iterateList:true, parallel:true, params: {{year: {}}} }});\n",
    "        \"\"\".format(year)\n",
    "        \n",
    "        run_query(query, graph)\n",
    "\n",
    "author_mean_citations_per_paper(years)"
   ]
  },
  {
   "cell_type": "code",
   "execution_count": null,
   "metadata": {
    "code_folding": [
     0
    ]
   },
   "outputs": [],
   "source": [
    "def author_papers_ct(years):\n",
    "    \"\"\" Total number of papers author has published \"\"\"\n",
    "    \n",
    "    for year in years:\n",
    "        print('Running query for year {}'.format(str(year)))\n",
    "        query = \"\"\"\n",
    "        CALL apoc.periodic.iterate(\n",
    "        \n",
    "        \"MATCH (a:Author)-[:AUTHORED]->(q:Quanta)\n",
    "        WHERE q.year <= $year\n",
    "        RETURN [a,count(*)] AS info\",\n",
    "            \n",
    "        \"WITH head(info) AS a, last(info) AS count\n",
    "        MATCH (a)-[m:METRICS_IN]->(y:Year {{year: $year}})\n",
    "        SET m.total_papers = count\",\n",
    "        \n",
    "        {{batchSize:5000, iterateList:true, parallel:true, params: {{year: {}}} }});\n",
    "        \"\"\".format(year, year)\n",
    "\n",
    "        run_query(query, graph)\n",
    "        \n",
    "author_papers_ct(years)"
   ]
  },
  {
   "cell_type": "code",
   "execution_count": null,
   "metadata": {
    "code_folding": [
     0
    ]
   },
   "outputs": [],
   "source": [
    "def author_mean_citations_per_year(years):\n",
    "    for year in years:\n",
    "        print('Running query for year {}'.format(str(year)))\n",
    "\n",
    "        query = \"\"\"\n",
    "        CALL apoc.periodic.iterate(\n",
    "        \n",
    "        \"MATCH (a:Author)-[:AUTHORED]->(q:Quanta)<-[:CITES]-(p:Quanta)\n",
    "        WHERE q.year <= $year and p.year <= $year\n",
    "        WITH a, count(p) as citations, collect(q.year) as years\n",
    "        WITH a, citations, apoc.coll.min(years) as start_year\n",
    "        RETURN [a, citations, start_year] AS info\",\n",
    "        \n",
    "        \"WITH info[0] AS a, info[1] AS citations, info[2] as start_year\n",
    "        MATCH (a)-[m:METRICS_IN]->(y:Year {{year: $year}})\n",
    "        SET m.citations_per_year = toFlat(citations / ($year - start_year))\",\n",
    "        \n",
    "        {{batchSize:5000, iterateList:true, parallel:true, params: {{year: {}}} }});\n",
    "        \"\"\".format(year)\n",
    "\n",
    "        run_query(query, graph)\n",
    "        \n",
    "author_mean_citations_per_year(years)"
   ]
  },
  {
   "cell_type": "code",
   "execution_count": null,
   "metadata": {
    "code_folding": [
     0
    ]
   },
   "outputs": [],
   "source": [
    "def author_age(years):\n",
    "    for year in years:\n",
    "        print('Running query for year {}'.format(str(year)))\n",
    "        query = \"\"\"\n",
    "        CALL apoc.periodic.iterate(\n",
    "        \n",
    "        \"MATCH (a:Author)-[:AUTHORED]->(q:Quanta)\n",
    "        WHERE q.year <= $year\n",
    "        WITH a, collect(q.year) as years\n",
    "        WITH a, apoc.coll.min(years) as start_year\n",
    "        RETURN [a, start_year] AS info\",\n",
    "       \n",
    "        \"WITH head(info) AS a, last(info) AS start_year\n",
    "        MATCH (a)-[m:METRICS_IN]->(y:Year {{year:$year}})\n",
    "        SET m.author_age = $year - start_year\",\n",
    "        \n",
    "        {{batchSize:5000, iterateList:true, parallel:true, params: {{year: {}}} }});\n",
    "        \"\"\".format(year)\n",
    "\n",
    "        run_query(query, graph)\n",
    "    \n",
    "author_age(years)\n"
   ]
  },
  {
   "cell_type": "code",
   "execution_count": null,
   "metadata": {
    "code_folding": [
     0
    ]
   },
   "outputs": [],
   "source": [
    "def author_max_single_paper_citations(years):    \n",
    "    for year in years:\n",
    "        query = \"\"\"\n",
    "        CALL apoc.periodic.iterate(\n",
    "        \"MATCH (a:Author)-[:AUTHORED]->(q:Quanta)<-[:CITES]-(p:Quanta)\n",
    "        WHERE q.year <= $year and p.year <= $year\n",
    "        WITH a, q, count(p) as citations\n",
    "        WITH a, collect(citations) as all_citations\n",
    "        RETURN [a, all_citations] AS info\",\n",
    "\n",
    "        \"WITH head(info) AS a, last(info) AS all_citations\n",
    "        MATCH (a)-[m:METRICS_IN]->(y:Year {{year: $year}})\n",
    "        SET m.max_citations = apoc.coll.max(all_citations)\",\n",
    "        \n",
    "        {{batchSize:5000, iterateList:true, parallel:false, params: {{year: {}}} }});\n",
    "        \"\"\".format(year)\n",
    "\n",
    "        run_query(query, graph)\n",
    "\n",
    "#author_max_single_paper_citations(years)"
   ]
  },
  {
   "cell_type": "code",
   "execution_count": null,
   "metadata": {
    "code_folding": [
     1
    ]
   },
   "outputs": [],
   "source": [
    "# not sure how this reacts to coauthors being added over time\n",
    "def author_recent_num_coauthors(years):\n",
    "    for year in years:\n",
    "        print('Running query for year {}'.format(str(year)))        \n",
    "        query = \"\"\"\n",
    "        CALL apoc.periodic.iterate(\n",
    "        \"MATCH (a:Author)-[:AUTHORED]->(q:Quanta)<-[:AUTHORED]-(b:Author)\n",
    "        WHERE q.year = $year OR q.year = $year - 1 \n",
    "        AND not b.name = a.name\n",
    "        WITH a, count(distinct b) as num_coauthors\n",
    "        RETURN [a, num_coauthors] AS nodes\",\n",
    "\n",
    "        \"WITH head(nodes) AS a, last(nodes) AS num_coauthors\n",
    "        MATCH (a)-[m:METRICS_IN]->(y:Year {{year: $year}})\n",
    "        SET m.recent_coauthor_count = num_coauthors\",\n",
    "        {{batchSize:5000, iterateList:true, parallel:true, params: {{year: {}}} }});\n",
    "        \"\"\".format(year)\n",
    "\n",
    "        run_query(query, graph)\n",
    "        \n",
    "author_recent_num_coauthors(years)"
   ]
  },
  {
   "cell_type": "code",
   "execution_count": null,
   "metadata": {
    "code_folding": [
     0
    ]
   },
   "outputs": [],
   "source": [
    "def author_num_venues_published(years):   \n",
    "    for year in years:\n",
    "        print('Running query for year {}'.format(str(year)))        \n",
    "        query = \"\"\"\n",
    "        CALL apoc.periodic.iterate(\n",
    "        \n",
    "        \"MATCH (a:Author)-[:AUTHORED]->(q:Quanta)\n",
    "        WHERE q.year <= $year\n",
    "        OPTIONAL MATCH (q)-[:PUBLISHED_IN]->(v:Venue)\n",
    "        RETURN [a, count(distinct v)] AS info\",\n",
    "        \n",
    "        \"WITH head(info) AS a, last(info) AS num_venues\n",
    "        MATCH(a)-[m:METRICS_IN]->(y:Year {{year: $year}})\n",
    "        SET m.total_venues = num_venues\",\n",
    "        {{batchSize:5000, iterateList:true, parallel:false, params: {{year: {}}} }});\n",
    "        \"\"\".format(year)\n",
    "\n",
    "        run_query(query, graph)\n",
    "    \n",
    "author_num_venues_published(years)"
   ]
  },
  {
   "cell_type": "markdown",
   "metadata": {},
   "source": [
    "## To be run"
   ]
  },
  {
   "cell_type": "markdown",
   "metadata": {},
   "source": [
    "## Work-In-Progress"
   ]
  },
  {
   "cell_type": "code",
   "execution_count": null,
   "metadata": {},
   "outputs": [],
   "source": [
    "def write_author_start_year():\n",
    "    query = \"\"\"\n",
    "    CALL apoc.periodic.iterate(\n",
    "\n",
    "    \"MATCH (a:Author)-[:AUTHORED]->(q:Quanta)\n",
    "    WITH a, collect(q.year) as years\n",
    "    WITH a, apoc.coll.min(years) as start_year\n",
    "    RETURN [a, start_year] AS info\",\n",
    "\n",
    "    \"WITH head(info) AS a, last(info) AS start_year\n",
    "    SET a.start_year = start_year\n",
    "    {{batchSize:5000, iterateList:true, parallel:true, params: {{year: {}}} }});\n",
    "    \"\"\".format(year)\n",
    "    \n",
    "    run_query(query, graph)\n",
    "    \n",
    "#write_author_start_year()"
   ]
  },
  {
   "cell_type": "code",
   "execution_count": null,
   "metadata": {
    "code_folding": []
   },
   "outputs": [],
   "source": [
    "def author_unweighted_pagerank(years):\n",
    "    ''' Write PageRank scores to author nodes as temporary and then write to metrics edge in 2nd query '''\n",
    "    \n",
    "    for year in years:\n",
    "        print('Writing pagerank values to node for year {}'.format(str(year)))        \n",
    "        \n",
    "        query1 = \"\"\"\n",
    "        CALL algo.pageRank(        \n",
    "        \"MATCH (a:Author)-[:COAUTHOR]-(b:Author)\n",
    "        WHERE a.start_year <= {}\n",
    "        RETURN id(a) as id\",\n",
    "\n",
    "        \"MATCH (a1:Author)-[:COAUTHOR]-(a2:Author)\n",
    "        RETURN id(a1) AS source, id(a2) AS target\",\n",
    "        \n",
    "        {{graph:'cypher', write:true, writeProperty:\"temporary\"}});\n",
    "        \"\"\".format(year)\n",
    "\n",
    "        run_query(query1, graph)\n",
    "        \n",
    "        print('Writing pagerank values to edges {}'.format(str(year)))     \n",
    "        # Write scores to METRICS_IN relationship\n",
    "        query2 = \"\"\"\n",
    "        CALL apoc.periodic.iterate(\n",
    "        \n",
    "        \"MATCH (a:Author)-[:COAUTHOR]-(b:Author)\n",
    "        WHERE a.start_year <= $year\n",
    "        RETURN a\",\n",
    "        \n",
    "        \"MATCH (a)-[m:METRICS_IN]->(y:Year {{year: $year}})\n",
    "        SET m.pagerank = a.temporary\",\n",
    "        \n",
    "        {{batchSize:10000, parallel:true, params: {{year: {}}} }});\n",
    "        \"\"\".format(year)\n",
    "        \n",
    "        run_query(query2, graph)\n",
    "\n",
    "\n",
    "author_unweighted_pagerank(years)"
   ]
  },
  {
   "cell_type": "code",
   "execution_count": null,
   "metadata": {},
   "outputs": [],
   "source": [
    "def author_weighted_pagerank(years):\n",
    "    #weightProperty: \"strength\"\n",
    "    pass"
   ]
  },
  {
   "cell_type": "code",
   "execution_count": null,
   "metadata": {
    "code_folding": [
     0
    ]
   },
   "outputs": [],
   "source": [
    "def author_h_index(years):\n",
    "    for year in years:\n",
    "        query = \"\"\"\n",
    "        CALL apoc.periodic.iterate(\n",
    "        \"MATCH (a:Author)-[:AUTHORED]->(q:Quanta) \n",
    "        WHERE q.year <= {}\n",
    "        OPTIONAL MATCH (p:Quanta)-[:CITES]->(q) \n",
    "        WHERE p.year <= {}\n",
    "        WITH a, q, count(p) as citations\n",
    "        WITH a, collect(citations) as paper_citations \n",
    "        RETURN [a, paper_citations] as info\",\n",
    "        \"WITH head(info) as a, last(info) as paper_citations\n",
    "        WITH a, apoc.coll.sort(paper_citations) as inverse \n",
    "        WITH a, apoc.coll.reverse(inverse) as ordered_citations \n",
    "        WITH a, apoc.convert.toList([x in ordered_citations WHERE apoc.coll.indexOf(ordered_citations, x)-x<0 | {index: apoc.coll.indexOf(ordered_citations, x) + 1, value:x}]) as filtered\n",
    "        WITH a, filtered, apoc.coll.frequencies([x in filtered | x.value]) as frequencies \n",
    "        WITH a, filtered, frequencies, min(filtered[-1].index+frequencies[-1].count-1, filtered[-1].value) as nonzero_h_index\n",
    "        MATCH (y:Year {year: {}})\n",
    "        WITH a, y, filtered, frequencies, nonzero_h_index\n",
    "        MERGE (a)-[m:METRICS_IN]->(y)\n",
    "        FOREACH(ignoreMe IN CASE WHEN filtered = [] THEN [1] ELSE [] END | SET m.hindex = 0 )\n",
    "        FOREACH(ignoreMe IN CASE WHEN NOT filtered = [] THEN [1] ELSE [] END | SET m.hindex = nonzero_h_index)\",\n",
    "        {batchSize:5000, iterateList:true, parallel:false});\n",
    "        \"\"\".format(year, year, year)\n",
    "\n",
    "        run_query(query, graph)\n",
    "        \n",
    "#author_h_index(years)   \n"
   ]
  },
  {
   "cell_type": "code",
   "execution_count": null,
   "metadata": {},
   "outputs": [],
   "source": [
    "#TODO test\n",
    "def author_papers_delta(years):\n",
    "    pass"
   ]
  },
  {
   "cell_type": "code",
   "execution_count": null,
   "metadata": {},
   "outputs": [],
   "source": [
    "def author_mean_citation_rank(years):\n",
    "    pass"
   ]
  },
  {
   "cell_type": "markdown",
   "metadata": {},
   "source": [
    "### Author-Venue Features"
   ]
  },
  {
   "cell_type": "code",
   "execution_count": null,
   "metadata": {
    "code_folding": [
     0
    ]
   },
   "outputs": [],
   "source": [
    "def venue_h_index_stats(years):\n",
    "    for year in years:\n",
    "        query=\"\"\"CALL apoc.periodic.iterate(\n",
    "        \"MATCH (v:Venue)<-[:PUBLISHED_IN]-(q:Quanta) \n",
    "        WHERE q.year <= {}\n",
    "        OPTIONAL MATCH (p:Quanta)-[:CITES]->(q) \n",
    "        WHERE p.year <= {}\n",
    "        WITH v, q, count(p) as citations\n",
    "        WITH v, collect(citations) as paper_citations \n",
    "        RETURN [v, paper_citations] as info\",\n",
    "        \"WITH head(info) as v, last(info) as paper_citations\n",
    "        WITH v, apoc.coll.sort(paper_citations) as inverse \n",
    "        WITH v, apoc.coll.reverse(inverse) as ordered_citations \n",
    "        WITH v, apoc.convert.toList([x in ordered_citations WHERE apoc.coll.indexOf(ordered_citations, x)-x<0 | {index: apoc.coll.indexOf(ordered_citations, x) + 1, value:x}]) as filtered\n",
    "        WITH v, filtered, apoc.coll.frequencies([x in filtered | x.value]) as frequencies \n",
    "        WITH v, filtered, frequencies, min(filtered[-1].index+frequencies[-1].count-1, filtered[-1].value) as nonzero_h_index\n",
    "        MATCH (y:Year {year: {}})\n",
    "        WITH v, y, filtered, frequencies, nonzero_h_index\n",
    "        MERGE (v)-[m:METRICS_IN]->(y)\n",
    "        FOREACH(ignoreMe IN CASE WHEN filtered = [] THEN [1] ELSE [] END | SET m.hindex = 0 )\n",
    "        FOREACH(ignoreMe IN CASE WHEN NOT filtered = [] THEN [1] ELSE [] END | SET m.hindex = nonzero_h_index)\",\n",
    "        {batchSize:5000, iterateList:true, parallel:false});\"\"\".format(year, year, year)\n",
    "\n",
    "        df = run_query(query, graph, to_df=True)\n",
    "        return df\n",
    "  \n",
    "#venue_h_index_stats(years)"
   ]
  },
  {
   "cell_type": "code",
   "execution_count": null,
   "metadata": {},
   "outputs": [],
   "source": [
    "def venue_h_index_stats_delta(years):\n",
    "    pass"
   ]
  },
  {
   "cell_type": "code",
   "execution_count": null,
   "metadata": {
    "code_folding": [
     1
    ]
   },
   "outputs": [],
   "source": [
    "def venue_citation_stats(years):\n",
    "    for year in years:\n",
    "        query = \"\"\"\n",
    "        CALL apoc.periodic.iterate(\n",
    "        \"MATCH (v:Venue)<-[:PUBLISHED_IN]-(q:Quanta) \n",
    "        WHERE q.year <= {}\n",
    "        OPTIONAL MATCH (q)<-[:CITES]-(p:Quanta)\n",
    "        WHERE p.year <= {}\n",
    "        WITH v, count(distinct q) as papers, count(p) as cites\n",
    "        RETURN [v, cites/papers] as info\",\n",
    "\n",
    "        \"WITH head(info) AS v, last(info) AS avg\n",
    "        MERGE (v)-[m:METRICS_IN]->(y:Year {year:{}})\n",
    "        SET m.average_citations = avg\",\n",
    "\n",
    "        {batchSize:5000, iterateList:true, parallel:false});\n",
    "        \"\"\".format(str(year))\n",
    "\n",
    "        run_query(query, graph)\n",
    "\n",
    "#venue_h_index_stats(years)"
   ]
  },
  {
   "cell_type": "code",
   "execution_count": null,
   "metadata": {},
   "outputs": [],
   "source": [
    "def venue_citation_stats_delta(years):\n",
    "    pass"
   ]
  },
  {
   "cell_type": "code",
   "execution_count": null,
   "metadata": {
    "code_folding": [
     0
    ]
   },
   "outputs": [],
   "source": [
    "def venue_papers_stats(years):\n",
    "    for year in years:\n",
    "        query = \"\"\"\n",
    "        CALL apoc.periodic.iterate(\n",
    "        \"MATCH (v:Venue)<-[:PUBLISHED_IN]-(q:Quanta) \n",
    "        WHERE q.year <= {}\n",
    "        RETURN [v,count(*)] AS info\",\n",
    "\n",
    "        \"WITH head(info) AS v, last(info) AS count\n",
    "        MERGE (v)-[m:METRICS_IN]->(y:Year {year:{}})\n",
    "        SET m.total_papers = count\",\n",
    "\n",
    "        {batchSize:5000, iterateList:true, parallel:false});\n",
    "        \"\"\".format(str(year))\n",
    "\n",
    "        run_query(query, graph)\n",
    "\n",
    "#venue_papers_stats()"
   ]
  },
  {
   "cell_type": "code",
   "execution_count": null,
   "metadata": {},
   "outputs": [],
   "source": [
    "def venue_citation_stats_delta(years):"
   ]
  },
  {
   "cell_type": "code",
   "execution_count": null,
   "metadata": {},
   "outputs": [],
   "source": [
    "def venue_rank_stats(years):\n",
    "    pass"
   ]
  },
  {
   "cell_type": "code",
   "execution_count": null,
   "metadata": {
    "code_folding": [
     0
    ]
   },
   "outputs": [],
   "source": [
    "def venue_max_paper_citations_stats(years):\n",
    "    for year in years:\n",
    "        query = \"\"\"\n",
    "        CALL apoc.periodic.iterate(\n",
    "        \"MATCH (v:Venue)<-[:PUBLISHED_IN]-(q:Quanta) \n",
    "        WHERE q.year <= {}\n",
    "        OPTIONAL MATCH (p:Quanta)-[:CITES]->(q) \n",
    "        WHERE p.year <= {}\n",
    "        WITH v, q, count(p) as citations\n",
    "        WITH v, collect(citations) as all_citations\n",
    "        RETURN [v, all_citations] AS info\",\n",
    "\n",
    "        \"WITH info[0] AS v, info[1] AS all_citations\n",
    "        MERGE (v)-[m:METRICS_IN]->(y:Year {year:{}})\n",
    "        SET m.max_citations = apoc.coll.max(all_citations)\",\n",
    "\n",
    "        {batchSize:5000, iterateList:true, parallel:false});\n",
    "        \"\"\".format(str(year))\n",
    "\n",
    "#venue_max_paper_citations(years)"
   ]
  },
  {
   "cell_type": "code",
   "execution_count": null,
   "metadata": {
    "code_folding": []
   },
   "outputs": [],
   "source": [
    "#TODO test\n",
    "def author_h_index_delta(years):\n",
    "    pass"
   ]
  },
  {
   "cell_type": "code",
   "execution_count": null,
   "metadata": {},
   "outputs": [],
   "source": [
    "#TODO test\n",
    "def author_citation_delta(years):\n",
    "    pass"
   ]
  },
  {
   "cell_type": "code",
   "execution_count": null,
   "metadata": {
    "code_folding": []
   },
   "outputs": [],
   "source": [
    "#TODO test\n",
    "def author_mean_citations_per_paper_delta(years):\n",
    "    pass"
   ]
  },
  {
   "cell_type": "markdown",
   "metadata": {},
   "source": [
    "### Author Paper Features Tests "
   ]
  },
  {
   "cell_type": "code",
   "execution_count": null,
   "metadata": {
    "code_folding": [
     0,
     19
    ]
   },
   "outputs": [],
   "source": [
    "def test_author_citation_count(author, year):\n",
    "    \"\"\" Takes in a normalized name and returns total citations count\n",
    "        Citation counts matched that in table for edward s boyden with this example:\n",
    "        \n",
    "        MATCH (q:Quanta {title:\"Millisecond-timescale, genetically targeted optical \n",
    "            control of neural activity\"})<-[:CITES]-(p:Quanta) \n",
    "        WHERE p.year <= 2008\n",
    "        RETURN count(p)\n",
    "    \"\"\" \n",
    "\n",
    "    query = \"\"\"\n",
    "    MATCH (a:Author {{normalizedName: '{}'}})-[:AUTHORED]->(q:Quanta)<-[:CITES]-(p:Quanta)\n",
    "    WHERE q.year <= {} and p.year <= {}\n",
    "    RETURN a.name as name, q.title as title, count(p) as citations\n",
    "    \"\"\".format(author, year, year)\n",
    "\n",
    "    df = run_query(query, graph, to_df=True)\n",
    "    return df\n",
    "\n",
    "def test_author_citation_count_iterative(author, year):\n",
    "    query = \"\"\"\n",
    "    CALL apoc.periodic.iterate(\n",
    "\n",
    "    \"MATCH (a:Author {{normalizedName: '{}'}})-[:AUTHORED]->(q:Quanta)<-[r:CITES]-(p:Quanta)\n",
    "    WHERE q.year <= $year AND p.year <= $year\n",
    "    RETURN [a, count(p)] as nodes\",\n",
    "\n",
    "    \"WITH head(nodes) as a, tail(nodes) as citations\n",
    "    RETURN citations\",\n",
    "\n",
    "    {{batchSize:5000, iterateList:true, parallel:true, params: {{year: {}}} }});\n",
    "    \"\"\".format(author, year)\n",
    "        \n",
    "    run_query(query, graph)\n",
    "\n",
    "#author_citation_ct = test_author_citation_count('edward s boyden', 2008)\n",
    "author_citation_ct = test_author_citation_count_iterative('edward s boyden', 2008)\n",
    "\n",
    "author_citation_ct"
   ]
  },
  {
   "cell_type": "code",
   "execution_count": null,
   "metadata": {
    "code_folding": [
     0,
     15
    ]
   },
   "outputs": [],
   "source": [
    "def test_author_mean_citations_per_paper(author, year):\n",
    "    \"\"\" Takes in a normalized name and returns total citations count\"\"\" \n",
    "    \n",
    "    query = \"\"\"\n",
    "    MATCH (a:Author {{normalizedName: '{}'}})-[:AUTHORED]->(q:Quanta)\n",
    "    WHERE q.year <= {}\n",
    "    OPTIONAL MATCH (q)<-[:CITES]-(p:Quanta)\n",
    "    WHERE p.year <= {}\n",
    "    WITH a, count(distinct q) as papers, count(p) as cites\n",
    "    RETURN a.name, papers, cites, cites/papers as avg\n",
    "    \"\"\".format(author, year, year)\n",
    "\n",
    "    df = run_query(query, graph, to_df=True)\n",
    "    return df\n",
    "\n",
    "def test_author_mean_citations_per_paper_iterative(author, year):\n",
    "    \"\"\" Takes in a normalized name and returns total citations count\"\"\" \n",
    "    \n",
    "    query = \"\"\"\n",
    "    CALL apoc.periodic.iterate(\n",
    "    \"MATCH (a:Author {{normalizedName: '{}'}})-[:AUTHORED]->(q:Quanta)\n",
    "    WHERE q.year <= {}\n",
    "    OPTIONAL MATCH (q)<-[:CITES]-(p:Quanta)   \n",
    "    WHERE p.year <= {}\n",
    "    RETURN [a, q, p] as info\",\n",
    "    \n",
    "    \"WITH info[0] as a, info[1] as q, info[2] as p\n",
    "    WITH a, count(p) as cites, count(distinct q) as papers\n",
    "    RETURN a.name, cites, papers, (papers/cites) as avg \",\n",
    "    \n",
    "    {{batchSize:5000, iterateList:true, parallel:true}});\n",
    "    \"\"\".format(author, year, year)\n",
    "\n",
    "    df = run_query(query, graph, to_df=True)\n",
    "    return df\n",
    "\n",
    "author_mean_citations_paper = test_author_mean_citations_per_paper('edward s boyden', 2008)\n",
    "#author_mean_citations_paper = test_author_mean_citations_per_paper_iterative('edward s boyden', 2008)\n",
    "\n",
    "#author_mean_citations_paper"
   ]
  },
  {
   "cell_type": "code",
   "execution_count": null,
   "metadata": {
    "code_folding": [
     0,
     12
    ]
   },
   "outputs": [],
   "source": [
    "def test_author_papers_count(author, year):\n",
    "    \"\"\" Takes in a normalized name and returns total paper count\"\"\" \n",
    "\n",
    "    query = \"\"\"\n",
    "    MATCH (a:Author {{normalizedName: '{}'}})-[:AUTHORED]->(q:Quanta)\n",
    "    WHERE q.year <= {}\n",
    "    RETURN a.name as name, count(*) as papers\n",
    "    \"\"\".format(author, year, year)\n",
    "\n",
    "    df = run_query(query, graph, to_df=True)\n",
    "    return df\n",
    "\n",
    "def test_author_papers_count_iterative(author, year):\n",
    "    \"\"\" Takes in a normalized name and returns total paper count\"\"\" \n",
    "\n",
    "    query = \"\"\"\n",
    "    CALL apoc.periodic.iterate(\n",
    "    \"MATCH (a:Author {{normalizedName: '{}'}})-[:AUTHORED]->(q:Quanta)\n",
    "    WHERE q.year <= {}\n",
    "    RETURN [a, count(*)] AS info\",\n",
    "\n",
    "    \"WITH head(info) AS a, last(info) AS count\n",
    "    RETURN count\",\n",
    "\n",
    "    {{batchSize:5000, iterateList:true, parallel:true}});\n",
    "    \"\"\".format(author, year, year)\n",
    "\n",
    "    df = run_query(query, graph, to_df=True)\n",
    "    return df\n",
    "\n",
    "#auth_papers_ct = test_author_papers_count('edward s boyden', 2018)\n",
    "auth_papers_ct = test_author_papers_count_iterative('edward s boyden', 2018)\n",
    "\n",
    "#auth_papers_ct"
   ]
  },
  {
   "cell_type": "code",
   "execution_count": null,
   "metadata": {
    "code_folding": [
     0,
     14
    ]
   },
   "outputs": [],
   "source": [
    "def test_author_mean_citations_per_year(author, year):\n",
    "    \"\"\" Takes in a normalized name and returns total citations count\"\"\" \n",
    "    \n",
    "    query = \"\"\"\n",
    "    MATCH (a:Author {{normalizedName: '{}'}})-[r:AUTHORED]->(q:Quanta)<-[:CITES]-(p:Quanta)\n",
    "    WHERE q.year <= {} and p.year <= {}\n",
    "    WITH a, count(p) as citations, collect(q.year) as years\n",
    "    WITH a, citations, apoc.coll.min(years) as start_year\n",
    "    RETURN a.name, citations, ({}-start_year) as years, citations/({}-start_year) as avg\n",
    "    \"\"\".format(author, year, year, year, year)\n",
    "\n",
    "    df = run_query(query, graph, to_df=True)\n",
    "    return df\n",
    "\n",
    "def test_author_mean_citations_per_year_iterative(author, year):\n",
    "    \"\"\" Takes in a normalized name and returns total citations count\"\"\" \n",
    "    \n",
    "    query = \"\"\"\n",
    "    CALL apoc.periodic.iterate(\n",
    "    \"MATCH (a:Author {{normalizedName: '{}'}})-[:AUTHORED]->(q:Quanta)<-[:CITES]-(p:Quanta)\n",
    "    WHERE q.year <= {} and p.year <= {}\n",
    "    WITH a, count(p) as citations, collect(q.year) as years\n",
    "    RETURN [a, citations, years] AS info\",\n",
    "\n",
    "    \"WITH info[0] AS a, info[1] AS citations, info[2] as years\n",
    "    WITH a, citations, apoc.coll.min(years) as start_year\n",
    "    RETURN a.name, citations / ({} - start_year) as avg\",\n",
    "    {{batchSize:5000, iterateList:true, parallel:true}});\n",
    "    \"\"\".format(author, year, year, year)\n",
    "\n",
    "\n",
    "    df = run_query(query, graph, to_df=True)\n",
    "    return df\n",
    "\n",
    "author_mean_citations_year = test_author_mean_citations_per_year('edward s boyden', 2009)\n",
    "#author_mean_citations_year = test_author_mean_citations_per_year_iterative('edward s boyden', 2008)\n",
    "\n",
    "#author_mean_citations_year"
   ]
  },
  {
   "cell_type": "code",
   "execution_count": null,
   "metadata": {
    "code_folding": [
     0,
     12
    ]
   },
   "outputs": [],
   "source": [
    "def test_author_age(author, year):\n",
    "    query = \"\"\"\n",
    "    MATCH (a:Author {{normalizedName: '{}'}})-[:AUTHORED]->(q:Quanta)\n",
    "    WHERE q.year <= {}\n",
    "    WITH a, collect(q.year) as years\n",
    "    WITH a, apoc.coll.min(years) as start_year\n",
    "    RETURN a.name, {} - start_year as author_age\n",
    "    \"\"\".format(author, year, year, year)\n",
    "\n",
    "    df = run_query(query, graph, to_df=True)\n",
    "    return df\n",
    "\n",
    "def test_author_age_iterative(author, year):\n",
    "    query = \"\"\"\n",
    "    CALL apoc.periodic.iterate(\n",
    "\n",
    "    \"MATCH (a:Author {{normalizedName: '{}'}})-[:AUTHORED]->(q:Quanta)\n",
    "    WHERE q.year <= {}\n",
    "    WITH a, collect(q.year) as years\n",
    "    RETURN [a, years] AS info\",\n",
    "\n",
    "    \"WITH info[0] AS a, info[1] AS years\n",
    "    WITH a, apoc.coll.min(years) as start_year\n",
    "    RETURN a.name, {} - start_year as author_age\",\n",
    "\n",
    "    {{batchSize:5000, iterateList:true, parallel:true}});\n",
    "    \"\"\".format(author, year, year)\n",
    "    \n",
    "    df = run_query(query, graph, to_df=True)\n",
    "    return df\n",
    "\n",
    "#author_age = test_author_age('edward s boyden', 2008)\n",
    "author_age = test_author_age_iterative('edward s boyden', 2008)\n",
    "\n",
    "author_age"
   ]
  },
  {
   "cell_type": "code",
   "execution_count": null,
   "metadata": {
    "code_folding": [
     0,
     12
    ]
   },
   "outputs": [],
   "source": [
    "def test_author_max_single_paper_citations(author, year):\n",
    "    query = \"\"\"\n",
    "    MATCH (a:Author {{normalizedName: '{}'}})-[:AUTHORED]->(q:Quanta)<-[:CITES]-(p:Quanta)\n",
    "    WHERE q.year <= {} and p.year <= {}\n",
    "    WITH a, q, count(p) as citations\n",
    "    WITH a, collect(citations) as all_citations\n",
    "    RETURN a.name, apoc.coll.max(all_citations)\n",
    "    \"\"\".format(author, year, year)\n",
    "\n",
    "    df = run_query(query, graph, to_df=True)\n",
    "    return df\n",
    "\n",
    "def test_author_max_single_paper_citations_iterative(author, year):\n",
    "    query = \"\"\"\n",
    "    CALL apoc.periodic.iterate(\n",
    "\n",
    "    \"MATCH (a:Author {{normalizedName: '{}'}})-[:AUTHORED]->(q:Quanta)<-[:CITES]-(p:Quanta)\n",
    "    WHERE q.year <= {} and p.year <= {}\n",
    "    WITH a, q, count(p) as citations\n",
    "    RETURN [a, citations] AS info\",\n",
    "\n",
    "    \"WITH info[0] AS a, info[1] AS citations\n",
    "    WITH a, collect(citations) as all_citations\n",
    "    RETURN a.name, apoc.coll.max(all_citations)\",\n",
    "\n",
    "    {{batchSize:5000, iterateList:true, parallel:true}});\n",
    "    \"\"\".format(author, year, year)\n",
    "    \n",
    "    df = run_query(query, graph, to_df=True)\n",
    "    return df\n",
    "\n",
    "author_max_cites = test_author_max_single_paper_citations('edward s boyden', 2008)\n",
    "#author_max_cites = test_author_max_single_paper_citations_iterative('edward s boyden', 2008)\n",
    "\n",
    "author_max_cites"
   ]
  },
  {
   "cell_type": "code",
   "execution_count": null,
   "metadata": {
    "code_folding": [
     0
    ]
   },
   "outputs": [],
   "source": [
    "def test_author_num_venues_published(author, year):\n",
    "    \"\"\" Takes in a normalized name and returns total number of venues published in\"\"\" \n",
    "\n",
    "    query = \"\"\"\n",
    "    MATCH (a:Author {{normalizedName: '{}'}})-[:AUTHORED]->(q:Quanta) \n",
    "    WHERE q.year <= {}\n",
    "    WITH a, q\n",
    "    MATCH (q)-[:PUBLISHED_IN]->(v:Venue)\n",
    "    RETURN a.name as name, count(distinct v) as num_venues, count(q) as num_papers\n",
    "    \"\"\".format(author, year)\n",
    "\n",
    "    df = run_query(query, graph, to_df=True)\n",
    "    return df\n",
    "\n",
    "auth_num_venues = test_author_num_venues_published('edward s boyden', 2018)\n",
    "auth_num_venues"
   ]
  },
  {
   "cell_type": "code",
   "execution_count": null,
   "metadata": {
    "code_folding": [
     0
    ]
   },
   "outputs": [],
   "source": [
    "def test_author_recent_num_coauthors(author, year):\n",
    "    query = \"\"\"\n",
    "    MATCH (a:Author {normalizedName: '{}'})-[:AUTHORED]->(q:Quanta)\n",
    "    WHERE q.year = {} OR q.year = {} - 1\n",
    "    MATCH (b:Author)-[:AUTHORED]->(q) WHERE not b.name = a.name\n",
    "    RETURN a.name as name, count(distinct b) as coauthors, count(distinct q) as papers_written\n",
    "    \"\"\".format(author, year, year)\n",
    "    \n",
    "    df = run_query(query, graph, to_df=True)\n",
    "    return df"
   ]
  },
  {
   "cell_type": "markdown",
   "metadata": {},
   "source": [
    "### TODO"
   ]
  },
  {
   "cell_type": "code",
   "execution_count": null,
   "metadata": {
    "code_folding": [
     0,
     22
    ]
   },
   "outputs": [],
   "source": [
    "def test_author_h_index(author, year):\n",
    "    query=\"\"\"\n",
    "    MATCH (a:Author {id: '{}')-[:AUTHORED]->(q:Quanta) \n",
    "    WHERE q.year <= {}\n",
    "    OPTIONAL MATCH (p:Quanta)-[:CITES]->(q) \n",
    "    WHERE p.year <= {}\n",
    "    WITH a, q, count(p) as citations\n",
    "    WITH a, collect(citations) as paper_citations \n",
    "    //RETURN a, paper_citations\n",
    "    WITH a, apoc.coll.sort(paper_citations) as inverse \n",
    "    WITH a, apoc.coll.reverse(inverse) as ordered_citations \n",
    "    WITH a, apoc.convert.toList([x in ordered_citations WHERE apoc.coll.indexOf(ordered_citations, x)-x<0 | apoc.coll.indexOf(ordered_citations, x)]) as filtered \n",
    "    RETURN CASE filtered \n",
    "    WHEN []\n",
    "    THEN 0 \n",
    "    ELSE last(filtered) + 1 \n",
    "    END\"\"\".format(author, year, year)\n",
    "    \n",
    "    run_query(query, graph)\n",
    "    \n",
    "test_author_h_index(53f45789dabfaee02ad5d4ca, 2008)\n",
    "\n",
    "def test_author_h_index_periodic(author, year):\n",
    "    query=\"\"\"\n",
    "    CALL apoc.periodic.iterate(\n",
    "    \"MATCH (a:Author {id: '{}'})-[:AUTHORED]->(q:Quanta) \n",
    "    WHERE q.year <= {}\n",
    "    OPTIONAL MATCH (p:Quanta)-[:CITES]->(q) \n",
    "    WHERE p.year <= {}\n",
    "    WITH a, q, count(p) as citations\n",
    "    WITH a, collect(citations) as paper_citations \n",
    "    RETURN [a, paper_citations] as info\",\n",
    "    \"WITH head(info) as a, last(info) as paper_citations\n",
    "    WITH a, apoc.coll.sort(paper_citations) as inverse \n",
    "    WITH a, apoc.coll.reverse(inverse) as ordered_citations \n",
    "    WITH a, apoc.convert.toList([x in ordered_citations WHERE apoc.coll.indexOf(ordered_citations, x)-x<0 | apoc.coll.indexOf(ordered_citations, x)]) as filtered \n",
    "    RETURN CASE filtered //merge statement before\n",
    "    WHEN []\n",
    "    THEN 0 //set statment = 0\n",
    "    ELSE last(filtered) + 1 //set statement = last(filtered) + 1\n",
    "    END\",\n",
    "    {batchSize:5000, iterateList:true, parallel:false});\"\"\".format(author, year, year)\n",
    "    \n",
    "    run_query(query, graph)"
   ]
  },
  {
   "cell_type": "code",
   "execution_count": null,
   "metadata": {
    "code_folding": [
     1
    ]
   },
   "outputs": [],
   "source": [
    "#TODO test\n",
    "def test_author_citation_delta(author, year):\n",
    "    query = \"\"\"\n",
    "    MATCH (a:Author {normalizedName: '{}'})-[m:METRICS_IN]->(y:Year {year:{}})\n",
    "    MATCH (a)-[pm:METRICS_IN]->(:Year {year:{}-1})\n",
    "    RETURN a.name, m.total_citations as original, pm.total_citations as previous, m.total_citations-pm.total_citations as delta\n",
    "    \"\"\".format(author, year, year)\n",
    "\n",
    "    df = run_query(query, graph, to_df=True)\n",
    "    return df\n",
    "\n",
    "author_citation_delta = test_author_citation_delta('edward s boyden', 2008)\n",
    "author_citation_delta"
   ]
  },
  {
   "cell_type": "code",
   "execution_count": null,
   "metadata": {
    "code_folding": [
     1
    ]
   },
   "outputs": [],
   "source": [
    "#TODO test\n",
    "def test_author_citations_per_paper_delta(author, year):\n",
    "    query = \"\"\"\n",
    "    MATCH (a:Author {normalizedName: '{}'})-[m:METRICS_IN]->(y:Year {year:{}})\n",
    "    MATCH (a)-[pm:METRICS_IN]->(:Year {year:{}-1})\n",
    "    RETURN a.name, m.citations_per_paper as original, pm.citations_per_paper as previous, \n",
    "        m.citations_per_paper-pm.citations_per_paper as delta\n",
    "    \"\"\".format(author, year, year)\n",
    "\n",
    "    df = run_query(query, graph, to_df=True)\n",
    "    return df\n",
    "\n",
    "author_citation_per_paper_delta = test_author_citations_per_paper_delta('edward s boyden', 2008)\n",
    "author_citation_per_paper_delta"
   ]
  },
  {
   "cell_type": "code",
   "execution_count": null,
   "metadata": {
    "code_folding": [
     1
    ]
   },
   "outputs": [],
   "source": [
    "#TODO test\n",
    "def test_author_h_index_delta(author, year):\n",
    "    query = \"\"\"\n",
    "    MATCH (a:Author {normalizedName: '{}'})-[m:METRICS_IN]->(y:Year {year:{}})\n",
    "    MATCH (a)-[pm:METRICS_IN]->(:Year {year:{}-1})\n",
    "    RETURN a.name, m.hindex as original, pm.hindex as previous, m.hindex-pm.hindex as delta\n",
    "    \"\"\".format(author, year, year)\n",
    "\n",
    "    df = run_query(query, graph, to_df=True)\n",
    "    return df\n",
    "\n",
    "test_author_h_index_delta('edward s boyden', 2008)"
   ]
  },
  {
   "cell_type": "code",
   "execution_count": null,
   "metadata": {
    "code_folding": [
     1
    ]
   },
   "outputs": [],
   "source": [
    "#TODO test\n",
    "def test_author_papers_delta(author, year):\n",
    "    query = \"\"\"MATCH (a:Author {normalizedName: '{}'})-[m:METRICS_IN]->(y:Year {year:{}})\n",
    "    MATCH (a)-[pm:METRICS_IN]->(:Year {year:{}-1})\n",
    "    RETURN a.name, m.total_papers as original, pm.total_papers as previous, \n",
    "        m.total_papers-pm.total_papers as delta\n",
    "    \"\"\".format(author, year, year)\n",
    "\n",
    "    df = run_query(query, graph, to_df=True)\n",
    "    return df\n",
    "\n",
    "author_paper_delta = test_author_papers_delta('edward s boyden', 2008)\n",
    "author_paper_delta"
   ]
  },
  {
   "cell_type": "code",
   "execution_count": null,
   "metadata": {
    "code_folding": [
     1
    ]
   },
   "outputs": [],
   "source": [
    "# TODO test\n",
    "def test_venue_h_index(venue, year):\n",
    "    query=\"\"\"\n",
    "    MATCH (v:Venue {cleanName: 'genesdevelopment'})<-[:PUBLISHED_IN]-(q:Quanta) \n",
    "    WHERE q.year <= 2000\n",
    "    OPTIONAL MATCH (p:Quanta)-[:CITES]->(q) \n",
    "    WHERE p.year <= 2000\n",
    "    WITH v, q, count(p) as citations\n",
    "    WITH v, collect(citations) as paper_citations \n",
    "    WITH v, apoc.coll.sort(paper_citations) as inverse \n",
    "    WITH v, apoc.coll.reverse(inverse) as ordered_citations\n",
    "    WITH v, apoc.convert.toList([x in ordered_citations WHERE apoc.coll.indexOf(ordered_citations, x)-x<0 | {index: apoc.coll.indexOf(ordered_citations, x) + 1, value:x}]) as filtered\n",
    "    WITH v, filtered, apoc.coll.frequencies([x in filtered | x.value]) as frequencies\n",
    "    RETURN CASE filtered \n",
    "    WHEN []\n",
    "    THEN 0 \n",
    "    ELSE CASE \n",
    "    WHEN filtered[-1].index >= filtered[-1].value-frequencies[-1].count + 1\n",
    "    THEN last(filtered).value\n",
    "    ELSE last(filtered).index END\n",
    "    END\"\"\".format(venue, year, year)\n",
    "    \n",
    "    df = run_query(query, graph, to_df=True)\n",
    "    return df"
   ]
  },
  {
   "cell_type": "code",
   "execution_count": null,
   "metadata": {
    "code_folding": [
     1
    ]
   },
   "outputs": [],
   "source": [
    "#TODO test\n",
    "def test_venue_h_index_stats_delta(venue, year):\n",
    "    query = \"\"\"MATCH (v:Venue {name: '{}'})-[m:METRICS_IN]->(y:Year {year:{}})\n",
    "    MATCH (v)-[pm:METRICS_IN]->(:Year {year:{}-1})\n",
    "    RETURN v.name, m.hindex as original, pm.hindex as previous, m.hindex-pm.hindex as delta\n",
    "    \"\"\".format(author, year, year)\n",
    "\n",
    "    df = run_query(query, graph, to_df=True)\n",
    "    return df"
   ]
  },
  {
   "cell_type": "code",
   "execution_count": null,
   "metadata": {
    "code_folding": [
     0
    ]
   },
   "outputs": [],
   "source": [
    "def test_venue_max_paper_citations_stats(venue, years):\n",
    "    query = \"\"\"\n",
    "    CALL apoc.periodic.iterate(\n",
    "    \"MATCH (v:Venue)<-[:PUBLISHED_IN]-(q:Quanta) \n",
    "    WHERE q.year <= {}\n",
    "    OPTIONAL MATCH (p:Quanta)-[:CITES]->(q) \n",
    "    WHERE p.year <= {}\n",
    "    WITH v, q, count(p) as citations\n",
    "    RETURN [v, citations] AS info\",\n",
    "\n",
    "    \"WITH info[0] AS v, info[1] AS citations\n",
    "    WITH v, collect(citations) as all_citations\n",
    "    MERGE (v)-[m:METRICS_IN]->(y:Year {{year:{}}})\n",
    "    SET m.max_citations = apoc.coll.max(all_citations)\",\n",
    "\n",
    "    {{batchSize:5000, iterateList:true, parallel:false}});\n",
    "    \"\"\".format(str(year))\n"
   ]
  },
  {
   "cell_type": "markdown",
   "metadata": {},
   "source": [
    "### Old"
   ]
  },
  {
   "cell_type": "code",
   "execution_count": null,
   "metadata": {
    "code_folding": [
     0
    ]
   },
   "outputs": [],
   "source": [
    "for i in range(start_year, 2019):\n",
    "\n",
    "    # Author H-index\n",
    "    # Assumes that every author has at least a single citation on the papers they write\n",
    "    \n",
    "    query = \"\"\"\n",
    "    CALL apoc.periodic.iterate(\n",
    "    \"MATCH (a:Author)-[:AUTHORED]->(q:Quanta) \n",
    "    WHERE q.year <= \"\"\"+str(i)+\"\"\"\n",
    "    RETURN [a,q] AS nodes LIMIT 10\",\n",
    "        // Why limit 10?\n",
    "    \n",
    "    \"WITH head(nodes) AS a, last(nodes) AS q\n",
    "    MATCH (p:Quanta)-[:CITES]->(q) WHERE p.year <= \"\"\"+str(i)+\"\"\"\n",
    "    \n",
    "    WITH count(p) as citations, a, collect(citations) as paper_citations \n",
    "        // RETURN a, paper_citations\n",
    "        // ** can we do collect(count(p)) in one step and will this save time?)\n",
    "        //assuming that doing count(p) only counts the number of citations for each independent quanta\n",
    "    WITH a, apoc.coll.sort(paper_citations) as inverse, apoc.coll.reverse(inverse) as ordered_citations\n",
    "        //assuming first sort gives them ascending\n",
    "        // ordered citation is list of integers\n",
    "    WITH a, apoc.coll.toList([x in ordered_citations | {index: apoc.coll.indexOf(ordered_citations, x), value: x}]) as indexed_citations\n",
    "    WITH a, apoc.coll.toList([x in indexed_citations WHERE x.index-x.value<0 | x.index]) as filtered\n",
    "        //because indexes start at zero\n",
    "    MERGE (a)-[m:METRICS_IN]->(y:Year {year:\"\"\"+str(i)+\"\"\"})\n",
    "        // year is right property here?\n",
    "    SET m.hindex = head(filtered)+1\",\n",
    "    {batchSize:5000, iterateList:true, parallel:false});\n",
    "    \"\"\"\n",
    "    \n",
    "    run_query(query, graph)\n",
    "    \n",
    "    # Author Citation Count\n",
    "    \n",
    "    query = \"\"\"\n",
    "    CALL apoc.periodic.iterate(\"\n",
    "    MATCH (a:Author)-[:AUTHORED]->(q:Quanta)\n",
    "    WHERE q.year <= \"\"\"+str(i)+\"\"\"\n",
    "    RETURN [a,q] AS nodes\n",
    "    \",\"\n",
    "    WITH head(nodes) AS a, last(nodes) AS q\n",
    "    MERGE (a)-[m:METRICS_IN]->(y:Year {year:\"\"\"+str(i)+\"\"\"})\n",
    "    SET m.total_citations = size((p:Quanta)-[:CITES]->(q) WHERE p.year <= \"\"\"+str(i)+\"\"\")\",\n",
    "    {batchSize:5000, iterateList:true, parallel:false});\n",
    "    \"\"\"\n",
    "    \n",
    "    run_query(query, graph)\n",
    "    \n",
    "    # Author Mean Citations per Paper\n",
    "    \n",
    "    query = \"\"\"\n",
    "    CALL apoc.periodic.iterate(\"\n",
    "    MATCH (a:Author)-[:AUTHORED]->(q:Quanta)\n",
    "    WHERE q.year <= \"\"\"+str(i)+\"\"\"\n",
    "    RETURN [a,q,count(*)] AS info\n",
    "        // count(*) counts null values - we are trying to count q I think\n",
    "    \",\"\n",
    "    WITH info[0] AS a, info[1] AS q, info[2] as papers_written\n",
    "        // Where do we use papers_written in the calculation below?\n",
    "    MERGE (a)-[m:METRICS_IN]->(y:Year {year:\"\"\"+str(i)+\"\"\"})\n",
    "    SET m.citations_per_paper = size((p:Quanta)-[:CITES]->(q) WHERE p.year <= \"\"\"+str(i)+\"\"\")/papers_written\",\n",
    "    {batchSize:5000, iterateList:true, parallel:false});\n",
    "    \"\"\"\n",
    "    \n",
    "    run_query(query, graph)\n",
    "    \n",
    "    # Author Mean Citations per Year\n",
    "    \n",
    "    query = \"\"\"\n",
    "    CALL apoc.periodic.iterate(\"\n",
    "    MATCH (a:Author)-[:AUTHORED]->(q:Quanta)\n",
    "    WHERE q.year <= \"\"\"+str(i)+\"\"\"\n",
    "    WITH a, q, collect(q.year) as years, apoc.coll.min(years) as start_year\n",
    "    RETURN [a,q, start_year] AS info\n",
    "    \",\"\n",
    "    WITH info[0] AS a, info[1] AS q, info[2] as start_year\n",
    "    MERGE (a)-[m:METRICS_IN]->(y:Year {year:\"\"\"+str(i)+\"\"\"})\n",
    "    SET m.citations_per_year = size((p:Quanta)-[:CITES]->(q) WHERE p.year <= \"\"\"+str(i)+\"\"\")/(2019-start_year)\",\n",
    "    {batchSize:5000, iterateList:true, parallel:false});\n",
    "    \"\"\"\n",
    "    \n",
    "    run_query(query, graph)\n",
    "    \n",
    "    # Author Papers\n",
    "    \n",
    "    query = \"\"\"\n",
    "    CALL apoc.periodic.iterate(\"\n",
    "    MATCH (a:Author)-[:AUTHORED]->(q:Quanta)\n",
    "    WHERE q.year <= \"\"\"+str(i)+\"\"\"\n",
    "    RETURN [a,count(*)] AS info\n",
    "        // do we need count(q) here?\n",
    "    \",\"\n",
    "    WITH head(info) AS a, last(info) AS count\n",
    "    MERGE (a)-[m:METRICS_IN]->(y:Year {year:\"\"\"+str(i)+\"\"\"})\n",
    "    SET m.total_papers = count\",\n",
    "    {batchSize:5000, iterateList:true, parallel:false});\n",
    "    \"\"\"\n",
    "    \n",
    "    run_query(query, graph)\n",
    "    \n",
    "    # Author Age\n",
    "    \n",
    "    query = \"\"\"\n",
    "    CALL apoc.periodic.iterate(\"\n",
    "    MATCH (a:Author)-[:AUTHORED]->(q:Quanta)\n",
    "    WHERE q.year <= \"\"\"+str(i)+\"\"\"\n",
    "    WITH a, collect(q.year) as years, apoc.coll.min(years) as start_year\n",
    "    RETURN [a, start_year] AS info\n",
    "    \",\"\n",
    "    WITH info[0] AS a, info[1] AS start_year\n",
    "    MERGE (a)-[m:METRICS_IN]->(y:Year {year:\"\"\"+str(i)+\"\"\"})\n",
    "    SET m.author_age = 2019-start_year\",\n",
    "    {batchSize:5000, iterateList:true, parallel:false});\n",
    "    \"\"\"\n",
    "    \n",
    "    run_query(query, graph)\n",
    "    \n",
    "    # Author's Recent Coauthor\n",
    "    # Not sure how this reacts to the fact that coauthors are added over time\n",
    "    \n",
    "    query = \"\"\"\n",
    "    CALL apoc.periodic.iterate(\"\n",
    "    MATCH (a:Author)-[:AUTHORED]->(q:Quanta)\n",
    "    WHERE q.year = \"\"\"+str(i)+\"\"\" OR q.year = \"\"\"+str(i-1)+\"\"\"\n",
    "    RETURN [a,q] AS nodes\n",
    "    \",\"\n",
    "    WITH head(nodes) AS a, last(nodes) AS q\n",
    "    MERGE (a)-[m:METRICS_IN]->(y:Year {year:\"\"\"+str(i)+\"\"\"})\n",
    "    SET m.recent_coauthor_count = size(MATCH (b:Author)-[:AUTHORED]->(q) WHERE b.name != a.name)\",\n",
    "    {batchSize:5000, iterateList:true, parallel:false});\n",
    "    \"\"\"\n",
    "    \n",
    "    run_query(query, graph)\n",
    "    \n",
    "    # Author's Max Citations on Single Paper\n",
    "    \n",
    "    query = \"\"\"\n",
    "    CALL apoc.periodic.iterate(\"\n",
    "    MATCH (a:Author)-[:AUTHORED]->(q:Quanta)\n",
    "    WHERE q.year <= \"\"\"+str(i)+\"\"\"\n",
    "    RETURN [a,q] AS nodes\n",
    "    \",\"\n",
    "    WITH head(nodes) AS a, last(nodes) AS q\n",
    "    MATCH (p:Quanta)-[:CITES]->(q)\n",
    "    WHERE p.year <= \"\"\"+str(i)+\"\"\"\n",
    "    WITH a, apoc.coll.toSet(count(p)) as paper_citations\n",
    "    MERGE (a)-[m:METRICS_IN]->(y:Year {year:\"\"\"+str(i)+\"\"\"})\n",
    "    SET m.max_citations = apoc.coll.max(paper_citations)\",\n",
    "    {batchSize:5000, iterateList:true, parallel:false});\n",
    "    \"\"\"\n",
    "    \n",
    "    run_query(query, graph)\n",
    "    \n",
    "    # Author's Venues' H-indexes\n",
    "    \n",
    "    # Venue Citations\n",
    "    \n",
    "    query = \"\"\"\n",
    "    CALL apoc.periodic.iterate(\"\n",
    "    MATCH (a:Author)-[:AUTHORED]->(q:Quanta)-[:PUBLISHED_IN]->(v:Venue)\n",
    "    WHERE q.year <= \"\"\"+str(i)+\"\"\"\n",
    "    RETURN [a,v] AS nodes\n",
    "    \",\"\n",
    "    WITH head(nodes) AS a, last(nodes) AS v\n",
    "    MATCH (v)<-[:PUBLISHED_IN]-(p:Quanta)<-[:CITES]-(d:Quanta)\n",
    "    WITH apoc.coll.toList(count(d)) as venue_citations\n",
    "        // assumes count(d) counts citations per venue and not the same as count(*)\n",
    "    WHERE p.year <= \"\"\"+str(i)+\"\"\" AND d.year <= \"\"\"+str(i)+\"\"\"\n",
    "    MERGE (a)-[m:METRICS_IN]->(y:Year {year:\"\"\"+str(i)+\"\"\"})\n",
    "    SET m.venue_citations = [apoc.coll.avg(venue_citations), apoc.coll.min(venue_citations), apoc.coll.max(venue_citations)]\",\n",
    "    {batchSize:5000, iterateList:true, parallel:false});\n",
    "    \"\"\"\n",
    "    \n",
    "    run_query(query, graph)\n",
    "    \n",
    "        # Venue Papers\n",
    "\n",
    "        query = \"\"\"\n",
    "        CALL apoc.periodic.iterate(\"\n",
    "        MATCH (a:Author)-[:AUTHORED]->(q:Quanta)-[:PUBLISHED_IN]->(v:Venue)\n",
    "        WHERE q.year <= \"\"\"+str(i)+\"\"\"\n",
    "        RETURN [a,v] AS nodes\n",
    "        \",\"\n",
    "        WITH head(nodes) AS a, last(nodes) AS v\n",
    "        MATCH (v)<-[:PUBLISHED_IN]-(p:Quanta)\n",
    "        WITH apoc.coll.toList(count(p)) as venue_papers\n",
    "            // assumes count(p) counts papers per venue and not the same as count(*)\n",
    "        WHERE p.year <= \"\"\"+str(i)+\"\"\" \n",
    "        MERGE (a)-[m:METRICS_IN]->(y:Year {year:\"\"\"+str(i)+\"\"\"})\n",
    "        SET m.venue_papers = [apoc.coll.avg(venue_papers), apoc.coll.min(venue_papers), apoc.coll.max(venue_papers)]\",\n",
    "        {batchSize:5000, iterateList:true, parallel:false});\n",
    "        \"\"\"\n",
    "\n",
    "        run_query(query, graph)\n",
    "    \n",
    "    # Venue Max Citations\n",
    "    \n",
    "    # Total Number of Venues\n",
    "    \n",
    "    query = \"\"\"\n",
    "    CALL apoc.periodic.iterate(\"\n",
    "    MATCH (a:Author)-[:AUTHORED]->(q:Quanta)-[:PUBLISHED_IN]->(v:Venue)\n",
    "    WHERE q.year <= \"\"\"+str(i)+\"\"\"\n",
    "    WITH DISTINCT v\n",
    "    RETURN [a,count(v)] AS info\n",
    "        //assumes count(v) only counts venues and not same as count(*)\n",
    "    \",\"\n",
    "    WITH head(info) AS a, last(info) AS count\n",
    "    MERGE (a)-[m:METRICS_IN]->(y:Year {year:\"\"\"+str(i)+\"\"\"})\n",
    "    SET m.total_venues = count\",\n",
    "    {batchSize:5000, iterateList:true, parallel:false});\n",
    "    \"\"\"\n",
    "    \n",
    "    run_query(query, graph)\n"
   ]
  },
  {
   "cell_type": "code",
   "execution_count": null,
   "metadata": {},
   "outputs": [],
   "source": [
    "#def author_hindex(value):\n",
    "#    MATCH (a:Author)-[:AUTHORED]->(q:Quanta)-[:PUBLISHED_IN]->(y:Year {year: value})\n",
    "#    MATCH (p:Quanta)-[:CITES]->(q)\n",
    "#    WITH y, count(p) as citations, a, collect(citations) as paper_citations\n",
    "#    WITH y, a, apoc.coll.sort(paper_citations) as inverse, apoc.coll.reverse(inverse) as ordered_citations\n",
    "#    WITH y, a, apoc.coll.toList([x in ordered_citations | {index: apoc.coll.indexOf(ordered_citations, x), value: x}]) as indexed_citations\n",
    "#    WITH y, a, apoc.coll.toList([x in indexed_citations WHERE x.index-x.value<0 | x.index]) as filtered\n",
    "#    RETURN [a, y, filtered[0] + 1] as result\n",
    "\n",
    "#def mean_citations_year(value):\n",
    "#    MATCH (a:Author)-[:AUTHORED]->(q:Quanta)-[:PUBLISHED_IN]->(y:Year {year: value})\n",
    "#    MATCH (p:Quanta)-[:CITES]->(q)\n",
    "#    RETURN count(p)/count(q) as mean\n",
    "\n",
    "#def papers_published_year(value):\n",
    "#    MATCH (a:Author)-[:AUTHORED]->(q:Quanta)-[:PUBLISHED_IN]->(y:Year {year: value})\n",
    "#    RETURN count(q)"
   ]
  },
  {
   "cell_type": "markdown",
   "metadata": {},
   "source": [
    "### Get features for Venue"
   ]
  },
  {
   "cell_type": "code",
   "execution_count": null,
   "metadata": {
    "code_folding": [
     0
    ]
   },
   "outputs": [],
   "source": [
    "def venue_hindex(v, value):\n",
    "    MATCH (v:Venue)<-[:PUBLISHED_IN]-(q:Quanta)-[:PUBLISHED_IN]->(y:Year {year: value})\n",
    "    MATCH (p:Quanta)-[:CITES]->(q)\n",
    "    WITH y, count(p) as citations, v, collect(citations) as paper_citations\n",
    "    WITH y, v, apoc.coll.sort(paper_citations) as inverse, apoc.coll.reverse(inverse) as ordered_citations\n",
    "    WITH y, v, apoc.coll.toList([x in ordered_citations | {index: apoc.coll.indexOf(ordered_citations, x), value: x}]) as indexed_citations\n",
    "    WITH y, v, apoc.coll.toList([x in indexed_citations WHERE x.index-x.value<0 | x.index]) as filtered\n",
    "    RETURN [v, y, filtered[0] + 1] as result\n",
    "    \n",
    "#def venue_paper_citations(v, value):\n",
    "#    MATCH (v:Venue)<-[:PUBLISHED_IN]-(q:Quanta)<-[:CITES]-(:Quanta)<-[:PUBLISHED_IN]-(y:Year)\n",
    "#    WHERE y.year <= value\n",
    "#    WITH count(*)/count(q) as venue_avg\n",
    "    \n",
    "#def venue_papers(v, value):\n",
    "#    MATCH (v:Venue)<-[:PUBLISHED_IN]-(q:Quanta)<-[:PUBLISHED_IN]-(y:Year)\n",
    "#    WHERE y.year <= value\n",
    "#    WITH count(q) as venue_papers\n",
    "    \n",
    "def venue_papers_max(v):\n",
    "    MATCH (v:Venue)<-[:PUBLISHED_IN]-(:Quanta)<-[:CITES]-(q:Quanta)\n",
    "    WITH apoc.coll.toSet(count(q)) as counts\n",
    "    RETURN apoc.coll.max(counts) as max"
   ]
  },
  {
   "cell_type": "code",
   "execution_count": null,
   "metadata": {},
   "outputs": [],
   "source": [
    "########## CALCULATING METRICS ##########\n",
    "# AUTHOR HINDEX\n",
    "\n",
    "MATCH (a:Author)-[:AUTHORED]->(q:Quanta)\n",
    "MATCH (p:Quanta)-[:CITES]->(q)\n",
    "WITH count(p) as citations, a, collect(citations) as paper_citations\n",
    "WITH apoc.coll.sort(paper_citations) as inverse, apoc.coll.reverse(inverse) as ordered_citations\n",
    "WITH apoc.coll.toList([x in ordered_citations | {index: apoc.coll.indexOf(ordered_citations, x), value: x}]) as indexed_citations\n",
    "WITH apoc.coll.toList([x in indexed_citations WHERE x.index-x.value<0 | x.index]) as filtered\n",
    "RETURN filtered[0] + 1 as hindex\n",
    "\n",
    "# AUTHOR HINDEX DELTA\n",
    "# can implement after doing the first one\n",
    "\n",
    "CALL author_hindex(value) YIELD result[0] as a, result[1] as y, result[2] as hindex\n",
    "CALL author_hindex(value+1) YIELD result[2] as second_hindex\n",
    "RETURN hindex-second_hindex as hindex_delta\n",
    "\n",
    "# AUTHOR CITATION COUNT\n",
    "\n",
    "MATCH (a:Author)-[:AUTHORED]->(q:Quanta)\n",
    "MATCH (p:Quanta)-[:CITES]->(q)\n",
    "RETURN count(*)\n",
    "\n",
    "# KEY CITATION COUNT\n",
    "\n",
    "(need additional paper)\n",
    "\n",
    "# AUTHOR CITATIONS DELTA\n",
    "# can implement after first one\n",
    "\n",
    "MATCH (a:Author)-[:AUTHORED]->(q:Quanta)-[:PUBLISHED_IN]->(y:Year)\n",
    "WHERE y.year <= 2018\n",
    "MATCH (p:Quanta)-[:CITES]->(q)\n",
    "RETURN count(p)\n",
    "\n",
    "# AUTHOR KEY CITATIONS DELTA\n",
    "# can implement after first one\n",
    "\n",
    "(need additional paper)\n",
    "\n",
    "# AUTHOR MEAN CITATIONS PER PAPER\n",
    "\n",
    "MATCH (a:Author)-[:AUTHORED]->(q:Quanta)\n",
    "MATCH (p:Quanta)-[:CITES]->(q)\n",
    "RETURN count(p)/count(q)\n",
    "\n",
    "# AUTHOR MEAN CITATION PER PAPER DELTA\n",
    "# can implement after first one\n",
    "\n",
    "CALL mean_citations_year(value) YIELD mean as old\n",
    "CALL mean_citations_year(value+1) YIELD mean as new\n",
    "RETURN new-old\n",
    "\n",
    "# AUTHOR MEAN CITATIONS PER YEAR\n",
    "\n",
    "MATCH (a:Author)-[:AUTHORED]->(q:Quanta)-[:PUBLISHED_IN]->(y:Year)\n",
    "MATCH (p:Quanta)-[:CITES]->(q)\n",
    "WITH count(p) as citations, apoc.coll.toSet(y) as years, apoc.coll.min(years) as start_year\n",
    "RETURN citations/(2019-start_year)\n",
    "\n",
    "# AUTHOR PAPERS\n",
    "\n",
    "MATCH (a:Author)-[:AUTHORED]->(q:Quanta)\n",
    "RETURN count(q)\n",
    "\n",
    "# AUTHOR PAPERS DELTA\n",
    "# can implement after first one\n",
    "\n",
    "CALL papers_published_year(value) YIELD mean as old\n",
    "CALL papers_published_year(value+1) YIELD mean as new\n",
    "RETURN new-old\n",
    "\n",
    "# AUTHOR MEAN CITATION RANK \n",
    "# rank of author (between 0 and 1) among all other authors in terms of mean citations per year\n",
    "\n",
    "(can be implemented after every author has their mean citations per year calculated)\n",
    "\n",
    "# AUTHOR UNWEIGHTED PAGERANK (by coauthorship)\n",
    "\n",
    "(already have base code)\n",
    "\n",
    "# AUTHOR WEIGHTED PAGERANK (by coauthorship)\n",
    "\n",
    "(already have base code)\n",
    "\n",
    "# AUTHOR AGE\n",
    "\n",
    "MATCH (a:Author)-[:AUTHORED]->(q:Quanta)-[:PUBLISHED_IN]->(y:Year)\n",
    "WITH apoc.coll.toSet(y) as years\n",
    "RETURN apoc.coll.min(years) as author_age\n",
    "\n",
    "# AUTHOR RECENT NUM COAUTHORS\n",
    "\n",
    "MATCH (a:Author)-[:AUTHORED]->(q:Quanta)-[:PUBLISHED_IN]->(y:Year)\n",
    "WHERE year >= 2018\n",
    "MATCH (b:Author)-[:AUTHORED]->(q)\n",
    "WHERE b.name != a.name\n",
    "RETURN count(b)\n",
    "\n",
    "# AUTHOR MAX SINGLE PAPER CITATIONS\n",
    "\n",
    "MATCH (a:Author)-[:AUTHORED]->(q:Quanta)<-[:CITES]-(p:Quanta)\n",
    "WITH apoc.coll.toSet(count(p)) as paper_citations\n",
    "RETURN apoc.coll.max(paper_citations) as max\n",
    "\n",
    "# VENUE HINDEX\n",
    "\n",
    "MATCH (a:Author)-[:AUTHORED]->(:Quanta)-[:PUBLISHED_IN]->(v:Venue)\n",
    "CALL venue_hindex(v, value) YIELD apoc.coll.toList(result[2]) as hindexes\n",
    "RETURN [apoc.coll.avg(hindexes), apoc.coll.min(hindexes), apoc.coll.max(hindexes)]\n",
    "\n",
    "# VENUE HINDEX DELTA\n",
    "# can implement after first one\n",
    "\n",
    "MATCH (a:Author)-[:AUTHORED]->(:Quanta)-[:PUBLISHED_IN]->(v:Venue)\n",
    "CALL venue_hindex(v, value) YIELD apoc.coll.toList({venue: v, index: result[2]}) as old_hindexes\n",
    "CALL venue_hindex(v, value+1) YIELD apoc.coll.toList({venue: v, index: result[2]}) as new_hindexes\n",
    "WITH apoc.coll.toList([x IN old_hindexes and y IN new_hindexes WHERE v.venue = y.venue | y.index-x.index]) as differences\n",
    "RETURN [apoc.coll.avg(differences), apoc.coll.min(differences), apoc.coll.max(differences)]\n",
    "\n",
    "# VENUE CITATIONS\n",
    "\n",
    "MATCH (a:Author)-[:AUTHORED]->(:Quanta)-[:PUBLISHED_IN]->(v:Venue)<-[:PUBLISHED_IN]-(:Quanta)<-[:CITES]-(q:Quanta)\n",
    "WITH apoc.coll.toList(count(q)) as venue_citations\n",
    "RETURN [apoc.coll.avg(venue_citations), apoc.coll.min(venue_citations), apoc.coll.max(venue_citations)]\n",
    "\n",
    "\n",
    "# VENUE CITATIONS DELTA\n",
    "# can implement after first one\n",
    "\n",
    "MATCH (a:Author)-[:AUTHORED]->(:Quanta)-[:PUBLISHED_IN]->(v:Venue)\n",
    "CALL venue_paper_citations(v, value) YIELD apoc.coll.toList({venue: v, avg: venue_avg}) as old_avg\n",
    "CALL venue_paper_citations(v, value+1) YIELD apoc.coll.toList({venue: v, avg: venue_avg}) as new_avg\n",
    "WITH apoc.coll.toList([x IN old_avg and y IN new_avg WHERE v.venue = y.venue | y.avg-x.avg]) as differences\n",
    "RETURN [apoc.coll.avg(differences), apoc.coll.min(differences), apoc.coll.max(differences)]\n",
    "\n",
    "# VENUE PAPERS\n",
    "\n",
    "MATCH (a:Author)-[:AUTHORED]->(:Quanta)-[:PUBLISHED_IN]->(v:Venue)<-[:PUBLISHED_IN]-(q:Quanta)\n",
    "WITH apoc.coll.toList(count(q)) as venue_citations\n",
    "RETURN [apoc.coll.avg(venue_citations), apoc.coll.min(venue_citations), apoc.coll.max(venue_citations)]\n",
    "\n",
    "#VENUE PAPERS DELTA\n",
    "# can implement after first one\n",
    "\n",
    "MATCH (a:Author)-[:AUTHORED]->(:Quanta)-[:PUBLISHED_IN]->(v:Venue)\n",
    "CALL venue_paper_citations(v, value) YIELD apoc.coll.toList({venue: v, count: venue_papers}) as old_count\n",
    "CALL venue_paper_citations(v, value+1) YIELD apoc.coll.toList({venue: v, count: venue_papers}) as new_count\n",
    "WITH apoc.coll.toList([x IN old_count and y IN new_count WHERE v.venue = y.venue | y.count-x.count]) as differences\n",
    "RETURN [apoc.coll.avg(differences), apoc.coll.min(differences), apoc.coll.max(differences)]\n",
    "\n",
    "# VENUE RANK \n",
    "# venue rank fmean, min, maxg \u000f Ranks of venues (between 0-1) in which the author has published determined by mean number of citations per paper\n",
    "\n",
    "(can be implemented after every author has their mean citations per year calculated)\n",
    "\n",
    "# VENUE MAX SINGLE PAPER CITATIONS\n",
    "\n",
    "MATCH (a:Author)-[:AUTHORED]->(:Quanta)-[:PUBLISHED_IN]->(v:Venue)\n",
    "CALL venue_paper_max(v) YIELD apoc.coll.toList(max) as maxes\n",
    "RETURN [apoc.coll.avg(maxes), apoc.coll.min(maxes), apoc.coll.max(maxes)]\n",
    "\n",
    "# TOTAL NUMBER OF VENUES\n",
    "\n",
    "MATCH (a:Author)-[:AUTHORED]->(:Quanta)-[:PUBLISHED_IN]->(v:Venue)\n",
    "WITH DISTINCT v\n",
    "RETURN count(v)\n"
   ]
  },
  {
   "cell_type": "code",
   "execution_count": null,
   "metadata": {
    "code_folding": [
     1
    ]
   },
   "outputs": [],
   "source": [
    "# TODO test \n",
    "def author_mean_citations_per_paper_original(years):\n",
    "    for year in years:   \n",
    "        query = \"\"\"\n",
    "        CALL apoc.periodic.iterate(\n",
    "        \"MATCH (a:Author)-[:AUTHORED]->(q:Quanta)\n",
    "        WHERE q.year <= {}\n",
    "        RETURN [a,q,count(*)] AS info\",\n",
    "            // count(*) counts null values also - we are trying to count q I think\n",
    "\n",
    "        \"WITH info[0] AS a, info[1] AS q, info[2] as papers_written\n",
    "        MATCH (q)<-[r:CITES]-(p:Quanta) WHERE p.year <= {}\n",
    "        WITH a, count(r) as citations\n",
    "        MERGE (a)-[m:METRICS_IN]->(y:Year {{year:{}}})\n",
    "        SET m.citations_per_paper = citations / papers_written\",\n",
    "            //SET m.citations_per_paper = size((p:Quanta)-[:CITES]->(q) WHERE p.year <= {})/papers_written\",\n",
    "        {{batchSize:5000, iterateList:true, parallel:false}});\n",
    "        \"\"\".format(year, year, year)\n",
    "        \n",
    "        run_query(query, graph)\n",
    "\n",
    "#author_mean_citations_per_paper(years)"
   ]
  },
  {
   "cell_type": "markdown",
   "metadata": {},
   "source": [
    "# Testing Functions"
   ]
  },
  {
   "cell_type": "code",
   "execution_count": null,
   "metadata": {},
   "outputs": [],
   "source": [
    "# H-index\n",
    "\n",
    "MATCH (a:Author {normalizedName: 'edward s boyden'})-[:AUTHORED]->(q:Quanta)\n",
    "WHERE q.year <= 2008 \n",
    "WITH a, collect(q) as papers\n",
    "WITH a, papers, size(papers) as papers_written\n",
    "UNWIND papers as paper\n",
    "MATCH (p:Quanta)-[:CITES]->(paper) \n",
    "WHERE p.year <= 2008\n",
    "WITH DISTINCT a.name as name, papers_written, count(p) as citations \n",
    "RETURN name, citations, papers_written\n",
    "\n",
    "MATCH () \n",
    "WITH [0, 2, 5, 6, 3, 8] as paper_citations \n",
    "WITH apoc.coll.sort(paper_citations) as inverse \n",
    "WITH apoc.coll.reverse(inverse) as ordered_citations \n",
    "WITH apoc.convert.toList([x in ordered_citations WHERE apoc.coll.indexOf(ordered_citations, x)-x<0 | apoc.coll.indexOf(ordered_citations, x)]) as filtered \n",
    "RETURN CASE filtered \n",
    "WHEN [] \n",
    "THEN 0 \n",
    "ELSE last(filtered) + 1 \n",
    "END\n",
    "\n",
    "MATCH () \n",
    "WITH [] as paper_citations \n",
    "WITH apoc.coll.sort(paper_citations) as inverse \n",
    "WITH apoc.coll.reverse(inverse) as ordered_citations \n",
    "WITH apoc.convert.toList([x in ordered_citations | {index: apoc.coll.indexOf(ordered_citations, x), value: x}]) as indexed_citations \n",
    "WITH apoc.convert.toList([x in indexed_citations WHERE x.index-x.value<0 | x.index]) as filtered \n",
    "RETURN CASE filtered \n",
    "WHEN [] \n",
    "THEN 0 \n",
    "ELSE last(filtered) + 1 \n",
    "END\n",
    "\n",
    "MATCH () \\\n",
    "WITH [0, 0, 0] as paper_citations \n",
    "WITH apoc.coll.sort(paper_citations) as inverse \n",
    "WITH apoc.coll.reverse(inverse) as ordered_citations \n",
    "WITH apoc.convert.toList([x in ordered_citations | {index: apoc.coll.indexOf(ordered_citations, x), value: x}]) as indexed_citations \n",
    "WITH apoc.convert.toList([x in indexed_citations WHERE x.index-x.value<0 | x.index]) as filtered \n",
    "RETURN last(filtered)+1\n",
    "\n",
    "MATCH () \n",
    "WITH [0, 2, 5, 6, 3, 8] as paper_citations \n",
    "WITH apoc.coll.sort(paper_citations) as inverse \n",
    "WITH apoc.coll.reverse(inverse) as ordered_citations \n",
    "WITH apoc.convert.toList([x in ordered_citations | {index: apoc.coll.indexOf(ordered_citations, x), value: x}]) as indexed_citations \n",
    "WITH apoc.convert.toList([x in indexed_citations WHERE x.index-x.value<0 | x.index]) as filtered \n",
    "RETURN last(filtered)+1\n",
    "\n",
    "########## Failed ###########\n",
    "\n",
    "MATCH ()\n",
    "WITH [] as paper_citations \n",
    "RETURN CASE paper_citaions\n",
    "WHEN []\n",
    "THEN 0\n",
    "ELSE \n",
    "WITH apoc.coll.sort(paper_citations) as inverse # <- FAILED HERE\n",
    "WITH apoc.coll.reverse(inverse) as ordered_citations\n",
    "WITH apoc.convert.toList([x in ordered_citations | {index: apoc.coll.indexOf(ordered_citations, x), value: x}]) as indexed_citations\n",
    "WITH apoc.convert.toList([x in indexed_citations WHERE x.index-x.value<0 | x.index]) as filtered\n",
    "RETURN last(filtered) + 1\n",
    "END"
   ]
  },
  {
   "cell_type": "code",
   "execution_count": null,
   "metadata": {
    "code_folding": [
     0,
     16
    ]
   },
   "outputs": [],
   "source": [
    "def old_test_author_mean_citations_per_paper(author, year):\n",
    "    \"\"\" Takes in a normalized name and returns total citations count\"\"\" \n",
    "    \n",
    "    query = \"\"\"\n",
    "    MATCH (a:Author {{normalizedName: '{}'}})-[r:AUTHORED]->(q:Quanta)\n",
    "    WHERE q.year <= {}\n",
    "    WITH a, collect(size((q)<-[:CITES]-(p:Quanta) WHERE p.year<={})) as citations\n",
    "    RETURN a.name, citations, apoc.coll.avg(citations) as avg\n",
    "    \"\"\".format(author, year, year)\n",
    "\n",
    "    df = run_query(query, graph, to_df=True)\n",
    "    return df\n",
    "\n",
    "#author_mean_citations_paper = test_author_mean_citations_per_paper('edward s boyden', 2008)\n",
    "#author_mean_citations_paper\n",
    "\n",
    "def another_test_author_mean_citations_per_paper(author, year):\n",
    "    query = \"\"\"MATCH (a:Author {normalizedName: '{}'})-[:AUTHORED]->(q:Quanta)\n",
    "    WHERE q.year <= {} \n",
    "    WITH a, collect(q) as papers\n",
    "    WITH a, papers, size(papers) as papers_written\n",
    "    UNWIND papers as paper\n",
    "    MATCH (p:Quanta)-[:CITES]->(paper) \n",
    "    WHERE p.year <= {}\n",
    "    WITH DISTINCT a.name as name, papers_written, count(p) as citations \n",
    "    RETURN name, citations, papers_written\"\"\".format(author, year, year)\n",
    "    \n",
    "    df = run_query(query, graph, to_df=True)\n",
    "    return df"
   ]
  },
  {
   "cell_type": "code",
   "execution_count": null,
   "metadata": {},
   "outputs": [],
   "source": [
    "def author_mean_citations_per_paper_old(years):\n",
    "    for year in years:   \n",
    "        query = \"\"\"\n",
    "        CALL apoc.periodic.iterate(\n",
    "        \"MATCH (a:Author)-[:AUTHORED]->(q:Quanta)\n",
    "        WHERE q.year <= {}\n",
    "        RETURN [a,q, count(*)] AS info\",\n",
    "        \n",
    "        \"WITH info[0] AS a, info[1] AS q, info[2] as papers_written\n",
    "         MERGE (a)-[m:METRICS_IN]->(y:Year {year:{}})       \n",
    "         SET m.citations_per_paper = size((p:Quanta)-[:CITES]->(q) WHERE p.year <= {})/papers_written\",\n",
    "         \n",
    "         //WITH a, count(r) as citations\\\n",
    "         //MERGE (a)-[m:METRICS_IN]->(y:Year {{year:{}}})\n",
    "         //MATCH (q)<-[r:CITES]-(p:Quanta) WHERE p.year <= {}\n",
    "\n",
    "         //SET m.citations_per_paper = citations / papers_written\\\n",
    "\n",
    "        //\"WITH head(info) AS a, tail(info) as q,\n",
    "        //collect(size((q)<-[:CITES]-(:Quanta))) as citations\n",
    "        //MERGE (a)-[m:METRICS_IN]->(y:Year {{year:{}}})\n",
    "        //SET m.mean_citations_per_paper = apoc.coll.avg(citations)\",\n",
    "        {{batchSize:5000, iterateList:true, parallel:false}});\n",
    "        \"\"\".format(year, year, year)\n",
    "        \n",
    "        run_query(query, graph)\n",
    "\n",
    "#author_mean_citations_per_paper(years)"
   ]
  }
 ],
 "metadata": {
  "kernelspec": {
   "display_name": "ss-env",
   "language": "python",
   "name": "ss-env"
  },
  "language_info": {
   "codemirror_mode": {
    "name": "ipython",
    "version": 3
   },
   "file_extension": ".py",
   "mimetype": "text/x-python",
   "name": "python",
   "nbconvert_exporter": "python",
   "pygments_lexer": "ipython3",
   "version": "3.5.2"
  }
 },
 "nbformat": 4,
 "nbformat_minor": 2
}
