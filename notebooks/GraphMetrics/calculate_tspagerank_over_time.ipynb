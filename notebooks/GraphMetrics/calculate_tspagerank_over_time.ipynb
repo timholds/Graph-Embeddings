{
 "cells": [
  {
   "cell_type": "markdown",
   "metadata": {},
   "source": [
    "# Write time-scaled PageRank to all nodes"
   ]
  },
  {
   "cell_type": "code",
   "execution_count": null,
   "metadata": {},
   "outputs": [],
   "source": [
    "import pandas as pd\n",
    "import json\n",
    "from py2neo import Graph, Node, Relationship\n",
    "import numpy as np\n",
    "import time\n",
    "from functools import reduce\n",
    "from tqdm import tqdm"
   ]
  },
  {
   "cell_type": "code",
   "execution_count": null,
   "metadata": {},
   "outputs": [],
   "source": [
    "graph = Graph(\"bolt://neo4j-magtwo:7687\", auth=('neo4j','myneo'))\n",
    "\n",
    "n_nodes = graph.database.primitive_counts['NumberOfNodeIdsInUse']\n",
    "n_relationships = graph.database.primitive_counts['NumberOfRelationshipIdsInUse']\n",
    "print(\"Connected to graph database with {:,} nodes and {:,} relationships!\".format\n",
    "     (n_nodes, n_relationships))"
   ]
  },
  {
   "cell_type": "code",
   "execution_count": null,
   "metadata": {},
   "outputs": [],
   "source": [
    "MATCH (y:Year) WHERE y.value=2019\n",
    "CALL algo.pageRank.stream('\n",
    "MATCH (q:Quanta)-[:PUBLISHED_IN]->(z:Year)\n",
    "WHERE z.value >= 1900 AND z.value <= y.value\n",
    "RETURN id(q) as id\n",
    "','\n",
    "MATCH (q1:Quanta)-[:CITES]->(q2:Quanta)\n",
    "RETURN id(q1) AS source, id(q2) AS target\n",
    "',{graph:'cypher'})\n",
    "yield nodeId, score\n",
    "MATCH (q:Quanta) WHERE id(q)=nodeId\n",
    "MERGE (q)-[m:METRICS_IN]->(y)\n",
    "SET m.tspr = score"
   ]
  },
  {
   "cell_type": "code",
   "execution_count": null,
   "metadata": {},
   "outputs": [],
   "source": [
    "MATCH (y:Year) WHERE y.value=2019\n",
    "CALL algo.pageRank.stream('\n",
    "MATCH (q:Quanta)-[:PUBLISHED_IN]->(z:Year)\n",
    "WHERE z.value >= 1900 AND z.value <= y.value\n",
    "RETURN id(q) as id\n",
    "','\n",
    "MATCH (q1:Quanta)-[:CITES]->(q2:Quanta)\n",
    "RETURN id(q1) AS source, id(q2) AS target\n",
    "',{graph:'cypher'})\n",
    "yield nodeId, score\n",
    "MATCH (q:Quanta) WHERE id(q)=nodeId\n",
    "MERGE (q)-[m:METRICS_IN]->(y)\n",
    "SET m.tspr = score"
   ]
  },
  {
   "cell_type": "code",
   "execution_count": null,
   "metadata": {},
   "outputs": [],
   "source": [
    "MATCH (q:Quanta)-[:PUBLISHED_IN]->(y:Year)\n",
    "WHERE id(q)=339\n",
    "MATCH (z:Year) WHERE z.value >= y.value\n",
    "MERGE (q)-[m:METRICS_IN]->(z)\n",
    "SET m.cites = size((z)<-[:PUBLISHED_IN]-(:Quanta)-[:CITES]->(q))"
   ]
  },
  {
   "cell_type": "markdown",
   "metadata": {},
   "source": [
    "# OLD"
   ]
  },
  {
   "cell_type": "code",
   "execution_count": null,
   "metadata": {},
   "outputs": [],
   "source": [
    "import pandas as pd\n",
    "import json\n",
    "from py2neo import Graph, Node, Relationship\n",
    "import numpy as np\n",
    "import time\n",
    "from functools import reduce\n",
    "from tqdm import tqdm"
   ]
  },
  {
   "cell_type": "code",
   "execution_count": null,
   "metadata": {},
   "outputs": [],
   "source": [
    "graph = Graph(\"bolt://neo4j-magtwo:7687\", auth=('neo4j','myneo'))\n",
    "\n",
    "n_nodes = graph.database.primitive_counts['NumberOfNodeIdsInUse']\n",
    "n_relationships = graph.database.primitive_counts['NumberOfRelationshipIdsInUse']\n",
    "print(\"Connected to graph database with {:,} nodes and {:,} relationships!\".format\n",
    "     (n_nodes, n_relationships))"
   ]
  },
  {
   "cell_type": "code",
   "execution_count": null,
   "metadata": {},
   "outputs": [],
   "source": [
    "start_year, end_year, step = 2018, 2020, 1\n",
    "min_year = 1950"
   ]
  },
  {
   "cell_type": "code",
   "execution_count": null,
   "metadata": {},
   "outputs": [],
   "source": [
    "# Write time-series of PageRank values to Quanta\n",
    "print(\"Writing PageRank for {} to {}...\".format(start_year, end_year))\n",
    "\n",
    "start_time = time.time()\n",
    "for year in tqdm(range(start_year, end_year+1, step)):\n",
    "    year_start_time = time.time()\n",
    "    \n",
    "    where_clause = 'WHERE p.year < {} AND p.year > {} AND p.venue=\"Nature\"'.format(year+1, min_year-1)\n",
    "    \n",
    "    # [1] Write standard PageRank values for current-year graph\n",
    "    print(\"\\t{}: Writing standard PageRank values...\".format(year), end=\" \")\n",
    "    query_start_time = time.time()\n",
    "    query = \"\"\"\n",
    "    CALL algo.pageRank(\n",
    "    'MATCH (p:Quanta) {} RETURN id(p) as id',\n",
    "    'MATCH (p1:Quanta)-[:CITES]->(p2:Quanta) RETURN id(p1) as source, id(p2) as target',\n",
    "    {{graph:'cypher', iterations:35, write:true, writeProperty:\"tspr{}\"}});\n",
    "    \"\"\".format(where_clause, year)\n",
    "#     print(query)\n",
    "    graph.run(query)\n",
    "    print(\"Done ({:.2f} min).\".format((time.time()-query_start_time)/60))\n",
    "      \n",
    "    # [2] Collect reference-set normalization values for all years up to the current year\n",
    "    print(\"\\t{}: Calculating reference-set statistics FOR SAME YEAR...\".format(year), end=\" \")\n",
    "    query_start_time = time.time()    \n",
    "    query = \"\"\"\n",
    "    MATCH (p:Quanta)\n",
    "    {}\n",
    "    RETURN \n",
    "        p.year as year,\n",
    "        AVG(p.tspr{}) as avgpr, \n",
    "        stDev(p.tspr{}) as stdevpr\n",
    "    ORDER BY year DESC\n",
    "    \"\"\".format(where_clause, year, year)\n",
    "#     print(query)\n",
    "    df = graph.run(query).to_data_frame()\n",
    "    avg_pagerank = df['avgpr'].iloc[0]\n",
    "    stdev_pagerank = df['stdevpr'].iloc[0]\n",
    "    print(\"Finished ({:.2f} min).\".format((time.time()-query_start_time)/60))  \n",
    "    \n",
    "    # [3] Normalize current-year PageRank values using calculated reference set from current year\n",
    "    print(\"\\t{}: Normalizing to time-scaled PageRank values...\".format(year), end=\" \")\n",
    "    \n",
    "    df['avg_str'] = df.apply(lambda row: 'WHEN {:.0f} THEN {}'.format(row['year'], row['avgpr']), axis=1)\n",
    "    df['std_str'] = df.apply(lambda row: 'WHEN {:.0f} THEN {}'.format(row['year'], row['stdevpr']), axis=1)\n",
    "    avg_case_str = 'CASE p.year ' + reduce(lambda a,b:'{} {}'.format(a,b), df['avg_str']) + ' END'\n",
    "    std_case_str = 'CASE p.year ' + reduce(lambda a,b:'{} {}'.format(a,b), df['std_str']) + ' END'\n",
    "    \n",
    "    query_start_time = time.time()\n",
    "    query = \"\"\"\n",
    "    CALL apoc.periodic.iterate(\n",
    "    'MATCH (p:Quanta) {} RETURN p',\n",
    "    'SET p.tsprn{} = ABS(p.tspr{}-{})/{}',\n",
    "    {{batchSize:10000, parallel:true}})\n",
    "    \"\"\".format(where_clause, year, year, avg_case_str, std_case_str)\n",
    "#     print(query)\n",
    "    graph.run(query)\n",
    "    print(\"Finished writing ({:.2f} min).\".format((time.time()-query_start_time)/60))        \n",
    "    \n",
    "    print(\"\\t{}: Wrote ts-PageRank to \\\"tspr{}\\\" ({:.2f} min)\".format(year, year, (time.time()-year_start_time)/60))\n",
    "    \n",
    "print(\"Finished everything ({:.2f} min).\".format((time.time()-start_time)/60))"
   ]
  },
  {
   "cell_type": "code",
   "execution_count": null,
   "metadata": {},
   "outputs": [],
   "source": []
  }
 ],
 "metadata": {
  "kernelspec": {
   "display_name": "Python 3",
   "language": "python",
   "name": "python3"
  },
  "language_info": {
   "codemirror_mode": {
    "name": "ipython",
    "version": 3
   },
   "file_extension": ".py",
   "mimetype": "text/x-python",
   "name": "python",
   "nbconvert_exporter": "python",
   "pygments_lexer": "ipython3",
   "version": "3.6.7"
  }
 },
 "nbformat": 4,
 "nbformat_minor": 2
}
