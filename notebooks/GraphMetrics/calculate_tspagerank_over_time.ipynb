{
 "cells": [
  {
   "cell_type": "markdown",
   "metadata": {},
   "source": [
    "# Write time-scaled PageRank to all nodes"
   ]
  },
  {
   "cell_type": "code",
   "execution_count": 28,
   "metadata": {},
   "outputs": [],
   "source": [
    "import json\n",
    "import time\n",
    "from functools import reduce\n",
    "\n",
    "import pandas as pd\n",
    "import numpy as np\n",
    "\n",
    "import warnings\n",
    "warnings.simplefilter(action='ignore', category=FutureWarning)\n",
    "from tqdm.autonotebook import tqdm\n",
    "\n",
    "from py2neo import Graph, Node, Relationship"
   ]
  },
  {
   "cell_type": "code",
   "execution_count": 29,
   "metadata": {},
   "outputs": [
    {
     "name": "stdout",
     "output_type": "stream",
     "text": [
      "Connected to graph database with 370,269,897 nodes and 220,155,390 relationships!\n"
     ]
    }
   ],
   "source": [
    "graph = Graph(\"bolt://dev_neo4j:7687\", auth=('neo4j','myneo'))\n",
    "\n",
    "n_nodes = graph.database.primitive_counts['NumberOfNodeIdsInUse']\n",
    "n_relationships = graph.database.primitive_counts['NumberOfRelationshipIdsInUse']\n",
    "print(\"Connected to graph database with {:,} nodes and {:,} relationships!\".format\n",
    "     (n_nodes, n_relationships))\n",
    "\n",
    "def run_query(query, graph, print_query=False, run_query=True, \n",
    "              print_only=False, to_df=False, verbose=True):\n",
    "    df = 1\n",
    "    if print_only: \n",
    "        print_query = True\n",
    "        run_query = False\n",
    "    start_time = time.time()\n",
    "    if print_query:\n",
    "        print(query)\n",
    "    if run_query:\n",
    "        if to_df:\n",
    "            df = graph.run(query).to_data_frame()\n",
    "        else:\n",
    "            graph.run(query)\n",
    "    end_time = time.time()\n",
    "    minutes_elapsed = (end_time-start_time)/60\n",
    "    if verbose:\n",
    "        print(\"Query completed in {:.2f} minutes.\".format(minutes_elapsed))\n",
    "    return df"
   ]
  },
  {
   "cell_type": "code",
   "execution_count": 47,
   "metadata": {},
   "outputs": [
    {
     "data": {
      "application/vnd.jupyter.widget-view+json": {
       "model_id": "6a1b88650dfc4afe93a3b551b0e89969",
       "version_major": 2,
       "version_minor": 0
      },
      "text/plain": [
       "HBox(children=(IntProgress(value=0, max=1), HTML(value='')))"
      ]
     },
     "metadata": {},
     "output_type": "display_data"
    },
    {
     "name": "stdout",
     "output_type": "stream",
     "text": [
      "Query completed in 0.68 minutes.\n",
      "Query completed in 0.02 minutes.\n",
      "\n",
      "    CALL apoc.periodic.iterate('\n",
      "    MATCH (q:Quanta)-[:PUBLISHED_IN]->(z:Year) \n",
      "    WHERE z.value <= 2018\n",
      "    RETURN q\n",
      "    ','\n",
      "    SET q.temporary = ABS(q.temporary-CASE q.year WHEN 1900 THEN 0.15015496810061815 WHEN 1899 THEN 0.1501723712509411 WHEN 1898 THEN 0.1501949793298881 WHEN 1897 THEN 0.15013476057412878 WHEN 1896 THEN 0.15017029551361163 WHEN 1895 THEN 0.15024061653390883 WHEN 1894 THEN 0.15037512690514931 WHEN 1893 THEN 0.1503085383149771 WHEN 1892 THEN 0.15026635515077102 WHEN 1891 THEN 0.1501403398235669 WHEN 1890 THEN 0.15012390671099837 WHEN 1889 THEN 0.1500732291031012 WHEN 1888 THEN 0.15004793233273134 WHEN 1887 THEN 0.15004876960540556 WHEN 1886 THEN 0.15001682058114277 WHEN 1885 THEN 0.15003552521734873 WHEN 1884 THEN 0.15001788469702093 WHEN 1883 THEN 0.150068202662041 WHEN 1882 THEN 0.1500522027534668 WHEN 1881 THEN 0.15005606860381096 WHEN 1880 THEN 0.1500110927444812 WHEN 1879 THEN 0.15001166514227507 WHEN 1878 THEN 0.1500127372632435 WHEN 1877 THEN 0.15000000000000002 WHEN 1876 THEN 0.15001522206364196 WHEN 1875 THEN 0.15001585820958538 WHEN 1874 THEN 0.15001592157905405 WHEN 1873 THEN 0.15000000000000002 WHEN 1872 THEN 0.15008306189255124 WHEN 1871 THEN 0.15008073026914323 WHEN 1870 THEN 0.15009538653745608 WHEN 1869 THEN 0.15008327890598694 WHEN 1868 THEN 0.15012865792640373 WHEN 1867 THEN 0.15016200763032558 WHEN 1866 THEN 0.15000000000000002 WHEN 1865 THEN 0.15000000000000002 WHEN 1864 THEN 0.15000000000000002 WHEN 1863 THEN 0.15000000000000002 WHEN 1862 THEN 0.15000000000000002 WHEN 1861 THEN 0.15000000000000002 WHEN 1860 THEN 0.15000000000000002 WHEN 1859 THEN 0.15000000000000002 WHEN 1858 THEN 0.15000000000000002 WHEN 1857 THEN 0.15006327543675752 WHEN 1856 THEN 0.15008923884813646 WHEN 1855 THEN 0.1500964812745176 WHEN 1854 THEN 0.15002402487316752 WHEN 1853 THEN 0.15000000000000002 WHEN 1852 THEN 0.15000000000000002 WHEN 1851 THEN 0.15000000000000002 WHEN 1850 THEN 0.15000000000000002 WHEN 1849 THEN 0.15000000000000002 WHEN 1848 THEN 0.15000000000000002 WHEN 1847 THEN 0.15000000000000002 WHEN 1846 THEN 0.15000000000000002 WHEN 1845 THEN 0.15000000000000002 WHEN 1844 THEN 0.15000000000000002 WHEN 1843 THEN 0.15000000000000002 WHEN 1842 THEN 0.15000000000000002 WHEN 1841 THEN 0.15000000000000002 WHEN 1840 THEN 0.15003269230817945 WHEN 1839 THEN 0.1500328692967001 WHEN 1838 THEN 0.15003506600712313 WHEN 1837 THEN 0.15000000000000002 WHEN 1836 THEN 0.15000000000000002 WHEN 1835 THEN 0.15000000000000002 WHEN 1834 THEN 0.15000000000000002 WHEN 1833 THEN 0.15000000000000002 WHEN 1832 THEN 0.15000000000000002 WHEN 1831 THEN 0.15000000000000002 WHEN 1830 THEN 0.1500451167734961 WHEN 1829 THEN 0.15010340632757496 WHEN 1828 THEN 0.15012336720067712 WHEN 1827 THEN 0.15009906760054387 WHEN 1826 THEN 0.15067105265824415 WHEN 1825 THEN 0.15193181825858182 WHEN 1824 THEN 0.15439655189884124 WHEN 1823 THEN 0.15000000000000002 WHEN 1810 THEN 0.15000000000000002 END)/CASE q.year WHEN 1900 THEN 0.0046999457037678995 WHEN 1899 THEN 0.005281107822458948 WHEN 1898 THEN 0.005390287336453365 WHEN 1897 THEN 0.0043618644588182855 WHEN 1896 THEN 0.004361786173400207 WHEN 1895 THEN 0.00562564440412882 WHEN 1894 THEN 0.006999671493380268 WHEN 1893 THEN 0.006479814424710364 WHEN 1892 THEN 0.0058980381994885945 WHEN 1891 THEN 0.004385373126254092 WHEN 1890 THEN 0.003958568025254021 WHEN 1889 THEN 0.002968798960815278 WHEN 1888 THEN 0.002471809216309062 WHEN 1887 THEN 0.0024932988357880452 WHEN 1886 THEN 0.0014644535434738181 WHEN 1885 THEN 0.002128105797077332 WHEN 1884 THEN 0.0015100658796403513 WHEN 1883 THEN 0.0028410016398957736 WHEN 1882 THEN 0.0024471456497404858 WHEN 1881 THEN 0.0025361112413452474 WHEN 1880 THEN 0.0008409295385308977 WHEN 1879 THEN 0.0008623530886969481 WHEN 1878 THEN 0.0009011107390506727 WHEN 1877 THEN 1.2741205121587346e-14 WHEN 1876 THEN 0.000985092176268708 WHEN 1875 THEN 0.001005465514694364 WHEN 1874 THEN 0.0010074724338862355 WHEN 1873 THEN 1.2213862102082987e-14 WHEN 1872 THEN 0.0032535812888931682 WHEN 1871 THEN 0.003207610308303393 WHEN 1870 THEN 0.003486504950263656 WHEN 1869 THEN 0.0032580043146595763 WHEN 1868 THEN 0.004049148757384222 WHEN 1867 THEN 0.004543439457985933 WHEN 1866 THEN 3.66501678395247e-15 WHEN 1865 THEN 3.803741863203092e-15 WHEN 1864 THEN 2.4154013042803683e-15 WHEN 1863 THEN 1.6380169923480815e-15 WHEN 1862 THEN 7.495936612081324e-16 WHEN 1861 THEN 1.8878891754193977e-15 WHEN 1860 THEN 8.88391386594374e-16 WHEN 1859 THEN 1.665719451894207e-15 WHEN 1858 THEN 2.1099011540015116e-15 WHEN 1857 THEN 0.002007935847865993 WHEN 1856 THEN 0.0022824693955333392 WHEN 1855 THEN 0.002373186133918434 WHEN 1854 THEN 0.0010104737130838648 WHEN 1853 THEN 3.720326896527037e-15 WHEN 1852 THEN 3.276092480495347e-15 WHEN 1851 THEN 6.940677452042044e-16 WHEN 1850 THEN 2.7762486004287124e-17 WHEN 1849 THEN 1.5824348366147723e-15 WHEN 1848 THEN 2.387636982505638e-15 WHEN 1847 THEN 2.9151558014981405e-15 WHEN 1846 THEN 3.886981940548545e-15 WHEN 1845 THEN 3.970213136914691e-15 WHEN 1844 THEN 3.803743451567104e-15 WHEN 1843 THEN 3.720507680618079e-15 WHEN 1842 THEN 3.581764414253902e-15 WHEN 1841 THEN 3.554015754592358e-15 WHEN 1840 THEN 0.0011787379345432024 WHEN 1839 THEN 0.0011819243336917435 WHEN 1838 THEN 0.001220780621136573 WHEN 1837 THEN 3.110010700666584e-15 WHEN 1836 THEN 2.749193630496315e-15 WHEN 1835 THEN 2.7769547715993155e-15 WHEN 1834 THEN 2.8602225884632635e-15 WHEN 1833 THEN 3.304272442361059e-15 WHEN 1832 THEN 3.304271325037963e-15 WHEN 1831 THEN 3.110005772937268e-15 WHEN 1830 THEN 0.0013847248470925792 WHEN 1829 THEN 0.0020950933251362917 WHEN 1828 THEN 0.0022881182908997162 WHEN 1827 THEN 0.002051919366313368 WHEN 1826 THEN 0.009249822556457597 WHEN 1825 THEN 0.015694165723495013 WHEN 1824 THEN 0.02367615655838001 WHEN 1823 THEN 2.925694557147251e-17 WHEN 1810 THEN 0.0 END\n",
      "    ',{batchSize:10000, parallel:true});\n",
      "    \n",
      "Query completed in 0.00 minutes.\n",
      "\n"
     ]
    }
   ],
   "source": [
    "min_year, max_year = 1900, 1900\n",
    "for y in tqdm(range(min_year, max_year+1)):\n",
    "    \n",
    "    # Write PageRank scores considering all nodes from year <= y\n",
    "    query = \"\"\"\n",
    "    CALL algo.pageRank('\n",
    "    MATCH (q:Quanta)-[:PUBLISHED_IN]->(z:Year)\n",
    "    WHERE z.value <= {}\n",
    "    RETURN id(q) as id\n",
    "    ','\n",
    "    MATCH (q1:Quanta)-[:CITES]->(q2:Quanta)\n",
    "    RETURN id(q1) AS source, id(q2) AS target\n",
    "    ',{{graph:'cypher', write:true, writeProperty:\"temporary\"}});\n",
    "    \"\"\".format(y,y)\n",
    "    run_query(query, graph)\n",
    "    \n",
    "    # Calculate reference set statistics for all years <= y\n",
    "    query = \"\"\"\n",
    "    MATCH (y:Year)\n",
    "    WHERE y.value<=1900\n",
    "    MATCH (q:Quanta)-[:PUBLISHED_IN]->(z:Year)\n",
    "    WHERE (z.value<=y.value+1) AND (z.value>=y.value-1)\n",
    "    RETURN y.value as year, avg(q.temporary) as avg, stdev(q.temporary) AS std\n",
    "    ORDER BY y.value DESC;\n",
    "    \"\"\".format(y)\n",
    "    df = run_query(query, graph, to_df=True)\n",
    "    \n",
    "    # Normalize score for each Quanta from year <= y\n",
    "    df['avg_str'] = df.apply(lambda row: 'WHEN {:.0f} THEN {}'.format(row['year'], row['avg']), axis=1)\n",
    "    df['std_str'] = df.apply(lambda row: 'WHEN {:.0f} THEN {}'.format(row['year'], row['std']), axis=1)\n",
    "    avg_case_str = 'CASE q.year ' + reduce(lambda a,b:'{} {}'.format(a,b), df['avg_str']) + ' END'\n",
    "    std_case_str = 'CASE q.year ' + reduce(lambda a,b:'{} {}'.format(a,b), df['std_str']) + ' END'\n",
    "    query = \"\"\"\n",
    "    CALL apoc.periodic.iterate('\n",
    "    MATCH (q:Quanta)-[:PUBLISHED_IN]->(z:Year) \n",
    "    WHERE z.value <= {}\n",
    "    RETURN q\n",
    "    ','\n",
    "    SET q.temporary = ABS(q.temporary-{})/{}\n",
    "    ',{{batchSize:10000, parallel:true}});\n",
    "    \"\"\".format(year, avg_case_str, std_case_str)\n",
    "    run_query(query, graph, print_only=False)\n",
    "    \n",
    "    # Write scores to METRICS_IN relationship\n",
    "    query = \"\"\"\n",
    "    CALL apoc.periodic.iterate('\n",
    "    MATCH (q:Quanta)-[:PUBLISHED_IN]->(z:Year) \n",
    "    WHERE z.value <= {}\n",
    "    RETURN q\n",
    "    ','\n",
    "    MATCH (y:Year)\n",
    "    WHERE y.value = {}\n",
    "    MERGE (q)-[m:METRICS_IN]->(y)\n",
    "    SET m.timeScaledPageRank = q.temporary\n",
    "    ',{batchSize:10000, parallel:true});\n",
    "    \"\"\"\n"
   ]
  },
  {
   "cell_type": "code",
   "execution_count": 40,
   "metadata": {},
   "outputs": [],
   "source": [
    "\n"
   ]
  },
  {
   "cell_type": "code",
   "execution_count": 42,
   "metadata": {},
   "outputs": [
    {
     "data": {
      "text/plain": [
       "'CASE p.year WHEN 1899 THEN 0.1501723712509411 WHEN 1898 THEN 0.1501949793298881 WHEN 1897 THEN 0.15013476057412878 WHEN 1896 THEN 0.15017029551361163 WHEN 1895 THEN 0.15024061653390883 WHEN 1894 THEN 0.15037512690514931 WHEN 1893 THEN 0.1503085383149771 WHEN 1892 THEN 0.15026635515077102 WHEN 1891 THEN 0.1501403398235669 WHEN 1890 THEN 0.15012390671099837 WHEN 1889 THEN 0.1500732291031012 WHEN 1888 THEN 0.15004793233273134 WHEN 1887 THEN 0.15004876960540556 WHEN 1886 THEN 0.15001682058114277 WHEN 1885 THEN 0.15003552521734873 WHEN 1884 THEN 0.15001788469702093 WHEN 1883 THEN 0.150068202662041 WHEN 1882 THEN 0.1500522027534668 WHEN 1881 THEN 0.15005606860381096 WHEN 1880 THEN 0.1500110927444812 WHEN 1879 THEN 0.15001166514227507 WHEN 1878 THEN 0.1500127372632435 WHEN 1877 THEN 0.15000000000000002 WHEN 1876 THEN 0.15001522206364196 WHEN 1875 THEN 0.15001585820958538 WHEN 1874 THEN 0.15001592157905405 WHEN 1873 THEN 0.15000000000000002 WHEN 1872 THEN 0.15008306189255124 WHEN 1871 THEN 0.15008073026914323 WHEN 1870 THEN 0.15009538653745608 WHEN 1869 THEN 0.15008327890598694 WHEN 1868 THEN 0.15012865792640373 WHEN 1867 THEN 0.15016200763032558 WHEN 1866 THEN 0.15000000000000002 WHEN 1865 THEN 0.15000000000000002 WHEN 1864 THEN 0.15000000000000002 WHEN 1863 THEN 0.15000000000000002 WHEN 1862 THEN 0.15000000000000002 WHEN 1861 THEN 0.15000000000000002 WHEN 1860 THEN 0.15000000000000002 WHEN 1859 THEN 0.15000000000000002 WHEN 1858 THEN 0.15000000000000002 WHEN 1857 THEN 0.15006327543675752 WHEN 1856 THEN 0.15008923884813646 WHEN 1855 THEN 0.1500964812745176 WHEN 1854 THEN 0.15002402487316752 WHEN 1853 THEN 0.15000000000000002 WHEN 1852 THEN 0.15000000000000002 WHEN 1851 THEN 0.15000000000000002 WHEN 1850 THEN 0.15000000000000002 WHEN 1849 THEN 0.15000000000000002 WHEN 1848 THEN 0.15000000000000002 WHEN 1847 THEN 0.15000000000000002 WHEN 1846 THEN 0.15000000000000002 WHEN 1845 THEN 0.15000000000000002 WHEN 1844 THEN 0.15000000000000002 WHEN 1843 THEN 0.15000000000000002 WHEN 1842 THEN 0.15000000000000002 WHEN 1841 THEN 0.15000000000000002 WHEN 1840 THEN 0.15003269230817945 WHEN 1839 THEN 0.1500328692967001 WHEN 1838 THEN 0.15003506600712313 WHEN 1837 THEN 0.15000000000000002 WHEN 1836 THEN 0.15000000000000002 WHEN 1835 THEN 0.15000000000000002 WHEN 1834 THEN 0.15000000000000002 WHEN 1833 THEN 0.15000000000000002 WHEN 1832 THEN 0.15000000000000002 WHEN 1831 THEN 0.15000000000000002 WHEN 1830 THEN 0.1500451167734961 WHEN 1829 THEN 0.15010340632757496 WHEN 1828 THEN 0.15012336720067712 WHEN 1827 THEN 0.15009906760054387 WHEN 1826 THEN 0.15067105265824415 WHEN 1825 THEN 0.15193181825858182 WHEN 1824 THEN 0.15439655189884124 WHEN 1823 THEN 0.15000000000000002 WHEN 1810 THEN 0.15000000000000002 END'"
      ]
     },
     "execution_count": 42,
     "metadata": {},
     "output_type": "execute_result"
    }
   ],
   "source": [
    "avg_case_str"
   ]
  },
  {
   "cell_type": "code",
   "execution_count": null,
   "metadata": {},
   "outputs": [],
   "source": []
  },
  {
   "cell_type": "code",
   "execution_count": null,
   "metadata": {},
   "outputs": [],
   "source": [
    "MATCH (y:Year) WHERE y.value=2019\n",
    "CALL algo.pageRank.stream('\n",
    "MATCH (q:Quanta)-[:PUBLISHED_IN]->(z:Year)\n",
    "WHERE z.value >= 1900 AND z.value <= y.value\n",
    "RETURN id(q) as id\n",
    "','\n",
    "MATCH (q1:Quanta)-[:CITES]->(q2:Quanta)\n",
    "RETURN id(q1) AS source, id(q2) AS target\n",
    "',{graph:'cypher'})\n",
    "yield nodeId, score\n",
    "MATCH (q:Quanta) WHERE id(q)=nodeId\n",
    "MERGE (q)-[m:METRICS_IN]->(y)\n",
    "SET m.tspr = score"
   ]
  },
  {
   "cell_type": "code",
   "execution_count": null,
   "metadata": {},
   "outputs": [],
   "source": [
    "MATCH (q:Quanta)-[:PUBLISHED_IN]->(y:Year)\n",
    "WHERE id(q)=57383\n",
    "MATCH (z:Year) WHERE z.value >= y.value\n",
    "MERGE (q)-[m:METRICS_IN]->(z)\n",
    "SET m.cites = size((z)<-[:PUBLISHED_IN]-(:Quanta)-[:CITES]->(q))"
   ]
  },
  {
   "cell_type": "markdown",
   "metadata": {},
   "source": [
    "# OLD"
   ]
  },
  {
   "cell_type": "code",
   "execution_count": null,
   "metadata": {},
   "outputs": [],
   "source": [
    "import pandas as pd\n",
    "import json\n",
    "from py2neo import Graph, Node, Relationship\n",
    "import numpy as np\n",
    "import time\n",
    "from functools import reduce\n",
    "from tqdm import tqdm"
   ]
  },
  {
   "cell_type": "code",
   "execution_count": null,
   "metadata": {},
   "outputs": [],
   "source": [
    "graph = Graph(\"bolt://neo4j-magtwo:7687\", auth=('neo4j','myneo'))\n",
    "\n",
    "n_nodes = graph.database.primitive_counts['NumberOfNodeIdsInUse']\n",
    "n_relationships = graph.database.primitive_counts['NumberOfRelationshipIdsInUse']\n",
    "print(\"Connected to graph database with {:,} nodes and {:,} relationships!\".format\n",
    "     (n_nodes, n_relationships))"
   ]
  },
  {
   "cell_type": "code",
   "execution_count": 20,
   "metadata": {},
   "outputs": [],
   "source": [
    "start_year, end_year, step = 2018, 2020, 1\n",
    "min_year = 1950"
   ]
  },
  {
   "cell_type": "code",
   "execution_count": 21,
   "metadata": {},
   "outputs": [
    {
     "name": "stderr",
     "output_type": "stream",
     "text": [
      "\r",
      "  0%|          | 0/3 [00:00<?, ?it/s]"
     ]
    },
    {
     "name": "stdout",
     "output_type": "stream",
     "text": [
      "Writing PageRank for 2018 to 2020...\n",
      "\t2018: Writing standard PageRank values... \n",
      "    CALL algo.pageRank(\n",
      "    'MATCH (p:Quanta) WHERE p.year < 2019 AND p.year > 1949 AND p.venue=\"Nature\" RETURN id(p) as id',\n",
      "    'MATCH (p1:Quanta)-[:CITES]->(p2:Quanta) RETURN id(p1) as source, id(p2) as target',\n",
      "    {graph:'cypher', iterations:35, write:true, writeProperty:\"tspr2018\"});\n",
      "    \n",
      "Done (0.00 min).\n",
      "\t2018: Calculating reference-set statistics FOR SAME YEAR... \n",
      "    MATCH (p:Quanta)\n",
      "    WHERE p.year < 2019 AND p.year > 1949 AND p.venue=\"Nature\"\n",
      "    RETURN \n",
      "        p.year as year,\n",
      "        AVG(p.tspr2018) as avgpr, \n",
      "        stDev(p.tspr2018) as stdevpr\n",
      "    ORDER BY year DESC\n",
      "    \n"
     ]
    },
    {
     "name": "stderr",
     "output_type": "stream",
     "text": [
      "\n"
     ]
    },
    {
     "ename": "NameError",
     "evalue": "name 'df' is not defined",
     "output_type": "error",
     "traceback": [
      "\u001b[0;31m---------------------------------------------------------------------------\u001b[0m",
      "\u001b[0;31mNameError\u001b[0m                                 Traceback (most recent call last)",
      "\u001b[0;32m<ipython-input-21-930cf166d1de>\u001b[0m in \u001b[0;36m<module>\u001b[0;34m()\u001b[0m\n\u001b[1;32m     35\u001b[0m     \u001b[0mprint\u001b[0m\u001b[0;34m(\u001b[0m\u001b[0mquery\u001b[0m\u001b[0;34m)\u001b[0m\u001b[0;34m\u001b[0m\u001b[0;34m\u001b[0m\u001b[0m\n\u001b[1;32m     36\u001b[0m \u001b[0;31m#     df = graph.run(query).to_data_frame()\u001b[0m\u001b[0;34m\u001b[0m\u001b[0;34m\u001b[0m\u001b[0;34m\u001b[0m\u001b[0m\n\u001b[0;32m---> 37\u001b[0;31m     \u001b[0mavg_pagerank\u001b[0m \u001b[0;34m=\u001b[0m \u001b[0mdf\u001b[0m\u001b[0;34m[\u001b[0m\u001b[0;34m'avgpr'\u001b[0m\u001b[0;34m]\u001b[0m\u001b[0;34m.\u001b[0m\u001b[0miloc\u001b[0m\u001b[0;34m[\u001b[0m\u001b[0;36m0\u001b[0m\u001b[0;34m]\u001b[0m\u001b[0;34m\u001b[0m\u001b[0;34m\u001b[0m\u001b[0m\n\u001b[0m\u001b[1;32m     38\u001b[0m     \u001b[0mstdev_pagerank\u001b[0m \u001b[0;34m=\u001b[0m \u001b[0mdf\u001b[0m\u001b[0;34m[\u001b[0m\u001b[0;34m'stdevpr'\u001b[0m\u001b[0;34m]\u001b[0m\u001b[0;34m.\u001b[0m\u001b[0miloc\u001b[0m\u001b[0;34m[\u001b[0m\u001b[0;36m0\u001b[0m\u001b[0;34m]\u001b[0m\u001b[0;34m\u001b[0m\u001b[0;34m\u001b[0m\u001b[0m\n\u001b[1;32m     39\u001b[0m     \u001b[0mprint\u001b[0m\u001b[0;34m(\u001b[0m\u001b[0;34m\"Finished ({:.2f} min).\"\u001b[0m\u001b[0;34m.\u001b[0m\u001b[0mformat\u001b[0m\u001b[0;34m(\u001b[0m\u001b[0;34m(\u001b[0m\u001b[0mtime\u001b[0m\u001b[0;34m.\u001b[0m\u001b[0mtime\u001b[0m\u001b[0;34m(\u001b[0m\u001b[0;34m)\u001b[0m\u001b[0;34m-\u001b[0m\u001b[0mquery_start_time\u001b[0m\u001b[0;34m)\u001b[0m\u001b[0;34m/\u001b[0m\u001b[0;36m60\u001b[0m\u001b[0;34m)\u001b[0m\u001b[0;34m)\u001b[0m\u001b[0;34m\u001b[0m\u001b[0;34m\u001b[0m\u001b[0m\n",
      "\u001b[0;31mNameError\u001b[0m: name 'df' is not defined"
     ]
    }
   ],
   "source": [
    "# Write time-series of PageRank values to Quanta\n",
    "print(\"Writing PageRank for {} to {}...\".format(start_year, end_year))\n",
    "\n",
    "start_time = time.time()\n",
    "for year in tqdm(range(start_year, end_year+1, step)):\n",
    "    year_start_time = time.time()\n",
    "    \n",
    "    where_clause = 'WHERE p.year < {} AND p.year > {} AND p.venue=\"Nature\"'.format(year+1, min_year-1)\n",
    "    \n",
    "    # [1] Write standard PageRank values for current-year graph\n",
    "    print(\"\\t{}: Writing standard PageRank values...\".format(year), end=\" \")\n",
    "    query_start_time = time.time()\n",
    "    query = \"\"\"\n",
    "    CALL algo.pageRank(\n",
    "    'MATCH (p:Quanta) {} RETURN id(p) as id',\n",
    "    'MATCH (p1:Quanta)-[:CITES]->(p2:Quanta) RETURN id(p1) as source, id(p2) as target',\n",
    "    {{graph:'cypher', iterations:35, write:true, writeProperty:\"tspr{}\"}});\n",
    "    \"\"\".format(where_clause, year)\n",
    "    print(query)\n",
    "#     graph.run(query)\n",
    "    print(\"Done ({:.2f} min).\".format((time.time()-query_start_time)/60))\n",
    "      \n",
    "    # [2] Collect reference-set normalization values for all years up to the current year\n",
    "    print(\"\\t{}: Calculating reference-set statistics FOR SAME YEAR...\".format(year), end=\" \")\n",
    "    query_start_time = time.time()    \n",
    "    query = \"\"\"\n",
    "    MATCH (p:Quanta)\n",
    "    {}\n",
    "    RETURN \n",
    "        p.year as year,\n",
    "        AVG(p.tspr{}) as avgpr, \n",
    "        stDev(p.tspr{}) as stdevpr\n",
    "    ORDER BY year DESC\n",
    "    \"\"\".format(where_clause, year, year)\n",
    "    print(query)\n",
    "#     df = graph.run(query).to_data_frame()\n",
    "    avg_pagerank = df['avgpr'].iloc[0]\n",
    "    stdev_pagerank = df['stdevpr'].iloc[0]\n",
    "    print(\"Finished ({:.2f} min).\".format((time.time()-query_start_time)/60))  \n",
    "    \n",
    "    # [3] Normalize current-year PageRank values using calculated reference set from current year\n",
    "    print(\"\\t{}: Normalizing to time-scaled PageRank values...\".format(year), end=\" \")\n",
    "    \n",
    "    df['avg_str'] = df.apply(lambda row: 'WHEN {:.0f} THEN {}'.format(row['year'], row['avgpr']), axis=1)\n",
    "    df['std_str'] = df.apply(lambda row: 'WHEN {:.0f} THEN {}'.format(row['year'], row['stdevpr']), axis=1)\n",
    "    avg_case_str = 'CASE p.year ' + reduce(lambda a,b:'{} {}'.format(a,b), df['avg_str']) + ' END'\n",
    "    std_case_str = 'CASE p.year ' + reduce(lambda a,b:'{} {}'.format(a,b), df['std_str']) + ' END'\n",
    "    \n",
    "    query_start_time = time.time()\n",
    "    query = \"\"\"\n",
    "    CALL apoc.periodic.iterate(\n",
    "    'MATCH (p:Quanta) {} RETURN p',\n",
    "    'SET p.tsprn{} = ABS(p.tspr{}-{})/{}',\n",
    "    {{batchSize:10000, parallel:true}})\n",
    "    \"\"\".format(where_clause, year, year, avg_case_str, std_case_str)\n",
    "    print(query)\n",
    "#     graph.run(query)\n",
    "    print(\"Finished writing ({:.2f} min).\".format((time.time()-query_start_time)/60))        \n",
    "    \n",
    "    print(\"\\t{}: Wrote ts-PageRank to \\\"tspr{}\\\" ({:.2f} min)\".format(year, year, (time.time()-year_start_time)/60))\n",
    "    \n",
    "print(\"Finished everything ({:.2f} min).\".format((time.time()-start_time)/60))"
   ]
  },
  {
   "cell_type": "code",
   "execution_count": null,
   "metadata": {},
   "outputs": [],
   "source": []
  }
 ],
 "metadata": {
  "kernelspec": {
   "display_name": "Python 3",
   "language": "python",
   "name": "python3"
  },
  "language_info": {
   "codemirror_mode": {
    "name": "ipython",
    "version": 3
   },
   "file_extension": ".py",
   "mimetype": "text/x-python",
   "name": "python",
   "nbconvert_exporter": "python",
   "pygments_lexer": "ipython3",
   "version": "3.6.7"
  }
 },
 "nbformat": 4,
 "nbformat_minor": 2
}
