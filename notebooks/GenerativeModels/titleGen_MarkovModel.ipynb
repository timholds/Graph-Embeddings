{
 "cells": [
  {
   "cell_type": "code",
   "execution_count": null,
   "metadata": {},
   "outputs": [],
   "source": [
    "import json\n",
    "import time\n",
    "import pickle\n",
    "import os\n",
    "from functools import reduce\n",
    "\n",
    "import pandas as pd\n",
    "import numpy as np\n",
    "import markovify\n",
    "\n",
    "import warnings\n",
    "warnings.simplefilter(action='ignore', category=FutureWarning)\n",
    "from tqdm.autonotebook import tqdm\n",
    "\n",
    "from py2neo import Graph, Node, Relationship"
   ]
  },
  {
   "cell_type": "code",
   "execution_count": null,
   "metadata": {},
   "outputs": [],
   "source": [
    "filepath = '/tmp/data/authorlist_titles.json'\n",
    "nlines = int(os.popen(\"wc -l  {}\".format(filepath)).read().split(' ')[0])\n",
    "reader = pd.read_json(filepath, lines=True, chunksize=1)"
   ]
  },
  {
   "cell_type": "code",
   "execution_count": null,
   "metadata": {},
   "outputs": [],
   "source": [
    "models = {}\n",
    "t = tqdm(total=nlines)\n",
    "for chunk in reader:\n",
    "\n",
    "    aid  =  chunk['a.id'].values[0]\n",
    "    cleanName = chunk['cleanName'].values[0]\n",
    "    name = chunk['name'].values[0]\n",
    "    num_titles = chunk['num_titles'].values[0]\n",
    "    titles = chunk['titles'].values[0]\n",
    "    \n",
    "    if num_titles > 5:\n",
    "        corpus = '\\n'.join(titles)\n",
    "        mdl = markovify.NewlineText(corpus, state_size=2, retain_original=False, well_formed=False)\n",
    "        models[aid] = {\n",
    "            'cleanName': cleanName, \n",
    "            'name': name, \n",
    "            'num_titles': num_titles, \n",
    "            'model': mdl}\n",
    "        \n",
    "    t.update()"
   ]
  },
  {
   "cell_type": "code",
   "execution_count": null,
   "metadata": {},
   "outputs": [],
   "source": []
  },
  {
   "cell_type": "code",
   "execution_count": null,
   "metadata": {},
   "outputs": [],
   "source": [
    "public_address = '54.174.175.98'\n",
    "graph = Graph('bolt://{}:7687'.format(public_address), auth=('neo4j','myneo'))\n",
    "\n",
    "def run_query(query, graph, print_query=False, run_query=True, \n",
    "              print_only=False, to_df=False, verbose=True):\n",
    "    df = 1\n",
    "    if print_only: \n",
    "        print_query = True\n",
    "        run_query = False\n",
    "    start_time = time.time()\n",
    "    if print_query:\n",
    "        print(query)\n",
    "    if run_query:\n",
    "        if to_df:\n",
    "            df = graph.run(query).to_data_frame()\n",
    "        else:\n",
    "            graph.run(query)\n",
    "    end_time = time.time()\n",
    "    minutes_elapsed = (end_time-start_time)/60\n",
    "    if verbose:\n",
    "        print(\"Query completed in {:.2f} minutes.\".format(minutes_elapsed))\n",
    "    return df"
   ]
  },
  {
   "cell_type": "code",
   "execution_count": null,
   "metadata": {},
   "outputs": [],
   "source": [
    "author_list = ['jcraigventer',\n",
    "               'edwardsboyden',\n",
    "               'davidbotstein',\n",
    "               'georgemchurch',\n",
    "               'shuguangzhang',\n",
    "               'josephmjacobson']\n",
    "\n",
    "titledf = pd.DataFrame()\n",
    "\n",
    "for author in author_list:\n",
    "    query = \"\"\"\n",
    "    match (a:Author)-[:AUTHORED]->(q:Quanta)\n",
    "    where a.cleanName='{}'\n",
    "    return a.cleanName as author, q.title as title    \n",
    "    \"\"\".format(author)\n",
    "    authordf = run_query(query, graph, to_df=True)\n",
    "    titledf = pd.concat([authordf, titledf])"
   ]
  },
  {
   "cell_type": "code",
   "execution_count": null,
   "metadata": {},
   "outputs": [],
   "source": [
    "import markovify\n",
    "\n",
    "models = {}\n",
    "for author in author_list:\n",
    "    print(\"Training model for {}...\".format(author))\n",
    "    authorcorpus = titledf.loc[titledf['author']==author,'title'] \\\n",
    "                    .str.cat(sep=\"\\n\")\n",
    "    \n",
    "    authormodel = markovify.NewlineText(authorcorpus, state_size=2, retain_original=False)\n",
    "    models[author] = authormodel"
   ]
  },
  {
   "cell_type": "code",
   "execution_count": null,
   "metadata": {},
   "outputs": [],
   "source": [
    "for author in author_list:\n",
    "    print(\"\\n=== {} ===\".format(author))\n",
    "    for i in range(5):\n",
    "        print(\"{}\\n\".format(models[author].make_sentence(tries=100)))"
   ]
  },
  {
   "cell_type": "code",
   "execution_count": null,
   "metadata": {},
   "outputs": [],
   "source": [
    "query = \"\"\"\n",
    "match (q:Quanta)\n",
    "return q.title as title    \n",
    "\"\"\"\n",
    "alltitledf = run_query(query, graph, to_df=True)\n",
    "\n",
    "print(\"== Training model for all titles ==\")\n",
    "alltitlecorpus = alltitledf['title'].str.cat(sep=\"\\n\")\n",
    "alltitlemodel = markovify.NewlineText(alltitlecorpus,\n",
    "                                      retain_original=False,\n",
    "                                      well_formed=True,\n",
    "                                      state_size=2)\n",
    "\n",
    "models['allauthors'] = alltitlemodel\n",
    "\n",
    "print(\"== Done. ==\\n\")\n",
    "for _ in range(10):\n",
    "    print(\"{}\\n\".format(alltitlemodel.make_sentence(tries=100)))"
   ]
  },
  {
   "cell_type": "code",
   "execution_count": 58,
   "metadata": {},
   "outputs": [
    {
     "data": {
      "text/plain": [
       "212"
      ]
     },
     "execution_count": 58,
     "metadata": {},
     "output_type": "execute_result"
    }
   ],
   "source": []
  },
  {
   "cell_type": "code",
   "execution_count": 61,
   "metadata": {},
   "outputs": [
    {
     "data": {
      "text/plain": [
       "{'jcraigventer': 1.358974358974359,\n",
       " 'edwardsboyden': 3.533333333333333,\n",
       " 'davidbotstein': 1.1977401129943503,\n",
       " 'georgemchurch': 1.0,\n",
       " 'shuguangzhang': 5.72972972972973,\n",
       " 'josephmjacobson': 21.2}"
      ]
     },
     "execution_count": 61,
     "metadata": {},
     "output_type": "execute_result"
    }
   ],
   "source": []
  },
  {
   "cell_type": "code",
   "execution_count": 81,
   "metadata": {},
   "outputs": [],
   "source": [
    "\n",
    "# Find the total number of publications for each author\n",
    "npubs = {a: sum(titledf['author']==a) for  a in author_list}\n",
    "\n",
    "# Find the maximum number of publications\n",
    "maxnpubs = max(npubs.values())\n",
    "\n",
    "# Calculate scaling factor for each author to normalize models\n",
    "baseline_weightings = {a: maxnpubs/npubs[a] for a in author_list}\n",
    "\n",
    "\n",
    "# Get user weighting (must sum to 1)\n",
    "user_weighting = {'jcraigventer':    0,\n",
    "                  'edwardsboyden':   0,\n",
    "                  'davidbotstein':   .5,\n",
    "                  'georgemchurch':   0,\n",
    "                  'shuguangzhang':   0,\n",
    "                  'josephmjacobson': .5}\n",
    "assert(sum(user_weighting.values())==1)\n",
    "\n",
    "# Combine scaling and user weighting to get final weighting\n",
    "final_weightings = {a: baseline_weightings[a] * user_weighting[a] \n",
    "                    for a in user_weighting.keys()}\n",
    "\n",
    "# Extract models and weights of interest\n",
    "models_to_use = [models[a] for (a,w) in user_weighting.items() if w>0]\n",
    "weights_to_use = [final_weightings[a] for (a,w) in user_weighting.items() if w>0]\n",
    "\n",
    "# Build combined model\n",
    "combinedmodel = markovify.combine(models_to_use, weights_to_use)"
   ]
  },
  {
   "cell_type": "code",
   "execution_count": 83,
   "metadata": {
    "scrolled": false
   },
   "outputs": [
    {
     "name": "stdout",
     "output_type": "stream",
     "text": [
      "Photoelectrochemical synthesis of DNA microarrays.\n",
      "\n",
      "All-inorganic field effect transistors fabricated by printing\n",
      "\n",
      "Desferrioxamine-mediated Iron Uptake in Saccharomyces cerevisiae\n",
      "\n",
      "Yeast actin filaments display ATP-dependent sliding movement over surfaces coated with rabbit muscle myosin.\n",
      "\n",
      "Gene expression profiling reveals molecularly and clinically distinct subtypes of prostate cancer\n",
      "\n",
      "The future of humans as model organisms.\n",
      "\n",
      "Robotics: Self-replication from random parts\n",
      "\n",
      "Gene expression profiling identifies clinically relevant subtypes of glioblastoma multiforme\n",
      "\n",
      "Precise Manipulation of Chromosomes in Vivo Enables Genome-Wide Codon Replacement\n",
      "\n",
      "Evidence for posttranslational translocation of β-lactamase in Salmonella typhimurium\n",
      "\n"
     ]
    }
   ],
   "source": [
    "# Generate some titles\n",
    "for _ in range(10):\n",
    "    print(\"{}\\n\".format(combinedmodel.make_sentence(tries=100)))"
   ]
  },
  {
   "cell_type": "code",
   "execution_count": null,
   "metadata": {},
   "outputs": [],
   "source": []
  }
 ],
 "metadata": {
  "kernelspec": {
   "display_name": "Python 3",
   "language": "python",
   "name": "python3"
  },
  "language_info": {
   "codemirror_mode": {
    "name": "ipython",
    "version": 3
   },
   "file_extension": ".py",
   "mimetype": "text/x-python",
   "name": "python",
   "nbconvert_exporter": "python",
   "pygments_lexer": "ipython3",
   "version": "3.6.7"
  }
 },
 "nbformat": 4,
 "nbformat_minor": 2
}
