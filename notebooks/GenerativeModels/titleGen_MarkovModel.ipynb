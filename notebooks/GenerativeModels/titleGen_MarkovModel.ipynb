{
 "cells": [
  {
   "cell_type": "code",
   "execution_count": 1,
   "metadata": {},
   "outputs": [],
   "source": [
    "import json\n",
    "import time\n",
    "from functools import reduce\n",
    "\n",
    "import pandas as pd\n",
    "import numpy as np\n",
    "\n",
    "import warnings\n",
    "warnings.simplefilter(action='ignore', category=FutureWarning)\n",
    "from tqdm.autonotebook import tqdm\n",
    "\n",
    "from py2neo import Graph, Node, Relationship"
   ]
  },
  {
   "cell_type": "code",
   "execution_count": 2,
   "metadata": {},
   "outputs": [],
   "source": [
    "public_address = '54.174.175.98'\n",
    "graph = Graph('bolt://{}:7687'.format(public_address), auth=('neo4j','myneo'))\n",
    "\n",
    "def run_query(query, graph, print_query=False, run_query=True, \n",
    "              print_only=False, to_df=False, verbose=True):\n",
    "    df = 1\n",
    "    if print_only: \n",
    "        print_query = True\n",
    "        run_query = False\n",
    "    start_time = time.time()\n",
    "    if print_query:\n",
    "        print(query)\n",
    "    if run_query:\n",
    "        if to_df:\n",
    "            df = graph.run(query).to_data_frame()\n",
    "        else:\n",
    "            graph.run(query)\n",
    "    end_time = time.time()\n",
    "    minutes_elapsed = (end_time-start_time)/60\n",
    "    if verbose:\n",
    "        print(\"Query completed in {:.2f} minutes.\".format(minutes_elapsed))\n",
    "    return df"
   ]
  },
  {
   "cell_type": "code",
   "execution_count": 155,
   "metadata": {},
   "outputs": [
    {
     "name": "stdout",
     "output_type": "stream",
     "text": [
      "Query completed in 0.00 minutes.\n",
      "Query completed in 0.00 minutes.\n",
      "Query completed in 0.00 minutes.\n",
      "Query completed in 0.00 minutes.\n"
     ]
    }
   ],
   "source": [
    "author_list = ['jcraigventer',\n",
    "               'edwardsboyden',\n",
    "               'davidbotstein',\n",
    "               'georgemchurch']\n",
    "\n",
    "titledf = pd.DataFrame()\n",
    "\n",
    "for author in author_list:\n",
    "    query = \"\"\"\n",
    "    match (a:Author)-[:AUTHORED]->(q:Quanta)\n",
    "    where a.cleanName='{}'\n",
    "    return a.cleanName as author, q.title as title    \n",
    "    \"\"\".format(author)\n",
    "    authordf = run_query(query, graph, to_df=True)\n",
    "    titledf = pd.concat([authordf, titledf])"
   ]
  },
  {
   "cell_type": "code",
   "execution_count": 156,
   "metadata": {},
   "outputs": [
    {
     "name": "stdout",
     "output_type": "stream",
     "text": [
      "Training model for jcraigventer...\n",
      "Training model for edwardsboyden...\n",
      "Training model for davidbotstein...\n",
      "Training model for georgemchurch...\n"
     ]
    }
   ],
   "source": [
    "import markovify\n",
    "\n",
    "models = {}\n",
    "for author in author_list:\n",
    "    print(\"Training model for {}...\".format(author))\n",
    "    authorcorpus = titledf.loc[titledf['author']==author,'title'] \\\n",
    "                    .str.cat(sep=\"\\n\")\n",
    "    \n",
    "    authormodel = markovify.NewlineText(authorcorpus, state_size=2)\n",
    "    models[author] = authormodel"
   ]
  },
  {
   "cell_type": "code",
   "execution_count": 157,
   "metadata": {},
   "outputs": [
    {
     "name": "stdout",
     "output_type": "stream",
     "text": [
      "\n",
      "=== jcraigventer ===\n",
      "Genomic Islands in the human genome\n",
      "Comparative genomics of the Sargasso Sea\n",
      "Fast and accurate HLA typing from short-read next-generation sequence data release be forced on the Drosophila phylogeny\n",
      "Structural and functional diversity of transcripts in human microbiome research\n",
      "Precision medicine screening using whole-genome sequencing and assembly of the microbial kinome.\n",
      "\n",
      "=== edwardsboyden ===\n",
      "Independent control of gamma and theta activity by distinct interneuron networks in the ventral tegmental area induces reanimation from general anesthesia\n",
      "Millisecond-timescale, genetically targeted optical control of gamma and theta activity by distinct interneuron networks in the Nonhuman Primate Brain\n",
      "Independent control of excitable cells.\n",
      "Channelrhodopsin-2 and optical control of neural activity\n",
      "Channelrhodopsin-2 and optical control of gamma and theta activity by distinct interneuron networks in the ventral tegmental area induces reanimation from general anesthesia\n",
      "\n",
      "=== davidbotstein ===\n",
      "Subcellular localization of yeast invertase\n",
      "Comparison of the β-tubulin gene from yeast and demonstration of its essential function in bacterial replication fork movement: Use of DNA copy-number changes using cDNA microarrays\n",
      "Systemic and cell type-specific gene expression data sets of two different organisms\n",
      "Gene ontology: tool for the separation of chromosomes on the spindle apparatus in yeast transcriptional networks: A case study of sporulation\n",
      "Genomic binding sites of the metabolomic response to rituximab\n",
      "\n",
      "=== georgemchurch ===\n",
      "A whole genome approach to in vivo methylase protection in E. coli.\n",
      "Engineering and optimising deaminase fusions for genome editing, activation and repression\n",
      "Accurate Multiplex Polony Sequencing of an idea for a unique machine.\n",
      "Highly multiplexed subcellular RNA sequencing in situ probe DNA amplification\n",
      "In vivo gene editing in C. elegans via a library-on-library approach\n"
     ]
    }
   ],
   "source": [
    "for author in author_list:\n",
    "    print(\"\\n=== {} ===\".format(author))\n",
    "    for i in range(5):\n",
    "        print(\"{}\".format(models[author].make_sentence(tries=100)))"
   ]
  },
  {
   "cell_type": "code",
   "execution_count": 111,
   "metadata": {},
   "outputs": [
    {
     "name": "stdout",
     "output_type": "stream",
     "text": [
      "Query completed in 1.14 minutes.\n",
      "== Training model for all titles... \n",
      "Done. ==\n",
      "\n",
      "Ethnic journal\n",
      "Book Review: The Organic Chemistry\n",
      "Dr. Victor Grafe, Professor an der Akademie der Wissenschaften. Begonnen von R. Pophal: „Zur Ehrenrettung der Reflexnatur der Sehnenphänomene“\n",
      "A Non-colonizing Aphid Vector of Potato Slopes for Reactions with Ketimines\n",
      "Abstract 3824: Antitumor activity of lymphoid cells in the Oil-Water Interface Templating of Superconducting Qubits\n",
      "Japan disappoints seekers of ?foresight?\n",
      "Not “Socialized Medicine” — An Epidemic of louse-borne relapsing fever in Indonesia during 1997\n",
      "SNPs Meet CNVs in 16,000 cases of refractory anemia in the Gall Bladder as a Determinant of the Massachusetts General Hospital. Case 33-2005. A 43-year-old man with chest pain.\n",
      "Pathological missense mutations\n",
      "A New Separation Methods with On‐Chip X‐Ray Diffraction Studies of Human Fab Fragment Selected from a Long Noncoding RNAs Promote Transcriptional Heterogeneity and Clonal Hierarchy of Epithelial Organization on Peptide and Protein Kinase B Pathway Mediates the Receptor Kinase and Thymidylate Kinase to Phosphatase Activation in Endothelial Cells.\n"
     ]
    }
   ],
   "source": [
    "query = \"\"\"\n",
    "match (q:Quanta)\n",
    "return q.title as title    \n",
    "\"\"\"\n",
    "alltitledf = run_query(query, graph, to_df=True)\n",
    "\n",
    "print(\"== Training model for all titles ==\")\n",
    "alltitlecorpus = alltitledf['title'].str.cat(sep=\"\\n\")\n",
    "alltitlemodel = markovify.NewlineText(alltitlecorpus,\n",
    "                                      retain_original=False,\n",
    "                                      well_formed=True,\n",
    "                                      state_size=2)\n",
    "\n",
    "models['allauthors'] = alltitlemodel\n",
    "\n",
    "print(\"== Done. ==\\n\")\n",
    "for _ in range(10):\n",
    "    print(\"\\n{}\".format(alltitlemodel.make_sentence(tries=100)))"
   ]
  },
  {
   "cell_type": "code",
   "execution_count": 159,
   "metadata": {},
   "outputs": [],
   "source": [
    "author_weightings = {'jcraigventer':    0,\n",
    "                     'edwardsboyden':   0,\n",
    "                     'davidbotstein':   50,\n",
    "                     'georgemchurch':   50}\n",
    "#                      'allauthors': 0}\n",
    "\n",
    "combinedmodel = markovify.combine(\n",
    "                    [models[a] for a in author_weightings.keys()],\n",
    "                    list(author_weightings.values()))"
   ]
  },
  {
   "cell_type": "code",
   "execution_count": 160,
   "metadata": {},
   "outputs": [
    {
     "name": "stdout",
     "output_type": "stream",
     "text": [
      "Identification of clinically distinct types of di use large b-cell lymphoma identi ed by gene expression patterns in scleroderma skin\n",
      "\n",
      "Probing the limits of genetic network architecture\n",
      "\n",
      "B lineage--specific interactions of an Evolved Bacterial Genome\n",
      "\n",
      "Genome-wide analysis of DNA pools from high-fidelity microchips.\n",
      "\n",
      "Databases for gene expression programs in human cells\n",
      "\n",
      "Genomic analysis of gene expression in adenocarcinoma of the yeast cell-cycle transcription factors SBFand MBF\n",
      "\n",
      "A whole genome approach to visualizing sequence motifs.\n",
      "\n",
      "Large-scale de novo DNA synthesis: technologies and applications of in vitro mutagenesis\n",
      "\n",
      "Multiplex amplification of a digital movie into the genomes of a marine virus and host reveal features of co-evolution.\n",
      "\n",
      "A National Network of Neurotechnology Centers for the separation of chromosomes on the secretion machinery\n",
      "\n"
     ]
    }
   ],
   "source": [
    "for _ in range(10):\n",
    "    print(\"{}\\n\".format(combinedmodel.make_sentence(tries=100)))"
   ]
  },
  {
   "cell_type": "code",
   "execution_count": null,
   "metadata": {},
   "outputs": [],
   "source": []
  }
 ],
 "metadata": {
  "kernelspec": {
   "display_name": "Python 3",
   "language": "python",
   "name": "python3"
  }
 },
 "nbformat": 4,
 "nbformat_minor": 2
}
