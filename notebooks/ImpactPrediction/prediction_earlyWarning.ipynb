{
 "cells": [
  {
   "cell_type": "code",
   "execution_count": 1,
   "metadata": {},
   "outputs": [],
   "source": [
    "import json\n",
    "import time\n",
    "from functools import reduce\n",
    "\n",
    "import pandas as pd\n",
    "import numpy as np\n",
    "\n",
    "import warnings\n",
    "warnings.simplefilter(action='ignore', category=FutureWarning)\n",
    "from tqdm.autonotebook import tqdm\n",
    "\n",
    "from py2neo import Graph, Node, Relationship"
   ]
  },
  {
   "cell_type": "code",
   "execution_count": 2,
   "metadata": {},
   "outputs": [
    {
     "name": "stdout",
     "output_type": "stream",
     "text": [
      "Connected to graph database with 370,269,897 nodes and 220,155,390 relationships!\n"
     ]
    }
   ],
   "source": [
    "graph = Graph(\"bolt://dev_neo4j:7687\", auth=('neo4j','myneo'))\n",
    "\n",
    "n_nodes = graph.database.primitive_counts['NumberOfNodeIdsInUse']\n",
    "n_relationships = graph.database.primitive_counts['NumberOfRelationshipIdsInUse']\n",
    "print(\"Connected to graph database with {:,} nodes and {:,} relationships!\".format\n",
    "     (n_nodes, n_relationships))\n",
    "\n",
    "def run_query(query, graph, print_query=False, run_query=True, \n",
    "              print_only=False, to_df=False, verbose=True):\n",
    "    df = 1\n",
    "    if print_only: \n",
    "        print_query = True\n",
    "        run_query = False\n",
    "    start_time = time.time()\n",
    "    if print_query:\n",
    "        print(query)\n",
    "    if run_query:\n",
    "        if to_df:\n",
    "            df = graph.run(query).to_data_frame()\n",
    "        else:\n",
    "            graph.run(query)\n",
    "    end_time = time.time()\n",
    "    minutes_elapsed = (end_time-start_time)/60\n",
    "    if verbose:\n",
    "        print(\"Query completed in {:.2f} minutes.\".format(minutes_elapsed))\n",
    "    return df"
   ]
  },
  {
   "cell_type": "code",
   "execution_count": 5,
   "metadata": {},
   "outputs": [
    {
     "name": "stdout",
     "output_type": "stream",
     "text": [
      "\n",
      "MATCH (q:Quanta)-[:PUBLISHED_IN]->(y:Year)\n",
      "WHERE y.value>1990 AND y.value < 2015\n",
      "MATCH (q)-[m0:METRICS_IN]->(:Year {value:y.value})\n",
      "MATCH (q)-[m1:METRICS_IN]->(:Year {value:y.value+1})\n",
      "MATCH (q)-[m5:METRICS_IN]->(:Year {value:y.value+5})\n",
      "RETURN id(q) as id, y.value as year, \n",
      "    coalesce(m0.earlyAdopters,0) as earlyAdopters_0,\n",
      "    coalesce(m0.timeScaledPageRank, 0) as timeScaledPageRank_0,\n",
      "    coalesce(m0.node2vec, 0) as node2vec_0,\n",
      "    coalesce(m1.earlyAdopters,0) as earlyAdopters_1,\n",
      "    coalesce(m1.timeScaledPageRank, 0) as timeScaledPageRank_1,\n",
      "    coalesce(m1.node2vec, 0) as node2vec_1,\n",
      "    coalesce(m5.timeScaledPageRank, 0) as timeScaledPageRank_5\n",
      "LIMIT 100\n",
      "\n",
      "Query completed in 0.00 minutes.\n"
     ]
    }
   ],
   "source": [
    "# Collect data\n",
    "\n",
    "min_year, max_year = 1990, 2015\n",
    "\n",
    "query = \"\"\"\n",
    "MATCH (q:Quanta)-[:PUBLISHED_IN]->(y:Year)\n",
    "WHERE y.value>{miny} AND y.value < {maxy}\n",
    "MATCH (q)-[m0:METRICS_IN]->(:Year {{value:y.value}})\n",
    "MATCH (q)-[m1:METRICS_IN]->(:Year {{value:y.value+1}})\n",
    "MATCH (q)-[m5:METRICS_IN]->(:Year {{value:y.value+5}})\n",
    "RETURN id(q) as id, y.value as year, \n",
    "    coalesce(m0.earlyAdopters,0) as earlyAdopters_0,\n",
    "    coalesce(m0.timeScaledPageRank, 0) as timeScaledPageRank_0,\n",
    "    coalesce(m0.node2vec, 0) as node2vec_0,\n",
    "    coalesce(m1.earlyAdopters,0) as earlyAdopters_1,\n",
    "    coalesce(m1.timeScaledPageRank, 0) as timeScaledPageRank_1,\n",
    "    coalesce(m1.node2vec, 0) as node2vec_1,\n",
    "    coalesce(m5.timeScaledPageRank, 0) as timeScaledPageRank_5\n",
    "LIMIT 100\n",
    "\"\"\".format(miny=min_year, maxy=max_year)\n",
    "\n",
    "df = run_query(query, graph, print_only=True)"
   ]
  }
 ],
 "metadata": {
  "kernelspec": {
   "display_name": "Python 3",
   "language": "python",
   "name": "python3"
  },
  "language_info": {
   "codemirror_mode": {
    "name": "ipython",
    "version": 3
   },
   "file_extension": ".py",
   "mimetype": "text/x-python",
   "name": "python",
   "nbconvert_exporter": "python",
   "pygments_lexer": "ipython3",
   "version": "3.6.7"
  }
 },
 "nbformat": 4,
 "nbformat_minor": 2
}
