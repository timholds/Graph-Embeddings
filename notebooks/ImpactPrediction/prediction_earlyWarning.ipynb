{
 "cells": [
  {
   "cell_type": "markdown",
   "metadata": {},
   "source": [
    "### Setup"
   ]
  },
  {
   "cell_type": "code",
   "execution_count": 1,
   "metadata": {},
   "outputs": [],
   "source": [
    "import json\n",
    "import time\n",
    "from functools import reduce\n",
    "\n",
    "import pandas as pd\n",
    "import numpy as np\n",
    "\n",
    "from ast import literal_eval\n",
    "\n",
    "import warnings\n",
    "warnings.simplefilter(action='ignore', category=FutureWarning)\n",
    "warnings.simplefilter(action='ignore', category=UserWarning)\n",
    "from tqdm.autonotebook import tqdm\n",
    "\n",
    "import seaborn as sns\n",
    "sns.set(rc={'figure.figsize':(12,8)})\n",
    "sns.set(style='whitegrid')\n",
    "\n",
    "import matplotlib.pyplot as plt\n",
    "\n",
    "from py2neo import Graph, Node, Relationship"
   ]
  },
  {
   "cell_type": "code",
   "execution_count": 2,
   "metadata": {},
   "outputs": [],
   "source": [
    "# public_address = '54.174.175.98'\n",
    "public_address = '54.88.167.164'\n",
    "\n",
    "graph = Graph('bolt://{}:7687'.format(public_address), auth=('neo4j','myneo'))\n",
    "\n",
    "def run_query(query, graph, print_query=False, run_query=True, \n",
    "              print_only=False, to_df=False, verbose=True):\n",
    "    df = 1\n",
    "    if print_only: \n",
    "        print_query = True\n",
    "        run_query = False\n",
    "    start_time = time.time()\n",
    "    if print_query:\n",
    "        print(query)\n",
    "    if run_query:\n",
    "        if to_df:\n",
    "            df = graph.run(query).to_data_frame()\n",
    "        else:\n",
    "            graph.run(query)\n",
    "    end_time = time.time()\n",
    "    minutes_elapsed = (end_time-start_time)/60\n",
    "    if verbose:\n",
    "        print(\"Query completed in {:.2f} minutes.\".format(minutes_elapsed))\n",
    "    return df\n"
   ]
  },
  {
   "cell_type": "code",
   "execution_count": 40,
   "metadata": {},
   "outputs": [],
   "source": [
    "years_to_consider = range(1900, 2020)\n",
    "max_years_to_predict = 10\n",
    "years_tracked = 10\n",
    "\n",
    "vars_to_use = ['adopters', 'timeScaledPageRank', 'citatons', 'node2vec']\n",
    "\n",
    "max_year = max(years_to_consider)\n",
    "min_year = min(years_to_consider)"
   ]
  },
  {
   "cell_type": "markdown",
   "metadata": {},
   "source": [
    "### Write data to CSV"
   ]
  },
  {
   "cell_type": "code",
   "execution_count": 41,
   "metadata": {
    "scrolled": false
   },
   "outputs": [
    {
     "name": "stdout",
     "output_type": "stream",
     "text": [
      "\n",
      "CALL apoc.export.csv.query('\n",
      "\n",
      "MATCH (a:Author)-[:AUTHORED]->(q:Quanta)-[:PUBLISHED_IN]->(y:Year)\n",
      "WHERE y.year>=1900 AND y.year<=2019//-10\n",
      "MATCH (q)-[m0:METRICS_IN]->(:Year {year:y.year+0})\n",
      "MATCH (q)-[m1:METRICS_IN]->(:Year {year:y.year+1})\n",
      "MATCH (q)-[m2:METRICS_IN]->(:Year {year:y.year+2})\n",
      "MATCH (q)-[m3:METRICS_IN]->(:Year {year:y.year+3})\n",
      "MATCH (q)-[m4:METRICS_IN]->(:Year {year:y.year+4})\n",
      "MATCH (q)-[m5:METRICS_IN]->(:Year {year:y.year+5})\n",
      "MATCH (q)-[m6:METRICS_IN]->(:Year {year:y.year+6})\n",
      "MATCH (q)-[m7:METRICS_IN]->(:Year {year:y.year+7})\n",
      "MATCH (q)-[m8:METRICS_IN]->(:Year {year:y.year+8})\n",
      "MATCH (q)-[m9:METRICS_IN]->(:Year {year:y.year+9})\n",
      "MATCH (q)-[m10:METRICS_IN]->(:Year {year:y.year+10})\n",
      "\n",
      "WHERE exists(m0.node2vec) AND exists(m1.node2vec) AND exists(m2.node2vec) AND exists(m3.node2vec) AND exists(m4.node2vec) AND exists(m5.node2vec) AND exists(m6.node2vec) AND exists(m7.node2vec) AND exists(m8.node2vec) AND exists(m9.node2vec) AND exists(m10.node2vec)\n",
      "RETURN \n",
      "    coalesce(m0.adopters,0) AS adopters_0,\n",
      "coalesce(m0.timeScaledPageRank,0) AS timeScaledPageRank_0,\n",
      "coalesce(m0.citatons,0) AS citatons_0,\n",
      "coalesce(m0.node2vec,0) AS node2vec_0,\n",
      "coalesce(m1.adopters,0) AS adopters_1,\n",
      "coalesce(m1.timeScaledPageRank,0) AS timeScaledPageRank_1,\n",
      "coalesce(m1.citatons,0) AS citatons_1,\n",
      "coalesce(m1.node2vec,0) AS node2vec_1,\n",
      "coalesce(m2.adopters,0) AS adopters_2,\n",
      "coalesce(m2.timeScaledPageRank,0) AS timeScaledPageRank_2,\n",
      "coalesce(m2.citatons,0) AS citatons_2,\n",
      "coalesce(m2.node2vec,0) AS node2vec_2,\n",
      "coalesce(m3.adopters,0) AS adopters_3,\n",
      "coalesce(m3.timeScaledPageRank,0) AS timeScaledPageRank_3,\n",
      "coalesce(m3.citatons,0) AS citatons_3,\n",
      "coalesce(m3.node2vec,0) AS node2vec_3,\n",
      "coalesce(m4.adopters,0) AS adopters_4,\n",
      "coalesce(m4.timeScaledPageRank,0) AS timeScaledPageRank_4,\n",
      "coalesce(m4.citatons,0) AS citatons_4,\n",
      "coalesce(m4.node2vec,0) AS node2vec_4,\n",
      "coalesce(m5.adopters,0) AS adopters_5,\n",
      "coalesce(m5.timeScaledPageRank,0) AS timeScaledPageRank_5,\n",
      "coalesce(m5.citatons,0) AS citatons_5,\n",
      "coalesce(m5.node2vec,0) AS node2vec_5,\n",
      "coalesce(m6.adopters,0) AS adopters_6,\n",
      "coalesce(m6.timeScaledPageRank,0) AS timeScaledPageRank_6,\n",
      "coalesce(m6.citatons,0) AS citatons_6,\n",
      "coalesce(m6.node2vec,0) AS node2vec_6,\n",
      "coalesce(m7.adopters,0) AS adopters_7,\n",
      "coalesce(m7.timeScaledPageRank,0) AS timeScaledPageRank_7,\n",
      "coalesce(m7.citatons,0) AS citatons_7,\n",
      "coalesce(m7.node2vec,0) AS node2vec_7,\n",
      "coalesce(m8.adopters,0) AS adopters_8,\n",
      "coalesce(m8.timeScaledPageRank,0) AS timeScaledPageRank_8,\n",
      "coalesce(m8.citatons,0) AS citatons_8,\n",
      "coalesce(m8.node2vec,0) AS node2vec_8,\n",
      "coalesce(m9.adopters,0) AS adopters_9,\n",
      "coalesce(m9.timeScaledPageRank,0) AS timeScaledPageRank_9,\n",
      "coalesce(m9.citatons,0) AS citatons_9,\n",
      "coalesce(m9.node2vec,0) AS node2vec_9,\n",
      "coalesce(m10.adopters,0) AS adopters_10,\n",
      "coalesce(m10.timeScaledPageRank,0) AS timeScaledPageRank_10,\n",
      "coalesce(m10.citatons,0) AS citatons_10,\n",
      "coalesce(m10.node2vec,0) AS node2vec_10,\n",
      "    \n",
      "    id(q) AS id, \n",
      "    y.year AS year\n",
      "\n",
      "','/import/quanta.predict.1900.2019.csv', \n",
      "{quotes:true});\n",
      "\n",
      "Query completed in 0.00 minutes.\n"
     ]
    },
    {
     "data": {
      "text/plain": [
       "1"
      ]
     },
     "execution_count": 41,
     "metadata": {},
     "output_type": "execute_result"
    }
   ],
   "source": [
    "metrics_pattern = 'MATCH (q)-[m{y}:METRICS_IN]->(:Year {{year:y.year+{y}}})'\n",
    "metrics_string_list = [metrics_pattern.format(y=i) for i in range(years_tracked+1)]\n",
    "metrics_string = '\\n'.join(metrics_string_list)\n",
    "\n",
    "var_pattern = 'coalesce(m{y}.{v},0) AS {v}_{y},'\n",
    "var_string_list = [var_pattern.format(y=i,v=j) for i in range(years_tracked+1) for j in vars_to_use]\n",
    "var_string = '\\n'.join(var_string_list)\n",
    "\n",
    "where_pattern = 'exists(m{y}.node2vec)'\n",
    "where_string_list = [where_pattern.format(y=i) for i in range(years_tracked+1)]\n",
    "where_string = ' AND '.join(where_string_list)       \n",
    "\n",
    "author_metrics_pattern = 'MATCH (q)-[ma{y}:METRICS_IN]->(:Year {{year:y.year+{y}}})'\n",
    "author_metrics_string_list = [author_metrics_pattern.format(y=i) for i in range(years_tracked+1)]\n",
    "author_metrics_string = '\\n'.join(author_metrics_string_list)\n",
    "\n",
    "author_vars = ['total_papers', 'author_age', 'max_citations', 'num_venues', 'total_citations']\n",
    "author_funs = ['max', 'sum']\n",
    "author_var_pattern = '{f}(coalesce(ma{y}.{v},0)) AS {v}_{f}_{y},'\n",
    "author_var_string_list = [author_var_pattern.format(y=i, v=j, f=k)\n",
    "                          for i in range(years_tracked+1)\n",
    "                          for j in author_vars\n",
    "                          for k in author_funs]\n",
    "author_var_string = '\\n'.join(author_var_string_list)\n",
    "\n",
    "\n",
    "query = \"\"\"\n",
    "MATCH (a:Author)-[:AUTHORED]->(q:Quanta)-[:PUBLISHED_IN]->(y:Year)\n",
    "WHERE y.year>={miny} AND y.year<={maxy}//-{ya}\n",
    "{metrics_string}\n",
    "{author_metrics_string}\n",
    "WHERE {where_string}\n",
    "RETURN \n",
    "    {var_string}\n",
    "    {author_var_string}\n",
    "    id(q) AS id, \n",
    "    y.year AS year\n",
    "\"\"\".format(miny=min_year, \n",
    "           maxy=max_year,\n",
    "           ya=max_years_to_predict,\n",
    "           metrics_string=metrics_string,\n",
    "           var_string=var_string, \n",
    "           where_string=where_string, \n",
    "           author_metrics_string='',\n",
    "           author_var_string='')\n",
    "\n",
    "query_tocsv = \"\"\"\n",
    "CALL apoc.export.csv.query('\n",
    "{q}\n",
    "','/import/quanta.predict.{miny}.{maxy}.csv', \n",
    "{{quotes:true}});\n",
    "\"\"\".format(q=query, \n",
    "           miny=min_year, \n",
    "           maxy=max_year,\n",
    "           yt=years_tracked)\n",
    "\n",
    "run_query(query_tocsv, graph, to_df=False, print_only=True)"
   ]
  },
  {
   "cell_type": "markdown",
   "metadata": {},
   "source": [
    "### Read in data for each year, format it, and write it back"
   ]
  },
  {
   "cell_type": "code",
   "execution_count": 39,
   "metadata": {},
   "outputs": [
    {
     "ename": "NameError",
     "evalue": "name 'years_ahead' is not defined",
     "output_type": "error",
     "traceback": [
      "\u001b[0;31m---------------------------------------------------------------------------\u001b[0m",
      "\u001b[0;31mNameError\u001b[0m                                 Traceback (most recent call last)",
      "\u001b[0;32m<ipython-input-39-2e63a32741b1>\u001b[0m in \u001b[0;36m<module>\u001b[0;34m()\u001b[0m\n\u001b[1;32m      1\u001b[0m fpath = '/tmp/data/quanta.predict.{miny}.{maxy}.{yt}.csv'.format(\n\u001b[0;32m----> 2\u001b[0;31m     miny=min_year, maxy=max_year, yt=years_tracked, ya=years_ahead)\n\u001b[0m\u001b[1;32m      3\u001b[0m \u001b[0mdf\u001b[0m \u001b[0;34m=\u001b[0m \u001b[0mpd\u001b[0m\u001b[0;34m.\u001b[0m\u001b[0mread_csv\u001b[0m\u001b[0;34m(\u001b[0m\u001b[0mfpath\u001b[0m\u001b[0;34m,\u001b[0m \u001b[0mengine\u001b[0m\u001b[0;34m=\u001b[0m\u001b[0;34m'python'\u001b[0m\u001b[0;34m,\u001b[0m \u001b[0merror_bad_lines\u001b[0m\u001b[0;34m=\u001b[0m\u001b[0;32mFalse\u001b[0m\u001b[0;34m)\u001b[0m\u001b[0;34m\u001b[0m\u001b[0;34m\u001b[0m\u001b[0m\n\u001b[1;32m      4\u001b[0m \u001b[0mdf\u001b[0m \u001b[0;34m=\u001b[0m \u001b[0mdf\u001b[0m\u001b[0;34m.\u001b[0m\u001b[0mdropna\u001b[0m\u001b[0;34m(\u001b[0m\u001b[0;34m)\u001b[0m\u001b[0;34m\u001b[0m\u001b[0;34m\u001b[0m\u001b[0m\n\u001b[1;32m      5\u001b[0m \u001b[0;34m\u001b[0m\u001b[0m\n",
      "\u001b[0;31mNameError\u001b[0m: name 'years_ahead' is not defined"
     ]
    }
   ],
   "source": [
    "fpath = '/tmp/data/quanta.predict.{miny}.{maxy}.{yt}.csv'.format(\n",
    "    miny=min_year, maxy=max_year, yt=years_tracked, ya=years_ahead)\n",
    "df = pd.read_csv(fpath, engine='python', error_bad_lines=False)\n",
    "df = df.dropna()\n",
    "\n",
    "for y in tqdm(range(years_tracked+1)):\n",
    "\n",
    "    col = 'node2vec_{}'.format(y)    \n",
    "    n2vdf = pd.DataFrame(df[col].apply(json.loads).tolist())\n",
    "    n2v_dim = n2vdf.shape[1]\n",
    "    n2vdf.columns = ['{}_{}'.format(col, i) for i in range(n2v_dim)]\n",
    "\n",
    "    df = pd.concat([df.reset_index(drop=True), n2vdf.reset_index(drop=True)], axis=1)\n",
    "    df = df.drop(col, axis=1)\n",
    "\n",
    "\n",
    "df.to_csv('{}.out'.format(fpath))"
   ]
  },
  {
   "cell_type": "markdown",
   "metadata": {},
   "source": [
    "### Read in prediction data and make predictions"
   ]
  },
  {
   "cell_type": "code",
   "execution_count": 19,
   "metadata": {},
   "outputs": [
    {
     "name": "stdout",
     "output_type": "stream",
     "text": [
      "env: JOBLIB_TEMP_FOLDER=/tmp\n"
     ]
    }
   ],
   "source": [
    "from sklearn.model_selection import train_test_split, validation_curve\n",
    "from sklearn.model_selection import GridSearchCV, RandomizedSearchCV\n",
    "\n",
    "from sklearn.preprocessing import MinMaxScaler, QuantileTransformer, RobustScaler\n",
    "from sklearn.tree import DecisionTreeRegressor, DecisionTreeClassifier\n",
    "from sklearn.ensemble import RandomForestClassifier, RandomForestRegressor, AdaBoostClassifier\n",
    "from sklearn.metrics import f1_score, mean_squared_error, classification_report, balanced_accuracy_score\n",
    "from sklearn.linear_model import LogisticRegression\n",
    "\n",
    "from imblearn.under_sampling import RandomUnderSampler\n",
    "from imblearn.over_sampling import RandomOverSampler, SMOTE\n",
    "from imblearn.pipeline import make_pipeline, Pipeline\n",
    "\n",
    "from sklearn.externals.joblib import parallel_backend\n",
    "\n",
    "\n",
    "%env JOBLIB_TEMP_FOLDER=/tmp"
   ]
  },
  {
   "cell_type": "code",
   "execution_count": 5,
   "metadata": {},
   "outputs": [],
   "source": [
    "df = pd.read_csv('/tmp/data/quanta.predict.{miny}.{maxy}.{yt}.csv.out'.format(\n",
    "    miny=min_year, maxy=max_year, yt=max_years_to_predict))"
   ]
  },
  {
   "cell_type": "code",
   "execution_count": 6,
   "metadata": {
    "scrolled": true
   },
   "outputs": [
    {
     "data": {
      "application/vnd.jupyter.widget-view+json": {
       "model_id": "dbbf987fc0d049fea0e953e6ba1cf958",
       "version_major": 2,
       "version_minor": 0
      },
      "text/plain": [
       "HBox(children=(IntProgress(value=0, max=6), HTML(value='')))"
      ]
     },
     "metadata": {},
     "output_type": "display_data"
    },
    {
     "name": "stdout",
     "output_type": "stream",
     "text": [
      "0 1\n",
      "0 2\n",
      "0 3\n",
      "0 4\n",
      "0 5\n",
      "0 6\n",
      "0 7\n",
      "0 8\n",
      "0 9\n",
      "0 10\n",
      "1 2\n",
      "1 3\n",
      "1 4\n",
      "1 5\n",
      "1 6\n",
      "1 7\n",
      "1 8\n",
      "1 9\n",
      "1 10\n",
      "2 3\n",
      "2 4\n",
      "2 5\n",
      "2 6\n",
      "2 7\n",
      "2 8\n",
      "2 9\n",
      "2 10\n",
      "3 4\n",
      "3 5\n",
      "3 6\n",
      "3 7\n",
      "3 8\n",
      "3 9\n",
      "3 10\n",
      "4 5\n",
      "4 6\n",
      "4 7\n",
      "4 8\n",
      "4 9\n",
      "4 10\n",
      "5 6\n",
      "5 7\n",
      "5 8\n",
      "5 9\n",
      "5 10\n",
      "\n"
     ]
    }
   ],
   "source": [
    "max_years_to_predict = 10\n",
    "years_tracked = 6\n",
    "\n",
    "results = []\n",
    "\n",
    "for years_to_track in tqdm(range(years_tracked)):\n",
    "#     for year_to_predict in range(years_to_track+1, max_years_to_predict+1):\n",
    "#         print(years_to_track, year_to_predict)\n",
    "#         pass\n",
    "    year_to_predict = years_to_track + 1\n",
    "    \n",
    "    cols_to_keep = ['{v}_{y}'.format(y=i,v=j) \n",
    "        for i in range(years_to_track+1) \n",
    "        for j in [v for v in vars_to_use if v!='node2vec']]\n",
    "\n",
    "    n2v_cols_to_keep =  ['node2vec_{y}_{i}'.format(y=y, i=i) \n",
    "                     for y in range(years_to_track+1)\n",
    "                     for i in range(n2v_dim)]\n",
    "\n",
    "    cols_to_keep = cols_to_keep + n2v_cols_to_keep\n",
    "    X = df.loc[:, cols_to_keep]\n",
    "\n",
    "    y_col = 'timeScaledPageRank_{y}'.format(y=year_to_predict)\n",
    "    y = df.loc[:, y_col] > df[y_col].quantile(q=.95)\n",
    "\n",
    "\n",
    "    pipeline = Pipeline(\n",
    "        memory=None,\n",
    "        steps=[\n",
    "            ('spl', SMOTE()),\n",
    "            ('scl', QuantileTransformer()),\n",
    "            ('clf', RandomForestClassifier())\n",
    "        ]\n",
    "    )\n",
    "\n",
    "    grid = {'clf__n_estimators': [int(x) for x in np.linspace(200, 2000, num=10)],\n",
    "            'clf__max_features': ['auto', 'sqrt'],\n",
    "            'clf__max_depth': [int(x) for x in np.linspace(10, 1000, num=10)],\n",
    "            'clf__min_samples_split': [2, 5, 10],\n",
    "            'clf__min_samples_leaf': [1, 2, 4],\n",
    "            'clf__bootstrap': [True, False]}\n",
    "\n",
    "    random_search = RandomizedSearchCV(\n",
    "        estimator=pipeline, \n",
    "        param_distributions=grid, \n",
    "        n_iter=10, \n",
    "        cv=3, \n",
    "        n_jobs=-1,\n",
    "        verbose=3,\n",
    "        random_state=42\n",
    "    )\n",
    "\n",
    "\n",
    "    X_train, X_test, y_train, y_test = train_test_split(X, y, random_state=42)\n",
    "\n",
    "    with parallel_backend('threading'):\n",
    "        random_search.fit(X_train, y_train)\n",
    "\n",
    "    y_pred = random_search.predict(X_test)\n",
    "\n",
    "    results.append({\n",
    "        'years_tracked': years_to_track, \n",
    "        'year_predicted': year_to_predict,\n",
    "        'score': random_search.score(X=X_test, y=y_test),\n",
    "        'f1': f1_score(y_pred=y_pred, y_true=y_test),\n",
    "        'balanced_accuracy': balanced_accuracy_score(y_true=y_test, y_pred=y_pred),\n",
    "        'balanced_accuracy_adjusted': balanced_accuracy_score(y_true=y_test, y_pred=y_pred, adjusted=True),\n",
    "        'classification_report': classification_report(y_true=y_test, y_pred=y_pred, output_dict=True),\n",
    "        'random_search': random_search\n",
    "    })\n",
    "\n",
    "    pickle.dump(results, open('prediction_models_{}.pickle'.format(years_to_track),'wb'))\n",
    "    \n",
    "pickle.dump(results, open('prediction_models.pickle','wb'))"
   ]
  },
  {
   "cell_type": "code",
   "execution_count": 28,
   "metadata": {
    "scrolled": true
   },
   "outputs": [
    {
     "name": "stdout",
     "output_type": "stream",
     "text": [
      "Fitting 2 folds for each of 5 candidates, totalling 10 fits\n"
     ]
    },
    {
     "name": "stderr",
     "output_type": "stream",
     "text": [
      "[Parallel(n_jobs=-1)]: Using backend LokyBackend with 16 concurrent workers.\n",
      "[Parallel(n_jobs=-1)]: Done   3 out of  10 | elapsed:   51.5s remaining:  2.0min\n",
      "[Parallel(n_jobs=-1)]: Done   7 out of  10 | elapsed:  4.7min remaining:  2.0min\n",
      "[Parallel(n_jobs=-1)]: Done  10 out of  10 | elapsed:  7.2min finished\n",
      "/opt/conda/lib/python3.6/site-packages/imblearn/pipeline.py:190: DeprecationWarning: The 'cachedir' attribute has been deprecated in version 0.12 and will be removed in version 0.14.\n",
      "Use os.path.join(memory.location, 'joblib') attribute instead.\n",
      "  if memory.cachedir is None:\n",
      "/opt/conda/lib/python3.6/site-packages/imblearn/pipeline.py:190: DeprecationWarning: The 'cachedir' attribute has been deprecated in version 0.12 and will be removed in version 0.14.\n",
      "Use os.path.join(memory.location, 'joblib') attribute instead.\n",
      "  if memory.cachedir is None:\n",
      "/opt/conda/lib/python3.6/site-packages/imblearn/pipeline.py:190: DeprecationWarning: The 'cachedir' attribute has been deprecated in version 0.12 and will be removed in version 0.14.\n",
      "Use os.path.join(memory.location, 'joblib') attribute instead.\n",
      "  if memory.cachedir is None:\n",
      "/opt/conda/lib/python3.6/site-packages/imblearn/pipeline.py:190: DeprecationWarning: The 'cachedir' attribute has been deprecated in version 0.12 and will be removed in version 0.14.\n",
      "Use os.path.join(memory.location, 'joblib') attribute instead.\n",
      "  if memory.cachedir is None:\n"
     ]
    }
   ],
   "source": [
    "years_to_track=3\n",
    "year_to_predict=4\n",
    "n2v_dim=12\n",
    "\n",
    "results = []\n",
    "\n",
    "cols_to_keep = ['{v}_{y}'.format(y=i,v=j) \n",
    "        for i in range(years_to_track+1) \n",
    "        for j in [v for v in vars_to_use if v!='node2vec']]\n",
    "\n",
    "n2v_cols_to_keep =  ['node2vec_{y}_{i}'.format(y=y, i=i) \n",
    "                 for y in range(years_to_track+1)\n",
    "                 for i in range(n2v_dim)]\n",
    "\n",
    "cols_to_keep = cols_to_keep + n2v_cols_to_keep\n",
    "X = df.loc[:, cols_to_keep]\n",
    "\n",
    "y_col = 'timeScaledPageRank_{y}'.format(y=year_to_predict)\n",
    "y = df.loc[:, y_col] > df[y_col].quantile(q=.95)\n",
    "\n",
    "\n",
    "pipeline = Pipeline(\n",
    "    memory=None,\n",
    "    steps=[\n",
    "        ('spl', RandomUnderSampler()),\n",
    "        ('scl', QuantileTransformer()),\n",
    "        ('clf', RandomForestClassifier())\n",
    "    ]\n",
    ")\n",
    "\n",
    "grid = {'clf__n_estimators': [int(x) for x in np.linspace(200, 2000, num=10)],\n",
    "        'clf__max_features': ['auto', 'sqrt'],\n",
    "        'clf__max_depth': [int(x) for x in np.linspace(10, 1000, num=10)],\n",
    "        'clf__min_samples_split': [2, 5, 10],\n",
    "        'clf__min_samples_leaf': [1, 2, 4],\n",
    "        'clf__bootstrap': [True, False]}\n",
    "\n",
    "random_search = RandomizedSearchCV(\n",
    "    estimator=pipeline, \n",
    "    param_distributions=grid, \n",
    "    n_iter=15, \n",
    "    cv=2, \n",
    "    n_jobs=-1,\n",
    "    verbose=3,\n",
    "    random_state=42\n",
    ")\n",
    "\n",
    "\n",
    "X_train, X_test, y_train, y_test = train_test_split(X, y, random_state=42)\n",
    "\n",
    "with parallel_backend('threading'):\n",
    "    random_search.fit(X_train, y_train)\n",
    "    \n",
    "y_pred = random_search.predict(X_test)\n",
    "\n",
    "results.append({\n",
    "    'years_tracked': years_to_track, \n",
    "    'year_predicted': year_to_predict,\n",
    "    'score': random_search.score(X=X_test, y=y_test),\n",
    "    'f1': f1_score(y_pred=y_pred, y_true=y_test),\n",
    "    'balanced_accuracy': balanced_accuracy_score(y_true=y_test, y_pred=y_pred),\n",
    "    'balanced_accuracy_adjusted': balanced_accuracy_score(y_true=y_test, y_pred=y_pred, adjusted=True),\n",
    "    'classification_report': classification_report(y_true=y_test, y_pred=y_pred, output_dict=True),\n",
    "    'random_search': random_search\n",
    "})\n",
    "\n",
    "print(classification_report(y_true=y_test, y_pred=y_pred))"
   ]
  },
  {
   "cell_type": "code",
   "execution_count": 29,
   "metadata": {},
   "outputs": [
    {
     "data": {
      "text/plain": [
       "[{'years_tracked': 3,\n",
       "  'year_predicted': 4,\n",
       "  'f1': 0.62561312761972709,\n",
       "  'balanced_accuracy': 0.94127583845301177,\n",
       "  'balanced_accuracy_adjusted': 0.88255167690602354,\n",
       "  'classification_report': {'False': {'precision': 0.9965796779566908,\n",
       "    'recall': 0.9443411646684953,\n",
       "    'f1-score': 0.9697574399723365,\n",
       "    'support': 142547},\n",
       "   'True': {'precision': 0.4692621580038799,\n",
       "    'recall': 0.9382105122375284,\n",
       "    'f1-score': 0.6256131276197271,\n",
       "    'support': 7477},\n",
       "   'accuracy': 0.9440356209673119,\n",
       "   'macro avg': {'precision': 0.7329209179802854,\n",
       "    'recall': 0.9412758384530118,\n",
       "    'f1-score': 0.7976852837960318,\n",
       "    'support': 150024},\n",
       "   'weighted avg': {'precision': 0.970298862242624,\n",
       "    'recall': 0.9440356209673119,\n",
       "    'f1-score': 0.9526057374216749,\n",
       "    'support': 150024}},\n",
       "  'pipeline': Pipeline(memory=None,\n",
       "           steps=[('spl',\n",
       "                   RandomUnderSampler(random_state=None, ratio='auto',\n",
       "                                      replacement=False, return_indices=False)),\n",
       "                  ('scl',\n",
       "                   QuantileTransformer(copy=True, ignore_implicit_zeros=False,\n",
       "                                       n_quantiles=1000,\n",
       "                                       output_distribution='uniform',\n",
       "                                       random_state=None, subsample=100000)),\n",
       "                  ('clf',\n",
       "                   RandomForestClassifier(bootstrap=True, class_weight=None,\n",
       "                                          criterion='gini', max_depth=None,\n",
       "                                          max_features='auto',\n",
       "                                          max_leaf_nodes=None,\n",
       "                                          min_impurity_decrease=0.0,\n",
       "                                          min_impurity_split=None,\n",
       "                                          min_samples_leaf=1, min_samples_split=2,\n",
       "                                          min_weight_fraction_leaf=0.0,\n",
       "                                          n_estimators=10, n_jobs=None,\n",
       "                                          oob_score=False, random_state=None,\n",
       "                                          verbose=0, warm_start=False))])}]"
      ]
     },
     "execution_count": 29,
     "metadata": {},
     "output_type": "execute_result"
    }
   ],
   "source": [
    "results\n"
   ]
  },
  {
   "cell_type": "code",
   "execution_count": 202,
   "metadata": {},
   "outputs": [
    {
     "name": "stdout",
     "output_type": "stream",
     "text": [
      "              precision    recall  f1-score   support\n",
      "\n",
      "       False       1.00      0.92      0.96    142612\n",
      "        True       0.38      0.94      0.54      7412\n",
      "\n",
      "    accuracy                           0.92    150024\n",
      "   macro avg       0.69      0.93      0.75    150024\n",
      "weighted avg       0.97      0.92      0.94    150024\n",
      "\n"
     ]
    },
    {
     "data": {
      "text/plain": [
       "(0.9216592011944755,)"
      ]
     },
     "execution_count": 202,
     "metadata": {},
     "output_type": "execute_result"
    }
   ],
   "source": [
    "print(classification_report(y_true=y_test, y_pred=y_pred))"
   ]
  },
  {
   "cell_type": "code",
   "execution_count": null,
   "metadata": {},
   "outputs": [],
   "source": [
    "pipeline.get_params()\n"
   ]
  },
  {
   "cell_type": "code",
   "execution_count": null,
   "metadata": {},
   "outputs": [],
   "source": []
  },
  {
   "cell_type": "code",
   "execution_count": null,
   "metadata": {},
   "outputs": [],
   "source": []
  },
  {
   "cell_type": "code",
   "execution_count": null,
   "metadata": {},
   "outputs": [],
   "source": [
    "years_to_track=1\n",
    "year_to_predict=10\n",
    "n2v_dim=12\n",
    "\n",
    "results = pd.DataFrame(columns=['years_tracked', 'year_predicted', 'score'])\n",
    "\n",
    "\n",
    "vars_to_use = ['adopters', 'citatons', 'node2vec']\n",
    "\n",
    "cols_to_keep = ['{v}_{y}'.format(y=i,v=j) \n",
    "        for i in range(years_to_track+1) \n",
    "        for j in [v for v in vars_to_use if v!='node2vec']]\n",
    "\n",
    "n2v_cols_to_keep =  ['node2vec_{y}_{i}'.format(y=y, i=i) \n",
    "                 for y in range(years_to_track+1)\n",
    "                 for i in range(n2v_dim)]\n",
    "\n",
    "cols_to_keep = cols_to_keep + n2v_cols_to_keep\n",
    "X = df.loc[:, cols_to_keep]\n",
    "\n",
    "y_col = ['timeScaledPageRank_{y}'.format(y=i) for i in range(2,10)]\n",
    "\n",
    "\n",
    "y = df.loc[:, y_col] > df[y_col].quantile(q=.9)\n",
    "\n",
    "\n",
    "param_grid = {\n",
    "    \"max_depth\": [10, None],\n",
    "    \"max_features\": [5, 10, 20],\n",
    "    \"n_estimators\": [10, 100, 200]\n",
    "}\n",
    "\n",
    "# pipeline = make_pipeline(\n",
    "# #     SMOTE(),\n",
    "#     RandomUnderSampler(),\n",
    "# #     QuantileTransformer(),\n",
    "#     MinMaxScaler(),\n",
    "#     GridSearchCV(RandomForestClassifier(class_weight={True:3, False:1}),\n",
    "#                  param_grid=param_grid, \n",
    "#                  refit=True, \n",
    "#                  n_jobs=-1, \n",
    "#                  cv=2, \n",
    "#                  scoring='f1') \n",
    "# )\n",
    "\n",
    "\n",
    "pipeline = Pipeline(\n",
    "    memory=None,\n",
    "    steps=[\n",
    "#         ('spl', SMOTE()),\n",
    "#         ('scl', MinMaxScaler()),\n",
    "        ('clf', RandomForestClassifier())\n",
    "    ]\n",
    ")\n",
    "\n",
    "X_train, X_test, y_train, y_test = train_test_split(X, y, random_state=42)\n",
    "pipeline.fit(X_train, y_train)\n",
    "\n",
    "y_pred = pipeline.predict(X_test)\n",
    "\n",
    "results = results.append({\n",
    "    'years_tracked': years_to_track, \n",
    "    'year_predicted': year_to_predict,\n",
    "    'score': pipeline.score(X=X_test, y=y_test),\n",
    "#     'f1': f1_score(y_pred=y_pred, y_true=y_test)\n",
    "}, ignore_index=True)\n",
    "\n",
    "print(classification_report(y_true=y_test, y_pred=y_pred))"
   ]
  },
  {
   "cell_type": "code",
   "execution_count": null,
   "metadata": {},
   "outputs": [],
   "source": [
    "pipeline.predict_proba(df.loc[df['id'] == 29052283, cols_to_keep])"
   ]
  },
  {
   "cell_type": "markdown",
   "metadata": {},
   "source": [
    "\n"
   ]
  },
  {
   "cell_type": "code",
   "execution_count": 19,
   "metadata": {},
   "outputs": [
    {
     "data": {
      "image/png": "[encoded data removed]",
      "text/plain": [
       "<Figure size 1080x720 with 7 Axes>"
      ]
     },
     "metadata": {},
     "output_type": "display_data"
    },
    {
     "name": "stdout",
     "output_type": "stream",
     "text": [
      "                   ________________________\n",
      "                  |  Classification Report |\n",
      "                   ‾‾‾‾‾‾‾‾‾‾‾‾‾‾‾‾‾‾‾‾‾‾‾‾\n",
      "              precision    recall  f1-score   support\n",
      "\n",
      "  Low Impact       0.93      0.91      0.92     98963\n",
      " High Impact       0.83      0.88      0.85     51061\n",
      "\n",
      "    accuracy                           0.90    150024\n",
      "   macro avg       0.88      0.89      0.89    150024\n",
      "weighted avg       0.90      0.90      0.90    150024\n",
      "\n"
     ]
    }
   ],
   "source": [
    "from plot_metric.functions import  BinaryClassification\n",
    "\n",
    "bc = BinaryClassification(y_test, y_prob, labels=[\"Low Impact\", \"High Impact\"])\n",
    "\n",
    "plt.figure(figsize=(15,10))\n",
    "\n",
    "plt.subplot2grid(shape=(2,6), loc=(0,0), colspan=2)\n",
    "bc.plot_roc_curve()\n",
    "\n",
    "plt.subplot2grid((2,6), (0,2), colspan=2)\n",
    "bc.plot_precision_recall_curve()\n",
    "\n",
    "plt.subplot2grid((2,6), (0,4), colspan=2)\n",
    "bc.plot_class_distribution()\n",
    "\n",
    "plt.subplot2grid((2,6), (1,1), colspan=2)\n",
    "bc.plot_confusion_matrix()\n",
    "\n",
    "plt.subplot2grid((2,6), (1,3), colspan=2)\n",
    "bc.plot_confusion_matrix(normalize=True)\n",
    "\n",
    "plt.show()\n",
    "bc.print_report()"
   ]
  },
  {
   "cell_type": "code",
   "execution_count": null,
   "metadata": {},
   "outputs": [],
   "source": []
  },
  {
   "cell_type": "code",
   "execution_count": 306,
   "metadata": {},
   "outputs": [
    {
     "data": {
      "text/plain": [
       "0.5624238485906913"
      ]
     },
     "execution_count": 306,
     "metadata": {},
     "output_type": "execute_result"
    }
   ],
   "source": [
    "y_pred = pipeline.predict(X_test)\n",
    "f1_score(y_pred=y_pred, y_true=y_test)"
   ]
  },
  {
   "cell_type": "code",
   "execution_count": 82,
   "metadata": {},
   "outputs": [
    {
     "data": {
      "text/plain": [
       "<matplotlib.axes._subplots.AxesSubplot at 0x7fde96aad320>"
      ]
     },
     "execution_count": 82,
     "metadata": {},
     "output_type": "execute_result"
    },
    {
     "data": {
      "image/png": "[encoded data removed]",
      "text/plain": [
       "<Figure size 864x576 with 2 Axes>"
      ]
     },
     "metadata": {},
     "output_type": "display_data"
    }
   ],
   "source": [
    "sns.heatmap(data=results.pivot('years_tracked', 'year_predicted', 'score'), \n",
    "           annot=True, fmt='.2f', linewidth=.5, cbar=True, square=True, \n",
    "           cmap='YlGnBu', center=results['score'].mean())"
   ]
  },
  {
   "cell_type": "code",
   "execution_count": null,
   "metadata": {},
   "outputs": [],
   "source": [
    "plt.figure(figsize=(10,20))\n",
    "feature_importance = pd.DataFrame.from_dict(\n",
    "    dict(zip(X.columns,pipeline.steps[1][1].feature_importances_)), orient='index').T\n",
    "sns.barplot(orient='h',data=feature_importance)"
   ]
  },
  {
   "cell_type": "code",
   "execution_count": null,
   "metadata": {},
   "outputs": [],
   "source": []
  },
  {
   "cell_type": "code",
   "execution_count": null,
   "metadata": {},
   "outputs": [],
   "source": []
  },
  {
   "cell_type": "code",
   "execution_count": null,
   "metadata": {},
   "outputs": [],
   "source": []
  },
  {
   "cell_type": "code",
   "execution_count": 20,
   "metadata": {},
   "outputs": [
    {
     "data": {
      "text/plain": [
       "Pipeline(memory=None,\n",
       "         steps=[('randomundersampler',\n",
       "                 RandomUnderSampler(random_state=None, ratio='auto',\n",
       "                                    replacement=False, return_indices=False)),\n",
       "                ('minmaxscaler', MinMaxScaler(copy=True, feature_range=(0, 1))),\n",
       "                ('randomforestclassifier',\n",
       "                 RandomForestClassifier(bootstrap=True, class_weight=None,\n",
       "                                        criterion='gini', max_depth=None,\n",
       "                                        max_features='auto',\n",
       "                                        max_leaf_nodes=None,\n",
       "                                        min_impurity_decrease=0.0,\n",
       "                                        min_impurity_split=None,\n",
       "                                        min_samples_leaf=1, min_samples_split=2,\n",
       "                                        min_weight_fraction_leaf=0.0,\n",
       "                                        n_estimators=10, n_jobs=None,\n",
       "                                        oob_score=False, random_state=None,\n",
       "                                        verbose=0, warm_start=False))])"
      ]
     },
     "execution_count": 20,
     "metadata": {},
     "output_type": "execute_result"
    }
   ],
   "source": [
    "pipeline"
   ]
  },
  {
   "cell_type": "code",
   "execution_count": 39,
   "metadata": {},
   "outputs": [
    {
     "data": {
      "text/plain": [
       "(600094, 60)"
      ]
     },
     "execution_count": 39,
     "metadata": {},
     "output_type": "execute_result"
    }
   ],
   "source": [
    ".shape"
   ]
  },
  {
   "cell_type": "code",
   "execution_count": 52,
   "metadata": {
    "scrolled": false
   },
   "outputs": [
    {
     "data": {
      "text/plain": [
       "<matplotlib.axes._subplots.AxesSubplot at 0x7f0bfc4296a0>"
      ]
     },
     "execution_count": 52,
     "metadata": {},
     "output_type": "execute_result"
    },
    {
     "data": {
      "image/png": "[encoded data removed]",
      "text/plain": [
       "<Figure size 864x576 with 1 Axes>"
      ]
     },
     "metadata": {},
     "output_type": "display_data"
    }
   ],
   "source": [
    "from sklearn.model_selection import validation_curve\n",
    "\n",
    "param = 'randomforestclassifier__max_depth'\n",
    "param_range = list(range(1,100,25))\n",
    "n_cv = 2\n",
    "\n",
    "train_scores, valid_scores = validation_curve(pipeline, \n",
    "                                              X=X, \n",
    "                                              y=y,\n",
    "                                              n_jobs=-1,\n",
    "                                              param_name=param,\n",
    "                                              scoring='roc_auc',\n",
    "                                              param_range=param_range,\n",
    "                                              cv=n_cv)\n",
    "\n",
    "vdf = pd.DataFrame(np.concatenate([train_scores, valid_scores]),\n",
    "             columns=['cv_fold_{}'.format(i) for i in range(n_cv)],\n",
    "            )\n",
    "vdf[param] = param_range*2\n",
    "vdf['type'] = ['train']*len(param_range) + ['valid']*len(param_range)\n",
    "\n",
    "sns.lineplot(data=vdf.melt(id_vars=['type', param]), \n",
    "             x=param, y='value', hue='type')"
   ]
  },
  {
   "cell_type": "code",
   "execution_count": 45,
   "metadata": {},
   "outputs": [
    {
     "data": {
      "text/html": [
       "<div>\n",
       "<style scoped>\n",
       "    .dataframe tbody tr th:only-of-type {\n",
       "        vertical-align: middle;\n",
       "    }\n",
       "\n",
       "    .dataframe tbody tr th {\n",
       "        vertical-align: top;\n",
       "    }\n",
       "\n",
       "    .dataframe thead th {\n",
       "        text-align: right;\n",
       "    }\n",
       "</style>\n",
       "<table border=\"1\" class=\"dataframe\">\n",
       "  <thead>\n",
       "    <tr style=\"text-align: right;\">\n",
       "      <th></th>\n",
       "      <th>adopters_0</th>\n",
       "      <th>timeScaledPageRank_0</th>\n",
       "      <th>citatons_0</th>\n",
       "      <th>adopters_1</th>\n",
       "      <th>timeScaledPageRank_1</th>\n",
       "      <th>citatons_1</th>\n",
       "      <th>adopters_2</th>\n",
       "      <th>timeScaledPageRank_2</th>\n",
       "      <th>citatons_2</th>\n",
       "      <th>adopters_3</th>\n",
       "      <th>...</th>\n",
       "      <th>node2vec_3_2</th>\n",
       "      <th>node2vec_3_3</th>\n",
       "      <th>node2vec_3_4</th>\n",
       "      <th>node2vec_3_5</th>\n",
       "      <th>node2vec_3_6</th>\n",
       "      <th>node2vec_3_7</th>\n",
       "      <th>node2vec_3_8</th>\n",
       "      <th>node2vec_3_9</th>\n",
       "      <th>node2vec_3_10</th>\n",
       "      <th>node2vec_3_11</th>\n",
       "    </tr>\n",
       "  </thead>\n",
       "  <tbody>\n",
       "    <tr>\n",
       "      <th>486333</th>\n",
       "      <td>4</td>\n",
       "      <td>0.116031</td>\n",
       "      <td>0</td>\n",
       "      <td>15</td>\n",
       "      <td>0.172259</td>\n",
       "      <td>0</td>\n",
       "      <td>0</td>\n",
       "      <td>0.000000</td>\n",
       "      <td>0</td>\n",
       "      <td>9</td>\n",
       "      <td>...</td>\n",
       "      <td>-0.004684</td>\n",
       "      <td>-0.013458</td>\n",
       "      <td>-0.000931</td>\n",
       "      <td>0.034042</td>\n",
       "      <td>0.183090</td>\n",
       "      <td>0.083612</td>\n",
       "      <td>-0.173805</td>\n",
       "      <td>0.111729</td>\n",
       "      <td>0.365036</td>\n",
       "      <td>0.122244</td>\n",
       "    </tr>\n",
       "    <tr>\n",
       "      <th>172958</th>\n",
       "      <td>0</td>\n",
       "      <td>0.000000</td>\n",
       "      <td>0</td>\n",
       "      <td>0</td>\n",
       "      <td>0.000000</td>\n",
       "      <td>0</td>\n",
       "      <td>0</td>\n",
       "      <td>0.000000</td>\n",
       "      <td>0</td>\n",
       "      <td>10</td>\n",
       "      <td>...</td>\n",
       "      <td>-0.065249</td>\n",
       "      <td>-0.034495</td>\n",
       "      <td>0.016746</td>\n",
       "      <td>0.040342</td>\n",
       "      <td>0.025095</td>\n",
       "      <td>-0.050629</td>\n",
       "      <td>-0.002370</td>\n",
       "      <td>0.066166</td>\n",
       "      <td>0.062527</td>\n",
       "      <td>-0.201143</td>\n",
       "    </tr>\n",
       "    <tr>\n",
       "      <th>155545</th>\n",
       "      <td>0</td>\n",
       "      <td>0.150000</td>\n",
       "      <td>0</td>\n",
       "      <td>0</td>\n",
       "      <td>0.240537</td>\n",
       "      <td>0</td>\n",
       "      <td>0</td>\n",
       "      <td>0.150000</td>\n",
       "      <td>0</td>\n",
       "      <td>0</td>\n",
       "      <td>...</td>\n",
       "      <td>-0.472903</td>\n",
       "      <td>-0.401485</td>\n",
       "      <td>-0.147171</td>\n",
       "      <td>-0.008929</td>\n",
       "      <td>0.033496</td>\n",
       "      <td>-0.004357</td>\n",
       "      <td>-0.076372</td>\n",
       "      <td>0.014749</td>\n",
       "      <td>0.703274</td>\n",
       "      <td>0.205135</td>\n",
       "    </tr>\n",
       "    <tr>\n",
       "      <th>327599</th>\n",
       "      <td>0</td>\n",
       "      <td>0.000000</td>\n",
       "      <td>0</td>\n",
       "      <td>0</td>\n",
       "      <td>0.000000</td>\n",
       "      <td>0</td>\n",
       "      <td>0</td>\n",
       "      <td>0.150000</td>\n",
       "      <td>0</td>\n",
       "      <td>0</td>\n",
       "      <td>...</td>\n",
       "      <td>-0.016170</td>\n",
       "      <td>-0.200942</td>\n",
       "      <td>-0.114702</td>\n",
       "      <td>0.078590</td>\n",
       "      <td>-0.083318</td>\n",
       "      <td>-0.032218</td>\n",
       "      <td>-0.082087</td>\n",
       "      <td>-0.016301</td>\n",
       "      <td>0.092598</td>\n",
       "      <td>0.286756</td>\n",
       "    </tr>\n",
       "    <tr>\n",
       "      <th>146966</th>\n",
       "      <td>1</td>\n",
       "      <td>0.296992</td>\n",
       "      <td>0</td>\n",
       "      <td>0</td>\n",
       "      <td>0.171250</td>\n",
       "      <td>0</td>\n",
       "      <td>0</td>\n",
       "      <td>0.031418</td>\n",
       "      <td>0</td>\n",
       "      <td>4</td>\n",
       "      <td>...</td>\n",
       "      <td>0.091882</td>\n",
       "      <td>-0.040889</td>\n",
       "      <td>0.005989</td>\n",
       "      <td>0.050186</td>\n",
       "      <td>-0.038974</td>\n",
       "      <td>-0.140391</td>\n",
       "      <td>-0.123086</td>\n",
       "      <td>0.569161</td>\n",
       "      <td>-0.086786</td>\n",
       "      <td>0.198481</td>\n",
       "    </tr>\n",
       "  </tbody>\n",
       "</table>\n",
       "<p>5 rows × 60 columns</p>\n",
       "</div>"
      ],
      "text/plain": [
       "        adopters_0  timeScaledPageRank_0  citatons_0  adopters_1  \\\n",
       "486333           4              0.116031           0          15   \n",
       "172958           0              0.000000           0           0   \n",
       "155545           0              0.150000           0           0   \n",
       "327599           0              0.000000           0           0   \n",
       "146966           1              0.296992           0           0   \n",
       "\n",
       "        timeScaledPageRank_1  citatons_1  adopters_2  timeScaledPageRank_2  \\\n",
       "486333              0.172259           0           0              0.000000   \n",
       "172958              0.000000           0           0              0.000000   \n",
       "155545              0.240537           0           0              0.150000   \n",
       "327599              0.000000           0           0              0.150000   \n",
       "146966              0.171250           0           0              0.031418   \n",
       "\n",
       "        citatons_2  adopters_3      ...        node2vec_3_2  node2vec_3_3  \\\n",
       "486333           0           9      ...           -0.004684     -0.013458   \n",
       "172958           0          10      ...           -0.065249     -0.034495   \n",
       "155545           0           0      ...           -0.472903     -0.401485   \n",
       "327599           0           0      ...           -0.016170     -0.200942   \n",
       "146966           0           4      ...            0.091882     -0.040889   \n",
       "\n",
       "        node2vec_3_4  node2vec_3_5  node2vec_3_6  node2vec_3_7  node2vec_3_8  \\\n",
       "486333     -0.000931      0.034042      0.183090      0.083612     -0.173805   \n",
       "172958      0.016746      0.040342      0.025095     -0.050629     -0.002370   \n",
       "155545     -0.147171     -0.008929      0.033496     -0.004357     -0.076372   \n",
       "327599     -0.114702      0.078590     -0.083318     -0.032218     -0.082087   \n",
       "146966      0.005989      0.050186     -0.038974     -0.140391     -0.123086   \n",
       "\n",
       "        node2vec_3_9  node2vec_3_10  node2vec_3_11  \n",
       "486333      0.111729       0.365036       0.122244  \n",
       "172958      0.066166       0.062527      -0.201143  \n",
       "155545      0.014749       0.703274       0.205135  \n",
       "327599     -0.016301       0.092598       0.286756  \n",
       "146966      0.569161      -0.086786       0.198481  \n",
       "\n",
       "[5 rows x 60 columns]"
      ]
     },
     "execution_count": 45,
     "metadata": {},
     "output_type": "execute_result"
    }
   ],
   "source": [
    "pd.concat([X_train, X_test]).head()"
   ]
  },
  {
   "cell_type": "code",
   "execution_count": 46,
   "metadata": {},
   "outputs": [
    {
     "data": {
      "text/html": [
       "<div>\n",
       "<style scoped>\n",
       "    .dataframe tbody tr th:only-of-type {\n",
       "        vertical-align: middle;\n",
       "    }\n",
       "\n",
       "    .dataframe tbody tr th {\n",
       "        vertical-align: top;\n",
       "    }\n",
       "\n",
       "    .dataframe thead th {\n",
       "        text-align: right;\n",
       "    }\n",
       "</style>\n",
       "<table border=\"1\" class=\"dataframe\">\n",
       "  <thead>\n",
       "    <tr style=\"text-align: right;\">\n",
       "      <th></th>\n",
       "      <th>adopters_0</th>\n",
       "      <th>timeScaledPageRank_0</th>\n",
       "      <th>citatons_0</th>\n",
       "      <th>adopters_1</th>\n",
       "      <th>timeScaledPageRank_1</th>\n",
       "      <th>citatons_1</th>\n",
       "      <th>adopters_2</th>\n",
       "      <th>timeScaledPageRank_2</th>\n",
       "      <th>citatons_2</th>\n",
       "      <th>adopters_3</th>\n",
       "      <th>...</th>\n",
       "      <th>node2vec_3_2</th>\n",
       "      <th>node2vec_3_3</th>\n",
       "      <th>node2vec_3_4</th>\n",
       "      <th>node2vec_3_5</th>\n",
       "      <th>node2vec_3_6</th>\n",
       "      <th>node2vec_3_7</th>\n",
       "      <th>node2vec_3_8</th>\n",
       "      <th>node2vec_3_9</th>\n",
       "      <th>node2vec_3_10</th>\n",
       "      <th>node2vec_3_11</th>\n",
       "    </tr>\n",
       "  </thead>\n",
       "  <tbody>\n",
       "    <tr>\n",
       "      <th>0</th>\n",
       "      <td>1</td>\n",
       "      <td>3.643545</td>\n",
       "      <td>0</td>\n",
       "      <td>0</td>\n",
       "      <td>0.0</td>\n",
       "      <td>0</td>\n",
       "      <td>0</td>\n",
       "      <td>0.0</td>\n",
       "      <td>0</td>\n",
       "      <td>0</td>\n",
       "      <td>...</td>\n",
       "      <td>0.196853</td>\n",
       "      <td>0.371431</td>\n",
       "      <td>0.030722</td>\n",
       "      <td>0.038122</td>\n",
       "      <td>0.050473</td>\n",
       "      <td>-0.020753</td>\n",
       "      <td>0.164645</td>\n",
       "      <td>-0.055000</td>\n",
       "      <td>-0.002025</td>\n",
       "      <td>0.022914</td>\n",
       "    </tr>\n",
       "    <tr>\n",
       "      <th>1</th>\n",
       "      <td>0</td>\n",
       "      <td>0.034130</td>\n",
       "      <td>0</td>\n",
       "      <td>0</td>\n",
       "      <td>0.0</td>\n",
       "      <td>0</td>\n",
       "      <td>0</td>\n",
       "      <td>0.0</td>\n",
       "      <td>0</td>\n",
       "      <td>0</td>\n",
       "      <td>...</td>\n",
       "      <td>0.075058</td>\n",
       "      <td>0.115643</td>\n",
       "      <td>0.008120</td>\n",
       "      <td>-0.007331</td>\n",
       "      <td>0.052746</td>\n",
       "      <td>-0.021005</td>\n",
       "      <td>-0.033460</td>\n",
       "      <td>0.014831</td>\n",
       "      <td>-0.027466</td>\n",
       "      <td>-0.019136</td>\n",
       "    </tr>\n",
       "    <tr>\n",
       "      <th>2</th>\n",
       "      <td>0</td>\n",
       "      <td>0.034130</td>\n",
       "      <td>0</td>\n",
       "      <td>0</td>\n",
       "      <td>0.0</td>\n",
       "      <td>0</td>\n",
       "      <td>0</td>\n",
       "      <td>0.0</td>\n",
       "      <td>0</td>\n",
       "      <td>0</td>\n",
       "      <td>...</td>\n",
       "      <td>0.010327</td>\n",
       "      <td>0.080612</td>\n",
       "      <td>0.008475</td>\n",
       "      <td>-0.030307</td>\n",
       "      <td>0.070742</td>\n",
       "      <td>-0.025837</td>\n",
       "      <td>0.043135</td>\n",
       "      <td>-0.026692</td>\n",
       "      <td>0.021995</td>\n",
       "      <td>-0.033936</td>\n",
       "    </tr>\n",
       "    <tr>\n",
       "      <th>3</th>\n",
       "      <td>0</td>\n",
       "      <td>0.034130</td>\n",
       "      <td>0</td>\n",
       "      <td>0</td>\n",
       "      <td>0.0</td>\n",
       "      <td>0</td>\n",
       "      <td>0</td>\n",
       "      <td>0.0</td>\n",
       "      <td>0</td>\n",
       "      <td>1</td>\n",
       "      <td>...</td>\n",
       "      <td>0.018409</td>\n",
       "      <td>0.019502</td>\n",
       "      <td>0.009520</td>\n",
       "      <td>-0.003356</td>\n",
       "      <td>0.071898</td>\n",
       "      <td>-0.004367</td>\n",
       "      <td>-0.124106</td>\n",
       "      <td>0.011427</td>\n",
       "      <td>0.015794</td>\n",
       "      <td>0.033859</td>\n",
       "    </tr>\n",
       "    <tr>\n",
       "      <th>4</th>\n",
       "      <td>0</td>\n",
       "      <td>0.034130</td>\n",
       "      <td>0</td>\n",
       "      <td>0</td>\n",
       "      <td>0.0</td>\n",
       "      <td>0</td>\n",
       "      <td>0</td>\n",
       "      <td>0.0</td>\n",
       "      <td>0</td>\n",
       "      <td>0</td>\n",
       "      <td>...</td>\n",
       "      <td>0.024362</td>\n",
       "      <td>0.001470</td>\n",
       "      <td>0.031148</td>\n",
       "      <td>0.020692</td>\n",
       "      <td>0.039797</td>\n",
       "      <td>0.019841</td>\n",
       "      <td>0.098249</td>\n",
       "      <td>-0.005099</td>\n",
       "      <td>-0.031990</td>\n",
       "      <td>-0.016112</td>\n",
       "    </tr>\n",
       "  </tbody>\n",
       "</table>\n",
       "<p>5 rows × 60 columns</p>\n",
       "</div>"
      ],
      "text/plain": [
       "   adopters_0  timeScaledPageRank_0  citatons_0  adopters_1  \\\n",
       "0           1              3.643545           0           0   \n",
       "1           0              0.034130           0           0   \n",
       "2           0              0.034130           0           0   \n",
       "3           0              0.034130           0           0   \n",
       "4           0              0.034130           0           0   \n",
       "\n",
       "   timeScaledPageRank_1  citatons_1  adopters_2  timeScaledPageRank_2  \\\n",
       "0                   0.0           0           0                   0.0   \n",
       "1                   0.0           0           0                   0.0   \n",
       "2                   0.0           0           0                   0.0   \n",
       "3                   0.0           0           0                   0.0   \n",
       "4                   0.0           0           0                   0.0   \n",
       "\n",
       "   citatons_2  adopters_3      ...        node2vec_3_2  node2vec_3_3  \\\n",
       "0           0           0      ...            0.196853      0.371431   \n",
       "1           0           0      ...            0.075058      0.115643   \n",
       "2           0           0      ...            0.010327      0.080612   \n",
       "3           0           1      ...            0.018409      0.019502   \n",
       "4           0           0      ...            0.024362      0.001470   \n",
       "\n",
       "   node2vec_3_4  node2vec_3_5  node2vec_3_6  node2vec_3_7  node2vec_3_8  \\\n",
       "0      0.030722      0.038122      0.050473     -0.020753      0.164645   \n",
       "1      0.008120     -0.007331      0.052746     -0.021005     -0.033460   \n",
       "2      0.008475     -0.030307      0.070742     -0.025837      0.043135   \n",
       "3      0.009520     -0.003356      0.071898     -0.004367     -0.124106   \n",
       "4      0.031148      0.020692      0.039797      0.019841      0.098249   \n",
       "\n",
       "   node2vec_3_9  node2vec_3_10  node2vec_3_11  \n",
       "0     -0.055000      -0.002025       0.022914  \n",
       "1      0.014831      -0.027466      -0.019136  \n",
       "2     -0.026692       0.021995      -0.033936  \n",
       "3      0.011427       0.015794       0.033859  \n",
       "4     -0.005099      -0.031990      -0.016112  \n",
       "\n",
       "[5 rows x 60 columns]"
      ]
     },
     "execution_count": 46,
     "metadata": {},
     "output_type": "execute_result"
    }
   ],
   "source": [
    "X.columns == "
   ]
  },
  {
   "cell_type": "code",
   "execution_count": null,
   "metadata": {},
   "outputs": [],
   "source": []
  },
  {
   "cell_type": "markdown",
   "metadata": {},
   "source": [
    "### Predictions"
   ]
  },
  {
   "cell_type": "code",
   "execution_count": 11,
   "metadata": {},
   "outputs": [
    {
     "data": {
      "application/vnd.jupyter.widget-view+json": {
       "model_id": "10bb32f85ad6401988392a0b9175e241",
       "version_major": 2,
       "version_minor": 0
      },
      "text/plain": [
       "HBox(children=(IntProgress(value=0, description='Optimization Progress', max=20, style=ProgressStyle(descripti…"
      ]
     },
     "metadata": {},
     "output_type": "display_data"
    },
    {
     "name": "stdout",
     "output_type": "stream",
     "text": [
      "\n",
      "\n",
      "TPOT closed during evaluation in one generation.\n",
      "WARNING: TPOT may not provide a good pipeline if TPOT is stopped/interrupted in a early generation.\n",
      "\n",
      "\n",
      "TPOT closed prematurely. Will use the current best pipeline.\n",
      "\n",
      "Best pipeline: DecisionTreeRegressor(MinMaxScaler(input_matrix), max_depth=9, min_samples_leaf=19, min_samples_split=6)\n"
     ]
    },
    {
     "data": {
      "text/plain": [
       "TPOTRegressor(config_dict='TPOT light', crossover_rate=0.1, cv=5,\n",
       "       disable_update_check=False, early_stop=None, generations=1000000,\n",
       "       max_eval_time_mins=5, max_time_mins=30, memory=None,\n",
       "       mutation_rate=0.9, n_jobs=-1, offspring_size=None,\n",
       "       periodic_checkpoint_folder=None, population_size=20,\n",
       "       random_state=None, scoring='r2', subsample=1.0, template=None,\n",
       "       use_dask=False, verbosity=2, warm_start=False)"
      ]
     },
     "execution_count": 11,
     "metadata": {},
     "output_type": "execute_result"
    }
   ],
   "source": [
    "from tpot import TPOTRegressor\n",
    "tpot = TPOTRegressor(generations=5, population_size=20, verbosity=2, n_jobs=-1, \n",
    "                                                    scoring='r2', config_dict='TPOT light', \n",
    "                                                    max_time_mins=30, max_eval_time_mins=5) \n",
    "tpot.fit(X_train, y_train)"
   ]
  },
  {
   "cell_type": "code",
   "execution_count": 13,
   "metadata": {},
   "outputs": [
    {
     "data": {
      "text/plain": [
       "0.32070619981531434"
      ]
     },
     "execution_count": 13,
     "metadata": {},
     "output_type": "execute_result"
    }
   ],
   "source": [
    "tpot.score(X_test, y_test)"
   ]
  },
  {
   "cell_type": "code",
   "execution_count": 14,
   "metadata": {},
   "outputs": [],
   "source": [
    "tpot.export('tpot_exported_pipeline.py')"
   ]
  },
  {
   "cell_type": "code",
   "execution_count": 1,
   "metadata": {},
   "outputs": [
    {
     "name": "stdout",
     "output_type": "stream",
     "text": [
      "import numpy as np\r\n",
      "import pandas as pd\r\n",
      "from sklearn.model_selection import train_test_split\r\n",
      "from sklearn.pipeline import make_pipeline\r\n",
      "from sklearn.preprocessing import MinMaxScaler\r\n",
      "from sklearn.tree import DecisionTreeRegressor\r\n",
      "\r\n",
      "# NOTE: Make sure that the class is labeled 'target' in the data file\r\n",
      "tpot_data = pd.read_csv('PATH/TO/DATA/FILE', sep='COLUMN_SEPARATOR', dtype=np.float64)\r\n",
      "features = tpot_data.drop('target', axis=1).values\r\n",
      "training_features, testing_features, training_target, testing_target = \\\r\n",
      "            train_test_split(features, tpot_data['target'].values, random_state=None)\r\n",
      "\r\n",
      "# Average CV score on the training set was:0.24912375544428125\r\n",
      "exported_pipeline = make_pipeline(\r\n",
      "    MinMaxScaler(),\r\n",
      "    DecisionTreeRegressor(max_depth=9, min_samples_leaf=19, min_samples_split=6)\r\n",
      ")\r\n",
      "\r\n",
      "exported_pipeline.fit(training_features, training_target)\r\n",
      "results = exported_pipeline.predict(testing_features)\r\n"
     ]
    }
   ],
   "source": [
    "!cat tpot_exported_pipeline.py"
   ]
  },
  {
   "cell_type": "code",
   "execution_count": null,
   "metadata": {},
   "outputs": [],
   "source": []
  },
  {
   "cell_type": "code",
   "execution_count": 6,
   "metadata": {},
   "outputs": [
    {
     "data": {
      "text/plain": [
       "(773198, 36)"
      ]
     },
     "execution_count": 6,
     "metadata": {},
     "output_type": "execute_result"
    }
   ],
   "source": [
    "years_ahead = 4\n",
    "df = pd.read_csv('/tmp/data/quanta.predict.{miny}.{maxy}.{ya}.csv.out'.format(\n",
    "        miny=min_year, maxy=max_year, ya=years_ahead))\n",
    "df.shape"
   ]
  },
  {
   "cell_type": "code",
   "execution_count": 4,
   "metadata": {},
   "outputs": [
    {
     "name": "stderr",
     "output_type": "stream",
     "text": [
      "/home/jovyan/.local/lib/python3.6/site-packages/sklearn/ensemble/weight_boosting.py:29: DeprecationWarning: numpy.core.umath_tests is an internal NumPy module and should not be imported. It will be removed in a future NumPy release.\n",
      "  from numpy.core.umath_tests import inner1d\n",
      "Using TensorFlow backend.\n"
     ]
    },
    {
     "ename": "ImportError",
     "evalue": "Cannot load backend 'TkAgg' which requires the 'tk' interactive framework, as 'headless' is currently running",
     "output_type": "error",
     "traceback": [
      "\u001b[0;31m---------------------------------------------------------------------------\u001b[0m",
      "\u001b[0;31mImportError\u001b[0m                               Traceback (most recent call last)",
      "\u001b[0;32m<ipython-input-4-e00ff8ba8111>\u001b[0m in \u001b[0;36m<module>\u001b[0;34m()\u001b[0m\n\u001b[0;32m----> 1\u001b[0;31m \u001b[0;32mfrom\u001b[0m \u001b[0mmlbox\u001b[0m\u001b[0;34m.\u001b[0m\u001b[0mpreprocessing\u001b[0m \u001b[0;32mimport\u001b[0m \u001b[0;34m*\u001b[0m\u001b[0;34m\u001b[0m\u001b[0;34m\u001b[0m\u001b[0m\n\u001b[0m\u001b[1;32m      2\u001b[0m \u001b[0;32mfrom\u001b[0m \u001b[0mmlbox\u001b[0m\u001b[0;34m.\u001b[0m\u001b[0moptimisation\u001b[0m \u001b[0;32mimport\u001b[0m \u001b[0;34m*\u001b[0m\u001b[0;34m\u001b[0m\u001b[0;34m\u001b[0m\u001b[0m\n\u001b[1;32m      3\u001b[0m \u001b[0;32mfrom\u001b[0m \u001b[0mmlbox\u001b[0m\u001b[0;34m.\u001b[0m\u001b[0mprediction\u001b[0m \u001b[0;32mimport\u001b[0m \u001b[0;34m*\u001b[0m\u001b[0;34m\u001b[0m\u001b[0;34m\u001b[0m\u001b[0m\n",
      "\u001b[0;32m~/.local/lib/python3.6/site-packages/mlbox/__init__.py\u001b[0m in \u001b[0;36m<module>\u001b[0;34m()\u001b[0m\n\u001b[1;32m      7\u001b[0m \u001b[0;32mfrom\u001b[0m \u001b[0;34m.\u001b[0m\u001b[0mencoding\u001b[0m \u001b[0;32mimport\u001b[0m \u001b[0;34m*\u001b[0m\u001b[0;34m\u001b[0m\u001b[0;34m\u001b[0m\u001b[0m\n\u001b[1;32m      8\u001b[0m \u001b[0;32mfrom\u001b[0m \u001b[0;34m.\u001b[0m\u001b[0moptimisation\u001b[0m \u001b[0;32mimport\u001b[0m \u001b[0;34m*\u001b[0m\u001b[0;34m\u001b[0m\u001b[0;34m\u001b[0m\u001b[0m\n\u001b[0;32m----> 9\u001b[0;31m \u001b[0;32mfrom\u001b[0m \u001b[0;34m.\u001b[0m\u001b[0mprediction\u001b[0m \u001b[0;32mimport\u001b[0m \u001b[0;34m*\u001b[0m\u001b[0;34m\u001b[0m\u001b[0;34m\u001b[0m\u001b[0m\n\u001b[0m\u001b[1;32m     10\u001b[0m \u001b[0;32mfrom\u001b[0m \u001b[0;34m.\u001b[0m\u001b[0mmodel\u001b[0m \u001b[0;32mimport\u001b[0m \u001b[0;34m*\u001b[0m\u001b[0;34m\u001b[0m\u001b[0;34m\u001b[0m\u001b[0m\n",
      "\u001b[0;32m~/.local/lib/python3.6/site-packages/mlbox/prediction/__init__.py\u001b[0m in \u001b[0;36m<module>\u001b[0;34m()\u001b[0m\n\u001b[0;32m----> 1\u001b[0;31m \u001b[0;32mfrom\u001b[0m \u001b[0;34m.\u001b[0m\u001b[0mpredictor\u001b[0m \u001b[0;32mimport\u001b[0m \u001b[0;34m*\u001b[0m\u001b[0;34m\u001b[0m\u001b[0;34m\u001b[0m\u001b[0m\n\u001b[0m\u001b[1;32m      2\u001b[0m \u001b[0;34m\u001b[0m\u001b[0m\n",
      "\u001b[0;32m~/.local/lib/python3.6/site-packages/mlbox/prediction/predictor.py\u001b[0m in \u001b[0;36m<module>\u001b[0;34m()\u001b[0m\n\u001b[1;32m     13\u001b[0m \u001b[0;32mimport\u001b[0m \u001b[0mmatplotlib\u001b[0m\u001b[0;34m\u001b[0m\u001b[0;34m\u001b[0m\u001b[0m\n\u001b[1;32m     14\u001b[0m \u001b[0;31m# The following line allow to use matplolib <= 3.0 versions on mac os\u001b[0m\u001b[0;34m\u001b[0m\u001b[0;34m\u001b[0m\u001b[0;34m\u001b[0m\u001b[0m\n\u001b[0;32m---> 15\u001b[0;31m \u001b[0mmatplotlib\u001b[0m\u001b[0;34m.\u001b[0m\u001b[0muse\u001b[0m\u001b[0;34m(\u001b[0m\u001b[0;34m'TkAgg'\u001b[0m\u001b[0;34m)\u001b[0m\u001b[0;34m\u001b[0m\u001b[0;34m\u001b[0m\u001b[0m\n\u001b[0m\u001b[1;32m     16\u001b[0m \u001b[0;32mimport\u001b[0m \u001b[0mmatplotlib\u001b[0m\u001b[0;34m.\u001b[0m\u001b[0mpyplot\u001b[0m \u001b[0;32mas\u001b[0m \u001b[0mplt\u001b[0m\u001b[0;34m\u001b[0m\u001b[0;34m\u001b[0m\u001b[0m\n\u001b[1;32m     17\u001b[0m \u001b[0;34m\u001b[0m\u001b[0m\n",
      "\u001b[0;32m/opt/conda/lib/python3.6/site-packages/matplotlib/cbook/deprecation.py\u001b[0m in \u001b[0;36mwrapper\u001b[0;34m(*args, **kwargs)\u001b[0m\n\u001b[1;32m    305\u001b[0m                 f\"for the old name will be dropped %(removal)s.\")\n\u001b[1;32m    306\u001b[0m             \u001b[0mkwargs\u001b[0m\u001b[0;34m[\u001b[0m\u001b[0mnew\u001b[0m\u001b[0;34m]\u001b[0m \u001b[0;34m=\u001b[0m \u001b[0mkwargs\u001b[0m\u001b[0;34m.\u001b[0m\u001b[0mpop\u001b[0m\u001b[0;34m(\u001b[0m\u001b[0mold\u001b[0m\u001b[0;34m)\u001b[0m\u001b[0;34m\u001b[0m\u001b[0;34m\u001b[0m\u001b[0m\n\u001b[0;32m--> 307\u001b[0;31m         \u001b[0;32mreturn\u001b[0m \u001b[0mfunc\u001b[0m\u001b[0;34m(\u001b[0m\u001b[0;34m*\u001b[0m\u001b[0margs\u001b[0m\u001b[0;34m,\u001b[0m \u001b[0;34m**\u001b[0m\u001b[0mkwargs\u001b[0m\u001b[0;34m)\u001b[0m\u001b[0;34m\u001b[0m\u001b[0;34m\u001b[0m\u001b[0m\n\u001b[0m\u001b[1;32m    308\u001b[0m \u001b[0;34m\u001b[0m\u001b[0m\n\u001b[1;32m    309\u001b[0m     \u001b[0;31m# wrapper() must keep the same documented signature as func(): if we\u001b[0m\u001b[0;34m\u001b[0m\u001b[0;34m\u001b[0m\u001b[0;34m\u001b[0m\u001b[0m\n",
      "\u001b[0;32m/opt/conda/lib/python3.6/site-packages/matplotlib/__init__.py\u001b[0m in \u001b[0;36muse\u001b[0;34m(backend, warn, force)\u001b[0m\n\u001b[1;32m   1295\u001b[0m         \u001b[0;32mif\u001b[0m \u001b[0mforce\u001b[0m\u001b[0;34m:\u001b[0m\u001b[0;34m\u001b[0m\u001b[0;34m\u001b[0m\u001b[0m\n\u001b[1;32m   1296\u001b[0m             \u001b[0;32mfrom\u001b[0m \u001b[0mmatplotlib\u001b[0m\u001b[0;34m.\u001b[0m\u001b[0mpyplot\u001b[0m \u001b[0;32mimport\u001b[0m \u001b[0mswitch_backend\u001b[0m\u001b[0;34m\u001b[0m\u001b[0;34m\u001b[0m\u001b[0m\n\u001b[0;32m-> 1297\u001b[0;31m             \u001b[0mswitch_backend\u001b[0m\u001b[0;34m(\u001b[0m\u001b[0mname\u001b[0m\u001b[0;34m)\u001b[0m\u001b[0;34m\u001b[0m\u001b[0;34m\u001b[0m\u001b[0m\n\u001b[0m\u001b[1;32m   1298\u001b[0m     \u001b[0;32melse\u001b[0m\u001b[0;34m:\u001b[0m\u001b[0;34m\u001b[0m\u001b[0;34m\u001b[0m\u001b[0m\n\u001b[1;32m   1299\u001b[0m         \u001b[0;31m# Finally if pyplot is not imported update both rcParams and\u001b[0m\u001b[0;34m\u001b[0m\u001b[0;34m\u001b[0m\u001b[0;34m\u001b[0m\u001b[0m\n",
      "\u001b[0;32m/opt/conda/lib/python3.6/site-packages/matplotlib/pyplot.py\u001b[0m in \u001b[0;36mswitch_backend\u001b[0;34m(newbackend)\u001b[0m\n\u001b[1;32m    228\u001b[0m                 \u001b[0;34m\"Cannot load backend {!r} which requires the {!r} interactive \"\u001b[0m\u001b[0;34m\u001b[0m\u001b[0;34m\u001b[0m\u001b[0m\n\u001b[1;32m    229\u001b[0m                 \"framework, as {!r} is currently running\".format(\n\u001b[0;32m--> 230\u001b[0;31m                     newbackend, required_framework, current_framework))\n\u001b[0m\u001b[1;32m    231\u001b[0m \u001b[0;34m\u001b[0m\u001b[0m\n\u001b[1;32m    232\u001b[0m     \u001b[0mrcParams\u001b[0m\u001b[0;34m[\u001b[0m\u001b[0;34m'backend'\u001b[0m\u001b[0;34m]\u001b[0m \u001b[0;34m=\u001b[0m \u001b[0mrcParamsDefault\u001b[0m\u001b[0;34m[\u001b[0m\u001b[0;34m'backend'\u001b[0m\u001b[0;34m]\u001b[0m \u001b[0;34m=\u001b[0m \u001b[0mnewbackend\u001b[0m\u001b[0;34m\u001b[0m\u001b[0;34m\u001b[0m\u001b[0m\n",
      "\u001b[0;31mImportError\u001b[0m: Cannot load backend 'TkAgg' which requires the 'tk' interactive framework, as 'headless' is currently running"
     ]
    }
   ],
   "source": [
    "from mlbox.preprocessing import *\n",
    "from mlbox.optimisation import *\n",
    "from mlbox.prediction import *"
   ]
  },
  {
   "cell_type": "code",
   "execution_count": null,
   "metadata": {},
   "outputs": [],
   "source": []
  }
 ],
 "metadata": {
  "kernelspec": {
   "display_name": "Python 3",
   "language": "python",
   "name": "python3"
  },
  "language_info": {
   "codemirror_mode": {
    "name": "ipython",
    "version": 3
   },
   "file_extension": ".py",
   "mimetype": "text/x-python",
   "name": "python",
   "nbconvert_exporter": "python",
   "pygments_lexer": "ipython3",
   "version": "3.6.7"
  }
 },
 "nbformat": 4,
 "nbformat_minor": 2
}
