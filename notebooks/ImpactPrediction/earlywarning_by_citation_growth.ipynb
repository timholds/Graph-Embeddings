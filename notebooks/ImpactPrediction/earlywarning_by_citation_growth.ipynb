{
 "cells": [
  {
   "cell_type": "code",
   "execution_count": null,
   "metadata": {},
   "outputs": [],
   "source": [
    "import time\n",
    "import json\n",
    "import pandas as pd\n",
    "from py2neo import Graph, Node, Relationship"
   ]
  },
  {
   "cell_type": "code",
   "execution_count": null,
   "metadata": {},
   "outputs": [],
   "source": [
    "graph = Graph(\"bolt://neo4j-quanta:7687\", auth=('neo4j','myneo'))\n",
    "\n",
    "print(\"Connected to graph database with {:,} nodes and {:,} relationships!\".format(\n",
    "    graph.database.primitive_counts['NumberOfNodeIdsInUse'], \n",
    "    graph.database.primitive_counts['NumberOfRelationshipIdsInUse']))"
   ]
  },
  {
   "cell_type": "markdown",
   "metadata": {},
   "source": [
    "## Citations"
   ]
  },
  {
   "cell_type": "code",
   "execution_count": null,
   "metadata": {},
   "outputs": [],
   "source": [
    "venue = \"\" # \"\"\"(q.venue=\"CA: A Cancer Journal for Clinicians\" OR q.venue=\"The New England Journal of Medicine\" OR q.venue=\"The Lancet\" OR q.venue=\"Chemical Reviews\" OR q.venue=\"Nature Reviews Drug Discovery\" OR q.venue=\"JAMA\" OR q.venue=\"Nature Reviews Cancer\" OR q.venue=\"Nature Reviews Immunology\" OR q.venue=\"Nature\" OR q.venue=\"Nature Reviews Genetics\" OR q.venue=\"Science\" OR q.venue=\"Chemical Society Reviews\" OR q.venue=\"Nature Materials\" OR q.venue=\"Nature Nanotechnology\" OR q.venue=\"Lancet Oncology\" OR q.venue=\"Reviews of Modern Physics\" OR q.venue=\"Nature Biotechnology\" OR q.venue=\"Nature Reviews Molecular Cell Biology\" OR q.venue=\"Nature Reviews Neuroscience\" OR q.venue=\"Nature Medicine\" OR q.venue=\"Nature Photonics\" OR q.venue=\"Nature Reviews Microbiology\" OR q.venue=\"Cell\" OR q.venue=\"Advances in Physics\" OR q.venue=\"Energy and Environmental Science\" OR q.venue=\"World Psychiatry\") AND \"\"\"\n",
    "min_total_citations = 100\n",
    "starting_year = 2003\n",
    "ending_year = 2008\n",
    "n_years = 5\n",
    "cite_multiple = 2\n",
    "min_multiple_count = 4\n",
    "cite_count_string = \"\\t\"+\",\\n\\t\".join([\"SIZE((q)<-[:CITES]-(:Quanta {{year: q.year+{}}})) as c{}\".format(i,i) for i in range(1,n_years+1)])\n",
    "cite_multiple_string = \"\\t\"+\",\\n\\t\".join([\"CASE WHEN (c{} > {}*c{}) THEN 1 ELSE 0 END as b{}\".format(i+1,cite_multiple,i,i) for i in range(1,n_years)])\n",
    "c_string = \", \".join([\"c{}\".format(i) for i in range(1,n_years+1)])\n",
    "b_string = \"+\".join([\"b{}\".format(i) for i in range(1,n_years)])\n",
    "\n",
    "query = \"\"\"\n",
    "MATCH (q:Quanta) \n",
    "WHERE EXISTS(q.fos) AND (q.n_citation>{}) AND (q.year>={} AND q.year <= {}) {}\n",
    "WITH q.title as title, q.venue as venue, q.year as year, q.n_citation as n_citation, q.pageRank_2018 as pagerank,\n",
    "    {}\n",
    "WITH *,\n",
    "    {}\n",
    "WHERE ({})>={}\n",
    "RETURN title, venue, year, n_citation, {}, pagerank, {} as sum_bool\n",
    "LIMIT 50\n",
    "\"\"\".format(min_total_citations, starting_year, ending_year, venue, cite_count_string, cite_multiple_string, b_string, min_multiple_count, c_string, b_string)\n",
    "\n",
    "print(query)\n",
    "query_start_time = time.time()\n",
    "df = graph.run(query).to_data_frame()\n",
    "query_end_time = time.time()\n",
    "print(\"Done in ({:.2f} minutes).\".format((query_end_time-query_start_time)/60))"
   ]
  },
  {
   "cell_type": "code",
   "execution_count": null,
   "metadata": {},
   "outputs": [],
   "source": [
    "df"
   ]
  },
  {
   "cell_type": "code",
   "execution_count": null,
   "metadata": {},
   "outputs": [],
   "source": [
    "# Get citation counts for papers of interest\n",
    "n_years = 6\n",
    "cite_count_string = \"\\t\"+\",\\n\\t\".join([\"SIZE((q)<-[:CITES]-(:Quanta {{year: q.year+{}}})) as c{}\".format(i,i) for i in range(1,n_years+1)])\n",
    "c_string = \", \".join([\"c{}\".format(i) for i in range(1,n_years+1)])\n",
    "\n",
    "title = \"Fog computing and its role in the internet of things\"\n",
    "query = \"\"\"\n",
    "MATCH (q:Quanta {{title: \"{}\"}}) \n",
    "WITH q.title as title, q.venue as venue, q.year as year, q.n_citation as n_citation, q.pageRank_2018 as pagerank,\n",
    "{}  \n",
    "RETURN title, n_citation, {}, pagerank\n",
    "\"\"\".format(title, cite_count_string, c_string)\n",
    "# print(query)\n",
    "df = graph.run(query).to_data_frame()\n",
    "df.head()"
   ]
  },
  {
   "cell_type": "code",
   "execution_count": null,
   "metadata": {},
   "outputs": [],
   "source": [
    "# Get average number of citaitons for Nature and Science\n",
    "n_years = 11\n",
    "cite_count_string = \"\\t\"+\",\\n\\t\".join([\"SIZE((q)<-[:CITES]-(:Quanta {{year: q.year+{}}})) as c{}\".format(i,i) for i in range(1,n_years+1)])\n",
    "c_string = \", \".join([\"c{}\".format(i) for i in range(1,n_years+1)])\n",
    "avg_c_string = \", \".join([\"avg(c{})\".format(i) for i in range(1,n_years+1)])\n",
    "\n",
    "query = \"\"\"\n",
    "MATCH (q:Quanta) \n",
    "WHERE (q.venue=\"Nature\" OR q.venue=\"Science\") AND (q.year <= 2005 AND q.year >=1950)\n",
    "WITH q.year as year, q.n_citation as n_citation, q.pageRank_2018 as pagerank,\n",
    "{}\n",
    "RETURN avg(year), avg(n_citation), avg(pagerank), {}\n",
    "\"\"\".format(cite_count_string, avg_c_string)\n",
    "# print(query)\n",
    "df = graph.run(query).to_data_frame()\n",
    "df.head()"
   ]
  },
  {
   "cell_type": "code",
   "execution_count": null,
   "metadata": {},
   "outputs": [],
   "source": [
    "df"
   ]
  }
 ],
 "metadata": {
  "kernelspec": {
   "display_name": "Python 3",
   "language": "python",
   "name": "python3"
  }
 },
 "nbformat": 4,
 "nbformat_minor": 2
}
