{
 "cells": [
  {
   "cell_type": "code",
   "execution_count": null,
   "metadata": {},
   "outputs": [],
   "source": [
    "import json\n",
    "import time\n",
    "import pandas as pd\n",
    "from py2neo import Graph, Node, Relationship\n",
    "import numpy as np\n",
    "import matplotlib.pyplot as plt\n",
    "from sklearn.model_selection import cross_val_score, cross_val_predict\n",
    "from sklearn.tree import DecisionTreeClassifier"
   ]
  },
  {
   "cell_type": "code",
   "execution_count": null,
   "metadata": {},
   "outputs": [],
   "source": [
    "graph = Graph(\"bolt://neo4j-allquanta:7687\", auth=('neo4j','myneo'))\n",
    "print(\"Connected to graph database with {:,} nodes and {:,} relationships!\".format(\n",
    "    graph.database.primitive_counts['NumberOfNodeIdsInUse'], \n",
    "    graph.database.primitive_counts['NumberOfRelationshipIdsInUse']))"
   ]
  },
  {
   "cell_type": "code",
   "execution_count": null,
   "metadata": {},
   "outputs": [],
   "source": [
    "years_to_use = 3\n",
    "start_year = 2009\n",
    "end_year = 2013\n",
    "\n",
    "print(\"Getting dataset...\", end=\" \")\n",
    "cites_str = ',\\n    '.join(['CASE WHEN {} < q.year THEN NULL ELSE SIZE((q)<-[:CITES]-(:Quanta {{year: {}}})) END as c{}'.format(\n",
    "    yr, yr, yr) for yr in range(start_year, end_year+1)])\n",
    "tspr_str = ',\\n    '.join(['q.tspr{} as tspr{}'.format(\n",
    "    yr, yr) for yr in range(start_year, end_year+1)])\n",
    "query = \"\"\"\n",
    "MATCH (q:Quanta)\n",
    "WHERE \n",
    "    (q.doctype='Journal') AND \n",
    "    (q.lang='en') AND \n",
    "    EXISTS(q.fos) AND \n",
    "    (q.year>={} AND q.year <= {}) AND\n",
    "    q.venue='Nature'   # ADDED THIS LINE IN FOR NATURE ONLY VENUE\n",
    "RETURN\n",
    "    q.year as year,\n",
    "    q.title as title,\n",
    "    q.id as id,\n",
    "    {},\n",
    "    {}\n",
    "LIMIT 1000\n",
    "\"\"\".format(start_year, end_year-years_to_use, tspr_str, cites_str)\n",
    "print(query)\n",
    "query_start_time = time.time()\n",
    "df = graph.run(query).to_data_frame()\n",
    "print(\"Done ({:.2f} minutes).\".format((time.time()-query_start_time)/60))"
   ]
  },
  {
   "cell_type": "code",
   "execution_count": null,
   "metadata": {},
   "outputs": [],
   "source": [
    "# appends class to top 5 percentile making into classification problem\n",
    "\n",
    "threshold = df.quantile(0.95).tspr2013\n",
    "df['class'] = df.apply(lambda row: 0 if row.tspr2013 < threshold else 1, axis=1)\n"
   ]
  },
  {
   "cell_type": "code",
   "execution_count": null,
   "metadata": {},
   "outputs": [],
   "source": [
    "# extract features for each paper\n",
    "df.apply(lambda row: NaN not in row)"
   ]
  },
  {
   "cell_type": "code",
   "execution_count": null,
   "metadata": {},
   "outputs": [],
   "source": []
  }
 ],
 "metadata": {
  "kernelspec": {
   "display_name": "Python 3",
   "language": "python",
   "name": "python3"
  },
  "language_info": {
   "codemirror_mode": {
    "name": "ipython",
    "version": 3
   },
   "file_extension": ".py",
   "mimetype": "text/x-python",
   "name": "python",
   "nbconvert_exporter": "python",
   "pygments_lexer": "ipython3",
   "version": "3.6.7"
  }
 },
 "nbformat": 4,
 "nbformat_minor": 2
}
