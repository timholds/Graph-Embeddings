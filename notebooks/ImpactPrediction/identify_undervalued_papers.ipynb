{
 "cells": [
  {
   "cell_type": "code",
   "execution_count": null,
   "metadata": {},
   "outputs": [],
   "source": [
    "import json\n",
    "import time\n",
    "import pandas as pd\n",
    "from py2neo import Graph, Node, Relationship\n",
    "#from py2neo.Graph import database \n",
    "\n",
    "# Need to get authentication working, currently NEO4J_AUTH=none\n",
    "graph = Graph(\"bolt://neo4j:7687\")\n",
    "# graph = Graph('bolt://localhost:7687', bolt=True)\n",
    "\n",
    "#graph.delete_all()\n",
    "\n",
    "n_nodes = graph.database.primitive_counts['NumberOfNodeIdsInUse']\n",
    "n_relationships = graph.database.primitive_counts['NumberOfRelationshipIdsInUse']\n",
    "print(\"Connected to graph database with {:,} nodes and {:,} relationships!\".format\n",
    "     (n_nodes, n_relationships))"
   ]
  },
  {
   "cell_type": "markdown",
   "metadata": {},
   "source": [
    "### Get percentile cutoffs of PageRank score"
   ]
  },
  {
   "cell_type": "code",
   "execution_count": null,
   "metadata": {},
   "outputs": [],
   "source": [
    "query = \"\"\"\n",
    "MATCH (n:Quanta)\n",
    "WHERE n.year>1990 AND (n.venue=\"Nature\" OR n.venue=\"Science\")\n",
    "WITH SIZE((n)<-[:CITES]-(:Quanta)) as citations, n.pageRank_2018 as pagerank\n",
    "RETURN \n",
    "percentileCont(citations, 0.05),\n",
    "percentileCont(pagerank, 0.95)\n",
    "\"\"\"\n",
    "# print(query)\n",
    "query_start_time = time.time()\n",
    "df = graph.run(query).to_data_frame()\n",
    "print(\"Done in {:.2f} minutes.\".format((time.time()-query_start_time)/60))\n",
    "\n",
    "high_pagerank_threshold = 1.4731184999999998"
   ]
  },
  {
   "cell_type": "code",
   "execution_count": null,
   "metadata": {},
   "outputs": [],
   "source": [
    "df"
   ]
  },
  {
   "cell_type": "code",
   "execution_count": null,
   "metadata": {},
   "outputs": [],
   "source": [
    "query = \"\"\"\n",
    "MATCH (n:Quanta) \n",
    "WHERE (n.year > 1990) AND (n.venue=\"Nature\" OR n.venue=\"Science\")\n",
    "WITH \n",
    "    100 as citation_threshold, \n",
    "    percentileCont(n.pageRank_2018, 0.90) as pagerank_threshold\n",
    "MATCH (q:Quanta) \n",
    "WHERE \n",
    "    (q.year > 1990) AND (q.venue=\"Nature\" OR q.venue=\"Science\") AND\n",
    "    (q.pageRank_2018 >= pagerank_threshold) AND \n",
    "    (q.n_citation <= citation_threshold) AND\n",
    "    EXISTS(q.fos)\n",
    "RETURN \n",
    "q.title as title, \n",
    "q.year as year, \n",
    "q.pageRank_2018 as pagerank, \n",
    "q.n_citation as citations\n",
    "ORDER BY pagerank DESC\n",
    "\"\"\"\n",
    "# print(query)\n",
    "query_start_time = time.time()\n",
    "df = graph.run(query).to_data_frame()\n",
    "print(\"Done in {:.2f} minutes.\".format((time.time()-query_start_time)/60))\n",
    "\n"
   ]
  },
  {
   "cell_type": "code",
   "execution_count": null,
   "metadata": {},
   "outputs": [],
   "source": [
    "df"
   ]
  }
 ],
 "metadata": {
  "kernelspec": {
   "display_name": "Python 3",
   "language": "python",
   "name": "python3"
  },
  "language_info": {
   "codemirror_mode": {
    "name": "ipython",
    "version": 3
   },
   "file_extension": ".py",
   "mimetype": "text/x-python",
   "name": "python",
   "nbconvert_exporter": "python",
   "pygments_lexer": "ipython3",
   "version": "3.6.6"
  }
 },
 "nbformat": 4,
 "nbformat_minor": 2
}
