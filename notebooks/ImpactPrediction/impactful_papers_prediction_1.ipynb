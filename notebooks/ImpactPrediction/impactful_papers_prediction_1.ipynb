{
 "cells": [
  {
   "cell_type": "markdown",
   "metadata": {},
   "source": [
    "### Imports"
   ]
  },
  {
   "cell_type": "code",
   "execution_count": null,
   "metadata": {},
   "outputs": [],
   "source": [
    "import json\n",
    "import time\n",
    "import pandas as pd\n",
    "from py2neo import Graph, Node, Relationship"
   ]
  },
  {
   "cell_type": "markdown",
   "metadata": {},
   "source": [
    "### Connect to graph"
   ]
  },
  {
   "cell_type": "code",
   "execution_count": null,
   "metadata": {},
   "outputs": [],
   "source": [
    "graph = Graph(\"bolt://neo4j:7687\", auth=('neo4j','myneo'))\n",
    "print(\"Connected to graph database with {:,} nodes and {:,} relationships!\".format\n",
    "     (graph.database.primitive_counts['NumberOfNodeIdsInUse'], \n",
    "      graph.database.primitive_counts['NumberOfRelationshipIdsInUse']))"
   ]
  },
  {
   "cell_type": "markdown",
   "metadata": {},
   "source": [
    "### Build dataset"
   ]
  },
  {
   "cell_type": "markdown",
   "metadata": {},
   "source": [
    "- Consider papers from 1995 onwards. \n",
    "- For each paper, extract features and citation data for the next X years\n",
    "- Output goal is Time-Scaled PageRank Y years later. \n"
   ]
  },
  {
   "cell_type": "code",
   "execution_count": null,
   "metadata": {},
   "outputs": [],
   "source": [
    "starting_year, ending_year = 2008, 2008\n",
    "years_to_use = 5\n",
    "years_until_prediction = 10"
   ]
  },
  {
   "cell_type": "code",
   "execution_count": null,
   "metadata": {},
   "outputs": [],
   "source": [
    "def query_to_df(query_string):\n",
    "    query_start_time = time.time()\n",
    "    df = graph.run(query_string).to_data_frame()\n",
    "    print(\"Done ({:.2f} minutes).\".format((time.time()-query_start_time)/60))\n",
    "    return df\n",
    "\n",
    "def build_training_query(year, years_to_use, n_samples=10000):\n",
    "    \n",
    "    citations_string = \"SIZE((q)<-[:CITES]-(:Quanta {{year: q.year+{}}})) as c{}\"\n",
    "    citations_by_year = \",\\n\\t\".join([citations_string.format(i,i) for \n",
    "                                      i in range(1,years_to_use+1)]) + ','\n",
    "    data_query = \"\"\"\n",
    "    MATCH (q:Quanta)\n",
    "    WHERE q.year={} AND q.doctype='Journal' AND q.lang='en'\n",
    "    RETURN\n",
    "        q.id,\n",
    "        {}\n",
    "        q.pageRank_2018 as pagerank\n",
    "    LIMIT {}\n",
    "    \"\"\".format(year, citations_by_year, n_samples)\n",
    "    return data_query"
   ]
  },
  {
   "cell_type": "code",
   "execution_count": null,
   "metadata": {},
   "outputs": [],
   "source": [
    "for year in range(starting_year, ending_year+1, 1):\n",
    "    data_query = build_training_query(year, years_to_use, 10000)\n",
    "    df = query_to_df(data_query)\n",
    "                     \n",
    "X = df.iloc[:,0:years_to_use].values\n",
    "y = df.iloc[:,years_to_use].values"
   ]
  },
  {
   "cell_type": "code",
   "execution_count": null,
   "metadata": {},
   "outputs": [],
   "source": [
    "X.shape"
   ]
  },
  {
   "cell_type": "code",
   "execution_count": null,
   "metadata": {},
   "outputs": [],
   "source": [
    "from sklearn.cross_validation import train_test_split\n",
    "X_train, X_test, y_train, y_test = train_test_split(X, y, test_size=1/3)\n",
    "\n",
    "from sklearn.ensemble import RandomForestRegressor\n",
    "regr = RandomForestRegressor()\n",
    "regr.fit(X_train, y_train)\n",
    "print(regr)\n",
    "\n",
    "from sklearn.metrics import r2_score\n",
    "y_pred = regr.predict(X_test)\n",
    "r2 = r2_score(y_test, y_pred)\n",
    "print(\"R-squared: {}\".format(r2))"
   ]
  },
  {
   "cell_type": "code",
   "execution_count": null,
   "metadata": {},
   "outputs": [],
   "source": []
  }
 ],
 "metadata": {
  "kernelspec": {
   "display_name": "Python 3",
   "language": "python",
   "name": "python3"
  },
  "language_info": {
   "codemirror_mode": {
    "name": "ipython",
    "version": 3
   },
   "file_extension": ".py",
   "mimetype": "text/x-python",
   "name": "python",
   "nbconvert_exporter": "python",
   "pygments_lexer": "ipython3",
   "version": "3.6.6"
  }
 },
 "nbformat": 4,
 "nbformat_minor": 2
}
