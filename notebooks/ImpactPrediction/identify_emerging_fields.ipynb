{
 "cells": [
  {
   "cell_type": "code",
   "execution_count": null,
   "metadata": {},
   "outputs": [],
   "source": [
    "import json\n",
    "from py2neo import Graph, Node, Relationship\n",
    "#from py2neo.Graph import database \n",
    "\n",
    "# Need to get authentication working, currently NEO4J_AUTH=none\n",
    "graph = Graph(\"bolt://neo4j:7687\")\n",
    "# graph = Graph('bolt://localhost:7687', bolt=True)\n",
    "\n",
    "#graph.delete_all()\n",
    "\n",
    "n_nodes = graph.database.primitive_counts['NumberOfNodeIdsInUse']\n",
    "n_relationships = graph.database.primitive_counts['NumberOfRelationshipIdsInUse']\n",
    "print(\"Connected to graph database with {:,} nodes and {:,} relationships!\".format\n",
    "     (n_nodes, n_relationships))"
   ]
  },
  {
   "cell_type": "markdown",
   "metadata": {},
   "source": [
    "# Identify papers with strong \"early warning\" signal\n"
   ]
  },
  {
   "cell_type": "code",
   "execution_count": null,
   "metadata": {},
   "outputs": [],
   "source": [
    "import glob, os, time\n",
    "import pandas as pd\n",
    "n_years = 5\n",
    "step_size = 1"
   ]
  },
  {
   "cell_type": "markdown",
   "metadata": {},
   "source": [
    "## Calculate average citation AUC by year for Nature and Science papers"
   ]
  },
  {
   "cell_type": "code",
   "execution_count": null,
   "metadata": {},
   "outputs": [],
   "source": [
    "c = \"toFloat(SIZE((b)<-[:CITES]-(:Quanta {{year: b.year+{}}}))) as c{}\"\n",
    "all_c = [c.format(i,i) for i in range(0,n_years+1,step_size)]\n",
    "joined_c = \",\\n\".join(all_c)\n",
    "\n",
    "s = \"(c{}+c{})/2\"\n",
    "all_s = [s.format(i,i+1) for i in range(0,n_years,step_size)]\n",
    "joined_s = \"+\".join(all_s)\n",
    "\n",
    "query = \"\"\"\n",
    "MATCH (b:Quanta)\n",
    "WHERE (b.venue=\"Science\" OR b.venue=\"Nature\") AND b.year>=1950\n",
    "WITH b, {}\n",
    "RETURN \n",
    "count(b) as num_articles,\n",
    "sum({}) as sum_area, \n",
    "avg({}) as avg_area,\n",
    "    \"\"\".format(joined_c, joined_s, joined_s, joined_s)\n",
    "\n",
    "# print(query)\n",
    "query_start_time = time.time()\n",
    "df = graph.run(query).to_data_frame()\n",
    "print(\"Done in {:.2f} minutes.\".format((time.time()-query_start_time)/60))\n",
    "\n",
    "mean_area = df['avg_area'][0]\n",
    "mean_area = 20.24"
   ]
  },
  {
   "cell_type": "markdown",
   "metadata": {},
   "source": [
    "## Identify paper with top citation area"
   ]
  },
  {
   "cell_type": "code",
   "execution_count": null,
   "metadata": {},
   "outputs": [],
   "source": [
    "c = \"SIZE((b)<-[:CITES]-(:Quanta {{year: b.year+{}}})) as c{}\"\n",
    "all_c = [c.format(i,i) for i in range(0,n_years+1,step_size)]\n",
    "joined_c = \",\\n\".join(all_c)\n",
    "\n",
    "s = \"(c{}+c{})/2\"\n",
    "all_s = [s.format(i,i+1) for i in range(0,n_years,step_size)]\n",
    "joined_s = \"+\".join(all_s)\n",
    "\n",
    "query = \"\"\"\n",
    "MATCH (b:Quanta)\n",
    "WHERE b.year>=1970 AND (b.venue=\"Nature\" or b.venue=\"Science\")\n",
    "WITH b, {}\n",
    "RETURN \n",
    "    b.title as title, \n",
    "    b.year as year_published,\n",
    "    {} as citation_area\n",
    "ORDER BY citation_area DESC\n",
    "LIMIT 100\n",
    "    \"\"\".format(joined_c, joined_s)\n",
    "\n",
    "# print(query)\n",
    "query_start_time = time.time()\n",
    "df = graph.run(query).to_data_frame()\n",
    "print(\"Done in {:.2f} minutes.\".format((time.time()-query_start_time)/60))"
   ]
  },
  {
   "cell_type": "code",
   "execution_count": null,
   "metadata": {},
   "outputs": [],
   "source": [
    "df.to_csv(\"/tmp/data/result/TopAreaAllQuantaNatureScience.csv\")\n",
    "df"
   ]
  },
  {
   "cell_type": "markdown",
   "metadata": {},
   "source": [
    "# Calculate citations per year post publication for specific journals"
   ]
  },
  {
   "cell_type": "code",
   "execution_count": null,
   "metadata": {},
   "outputs": [],
   "source": [
    "import glob, os, time\n",
    "import pandas as pd\n",
    "start_time = time.time()\n",
    "dfs = []\n",
    "for i in range(0,20,1):\n",
    "    query = \"\"\"\n",
    "    MATCH (b:Quanta)\n",
    "    WHERE b.venue=\"Science\" OR b.venue=\"Nature\" AND b.year>=1950\n",
    "    WITH b, SIZE((b)<-[:CITES]-(:Quanta {{year: b.year+{}}})) as citationCount\n",
    "    RETURN \n",
    "        b.venue as journal, \n",
    "        {} as years_post_publication, \n",
    "        count(b) as num_articles,\n",
    "        sum(citationCount) as total_citations, \n",
    "        avg(citationCount) as avg_citations,\n",
    "        percentileCont(citationCount, 0.5) as median_citations\n",
    "        \"\"\".format(i,i)\n",
    "#     print(query)\n",
    "    query_start_time = time.time()\n",
    "    dfs.append(graph.run(query).to_data_frame())\n",
    "    query_end_time = time.time()\n",
    "    print(\"Done ({:.2f} minutes).\".format((query_end_time-query_start_time)/60))\n",
    "    \n",
    "end_time = time.time()\n",
    "print(\"Finished all calculations in {:.2f} minutes.\".format((end_time-start_time)/60))"
   ]
  },
  {
   "cell_type": "code",
   "execution_count": null,
   "metadata": {},
   "outputs": [],
   "source": [
    "r = pd.concat(dfs)\n",
    "r.set_index('journal', inplace=True)\n",
    "r.to_csv(path_or_buf='/tmp/data/result/NatureScienceCitations.csv', sep=\",\", header=True, index=True)\n",
    "print(\"Done.\")"
   ]
  },
  {
   "cell_type": "code",
   "execution_count": null,
   "metadata": {},
   "outputs": [],
   "source": [
    "query = \"\"\"\n",
    "MATCH (b:Quanta)\n",
    "WHERE b.title = \"CRISPR provides acquired resistance against viruses in prokaryotes.\"\n",
    "WITH b\n",
    "MATCH (b)<-[:CITES]-(a:Quanta)\n",
    "WITH b.year as pubYear, COUNT(a) as numCitations, a.year as citationYear\n",
    "RETURN \n",
    "    citationYear - pubYear as years_post_publication, \n",
    "    numCitations as num_citations\n",
    "\"\"\"\n",
    "query_start_time = time.time()\n",
    "df = graph.run(query).to_data_frame()\n",
    "# df.set_index('years_post_publication', inplace=True)\n",
    "df.sort_index(inplace=True)\n",
    "query_end_time = time.time()\n",
    "print(\"Done in ({:.2f} minutes).\".format((query_end_time-query_start_time)/60))"
   ]
  }
 ],
 "metadata": {
  "kernelspec": {
   "display_name": "Python 3",
   "language": "python",
   "name": "python3"
  },
  "language_info": {
   "codemirror_mode": {
    "name": "ipython",
    "version": 3
   },
   "file_extension": ".py",
   "mimetype": "text/x-python",
   "name": "python",
   "nbconvert_exporter": "python",
   "pygments_lexer": "ipython3",
   "version": "3.6.6"
  }
 },
 "nbformat": 4,
 "nbformat_minor": 2
}
