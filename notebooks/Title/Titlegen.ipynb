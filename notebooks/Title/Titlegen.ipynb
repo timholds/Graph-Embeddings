{
 "cells": [
  {
   "cell_type": "code",
   "execution_count": 1,
   "metadata": {},
   "outputs": [
    {
     "name": "stderr",
     "output_type": "stream",
     "text": [
      "Using TensorFlow backend.\n",
      "/usr/lib/python3/dist-packages/requests/__init__.py:80: RequestsDependencyWarning: urllib3 (1.24.3) or chardet (3.0.4) doesn't match a supported version!\n",
      "  RequestsDependencyWarning)\n"
     ]
    },
    {
     "name": "stdout",
     "output_type": "stream",
     "text": [
      "WARNING:tensorflow:From /home/brendan/.local/lib/python3.6/site-packages/tensorflow/python/framework/op_def_library.py:263: colocate_with (from tensorflow.python.framework.ops) is deprecated and will be removed in a future version.\n",
      "Instructions for updating:\n",
      "Colocations handled automatically by placer.\n"
     ]
    }
   ],
   "source": [
    "import time\n",
    "import pandas as pd\n",
    "from py2neo import Graph, Node, Relationship\n",
    "from textgenrnn import textgenrnn"
   ]
  },
  {
   "cell_type": "code",
   "execution_count": 2,
   "metadata": {},
   "outputs": [],
   "source": [
    "def query_to_df(query, graph):\n",
    "    print(\"Starting query...\", end=\" \")\n",
    "    query_start_time = time.time()\n",
    "    df = graph.run(query).to_data_frame()\n",
    "    print(\"Done ({:.2f} minutes).\".format((time.time()-query_start_time)/60))\n",
    "    return df"
   ]
  },
  {
   "cell_type": "code",
   "execution_count": 3,
   "metadata": {},
   "outputs": [],
   "source": [
    "# graph = Graph( \"bolt://matlaber10.media.mit.edu:7687\", auth=('neo4j','myneo'))\n",
    "graph = Graph( \"bolt://neo4j-magtwo:7687\", auth=('neo4j','myneo'))\n",
    "# print(\"Connected to graph database with {:,} nodes and {:,} relationships!\".format(\n",
    "#     graph.database.primitive_counts['NumberOfNodeIdsInUse'], \n",
    "#     graph.database.primitive_counts['NumberOfRelationshipIdsInUse']))"
   ]
  },
  {
   "cell_type": "code",
   "execution_count": 2,
   "metadata": {},
   "outputs": [],
   "source": [
    "def gen_query(venue):\n",
    "    query =  \"\"\"\n",
    "    MATCH (a:Author)-[:AUTHORED]-(q:Quanta)\n",
    "    WHERE q.venue = '{}'\n",
    "    RETURN COLLECT(q.title) AS titles\n",
    "    \"\"\".format(venue)\n",
    "    return query\n",
    "\n",
    "def gen_query(venue):\n",
    "    query =  \"MATCH (q:Quanta)-[:PUBLISHED_IN_VENUE]->(v:Venue) WHERE v.name = '{}' RETURN collect(q.title) as titles\".format(venue)\n",
    "    return query"
   ]
  },
  {
   "cell_type": "code",
   "execution_count": 9,
   "metadata": {},
   "outputs": [],
   "source": [
    "top_5 = ['Cell', 'Nature', 'Nature Biotechnology','Proceedings of the National Academy of Sciences of the United States of America','Science']\n",
    "top_10 = ['Cell', 'Nature', 'Nature Biotechnology','Proceedings of the National Academy of Sciences of the United States of America','Science', 'Journal of the American Chemical Society', 'JAMA', 'The New England Journal of Medicine', 'Nature Genetics', 'Neuron']\n",
    "top_42 = ['Angewandte Chemie','Blood','Cancer Cell','Cancer Discovery','Cancer Research','Cell','Cell Host & Microbe','Cell Metabolism','Cell Stem Cell','Chemistry & Biology','The EMBO Journal','Genes & Development','Immunity','Journal of Neurology','Journal of the American Chemical Society','JAMA','Journal of Biological Chemistry','Journal of Cell Biology','Journal of Clinical Investigation','Journal of Experimental Medicine','Journal of Medicinal Chemistry','The Lancet','Nature Cell Biology','Nature Chemical Biology','Nature Chemistry','Nature Medicine','Nature Methods','Nature','Nature Biotechnology','The New England Journal of Medicine','Neuron','Nature Genetics','Nature Immunology','Nature Neuroscience','Nature Structural & Molecular Biology','PLOS Biology','PLOS Genetics','PLOS Pathogens','Proceedings of the National Academy of Sciences of the United States of America','Science Signaling','Science Translational Medicine','Science']"
   ]
  },
  {
   "cell_type": "code",
   "execution_count": 41,
   "metadata": {},
   "outputs": [
    {
     "name": "stdout",
     "output_type": "stream",
     "text": [
      "Starting query... Done (0.58 minutes).\n",
      "Starting query... Done (1.60 minutes).\n",
      "Starting query... Done (0.10 minutes).\n",
      "Starting query... Done (1.84 minutes).\n",
      "Starting query... Done (1.58 minutes).\n"
     ]
    }
   ],
   "source": [
    "venues = top_42\n",
    "\n",
    "for venue in venues:\n",
    "    query = gen_query(venue)\n",
    "    df = query_to_df(query, graph)\n",
    "#     df.to_csv('Train_/{}_titles.csv'.format(venue), index = False, encoding = \"UTF-8\")\n",
    "    df.to_csv('/tmp/data/titles/Train/{}_titles.csv'.format(venue), index = False, encoding = \"UTF-8\")"
   ]
  },
  {
   "cell_type": "code",
   "execution_count": null,
   "metadata": {},
   "outputs": [],
   "source": [
    "import ast\n",
    "venues = top_42\n",
    "\n",
    "for venue in venues:\n",
    "    df_titles = pd.read_csv('/tmp/data/titles/Train/{}_titles.csv'.format(venue))\n",
    "    title_list = df_titles.iloc[0]['titles']\n",
    "    texts = ast.literal_eval(title_list)\n",
    "    print('Number of titles in ', venue, ':', len(texts))"
   ]
  },
  {
   "cell_type": "code",
   "execution_count": null,
   "metadata": {},
   "outputs": [],
   "source": [
    "# import os\n",
    "# os.environ[\"CUDA_VISIBLE_DEVICES\"]=\"0\"\n",
    "from keras import backend as K\n",
    "K.tensorflow_backend._get_available_gpus()"
   ]
  },
  {
   "cell_type": "code",
   "execution_count": 28,
   "metadata": {},
   "outputs": [],
   "source": [
    "import ast\n",
    "import random\n",
    "def gen_titles_short(venue, n_gen=5, n_train=1000, epochs=1, batch=128):\n",
    "#     df_titles = pd.read_csv('Train/{}_titles.csv'.format(venue))\n",
    "#     df_titles = pd.read_csv('/tmp/data/titles/Train/{}_titles.csv'.format(venue))\n",
    "    df_titles = pd.read_csv('~/data/titles/Train/{}_titles.csv'.format(venue))\n",
    "    title_list = df_titles.iloc[0]['titles']\n",
    "    tl = ast.literal_eval(title_list)\n",
    "    print('Venue: ', venue)\n",
    "    print('Number of titles:', len(tl))\n",
    "    print('Sampling: ', n_train, 'titles')\n",
    "    texts = []\n",
    "    for i in range(n_train):\n",
    "        texts.append(random.choice(tl))\n",
    "    textgen = textgenrnn()\n",
    "    textgen.train_on_texts(texts, num_epochs=epochs, batch_size=batch, verbose=2)\n",
    "#     textgen.generate_to_file('Gen/{}_generated.txt'.format(venue),\n",
    "#                     n=n_gen, \n",
    "#                     temperature=[.2 for i in range(n_train)],\n",
    "#                     max_gen_length=100,\n",
    "#                     progress=False)\n",
    "#     textgen.generate_to_file('/tmp/data/titles/Gen/{}_generated.txt'.format(venue),\n",
    "#                     n=n_gen, \n",
    "#                     temperature=[.2 for i in range(n_train)],\n",
    "#                     max_gen_length=100,\n",
    "#                     progress=False)\n",
    "    textgen.generate_to_file('/u/skokada/data/titles/Gen/{}_generated.txt'.format(venue),\n",
    "                        n=n_gen, \n",
    "                        temperature=[.2 for i in range(n_train)],\n",
    "                        max_gen_length=100,\n",
    "                        progress=False)"
   ]
  },
  {
   "cell_type": "code",
   "execution_count": 29,
   "metadata": {},
   "outputs": [
    {
     "name": "stdout",
     "output_type": "stream",
     "text": [
      "Venue:  Cell\n",
      "Number of titles: 99673\n",
      "Sampling:  10 titles\n",
      "Training on 779 character sequences.\n",
      "Epoch 1/1\n",
      " - 4s - loss: 2.9063\n",
      "####################\n",
      "Temperature: 0.2\n",
      "####################\n",
      "Prooo in a connected patterrr and the of Recornioted the Contenated Recornive of Patri Meetlants of the Structs of Drama and Mattreaa active of the Seriela Patteerels of Ara Conters Recorging the Serious Recornively of the Arretter Patterrels and a connected elected the the Serious Mattreaa to Rece\n",
      "\n",
      "Praost and a connected porn of Reception of Statter Strop of Recorging and I activated in anythe the election of any of a bye the or the Matche Recornive of Recomingging the Drama the Contenated Policon and In Marterrrral Recornive of Patterrrel Recornioted and a connecte of any of a recorned of Me\n",
      "\n",
      "Conten of Receptiooo of Darran of Drama in any of any of a bye by the Morro Recogning Drach Contenartion of Recorging on and I activated in anythe the Macche and a connected and a connecte of and a connected people of Ara Draunggon Patterer and Are Are Are a Mattreaa Recornively of the Structss of \n",
      "\n",
      "####################\n",
      "Temperature: 0.5\n",
      "####################\n",
      "Hery Droatheono Represt as an eatetolator of connected of the Song as an each someood of the scoring reuts of Actival Contens in and a conferam in any stround to a connecte, I afe editing in any of a lot to a Drurylla and Atterrion to Recreate Empte Mattreaa Patterer Poly Rolling and In Challing of\n",
      "\n",
      "Congated an eate of the reuntone so charist and eating the actively of a collate on earten terrigations in and a brorne activatom and Ire-on active the contrate in the More More Constratorrophonee to Alterro Marcyplate and a Darial Confering to Apolomito Patterrels of Mattreaa Recorniocylate of the\n",
      "\n",
      "Conto and Stuck Polite in Contenate Pollium Contents Real Polyptriet Recornioting and It Is Contelly A Draming at ColouryWoron Poly Marchin Rocy Tell Tol Contenarting of Marterrrpisterds and the Artrality Recominggog and the one and I am the on Reen on and Irt in the Someoooo of patri AndryFacks, t\n",
      "\n",
      "####################\n",
      "Temperature: 1.0\n",
      "####################\n",
      "Ecki.rt Rechop patrited at dogmatballing apoloro Indreplate Neurea PINL Pietop sableing my tibred Dallerryvang, shee anyooh egregea the someoooomahotte of Needuun today orn of eidge\n",
      "\n",
      "Droie Connectler in the 2 Kbagao REALLENDC RECE ME RIP\n",
      "\n",
      "horneed in neears an ecoitorna one in briplaryne, no bring you geon the neers of an efthyo my Memsls Draggoi tonel larron  Singleicle Criricming can Apehma\n",
      "\n",
      "Venue:  Nature\n",
      "Number of titles: 591660\n",
      "Sampling:  10 titles\n",
      "Training on 520 character sequences.\n",
      "Epoch 1/1\n",
      " - 4s - loss: 3.7760\n",
      "####################\n",
      "Temperature: 0.2\n",
      "####################\n",
      "Andrases and chromite frenting preorated from and an andious chirshen stratocones\n",
      "\n",
      "Andrases and an andimuresion of the matoman preteing preoorase\n",
      "\n",
      "Andrases and an andimuresion preoranding and chromond matomen chapoication of the preeoryienen\n",
      "\n",
      "####################\n",
      "Temperature: 0.5\n",
      "####################\n",
      "Preseing pretaine and they preorated my schiiting throt the preoorasper and an other preonanning andinorians and evolution and and it mamman finds\n",
      "\n",
      "Andran and another chromon and an insightporn frenchest and chapoice\n",
      "\n",
      "Berry consumproneer mam throober chroming\n",
      "\n",
      "####################\n",
      "Temperature: 1.0\n",
      "####################\n",
      "Calaxy of Ananoxich with and stop\n",
      "\n",
      "Chrenn--- Home Rio\n",
      "\n",
      "Antarront chrorencies or Gares chacos toglent, one mammarese Xbox gardening for Latesidance\n",
      "\n",
      "Venue:  Nature Biotechnology\n",
      "Number of titles: 42827\n",
      "Sampling:  10 titles\n",
      "Training on 762 character sequences.\n",
      "Epoch 1/1\n",
      " - 4s - loss: 2.4947\n",
      "####################\n",
      "Temperature: 0.2\n",
      "####################\n",
      "The sensity of the smallets of the station of the samary of the sparchart of the sensen to the schoom of the sensen sign of solution of the single sensep and enabost out of the ser England and selecting and selects out of selected selects solution and selectto and selects and selecting and selects \n",
      "\n",
      "The specific end of a sparlet and and and selecting and selecting and selects out out on and and selects out of the sensity of the selectan of reguan selling and and selecting and sec the sensen Leath of the schoom of the solutionness and a screen reguativen reguate and selecting and selects out ou\n",
      "\n",
      "The sensity of the sensen says on solution and secoma of the solution of the solution of the supers of the sellation of the samagy and sell and the secorman sells and the samage of the secormer and selecting and end to select and selected me and selects and select and selects out out out on solutio\n",
      "\n",
      "####################\n",
      "Temperature: 0.5\n",
      "####################\n",
      "Neo Less in out of the sech and selected namma fressionny of dragon saf and says to enan out and sensity on mala solution of solutions of solution of a gennismall and respeptop to enabmy mass englant eathe in rating in and sensity is ready and selectie station and net 10 pass sensity to a shoo and \n",
      "\n",
      "The softe reguable of the smeaket of the selett Mass and herators and galls and end out out of a prate and canticued and reguass in reguate soomummey socie piato eners and seast reguate of solution of out solutially sparro and customyling and map solutions of sun and ser on reguals and and sec rati\n",
      "\n",
      "The fuel of saf sort in the fees for series lastiedled sons and predigning and selects out of a cratch of a ser pipal and ten reguans of enamatically suremen and serve of the three in the reguate of some station of the sparrotian to Enabon and insageing and the shoo\n",
      "\n",
      "####################\n",
      "Temperature: 1.0\n",
      "####################\n",
      "Les ticks need guide but for of gener up to upsiee paims reguat \"thregian epilary laun of ctrumaly at the same (I Ghenge to cumolog othishycalls if and an is explationalled to sugato to in fregary ievansia solution and a feel in enummen is dramatially orality commen trug and open entickess\n",
      "\n",
      "I and calls glang and solution.\n",
      "\n",
      "Anyone predglationally and synce atrashes and cutues an obifi polis of groophanades ctuunt sensitly steammalk facility reguatson of enousess on genle spagespopity sepserd cate beta reguat and\n",
      "\n",
      "Venue:  Proceedings of the National Academy of Sciences of the United States of America\n",
      "Number of titles: 656880\n",
      "Sampling:  10 titles\n",
      "Training on 1,052 character sequences.\n",
      "Epoch 1/1\n",
      " - 5s - loss: 3.3070\n",
      "####################\n",
      "Temperature: 0.2\n",
      "####################\n",
      "STALLY A Schil Activation came to cartain cartarian cartarian ccinast cartain cartainer canson in an All call ccan cans out 15 years, and an emblyifitatie and call chris canas to carte cartain cartain cants and altere cartain cracted tracted from cartain communitaes cansable class and and all the c\n",
      "\n",
      "SHACIDALLY ACID SSD SSD SOLLLLFFORRORRORRORRCOLLLY SATAICLE ASIDCORRRORICORLLEE SAMM SOLLLLY SATE A STATE AMI SOLLLLFFORLROCORLLLY SOLLLY SOLLLERE ACID A SOLLLLLYRY ACID SAMM AMIIIIIIIIIIIIIIIIICIICICICHIACID ACID SCICCLOTERSIDCORRROCCIC ACID ACID SAMIRT ACID SSD SSAC SSAC\n",
      "\n",
      "I cants to carta call affeine cartain cartain cartain cartain cartaraactes\n",
      "\n",
      "####################\n",
      "Temperature: 0.5\n",
      "####################\n",
      "SEACLE ACID A ENYYTFACCLEC Au Artem Asla rantesr ccampinovougia-citice call cartain cartraaa cancellar ccred spacinn mouse carted call chris cit-relation\n",
      "\n",
      "She I needen miltion of deplayter\n",
      "\n",
      "Armemeed off homa call cartivia cree in alteres of call attemic cartain compinnslators cansarter cconnin carcnimor carrination twice on the homal and testss conditical collounds out a canadibian deployra call ficing mouse bacterinog and the marchey in bactere\n",
      "\n",
      "####################\n",
      "Temperature: 1.0\n",
      "####################\n",
      "HAPs\n",
      "\n",
      "Offiant self-shirbs, brother sty-than 13 yarders\n",
      "\n",
      "Chrimacamaicalouds broug cartaaf dropbacituye in m2, 13 and 4th cheestop tduses, Brloll domesteretiatiop alardsait\n",
      "\n",
      "Venue:  Science\n",
      "Number of titles: 451457\n",
      "Sampling:  10 titles\n",
      "Training on 609 character sequences.\n",
      "Epoch 1/1\n",
      " - 4s - loss: 2.6529\n",
      "####################\n",
      "Temperature: 0.2\n",
      "####################\n",
      "TSREETENTES OF TENNONENENNOYYYYYYYYYYYYYYON OF TIME MAMMMMMMM¥ 17.\n",
      "\n",
      "STSMASTE TSEXEN OF TIMEEEN ESNT TIMEONENNEEEEEEEN ESTIREEENEET SSET\n",
      "\n",
      "STSU INNTESSSD OF TIMEEENNE TIMENNOE\n",
      "\n",
      "####################\n",
      "Temperature: 0.5\n",
      "####################\n",
      "STREEARESTETSS EVENREENN EUREEEENEEESNEEE GETTORODRYTERS OF TOTAMMEE\n",
      "\n",
      "TBSP 99...\n",
      "\n"
     ]
    },
    {
     "name": "stdout",
     "output_type": "stream",
     "text": [
      "PS4 ESO SMMMMMMMMMMMMMMMMMMMMMMMMMMMMMMMMMMMMMMMMMMMMMMMMMMMMMMMMMMMMMMMMMMMMMMMMMMMMMMMMMMMMMMMMMMMMMMMMMMMMMMMMMMMMMMMMMMMMMMMMMMMMMMMMMMMMMMMMMMMMMMMMMMMMMMMMMMMMMMMMMMMMMMMMMMMMMMMMMMMMMMMMMMMMMMMMMMMMMMMMMMMMMMMMMMMMMMMMMMMMMMMMMMMMMMMMMMMMMMMMMMMMMMMMMMMMMMMMMMMMMMMMMMMMMMMMMMMMMMMMMMMMMMMMMM\n",
      "\n",
      "####################\n",
      "Temperature: 1.0\n",
      "####################\n",
      "17-ymm pulm ear Obtalk\n",
      "\n",
      "MEMMS\n",
      "\n",
      "16 tritn-Newisem Attemblach 11\n",
      "\n"
     ]
    }
   ],
   "source": [
    "for venue in top_5:\n",
    "    gen_titles_short(venue)"
   ]
  },
  {
   "cell_type": "code",
   "execution_count": null,
   "metadata": {},
   "outputs": [],
   "source": [
    "import ast\n",
    "def gen_titles(venue, n_gen=20, epochs=20, batch=128):\n",
    "#     df_titles = pd.read_csv('Train/{}_titles.csv'.format(venue))\n",
    "#     df_titles = pd.read_csv('/tmp/data/titles/Train/{}_titles.csv'.format(venue))\n",
    "    df_titles = pd.read_csv('~/data/titles/Train/{}_titles.csv'.format(venue))    \n",
    "    title_list = df_titles.iloc[0]['titles']\n",
    "    texts = ast.literal_eval(title_list)\n",
    "    print('Venue: ', venue)\n",
    "    print('Number of titles:', len(texts))\n",
    "    textgen = textgenrnn()\n",
    "    textgen.train_on_texts(texts, num_epochs=epochs, gen_epochs=epochs+1, batch_size=batch, verbose=1)\n",
    "    textgen.save('/u/skokada/data/titles/Gen/{}.hdf5'.format(venue))\n",
    "    \n",
    "#     textgen.generate_to_file('Gen/{}_generated.txt'.format(venue),\n",
    "#                     n=n_gen, \n",
    "#                     temperature=[.2 for i in range(len(texts))],\n",
    "#                     max_gen_length=100,\n",
    "#                     progress=False)\n",
    "    textgen.generate_to_file('/u/skokada/data/titles/Gen/{}_generated.txt'.format(venue),\n",
    "                            n=n_gen, \n",
    "                            temperature=[i/n_gen for i in range(n_gen)],\n",
    "                            max_gen_length=100,\n",
    "                            progress=False)\n",
    "    "
   ]
  },
  {
   "cell_type": "code",
   "execution_count": null,
   "metadata": {},
   "outputs": [],
   "source": [
    "import sys\n",
    "venues = top_42\n",
    "for venue in venues:\n",
    "    oldStdout = sys.stdout\n",
    "    file = open('/u/skokada/data/titles/Gen/{}_log.txt'.format(venue), 'w')\n",
    "    sys.stdout = file\n",
    "    gen_titles(venue)\n",
    "    sys.stdout = oldStdout"
   ]
  },
  {
   "cell_type": "code",
   "execution_count": 7,
   "metadata": {},
   "outputs": [
    {
     "data": {
      "text/plain": [
       "591660"
      ]
     },
     "execution_count": 7,
     "metadata": {},
     "output_type": "execute_result"
    }
   ],
   "source": [
    "import ast\n",
    "def gen_titles_concat(venues, n_gen=20, epochs=1, batch=128):\n",
    "    texts = []\n",
    "    for venue in venues: \n",
    "        print('Adding Venue: ', venue)\n",
    "        df_titles = pd.read_csv('~/data/titles/Train/{}_titles.csv'.format(venue))    \n",
    "        title_list = df_titles.iloc[0]['titles']\n",
    "        titles = ast.literal_eval(title_list)\n",
    "        texts.extend(titles)\n",
    "        print('Number of titles for', venue, ':', len(titles))\n",
    "\n",
    "    print('Total number of titles:', len(texts))\n",
    "    \n",
    "    textgen = textgenrnn()\n",
    "    textgen.train_on_texts(texts, num_epochs=epochs, gen_epochs=1, new_model=True, max_length=5,\n",
    "                           save_epochs=1, batch_size=batch, verbose=1, word_level=True)\n",
    "    textgen.save()\n",
    "    textgen.generate_to_file('/u/skokada/data/titles/Gen/concat_generated.txt',\n",
    "                            n=n_gen, \n",
    "                            temperature=[i/n_gen for i in range(n_gen)],\n",
    "                            max_gen_length=100,\n",
    "                            progress=False)\n",
    "    "
   ]
  },
  {
   "cell_type": "code",
   "execution_count": null,
   "metadata": {},
   "outputs": [],
   "source": [
    "import sys\n",
    "venues = top_42\n",
    "oldStdout = sys.stdout\n",
    "file = open('/u/skokada/data/titles/Gen/concat_log.txt', 'w')\n",
    "sys.stdout = file\n",
    "gen_titles_concat(venues)\n",
    "file.close()\n",
    "sys.stdout = oldStdout"
   ]
  }
 ],
 "metadata": {
  "kernelspec": {
   "display_name": "Python 3",
   "language": "python",
   "name": "python3"
  },
  "language_info": {
   "codemirror_mode": {
    "name": "ipython",
    "version": 3
   },
   "file_extension": ".py",
   "mimetype": "text/x-python",
   "name": "python",
   "nbconvert_exporter": "python",
   "pygments_lexer": "ipython3",
   "version": "3.6.7"
  }
 },
 "nbformat": 4,
 "nbformat_minor": 2
}
