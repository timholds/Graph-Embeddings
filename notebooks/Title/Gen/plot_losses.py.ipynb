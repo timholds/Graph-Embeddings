{
 "cells": [
  {
   "cell_type": "code",
   "execution_count": null,
   "metadata": {},
   "outputs": [],
   "source": [
    "import sys\n",
    "old = sys.stdin\n",
    "file = open(\"concat_losses.txt\", \"r\")\n",
    "sys.stdin = file\n",
    "losses = []\n",
    "while True:\n",
    "    try:\n",
    "        losses.append(float(input()))\n",
    "    except:\n",
    "        break\n",
    "print(losses[0:5])\n",
    "print(len(losses))\n",
    "sys.stdin = old\n",
    "from pandas import Series\n",
    "series = Series(losses)\n",
    "from matplotlib import pyplot\n",
    "series.plot()\n",
    "pyplot.savefig(\"losses.png\")\n"
   ]
  }
 ],
 "metadata": {
  "kernelspec": {
   "display_name": "Python 3",
   "language": "python",
   "name": "python3"
  },
  "language_info": {
   "codemirror_mode": {
    "name": "ipython",
    "version": 3
   },
   "file_extension": ".py",
   "mimetype": "text/x-python",
   "name": "python",
   "nbconvert_exporter": "python",
   "pygments_lexer": "ipython3",
   "version": "3.6.7"
  }
 },
 "nbformat": 4,
 "nbformat_minor": 2
}
